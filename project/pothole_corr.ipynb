{
 "cells": [
  {
   "cell_type": "code",
   "execution_count": 1,
   "id": "ebac9a28-3138-4114-bdd0-8e3e44f853c9",
   "metadata": {},
   "outputs": [],
   "source": [
    "import pandas as pd\n",
    "import tensorflow as tf"
   ]
  },
  {
   "cell_type": "code",
   "execution_count": 2,
   "id": "8015d044-c3c0-4a83-856c-5ba3d80bc7a6",
   "metadata": {
    "tags": []
   },
   "outputs": [],
   "source": [
    "import numpy as np\n",
    "import pandas as pd\n",
    "import matplotlib.pyplot as plt\n",
    "import seaborn as sns\n",
    "\n",
    "from matplotlib import rc, font_manager\n",
    "import matplotlib\n",
    "# 한글 처리를 위해 폰트 설정\n",
    "fontname=\"C:/Windows/Fonts/gulim.ttc\"\n",
    "font_name=font_manager.FontProperties(fname=fontname).get_name()\n",
    "matplotlib.rc('font',family=font_name)\n",
    "\n",
    "# 그림 크기\n",
    "plt.rcParams['figure.figsize']=(4,3)\n",
    "# 마이너스 기호(-) 처리\n",
    "plt.rcParams['axes.unicode_minus']=False"
   ]
  },
  {
   "cell_type": "code",
   "execution_count": 3,
   "id": "f189a839-9d44-484d-a934-bb34d654e730",
   "metadata": {},
   "outputs": [],
   "source": [
    "city = pd.read_csv('data/incheon_city.csv')\n",
    "dong_list = list(city['dong'])\n",
    "\n",
    "borders = pd.read_csv('data/update_city_map.csv')"
   ]
  },
  {
   "cell_type": "code",
   "execution_count": null,
   "id": "0f0f7658-9ebd-4fbd-8b4c-4e3856390e04",
   "metadata": {},
   "outputs": [],
   "source": [
    "for idx, dong in enumerate(dong_list):\n",
    "    dong_pd = pd.read_csv('data/weather_3day/%s_3일간_날씨_202101_202112.csv'%dong)\n",
    "    \n",
    "    "
   ]
  },
  {
   "cell_type": "code",
   "execution_count": 8,
   "id": "9c6772e7-5c07-41ae-bcde-4a961bd13c3d",
   "metadata": {},
   "outputs": [
    {
     "data": {
      "image/png": "[encoded data removed]",
      "text/plain": [
       "<Figure size 288x216 with 1 Axes>"
      ]
     },
     "metadata": {
      "needs_background": "light"
     },
     "output_type": "display_data"
    }
   ],
   "source": [
    "height=[100,120,130,140,150,160,170,180,190]\n",
    "foot_size=[200,205,210,220,230,250,270,280,285]\n",
    "plt.scatter(height,foot_size)\n",
    "plt.xlabel('키(cm)')\n",
    "plt.ylabel('발크기(mm)')\n",
    "plt.show()"
   ]
  }
 ],
 "metadata": {
  "kernelspec": {
   "display_name": "Python 3 (ipykernel)",
   "language": "python",
   "name": "python3"
  },
  "language_info": {
   "codemirror_mode": {
    "name": "ipython",
    "version": 3
   },
   "file_extension": ".py",
   "mimetype": "text/x-python",
   "name": "python",
   "nbconvert_exporter": "python",
   "pygments_lexer": "ipython3",
   "version": "3.9.12"
  }
 },
 "nbformat": 4,
 "nbformat_minor": 5
}
