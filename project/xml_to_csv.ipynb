{
 "cells": [
  {
   "cell_type": "code",
   "execution_count": 6,
   "id": "4b465133-3d2a-4485-b964-6703914954fb",
   "metadata": {},
   "outputs": [],
   "source": [
    "import requests\n",
    "import pprint\n",
    "from bs4 import BeautifulSoup\n",
    "import pandas as pd\n",
    "import ssl"
   ]
  },
  {
   "cell_type": "code",
   "execution_count": 4,
   "id": "d9c68d5d-24c2-45b1-b7e3-637d0cd2c62b",
   "metadata": {},
   "outputs": [],
   "source": [
    "from os import name\n",
    "import xml.etree.ElementTree as et\n",
    "import pandas as pd\n",
    "import bs4\n",
    "from lxml import html\n",
    "from urllib.parse import urlencode, quote_plus, unquote"
   ]
  },
  {
   "cell_type": "code",
   "execution_count": 8,
   "id": "4861e865-c452-4b65-b051-5d9019122165",
   "metadata": {
    "collapsed": true,
    "jupyter": {
     "outputs_hidden": true
    },
    "tags": []
   },
   "outputs": [
    {
     "name": "stderr",
     "output_type": "stream",
     "text": [
      "C:\\Users\\USER\\anaconda3\\lib\\site-packages\\urllib3\\connectionpool.py:1043: InsecureRequestWarning: Unverified HTTPS request is being made to host 'apis.data.go.kr'. Adding certificate verification is strongly advised. See: https://urllib3.readthedocs.io/en/1.26.x/advanced-usage.html#ssl-warnings\n",
      "  warnings.warn(\n"
     ]
    },
    {
     "name": "stdout",
     "output_type": "stream",
     "text": [
      "('<?xml version=\"1.0\" encoding=\"UTF-8\" '\n",
      " 'standalone=\"yes\"?><response><header><resultCode>00</resultCode><resultMsg>NORMAL '\n",
      " 'SERVICE.</resultMsg></header><body><items><item><areaname>공암삼거리</areaname><designatedate>20170316  '\n",
      " '</designatedate><managementno>483302017017   '\n",
      " '</managementno><sigun>4833000000</sigun><type>005                           '\n",
      " '</type></item><item><areaname>백야지구</areaname><designatedate>20120323  '\n",
      " '</designatedate><managementno>487202013010   '\n",
      " '</managementno><sigun>4872000000</sigun><type>005                           '\n",
      " '</type></item><item><areaname>중동지구</areaname><designatedate>20120328  '\n",
      " '</designatedate><managementno>487202012009   '\n",
      " '</managementno><sigun>4872025000</sigun><type>005                           '\n",
      " '</type></item><item><areaname>오소지구</areaname><designatedate>20060405  '\n",
      " '</designatedate><managementno>487202006002   '\n",
      " '</managementno><sigun>4872039000</sigun><type>005                           '\n",
      " '</type></item><item><areaname>검암 재해위험지구</areaname><designatedate>20060316  '\n",
      " '</designatedate><managementno>487302006002   '\n",
      " '</managementno><sigun>4873000000</sigun><type>005                           '\n",
      " '</type></item><item><areaname>말산지구</areaname><designatedate>19960628  '\n",
      " '</designatedate><managementno>487301998003   '\n",
      " '</managementno><sigun>4873025000</sigun><type>005                           '\n",
      " '</type></item><item><areaname>매화2-3지구</areaname><designatedate>20161017  '\n",
      " '</designatedate><managementno>479302016012   '\n",
      " '</managementno><sigun>4793000000</sigun><type>005                           '\n",
      " '</type></item><item><areaname>정림3지구</areaname><designatedate>20161017  '\n",
      " '</designatedate><managementno>479302016013   '\n",
      " '</managementno><sigun>4793000000</sigun><type>005                           '\n",
      " '</type></item><item><areaname>삼달지구</areaname><designatedate>20101119  '\n",
      " '</designatedate><managementno>479302011003   '\n",
      " '</managementno><sigun>4793025300</sigun><type>005                           '\n",
      " '</type></item><item><areaname>노음지구</areaname><designatedate>20101119  '\n",
      " '</designatedate><managementno>479302011004   '\n",
      " '</managementno><sigun>4793033000</sigun><type>005                           '\n",
      " '</type></item><item><areaname>광품지구</areaname><designatedate>20101119  '\n",
      " '</designatedate><managementno>479302011005   '\n",
      " '</managementno><sigun>4793036000</sigun><type>005                           '\n",
      " '</type></item><item><areaname>주촌지구</areaname><designatedate>20100506  '\n",
      " '</designatedate><managementno>451902010020   '\n",
      " '</managementno><sigun>4519025000</sigun><type>005                           '\n",
      " '</type></item><item><areaname>장선지구</areaname><designatedate>20091217  '\n",
      " '</designatedate><managementno>457102013024   '\n",
      " '</managementno><sigun>4571038000</sigun><type>005                           '\n",
      " '</type></item><item><areaname>가양지구</areaname><designatedate>20160414  '\n",
      " '</designatedate><managementno>457102016040   '\n",
      " '</managementno><sigun>4571039000</sigun><type>005                           '\n",
      " '</type></item><item><areaname>강정지구</areaname><designatedate>20060224  '\n",
      " '</designatedate><managementno>457202006003   '\n",
      " '</managementno><sigun>4572000000</sigun><type>005                           '\n",
      " '</type></item><item><areaname>포동지구</areaname><designatedate>20060224  '\n",
      " '</designatedate><managementno>457202006002   '\n",
      " '</managementno><sigun>4572036000</sigun><type>005                           '\n",
      " '</type></item><item><areaname>마령 석교지구</areaname><designatedate>20060224  '\n",
      " '</designatedate><managementno>457202006004   '\n",
      " '</managementno><sigun>4572037000</sigun><type>005                           '\n",
      " '</type></item><item><areaname>수분</areaname><designatedate>20150430  '\n",
      " '</designatedate><managementno>457402015013   '\n",
      " '</managementno><sigun>4574025000</sigun><type>005                           '\n",
      " '</type></item><item><areaname>유천</areaname><designatedate>20100716  '\n",
      " '</designatedate><managementno>457402011011   '\n",
      " '</managementno><sigun>4574035000</sigun><sigungu>유천교 '\n",
      " '일원</sigungu><type>005                           '\n",
      " '</type></item><item><areaname>회진</areaname><designatedate>19960823  '\n",
      " '</designatedate><managementno>457501998002   '\n",
      " '</managementno><sigun>4575000000</sigun><type>005                           '\n",
      " '</type></item><item><areaname>수천지구</areaname><designatedate>19960823  '\n",
      " '</designatedate><managementno>457502013015   '\n",
      " '</managementno><sigun>4575000000</sigun><type>005                           '\n",
      " '</type></item><item><areaname>대곡</areaname><designatedate>19960823  '\n",
      " '</designatedate><managementno>457502013016   '\n",
      " '</managementno><sigun>4575025000</sigun><type>005                           '\n",
      " '</type></item><item><areaname>오봉</areaname><designatedate>20060313  '\n",
      " '</designatedate><managementno>457502006004   '\n",
      " '</managementno><sigun>4575034000</sigun><type>005                           '\n",
      " '</type></item><item><areaname>삼봉지구</areaname><designatedate>19960823  '\n",
      " '</designatedate><managementno>457502013014   '\n",
      " '</managementno><sigun>4575034000</sigun><type>005                           '\n",
      " '</type></item><item><areaname>조월</areaname><designatedate>19960823  '\n",
      " '</designatedate><managementno>457501998001   '\n",
      " '</managementno><sigun>4575036000</sigun><type>005                           '\n",
      " '</type></item><item><areaname>오궁</areaname><designatedate>20060313  '\n",
      " '</designatedate><managementno>457502006001   '\n",
      " '</managementno><sigun>4575036000</sigun><type>005                           '\n",
      " '</type></item><item><areaname>세심지구</areaname><designatedate>20060313  '\n",
      " '</designatedate><managementno>457502013013   '\n",
      " '</managementno><sigun>4575037000</sigun><type>005                           '\n",
      " '</type></item><item><areaname>방수</areaname><designatedate>20060313  '\n",
      " '</designatedate><managementno>457502006005   '\n",
      " '</managementno><sigun>4575038000</sigun><type>005                           '\n",
      " '</type></item><item><areaname>상월지구</areaname><designatedate>19960823  '\n",
      " '</designatedate><managementno>457502013012   '\n",
      " '</managementno><sigun>4575038000</sigun><type>005                           '\n",
      " '</type></item><item><areaname>현포2</areaname><designatedate>20160331  '\n",
      " '</designatedate><managementno>457702015020   '\n",
      " '</managementno><sigun>4577032000</sigun><type>005                           '\n",
      " '</type></item><item><areaname>성리재해위험지구</areaname><designatedate>20060314  '\n",
      " '</designatedate><managementno>448102007001   '\n",
      " '</managementno><sigun>4481025300</sigun><type>005                           '\n",
      " '</type></item><item><areaname>대흥재해위험지구</areaname><designatedate>20060314  '\n",
      " '</designatedate><managementno>448102007002   '\n",
      " '</managementno><sigun>4481034000</sigun><type>005                           '\n",
      " '</type></item><item><areaname>나진지구</areaname><designatedate>20150331  '\n",
      " '</designatedate><managementno>415702015008   '\n",
      " '</managementno><sigun>4157051000</sigun><type>005                           '\n",
      " '</type></item><item><areaname>상거지구</areaname><designatedate>20060224  '\n",
      " '</designatedate><managementno>416702016008   '\n",
      " '</managementno><sigun>4167000000</sigun><type>005                           '\n",
      " '</type></item><item><areaname>덕평지구</areaname><designatedate>20060224  '\n",
      " '</designatedate><managementno>416702016011   '\n",
      " '</managementno><sigun>4167000000</sigun><type>005                           '\n",
      " '</type></item><item><areaname>천서</areaname><designatedate>20060224  '\n",
      " '</designatedate><managementno>416702016002   '\n",
      " '</managementno><sigun>4167000000</sigun><type>005                           '\n",
      " '</type></item><item><areaname>서원지구</areaname><designatedate>20060224  '\n",
      " '</designatedate><managementno>416702016005   '\n",
      " '</managementno><sigun>4167000000</sigun><type>005                           '\n",
      " '</type></item><item><areaname>오학</areaname><designatedate>20060624  '\n",
      " '</designatedate><managementno>416702016001   '\n",
      " '</managementno><sigun>4167000000</sigun><type>005                           '\n",
      " '</type></item><item><areaname>장안지구</areaname><designatedate>20060224  '\n",
      " '</designatedate><managementno>416702016012   '\n",
      " '</managementno><sigun>4167000000</sigun><type>005                           '\n",
      " '</type></item><item><areaname>상교지구</areaname><designatedate>20060624  '\n",
      " '</designatedate><managementno>416702016004   '\n",
      " '</managementno><sigun>4167000000</sigun><type>005                           '\n",
      " '</type></item><item><areaname>서학골</areaname><designatedate>20100514  '\n",
      " '</designatedate><managementno>421902011009   '\n",
      " '</managementno><sigun>4219051500</sigun><type>005                           '\n",
      " '</type></item><item><areaname>서석209호</areaname><designatedate>20100608  '\n",
      " '</designatedate><managementno>427202011017   '\n",
      " '</managementno><sigun>4272034000</sigun><type>005                           '\n",
      " '</type></item><item><areaname>청곡재해위험지구</areaname><designatedate>20130220  '\n",
      " '</designatedate><managementno>427302013008   '\n",
      " '</managementno><sigun>4273036000</sigun><type>005                           '\n",
      " '</type></item><item><areaname>구영</areaname><designatedate>20060316  '\n",
      " '</designatedate><managementno>317102006001   '\n",
      " '</managementno><sigun>3171025900</sigun><type>005                           '\n",
      " '</type></item><item><areaname>작동</areaname><designatedate>20080724  '\n",
      " '</designatedate><managementno>317102008004   '\n",
      " '</managementno><sigun>3171040000</sigun><type>005                           '\n",
      " '</type></item><item><areaname>속리산</areaname><designatedate>20131129  '\n",
      " '</designatedate><managementno>437202013010   '\n",
      " '</managementno><sigun>4372000000</sigun><type>005                           '\n",
      " '</type></item><item><areaname>석우제</areaname><designatedate>19961119  '\n",
      " '</designatedate><managementno>442702016010   '\n",
      " '</managementno><sigun>4427000000</sigun><type>005                           '\n",
      " '</type></item><item><areaname>관천</areaname><designatedate>20070727  '\n",
      " '</designatedate><managementno>447102008004   '\n",
      " '</managementno><sigun>4471035000</sigun><type>005                           '\n",
      " '</type></item><item><areaname>금성</areaname><designatedate>20070727  '\n",
      " '</designatedate><managementno>447102008003   '\n",
      " '</managementno><sigun>4471038000</sigun><type>005                           '\n",
      " '</type></item><item><areaname>기대</areaname><designatedate>20060228  '\n",
      " '</designatedate><managementno>437202006005   '\n",
      " '</managementno><sigun>4372033000</sigun><type>005                           '\n",
      " '</type></item><item><areaname>보청</areaname><designatedate>20060303  '\n",
      " '</designatedate><managementno>437202006003   '\n",
      " '</managementno><sigun>4372034000</sigun><type>005                           '\n",
      " '</type></item><item><areaname>창리</areaname><designatedate>20060228  '\n",
      " '</designatedate><managementno>437202006004   '\n",
      " '</managementno><sigun>4372039000</sigun><type>005                           '\n",
      " '</type></item><item><areaname>월전</areaname><designatedate>20100510  '\n",
      " '</designatedate><managementno>437302011005   '\n",
      " '</managementno><sigun>4373037000</sigun><type>005                           '\n",
      " '</type></item><item><areaname>신흥지구</areaname><designatedate>20131107  '\n",
      " '</designatedate><managementno>437402017017   '\n",
      " '</managementno><sigun>4374000000</sigun><type>005                           '\n",
      " '</type></item><item><areaname>추점지구</areaname><designatedate>20100730  '\n",
      " '</designatedate><managementno>437602011012   '\n",
      " '</managementno><sigun>4376000000</sigun><type>005                           '\n",
      " '</type></item><item><areaname>동진지구</areaname><designatedate>20131115  '\n",
      " '</designatedate><managementno>437602013016   '\n",
      " '</managementno><sigun>4376025000</sigun><type>005                           '\n",
      " '</type></item><item><areaname>삼송</areaname><designatedate>20060228  '\n",
      " '</designatedate><managementno>437602006001   '\n",
      " '</managementno><sigun>4376036000</sigun><type>005                           '\n",
      " '</type></item><item><areaname>화양지구</areaname><designatedate>20131115  '\n",
      " '</designatedate><managementno>437602013018   '\n",
      " '</managementno><sigun>4376036000</sigun><type>005                           '\n",
      " '</type></item><item><areaname>장암지구</areaname><designatedate>20100730  '\n",
      " '</designatedate><managementno>437602011013   '\n",
      " '</managementno><sigun>4376037000</sigun><type>005                           '\n",
      " '</type></item><item><areaname>성산지구</areaname><designatedate>20131115  '\n",
      " '</designatedate><managementno>437702013006   '\n",
      " '</managementno><sigun>4377000000</sigun><type>005                           '\n",
      " '</type></item><item><areaname>노천지구</areaname><designatedate>20060228  '\n",
      " '</designatedate><managementno>441802006002   '\n",
      " '</managementno><sigun>4418025000</sigun><type>005                           '\n",
      " '</type></item><item><areaname>개화지구</areaname><designatedate>20121231  '\n",
      " '</designatedate><managementno>441802006003   '\n",
      " '</managementno><sigun>4418040000</sigun><type>005                           '\n",
      " '</type></item><item><areaname>관암지구</areaname><designatedate>20100511  '\n",
      " '</designatedate><managementno>428002011007   '\n",
      " '</managementno><sigun>4280025000</sigun><type>005                           '\n",
      " '</type></item><item><areaname>안대지구</areaname><designatedate>20100511  '\n",
      " '</designatedate><managementno>428002011008   '\n",
      " '</managementno><sigun>4280025000</sigun><type>005                           '\n",
      " '</type></item><item><areaname>한새골지구</areaname><designatedate>20100511  '\n",
      " '</designatedate><managementno>428002011009   '\n",
      " '</managementno><sigun>4280025000</sigun><type>005                           '\n",
      " '</type></item><item><areaname>오리개지구</areaname><designatedate>20100511  '\n",
      " '</designatedate><managementno>428002011010   '\n",
      " '</managementno><sigun>4280025000</sigun><type>005                           '\n",
      " '</type></item><item><areaname>동호지구</areaname><designatedate>20021002  '\n",
      " '</designatedate><managementno>428202013009   '\n",
      " '</managementno><sigun>4282025000</sigun><type>005                           '\n",
      " '</type></item><item><areaname>어천</areaname><designatedate>20150406  '\n",
      " '</designatedate><managementno>428202015016   '\n",
      " '</managementno><sigun>4282025000</sigun><type>005                           '\n",
      " '</type></item><item><areaname>삼포지구</areaname><designatedate>20021002  '\n",
      " '</designatedate><managementno>428202013010   '\n",
      " '</managementno><sigun>4282032000</sigun><type>005                           '\n",
      " '</type></item><item><areaname>인정지구</areaname><designatedate>20021002  '\n",
      " '</designatedate><managementno>428202013015   '\n",
      " '</managementno><sigun>4282032000</sigun><type>005                           '\n",
      " '</type></item><item><areaname>용촌지구</areaname><designatedate>20021002  '\n",
      " '</designatedate><managementno>428202013014   '\n",
      " '</managementno><sigun>4282033000</sigun><type>005                           '\n",
      " '</type></item><item><areaname>발산</areaname><designatedate>20060321  '\n",
      " '</designatedate><managementno>441302007005   '\n",
      " '</managementno><sigun>4413036000</sigun><type>005                           '\n",
      " '</type></item><item><areaname>부성</areaname><designatedate>20060321  '\n",
      " '</designatedate><managementno>441302007003   '\n",
      " '</managementno><sigun>4413061000</sigun><sigungu>롯데칠성음료</sigungu><type>005                           '\n",
      " '</type></item><item><areaname>삽교천(석우제)</areaname><designatedate>19961119  '\n",
      " '</designatedate><managementno>448302002001   '\n",
      " '</managementno><sigun>4483025300</sigun><type>005                           '\n",
      " '</type></item><item><areaname>삼리지구</areaname><designatedate>20070723  '\n",
      " '</designatedate><managementno>416102008003   '\n",
      " '</managementno><sigun>4161025600</sigun><type>005                           '\n",
      " '</type></item><item><areaname>상리지구</areaname><designatedate>20060224  '\n",
      " '</designatedate><managementno>417302006012   '\n",
      " '</managementno><sigun>4173025000</sigun><type>005                           '\n",
      " '</type></item><item><areaname>상거지구</areaname><designatedate>20060224  '\n",
      " '</designatedate><managementno>417302006016   '\n",
      " '</managementno><sigun>4173025000</sigun><type>005                           '\n",
      " '</type></item><item><areaname>오학지구</areaname><designatedate>20060224  '\n",
      " '</designatedate><managementno>417302006019   '\n",
      " '</managementno><sigun>4173025000</sigun><sigungu>오학리</sigungu><type>005                           '\n",
      " '</type></item><item><areaname>덕평지구</areaname><designatedate>20060224  '\n",
      " '</designatedate><managementno>417302013032   '\n",
      " '</managementno><sigun>4173031000</sigun><sigungu>여주군 점동면 덕평리 '\n",
      " '585</sigungu><type>005                           '\n",
      " '</type></item><item><areaname>장안지구</areaname><designatedate>20060224  '\n",
      " '</designatedate><managementno>417302013036   '\n",
      " '</managementno><sigun>4173031000</sigun><sigungu>여주군 점동면 장안리 '\n",
      " '653</sigungu><type>005                           '\n",
      " '</type></item><item><areaname>천서지구</areaname><designatedate>20060224  '\n",
      " '</designatedate><managementno>417302013033   '\n",
      " '</managementno><sigun>4173036000</sigun><sigungu>여주군 대신면 천서리 '\n",
      " '215</sigungu><type>005                           '\n",
      " '</type></item><item><areaname>서원지구</areaname><designatedate>20060224  '\n",
      " '</designatedate><managementno>417302006021   '\n",
      " '</managementno><sigun>4173037000</sigun><type>005                           '\n",
      " '</type></item><item><areaname>상교지구</areaname><designatedate>20060224  '\n",
      " '</designatedate><managementno>417302006022   '\n",
      " '</managementno><sigun>4173037000</sigun><type>005                           '\n",
      " '</type></item><item><areaname>청석지구</areaname><designatedate>20090205  '\n",
      " '</designatedate><managementno>469102009008   '\n",
      " '</managementno><sigun>4691043000</sigun><type>005                           '\n",
      " '</type></item><item><areaname>횡계</areaname><designatedate>20100526  '\n",
      " '</designatedate><managementno>427602010013   '\n",
      " '</managementno><sigun>4276037000</sigun><type>005                           '\n",
      " '</type></item><item><areaname>백전리지구</areaname><designatedate>20121226  '\n",
      " '</designatedate><managementno>427702012015   '\n",
      " '</managementno><sigun>4277031000</sigun><sigungu>백전1교</sigungu><type>005                           '\n",
      " '</type></item><item><areaname>기양지구</areaname><designatedate>20101119  '\n",
      " '</designatedate><managementno>479302011006   '\n",
      " '</managementno><sigun>4793034000</sigun><type>005                           '\n",
      " '</type></item><item><areaname>와룡지구</areaname><designatedate>20100430  '\n",
      " '</designatedate><managementno>468702010008   '\n",
      " '</managementno><sigun>4687025000</sigun><type>005                           '\n",
      " '</type></item><item><areaname>평일지구</areaname><designatedate>20100430  '\n",
      " '</designatedate><managementno>468702010010   '\n",
      " '</managementno><sigun>4687025000</sigun><type>005                           '\n",
      " '</type></item><item><areaname>와우지구</areaname><designatedate>20061018  '\n",
      " '</designatedate><managementno>467102008006   '\n",
      " '</managementno><sigun>4671031000</sigun><type>005                           '\n",
      " '</type></item><item><areaname>주산지구</areaname><designatedate>20061018  '\n",
      " '</designatedate><managementno>467102008007   '\n",
      " '</managementno><sigun>4671032000</sigun><type>005                           '\n",
      " '</type></item><item><areaname>동운지구</areaname><designatedate>20061018  '\n",
      " '</designatedate><managementno>467102008008   '\n",
      " '</managementno><sigun>4671032000</sigun><type>005                           '\n",
      " '</type></item><item><areaname>분향지구</areaname><designatedate>20061018  '\n",
      " '</designatedate><managementno>467102008009   '\n",
      " '</managementno><sigun>4671032000</sigun><type>005                           '\n",
      " '</type></item><item><areaname>봉서지구</areaname><designatedate>20061018  '\n",
      " '</designatedate><managementno>467102008010   '\n",
      " '</managementno><sigun>4671036000</sigun><type>005                           '\n",
      " '</type></item><item><areaname>대성지구</areaname><designatedate>20061018  '\n",
      " '</designatedate><managementno>467102008011   '\n",
      " '</managementno><sigun>4671037000</sigun><type>005                           '\n",
      " '</type></item><item><areaname>월계지구</areaname><designatedate>20061018  '\n",
      " '</designatedate><managementno>467102007002   '\n",
      " '</managementno><sigun>4671038000</sigun><type>005                           '\n",
      " '</type></item><item><areaname>용치지구</areaname><designatedate>20061018  '\n",
      " '</designatedate><managementno>467102007003   '\n",
      " '</managementno><sigun>4671038000</sigun><type>005                           '\n",
      " '</type></item><item><areaname>용흥지구</areaname><designatedate>20061018  '\n",
      " '</designatedate><managementno>467102007001   '\n",
      " '</managementno><sigun>4671039000</sigun><type>005                           '\n",
      " '</type></item><item><areaname>마항지구</areaname><designatedate>20061018  '\n",
      " '</designatedate><managementno>467102008005   '\n",
      " '</managementno><sigun>4671031000</sigun><sigungu>12</sigungu><type>005                           '\n",
      " '</type></item><item><areaname>해창만(포두)</areaname><designatedate>20100514  '\n",
      " '</designatedate><managementno>467702013010   '\n",
      " '</managementno><sigun>4677035000</sigun><type>005                           '\n",
      " '</type></item><item><areaname>유마지구</areaname><designatedate>20090415  '\n",
      " '</designatedate><managementno>467902009005   '\n",
      " '</managementno><sigun>4679041000</sigun><sigungu>유마사 '\n",
      " '입구</sigungu><type>005                           '\n",
      " '</type></item><item><areaname>농안지구</areaname><designatedate>20060224  '\n",
      " '</designatedate><managementno>468002006003   '\n",
      " '</managementno><sigun>4680025300</sigun><type>005                           '\n",
      " '</type></item><item><areaname>어은지구</areaname><designatedate>20060224  '\n",
      " '</designatedate><managementno>468002013026   '\n",
      " '</managementno><sigun>4680025300</sigun><sigungu>일원</sigungu><type>005                           '\n",
      " '</type></item><item><areaname>오산지구</areaname><designatedate>20060224  '\n",
      " '</designatedate><managementno>468002006001   '\n",
      " '</managementno><sigun>4680025600</sigun><sigungu>일원</sigungu><type>005                           '\n",
      " '</type></item><item><areaname>평촌지구</areaname><designatedate>20060224  '\n",
      " '</designatedate><managementno>468002013023   '\n",
      " '</managementno><sigun>4680025600</sigun><sigungu>평촌리</sigungu><type>005                           '\n",
      " '</type></item><item><areaname>배산지구</areaname><designatedate>20040401  '\n",
      " '</designatedate><managementno>468002004002   '\n",
      " '</managementno><sigun>4680033000</sigun><sigungu>일원</sigungu><type>005                           '\n",
      " '</type></item><item><areaname>운월지구</areaname><designatedate>20060204  '\n",
      " '</designatedate><managementno>468002013027   '\n",
      " '</managementno><sigun>4680035000</sigun><sigungu>일원</sigungu><type>005                           '\n",
      " '</type></item><item><areaname>전소천</areaname><designatedate>20060310  '\n",
      " '</designatedate><managementno>281102006001   '\n",
      " '</managementno><sigun>2811062000</sigun><type>005                           '\n",
      " '</type></item><item><areaname>부지지구</areaname><designatedate>20110412  '\n",
      " '</designatedate><managementno>471302011015   '\n",
      " '</managementno><sigun>4713033000</sigun><sigungu>인천교</sigungu><type>005                           '\n",
      " '</type></item><item><areaname>이조지구</areaname><designatedate>20110412  '\n",
      " '</designatedate><managementno>471302011014   '\n",
      " '</managementno><sigun>4713033000</sigun><sigungu>이조교</sigungu><type>005                           '\n",
      " '</type></item><item><areaname>문무지구</areaname><designatedate>20161117  '\n",
      " '</designatedate><managementno>471502016008   '\n",
      " '</managementno><sigun>4715000000</sigun><type>005                           '\n",
      " '</type></item><item><areaname>남호지구</areaname><designatedate>20060228  '\n",
      " '</designatedate><managementno>477702006004   '\n",
      " '</managementno><sigun>4777032000</sigun><type>005                           '\n",
      " '</type></item><item><areaname>괴시지구</areaname><designatedate>20060228  '\n",
      " '</designatedate><managementno>477702006002   '\n",
      " '</managementno><sigun>4777036000</sigun><type>005                           '\n",
      " '</type></item><item><areaname>각리 지구</areaname><designatedate>20141024  '\n",
      " '</designatedate><managementno>477702006001   '\n",
      " '</managementno><sigun>4777037000</sigun><type>005                           '\n",
      " '</type></item><item><areaname>인천1지구</areaname><designatedate>20060228  '\n",
      " '</designatedate><managementno>477702006003   '\n",
      " '</managementno><sigun>4777038000</sigun><type>005                           '\n",
      " '</type></item><item><areaname>소라지구</areaname><designatedate>20100510  '\n",
      " '</designatedate><managementno>478202011004   '\n",
      " '</managementno><sigun>4782025000</sigun><type>005                           '\n",
      " '</type></item><item><areaname>물한지구</areaname><designatedate>20160408  '\n",
      " '</designatedate><managementno>478302015006   '\n",
      " '</managementno><sigun>4783032000</sigun><sigungu>(신간리 '\n",
      " '242)</sigungu><type>005                           '\n",
      " '</type></item><item><areaname>대봉</areaname><designatedate>20150410  '\n",
      " '</designatedate><managementno>478402015010   '\n",
      " '</managementno><sigun>4784032000</sigun><type>005                           '\n",
      " '</type></item><item><areaname>창천</areaname><designatedate>20150410  '\n",
      " '</designatedate><managementno>478402015008   '\n",
      " '</managementno><sigun>4784034000</sigun><type>005                           '\n",
      " '</type></item><item><areaname>수촌</areaname><designatedate>20120411  '\n",
      " '</designatedate><managementno>478402013005   '\n",
      " '</managementno><sigun>4784037000</sigun><type>005                           '\n",
      " '</type></item><item><areaname>봉정</areaname><designatedate>20150410  '\n",
      " '</designatedate><managementno>478402015009   '\n",
      " '</managementno><sigun>4784038000</sigun><type>005                           '\n",
      " '</type></item><item><areaname>대산지구</areaname><designatedate>20131118  '\n",
      " '</designatedate><managementno>478402014007   '\n",
      " '</managementno><sigun>4784039000</sigun><sigungu>삼봉잠수교</sigungu><type>005                           '\n",
      " '</type></item><item><areaname>보손</areaname><designatedate>20140117  '\n",
      " '</designatedate><managementno>478502014002   '\n",
      " '</managementno><sigun>4785025300</sigun><type>005                           '\n",
      " '</type></item><item><areaname>금계지구</areaname><designatedate>20150325  '\n",
      " '</designatedate><managementno>472102015010   '\n",
      " '</managementno><sigun>4721000000</sigun><sigungu>경상북도 영주시 풍기읍 교촌리 '\n",
      " '164-1</sigungu><type>005                           '\n",
      " '</type></item><item><areaname>우곡지구</areaname><designatedate>20150325  '\n",
      " '</designatedate><managementno>472102015011   '\n",
      " '</managementno><sigun>4721035000</sigun><sigungu>경상북도 영주시 안정면 여륵리 '\n",
      " '266</sigungu><type>005                           '\n",
      " '</type></item><item><areaname>신대지구(잠수교)</areaname><designatedate>20121030  '\n",
      " '</designatedate><managementno>472302013007   '\n",
      " '</managementno><sigun>4723025000</sigun><type>005                           '\n",
      " '</type></item><item><areaname>거산지구</areaname><designatedate>20100526  '\n",
      " '</designatedate><managementno>472802012020   '\n",
      " '</managementno><sigun>4728000000</sigun><type>005                           '\n",
      " '</type></item><item><areaname>고요지구</areaname><designatedate>20100526  '\n",
      " '</designatedate><managementno>472802012018   '\n",
      " '</managementno><sigun>4728025000</sigun><type>005                           '\n",
      " '</type></item><item><areaname>전곡1</areaname><designatedate>20070420  '\n",
      " '</designatedate><managementno>472802007005   '\n",
      " '</managementno><sigun>4728025300</sigun><type>005                           '\n",
      " '</type></item><item><areaname>전곡2</areaname><designatedate>20070420  '\n",
      " '</designatedate><managementno>472802007006   '\n",
      " '</managementno><sigun>4728025300</sigun><type>005                           '\n",
      " '</type></item><item><areaname>전곡지구</areaname><designatedate>20100526  '\n",
      " '</designatedate><managementno>472802012015   '\n",
      " '</managementno><sigun>4728025300</sigun><type>005                           '\n",
      " '</type></item><item><areaname>현리지구</areaname><designatedate>20100526  '\n",
      " '</designatedate><managementno>472802012024   '\n",
      " '</managementno><sigun>4728032000</sigun><type>005                           '\n",
      " '</type></item><item><areaname>별암지구</areaname><designatedate>20100526  '\n",
      " '</designatedate><managementno>472802012023   '\n",
      " '</managementno><sigun>4728033000</sigun><type>005                           '\n",
      " '</type></item><item><areaname>막곡지구</areaname><designatedate>20100526  '\n",
      " '</designatedate><managementno>472802012014   '\n",
      " '</managementno><sigun>4728033000</sigun><type>005                           '\n",
      " '</type></item><item><areaname>가도지구</areaname><designatedate>20100526  '\n",
      " '</designatedate><managementno>472802012019   '\n",
      " '</managementno><sigun>4728033000</sigun><type>005                           '\n",
      " '</type></item><item><areaname>내화지구</areaname><designatedate>20100526  '\n",
      " '</designatedate><managementno>472802012016   '\n",
      " '</managementno><sigun>4728034000</sigun><type>005                           '\n",
      " '</type></item><item><areaname>마광지구</areaname><designatedate>20100526  '\n",
      " '</designatedate><managementno>472802012021   '\n",
      " '</managementno><sigun>4728035000</sigun><type>005                           '\n",
      " '</type></item><item><areaname>농암지구</areaname><designatedate>20100526  '\n",
      " '</designatedate><managementno>472802012017   '\n",
      " '</managementno><sigun>4728037000</sigun><type>005                           '\n",
      " '</type></item><item><areaname>내서지구</areaname><designatedate>20100526  '\n",
      " '</designatedate><managementno>472802012022   '\n",
      " '</managementno><sigun>4728037000</sigun><type>005                           '\n",
      " '</type></item><item><areaname>남하지구</areaname><designatedate>20100223  '\n",
      " '</designatedate><managementno>472902011010   '\n",
      " '</managementno><sigun>4729025000</sigun><type>005                           '\n",
      " '</type></item><item><areaname>내량지구</areaname><designatedate>20131120  '\n",
      " '</designatedate><managementno>477202013016   '\n",
      " '</managementno><sigun>4772025000</sigun><type>005                           '\n",
      " '</type></item><item><areaname>못골지구</areaname><designatedate>20100511  '\n",
      " '</designatedate><managementno>477202010006   '\n",
      " '</managementno><sigun>4772025000</sigun><type>005                           '\n",
      " '</type></item><item><areaname>춘산지구</areaname><designatedate>20100511  '\n",
      " '</designatedate><managementno>477202010007   '\n",
      " '</managementno><sigun>4772033000</sigun><type>005                           '\n",
      " '</type></item><item><areaname>이화지구</areaname><designatedate>20100511  '\n",
      " '</designatedate><managementno>477202010008   '\n",
      " '</managementno><sigun>4772034000</sigun><type>005                           '\n",
      " '</type></item><item><areaname>미성지구</areaname><designatedate>20100511  '\n",
      " '</designatedate><managementno>477202010005   '\n",
      " '</managementno><sigun>4772034000</sigun><type>005                           '\n",
      " '</type></item><item><areaname>운산지구</areaname><designatedate>20100511  '\n",
      " '</designatedate><managementno>477202010004   '\n",
      " '</managementno><sigun>4772036000</sigun><type>005                           '\n",
      " '</type></item><item><areaname>장척지구</areaname><designatedate>20100513  '\n",
      " '</designatedate><managementno>477302010010   '\n",
      " '</managementno><sigun>4773035000</sigun><type>005                           '\n",
      " '</type></item><item><areaname>덕천지구</areaname><designatedate>20100513  '\n",
      " '</designatedate><managementno>477302010012   '\n",
      " '</managementno><sigun>4773036000</sigun><type>005                           '\n",
      " '</type></item><item><areaname>교안지구</areaname><designatedate>20100513  '\n",
      " '</designatedate><managementno>477302010015   '\n",
      " '</managementno><sigun>4773045000</sigun><type>005                           '\n",
      " '</type></item><item><areaname>불갑면 방마제</areaname><designatedate>20131015  '\n",
      " '</designatedate><managementno>468702015020   '\n",
      " '</managementno><sigun>4687033000</sigun><type>005                           '\n",
      " '</type></item><item><areaname>불갑면 응봉제</areaname><designatedate>20131015  '\n",
      " '</designatedate><managementno>468702015021   '\n",
      " '</managementno><sigun>4687033000</sigun><type>005                           '\n",
      " '</type></item><item><areaname>순용지구</areaname><designatedate>20100430  '\n",
      " '</designatedate><managementno>468702010011   '\n",
      " '</managementno><sigun>4687033000</sigun><type>005                           '\n",
      " '</type></item><item><areaname>군남면 갈마제</areaname><designatedate>20131015  '\n",
      " '</designatedate><managementno>468702015019   '\n",
      " '</managementno><sigun>4687035000</sigun><type>005                           '\n",
      " '</type></item><item><areaname>필암지구</areaname><designatedate>20100517  '\n",
      " '</designatedate><managementno>468802011005   '\n",
      " '</managementno><sigun>4688036000</sigun><type>005                           '\n",
      " '</type></item><item><areaname>약수지구</areaname><designatedate>20100517  '\n",
      " '</designatedate><managementno>468802011004   '\n",
      " '</managementno><sigun>4688040000</sigun><type>005                           '\n",
      " '</type></item><item><areaname>읍내지구</areaname><designatedate>20090205  '\n",
      " '</designatedate><managementno>469102009002   '\n",
      " '</managementno><sigun>4691025000</sigun><type>005                           '\n",
      " '</type></item><item><areaname>수치지구</areaname><designatedate>20090205  '\n",
      " '</designatedate><managementno>469102009004   '\n",
      " '</managementno><sigun>4691034000</sigun><type>005                           '\n",
      " '</type></item><item><areaname>매실지구</areaname><designatedate>20090205  '\n",
      " '</designatedate><managementno>469102009007   '\n",
      " '</managementno><sigun>4691035000</sigun><type>005                           '\n",
      " '</type></item><item><areaname>안좌한운지구</areaname><designatedate>20061002  '\n",
      " '</designatedate><managementno>469102006001   '\n",
      " '</managementno><sigun>4691040000</sigun><type>005                           '\n",
      " '</type></item><item><areaname>고산지구</areaname><designatedate>20060228  '\n",
      " '</designatedate><managementno>469102009014   '\n",
      " '</managementno><sigun>4691041000</sigun><type>005                           '\n",
      " '</type></item><item><areaname>냉천2지구</areaname><designatedate>20131118  '\n",
      " '</designatedate><managementno>471112014007   '\n",
      " '</managementno><sigun>4711125600</sigun><type>005                           '\n",
      " '</type></item></items><numOfRows>161</numOfRows><pageNo>1</pageNo><totalCount>161</totalCount></body></response>')\n",
      "None\n"
     ]
    }
   ],
   "source": [
    "url='https://apis.data.go.kr/1750000/disasterDistrictService/LocalGovTypeDisasterDistrictListCrntSt?serviceKey=HJ68D5bz%2FqRPlhL9cllA0ZxfYcX1FOlGM4Z7rKvTLbTy2BgxEkibizeIrqVRx1yq4FopjvseaR151d%2FJWf6a9A%3D%3D&type=005&numOfRows=161'\n",
    "response = requests.get(url, verify=False)\n",
    "content=response.text\n",
    "pp = pprint.PrettyPrinter(indent=4)\n",
    "print(pp.pprint(content))"
   ]
  },
  {
   "cell_type": "code",
   "execution_count": 33,
   "id": "854b22cc-de22-4c5e-ba04-157d2718728c",
   "metadata": {
    "tags": []
   },
   "outputs": [
    {
     "ename": "IndexError",
     "evalue": "list index out of range",
     "output_type": "error",
     "traceback": [
      "\u001b[1;31m---------------------------------------------------------------------------\u001b[0m",
      "\u001b[1;31mIndexError\u001b[0m                                Traceback (most recent call last)",
      "Input \u001b[1;32mIn [33]\u001b[0m, in \u001b[0;36m<cell line: 3>\u001b[1;34m()\u001b[0m\n\u001b[0;32m      1\u001b[0m xml_obj \u001b[38;5;241m=\u001b[39m bs4\u001b[38;5;241m.\u001b[39mBeautifulSoup(content,\u001b[38;5;124m'\u001b[39m\u001b[38;5;124mlxml-xml\u001b[39m\u001b[38;5;124m'\u001b[39m)\n\u001b[0;32m      2\u001b[0m rows \u001b[38;5;241m=\u001b[39m xml_obj\u001b[38;5;241m.\u001b[39mfindAll(\u001b[38;5;124m'\u001b[39m\u001b[38;5;124mmanagementno\u001b[39m\u001b[38;5;124m'\u001b[39m)\n\u001b[1;32m----> 3\u001b[0m \u001b[38;5;28mprint\u001b[39m(\u001b[43mrows\u001b[49m\u001b[43m[\u001b[49m\u001b[38;5;241;43m1\u001b[39;49m\u001b[43m]\u001b[49m\u001b[38;5;241m.\u001b[39mtext)\n",
      "\u001b[1;31mIndexError\u001b[0m: list index out of range"
     ]
    }
   ],
   "source": [
    "xml_obj = bs4.BeautifulSoup(content,'lxml-xml')\n",
    "rows = xml_obj.findAll('managementno')\n",
    "print(rows[0].text)"
   ]
  },
  {
   "cell_type": "code",
   "execution_count": 27,
   "id": "1bd0132a-741d-4a21-918b-28ccb0ba7404",
   "metadata": {
    "collapsed": true,
    "jupyter": {
     "outputs_hidden": true
    },
    "tags": []
   },
   "outputs": [
    {
     "data": {
      "text/plain": [
       "['483302017017',\n",
       " '487202013010',\n",
       " '487202012009',\n",
       " '487202006002',\n",
       " '487302006002',\n",
       " '487301998003',\n",
       " '479302016012',\n",
       " '479302016013',\n",
       " '479302011003',\n",
       " '479302011004',\n",
       " '479302011005',\n",
       " '451902010020',\n",
       " '457102013024',\n",
       " '457102016040',\n",
       " '457202006003',\n",
       " '457202006002',\n",
       " '457202006004',\n",
       " '457402015013',\n",
       " '457402011011',\n",
       " '457501998002',\n",
       " '457502013015',\n",
       " '457502013016',\n",
       " '457502006004',\n",
       " '457502013014',\n",
       " '457501998001',\n",
       " '457502006001',\n",
       " '457502013013',\n",
       " '457502006005',\n",
       " '457502013012',\n",
       " '457702015020',\n",
       " '448102007001',\n",
       " '448102007002',\n",
       " '415702015008',\n",
       " '416702016008',\n",
       " '416702016011',\n",
       " '416702016002',\n",
       " '416702016005',\n",
       " '416702016001',\n",
       " '416702016012',\n",
       " '416702016004',\n",
       " '421902011009',\n",
       " '427202011017',\n",
       " '427302013008',\n",
       " '317102006001',\n",
       " '317102008004',\n",
       " '437202013010',\n",
       " '442702016010',\n",
       " '447102008004',\n",
       " '447102008003',\n",
       " '437202006005',\n",
       " '437202006003',\n",
       " '437202006004',\n",
       " '437302011005',\n",
       " '437402017017',\n",
       " '437602011012',\n",
       " '437602013016',\n",
       " '437602006001',\n",
       " '437602013018',\n",
       " '437602011013',\n",
       " '437702013006',\n",
       " '441802006002',\n",
       " '441802006003',\n",
       " '428002011007',\n",
       " '428002011008',\n",
       " '428002011009',\n",
       " '428002011010',\n",
       " '428202013009',\n",
       " '428202015016',\n",
       " '428202013010',\n",
       " '428202013015',\n",
       " '428202013014',\n",
       " '441302007005',\n",
       " '441302007003',\n",
       " '448302002001',\n",
       " '416102008003',\n",
       " '417302006012',\n",
       " '417302006016',\n",
       " '417302006019',\n",
       " '417302013032',\n",
       " '417302013036',\n",
       " '417302013033',\n",
       " '417302006021',\n",
       " '417302006022',\n",
       " '469102009008',\n",
       " '427602010013',\n",
       " '427702012015',\n",
       " '479302011006',\n",
       " '468702010008',\n",
       " '468702010010',\n",
       " '467102008006',\n",
       " '467102008007',\n",
       " '467102008008',\n",
       " '467102008009',\n",
       " '467102008010',\n",
       " '467102008011',\n",
       " '467102007002',\n",
       " '467102007003',\n",
       " '467102007001',\n",
       " '467102008005',\n",
       " '467702013010',\n",
       " '467902009005',\n",
       " '468002006003',\n",
       " '468002013026',\n",
       " '468002006001',\n",
       " '468002013023',\n",
       " '468002004002',\n",
       " '468002013027',\n",
       " '281102006001',\n",
       " '471302011015',\n",
       " '471302011014',\n",
       " '471502016008',\n",
       " '477702006004',\n",
       " '477702006002',\n",
       " '477702006001',\n",
       " '477702006003',\n",
       " '478202011004',\n",
       " '478302015006',\n",
       " '478402015010',\n",
       " '478402015008',\n",
       " '478402013005',\n",
       " '478402015009',\n",
       " '478402014007',\n",
       " '478502014002',\n",
       " '472102015010',\n",
       " '472102015011',\n",
       " '472302013007',\n",
       " '472802012020',\n",
       " '472802012018',\n",
       " '472802007005',\n",
       " '472802007006',\n",
       " '472802012015',\n",
       " '472802012024',\n",
       " '472802012023',\n",
       " '472802012014',\n",
       " '472802012019',\n",
       " '472802012016',\n",
       " '472802012021',\n",
       " '472802012017',\n",
       " '472802012022',\n",
       " '472902011010',\n",
       " '477202013016',\n",
       " '477202010006',\n",
       " '477202010007',\n",
       " '477202010008',\n",
       " '477202010005',\n",
       " '477202010004',\n",
       " '477302010010',\n",
       " '477302010012',\n",
       " '477302010015',\n",
       " '468702015020',\n",
       " '468702015021',\n",
       " '468702010011',\n",
       " '468702015019',\n",
       " '468802011005',\n",
       " '468802011004',\n",
       " '469102009002',\n",
       " '469102009004',\n",
       " '469102009007',\n",
       " '469102006001',\n",
       " '469102009014',\n",
       " '471112014007']"
      ]
     },
     "execution_count": 27,
     "metadata": {},
     "output_type": "execute_result"
    }
   ],
   "source": [
    "value_list = []\n",
    "\n",
    "# xml 안의 데이터 수집\n",
    "for i in range(0, len(rows)):\n",
    "    value = rows[i].text.replace(\" \" ,\"\")\n",
    "    value_list.append(value)\n",
    "value_list"
   ]
  },
  {
   "cell_type": "code",
   "execution_count": null,
   "id": "c94848be-1130-4251-b764-7fb9e0ca7bfd",
   "metadata": {},
   "outputs": [],
   "source": [
    "# 각 행의 컬럼, 이름, 값을 가지는 리스트 만들기\n",
    "row_list = [] # 행값\n",
    "name_list = [] # 열이름값\n",
    "value_list = [] #데이터값\n",
    "\n",
    "# xml 안의 데이터 수집\n",
    "for i in range(0, len(rows)):\n",
    "    columns = rows[i].find_all()\n",
    "    #첫째 행 데이터 수집\n",
    "    for j in range(0,len(columns)):\n",
    "        if i ==0:\n",
    "            # 컬럼 이름 값 저장\n",
    "            name_list.append(columns[j].name)\n",
    "        # 컬럼의 각 데이터 값 저장\n",
    "        value_list.append(columns[j].text)\n",
    "    # 각 행의 value값 전체 저장\n",
    "    row_list.append(value_list)\n",
    "    # 데이터 리스트 값 초기화\n",
    "    value_list=[]\n",
    "\n",
    "#xml값 DataFrame으로 만들기\n",
    "corona_df = pd.DataFrame(row_list, columns=name_list)\n",
    "print(corona_df.head(19)) \n",
    "\n",
    "#DataFrame CSV 파일로 저장\n",
    "corona_df.to_csv('data/corona_kr.csv', encoding='utf-8')"
   ]
  },
  {
   "cell_type": "code",
   "execution_count": 36,
   "id": "29169f68-8141-4ea1-890f-2f6a5629f7f1",
   "metadata": {
    "collapsed": true,
    "jupyter": {
     "outputs_hidden": true
    },
    "tags": []
   },
   "outputs": [
    {
     "name": "stderr",
     "output_type": "stream",
     "text": [
      "C:\\Users\\USER\\anaconda3\\lib\\site-packages\\urllib3\\connectionpool.py:1043: InsecureRequestWarning: Unverified HTTPS request is being made to host 'apis.data.go.kr'. Adding certificate verification is strongly advised. See: https://urllib3.readthedocs.io/en/1.26.x/advanced-usage.html#ssl-warnings\n",
      "  warnings.warn(\n"
     ]
    },
    {
     "name": "stdout",
     "output_type": "stream",
     "text": [
      "<?xml version=\"1.0\" encoding=\"utf-8\"?>\n",
      "<response><header><resultCode>00</resultCode><resultMsg>NORMAL SERVICE.</resultMsg></header><body><item><appnar>1719</appnar><appnrsn>2016.12.22.(1일 강우량 56.5mm) 공암자수료를 통행하던 차량이 급류에 휩쓸려 인명(사망 1명) 및 재산(차량침수)피해 발생함</appnrsn><areaname>공암삼거리</areaname><areanm>경상남도 양산시    </areanm><designatedate>20170316  </designatedate><detailtp>잠수교</detailtp><dstrskargradcd>1</dstrskargradcd><fcltynm>공암잠수교</fcltynm><managementno>483302017017   </managementno><pushahead>1                             </pushahead><riskfctrcn>적은 강우량에도 양산천 급류 발생함으로 안전사고 발생 우려가 예상됨</riskfctrcn><sigun>4833000000</sigun><type>005                           </type><updtdttm>2017-03-17T13:55:25+09:00</updtdttm><wrssmnm>낙동강</wrssmnm></item></body></response>\n",
      "경상남도양산시\n",
      "잠수교\n",
      "<?xml version=\"1.0\" encoding=\"utf-8\"?>\n",
      "<response><header><resultCode>00</resultCode><resultMsg>NORMAL SERVICE.</resultMsg></header><body><item><appnar>1738104</appnar><appnrsn>유실위험지구</appnrsn><areaname>백야지구</areaname><areanm>경상남도 의령군    </areanm><designatedate>20120323  </designatedate><dstrskargradcd>1</dstrskargradcd><fcltymgcnm>건설도시과</fcltymgcnm><fcltymgctelno>5702712</fcltymgctelno><fcltynm>백야교</fcltynm><managementno>487202013010   </managementno><pushahead>3                             </pushahead><riskfctrcn>유실위험</riskfctrcn><sigun>4872000000</sigun><type>005                           </type><updtdttm>2016-07-12T13:09:06+09:00</updtdttm><wrssmnm>낙동강</wrssmnm></item></body></response>\n",
      "경상남도의령군\n",
      "\n"
     ]
    },
    {
     "name": "stderr",
     "output_type": "stream",
     "text": [
      "C:\\Users\\USER\\anaconda3\\lib\\site-packages\\urllib3\\connectionpool.py:1043: InsecureRequestWarning: Unverified HTTPS request is being made to host 'apis.data.go.kr'. Adding certificate verification is strongly advised. See: https://urllib3.readthedocs.io/en/1.26.x/advanced-usage.html#ssl-warnings\n",
      "  warnings.warn(\n",
      "C:\\Users\\USER\\anaconda3\\lib\\site-packages\\urllib3\\connectionpool.py:1043: InsecureRequestWarning: Unverified HTTPS request is being made to host 'apis.data.go.kr'. Adding certificate verification is strongly advised. See: https://urllib3.readthedocs.io/en/1.26.x/advanced-usage.html#ssl-warnings\n",
      "  warnings.warn(\n"
     ]
    },
    {
     "name": "stdout",
     "output_type": "stream",
     "text": [
      "<?xml version=\"1.0\" encoding=\"utf-8\"?>\n",
      " </riskfctrcn><sigun>4872025000</sigun><type>005                           </type><updtdttm>2016-06-30T15:51:15+09:00</updtdttm><wrssmnm>낙동강</wrssmnm></item></body></response>areaname><areanm>경상남도 의령군 의령읍  </areanm><designatedate>20120328  </designatedate><dstrskargradcd>1</dstrskargradcd><fcltymgcnm>의령군</fcltymgcnm><fcltymgctelno>570-2712</fcltymgctelno><fcltynm>의병교</fcltynm><managementno>487202012009   </managementno><pushahead>4                             </pushahead><relisde>20160628</relisde><riskfctrcn>100년 빈도 하천계획홍수위 (18.61m)보다 낮아(H=0.85m) 교량상부공이 유속에 \n",
      "경상남도의령군의령읍\n",
      "\n"
     ]
    },
    {
     "name": "stderr",
     "output_type": "stream",
     "text": [
      "C:\\Users\\USER\\anaconda3\\lib\\site-packages\\urllib3\\connectionpool.py:1043: InsecureRequestWarning: Unverified HTTPS request is being made to host 'apis.data.go.kr'. Adding certificate verification is strongly advised. See: https://urllib3.readthedocs.io/en/1.26.x/advanced-usage.html#ssl-warnings\n",
      "  warnings.warn(\n"
     ]
    },
    {
     "name": "stdout",
     "output_type": "stream",
     "text": [
      "<?xml version=\"1.0\" encoding=\"utf-8\"?>\n",
      "<response><header><resultCode>00</resultCode><resultMsg>NORMAL SERVICE.</resultMsg></header><body><item><appnar>0</appnar><appnrsn>교량유실위험지구</appnrsn><areaname>오소지구</areaname><areanm>경상남도 의령군 부림면  </areanm><designatedate>20060405  </designatedate><detailtp>교량유실</detailtp><dstrskargradcd>1</dstrskargradcd><fcltymgcnm>의령군 건설과</fcltymgcnm><fcltymgctelno>570-2712</fcltymgctelno><fcltynm>오소교</fcltynm><managementno>487202006002   </managementno><pushahead>4                             </pushahead><relisde>20160628</relisde><riskfctrcn>교량유실위험지구</riskfctrcn><sigun>4872039000</sigun><type>005                           </type><updtdttm>2016-06-30T15:49:39+09:00</updtdttm><wrssmnm>낙동강</wrssmnm></item></body></response>\n",
      "경상남도의령군부림면\n",
      "교량유실\n"
     ]
    },
    {
     "name": "stderr",
     "output_type": "stream",
     "text": [
      "C:\\Users\\USER\\anaconda3\\lib\\site-packages\\urllib3\\connectionpool.py:1043: InsecureRequestWarning: Unverified HTTPS request is being made to host 'apis.data.go.kr'. Adding certificate verification is strongly advised. See: https://urllib3.readthedocs.io/en/1.26.x/advanced-usage.html#ssl-warnings\n",
      "  warnings.warn(\n"
     ]
    },
    {
     "name": "stdout",
     "output_type": "stream",
     "text": [
      "<?xml version=\"1.0\" encoding=\"utf-8\"?>\n",
      "<response><header><resultCode>00</resultCode><resultMsg>NORMAL SERVICE.</resultMsg></header><body><item><appnar>50000</appnar><appnrsn>협소교량, 계획홍수위보다 교량고가 낮음</appnrsn><areaname>검암 재해위험지구</areaname><areanm>경상남도 함안군    </areanm><designatedate>20060316  </designatedate><detailtp>유실위험시설</detailtp><dstrskargradcd>2</dstrskargradcd><fcltymgcnm>함안군 안전총괄과</fcltymgcnm><fcltymgctelno>055-580-2764</fcltymgctelno><fcltynm>함안교,하검교</fcltynm><managementno>487302006002   </managementno><pushahead>4                             </pushahead><relisde>20130307</relisde><relisrsn>정비사업 완료</relisrsn><riskfctrcn>협소교량으로 인한 상류부 침수위험</riskfctrcn><sigun>4873000000</sigun><type>005                           </type><updtdttm>2017-01-19T13:14:29+09:00</updtdttm><wrssmnm>낙동강</wrssmnm></item></body></response>\n",
      "경상남도함안군\n",
      "유실위험시설\n"
     ]
    },
    {
     "name": "stderr",
     "output_type": "stream",
     "text": [
      "C:\\Users\\USER\\anaconda3\\lib\\site-packages\\urllib3\\connectionpool.py:1043: InsecureRequestWarning: Unverified HTTPS request is being made to host 'apis.data.go.kr'. Adding certificate verification is strongly advised. See: https://urllib3.readthedocs.io/en/1.26.x/advanced-usage.html#ssl-warnings\n",
      "  warnings.warn(\n"
     ]
    },
    {
     "name": "stdout",
     "output_type": "stream",
     "text": [
      "<?xml version=\"1.0\" encoding=\"utf-8\"?>\n",
      " - 경전선 복선화 사업시행시 이설계획(2010년 예정)</riskfctrcn><sigun>4873025000</sigun><type>005                           </type><updtdttm>2017-01-19T13:16:20+09:00</updtdttm><wrssmnm>낙동강</wrssmnm></item></body></response>reaname><areanm>경상남도 함안군 가야읍  </areanm><designatedate>19960628  </designatedate><detailtp>외수</detailtp><dstrskargradcd>2</dstrskargradcd><fcltymgcnm>함안군 안전총괄과</fcltymgcnm><fcltymgctelno>055-580-2764</fcltymgctelno><fcltynm>광정천</fcltynm><managementno>487301998003   </managementno><pushahead>4                             </pushahead><relisde>20140307</relisde><relisrsn>철로교철거</relisrsn><riskfctrcn>- 경전선 철도교가 신음천 계획홍수위 아래 위치하여 일우량 200mm 이상과 낙동강 홍수발령시 상습침수 우려가 있어 철도교량 개수가 시습함\n",
      "경상남도함안군가야읍\n",
      "외수\n"
     ]
    },
    {
     "name": "stderr",
     "output_type": "stream",
     "text": [
      "C:\\Users\\USER\\anaconda3\\lib\\site-packages\\urllib3\\connectionpool.py:1043: InsecureRequestWarning: Unverified HTTPS request is being made to host 'apis.data.go.kr'. Adding certificate verification is strongly advised. See: https://urllib3.readthedocs.io/en/1.26.x/advanced-usage.html#ssl-warnings\n",
      "  warnings.warn(\n"
     ]
    },
    {
     "name": "stdout",
     "output_type": "stream",
     "text": [
      "<?xml version=\"1.0\" encoding=\"utf-8\"?>\n",
      "<response><header><resultCode>00</resultCode><resultMsg>NORMAL SERVICE.</resultMsg></header><body><item><appnar>2160</appnar><appnrsn>노후교량으로 교량여유고 및 경간장 부족 등 (재난위험시설 D긍급)</appnrsn><areaname>매화2-3지구</areaname><areanm>경상북도 울진군    </areanm><designatedate>20161017  </designatedate><detailtp>침수및 유실</detailtp><dstrskargradcd>3</dstrskargradcd><fcltynm>남수교</fcltynm><managementno>479302016012   </managementno><pushahead>1                             </pushahead><riskfctrcn>여유고 및 경간장 부족, 슬래브 횡균열 및 침하 교각침식 등</riskfctrcn><sigun>4793000000</sigun><type>005                           </type></item></body></response>\n",
      "경상북도울진군\n",
      "침수및유실\n"
     ]
    },
    {
     "name": "stderr",
     "output_type": "stream",
     "text": [
      "C:\\Users\\USER\\anaconda3\\lib\\site-packages\\urllib3\\connectionpool.py:1043: InsecureRequestWarning: Unverified HTTPS request is being made to host 'apis.data.go.kr'. Adding certificate verification is strongly advised. See: https://urllib3.readthedocs.io/en/1.26.x/advanced-usage.html#ssl-warnings\n",
      "  warnings.warn(\n"
     ]
    },
    {
     "name": "stdout",
     "output_type": "stream",
     "text": [
      "<?xml version=\"1.0\" encoding=\"utf-8\"?>\n",
      "<response><header><resultCode>00</resultCode><resultMsg>NORMAL SERVICE.</resultMsg></header><body><item><appnar>8000</appnar><appnrsn>경작을 위한 주민이동이 빈번하며, 노후교량으로 인명피해 우려</appnrsn><areaname>정림3지구</areaname><areanm>경상북도 울진군    </areanm><designatedate>20161017  </designatedate><detailtp>침수및유실</detailtp><dstrskargradcd>3</dstrskargradcd><fcltynm>올미골교</fcltynm><managementno>479302016013   </managementno><pushahead>1                             </pushahead><riskfctrcn>경간장 및 통수단면 부족</riskfctrcn><sigun>4793000000</sigun><type>005                           </type><wrssmnm>낙동강</wrssmnm></item></body></response>\n",
      "경상북도울진군\n",
      "침수및유실\n"
     ]
    },
    {
     "name": "stderr",
     "output_type": "stream",
     "text": [
      "C:\\Users\\USER\\anaconda3\\lib\\site-packages\\urllib3\\connectionpool.py:1043: InsecureRequestWarning: Unverified HTTPS request is being made to host 'apis.data.go.kr'. Adding certificate verification is strongly advised. See: https://urllib3.readthedocs.io/en/1.26.x/advanced-usage.html#ssl-warnings\n",
      "  warnings.warn(\n"
     ]
    },
    {
     "name": "stdout",
     "output_type": "stream",
     "text": [
      "<?xml version=\"1.0\" encoding=\"utf-8\"?>\n",
      "<response><header><resultCode>00</resultCode><resultMsg>NORMAL SERVICE.</resultMsg></header><body><item><appnar>0</appnar><appnrsn>삼달교의 형하여유고 부족</appnrsn><areaname>삼달지구</areaname><areanm>경상북도 울진군 평해읍  </areanm><designatedate>20101119  </designatedate><dstrskargradcd>3</dstrskargradcd><fcltymgcnm>울진군</fcltymgcnm><fcltymgctelno>054-789-6971</fcltymgctelno><fcltynm>삼달교</fcltynm><managementno>479302011003   </managementno><pushahead>4                             </pushahead><riskfctrcn>기존 교량의 단면 부족으로 인한 병목현상으로 홍수위 급상승으로 인접 농경지 침수 우려</riskfctrcn><sigun>4793025300</sigun><type>005                           </type><updtdttm>2015-11-23T21:58:23+09:00</updtdttm><wrssmnm>낙동강</wrssmnm></item></body></response>\n",
      "경상북도울진군평해읍\n",
      "\n"
     ]
    },
    {
     "name": "stderr",
     "output_type": "stream",
     "text": [
      "C:\\Users\\USER\\anaconda3\\lib\\site-packages\\urllib3\\connectionpool.py:1043: InsecureRequestWarning: Unverified HTTPS request is being made to host 'apis.data.go.kr'. Adding certificate verification is strongly advised. See: https://urllib3.readthedocs.io/en/1.26.x/advanced-usage.html#ssl-warnings\n",
      "  warnings.warn(\n"
     ]
    },
    {
     "name": "stdout",
     "output_type": "stream",
     "text": [
      "<?xml version=\"1.0\" encoding=\"utf-8\"?>\n",
      "<response><header><resultCode>00</resultCode><resultMsg>NORMAL SERVICE.</resultMsg></header><body><item><appnar>0</appnar><appnrsn>수곡교의 경간장 및 통수단면 부족</appnrsn><areaname>노음지구</areaname><areanm>경상북도 울진군 근남면  </areanm><designatedate>20101119  </designatedate><dstrskargradcd>3</dstrskargradcd><fcltymgcnm>울진군</fcltymgcnm><fcltymgctelno>054-789-6971</fcltymgctelno><fcltynm>수곡교</fcltynm><managementno>479302011004   </managementno><pushahead>1                             </pushahead><riskfctrcn>수곡교의 통수능력 부족에 따른 성류굴 주변 상가 등 침수 우려</riskfctrcn><sigun>4793033000</sigun><type>005                           </type><updtdttm>2015-11-23T21:58:36+09:00</updtdttm><wrssmnm>낙동강</wrssmnm></item></body></response>\n",
      "경상북도울진군근남면\n",
      "\n",
      "<?xml version=\"1.0\" encoding=\"utf-8\"?>\n",
      "<response><header><resultCode>00</resultCode><resultMsg>NORMAL SERVICE.</resultMsg></header><body><item><appnar>0</appnar><appnrsn>평전교(잠수교)의 형하여유고 부족</appnrsn><areaname>광품지구</areaname><areanm>경상북도 울진군 온정면  </areanm><designatedate>20101119  </designatedate><dstrskargradcd>3</dstrskargradcd><fcltymgcnm>울진군</fcltymgcnm><fcltymgctelno>789-6971</fcltymgctelno><fcltynm>평전교</fcltynm><managementno>479302011005   </managementno><pushahead>3                             </pushahead><riskfctrcn>교량 노후 및 통수단면 부족에 따른 피해발생위험 내포</riskfctrcn><sigun>4793036000</sigun><type>005                           </type><updtdttm>2015-11-23T21:58:46+09:00</updtdttm><wrssmnm>낙동강</wrssmnm></item></body></response>\n",
      "경상북도울진군온정면\n",
      "\n"
     ]
    },
    {
     "name": "stderr",
     "output_type": "stream",
     "text": [
      "C:\\Users\\USER\\anaconda3\\lib\\site-packages\\urllib3\\connectionpool.py:1043: InsecureRequestWarning: Unverified HTTPS request is being made to host 'apis.data.go.kr'. Adding certificate verification is strongly advised. See: https://urllib3.readthedocs.io/en/1.26.x/advanced-usage.html#ssl-warnings\n",
      "  warnings.warn(\n",
      "C:\\Users\\USER\\anaconda3\\lib\\site-packages\\urllib3\\connectionpool.py:1043: InsecureRequestWarning: Unverified HTTPS request is being made to host 'apis.data.go.kr'. Adding certificate verification is strongly advised. See: https://urllib3.readthedocs.io/en/1.26.x/advanced-usage.html#ssl-warnings\n",
      "  warnings.warn(\n"
     ]
    },
    {
     "name": "stdout",
     "output_type": "stream",
     "text": [
      "<?xml version=\"1.0\" encoding=\"utf-8\"?>\n",
      "<response><header><resultCode>00</resultCode><resultMsg>NORMAL SERVICE.</resultMsg></header><body><item><appnar>12000</appnar><appnrsn>급류로돌발성 인명피해우려</appnrsn><areaname>주촌지구</areaname><areanm>전라북도 남원시 운봉읍  </areanm><designatedate>20100506  </designatedate><dstrskargradcd>1</dstrskargradcd><fcltymgcnm>남원시</fcltymgcnm><fcltymgctelno>063-620-6962</fcltymgctelno><fcltynm>교량</fcltynm><managementno>451902010020   </managementno><pushahead>4                             </pushahead><relisde>20130809</relisde><relisrsn>재해위험해소</relisrsn><riskfctrcn>세월교량이 낮고,장마철인근 산,계곡에서 유입되는 급류로 돌발성 인명 피해 우려</riskfctrcn><sigun>4519025000</sigun><type>005                           </type><updtdttm>2016-07-20T13:46:03+09:00</updtdttm><wrssmnm>낙동강</wrssmnm></item></body></response>\n",
      "전라북도남원시운봉읍\n",
      "\n"
     ]
    },
    {
     "name": "stderr",
     "output_type": "stream",
     "text": [
      "C:\\Users\\USER\\anaconda3\\lib\\site-packages\\urllib3\\connectionpool.py:1043: InsecureRequestWarning: Unverified HTTPS request is being made to host 'apis.data.go.kr'. Adding certificate verification is strongly advised. See: https://urllib3.readthedocs.io/en/1.26.x/advanced-usage.html#ssl-warnings\n",
      "  warnings.warn(\n"
     ]
    },
    {
     "name": "stdout",
     "output_type": "stream",
     "text": [
      "<?xml version=\"1.0\" encoding=\"utf-8\"?>\n",
      " 인접 친수위험</riskfctrcn><sigun>4571038000</sigun><type>005                           </type><updtdttm>2015-07-21T19:30:47+09:00</updtdttm><wrssmnm>null</wrssmnm></item></body></response> 완주군 운주면  </areanm><designatedate>20091217  </designatedate><dstrskargradcd>1</dstrskargradcd><fcltymgcnm>완주군</fcltymgcnm><fcltymgctelno>063-290-2933</fcltymgctelno><fcltynm>장선지구(교량)</fcltynm><managementno>457102013024   </managementno><pushahead>4                             </pushahead><relisde>20150312</relisde><relisrsn>공사완료에 따른 위험요인 해소</relisrsn><riskfctrcn>호우시 하천 구조물의 통수단면 부족으로 인한 수위 상승 및 유속증가 유발\n",
      "전라북도완주군운주면\n",
      "\n"
     ]
    },
    {
     "name": "stderr",
     "output_type": "stream",
     "text": [
      "C:\\Users\\USER\\anaconda3\\lib\\site-packages\\urllib3\\connectionpool.py:1043: InsecureRequestWarning: Unverified HTTPS request is being made to host 'apis.data.go.kr'. Adding certificate verification is strongly advised. See: https://urllib3.readthedocs.io/en/1.26.x/advanced-usage.html#ssl-warnings\n",
      "  warnings.warn(\n",
      "C:\\Users\\USER\\anaconda3\\lib\\site-packages\\urllib3\\connectionpool.py:1043: InsecureRequestWarning: Unverified HTTPS request is being made to host 'apis.data.go.kr'. Adding certificate verification is strongly advised. See: https://urllib3.readthedocs.io/en/1.26.x/advanced-usage.html#ssl-warnings\n",
      "  warnings.warn(\n"
     ]
    },
    {
     "name": "stdout",
     "output_type": "stream",
     "text": [
      "<?xml version=\"1.0\" encoding=\"utf-8\"?>\n",
      " 제방유실, 농경지 및 주거지 침수피해 발생 우려 </riskfctrcn><sigun>4571039000</sigun><type>005                           </type><updtdttm>2017-02-24T18:26:04+09:00</updtdttm><wrssmnm>만경강</wrssmnm></item></body></response>areanm><designatedate>20160414  </designatedate><dstrskargradcd>1</dstrskargradcd><fcltynm>고산천</fcltynm><managementno>457102016040   </managementno><pushahead>2                             </pushahead><riskfctrcn>고산천 하류부에 설치된 가양교로 계획홍수위보다 2.2mrk 낮아 경간장이 좁아 협착물로 인한 유수흐름 방해로\n",
      "전라북도완주군화산면\n",
      "\n",
      "<?xml version=\"1.0\" encoding=\"utf-8\"?>\n",
      "<response><header><resultCode>00</resultCode><resultMsg>NORMAL SERVICE.</resultMsg></header><body><item><appnar>1200000</appnar><appnrsn>하폭부족으로 인한 유실위험</appnrsn><areaname>강정지구</areaname><areanm>전라북도 진안군    </areanm><designatedate>20060224  </designatedate><detailtp>유실위험</detailtp><dstrskargradcd>2</dstrskargradcd><fcltymgcnm>진안군청</fcltymgcnm><fcltymgctelno>063-430-2584</fcltymgctelno><fcltynm>은천천</fcltynm><managementno>457202006003   </managementno><pushahead>4                             </pushahead><relisde>20130619</relisde><relisrsn>위험지구 정비완료</relisrsn><riskfctrcn>제방고 및 하천폭 부족</riskfctrcn><sigun>4572000000</sigun><type>005                           </type><updtdttm>2016-07-05T17:27:44+09:00</updtdttm><wrssmnm>섬진강</wrssmnm></item></body></response>\n",
      "전라북도진안군\n",
      "유실위험\n"
     ]
    },
    {
     "name": "stderr",
     "output_type": "stream",
     "text": [
      "C:\\Users\\USER\\anaconda3\\lib\\site-packages\\urllib3\\connectionpool.py:1043: InsecureRequestWarning: Unverified HTTPS request is being made to host 'apis.data.go.kr'. Adding certificate verification is strongly advised. See: https://urllib3.readthedocs.io/en/1.26.x/advanced-usage.html#ssl-warnings\n",
      "  warnings.warn(\n"
     ]
    },
    {
     "name": "stdout",
     "output_type": "stream",
     "text": [
      "<?xml version=\"1.0\" encoding=\"utf-8\"?>\n",
      "<response><header><resultCode>00</resultCode><resultMsg>NORMAL SERVICE.</resultMsg></header><body><item><appnar>600000</appnar><appnrsn>하폭부족으로 인한 침수위험</appnrsn><areaname>포동지구</areaname><areanm>전라북도 진안군 성수면  </areanm><designatedate>20060224  </designatedate><detailtp>유실위험</detailtp><dstrskargradcd>3</dstrskargradcd><fcltymgcnm>진안군청</fcltymgcnm><fcltymgctelno>063-430-2584</fcltymgctelno><fcltynm>섬진강</fcltynm><managementno>457202006002   </managementno><pushahead>4                             </pushahead><relisde>20160602</relisde><relisrsn>위험지구 정비완료</relisrsn><riskfctrcn>제방고 및 하천폭 부족</riskfctrcn><sigun>4572036000</sigun><type>005                           </type><updtdttm>2016-07-05T17:28:42+09:00</updtdttm><wrssmnm>섬진강</wrssmnm></item></body></response>\n",
      "전라북도진안군성수면\n",
      "유실위험\n"
     ]
    },
    {
     "name": "stderr",
     "output_type": "stream",
     "text": [
      "C:\\Users\\USER\\anaconda3\\lib\\site-packages\\urllib3\\connectionpool.py:1043: InsecureRequestWarning: Unverified HTTPS request is being made to host 'apis.data.go.kr'. Adding certificate verification is strongly advised. See: https://urllib3.readthedocs.io/en/1.26.x/advanced-usage.html#ssl-warnings\n",
      "  warnings.warn(\n",
      "C:\\Users\\USER\\anaconda3\\lib\\site-packages\\urllib3\\connectionpool.py:1043: InsecureRequestWarning: Unverified HTTPS request is being made to host 'apis.data.go.kr'. Adding certificate verification is strongly advised. See: https://urllib3.readthedocs.io/en/1.26.x/advanced-usage.html#ssl-warnings\n",
      "  warnings.warn(\n"
     ]
    },
    {
     "name": "stdout",
     "output_type": "stream",
     "text": [
      "<?xml version=\"1.0\" encoding=\"utf-8\"?>\n",
      "<response><header><resultCode>00</resultCode><resultMsg>NORMAL SERVICE.</resultMsg></header><body><item><appnar>1200000</appnar><appnrsn>하폭부족으로 인한 침수위험</appnrsn><areaname>마령 석교지구</areaname><areanm>전라북도 진안군 마령면  </areanm><designatedate>20060224  </designatedate><detailtp>유실위험</detailtp><dstrskargradcd>2</dstrskargradcd><fcltymgcnm>진안군청</fcltymgcnm><fcltymgctelno>063-430-2584</fcltymgctelno><fcltynm>섬진강</fcltynm><managementno>457202006004   </managementno><pushahead>4                             </pushahead><relisde>20130619</relisde><relisrsn>위험지구 정비완료</relisrsn><riskfctrcn>제방고 및 하천폭 부족</riskfctrcn><sigun>4572037000</sigun><type>005                           </type><updtdttm>2016-07-05T17:26:43+09:00</updtdttm><wrssmnm>섬진강</wrssmnm></item></body></response>\n",
      "전라북도진안군마령면\n",
      "유실위험\n",
      "<?xml version=\"1.0\" encoding=\"utf-8\"?>\n",
      "<response><header><resultCode>00</resultCode><resultMsg>NORMAL SERVICE.</resultMsg></header><body><item><appnar>94837</appnar><appnrsn>호안 노후화및 파손으로 유실위험</appnrsn><areaname>수분</areaname><areanm>전라북도 장수군 장수읍  </areanm><designatedate>20150430  </designatedate><detailtp>하천</detailtp><dstrskargradcd>1</dstrskargradcd><fcltymgcnm>장수군청</fcltymgcnm><fcltymgctelno>063-350-2269</fcltymgctelno><fcltynm>수분</fcltynm><managementno>457402015013   </managementno><pushahead>1                             </pushahead><riskfctrcn>호안 노후화및 파손으로 유실위험</riskfctrcn><sigun>4574025000</sigun><type>005                           </type><updtdttm>2017-01-16T17:43:41+09:00</updtdttm><wrssmnm>금강</wrssmnm></item></body></response>\n",
      "전라북도장수군장수읍\n",
      "하천\n",
      "<?xml version=\"1.0\" encoding=\"utf-8\"?>\n",
      "<response><header><resultCode>00</resultCode><resultMsg>NORMAL SERVICE.</resultMsg></header><body><item><appnar>146</appnar><appnrsn>유실위험지구</appnrsn><areaname>유천</areaname><areanm>전라북도 장수군 계남면  </areanm><designatedate>20100716  </designatedate><dstrskargradcd>3</dstrskargradcd><fcltymgcnm>안전재난과</fcltymgcnm><fcltynm>유천</fcltynm><managementno>457402011011   </managementno><pushahead>4                             </pushahead><relisde>20130715</relisde><relisrsn>위험지구정비완료</relisrsn><riskfctrcn>교량연장 부족으로 병목현상 발생</riskfctrcn><sigun>4574035000</sigun><sigungu>유천교 일원</sigungu><type>005                           </type><updtdttm>2016-02-22T20:15:14+09:00</updtdttm><wrssmnm>금강</wrssmnm></item></body></response>\n",
      "전라북도장수군계남면\n",
      "\n"
     ]
    },
    {
     "name": "stderr",
     "output_type": "stream",
     "text": [
      "C:\\Users\\USER\\anaconda3\\lib\\site-packages\\urllib3\\connectionpool.py:1043: InsecureRequestWarning: Unverified HTTPS request is being made to host 'apis.data.go.kr'. Adding certificate verification is strongly advised. See: https://urllib3.readthedocs.io/en/1.26.x/advanced-usage.html#ssl-warnings\n",
      "  warnings.warn(\n",
      "C:\\Users\\USER\\anaconda3\\lib\\site-packages\\urllib3\\connectionpool.py:1043: InsecureRequestWarning: Unverified HTTPS request is being made to host 'apis.data.go.kr'. Adding certificate verification is strongly advised. See: https://urllib3.readthedocs.io/en/1.26.x/advanced-usage.html#ssl-warnings\n",
      "  warnings.warn(\n"
     ]
    },
    {
     "name": "stdout",
     "output_type": "stream",
     "text": [
      "<?xml version=\"1.0\" encoding=\"utf-8\"?>\n",
      " 하천정비기본계획에 의하여 현하폭 40m를 계획하폭 60m로 확장정비.</riskfctrcn><sigun>4575000000</sigun><type>005                           </type><updtdttm>2017-01-16T14:37:25+09:00</updtdttm><wrssmnm>섬진강</wrssmnm></item></body></response> 임실군    </areanm><designatedate>19960823  </designatedate><detailtp>유실위험</detailtp><dstrskargradcd>2</dstrskargradcd><fcltymgcnm>임실군</fcltymgcnm><fcltymgctelno>063-640-2633</fcltymgctelno><fcltynm>갈담천</fcltynm><managementno>457501998002   </managementno><pushahead>3                             </pushahead><riskfctrcn>미개수 하천으로 제방단면이 부족하여 집중호우시 하천이 범람되어 상습침수피해가 빈발하는 지구이며 자체제빙누수로 인한 제방붕괴 위험이 상존하여 하천개수가 요구됨.\n",
      "전라북도임실군\n",
      "유실위험\n"
     ]
    },
    {
     "name": "stderr",
     "output_type": "stream",
     "text": [
      "C:\\Users\\USER\\anaconda3\\lib\\site-packages\\urllib3\\connectionpool.py:1043: InsecureRequestWarning: Unverified HTTPS request is being made to host 'apis.data.go.kr'. Adding certificate verification is strongly advised. See: https://urllib3.readthedocs.io/en/1.26.x/advanced-usage.html#ssl-warnings\n",
      "  warnings.warn(\n"
     ]
    },
    {
     "name": "stdout",
     "output_type": "stream",
     "text": [
      "<?xml version=\"1.0\" encoding=\"utf-8\"?>\n",
      "<response><header><resultCode>00</resultCode><resultMsg>NORMAL SERVICE.</resultMsg></header><body><item><appnar>210000</appnar><appnrsn>하천폭 및 여유고 부족</appnrsn><areaname>수천지구</areaname><areanm>전라북도 임실군    </areanm><designatedate>19960823  </designatedate><detailtp>지방하천</detailtp><dstrskargradcd>1</dstrskargradcd><fcltymgcnm>임실군청</fcltymgcnm><fcltymgctelno>0636402633</fcltymgctelno><fcltynm>제목천</fcltynm><managementno>457502013015   </managementno><pushahead>4                             </pushahead><relisde>20150423</relisde><relisrsn>정비완료</relisrsn><riskfctrcn>하천폭, 여유고 부족 및 기존교량 통수단면 부족</riskfctrcn><sigun>4575000000</sigun><type>005                           </type><updtdttm>2017-01-16T13:22:18+09:00</updtdttm><wrssmnm>null</wrssmnm></item></body></response>\n",
      "전라북도임실군\n",
      "지방하천\n",
      "<?xml version=\"1.0\" encoding=\"utf-8\"?>\n",
      "<response><header><resultCode>00</resultCode><resultMsg>NORMAL SERVICE.</resultMsg></header><body><item><appnar>200000</appnar><appnrsn>하천폭 및 여유고 부족</appnrsn><areaname>대곡</areaname><areanm>전라북도 임실군 임실읍  </areanm><designatedate>19960823  </designatedate><detailtp>지방하천</detailtp><dstrskargradcd>3</dstrskargradcd><fcltymgcnm>임실군</fcltymgcnm><fcltymgctelno>640-2633</fcltymgctelno><fcltynm>대덕천</fcltynm><managementno>457502013016   </managementno><pushahead>3                             </pushahead><riskfctrcn>하천폭 및 여유고 부족등으로 집중호우시 주택 및 농경지 피해</riskfctrcn><sigun>4575025000</sigun><type>005                           </type><updtdttm>2017-01-16T13:18:31+09:00</updtdttm><wrssmnm>섬진강</wrssmnm></item></body></response>\n"
     ]
    },
    {
     "name": "stderr",
     "output_type": "stream",
     "text": [
      "C:\\Users\\USER\\anaconda3\\lib\\site-packages\\urllib3\\connectionpool.py:1043: InsecureRequestWarning: Unverified HTTPS request is being made to host 'apis.data.go.kr'. Adding certificate verification is strongly advised. See: https://urllib3.readthedocs.io/en/1.26.x/advanced-usage.html#ssl-warnings\n",
      "  warnings.warn(\n"
     ]
    },
    {
     "name": "stdout",
     "output_type": "stream",
     "text": [
      "전라북도임실군임실읍\n",
      "지방하천\n"
     ]
    },
    {
     "name": "stderr",
     "output_type": "stream",
     "text": [
      "C:\\Users\\USER\\anaconda3\\lib\\site-packages\\urllib3\\connectionpool.py:1043: InsecureRequestWarning: Unverified HTTPS request is being made to host 'apis.data.go.kr'. Adding certificate verification is strongly advised. See: https://urllib3.readthedocs.io/en/1.26.x/advanced-usage.html#ssl-warnings\n",
      "  warnings.warn(\n"
     ]
    },
    {
     "name": "stdout",
     "output_type": "stream",
     "text": [
      "<?xml version=\"1.0\" encoding=\"utf-8\"?>\n",
      "<response><header><resultCode>00</resultCode><resultMsg>NORMAL SERVICE.</resultMsg></header><body><item><appnar>80000</appnar><appnrsn>하천폭 및 여유고 부족, 세월교 등 으로 재해위험상존</appnrsn><areaname>오봉</areaname><areanm>전라북도 임실군 성수면  </areanm><designatedate>20060313  </designatedate><detailtp>지방하천</detailtp><dstrskargradcd>3</dstrskargradcd><fcltymgcnm>임실군</fcltymgcnm><fcltymgctelno>640-2633</fcltymgctelno><fcltynm>둔남천</fcltynm><managementno>457502006004   </managementno><pushahead>4                             </pushahead><relisde>20150423</relisde><relisrsn>정비완료</relisrsn><riskfctrcn>하천폭이 협소하고 통수단면 부족구조물 등에 의한 하천의 제방 및 농경지 유실 피해 발생</riskfctrcn><sigun>4575034000</sigun><type>005                           </type><updtdttm>2017-01-16T14:24:13+09:00</updtdttm><wrssmnm>섬진강</wrssmnm></item></body></response>\n",
      "전라북도임실군성수면\n",
      "지방하천\n",
      "<?xml version=\"1.0\" encoding=\"utf-8\"?>\n",
      "<response><header><resultCode>00</resultCode><resultMsg>NORMAL SERVICE.</resultMsg></header><body><item><appnar>160000</appnar><appnrsn>하천유실로 인한 주택 및 농경지 피해 우려</appnrsn><areaname>삼봉지구</areaname><areanm>전라북도 임실군 성수면  </areanm><designatedate>19960823  </designatedate><detailtp>지방하천</detailtp><dstrskargradcd>3</dstrskargradcd><fcltymgcnm>안전관리과</fcltymgcnm><fcltymgctelno>063640-2633</fcltymgctelno><fcltynm>삼봉천</fcltynm><managementno>457502013014   </managementno><pushahead>4                             </pushahead><riskfctrcn>하천폭 및 여유고 부족</riskfctrcn><sigun>4575034000</sigun><type>005                           </type><updtdttm>2017-01-16T13:25:55+09:00</updtdttm><wrssmnm>null</wrssmnm></item></body></response>\n",
      "전라북도임실군성수면\n",
      "지방하천\n"
     ]
    },
    {
     "name": "stderr",
     "output_type": "stream",
     "text": [
      "C:\\Users\\USER\\anaconda3\\lib\\site-packages\\urllib3\\connectionpool.py:1043: InsecureRequestWarning: Unverified HTTPS request is being made to host 'apis.data.go.kr'. Adding certificate verification is strongly advised. See: https://urllib3.readthedocs.io/en/1.26.x/advanced-usage.html#ssl-warnings\n",
      "  warnings.warn(\n",
      "C:\\Users\\USER\\anaconda3\\lib\\site-packages\\urllib3\\connectionpool.py:1043: InsecureRequestWarning: Unverified HTTPS request is being made to host 'apis.data.go.kr'. Adding certificate verification is strongly advised. See: https://urllib3.readthedocs.io/en/1.26.x/advanced-usage.html#ssl-warnings\n",
      "  warnings.warn(\n"
     ]
    },
    {
     "name": "stdout",
     "output_type": "stream",
     "text": [
      "<?xml version=\"1.0\" encoding=\"utf-8\"?>\n",
      "<response><header><resultCode>00</resultCode><resultMsg>NORMAL SERVICE.</resultMsg></header><body><item><appnar>1230000</appnar><appnrsn>미 개수 하천으로 일우량 200mm 이상시 상습침수 지역임.</appnrsn><areaname>조월</areaname><areanm>전라북도 임실군 신덕면  </areanm><designatedate>19960823  </designatedate><detailtp>지방하천</detailtp><dstrskargradcd>3</dstrskargradcd><fcltymgcnm>임실군</fcltymgcnm><fcltymgctelno>063-640-2633</fcltymgctelno><fcltynm>옥녀동천</fcltynm><managementno>457501998001   </managementno><pushahead>4                             </pushahead><relisde>20150423</relisde><relisrsn>정비완료</relisrsn><riskfctrcn>제방 통수단면 부족으로 집중호우시 하천 범람으로 상습침수피해 발생</riskfctrcn><sigun>4575036000</sigun><type>005                           </type><updtdttm>2017-01-16T14:51:56+09:00</updtdttm><wrssmnm>섬진강</wrssmnm></item></body></response>\n",
      "전라북도임실군신덕면\n",
      "지방하천\n",
      "<?xml version=\"1.0\" encoding=\"utf-8\"?>\n",
      "<response><header><resultCode>00</resultCode><resultMsg>NORMAL SERVICE.</resultMsg></header><body><item><appnar>110000</appnar><appnrsn>미개수 하천으로 하천폭이 부족하고 교량 여유고 부족</appnrsn><areaname>오궁</areaname><areanm>전라북도 임실군 신덕면  </areanm><designatedate>20060313  </designatedate><detailtp>소하천</detailtp><dstrskargradcd>2</dstrskargradcd><fcltymgcnm>임실군</fcltymgcnm><fcltymgctelno>640-2633</fcltymgctelno><fcltynm>시목천</fcltynm><managementno>457502006001   </managementno><pushahead>3                             </pushahead><riskfctrcn>통수단면 부족으로 집중호우시 하천 범람으로 침수및 유실 피해 우려</riskfctrcn><sigun>4575036000</sigun><type>005                           </type><updtdttm>2017-02-25T14:58:56+09:00</updtdttm><wrssmnm>섬진강</wrssmnm></item></body></response>\n",
      "전라북도임실군신덕면\n",
      "소하천\n"
     ]
    },
    {
     "name": "stderr",
     "output_type": "stream",
     "text": [
      "C:\\Users\\USER\\anaconda3\\lib\\site-packages\\urllib3\\connectionpool.py:1043: InsecureRequestWarning: Unverified HTTPS request is being made to host 'apis.data.go.kr'. Adding certificate verification is strongly advised. See: https://urllib3.readthedocs.io/en/1.26.x/advanced-usage.html#ssl-warnings\n",
      "  warnings.warn(\n",
      "C:\\Users\\USER\\anaconda3\\lib\\site-packages\\urllib3\\connectionpool.py:1043: InsecureRequestWarning: Unverified HTTPS request is being made to host 'apis.data.go.kr'. Adding certificate verification is strongly advised. See: https://urllib3.readthedocs.io/en/1.26.x/advanced-usage.html#ssl-warnings\n",
      "  warnings.warn(\n"
     ]
    },
    {
     "name": "stdout",
     "output_type": "stream",
     "text": [
      "<?xml version=\"1.0\" encoding=\"utf-8\"?>\n",
      "<response><header><resultCode>00</resultCode><resultMsg>NORMAL SERVICE.</resultMsg></header><body><item><appnar>200000</appnar><appnrsn>하천폭 및 여유고 부족</appnrsn><areaname>세심지구</areaname><areanm>전라북도 임실군 삼계면  </areanm><designatedate>20060313  </designatedate><detailtp>소하천</detailtp><dstrskargradcd>3</dstrskargradcd><fcltymgcnm>임실군</fcltymgcnm><fcltymgctelno>063-640-2633</fcltymgctelno><fcltynm>택승천</fcltynm><managementno>457502013013   </managementno><pushahead>4                             </pushahead><relisde>20150423</relisde><relisrsn>정비완료</relisrsn><riskfctrcn>하천폭 및 여유고 부족 및 기존교량의 통수단면적 부족</riskfctrcn><sigun>4575037000</sigun><type>005                           </type><updtdttm>2017-01-16T13:27:51+09:00</updtdttm><wrssmnm>섬진강</wrssmnm></item></body></response>\n",
      "전라북도임실군삼계면\n",
      "소하천\n"
     ]
    },
    {
     "name": "stderr",
     "output_type": "stream",
     "text": [
      "C:\\Users\\USER\\anaconda3\\lib\\site-packages\\urllib3\\connectionpool.py:1043: InsecureRequestWarning: Unverified HTTPS request is being made to host 'apis.data.go.kr'. Adding certificate verification is strongly advised. See: https://urllib3.readthedocs.io/en/1.26.x/advanced-usage.html#ssl-warnings\n",
      "  warnings.warn(\n",
      "C:\\Users\\USER\\anaconda3\\lib\\site-packages\\urllib3\\connectionpool.py:1043: InsecureRequestWarning: Unverified HTTPS request is being made to host 'apis.data.go.kr'. Adding certificate verification is strongly advised. See: https://urllib3.readthedocs.io/en/1.26.x/advanced-usage.html#ssl-warnings\n",
      "  warnings.warn(\n"
     ]
    },
    {
     "name": "stdout",
     "output_type": "stream",
     "text": [
      "<?xml version=\"1.0\" encoding=\"utf-8\"?>\n",
      "<response><header><resultCode>00</resultCode><resultMsg>NORMAL SERVICE.</resultMsg></header><body><item><appnar>310000</appnar><appnrsn>하천폭 및 여유고 부족으로 재해위험상존</appnrsn><areaname>방수</areaname><areanm>전라북도 임실군 관촌면  </areanm><designatedate>20060313  </designatedate><detailtp>지방하천</detailtp><dstrskargradcd>3</dstrskargradcd><fcltymgcnm>임실군</fcltymgcnm><fcltymgctelno>640-2633</fcltymgctelno><fcltynm>섬진강천</fcltynm><managementno>457502006005   </managementno><pushahead>4                             </pushahead><relisde>20150423</relisde><relisrsn>정비완료</relisrsn><riskfctrcn>하천 제방의 여유고 부족 및 부적절한 하천 부속시설물</riskfctrcn><sigun>4575038000</sigun><type>005                           </type><updtdttm>2017-01-16T14:18:59+09:00</updtdttm><wrssmnm>섬진강</wrssmnm></item></body></response>\n",
      "전라북도임실군관촌면\n",
      "지방하천\n",
      "<?xml version=\"1.0\" encoding=\"utf-8\"?>\n",
      "<response><header><resultCode>00</resultCode><resultMsg>NORMAL SERVICE.</resultMsg></header><body><item><appnar>460000</appnar><appnrsn>하천범람으로 인한 하천유실</appnrsn><areaname>상월지구</areaname><areanm>전라북도 임실군 관촌면  </areanm><designatedate>19960823  </designatedate><dstrskargradcd>3</dstrskargradcd><fcltymgcnm>안전관리과</fcltymgcnm><fcltymgctelno>063640-2633</fcltymgctelno><fcltynm>상월천</fcltynm><managementno>457502013012   </managementno><pushahead>4                             </pushahead><relisde>20150423</relisde><relisrsn>정비완료</relisrsn><riskfctrcn>토사 구간인 축제 및 제방 유실로 인한 농경지 침수피해</riskfctrcn><sigun>4575038000</sigun><type>005                           </type><updtdttm>2017-01-16T13:34:48+09:00</updtdttm><wrssmnm>섬진강</wrssmnm></item></body></response>\n",
      "전라북도임실군관촌면\n",
      "\n"
     ]
    },
    {
     "name": "stderr",
     "output_type": "stream",
     "text": [
      "C:\\Users\\USER\\anaconda3\\lib\\site-packages\\urllib3\\connectionpool.py:1043: InsecureRequestWarning: Unverified HTTPS request is being made to host 'apis.data.go.kr'. Adding certificate verification is strongly advised. See: https://urllib3.readthedocs.io/en/1.26.x/advanced-usage.html#ssl-warnings\n",
      "  warnings.warn(\n"
     ]
    },
    {
     "name": "stdout",
     "output_type": "stream",
     "text": [
      "<?xml version=\"1.0\" encoding=\"utf-8\"?>\n",
      " - 주거지 인접한 오수천 우안 호안 유실 및 설탄보에서 연결된 도수로 노후화로 인한 축대 붕괴 및 고임돌 이탈현상에 의한 위험</riskfctrcn><sigun>4577032000</sigun><type>005                           </type><updtdttm>2017-02-24T09:48:15+09:00</updtdttm><wrssmnm>null</wrssmnm></item></body></response>><dstrskargradcd>3</dstrskargradcd><fcltymgcnm>동계면사무소</fcltymgcnm><fcltymgctelno>0636505724</fcltymgctelno><fcltynm>오수천</fcltynm><managementno>457702015020   </managementno><pushahead>2                             </pushahead><riskfctrcn> - 동계면 소재지 인근 여유고 부족 및 파라핏 노후로 인한 붕괴 위험\n",
      "전라북도순창군동계면\n",
      "\n"
     ]
    },
    {
     "name": "stderr",
     "output_type": "stream",
     "text": [
      "C:\\Users\\USER\\anaconda3\\lib\\site-packages\\urllib3\\connectionpool.py:1043: InsecureRequestWarning: Unverified HTTPS request is being made to host 'apis.data.go.kr'. Adding certificate verification is strongly advised. See: https://urllib3.readthedocs.io/en/1.26.x/advanced-usage.html#ssl-warnings\n",
      "  warnings.warn(\n",
      "C:\\Users\\USER\\anaconda3\\lib\\site-packages\\urllib3\\connectionpool.py:1043: InsecureRequestWarning: Unverified HTTPS request is being made to host 'apis.data.go.kr'. Adding certificate verification is strongly advised. See: https://urllib3.readthedocs.io/en/1.26.x/advanced-usage.html#ssl-warnings\n",
      "  warnings.warn(\n"
     ]
    },
    {
     "name": "stdout",
     "output_type": "stream",
     "text": [
      "<?xml version=\"1.0\" encoding=\"utf-8\"?>\n",
      "<response><header><resultCode>00</resultCode><resultMsg>NORMAL SERVICE.</resultMsg></header><body><item><appnar>596000</appnar><appnrsn>하천통수단면 부족</appnrsn><areaname>성리재해위험지구</areaname><areanm>충청남도 예산군 삽교읍  </areanm><designatedate>20060314  </designatedate><detailtp>지방2급하천</detailtp><dstrskargradcd>2</dstrskargradcd><fcltymgcnm>예산군 안전관리과</fcltymgcnm><fcltymgctelno>041-339-7772</fcltymgctelno><fcltynm>성리천</fcltynm><managementno>448102007001   </managementno><pushahead>3                             </pushahead><riskfctrcn>하천단면부족으로 하천유실 및 농경지 침수</riskfctrcn><sigun>4481025300</sigun><type>005                           </type><updtdttm>2016-07-22T16:08:29+09:00</updtdttm><wrssmnm>삽교천</wrssmnm></item></body></response>\n",
      "충청남도예산군삽교읍\n",
      "지방2급하천\n",
      "<?xml version=\"1.0\" encoding=\"utf-8\"?>\n",
      "<response><header><resultCode>00</resultCode><resultMsg>NORMAL SERVICE.</resultMsg></header><body><item><appnrsn>하천통수단면 부족</appnrsn><areaname>대흥재해위험지구</areaname><areanm>충청남도 예산군 대흥면  </areanm><designatedate>20060314  </designatedate><dstrskargradcd>1</dstrskargradcd><fcltymgcnm>예산군 재난관리과</fcltymgcnm><fcltymgctelno>041-339-7772</fcltymgctelno><fcltynm>동서리천, 상중1천</fcltynm><managementno>448102007002   </managementno><pushahead>4                             </pushahead><relisde>20130630</relisde><relisrsn>하천정비 완료로 위험요인 해소</relisrsn><riskfctrcn>하천 단면부족으로 하천범람, 농경지 침수</riskfctrcn><sigun>4481034000</sigun><type>005                           </type><updtdttm>2013-06-04T15:20:33+09:00</updtdttm><wrssmnm>삽교천</wrssmnm></item></body></response>\n",
      "충청남도예산군대흥면\n",
      "\n"
     ]
    },
    {
     "name": "stderr",
     "output_type": "stream",
     "text": [
      "C:\\Users\\USER\\anaconda3\\lib\\site-packages\\urllib3\\connectionpool.py:1043: InsecureRequestWarning: Unverified HTTPS request is being made to host 'apis.data.go.kr'. Adding certificate verification is strongly advised. See: https://urllib3.readthedocs.io/en/1.26.x/advanced-usage.html#ssl-warnings\n",
      "  warnings.warn(\n",
      "C:\\Users\\USER\\anaconda3\\lib\\site-packages\\urllib3\\connectionpool.py:1043: InsecureRequestWarning: Unverified HTTPS request is being made to host 'apis.data.go.kr'. Adding certificate verification is strongly advised. See: https://urllib3.readthedocs.io/en/1.26.x/advanced-usage.html#ssl-warnings\n",
      "  warnings.warn(\n"
     ]
    },
    {
     "name": "stdout",
     "output_type": "stream",
     "text": [
      "<?xml version=\"1.0\" encoding=\"utf-8\"?>\n",
      "<response><header><resultCode>00</resultCode><resultMsg>NORMAL SERVICE.</resultMsg></header><body><item><appnrsn>나진교 통수능 부족</appnrsn><areaname>나진지구</areaname><areanm>경기도 김포시 김포1동</areanm><designatedate>20150331  </designatedate><detailtp>교량유실</detailtp><dstrskargradcd>2</dstrskargradcd><fcltymgcnm>김포시청</fcltymgcnm><fcltymgctelno>031-980-2923</fcltymgctelno><fcltynm>나진지구</fcltynm><managementno>415702015008   </managementno><pushahead>1                             </pushahead><riskfctrcn>나진교 유실</riskfctrcn><sigun>4157051000</sigun><type>005                           </type><updtdttm>2015-04-06T14:55:23+09:00</updtdttm><wrssmnm>한강</wrssmnm></item></body></response>\n",
      "경기도김포시김포1동\n",
      "교량유실\n",
      "<?xml version=\"1.0\" encoding=\"utf-8\"?>\n",
      "<response><header><resultCode>00</resultCode><resultMsg>NORMAL SERVICE.</resultMsg></header><body><item><appnrsn>하천범람</appnrsn><areaname>상거지구</areaname><areanm>경기도 여주시    </areanm><designatedate>20060224  </designatedate><dstrskargradcd>3</dstrskargradcd><fcltymgcnm>여주시 안전총괄과</fcltymgcnm><fcltymgctelno>0318872552</fcltymgctelno><fcltynm>소하천</fcltynm><managementno>416702016008   </managementno><pushahead>4                             </pushahead><relisde>20130104</relisde><relisrsn>보수.보강공사 완료</relisrsn><sigun>4167000000</sigun><type>005                           </type><wrssmnm>기타</wrssmnm></item></body></response>\n",
      "경기도여주시\n",
      "\n",
      "<?xml version=\"1.0\" encoding=\"utf-8\"?>\n",
      "<response><header><resultCode>00</resultCode><resultMsg>NORMAL SERVICE.</resultMsg></header><body><item><appnrsn>하천범람</appnrsn><areaname>덕평지구</areaname><areanm>경기도 여주시    </areanm><designatedate>20060224  </designatedate><dstrskargradcd>3</dstrskargradcd><fcltymgcnm>여주시 안전총괄과</fcltymgcnm><fcltymgctelno>0318872552</fcltymgctelno><fcltynm>소하천</fcltynm><managementno>416702016011   </managementno><pushahead>4                             </pushahead><relisde>20130104</relisde><relisrsn>보수.보강공사 완료</relisrsn><sigun>4167000000</sigun><type>005                           </type><wrssmnm>기타</wrssmnm></item></body></response>\n",
      "경기도여주시\n",
      "\n"
     ]
    },
    {
     "name": "stderr",
     "output_type": "stream",
     "text": [
      "C:\\Users\\USER\\anaconda3\\lib\\site-packages\\urllib3\\connectionpool.py:1043: InsecureRequestWarning: Unverified HTTPS request is being made to host 'apis.data.go.kr'. Adding certificate verification is strongly advised. See: https://urllib3.readthedocs.io/en/1.26.x/advanced-usage.html#ssl-warnings\n",
      "  warnings.warn(\n",
      "C:\\Users\\USER\\anaconda3\\lib\\site-packages\\urllib3\\connectionpool.py:1043: InsecureRequestWarning: Unverified HTTPS request is being made to host 'apis.data.go.kr'. Adding certificate verification is strongly advised. See: https://urllib3.readthedocs.io/en/1.26.x/advanced-usage.html#ssl-warnings\n",
      "  warnings.warn(\n"
     ]
    },
    {
     "name": "stdout",
     "output_type": "stream",
     "text": [
      "<?xml version=\"1.0\" encoding=\"utf-8\"?>\n",
      "<response><header><resultCode>00</resultCode><resultMsg>NORMAL SERVICE.</resultMsg></header><body><item><appnrsn>집중호우시 유실위험</appnrsn><areaname>천서</areaname><areanm>경기도 여주시    </areanm><designatedate>20060224  </designatedate><dstrskargradcd>3</dstrskargradcd><fcltymgcnm>여주시 안전총괄과</fcltymgcnm><fcltymgctelno>031-887-2552</fcltymgctelno><fcltynm>하천</fcltynm><managementno>416702016002   </managementno><pushahead>4                             </pushahead><relisde>20090630</relisde><relisrsn>보수.보강공사 완료</relisrsn><riskfctrcn>우수범람</riskfctrcn><sigun>4167000000</sigun><type>005                           </type><wrssmnm>한강</wrssmnm></item></body></response>\n",
      "경기도여주시\n",
      "\n",
      "<?xml version=\"1.0\" encoding=\"utf-8\"?>\n",
      "<response><header><resultCode>00</resultCode><resultMsg>NORMAL SERVICE.</resultMsg></header><body><item><appnrsn>우수범람</appnrsn><areaname>서원지구</areaname><areanm>경기도 여주시    </areanm><designatedate>20060224  </designatedate><dstrskargradcd>3</dstrskargradcd><fcltymgcnm>여주시 안전총괄과</fcltymgcnm><fcltymgctelno>0318872552</fcltymgctelno><fcltynm>소하천</fcltynm><managementno>416702016005   </managementno><pushahead>4                             </pushahead><relisde>20130104</relisde><relisrsn>보수.보강공사 완료</relisrsn><sigun>4167000000</sigun><type>005                           </type><wrssmnm>기타</wrssmnm></item></body></response>\n",
      "경기도여주시\n",
      "\n"
     ]
    },
    {
     "name": "stderr",
     "output_type": "stream",
     "text": [
      "C:\\Users\\USER\\anaconda3\\lib\\site-packages\\urllib3\\connectionpool.py:1043: InsecureRequestWarning: Unverified HTTPS request is being made to host 'apis.data.go.kr'. Adding certificate verification is strongly advised. See: https://urllib3.readthedocs.io/en/1.26.x/advanced-usage.html#ssl-warnings\n",
      "  warnings.warn(\n",
      "C:\\Users\\USER\\anaconda3\\lib\\site-packages\\urllib3\\connectionpool.py:1043: InsecureRequestWarning: Unverified HTTPS request is being made to host 'apis.data.go.kr'. Adding certificate verification is strongly advised. See: https://urllib3.readthedocs.io/en/1.26.x/advanced-usage.html#ssl-warnings\n",
      "  warnings.warn(\n"
     ]
    },
    {
     "name": "stdout",
     "output_type": "stream",
     "text": [
      "<?xml version=\"1.0\" encoding=\"utf-8\"?>\n",
      "<response><header><resultCode>00</resultCode><resultMsg>NORMAL SERVICE.</resultMsg></header><body><item><appnar>4500</appnar><appnrsn>집중호우시 유실위험</appnrsn><areaname>오학</areaname><areanm>경기도 여주시    </areanm><designatedate>20060624  </designatedate><dstrskargradcd>3</dstrskargradcd><fcltymgcnm>여주시청 안전총괄과</fcltymgcnm><fcltymgctelno>031-887-2552</fcltymgctelno><fcltynm>소하천</fcltynm><managementno>416702016001   </managementno><pushahead>1                             </pushahead><riskfctrcn>우수범람</riskfctrcn><sigun>4167000000</sigun><type>005                           </type><wrssmnm>기타</wrssmnm></item></body></response>\n",
      "경기도여주시\n",
      "\n",
      "<?xml version=\"1.0\" encoding=\"utf-8\"?>\n",
      "<response><header><resultCode>00</resultCode><resultMsg>NORMAL SERVICE.</resultMsg></header><body><item><appnrsn>하천범람</appnrsn><areaname>장안지구</areaname><areanm>경기도 여주시    </areanm><designatedate>20060224  </designatedate><dstrskargradcd>3</dstrskargradcd><fcltymgcnm>여주시 안전총괄과</fcltymgcnm><fcltymgctelno>0318872552</fcltymgctelno><fcltynm>소하천</fcltynm><managementno>416702016012   </managementno><pushahead>4                             </pushahead><relisde>20090630</relisde><relisrsn>보수.보강공사 완료</relisrsn><sigun>4167000000</sigun><type>005                           </type><wrssmnm>기타</wrssmnm></item></body></response>\n",
      "경기도여주시\n",
      "\n"
     ]
    },
    {
     "name": "stderr",
     "output_type": "stream",
     "text": [
      "C:\\Users\\USER\\anaconda3\\lib\\site-packages\\urllib3\\connectionpool.py:1043: InsecureRequestWarning: Unverified HTTPS request is being made to host 'apis.data.go.kr'. Adding certificate verification is strongly advised. See: https://urllib3.readthedocs.io/en/1.26.x/advanced-usage.html#ssl-warnings\n",
      "  warnings.warn(\n",
      "C:\\Users\\USER\\anaconda3\\lib\\site-packages\\urllib3\\connectionpool.py:1043: InsecureRequestWarning: Unverified HTTPS request is being made to host 'apis.data.go.kr'. Adding certificate verification is strongly advised. See: https://urllib3.readthedocs.io/en/1.26.x/advanced-usage.html#ssl-warnings\n",
      "  warnings.warn(\n"
     ]
    },
    {
     "name": "stdout",
     "output_type": "stream",
     "text": [
      "<?xml version=\"1.0\" encoding=\"utf-8\"?>\n",
      "<response><header><resultCode>00</resultCode><resultMsg>NORMAL SERVICE.</resultMsg></header><body><item><appnrsn>우수범람</appnrsn><areaname>상교지구</areaname><areanm>경기도 여주시    </areanm><designatedate>20060624  </designatedate><dstrskargradcd>3</dstrskargradcd><fcltymgcnm>여주시 안전총괄과</fcltymgcnm><fcltymgctelno>0318872552</fcltymgctelno><fcltynm>소하천</fcltynm><managementno>416702016004   </managementno><pushahead>4                             </pushahead><relisde>20130104</relisde><riskfctrcn>보수.보강공사 완료</riskfctrcn><sigun>4167000000</sigun><type>005                           </type><wrssmnm>기타</wrssmnm></item></body></response>\n",
      "경기도여주시\n",
      "\n",
      "<?xml version=\"1.0\" encoding=\"utf-8\"?>\n",
      "<response><header><resultCode>00</resultCode><resultMsg>NORMAL SERVICE.</resultMsg></header><body><item><appnar>4600</appnar><appnrsn>하천 통수단면 부족으로 하천수 범람</appnrsn><areaname>서학골</areaname><areanm>강원도 태백시 황지동</areanm><designatedate>20100514  </designatedate><detailtp>유실</detailtp><dstrskargradcd>2</dstrskargradcd><fcltymgcnm>태백시청</fcltymgcnm><fcltymgctelno>033-550-3022</fcltymgctelno><fcltynm>서학골천</fcltynm><managementno>421902011009   </managementno><pushahead>4                             </pushahead><relisde>20121226</relisde><riskfctrcn>하천 통수단면 부족</riskfctrcn><sigun>4219051500</sigun><type>005                           </type><updtdttm>2015-12-01T18:03:02+09:00</updtdttm><wrssmnm>낙동강</wrssmnm></item></body></response>\n",
      "강원도태백시황지동\n",
      "유실\n"
     ]
    },
    {
     "name": "stderr",
     "output_type": "stream",
     "text": [
      "C:\\Users\\USER\\anaconda3\\lib\\site-packages\\urllib3\\connectionpool.py:1043: InsecureRequestWarning: Unverified HTTPS request is being made to host 'apis.data.go.kr'. Adding certificate verification is strongly advised. See: https://urllib3.readthedocs.io/en/1.26.x/advanced-usage.html#ssl-warnings\n",
      "  warnings.warn(\n",
      "C:\\Users\\USER\\anaconda3\\lib\\site-packages\\urllib3\\connectionpool.py:1043: InsecureRequestWarning: Unverified HTTPS request is being made to host 'apis.data.go.kr'. Adding certificate verification is strongly advised. See: https://urllib3.readthedocs.io/en/1.26.x/advanced-usage.html#ssl-warnings\n",
      "  warnings.warn(\n"
     ]
    },
    {
     "name": "stdout",
     "output_type": "stream",
     "text": [
      "<?xml version=\"1.0\" encoding=\"utf-8\"?>\n",
      "<response><header><resultCode>00</resultCode><resultMsg>NORMAL SERVICE.</resultMsg></header><body><item><appnar>540</appnar><appnrsn>집중호우시 도로 및 교량침수</appnrsn><areaname>서석209호</areaname><areanm>강원도 홍천군 서석면  </areanm><designatedate>20100608  </designatedate><dstrskargradcd>3</dstrskargradcd><fcltymgcnm>홍천군</fcltymgcnm><fcltymgctelno>033-430-2853</fcltymgctelno><fcltynm>도로(교량)</fcltynm><managementno>427202011017   </managementno><pushahead>1                             </pushahead><riskfctrcn>교량침수로 유실 우려</riskfctrcn><sigun>4272034000</sigun><type>005                           </type><updtdttm>2016-03-18T13:53:02+09:00</updtdttm><wrssmnm>null</wrssmnm></item></body></response>\n",
      "강원도홍천군서석면\n",
      "\n"
     ]
    },
    {
     "name": "stderr",
     "output_type": "stream",
     "text": [
      "C:\\Users\\USER\\anaconda3\\lib\\site-packages\\urllib3\\connectionpool.py:1043: InsecureRequestWarning: Unverified HTTPS request is being made to host 'apis.data.go.kr'. Adding certificate verification is strongly advised. See: https://urllib3.readthedocs.io/en/1.26.x/advanced-usage.html#ssl-warnings\n",
      "  warnings.warn(\n"
     ]
    },
    {
     "name": "stdout",
     "output_type": "stream",
     "text": [
      "<?xml version=\"1.0\" encoding=\"utf-8\"?>\n",
      "<response><header><resultCode>00</resultCode><resultMsg>NORMAL SERVICE.</resultMsg></header><body><item><appnar>0</appnar><appnrsn>집중호우시 유실위험</appnrsn><areaname>청곡재해위험지구</areaname><areanm>강원도 횡성군 공근면  </areanm><designatedate>20130220  </designatedate><detailtp>유실위험</detailtp><dstrskargradcd>3</dstrskargradcd><fcltymgcnm>강원도도로관리사업소</fcltymgcnm><fcltymgctelno>737-6815</fcltymgctelno><fcltynm>청곡교</fcltynm><managementno>427302013008   </managementno><pushahead>4                             </pushahead><relisde>20160314</relisde><riskfctrcn>청곡교 통수단면 부족에따른 제방월류및교량유실위험</riskfctrcn><sigun>4273036000</sigun><type>005                           </type><updtdttm>2016-03-18T11:22:25+09:00</updtdttm><wrssmnm>null</wrssmnm></item></body></response>\n",
      "강원도횡성군공근면\n",
      "유실위험\n"
     ]
    },
    {
     "name": "stderr",
     "output_type": "stream",
     "text": [
      "C:\\Users\\USER\\anaconda3\\lib\\site-packages\\urllib3\\connectionpool.py:1043: InsecureRequestWarning: Unverified HTTPS request is being made to host 'apis.data.go.kr'. Adding certificate verification is strongly advised. See: https://urllib3.readthedocs.io/en/1.26.x/advanced-usage.html#ssl-warnings\n",
      "  warnings.warn(\n",
      "C:\\Users\\USER\\anaconda3\\lib\\site-packages\\urllib3\\connectionpool.py:1043: InsecureRequestWarning: Unverified HTTPS request is being made to host 'apis.data.go.kr'. Adding certificate verification is strongly advised. See: https://urllib3.readthedocs.io/en/1.26.x/advanced-usage.html#ssl-warnings\n",
      "  warnings.warn(\n"
     ]
    },
    {
     "name": "stdout",
     "output_type": "stream",
     "text": [
      "<?xml version=\"1.0\" encoding=\"utf-8\"?>\n",
      "<response><header><resultCode>00</resultCode><resultMsg>NORMAL SERVICE.</resultMsg></header><body><item><appnrsn>하천 범람으로 유실 위험지구</appnrsn><areaname>구영</areaname><areanm>울산광역시 울주군 범서읍  </areanm><designatedate>20060316  </designatedate><detailtp>유실위험지구</detailtp><dstrskargradcd>1</dstrskargradcd><fcltymgcnm>울주군청</fcltymgcnm><fcltymgctelno>229-7914</fcltymgctelno><fcltynm>구 점촌교</fcltynm><managementno>317102006001   </managementno><pushahead>4                             </pushahead><relisde>20110421</relisde><relisrsn>정비사업완료(교량 재가설)</relisrsn><riskfctrcn>하천범람</riskfctrcn><sigun>3171025900</sigun><type>005                           </type><updtdttm>2016-07-21T13:41:19+09:00</updtdttm><wrssmnm>태화강</wrssmnm></item></body></response>\n",
      "울산광역시울주군범서읍\n",
      "유실위험지구\n",
      "<?xml version=\"1.0\" encoding=\"utf-8\"?>\n",
      "<response><header><resultCode>00</resultCode><resultMsg>NORMAL SERVICE.</resultMsg></header><body><item><appnrsn>하천 범람에 의한 교량 유실위험</appnrsn><areaname>작동</areaname><areanm>울산광역시 울주군 삼동면  </areanm><designatedate>20080724  </designatedate><detailtp>유실위험지구</detailtp><dstrskargradcd>3</dstrskargradcd><fcltymgcnm>울주군청</fcltymgcnm><fcltymgctelno>229-7914</fcltymgctelno><fcltynm>작동교</fcltynm><managementno>317102008004   </managementno><pushahead>4                             </pushahead><relisde>20110421</relisde><relisrsn>정비사업완료(교량 재가설)</relisrsn><riskfctrcn>하천 범람</riskfctrcn><sigun>3171040000</sigun><type>005                           </type><updtdttm>2016-07-21T13:42:04+09:00</updtdttm><wrssmnm>기타</wrssmnm></item></body></response>\n",
      "울산광역시울주군삼동면\n",
      "유실위험지구\n"
     ]
    },
    {
     "name": "stderr",
     "output_type": "stream",
     "text": [
      "C:\\Users\\USER\\anaconda3\\lib\\site-packages\\urllib3\\connectionpool.py:1043: InsecureRequestWarning: Unverified HTTPS request is being made to host 'apis.data.go.kr'. Adding certificate verification is strongly advised. See: https://urllib3.readthedocs.io/en/1.26.x/advanced-usage.html#ssl-warnings\n",
      "  warnings.warn(\n",
      "C:\\Users\\USER\\anaconda3\\lib\\site-packages\\urllib3\\connectionpool.py:1043: InsecureRequestWarning: Unverified HTTPS request is being made to host 'apis.data.go.kr'. Adding certificate verification is strongly advised. See: https://urllib3.readthedocs.io/en/1.26.x/advanced-usage.html#ssl-warnings\n",
      "  warnings.warn(\n"
     ]
    },
    {
     "name": "stdout",
     "output_type": "stream",
     "text": [
      "<?xml version=\"1.0\" encoding=\"utf-8\"?>\n",
      "<response><header><resultCode>00</resultCode><resultMsg>NORMAL SERVICE.</resultMsg></header><body><item><appnar>178600</appnar><appnrsn>하천범람 및 시설물 파손</appnrsn><areaname>속리산</areaname><areanm>충청북도 보은군    </areanm><designatedate>20131129  </designatedate><detailtp>제방유실</detailtp><dstrskargradcd>2</dstrskargradcd><fcltymgcnm>보은군청</fcltymgcnm><fcltymgctelno>540-3473</fcltymgctelno><fcltynm>달천</fcltynm><managementno>437202013010   </managementno><pushahead>2                             </pushahead><riskfctrcn>지방2급 하천이 미정비되고 기존 교량의 통수단면이 부족하여 제방 유실 및 월류로 인하여 시가지 침수 위험</riskfctrcn><sigun>4372000000</sigun><type>005                           </type><updtdttm>2017-03-15T09:39:47+09:00</updtdttm><wrssmnm>한강</wrssmnm></item></body></response>\n",
      "충청북도보은군\n",
      "제방유실\n",
      "<?xml version=\"1.0\" encoding=\"utf-8\"?>\n",
      "<response><header><resultCode>00</resultCode><resultMsg>NORMAL SERVICE.</resultMsg></header><body><item><areaname>석우제</areaname><areanm>충청남도 당진시    </areanm><designatedate>19961119  </designatedate><dstrskargradcd>2</dstrskargradcd><fcltynm>석우제</fcltynm><managementno>442702016010   </managementno><pushahead>4                             </pushahead><relisde>20021101</relisde><relisrsn>제방5.95km, 교량1개소</relisrsn><sigun>4427000000</sigun><type>005                           </type><updtdttm>2016-07-20T18:41:04+09:00</updtdttm></item></body></response>\n",
      "충청남도당진시\n",
      "\n"
     ]
    },
    {
     "name": "stderr",
     "output_type": "stream",
     "text": [
      "C:\\Users\\USER\\anaconda3\\lib\\site-packages\\urllib3\\connectionpool.py:1043: InsecureRequestWarning: Unverified HTTPS request is being made to host 'apis.data.go.kr'. Adding certificate verification is strongly advised. See: https://urllib3.readthedocs.io/en/1.26.x/advanced-usage.html#ssl-warnings\n",
      "  warnings.warn(\n"
     ]
    },
    {
     "name": "stdout",
     "output_type": "stream",
     "text": [
      "<?xml version=\"1.0\" encoding=\"utf-8\"?>\n",
      "<response><header><resultCode>00</resultCode><resultMsg>NORMAL SERVICE.</resultMsg></header><body><item><appnar>62551</appnar><appnrsn>하폭협소 및 교량협소로 인한 재해시 유실위험</appnrsn><areaname>관천</areaname><areanm>충청남도 금산군 남일면  </areanm><designatedate>20070727  </designatedate><dstrskargradcd>3</dstrskargradcd><fcltymgcnm>금산군 안전총괄과</fcltymgcnm><fcltymgctelno>041-750-2873</fcltymgctelno><fcltynm>관천</fcltynm><managementno>447102008004   </managementno><pushahead>2                             </pushahead><relisrsn>사업중</relisrsn><riskfctrcn>하폭협소, 교량등 구조물 협소</riskfctrcn><sigun>4471035000</sigun><type>005                           </type><updtdttm>2017-02-10T13:58:18+09:00</updtdttm><wrssmnm>금강</wrssmnm></item></body></response>\n",
      "충청남도금산군남일면\n",
      "\n",
      "<?xml version=\"1.0\" encoding=\"utf-8\"?>\n",
      "<response><header><resultCode>00</resultCode><resultMsg>NORMAL SERVICE.</resultMsg></header><body><item><appnrsn>하폭협소 및 교량 협소로 인한 재해시 유실위험</appnrsn><areaname>금성</areaname><areanm>충청남도 금산군 복수면  </areanm><designatedate>20070727  </designatedate><dstrskargradcd>3</dstrskargradcd><fcltymgcnm>금산군</fcltymgcnm><fcltymgctelno>041-750-2873</fcltymgctelno><fcltynm>금성천</fcltynm><managementno>447102008003   </managementno><pushahead>4                             </pushahead><relisde>20130731</relisde><relisrsn>자연재해위험개선지구 사업완료</relisrsn><riskfctrcn>하폭협소, 교량등 구조물 협소</riskfctrcn><sigun>4471038000</sigun><type>005                           </type><updtdttm>2013-06-04T15:29:19+09:00</updtdttm><wrssmnm>금강</wrssmnm></item></body></response>\n"
     ]
    },
    {
     "name": "stderr",
     "output_type": "stream",
     "text": [
      "C:\\Users\\USER\\anaconda3\\lib\\site-packages\\urllib3\\connectionpool.py:1043: InsecureRequestWarning: Unverified HTTPS request is being made to host 'apis.data.go.kr'. Adding certificate verification is strongly advised. See: https://urllib3.readthedocs.io/en/1.26.x/advanced-usage.html#ssl-warnings\n",
      "  warnings.warn(\n",
      "C:\\Users\\USER\\anaconda3\\lib\\site-packages\\urllib3\\connectionpool.py:1043: InsecureRequestWarning: Unverified HTTPS request is being made to host 'apis.data.go.kr'. Adding certificate verification is strongly advised. See: https://urllib3.readthedocs.io/en/1.26.x/advanced-usage.html#ssl-warnings\n",
      "  warnings.warn(\n"
     ]
    },
    {
     "name": "stdout",
     "output_type": "stream",
     "text": [
      "충청남도금산군복수면\n",
      "\n",
      "<?xml version=\"1.0\" encoding=\"utf-8\"?>\n",
      "<response><header><resultCode>00</resultCode><resultMsg>NORMAL SERVICE.</resultMsg></header><body><item><appnar>400</appnar><appnrsn>교량 통수단면부족으로 상류 농경지 침수 위험</appnrsn><areaname>기대</areaname><areanm>충청북도 보은군 마로면  </areanm><designatedate>20060228  </designatedate><detailtp>방재시설</detailtp><dstrskargradcd>3</dstrskargradcd><fcltymgcnm>보은군청</fcltymgcnm><fcltymgctelno>043-540-3473</fcltymgctelno><fcltynm>보청천</fcltynm><managementno>437202006005   </managementno><pushahead>1                             </pushahead><riskfctrcn>지방2급 하천(보청천+삼가천)이 합류되는 지점에 기존 교량의 여유고가 없어 통수 단면 부족으로 상류 농경지 침수 위험</riskfctrcn><sigun>4372033000</sigun><type>005                           </type><updtdttm>2016-01-27T13:52:25+09:00</updtdttm><wrssmnm>금강</wrssmnm></item></body></response>\n",
      "충청북도보은군마로면\n",
      "방재시설\n"
     ]
    },
    {
     "name": "stderr",
     "output_type": "stream",
     "text": [
      "C:\\Users\\USER\\anaconda3\\lib\\site-packages\\urllib3\\connectionpool.py:1043: InsecureRequestWarning: Unverified HTTPS request is being made to host 'apis.data.go.kr'. Adding certificate verification is strongly advised. See: https://urllib3.readthedocs.io/en/1.26.x/advanced-usage.html#ssl-warnings\n",
      "  warnings.warn(\n"
     ]
    },
    {
     "name": "stdout",
     "output_type": "stream",
     "text": [
      "<?xml version=\"1.0\" encoding=\"utf-8\"?>\n",
      "<response><header><resultCode>00</resultCode><resultMsg>NORMAL SERVICE.</resultMsg></header><body><item><appnar>400</appnar><appnrsn>하천내 통수단면 저해 구조물 정비</appnrsn><areaname>보청</areaname><areanm>충청북도 보은군 탄부면  </areanm><designatedate>20060303  </designatedate><detailtp>농경지유실</detailtp><dstrskargradcd>3</dstrskargradcd><fcltymgcnm>보은군청</fcltymgcnm><fcltymgctelno>043-540-3473</fcltymgctelno><fcltynm>보청천</fcltynm><managementno>437202006003   </managementno><pushahead>1                             </pushahead><riskfctrcn>보은읍 학림리 ～ 금굴리까지 지방2급 하천 수위상승 및 노후된 취입보로 인하여 인근 농경지 침수 위험</riskfctrcn><sigun>4372034000</sigun><type>005                           </type><updtdttm>2016-01-27T13:52:03+09:00</updtdttm><wrssmnm>금강</wrssmnm></item></body></response>\n",
      "충청북도보은군탄부면\n",
      "농경지유실\n",
      "<?xml version=\"1.0\" encoding=\"utf-8\"?>\n",
      "<response><header><resultCode>00</resultCode><resultMsg>NORMAL SERVICE.</resultMsg></header><body><item><appnar>136000</appnar><appnrsn>제방 미정비로 농경지 유실 위험</appnrsn><areaname>창리</areaname><areanm>충청북도 보은군 내북면  </areanm><designatedate>20060228  </designatedate><detailtp>제방 유실</detailtp><dstrskargradcd>3</dstrskargradcd><fcltymgcnm>보은군청</fcltymgcnm><fcltymgctelno>043-540-3472</fcltymgctelno><fcltynm>흑천</fcltynm><managementno>437202006004   </managementno><pushahead>4                             </pushahead><relisde>20150522</relisde><riskfctrcn>지방2급 하천이 미정비되고 기존 교량의 통수단면이 부족하여 제방 유실 및 월류로 인하여 농경지 침수 위험</riskfctrcn><sigun>4372039000</sigun><type>005                           </type><updtdttm>2015-11-02T19:48:18+09:00</updtdttm><wrssmnm>금강</wrssmnm></item></body></response>\n",
      "충청북도보은군내북면\n",
      "제방유실\n"
     ]
    },
    {
     "name": "stderr",
     "output_type": "stream",
     "text": [
      "C:\\Users\\USER\\anaconda3\\lib\\site-packages\\urllib3\\connectionpool.py:1043: InsecureRequestWarning: Unverified HTTPS request is being made to host 'apis.data.go.kr'. Adding certificate verification is strongly advised. See: https://urllib3.readthedocs.io/en/1.26.x/advanced-usage.html#ssl-warnings\n",
      "  warnings.warn(\n",
      "C:\\Users\\USER\\anaconda3\\lib\\site-packages\\urllib3\\connectionpool.py:1043: InsecureRequestWarning: Unverified HTTPS request is being made to host 'apis.data.go.kr'. Adding certificate verification is strongly advised. See: https://urllib3.readthedocs.io/en/1.26.x/advanced-usage.html#ssl-warnings\n",
      "  warnings.warn(\n"
     ]
    },
    {
     "name": "stdout",
     "output_type": "stream",
     "text": [
      "<?xml version=\"1.0\" encoding=\"utf-8\"?>\n",
      "<response><header><resultCode>00</resultCode><resultMsg>NORMAL SERVICE.</resultMsg></header><body><item><appnar>0</appnar><appnrsn>하천기본계획보다 교량길이와 교량고가 낮아 침수</appnrsn><areaname>월전</areaname><areanm>충청북도 옥천군 군서면  </areanm><designatedate>20100510  </designatedate><detailtp>유실</detailtp><dstrskargradcd>3</dstrskargradcd><fcltymgcnm>옥천군청</fcltymgcnm><fcltymgctelno>730-3523</fcltymgctelno><fcltynm>소옥천</fcltynm><managementno>437302011005   </managementno><pushahead>4                             </pushahead><relisde>20130628</relisde><relisrsn>정비공사 완료로 위험 요인 해소</relisrsn><riskfctrcn>호우시노후된교량침수로 통행불가로 위험상존 </riskfctrcn><sigun>4373037000</sigun><type>005                           </type><updtdttm>2015-10-30T11:00:40+09:00</updtdttm><wrssmnm>금강</wrssmnm></item></body></response>\n",
      "충청북도옥천군군서면\n",
      "유실\n"
     ]
    },
    {
     "name": "stderr",
     "output_type": "stream",
     "text": [
      "C:\\Users\\USER\\anaconda3\\lib\\site-packages\\urllib3\\connectionpool.py:1043: InsecureRequestWarning: Unverified HTTPS request is being made to host 'apis.data.go.kr'. Adding certificate verification is strongly advised. See: https://urllib3.readthedocs.io/en/1.26.x/advanced-usage.html#ssl-warnings\n",
      "  warnings.warn(\n",
      "C:\\Users\\USER\\anaconda3\\lib\\site-packages\\urllib3\\connectionpool.py:1043: InsecureRequestWarning: Unverified HTTPS request is being made to host 'apis.data.go.kr'. Adding certificate verification is strongly advised. See: https://urllib3.readthedocs.io/en/1.26.x/advanced-usage.html#ssl-warnings\n",
      "  warnings.warn(\n"
     ]
    },
    {
     "name": "stdout",
     "output_type": "stream",
     "text": [
      "<?xml version=\"1.0\" encoding=\"utf-8\"?>\n",
      "<response><header><resultCode>00</resultCode><resultMsg>NORMAL SERVICE.</resultMsg></header><body><item><appnar>40000</appnar><appnrsn>유실위험</appnrsn><areaname>신흥지구</areaname><areanm>충청북도 영동군    </areanm><designatedate>20131107  </designatedate><detailtp>나등급</detailtp><dstrskargradcd>2</dstrskargradcd><fcltymgcnm>영동군</fcltymgcnm><fcltymgctelno>043-740-3932</fcltymgctelno><fcltynm>월류교</fcltynm><managementno>437402017017   </managementno><pushahead>2                             </pushahead><riskfctrcn>유실</riskfctrcn><sigun>4374000000</sigun><type>005                           </type><wrssmnm>금강</wrssmnm></item></body></response>\n",
      "충청북도영동군\n",
      "나등급\n",
      "<?xml version=\"1.0\" encoding=\"utf-8\"?>\n",
      "<response><header><resultCode>00</resultCode><resultMsg>NORMAL SERVICE.</resultMsg></header><body><item><appnar>0</appnar><appnrsn>미개수 하천으로 집중호우시 재해위험</appnrsn><areaname>추점지구</areaname><areanm>충청북도 괴산군    </areanm><designatedate>20100730  </designatedate><dstrskargradcd>2</dstrskargradcd><fcltymgcnm>괴산군</fcltymgcnm><fcltymgctelno>043-830-3552</fcltymgctelno><fcltynm>오가천</fcltynm><managementno>437602011012   </managementno><pushahead>4                             </pushahead><relisde>20150629</relisde><relisrsn>정비사업 완료에 따른 위험요소 해소</relisrsn><riskfctrcn>미개수하천</riskfctrcn><sigun>4376000000</sigun><type>005                           </type><updtdttm>2016-07-12T15:44:03+09:00</updtdttm><wrssmnm>한강</wrssmnm></item></body></response>\n",
      "충청북도괴산군\n",
      "\n",
      "<?xml version=\"1.0\" encoding=\"utf-8\"?>\n",
      "<response><header><resultCode>00</resultCode><resultMsg>NORMAL SERVICE.</resultMsg></header><body><item><appnar>245000</appnar><appnrsn>유실위험</appnrsn><areaname>동진지구</areaname><areanm>충청북도 괴산군 괴산읍  </areanm><designatedate>20131115  </designatedate><dstrskargradcd>2</dstrskargradcd><fcltymgcnm>괴산군청</fcltymgcnm><fcltymgctelno>043-830-3554</fcltymgctelno><fcltynm>동진천</fcltynm><managementno>437602013016   </managementno><pushahead>3                             </pushahead><riskfctrcn>하천범람, 제방 및 호안 유실, 횡단구조물에 의한 유수 흐름방해에 따른 월류 및 구조물파괴 등의 피해가 발생되었고 추후 예상되는 구간으로 하천재해에 다소 취약한 구간임</riskfctrcn><sigun>4376025000</sigun><type>005                           </type><updtdttm>2017-03-29T11:31:30+09:00</updtdttm><wrssmnm>한강</wrssmnm></item></body></response>\n",
      "충청북도괴산군괴산읍\n",
      "\n"
     ]
    },
    {
     "name": "stderr",
     "output_type": "stream",
     "text": [
      "C:\\Users\\USER\\anaconda3\\lib\\site-packages\\urllib3\\connectionpool.py:1043: InsecureRequestWarning: Unverified HTTPS request is being made to host 'apis.data.go.kr'. Adding certificate verification is strongly advised. See: https://urllib3.readthedocs.io/en/1.26.x/advanced-usage.html#ssl-warnings\n",
      "  warnings.warn(\n",
      "C:\\Users\\USER\\anaconda3\\lib\\site-packages\\urllib3\\connectionpool.py:1043: InsecureRequestWarning: Unverified HTTPS request is being made to host 'apis.data.go.kr'. Adding certificate verification is strongly advised. See: https://urllib3.readthedocs.io/en/1.26.x/advanced-usage.html#ssl-warnings\n",
      "  warnings.warn(\n"
     ]
    },
    {
     "name": "stdout",
     "output_type": "stream",
     "text": [
      "<?xml version=\"1.0\" encoding=\"utf-8\"?>\n",
      "<response><header><resultCode>00</resultCode><resultMsg>NORMAL SERVICE.</resultMsg></header><body><item><appnrsn>하폭이 좁고 기존교량이 낮아 주변지역이 월류</appnrsn><areaname>삼송</areaname><areanm>충청북도 괴산군 청천면  </areanm><designatedate>20060228  </designatedate><dstrskargradcd>2</dstrskargradcd><fcltymgcnm>괴산군청</fcltymgcnm><fcltymgctelno>043-830-3554</fcltymgctelno><fcltynm>화양천</fcltynm><managementno>437602006001   </managementno><pushahead>4                             </pushahead><relisde>20100730</relisde><riskfctrcn>- 무재부로 마을과 연접하여 저지대로 월류로 인한 침수 및 유실\n",
      "피해가 있는 지구</riskfctrcn><sigun>4376036000</sigun><type>005                           </type><updtdttm>2016-07-12T15:45:18+09:00</updtdttm><wrssmnm>한강</wrssmnm></item></body></response>\n",
      "충청북도괴산군청천면\n",
      "\n",
      "<?xml version=\"1.0\" encoding=\"utf-8\"?>\n",
      "<response><header><resultCode>00</resultCode><resultMsg>NORMAL SERVICE.</resultMsg></header><body><item><appnar>0</appnar><appnrsn>유실위험</appnrsn><areaname>화양지구</areaname><areanm>충청북도 괴산군 청천면  </areanm><designatedate>20131115  </designatedate><dstrskargradcd>2</dstrskargradcd><fcltymgctelno>043-830-3554</fcltymgctelno><fcltynm>화양천</fcltynm><managementno>437602013018   </managementno><pushahead>1                             </pushahead><riskfctrcn>하천범람, 제방 및 호안 유실, 횡단구조물에 의한 유수 흐름방해에 따른 월류 및 구조물파괴 등의 피해가 발생되었고 추후 예상되는 구간으로 하천재해에 다소 취약한 구간임</riskfctrcn><sigun>4376036000</sigun><type>005                           </type><updtdttm>2016-07-12T15:40:27+09:00</updtdttm><wrssmnm>null</wrssmnm></item></body></response>\n",
      "충청북도괴산군청천면\n",
      "\n"
     ]
    },
    {
     "name": "stderr",
     "output_type": "stream",
     "text": [
      "C:\\Users\\USER\\anaconda3\\lib\\site-packages\\urllib3\\connectionpool.py:1043: InsecureRequestWarning: Unverified HTTPS request is being made to host 'apis.data.go.kr'. Adding certificate verification is strongly advised. See: https://urllib3.readthedocs.io/en/1.26.x/advanced-usage.html#ssl-warnings\n",
      "  warnings.warn(\n",
      "C:\\Users\\USER\\anaconda3\\lib\\site-packages\\urllib3\\connectionpool.py:1043: InsecureRequestWarning: Unverified HTTPS request is being made to host 'apis.data.go.kr'. Adding certificate verification is strongly advised. See: https://urllib3.readthedocs.io/en/1.26.x/advanced-usage.html#ssl-warnings\n",
      "  warnings.warn(\n"
     ]
    },
    {
     "name": "stdout",
     "output_type": "stream",
     "text": [
      "<?xml version=\"1.0\" encoding=\"utf-8\"?>\n",
      "<response><header><resultCode>00</resultCode><resultMsg>NORMAL SERVICE.</resultMsg></header><body><item><appnrsn>미개수하천</appnrsn><areaname>장암지구</areaname><areanm>충청북도 괴산군 청안면  </areanm><designatedate>20100730  </designatedate><dstrskargradcd>2</dstrskargradcd><fcltymgcnm>괴산군</fcltymgcnm><fcltymgctelno>043-830-3553</fcltymgctelno><fcltynm>황암천</fcltynm><managementno>437602011013   </managementno><pushahead>4                             </pushahead><riskfctrcn>미개수하천으로 집중호우시 재해위험</riskfctrcn><sigun>4376037000</sigun><type>005                           </type><updtdttm>2014-08-11T13:44:52+09:00</updtdttm><wrssmnm>한강</wrssmnm></item></body></response>\n",
      "충청북도괴산군청안면\n",
      "\n"
     ]
    },
    {
     "name": "stderr",
     "output_type": "stream",
     "text": [
      "C:\\Users\\USER\\anaconda3\\lib\\site-packages\\urllib3\\connectionpool.py:1043: InsecureRequestWarning: Unverified HTTPS request is being made to host 'apis.data.go.kr'. Adding certificate verification is strongly advised. See: https://urllib3.readthedocs.io/en/1.26.x/advanced-usage.html#ssl-warnings\n",
      "  warnings.warn(\n"
     ]
    },
    {
     "name": "stdout",
     "output_type": "stream",
     "text": [
      "<?xml version=\"1.0\" encoding=\"utf-8\"?>\n",
      "<response><header><resultCode>00</resultCode><resultMsg>NORMAL SERVICE.</resultMsg></header><body><item><appnar>2000000</appnar><appnrsn>호우시 유실 및 침수</appnrsn><areaname>성산지구</areaname><areanm>충청북도 음성군    </areanm><designatedate>20131115  </designatedate><dstrskargradcd>2</dstrskargradcd><fcltymgcnm>음성군 안전총괄과</fcltymgcnm><fcltymgctelno>043-871-3281</fcltymgctelno><fcltynm>성산천 재해위험지구</fcltynm><managementno>437702013006   </managementno><pushahead>2                             </pushahead><riskfctrcn>하천 범람</riskfctrcn><sigun>4377000000</sigun><type>005                           </type><updtdttm>2017-03-07T16:17:24+09:00</updtdttm><wrssmnm>금강</wrssmnm></item></body></response>\n",
      "충청북도음성군\n",
      "\n"
     ]
    },
    {
     "name": "stderr",
     "output_type": "stream",
     "text": [
      "C:\\Users\\USER\\anaconda3\\lib\\site-packages\\urllib3\\connectionpool.py:1043: InsecureRequestWarning: Unverified HTTPS request is being made to host 'apis.data.go.kr'. Adding certificate verification is strongly advised. See: https://urllib3.readthedocs.io/en/1.26.x/advanced-usage.html#ssl-warnings\n",
      "  warnings.warn(\n",
      "C:\\Users\\USER\\anaconda3\\lib\\site-packages\\urllib3\\connectionpool.py:1043: InsecureRequestWarning: Unverified HTTPS request is being made to host 'apis.data.go.kr'. Adding certificate verification is strongly advised. See: https://urllib3.readthedocs.io/en/1.26.x/advanced-usage.html#ssl-warnings\n",
      "  warnings.warn(\n"
     ]
    },
    {
     "name": "stdout",
     "output_type": "stream",
     "text": [
      "<?xml version=\"1.0\" encoding=\"utf-8\"?>\n",
      "<response><header><resultCode>00</resultCode><resultMsg>NORMAL SERVICE.</resultMsg></header><body><item><appnrsn>노전천의 잦은 범람 및 제방유실로 인한 농경지 상습침수</appnrsn><areaname>노천지구</areaname><areanm>충청남도 보령시 웅천읍  </areanm><designatedate>20060228  </designatedate><detailtp>유실위험</detailtp><dstrskargradcd>3</dstrskargradcd><fcltymgcnm>보령시</fcltymgcnm><fcltymgctelno>041)930-3442</fcltymgctelno><fcltynm>노전천</fcltynm><managementno>441802006002   </managementno><pushahead>4                             </pushahead><relisde>20110610</relisde><relisrsn>노천재해위험지구 정비사업이 완료되어 자연재해위험지구 지정을 해제</relisrsn><riskfctrcn>집중 호우시 잦은 범람으로 인한 농경지 상습침수로 지역주민의 재산피해 발생 및 위험 교량 및 암거 등 통수 단면 부족으로 인한 제방유실 빈번</riskfctrcn><sigun>4418025000</sigun><type>005                           </type><updtdttm>2013-04-02T16:00:11+09:00</updtdttm><wrssmnm>기타</wrssmnm></item></body></response>\n",
      "충청남도보령시웅천읍\n",
      "유실위험\n",
      "<?xml version=\"1.0\" encoding=\"utf-8\"?>\n",
      "<response><header><resultCode>00</resultCode><resultMsg>NORMAL SERVICE.</resultMsg></header><body><item><appnar>74800</appnar><appnrsn>개화천의 잦은 범람으로 제방유실로 인한 주택 및 농경지 상습침수</appnrsn><areaname>개화지구</areaname><areanm>충청남도 보령시 성주면  </areanm><designatedate>20121231  </designatedate><detailtp>유실위험</detailtp><dstrskargradcd>2</dstrskargradcd><fcltymgcnm>보령시</fcltymgcnm><fcltymgctelno>041-930-3904</fcltymgctelno><fcltynm>개화천</fcltynm><managementno>441802006003   </managementno><pushahead>4                             </pushahead><riskfctrcn>집중 호우시 잦은 범람으로 인한 주택 및 농경지 상습침수로 지역주민의 재산피해 발생 및 위험 교량 및 암거 등 통수 단면 부족으로 인한 제방유실 빈번</riskfctrcn><sigun>4418040000</sigun><type>005                           </type><updtdttm>2017-03-01T21:27:04+09:00</updtdttm><wrssmnm>기타</wrssmnm></item></body></response>\n",
      "충청남도보령시성주면\n",
      "유실위험\n"
     ]
    },
    {
     "name": "stderr",
     "output_type": "stream",
     "text": [
      "C:\\Users\\USER\\anaconda3\\lib\\site-packages\\urllib3\\connectionpool.py:1043: InsecureRequestWarning: Unverified HTTPS request is being made to host 'apis.data.go.kr'. Adding certificate verification is strongly advised. See: https://urllib3.readthedocs.io/en/1.26.x/advanced-usage.html#ssl-warnings\n",
      "  warnings.warn(\n",
      "C:\\Users\\USER\\anaconda3\\lib\\site-packages\\urllib3\\connectionpool.py:1043: InsecureRequestWarning: Unverified HTTPS request is being made to host 'apis.data.go.kr'. Adding certificate verification is strongly advised. See: https://urllib3.readthedocs.io/en/1.26.x/advanced-usage.html#ssl-warnings\n",
      "  warnings.warn(\n"
     ]
    },
    {
     "name": "stdout",
     "output_type": "stream",
     "text": [
      "<?xml version=\"1.0\" encoding=\"utf-8\"?>\n",
      " - 하천 제방 및 구조물 규모 미달에 따른 홍수단면 부족으로 범람 위험이 큼.</riskfctrcn><sigun>4280025000</sigun><type>005                           </type><updtdttm>2016-03-14T11:34:57+09:00</updtdttm><wrssmnm>한강</wrssmnm></item></body></response><designatedate>20100511  </designatedate><dstrskargradcd>2</dstrskargradcd><fcltymgcnm>양구군청</fcltymgcnm><fcltymgctelno>480-2738</fcltymgctelno><fcltynm>관암천</fcltynm><managementno>428002011007   </managementno><pushahead>4                             </pushahead><relisde>20151230</relisde><riskfctrcn>- 하천 제방 및 구조물의 노후에 따른 유실로 상습피해가 빈발한 지역으로 주변 가옥 및 농경지의 피해를 방지하고자 하천개수가 시급한 상황임.\n",
      "강원도양구군양구읍\n",
      "\n",
      "<?xml version=\"1.0\" encoding=\"utf-8\"?>\n",
      " - 하천 제방 및 구조물 규모 미달에 따른 홍수단면 부족으로 범람 위험이 큼.</riskfctrcn><sigun>4280025000</sigun><type>005                           </type><updtdttm>2016-03-14T11:35:25+09:00</updtdttm><wrssmnm>한강</wrssmnm></item></body></response>><designatedate>20100511  </designatedate><dstrskargradcd>2</dstrskargradcd><fcltymgcnm>양구군청</fcltymgcnm><fcltymgctelno>480-2738</fcltymgctelno><fcltynm>안대천</fcltynm><managementno>428002011008   </managementno><pushahead>4                             </pushahead><relisde>20151230</relisde><riskfctrcn>- 하천 제방 및 구조물의 노후에 따른 유실로 상습피해가 빈발한 지역으로 주변 가옥 및 농경지의 피해를 방지하고자 하천개수가 시급한 상황임.\n",
      "강원도양구군양구읍\n",
      "\n"
     ]
    },
    {
     "name": "stderr",
     "output_type": "stream",
     "text": [
      "C:\\Users\\USER\\anaconda3\\lib\\site-packages\\urllib3\\connectionpool.py:1043: InsecureRequestWarning: Unverified HTTPS request is being made to host 'apis.data.go.kr'. Adding certificate verification is strongly advised. See: https://urllib3.readthedocs.io/en/1.26.x/advanced-usage.html#ssl-warnings\n",
      "  warnings.warn(\n",
      "C:\\Users\\USER\\anaconda3\\lib\\site-packages\\urllib3\\connectionpool.py:1043: InsecureRequestWarning: Unverified HTTPS request is being made to host 'apis.data.go.kr'. Adding certificate verification is strongly advised. See: https://urllib3.readthedocs.io/en/1.26.x/advanced-usage.html#ssl-warnings\n",
      "  warnings.warn(\n"
     ]
    },
    {
     "name": "stdout",
     "output_type": "stream",
     "text": [
      "<?xml version=\"1.0\" encoding=\"utf-8\"?>\n",
      " - 하천 제방 및 구조물 규모 미달에 따른 홍수단면 부족으로 범람 위험이 큼.</riskfctrcn><sigun>4280025000</sigun><type>005                           </type><updtdttm>2016-03-14T11:35:45+09:00</updtdttm><wrssmnm>한강</wrssmnm></item></body></response>><designatedate>20100511  </designatedate><dstrskargradcd>2</dstrskargradcd><fcltymgcnm>양구군청</fcltymgcnm><fcltymgctelno>480-2738</fcltymgctelno><fcltynm>한새골천</fcltynm><managementno>428002011009   </managementno><pushahead>4                             </pushahead><relisde>20151230</relisde><riskfctrcn>- 하천 제방 및 구조물의 노후에 따른 유실로 상습피해가 빈발한 지역으로 주변 가옥 및 농경지의 피해를 방지하고자 하천개수가 시급한 상황임.\n",
      "강원도양구군양구읍\n",
      "\n",
      "<?xml version=\"1.0\" encoding=\"utf-8\"?>\n",
      " - 하천 제방 및 구조물 규모 미달에 따른 홍수단면 부족으로 범람 위험이 큼.</riskfctrcn><sigun>4280025000</sigun><type>005                           </type><updtdttm>2016-03-14T11:36:03+09:00</updtdttm><wrssmnm>한강</wrssmnm></item></body></response>><designatedate>20100511  </designatedate><dstrskargradcd>2</dstrskargradcd><fcltymgcnm>양구군청</fcltymgcnm><fcltymgctelno>480-2738</fcltymgctelno><fcltynm>오리개천</fcltynm><managementno>428002011010   </managementno><pushahead>4                             </pushahead><relisde>20151230</relisde><riskfctrcn>- 하천 제방 및 구조물의 노후에 따른 유실로 상습피해가 빈발한 지역으로 주변 가옥 및 농경지의 피해를 방지하고자 하천개수가 시급한 상황임.\n",
      "강원도양구군양구읍\n",
      "\n"
     ]
    },
    {
     "name": "stderr",
     "output_type": "stream",
     "text": [
      "C:\\Users\\USER\\anaconda3\\lib\\site-packages\\urllib3\\connectionpool.py:1043: InsecureRequestWarning: Unverified HTTPS request is being made to host 'apis.data.go.kr'. Adding certificate verification is strongly advised. See: https://urllib3.readthedocs.io/en/1.26.x/advanced-usage.html#ssl-warnings\n",
      "  warnings.warn(\n",
      "C:\\Users\\USER\\anaconda3\\lib\\site-packages\\urllib3\\connectionpool.py:1043: InsecureRequestWarning: Unverified HTTPS request is being made to host 'apis.data.go.kr'. Adding certificate verification is strongly advised. See: https://urllib3.readthedocs.io/en/1.26.x/advanced-usage.html#ssl-warnings\n",
      "  warnings.warn(\n"
     ]
    },
    {
     "name": "stdout",
     "output_type": "stream",
     "text": [
      "<?xml version=\"1.0\" encoding=\"utf-8\"?>\n",
      "<response><header><resultCode>00</resultCode><resultMsg>NORMAL SERVICE.</resultMsg></header><body><item><appnrsn>유실위험</appnrsn><areaname>동호지구</areaname><areanm>강원도 고성군 간성읍  </areanm><designatedate>20021002  </designatedate><dstrskargradcd>1</dstrskargradcd><fcltymgcnm>고성군 건설방재과</fcltymgcnm><fcltymgctelno>033-680-3492</fcltymgctelno><fcltynm>동호지구</fcltynm><managementno>428202013009   </managementno><pushahead>4                             </pushahead><relisde>20041123</relisde><relisrsn>정비완료</relisrsn><riskfctrcn>유실위험</riskfctrcn><sigun>4282025000</sigun><type>005                           </type><updtdttm>2013-06-05T11:43:58+09:00</updtdttm></item></body></response>\n",
      "강원도고성군간성읍\n",
      "\n",
      "<?xml version=\"1.0\" encoding=\"utf-8\"?>\n",
      "<response><header><resultCode>00</resultCode><resultMsg>NORMAL SERVICE.</resultMsg></header><body><item><appnar>6500</appnar><appnrsn>유실위험/다등급</appnrsn><areaname>어천</areaname><areanm>강원도 고성군 간성읍  </areanm><designatedate>20150406  </designatedate><dstrskargradcd>3</dstrskargradcd><fcltymgcnm>고성군청</fcltymgcnm><fcltymgctelno>033-680-3482</fcltymgctelno><fcltynm>어천</fcltynm><managementno>428202015016   </managementno><pushahead>1                             </pushahead><riskfctrcn>경간장 부족으로 통수단면 부족에 의한 수위상승 </riskfctrcn><sigun>4282025000</sigun><type>005                           </type><updtdttm>2016-03-28T20:21:24+09:00</updtdttm><wrssmnm>기타</wrssmnm></item></body></response>\n",
      "강원도고성군간성읍\n",
      "\n"
     ]
    },
    {
     "name": "stderr",
     "output_type": "stream",
     "text": [
      "C:\\Users\\USER\\anaconda3\\lib\\site-packages\\urllib3\\connectionpool.py:1043: InsecureRequestWarning: Unverified HTTPS request is being made to host 'apis.data.go.kr'. Adding certificate verification is strongly advised. See: https://urllib3.readthedocs.io/en/1.26.x/advanced-usage.html#ssl-warnings\n",
      "  warnings.warn(\n"
     ]
    },
    {
     "name": "stdout",
     "output_type": "stream",
     "text": [
      "<?xml version=\"1.0\" encoding=\"utf-8\"?>\n",
      "<response><header><resultCode>00</resultCode><resultMsg>NORMAL SERVICE.</resultMsg></header><body><item><appnrsn>유실위험</appnrsn><areaname>삼포지구</areaname><areanm>강원도 고성군 죽왕면  </areanm><designatedate>20021002  </designatedate><dstrskargradcd>1</dstrskargradcd><fcltymgcnm>건설방재과</fcltymgcnm><fcltymgctelno>033-680-3492</fcltymgctelno><fcltynm>삼포지구</fcltynm><managementno>428202013010   </managementno><pushahead>4                             </pushahead><relisde>20041123</relisde><relisrsn>정비완료</relisrsn><riskfctrcn>유실위험</riskfctrcn><sigun>4282032000</sigun><type>005                           </type><updtdttm>2013-06-05T11:47:18+09:00</updtdttm></item></body></response>\n",
      "강원도고성군죽왕면\n",
      "\n",
      "<?xml version=\"1.0\" encoding=\"utf-8\"?>\n",
      "<response><header><resultCode>00</resultCode><resultMsg>NORMAL SERVICE.</resultMsg></header><body><item><appnrsn>유실위험</appnrsn><areaname>인정지구</areaname><areanm>강원도 고성군 죽왕면  </areanm><designatedate>20021002  </designatedate><dstrskargradcd>1</dstrskargradcd><fcltymgcnm>건설방재과</fcltymgcnm><fcltymgctelno>033-680-3492</fcltymgctelno><fcltynm>인정지구</fcltynm><managementno>428202013015   </managementno><pushahead>4                             </pushahead><relisde>20041123</relisde><relisrsn>정비완료</relisrsn><riskfctrcn>유실위험</riskfctrcn><sigun>4282032000</sigun><type>005                           </type><updtdttm>2013-06-05T13:09:43+09:00</updtdttm></item></body></response>\n",
      "강원도고성군죽왕면\n",
      "\n"
     ]
    },
    {
     "name": "stderr",
     "output_type": "stream",
     "text": [
      "C:\\Users\\USER\\anaconda3\\lib\\site-packages\\urllib3\\connectionpool.py:1043: InsecureRequestWarning: Unverified HTTPS request is being made to host 'apis.data.go.kr'. Adding certificate verification is strongly advised. See: https://urllib3.readthedocs.io/en/1.26.x/advanced-usage.html#ssl-warnings\n",
      "  warnings.warn(\n",
      "C:\\Users\\USER\\anaconda3\\lib\\site-packages\\urllib3\\connectionpool.py:1043: InsecureRequestWarning: Unverified HTTPS request is being made to host 'apis.data.go.kr'. Adding certificate verification is strongly advised. See: https://urllib3.readthedocs.io/en/1.26.x/advanced-usage.html#ssl-warnings\n",
      "  warnings.warn(\n"
     ]
    },
    {
     "name": "stdout",
     "output_type": "stream",
     "text": [
      "<?xml version=\"1.0\" encoding=\"utf-8\"?>\n",
      "<response><header><resultCode>00</resultCode><resultMsg>NORMAL SERVICE.</resultMsg></header><body><item><appnrsn>유실위험</appnrsn><areaname>용촌지구</areaname><areanm>강원도 고성군 토성면  </areanm><designatedate>20021002  </designatedate><dstrskargradcd>1</dstrskargradcd><fcltymgcnm>건설방재과</fcltymgcnm><fcltymgctelno>033-680-3492</fcltymgctelno><fcltynm>용촌지구</fcltynm><managementno>428202013014   </managementno><pushahead>4                             </pushahead><relisde>20041123</relisde><relisrsn>정비완료</relisrsn><riskfctrcn>유실위험</riskfctrcn><sigun>4282033000</sigun><type>005                           </type><updtdttm>2013-06-05T13:05:54+09:00</updtdttm></item></body></response>\n",
      "강원도고성군토성면\n",
      "\n"
     ]
    },
    {
     "name": "stderr",
     "output_type": "stream",
     "text": [
      "C:\\Users\\USER\\anaconda3\\lib\\site-packages\\urllib3\\connectionpool.py:1043: InsecureRequestWarning: Unverified HTTPS request is being made to host 'apis.data.go.kr'. Adding certificate verification is strongly advised. See: https://urllib3.readthedocs.io/en/1.26.x/advanced-usage.html#ssl-warnings\n",
      "  warnings.warn(\n"
     ]
    },
    {
     "name": "stdout",
     "output_type": "stream",
     "text": [
      "<?xml version=\"1.0\" encoding=\"utf-8\"?>\n",
      "<response><header><resultCode>00</resultCode><resultMsg>NORMAL SERVICE.</resultMsg></header><body><item><appnar>302000</appnar><appnrsn>유실위험</appnrsn><areaname>발산</areaname><areanm>충청남도 천안시 수신면  </areanm><designatedate>20060321  </designatedate><dstrskargradcd>2</dstrskargradcd><fcltymgcnm>천안시</fcltymgcnm><fcltymgctelno>521-5575</fcltymgctelno><fcltynm>하천정비</fcltynm><managementno>441302007005   </managementno><pushahead>4                             </pushahead><relisde>20100712</relisde><relisrsn>정비사업완료</relisrsn><riskfctrcn>하천시설물의 노후 단면부족으로 집중 호우시 가옥 및 농경지 침수유실 피해 발생</riskfctrcn><sigun>4413036000</sigun><type>005                           </type><updtdttm>2016-07-20T14:37:25+09:00</updtdttm><wrssmnm>금강</wrssmnm></item></body></response>\n",
      "충청남도천안시수신면\n",
      "\n"
     ]
    },
    {
     "name": "stderr",
     "output_type": "stream",
     "text": [
      "C:\\Users\\USER\\anaconda3\\lib\\site-packages\\urllib3\\connectionpool.py:1043: InsecureRequestWarning: Unverified HTTPS request is being made to host 'apis.data.go.kr'. Adding certificate verification is strongly advised. See: https://urllib3.readthedocs.io/en/1.26.x/advanced-usage.html#ssl-warnings\n",
      "  warnings.warn(\n"
     ]
    },
    {
     "name": "stdout",
     "output_type": "stream",
     "text": [
      "<?xml version=\"1.0\" encoding=\"utf-8\"?>\n",
      "<response><header><resultCode>00</resultCode><resultMsg>NORMAL SERVICE.</resultMsg></header><body><item><appnar>0</appnar><appnrsn>저지대 위치로 하천범람으로 주택 및 농경지 침수</appnrsn><areaname>부성</areaname><areanm>충청남도 천안시 부성동</areanm><designatedate>20060321  </designatedate><dstrskargradcd>2</dstrskargradcd><fcltymgcnm>천안시</fcltymgcnm><fcltymgctelno>521-5575</fcltymgctelno><fcltynm>성환천</fcltynm><managementno>441302007003   </managementno><pushahead>4                             </pushahead><relisde>20140211</relisde><relisrsn>정비사업 완료로 위험요인해소</relisrsn><riskfctrcn>저지대 위치로 하천범람으로 주택 및 농경지 침수</riskfctrcn><sigun>4413061000</sigun><sigungu>롯데칠성음료</sigungu><type>005                           </type><updtdttm>2016-07-20T14:37:35+09:00</updtdttm><wrssmnm>안성천</wrssmnm></item></body></response>\n",
      "충청남도천안시부성동\n",
      "\n",
      "<?xml version=\"1.0\" encoding=\"utf-8\"?>\n",
      "<response><header><resultCode>00</resultCode><resultMsg>NORMAL SERVICE.</resultMsg></header><body><item><appnrsn>미정비하천으로 집중호우시 농경지 침수 및 주택침수</appnrsn><areaname>삽교천(석우제)</areaname><areanm>충청남도 당진군 합덕읍  </areanm><designatedate>19961119  </designatedate><detailtp>외수</detailtp><dstrskargradcd>2</dstrskargradcd><fcltymgcnm>대전지방국토관리청</fcltymgcnm><fcltymgctelno>670-3214</fcltymgctelno><fcltynm>제방</fcltynm><managementno>448302002001   </managementno><pushahead>4                             </pushahead><relisde>20091110</relisde><riskfctrcn>-집중호우시 물이 월류하여 제방손실 및 농경지 침수예상\n",
      "-반복되는 재해로 인한 주민 민심고조</riskfctrcn><sigun>4483025300</sigun><type>005                           </type><updtdttm>2013-06-13T13:10:35+09:00</updtdttm><wrssmnm>삽교천</wrssmnm></item></body></response>\n",
      "충청남도당진군합덕읍\n",
      "외수\n"
     ]
    },
    {
     "name": "stderr",
     "output_type": "stream",
     "text": [
      "C:\\Users\\USER\\anaconda3\\lib\\site-packages\\urllib3\\connectionpool.py:1043: InsecureRequestWarning: Unverified HTTPS request is being made to host 'apis.data.go.kr'. Adding certificate verification is strongly advised. See: https://urllib3.readthedocs.io/en/1.26.x/advanced-usage.html#ssl-warnings\n",
      "  warnings.warn(\n",
      "C:\\Users\\USER\\anaconda3\\lib\\site-packages\\urllib3\\connectionpool.py:1043: InsecureRequestWarning: Unverified HTTPS request is being made to host 'apis.data.go.kr'. Adding certificate verification is strongly advised. See: https://urllib3.readthedocs.io/en/1.26.x/advanced-usage.html#ssl-warnings\n",
      "  warnings.warn(\n"
     ]
    },
    {
     "name": "stdout",
     "output_type": "stream",
     "text": [
      "<?xml version=\"1.0\" encoding=\"utf-8\"?>\n",
      " - 교량을 계획홍수위보다 높게 재가설하며, 교량의 높아짐에 따라서 인근 제방도로의 지반고도 높게 시공하여야 함.</riskfctrcn><sigun>4161025600</sigun><type>005                           </type><updtdttm>2016-07-12T09:09:41+09:00</updtdttm><wrssmnm>기타</wrssmnm></item></body></response>gnatedate><dstrskargradcd>1</dstrskargradcd><fcltynm>곤지암천</fcltynm><managementno>416102008003   </managementno><pushahead>4                             </pushahead><relisde>20140723</relisde><relisrsn>정비사업 완료에 따른 재해위험요소 해소</relisrsn><riskfctrcn> - 곤지암천의 하천정비기본계획상 계획홍수위보다 낮게 설치된 세터교와 상류에서 내려오는 부유물로 인해 교각의 \n",
      "경기도광주시실촌읍\n",
      "\n",
      "<?xml version=\"1.0\" encoding=\"utf-8\"?>\n",
      "<response><header><resultCode>00</resultCode><resultMsg>NORMAL SERVICE.</resultMsg></header><body><item><appnrsn>하천 미개수로 제방유실우려, 제외 농경지 하상보다 낮아 내수침수</appnrsn><areaname>상리지구</areaname><areanm>경기도 여주군 여주읍  </areanm><designatedate>20060224  </designatedate><dstrskargradcd>3</dstrskargradcd><fcltymgcnm>여주군청</fcltymgcnm><fcltymgctelno>031-887-2552</fcltymgctelno><fcltynm>용강골천</fcltynm><managementno>417302006012   </managementno><pushahead>4                             </pushahead><relisde>20130104</relisde><riskfctrcn>여주읍 주거지역 및 농립지역에 위치한 하천으로 집중호우시 하천 단면폭이 협소하여 제방유실시 인근 농경지 및 가옥침수 우려가 있어 하천제방의 단면확보로 주민 재산보호</riskfctrcn><sigun>4173025000</sigun><type>005                           </type><updtdttm>2013-06-05T09:21:33+09:00</updtdttm></item></body></response>\n",
      "경기도여주군여주읍\n",
      "\n"
     ]
    },
    {
     "name": "stderr",
     "output_type": "stream",
     "text": [
      "C:\\Users\\USER\\anaconda3\\lib\\site-packages\\urllib3\\connectionpool.py:1043: InsecureRequestWarning: Unverified HTTPS request is being made to host 'apis.data.go.kr'. Adding certificate verification is strongly advised. See: https://urllib3.readthedocs.io/en/1.26.x/advanced-usage.html#ssl-warnings\n",
      "  warnings.warn(\n",
      "C:\\Users\\USER\\anaconda3\\lib\\site-packages\\urllib3\\connectionpool.py:1043: InsecureRequestWarning: Unverified HTTPS request is being made to host 'apis.data.go.kr'. Adding certificate verification is strongly advised. See: https://urllib3.readthedocs.io/en/1.26.x/advanced-usage.html#ssl-warnings\n",
      "  warnings.warn(\n"
     ]
    },
    {
     "name": "stdout",
     "output_type": "stream",
     "text": [
      "<?xml version=\"1.0\" encoding=\"utf-8\"?>\n",
      "<response><header><resultCode>00</resultCode><resultMsg>NORMAL SERVICE.</resultMsg></header><body><item><appnrsn>하천 미개수로 제방유실우려, 제외 농경지 하상보다 낮아 내수침수</appnrsn><areaname>상거지구</areaname><areanm>경기도 여주군 여주읍  </areanm><designatedate>20060224  </designatedate><dstrskargradcd>3</dstrskargradcd><fcltymgcnm>여주군청</fcltymgcnm><fcltymgctelno>031-887-2552</fcltymgctelno><fcltynm>용금천</fcltynm><managementno>417302006016   </managementno><pushahead>4                             </pushahead><relisde>20130104</relisde><riskfctrcn>여주읍 주거지역 및 농림지역에 위치한 하천으로 집중호우시 하천 단면폭이 협소하여 제방유실시 인근 농경지 및 가옥침수 우려가 있어 하천제방의 단면확보로 주민 재산보호</riskfctrcn><sigun>4173025000</sigun><type>005                           </type><updtdttm>2013-06-05T09:22:28+09:00</updtdttm></item></body></response>\n",
      "경기도여주군여주읍\n",
      "\n",
      "<?xml version=\"1.0\" encoding=\"utf-8\"?>\n",
      "<response><header><resultCode>00</resultCode><resultMsg>NORMAL SERVICE.</resultMsg></header><body><item><appnar>0</appnar><appnrsn>하천의 미개수로 제방유실우려가 있으며 제외지의 농경지가 하상보다</appnrsn><areaname>오학지구</areaname><areanm>경기도 여주군 여주읍  </areanm><designatedate>20060224  </designatedate><dstrskargradcd>3</dstrskargradcd><fcltynm>대수리천</fcltynm><managementno>417302006019   </managementno><pushahead>1                             </pushahead><riskfctrcn>여주읍 주거지역 및 농림지역에 위치한 하천으로 집중호우시 하천 단면폭이 협소하여 제방유실시 인근 농경지 및 가옥침수 우려가 있어 하천제방의 단면확보로 주민 재산보호</riskfctrcn><sigun>4173025000</sigun><sigungu>오학리</sigungu><type>005                           </type><updtdttm>2015-06-26T13:33:00+09:00</updtdttm><wrssmnm>null</wrssmnm></item></body></response>\n",
      "경기도여주군여주읍\n",
      "\n"
     ]
    },
    {
     "name": "stderr",
     "output_type": "stream",
     "text": [
      "C:\\Users\\USER\\anaconda3\\lib\\site-packages\\urllib3\\connectionpool.py:1043: InsecureRequestWarning: Unverified HTTPS request is being made to host 'apis.data.go.kr'. Adding certificate verification is strongly advised. See: https://urllib3.readthedocs.io/en/1.26.x/advanced-usage.html#ssl-warnings\n",
      "  warnings.warn(\n",
      "C:\\Users\\USER\\anaconda3\\lib\\site-packages\\urllib3\\connectionpool.py:1043: InsecureRequestWarning: Unverified HTTPS request is being made to host 'apis.data.go.kr'. Adding certificate verification is strongly advised. See: https://urllib3.readthedocs.io/en/1.26.x/advanced-usage.html#ssl-warnings\n",
      "  warnings.warn(\n"
     ]
    },
    {
     "name": "stdout",
     "output_type": "stream",
     "text": [
      "<?xml version=\"1.0\" encoding=\"utf-8\"?>\n",
      "<response><header><resultCode>00</resultCode><resultMsg>NORMAL SERVICE.</resultMsg></header><body><item><appnrsn>미새수 소하천으로 인근지 유실위험</appnrsn><areaname>덕평지구</areaname><areanm>경기도 여주군 점동면  </areanm><designatedate>20060224  </designatedate><dstrskargradcd>3</dstrskargradcd><fcltynm>덕실천</fcltynm><managementno>417302013032   </managementno><pushahead>4                             </pushahead><relisde>20130104</relisde><relisrsn>소하천 정비공사 완료(L=0.4km)</relisrsn><riskfctrcn>유실위험</riskfctrcn><sigun>4173031000</sigun><sigungu>여주군 점동면 덕평리 585</sigungu><type>005                           </type><updtdttm>2013-06-12T18:34:11+09:00</updtdttm><wrssmnm>기타</wrssmnm></item></body></response>\n",
      "경기도여주군점동면\n",
      "\n",
      "<?xml version=\"1.0\" encoding=\"utf-8\"?>\n",
      "<response><header><resultCode>00</resultCode><resultMsg>NORMAL SERVICE.</resultMsg></header><body><item><appnrsn>유실위험</appnrsn><areaname>장안지구</areaname><areanm>경기도 여주군 점동면  </areanm><designatedate>20060224  </designatedate><dstrskargradcd>3</dstrskargradcd><fcltynm>소하천</fcltynm><managementno>417302013036   </managementno><pushahead>4                             </pushahead><relisde>20090630</relisde><relisrsn>소하천 정비완료</relisrsn><riskfctrcn>하천폭 및 여유고 부족 등으로 집중호우시 주택 및 농경지 등 침수 피해 우려</riskfctrcn><sigun>4173031000</sigun><sigungu>여주군 점동면 장안리 653</sigungu><type>005                           </type><updtdttm>2013-06-12T18:59:04+09:00</updtdttm></item></body></response>\n",
      "경기도여주군점동면\n",
      "\n"
     ]
    },
    {
     "name": "stderr",
     "output_type": "stream",
     "text": [
      "C:\\Users\\USER\\anaconda3\\lib\\site-packages\\urllib3\\connectionpool.py:1043: InsecureRequestWarning: Unverified HTTPS request is being made to host 'apis.data.go.kr'. Adding certificate verification is strongly advised. See: https://urllib3.readthedocs.io/en/1.26.x/advanced-usage.html#ssl-warnings\n",
      "  warnings.warn(\n",
      "C:\\Users\\USER\\anaconda3\\lib\\site-packages\\urllib3\\connectionpool.py:1043: InsecureRequestWarning: Unverified HTTPS request is being made to host 'apis.data.go.kr'. Adding certificate verification is strongly advised. See: https://urllib3.readthedocs.io/en/1.26.x/advanced-usage.html#ssl-warnings\n",
      "  warnings.warn(\n"
     ]
    },
    {
     "name": "stdout",
     "output_type": "stream",
     "text": [
      "<?xml version=\"1.0\" encoding=\"utf-8\"?>\n",
      "<response><header><resultCode>00</resultCode><resultMsg>NORMAL SERVICE.</resultMsg></header><body><item><appnrsn>미개수 하천</appnrsn><areaname>천서지구</areaname><areanm>경기도 여주군 대신면  </areanm><designatedate>20060224  </designatedate><dstrskargradcd>3</dstrskargradcd><fcltynm>지방하천</fcltynm><managementno>417302013033   </managementno><pushahead>4                             </pushahead><relisde>20090630</relisde><relisrsn>하천개수 완료</relisrsn><riskfctrcn>하천폭 및 여유고 부족등으로 집중호우시 주택 및 농경지 등 침수피해 우려</riskfctrcn><sigun>4173036000</sigun><sigungu>여주군 대신면 천서리 215</sigungu><type>005                           </type><updtdttm>2013-06-12T18:43:08+09:00</updtdttm></item></body></response>\n",
      "경기도여주군대신면\n",
      "\n",
      "<?xml version=\"1.0\" encoding=\"utf-8\"?>\n",
      "<response><header><resultCode>00</resultCode><resultMsg>NORMAL SERVICE.</resultMsg></header><body><item><appnrsn>하천의 미개수로농경지가 하상보다 낮아 내수침수 발생</appnrsn><areaname>서원지구</areaname><areanm>경기도 여주군 북내면  </areanm><designatedate>20060224  </designatedate><dstrskargradcd>3</dstrskargradcd><fcltymgcnm>여주군청</fcltymgcnm><fcltymgctelno>031-887-2552</fcltymgctelno><fcltynm>원골천</fcltynm><managementno>417302006021   </managementno><pushahead>4                             </pushahead><relisde>20130104</relisde><riskfctrcn>북내면 주거지역 및 농림지역에 위치한 하천으로 집중호우시 하천 단면폭이 협소하여 제방유실시 인근 농경지 및 가옥침수 우려가 있어 하천제방의 단면확보로 주민 재산보호</riskfctrcn><sigun>4173037000</sigun><type>005                           </type><updtdttm>2013-06-05T09:29:16+09:00</updtdttm></item></body></response>\n",
      "경기도여주군북내면\n",
      "\n"
     ]
    },
    {
     "name": "stderr",
     "output_type": "stream",
     "text": [
      "C:\\Users\\USER\\anaconda3\\lib\\site-packages\\urllib3\\connectionpool.py:1043: InsecureRequestWarning: Unverified HTTPS request is being made to host 'apis.data.go.kr'. Adding certificate verification is strongly advised. See: https://urllib3.readthedocs.io/en/1.26.x/advanced-usage.html#ssl-warnings\n",
      "  warnings.warn(\n",
      "C:\\Users\\USER\\anaconda3\\lib\\site-packages\\urllib3\\connectionpool.py:1043: InsecureRequestWarning: Unverified HTTPS request is being made to host 'apis.data.go.kr'. Adding certificate verification is strongly advised. See: https://urllib3.readthedocs.io/en/1.26.x/advanced-usage.html#ssl-warnings\n",
      "  warnings.warn(\n"
     ]
    },
    {
     "name": "stdout",
     "output_type": "stream",
     "text": [
      "<?xml version=\"1.0\" encoding=\"utf-8\"?>\n",
      "<response><header><resultCode>00</resultCode><resultMsg>NORMAL SERVICE.</resultMsg></header><body><item><appnrsn>하천의 미개수로 농경지가 하상보다 낮아 내수침수 발생</appnrsn><areaname>상교지구</areaname><areanm>경기도 여주군 북내면  </areanm><designatedate>20060224  </designatedate><dstrskargradcd>3</dstrskargradcd><fcltymgcnm>여주군청</fcltymgcnm><fcltymgctelno>031-887-2552</fcltymgctelno><fcltynm>상교천</fcltynm><managementno>417302006022   </managementno><pushahead>4                             </pushahead><relisde>20130104</relisde><riskfctrcn>북내면 주거지역 및 농림지역에 위치한 하천으로 집중호우시 하천 단면폭이 협소하여 제방유실시 인근 농경지 및 가옥침수 우려가 있어 하천제방의 단면확보로 주민 재산보호</riskfctrcn><sigun>4173037000</sigun><type>005                           </type><updtdttm>2013-06-05T09:30:19+09:00</updtdttm></item></body></response>\n",
      "경기도여주군북내면\n",
      "\n",
      "<?xml version=\"1.0\" encoding=\"utf-8\"?>\n",
      "<response><header><resultCode>00</resultCode><resultMsg>NORMAL SERVICE.</resultMsg></header><body><item><appnar>0</appnar><appnrsn>주택 및 농경지 침수</appnrsn><areaname>청석지구</areaname><areanm>전라남도 신안군 압해면  </areanm><designatedate>20090205  </designatedate><dstrskargradcd>3</dstrskargradcd><fcltymgcnm>신안군</fcltymgcnm><fcltymgctelno>061-240-8696</fcltymgctelno><fcltynm>압해매화지구</fcltynm><managementno>469102009008   </managementno><pushahead>1                             </pushahead><riskfctrcn>해안가에 방조제 시설이 없음</riskfctrcn><sigun>4691043000</sigun><type>005                           </type><updtdttm>2015-12-03T09:09:00+09:00</updtdttm><wrssmnm>기타</wrssmnm></item></body></response>\n",
      "전라남도신안군압해면\n",
      "\n"
     ]
    },
    {
     "name": "stderr",
     "output_type": "stream",
     "text": [
      "C:\\Users\\USER\\anaconda3\\lib\\site-packages\\urllib3\\connectionpool.py:1043: InsecureRequestWarning: Unverified HTTPS request is being made to host 'apis.data.go.kr'. Adding certificate verification is strongly advised. See: https://urllib3.readthedocs.io/en/1.26.x/advanced-usage.html#ssl-warnings\n",
      "  warnings.warn(\n",
      "C:\\Users\\USER\\anaconda3\\lib\\site-packages\\urllib3\\connectionpool.py:1043: InsecureRequestWarning: Unverified HTTPS request is being made to host 'apis.data.go.kr'. Adding certificate verification is strongly advised. See: https://urllib3.readthedocs.io/en/1.26.x/advanced-usage.html#ssl-warnings\n",
      "  warnings.warn(\n"
     ]
    },
    {
     "name": "stdout",
     "output_type": "stream",
     "text": [
      "<?xml version=\"1.0\" encoding=\"utf-8\"?>\n",
      "<response><header><resultCode>00</resultCode><resultMsg>NORMAL SERVICE.</resultMsg></header><body><item><appnar>10000</appnar><appnrsn>집중호우시 제방 및 교량유실</appnrsn><areaname>횡계</areaname><areanm>강원도 평창군 도암면  </areanm><designatedate>20100526  </designatedate><dstrskargradcd>2</dstrskargradcd><fcltymgcnm>평창군청</fcltymgcnm><fcltymgctelno>330-2396</fcltymgctelno><fcltynm>제방 및 교량</fcltynm><managementno>427602010013   </managementno><pushahead>2                             </pushahead><riskfctrcn>집중호우시 제방 및 교량유실</riskfctrcn><sigun>4276037000</sigun><type>005                           </type><updtdttm>2016-03-11T14:08:54+09:00</updtdttm><wrssmnm>한강</wrssmnm></item></body></response>\n",
      "강원도평창군도암면\n",
      "\n",
      "<?xml version=\"1.0\" encoding=\"utf-8\"?>\n",
      "<response><header><resultCode>00</resultCode><resultMsg>NORMAL SERVICE.</resultMsg></header><body><item><appnar>85390</appnar><appnrsn>홍수로 인한 유실피해우려</appnrsn><areaname>백전리지구</areaname><areanm>강원도 정선군 동면  </areanm><designatedate>20121226  </designatedate><dstrskargradcd>3</dstrskargradcd><fcltymgcnm>태백도로관리사업소</fcltymgcnm><fcltymgctelno>033-552-2755</fcltymgctelno><fcltynm>하천(교량)</fcltynm><managementno>427702012015   </managementno><pushahead>4                             </pushahead><relisde>20160129</relisde><relisrsn>정비사업 완료에 따른 위험요인 해소</relisrsn><riskfctrcn>백전교통수단면 부족 및 교량고가 계획홍수위 보다 낮아 집중호우시 범람 및 교량유실 우려</riskfctrcn><sigun>4277031000</sigun><sigungu>백전1교</sigungu><type>005                           </type><updtdttm>2016-02-12T15:24:26+09:00</updtdttm><wrssmnm>한강</wrssmnm></item></body></response>\n",
      "강원도정선군동면\n",
      "\n"
     ]
    },
    {
     "name": "stderr",
     "output_type": "stream",
     "text": [
      "C:\\Users\\USER\\anaconda3\\lib\\site-packages\\urllib3\\connectionpool.py:1043: InsecureRequestWarning: Unverified HTTPS request is being made to host 'apis.data.go.kr'. Adding certificate verification is strongly advised. See: https://urllib3.readthedocs.io/en/1.26.x/advanced-usage.html#ssl-warnings\n",
      "  warnings.warn(\n",
      "C:\\Users\\USER\\anaconda3\\lib\\site-packages\\urllib3\\connectionpool.py:1043: InsecureRequestWarning: Unverified HTTPS request is being made to host 'apis.data.go.kr'. Adding certificate verification is strongly advised. See: https://urllib3.readthedocs.io/en/1.26.x/advanced-usage.html#ssl-warnings\n",
      "  warnings.warn(\n"
     ]
    },
    {
     "name": "stdout",
     "output_type": "stream",
     "text": [
      "<?xml version=\"1.0\" encoding=\"utf-8\"?>\n",
      "<response><header><resultCode>00</resultCode><resultMsg>NORMAL SERVICE.</resultMsg></header><body><item><appnar>0</appnar><appnrsn>여양교의 부등침하 및 단면부족</appnrsn><areaname>기양지구</areaname><areanm>경상북도 울진군 원남면  </areanm><designatedate>20101119  </designatedate><dstrskargradcd>3</dstrskargradcd><fcltymgcnm>울진군</fcltymgcnm><fcltymgctelno>789-6152</fcltymgctelno><fcltynm>여양교</fcltynm><managementno>479302011006   </managementno><pushahead>4                             </pushahead><riskfctrcn>기존 교량 및 제방의 불완전</riskfctrcn><sigun>4793034000</sigun><type>005                           </type><updtdttm>2015-11-23T21:58:54+09:00</updtdttm><wrssmnm>낙동강</wrssmnm></item></body></response>\n",
      "경상북도울진군원남면\n",
      "\n",
      "<?xml version=\"1.0\" encoding=\"utf-8\"?>\n",
      "<response><header><resultCode>00</resultCode><resultMsg>NORMAL SERVICE.</resultMsg></header><body><item><appnrsn>우천시 붕괴위험</appnrsn><areaname>와룡지구</areaname><areanm>전라남도 영광군 영광읍  </areanm><designatedate>20100430  </designatedate><dstrskargradcd>1</dstrskargradcd><fcltymgcnm>영광군청</fcltymgcnm><fcltynm>용산교</fcltynm><managementno>468702010008   </managementno><pushahead>4                             </pushahead><relisde>20130715</relisde><riskfctrcn>정밀안전진단 결과 D급 위험시설, 우천으로 인한 수위상승 시 붕괴위험으로 차량진입 제한과 교량붕괴 위험에 따른 주민불안감 증가</riskfctrcn><sigun>4687025000</sigun><type>005                           </type><updtdttm>2014-01-03T15:52:44+09:00</updtdttm></item></body></response>\n",
      "전라남도영광군영광읍\n",
      "\n"
     ]
    },
    {
     "name": "stderr",
     "output_type": "stream",
     "text": [
      "C:\\Users\\USER\\anaconda3\\lib\\site-packages\\urllib3\\connectionpool.py:1043: InsecureRequestWarning: Unverified HTTPS request is being made to host 'apis.data.go.kr'. Adding certificate verification is strongly advised. See: https://urllib3.readthedocs.io/en/1.26.x/advanced-usage.html#ssl-warnings\n",
      "  warnings.warn(\n",
      "C:\\Users\\USER\\anaconda3\\lib\\site-packages\\urllib3\\connectionpool.py:1043: InsecureRequestWarning: Unverified HTTPS request is being made to host 'apis.data.go.kr'. Adding certificate verification is strongly advised. See: https://urllib3.readthedocs.io/en/1.26.x/advanced-usage.html#ssl-warnings\n",
      "  warnings.warn(\n"
     ]
    },
    {
     "name": "stdout",
     "output_type": "stream",
     "text": [
      "<?xml version=\"1.0\" encoding=\"utf-8\"?>\n",
      "<response><header><resultCode>00</resultCode><resultMsg>NORMAL SERVICE.</resultMsg></header><body><item><appnrsn>교량붕괴위험</appnrsn><areaname>평일지구</areaname><areanm>전라남도 영광군 영광읍  </areanm><designatedate>20100430  </designatedate><dstrskargradcd>1</dstrskargradcd><fcltymgcnm>영광군청</fcltymgcnm><fcltynm>평일교</fcltynm><managementno>468702010010   </managementno><pushahead>4                             </pushahead><relisde>20130715</relisde><riskfctrcn>우천으로 인한 하천 수위상승시 붕괴위험으로 차량진입 제한과 교량붕괴 위힘</riskfctrcn><sigun>4687025000</sigun><type>005                           </type><updtdttm>2015-04-29T13:13:22+09:00</updtdttm><wrssmnm>null</wrssmnm></item></body></response>\n",
      "전라남도영광군영광읍\n",
      "\n",
      "<?xml version=\"1.0\" encoding=\"utf-8\"?>\n",
      "<response><header><resultCode>00</resultCode><resultMsg>NORMAL SERVICE.</resultMsg></header><body><item><appnrsn>홍수위보다낮은교량</appnrsn><areaname>와우지구</areaname><areanm>전라남도 담양군 봉산면  </areanm><designatedate>20061018  </designatedate><dstrskargradcd>1</dstrskargradcd><fcltymgcnm>담양군</fcltymgcnm><fcltymgctelno>061-380-3183</fcltymgctelno><fcltynm>와우교</fcltynm><managementno>467102008006   </managementno><pushahead>1                             </pushahead><riskfctrcn>침수위험</riskfctrcn><sigun>4671031000</sigun><type>005                           </type><updtdttm>2013-06-26T14:43:20+09:00</updtdttm><wrssmnm>영산강</wrssmnm></item></body></response>\n",
      "전라남도담양군봉산면\n",
      "\n"
     ]
    },
    {
     "name": "stderr",
     "output_type": "stream",
     "text": [
      "C:\\Users\\USER\\anaconda3\\lib\\site-packages\\urllib3\\connectionpool.py:1043: InsecureRequestWarning: Unverified HTTPS request is being made to host 'apis.data.go.kr'. Adding certificate verification is strongly advised. See: https://urllib3.readthedocs.io/en/1.26.x/advanced-usage.html#ssl-warnings\n",
      "  warnings.warn(\n",
      "C:\\Users\\USER\\anaconda3\\lib\\site-packages\\urllib3\\connectionpool.py:1043: InsecureRequestWarning: Unverified HTTPS request is being made to host 'apis.data.go.kr'. Adding certificate verification is strongly advised. See: https://urllib3.readthedocs.io/en/1.26.x/advanced-usage.html#ssl-warnings\n",
      "  warnings.warn(\n"
     ]
    },
    {
     "name": "stdout",
     "output_type": "stream",
     "text": [
      "<?xml version=\"1.0\" encoding=\"utf-8\"?>\n",
      "<response><header><resultCode>00</resultCode><resultMsg>NORMAL SERVICE.</resultMsg></header><body><item><appnrsn>홍수위보다낮은교량</appnrsn><areaname>주산지구</areaname><areanm>전라남도 담양군 고서면  </areanm><designatedate>20061018  </designatedate><dstrskargradcd>2</dstrskargradcd><fcltymgcnm>담양군</fcltymgcnm><fcltymgctelno>061-380-3183</fcltymgctelno><fcltynm>주산교</fcltynm><managementno>467102008007   </managementno><pushahead>1                             </pushahead><riskfctrcn>침스위험</riskfctrcn><sigun>4671032000</sigun><type>005                           </type><updtdttm>2013-06-26T14:43:31+09:00</updtdttm><wrssmnm>영산강</wrssmnm></item></body></response>\n",
      "전라남도담양군고서면\n",
      "\n"
     ]
    },
    {
     "name": "stderr",
     "output_type": "stream",
     "text": [
      "C:\\Users\\USER\\anaconda3\\lib\\site-packages\\urllib3\\connectionpool.py:1043: InsecureRequestWarning: Unverified HTTPS request is being made to host 'apis.data.go.kr'. Adding certificate verification is strongly advised. See: https://urllib3.readthedocs.io/en/1.26.x/advanced-usage.html#ssl-warnings\n",
      "  warnings.warn(\n"
     ]
    },
    {
     "name": "stdout",
     "output_type": "stream",
     "text": [
      "<?xml version=\"1.0\" encoding=\"utf-8\"?>\n",
      "<response><header><resultCode>00</resultCode><resultMsg>NORMAL SERVICE.</resultMsg></header><body><item><appnrsn>홍수위보다낮은교량</appnrsn><areaname>동운지구</areaname><areanm>전라남도 담양군 고서면  </areanm><designatedate>20061018  </designatedate><dstrskargradcd>1</dstrskargradcd><fcltymgcnm>담양군</fcltymgcnm><fcltymgctelno>061-380-3183</fcltymgctelno><fcltynm>동운교</fcltynm><managementno>467102008008   </managementno><pushahead>4                             </pushahead><relisde>20130118</relisde><relisrsn>하천정비사업(2011~2012년도) 완료로 상습침수 해소</relisrsn><riskfctrcn>침수위험</riskfctrcn><sigun>4671032000</sigun><type>005                           </type><updtdttm>2016-07-13T09:22:09+09:00</updtdttm><wrssmnm>영산강</wrssmnm></item></body></response>\n",
      "전라남도담양군고서면\n",
      "\n"
     ]
    },
    {
     "name": "stderr",
     "output_type": "stream",
     "text": [
      "C:\\Users\\USER\\anaconda3\\lib\\site-packages\\urllib3\\connectionpool.py:1043: InsecureRequestWarning: Unverified HTTPS request is being made to host 'apis.data.go.kr'. Adding certificate verification is strongly advised. See: https://urllib3.readthedocs.io/en/1.26.x/advanced-usage.html#ssl-warnings\n",
      "  warnings.warn(\n"
     ]
    },
    {
     "name": "stdout",
     "output_type": "stream",
     "text": [
      "<?xml version=\"1.0\" encoding=\"utf-8\"?>\n",
      "<response><header><resultCode>00</resultCode><resultMsg>NORMAL SERVICE.</resultMsg></header><body><item><appnrsn>홍수위보다낮은교량</appnrsn><areaname>분향지구</areaname><areanm>전라남도 담양군 고서면  </areanm><designatedate>20061018  </designatedate><dstrskargradcd>2</dstrskargradcd><fcltymgcnm>담양군</fcltymgcnm><fcltymgctelno>061-380-3183</fcltymgctelno><fcltynm>증암교</fcltynm><managementno>467102008009   </managementno><pushahead>1                             </pushahead><riskfctrcn>침수위험</riskfctrcn><sigun>4671032000</sigun><type>005                           </type><updtdttm>2013-06-26T14:43:45+09:00</updtdttm><wrssmnm>영산강</wrssmnm></item></body></response>\n",
      "전라남도담양군고서면\n",
      "\n",
      "<?xml version=\"1.0\" encoding=\"utf-8\"?>\n",
      "<response><header><resultCode>00</resultCode><resultMsg>NORMAL SERVICE.</resultMsg></header><body><item><appnar>0</appnar><appnrsn>홍수위보다낮은교량</appnrsn><areaname>봉서지구</areaname><areanm>전라남도 담양군 무정면  </areanm><designatedate>20061018  </designatedate><dstrskargradcd>1</dstrskargradcd><fcltymgcnm>담양군</fcltymgcnm><fcltymgctelno>061-380-3183</fcltymgctelno><fcltynm>봉서교</fcltynm><managementno>467102008010   </managementno><pushahead>4                             </pushahead><riskfctrcn>침수위험</riskfctrcn><sigun>4671036000</sigun><type>005                           </type><updtdttm>2016-07-13T09:22:25+09:00</updtdttm><wrssmnm>영산강</wrssmnm></item></body></response>\n",
      "전라남도담양군무정면\n",
      "\n"
     ]
    },
    {
     "name": "stderr",
     "output_type": "stream",
     "text": [
      "C:\\Users\\USER\\anaconda3\\lib\\site-packages\\urllib3\\connectionpool.py:1043: InsecureRequestWarning: Unverified HTTPS request is being made to host 'apis.data.go.kr'. Adding certificate verification is strongly advised. See: https://urllib3.readthedocs.io/en/1.26.x/advanced-usage.html#ssl-warnings\n",
      "  warnings.warn(\n",
      "C:\\Users\\USER\\anaconda3\\lib\\site-packages\\urllib3\\connectionpool.py:1043: InsecureRequestWarning: Unverified HTTPS request is being made to host 'apis.data.go.kr'. Adding certificate verification is strongly advised. See: https://urllib3.readthedocs.io/en/1.26.x/advanced-usage.html#ssl-warnings\n",
      "  warnings.warn(\n",
      "C:\\Users\\USER\\anaconda3\\lib\\site-packages\\urllib3\\connectionpool.py:1043: InsecureRequestWarning: Unverified HTTPS request is being made to host 'apis.data.go.kr'. Adding certificate verification is strongly advised. See: https://urllib3.readthedocs.io/en/1.26.x/advanced-usage.html#ssl-warnings\n",
      "  warnings.warn(\n"
     ]
    },
    {
     "name": "stdout",
     "output_type": "stream",
     "text": [
      "<?xml version=\"1.0\" encoding=\"utf-8\"?>\n",
      "<response><header><resultCode>00</resultCode><resultMsg>NORMAL SERVICE.</resultMsg></header><body><item><appnar>0</appnar><appnrsn>홍수위보다낮은교량</appnrsn><areaname>대성지구</areaname><areanm>전라남도 담양군 금성면  </areanm><designatedate>20061018  </designatedate><dstrskargradcd>2</dstrskargradcd><fcltymgcnm>담양군</fcltymgcnm><fcltymgctelno>061-380-3183</fcltymgctelno><fcltynm>대성교</fcltynm><managementno>467102008011   </managementno><pushahead>4                             </pushahead><relisde>20140919</relisde><relisrsn>교량재가설 및 정비 완료</relisrsn><riskfctrcn>침수위험</riskfctrcn><sigun>4671037000</sigun><type>005                           </type><updtdttm>2016-07-13T09:21:46+09:00</updtdttm><wrssmnm>영산강</wrssmnm></item></body></response>\n",
      "전라남도담양군금성면\n",
      "\n",
      "<?xml version=\"1.0\" encoding=\"utf-8\"?>\n",
      "<response><header><resultCode>00</resultCode><resultMsg>NORMAL SERVICE.</resultMsg></header><body><item><appnrsn>통수단면부족에 의한 제방유실 위험</appnrsn><areaname>월계지구</areaname><areanm>전라남도 담양군 용면  </areanm><designatedate>20061018  </designatedate><dstrskargradcd>2</dstrskargradcd><fcltynm>복리하천</fcltynm><managementno>467102007002   </managementno><pushahead>4                             </pushahead><relisde>20130118</relisde><relisrsn>소하천위험지구정비사업 완료로 상습침수 해소</relisrsn><riskfctrcn>제방유실</riskfctrcn><sigun>4671038000</sigun><type>005                           </type><updtdttm>2013-06-17T11:31:04+09:00</updtdttm><wrssmnm>영산강</wrssmnm></item></body></response>\n",
      "전라남도담양군용면\n",
      "\n"
     ]
    },
    {
     "name": "stderr",
     "output_type": "stream",
     "text": [
      "C:\\Users\\USER\\anaconda3\\lib\\site-packages\\urllib3\\connectionpool.py:1043: InsecureRequestWarning: Unverified HTTPS request is being made to host 'apis.data.go.kr'. Adding certificate verification is strongly advised. See: https://urllib3.readthedocs.io/en/1.26.x/advanced-usage.html#ssl-warnings\n",
      "  warnings.warn(\n",
      "C:\\Users\\USER\\anaconda3\\lib\\site-packages\\urllib3\\connectionpool.py:1043: InsecureRequestWarning: Unverified HTTPS request is being made to host 'apis.data.go.kr'. Adding certificate verification is strongly advised. See: https://urllib3.readthedocs.io/en/1.26.x/advanced-usage.html#ssl-warnings\n",
      "  warnings.warn(\n"
     ]
    },
    {
     "name": "stdout",
     "output_type": "stream",
     "text": [
      "<?xml version=\"1.0\" encoding=\"utf-8\"?>\n",
      "<response><header><resultCode>00</resultCode><resultMsg>NORMAL SERVICE.</resultMsg></header><body><item><appnrsn>통수단면부족에 의한 제방유실위험</appnrsn><areaname>용치지구</areaname><areanm>전라남도 담양군 용면  </areanm><designatedate>20061018  </designatedate><dstrskargradcd>3</dstrskargradcd><fcltynm>용지천</fcltynm><managementno>467102007003   </managementno><pushahead>4                             </pushahead><relisde>20110722</relisde><riskfctrcn>제방유실</riskfctrcn><sigun>4671038000</sigun><type>005                           </type><updtdttm>2013-06-17T11:31:16+09:00</updtdttm><wrssmnm>영산강</wrssmnm></item></body></response>\n",
      "전라남도담양군용면\n",
      "\n",
      "<?xml version=\"1.0\" encoding=\"utf-8\"?>\n",
      "<response><header><resultCode>00</resultCode><resultMsg>NORMAL SERVICE.</resultMsg></header><body><item><appnrsn>통수단면부족에의한제방유실위험</appnrsn><areaname>용흥지구</areaname><areanm>전라남도 담양군 월산면  </areanm><designatedate>20061018  </designatedate><dstrskargradcd>1</dstrskargradcd><fcltynm>북하천</fcltynm><managementno>467102007001   </managementno><pushahead>4                             </pushahead><riskfctrcn>제방유실위험</riskfctrcn><sigun>4671039000</sigun><type>005                           </type><updtdttm>2014-09-16T13:21:37+09:00</updtdttm><wrssmnm>영산강</wrssmnm></item></body></response>\n",
      "전라남도담양군월산면\n",
      "\n",
      "<?xml version=\"1.0\" encoding=\"utf-8\"?>\n",
      "<response><header><resultCode>00</resultCode><resultMsg>NORMAL SERVICE.</resultMsg></header><body><item><appnar>1500</appnar><appnrsn>홍수위보다 낮은교량으로 침수위험</appnrsn><areaname>마항지구</areaname><areanm>전라남도 담양군 봉산면  </areanm><designatedate>20061018  </designatedate><dstrskargradcd>1</dstrskargradcd><fcltymgcnm>담양군</fcltymgcnm><fcltymgctelno>061-380-3352</fcltymgctelno><fcltynm>마항교</fcltynm><managementno>467102008005   </managementno><pushahead>2                             </pushahead><riskfctrcn>범람위험</riskfctrcn><sigun>4671031000</sigun><sigungu>12</sigungu><type>005                           </type><updtdttm>2017-02-02T13:37:18+09:00</updtdttm><wrssmnm>영산강</wrssmnm></item></body></response>\n"
     ]
    },
    {
     "name": "stderr",
     "output_type": "stream",
     "text": [
      "C:\\Users\\USER\\anaconda3\\lib\\site-packages\\urllib3\\connectionpool.py:1043: InsecureRequestWarning: Unverified HTTPS request is being made to host 'apis.data.go.kr'. Adding certificate verification is strongly advised. See: https://urllib3.readthedocs.io/en/1.26.x/advanced-usage.html#ssl-warnings\n",
      "  warnings.warn(\n",
      "C:\\Users\\USER\\anaconda3\\lib\\site-packages\\urllib3\\connectionpool.py:1043: InsecureRequestWarning: Unverified HTTPS request is being made to host 'apis.data.go.kr'. Adding certificate verification is strongly advised. See: https://urllib3.readthedocs.io/en/1.26.x/advanced-usage.html#ssl-warnings\n",
      "  warnings.warn(\n"
     ]
    },
    {
     "name": "stdout",
     "output_type": "stream",
     "text": [
      "전라남도담양군봉산면\n",
      "\n",
      "<?xml version=\"1.0\" encoding=\"utf-8\"?>\n",
      "<response><header><resultCode>00</resultCode><resultMsg>NORMAL SERVICE.</resultMsg></header><body><item><appnar>0</appnar><appnrsn>유실위험</appnrsn><areaname>해창만(포두)</areaname><areanm>전라남도 고흥군 포두면  </areanm><designatedate>20100514  </designatedate><dstrskargradcd>3</dstrskargradcd><fcltymgcnm>고흥군청</fcltymgcnm><fcltynm>해창만</fcltynm><managementno>467702013010   </managementno><pushahead>1                             </pushahead><riskfctrcn>유실위험</riskfctrcn><sigun>4677035000</sigun><type>005                           </type><updtdttm>2015-11-12T11:14:33+09:00</updtdttm><wrssmnm>null</wrssmnm></item></body></response>\n",
      "전라남도고흥군포두면\n",
      "\n"
     ]
    },
    {
     "name": "stderr",
     "output_type": "stream",
     "text": [
      "C:\\Users\\USER\\anaconda3\\lib\\site-packages\\urllib3\\connectionpool.py:1043: InsecureRequestWarning: Unverified HTTPS request is being made to host 'apis.data.go.kr'. Adding certificate verification is strongly advised. See: https://urllib3.readthedocs.io/en/1.26.x/advanced-usage.html#ssl-warnings\n",
      "  warnings.warn(\n",
      "C:\\Users\\USER\\anaconda3\\lib\\site-packages\\urllib3\\connectionpool.py:1043: InsecureRequestWarning: Unverified HTTPS request is being made to host 'apis.data.go.kr'. Adding certificate verification is strongly advised. See: https://urllib3.readthedocs.io/en/1.26.x/advanced-usage.html#ssl-warnings\n",
      "  warnings.warn(\n"
     ]
    },
    {
     "name": "stdout",
     "output_type": "stream",
     "text": [
      "<?xml version=\"1.0\" encoding=\"utf-8\"?>\n",
      " </riskfctrcn><sigun>4679041000</sigun><sigungu>유마사 입구</sigungu><type>005                           </type><updtdttm>2017-01-19T09:49:18+09:00</updtdttm><wrssmnm>섬진강</wrssmnm></item></body></response>남면  </areanm><designatedate>20090415  </designatedate><detailtp>취락지구</detailtp><dstrskargradcd>2</dstrskargradcd><fcltymgcnm>안전건설과</fcltymgcnm><fcltymgctelno>061-379-3802</fcltymgctelno><fcltynm>내남천</fcltynm><managementno>467902009005   </managementno><pushahead>1                             </pushahead><riskfctrcn>집중호우시 인근에 산지가 높고 소하천이 많아서 유량이 집중되며 내남천 수위가 상승되면 내수 배제 곤란으로 제방유실 및 농경지 침수피해가 잦음.\n",
      "전라남도화순군남면\n",
      "취락지구\n",
      "<?xml version=\"1.0\" encoding=\"utf-8\"?>\n",
      "<response><header><resultCode>00</resultCode><resultMsg>NORMAL SERVICE.</resultMsg></header><body><item><appnar>0</appnar><appnrsn>호우시 하천이 범람하여 피해발생</appnrsn><areaname>농안지구</areaname><areanm>전라남도 장흥군 관산읍  </areanm><designatedate>20060224  </designatedate><dstrskargradcd>3</dstrskargradcd><fcltymgcnm>장흥군 건설과</fcltymgcnm><fcltymgctelno>061-860-0656</fcltymgctelno><fcltynm>고읍천</fcltynm><managementno>468002006003   </managementno><pushahead>4                             </pushahead><riskfctrcn>호우시 하천이 범람하여 피해발생</riskfctrcn><sigun>4680025300</sigun><type>005                           </type><updtdttm>2015-11-04T17:09:33+09:00</updtdttm><wrssmnm>기타</wrssmnm></item></body></response>\n",
      "전라남도장흥군관산읍\n",
      "\n"
     ]
    },
    {
     "name": "stderr",
     "output_type": "stream",
     "text": [
      "C:\\Users\\USER\\anaconda3\\lib\\site-packages\\urllib3\\connectionpool.py:1043: InsecureRequestWarning: Unverified HTTPS request is being made to host 'apis.data.go.kr'. Adding certificate verification is strongly advised. See: https://urllib3.readthedocs.io/en/1.26.x/advanced-usage.html#ssl-warnings\n",
      "  warnings.warn(\n",
      "C:\\Users\\USER\\anaconda3\\lib\\site-packages\\urllib3\\connectionpool.py:1043: InsecureRequestWarning: Unverified HTTPS request is being made to host 'apis.data.go.kr'. Adding certificate verification is strongly advised. See: https://urllib3.readthedocs.io/en/1.26.x/advanced-usage.html#ssl-warnings\n",
      "  warnings.warn(\n"
     ]
    },
    {
     "name": "stdout",
     "output_type": "stream",
     "text": [
      "<?xml version=\"1.0\" encoding=\"utf-8\"?>\n",
      " -기존 구조물의 통수 능력이 부족하여 병목현상으로 인한 수위 상승</riskfctrcn><sigun>4680025300</sigun><sigungu>일원</sigungu><type>005                           </type><updtdttm>2015-11-04T17:15:52+09:00</updtdttm><wrssmnm>탐진강</wrssmnm></item></body></response>24  </designatedate><dstrskargradcd>3</dstrskargradcd><fcltymgcnm>건설과</fcltymgcnm><fcltymgctelno>061-860-0656</fcltymgctelno><fcltynm>어은천</fcltynm><managementno>468002013026   </managementno><pushahead>4                             </pushahead><riskfctrcn>-어은천은 외동마을을 관통하여 흐르고 있으나 하폭이 협소하고 제방고가 낮아 주택및 농경지 상습 침수피해 발생\n",
      "전라남도장흥군관산읍\n",
      "\n",
      "<?xml version=\"1.0\" encoding=\"utf-8\"?>\n",
      "<response><header><resultCode>00</resultCode><resultMsg>NORMAL SERVICE.</resultMsg></header><body><item><appnar>0</appnar><appnrsn>호우시 하천이 범람하여 피해발생</appnrsn><areaname>오산지구</areaname><areanm>전라남도 장흥군 대덕읍  </areanm><designatedate>20060224  </designatedate><dstrskargradcd>3</dstrskargradcd><fcltymgcnm>장흥군 건설과</fcltymgcnm><fcltymgctelno>061-860-0656</fcltymgctelno><fcltynm>오산천</fcltynm><managementno>468002006001   </managementno><pushahead>1                             </pushahead><riskfctrcn>호우시 하천이 범람하여 피해발생</riskfctrcn><sigun>4680025600</sigun><sigungu>일원</sigungu><type>005                           </type><updtdttm>2015-11-04T17:53:38+09:00</updtdttm><wrssmnm>null</wrssmnm></item></body></response>\n",
      "전라남도장흥군대덕읍\n",
      "\n"
     ]
    },
    {
     "name": "stderr",
     "output_type": "stream",
     "text": [
      "C:\\Users\\USER\\anaconda3\\lib\\site-packages\\urllib3\\connectionpool.py:1043: InsecureRequestWarning: Unverified HTTPS request is being made to host 'apis.data.go.kr'. Adding certificate verification is strongly advised. See: https://urllib3.readthedocs.io/en/1.26.x/advanced-usage.html#ssl-warnings\n",
      "  warnings.warn(\n",
      "C:\\Users\\USER\\anaconda3\\lib\\site-packages\\urllib3\\connectionpool.py:1043: InsecureRequestWarning: Unverified HTTPS request is being made to host 'apis.data.go.kr'. Adding certificate verification is strongly advised. See: https://urllib3.readthedocs.io/en/1.26.x/advanced-usage.html#ssl-warnings\n",
      "  warnings.warn(\n"
     ]
    },
    {
     "name": "stdout",
     "output_type": "stream",
     "text": [
      "<?xml version=\"1.0\" encoding=\"utf-8\"?>\n",
      " -교량이 노후되고 통수단면이 부족하여 병목 현상으로 인한 수위 상승</riskfctrcn><sigun>4680025600</sigun><sigungu>평촌리</sigungu><type>005                           </type><updtdttm>2016-03-29T09:54:08+09:00</updtdttm><wrssmnm>탐진강</wrssmnm></item></body></response>60224  </designatedate><dstrskargradcd>3</dstrskargradcd><fcltymgcnm>건설과</fcltymgcnm><fcltymgctelno>061-860-0657</fcltymgctelno><fcltynm>평촌천</fcltynm><managementno>468002013023   </managementno><pushahead>2                             </pushahead><riskfctrcn>-평촌천은 지방하천임에도 상류부 하폭이 5m내외이며,산정마을을 관통하고 있어매년수해로 인한 상습 침수피해 발생\n",
      "전라남도장흥군대덕읍\n",
      "\n",
      "<?xml version=\"1.0\" encoding=\"utf-8\"?>\n",
      "<response><header><resultCode>00</resultCode><resultMsg>NORMAL SERVICE.</resultMsg></header><body><item><appnar>0</appnar><appnrsn>매년 홍수시 제방범람으로 농경지 침관수 및 인근주택 침수</appnrsn><areaname>배산지구</areaname><areanm>전라남도 장흥군 장동면  </areanm><designatedate>20040401  </designatedate><detailtp>외수</detailtp><dstrskargradcd>3</dstrskargradcd><fcltymgcnm>건설과</fcltymgcnm><fcltymgctelno>061-860-0656</fcltymgctelno><fcltynm>배산천</fcltynm><managementno>468002004002   </managementno><pushahead>2                             </pushahead><riskfctrcn>제방범람으로 농경지 및 주택침수</riskfctrcn><sigun>4680033000</sigun><sigungu>일원</sigungu><type>005                           </type><updtdttm>2015-11-04T17:06:47+09:00</updtdttm><wrssmnm>null</wrssmnm></item></body></response>\n",
      "전라남도장흥군장동면\n",
      "외수\n"
     ]
    },
    {
     "name": "stderr",
     "output_type": "stream",
     "text": [
      "C:\\Users\\USER\\anaconda3\\lib\\site-packages\\urllib3\\connectionpool.py:1043: InsecureRequestWarning: Unverified HTTPS request is being made to host 'apis.data.go.kr'. Adding certificate verification is strongly advised. See: https://urllib3.readthedocs.io/en/1.26.x/advanced-usage.html#ssl-warnings\n",
      "  warnings.warn(\n",
      "C:\\Users\\USER\\anaconda3\\lib\\site-packages\\urllib3\\connectionpool.py:1043: InsecureRequestWarning: Unverified HTTPS request is being made to host 'apis.data.go.kr'. Adding certificate verification is strongly advised. See: https://urllib3.readthedocs.io/en/1.26.x/advanced-usage.html#ssl-warnings\n",
      "  warnings.warn(\n"
     ]
    },
    {
     "name": "stdout",
     "output_type": "stream",
     "text": [
      "<?xml version=\"1.0\" encoding=\"utf-8\"?>\n",
      " -기존 구조물의 통수 능력이 부족하여 병목현상으로 인한 수위 상승</riskfctrcn><sigun>4680035000</sigun><sigungu>일원</sigungu><type>005                           </type><updtdttm>2015-11-04T17:21:58+09:00</updtdttm><wrssmnm>탐진강</wrssmnm></item></body></response>04  </designatedate><dstrskargradcd>3</dstrskargradcd><fcltymgcnm>건설과</fcltymgcnm><fcltymgctelno>061-860-0656</fcltymgctelno><fcltynm>운월천</fcltynm><managementno>468002013027   </managementno><pushahead>1                             </pushahead><riskfctrcn>-하천폭이 협소하고 제방고가 낮아 집중호우시 주택 및 농경지 등 침수피해 발생\n",
      "전라남도장흥군유치면\n",
      "\n",
      "<?xml version=\"1.0\" encoding=\"utf-8\"?>\n",
      "<response><header><resultCode>00</resultCode><resultMsg>NORMAL SERVICE.</resultMsg></header><body><item><appnar>0</appnar><appnrsn>전소천 우수 유입량 증가로 홍수시 주변 유실우려</appnrsn><areaname>전소천</areaname><areanm>인천광역시 중구 영종동</areanm><designatedate>20060310  </designatedate><detailtp>유실위험지구</detailtp><dstrskargradcd>3</dstrskargradcd><fcltymgcnm>중구청</fcltymgcnm><fcltymgctelno>760-7462</fcltymgctelno><fcltynm>전소천</fcltynm><managementno>281102006001   </managementno><pushahead>3                             </pushahead><riskfctrcn>통수단면 부족으로 전소천 범람 및 주변 농경지 유실위험</riskfctrcn><sigun>2811062000</sigun><type>005                           </type><updtdttm>2016-04-05T20:41:32+09:00</updtdttm><wrssmnm>기타</wrssmnm></item></body></response>\n",
      "인천광역시중구영종동\n",
      "유실위험지구\n"
     ]
    },
    {
     "name": "stderr",
     "output_type": "stream",
     "text": [
      "C:\\Users\\USER\\anaconda3\\lib\\site-packages\\urllib3\\connectionpool.py:1043: InsecureRequestWarning: Unverified HTTPS request is being made to host 'apis.data.go.kr'. Adding certificate verification is strongly advised. See: https://urllib3.readthedocs.io/en/1.26.x/advanced-usage.html#ssl-warnings\n",
      "  warnings.warn(\n"
     ]
    },
    {
     "name": "stdout",
     "output_type": "stream",
     "text": [
      "<?xml version=\"1.0\" encoding=\"utf-8\"?>\n",
      " - 통수단면이 부족한 기존교량 철거 및 신설</riskfctrcn><sigun>4713033000</sigun><sigungu>인천교</sigungu><type>005                           </type><updtdttm>2016-07-20T16:23:30+09:00</updtdttm><wrssmnm>형산강</wrssmnm></item></body></response>  </designatedate><dstrskargradcd>2</dstrskargradcd><fcltynm>인천교</fcltynm><managementno>471302011015   </managementno><pushahead>4                             </pushahead><relisde>20151120</relisde><riskfctrcn>- 교량폭 및 여유고 부족 등 통수단면 부족\n",
      "경상북도경주시내남면\n",
      "\n"
     ]
    },
    {
     "name": "stderr",
     "output_type": "stream",
     "text": [
      "C:\\Users\\USER\\anaconda3\\lib\\site-packages\\urllib3\\connectionpool.py:1043: InsecureRequestWarning: Unverified HTTPS request is being made to host 'apis.data.go.kr'. Adding certificate verification is strongly advised. See: https://urllib3.readthedocs.io/en/1.26.x/advanced-usage.html#ssl-warnings\n",
      "  warnings.warn(\n"
     ]
    },
    {
     "name": "stdout",
     "output_type": "stream",
     "text": [
      "<?xml version=\"1.0\" encoding=\"utf-8\"?>\n",
      "<response><header><resultCode>00</resultCode><resultMsg>NORMAL SERVICE.</resultMsg></header><body><item><appnrsn>노후교량 경간장 및 여유고부족</appnrsn><areaname>이조지구</areaname><areanm>경상북도 경주시 내남면  </areanm><designatedate>20110412  </designatedate><dstrskargradcd>2</dstrskargradcd><fcltynm>이조교</fcltynm><managementno>471302011014   </managementno><pushahead>4                             </pushahead><relisde>20151120</relisde><riskfctrcn>- 교량폭 및 여유고 부족 등 통수단면 부족으로 집중호우시 주택 및 농경지 등 침수피해발생</riskfctrcn><sigun>4713033000</sigun><sigungu>이조교</sigungu><type>005                           </type><updtdttm>2016-07-20T16:23:05+09:00</updtdttm><wrssmnm>형산강</wrssmnm></item></body></response>\n",
      "경상북도경주시내남면\n",
      "\n",
      "<?xml version=\"1.0\" encoding=\"utf-8\"?>\n",
      "<response><header><resultCode>00</resultCode><resultMsg>NORMAL SERVICE.</resultMsg></header><body><item><appnar>21400</appnar><appnrsn>하천의 하폭과 여유고 부족으로 호우 시 호안 유실로 인명피해 우려</appnrsn><areaname>문무지구</areaname><areanm>경상북도 김천시    </areanm><designatedate>20161117  </designatedate><dstrskargradcd>2</dstrskargradcd><fcltymgcnm>김천시</fcltymgcnm><fcltymgctelno>054-420-6332</fcltymgctelno><fcltynm>문무지구</fcltynm><managementno>471502016008   </managementno><pushahead>1                             </pushahead><riskfctrcn>하천의 하폭 및 여유고 부족\n",
      "</riskfctrcn><sigun>4715000000</sigun><type>005                           </type><updtdttm>2017-03-17T11:10:52+09:00</updtdttm><wrssmnm>낙동강</wrssmnm></item></body></response>\n",
      "경상북도김천시\n",
      "\n"
     ]
    },
    {
     "name": "stderr",
     "output_type": "stream",
     "text": [
      "C:\\Users\\USER\\anaconda3\\lib\\site-packages\\urllib3\\connectionpool.py:1043: InsecureRequestWarning: Unverified HTTPS request is being made to host 'apis.data.go.kr'. Adding certificate verification is strongly advised. See: https://urllib3.readthedocs.io/en/1.26.x/advanced-usage.html#ssl-warnings\n",
      "  warnings.warn(\n",
      "C:\\Users\\USER\\anaconda3\\lib\\site-packages\\urllib3\\connectionpool.py:1043: InsecureRequestWarning: Unverified HTTPS request is being made to host 'apis.data.go.kr'. Adding certificate verification is strongly advised. See: https://urllib3.readthedocs.io/en/1.26.x/advanced-usage.html#ssl-warnings\n",
      "  warnings.warn(\n"
     ]
    },
    {
     "name": "stdout",
     "output_type": "stream",
     "text": [
      "<?xml version=\"1.0\" encoding=\"utf-8\"?>\n",
      "<response><header><resultCode>00</resultCode><resultMsg>NORMAL SERVICE.</resultMsg></header><body><item><appnar>40000</appnar><appnrsn>교량 상부구조가 낮아 통수단면 부족</appnrsn><areaname>남호지구</areaname><areanm>경상북도 영덕군 남정면  </areanm><designatedate>20060228  </designatedate><detailtp>유실위험</detailtp><dstrskargradcd>2</dstrskargradcd><fcltymgcnm>영덕군청</fcltymgcnm><fcltymgctelno>730-6521</fcltymgctelno><fcltynm>남정천</fcltynm><managementno>477702006004   </managementno><pushahead>4                             </pushahead><relisde>20100430</relisde><relisrsn>자연재해위험개선지구 정비사업 완료(교량개체 1개소)</relisrsn><riskfctrcn>노후교량으로 붕괴위험 및 통수단면 부족등으로 급격한 수위상승 및 유속증가를 유발하여 인명피해 및 침수, 유실위험 지역</riskfctrcn><sigun>4777032000</sigun><type>005                           </type><updtdttm>2015-11-05T09:36:54+09:00</updtdttm><wrssmnm>기타</wrssmnm></item></body></response>\n",
      "경상북도영덕군남정면\n",
      "유실위험\n"
     ]
    },
    {
     "name": "stderr",
     "output_type": "stream",
     "text": [
      "C:\\Users\\USER\\anaconda3\\lib\\site-packages\\urllib3\\connectionpool.py:1043: InsecureRequestWarning: Unverified HTTPS request is being made to host 'apis.data.go.kr'. Adding certificate verification is strongly advised. See: https://urllib3.readthedocs.io/en/1.26.x/advanced-usage.html#ssl-warnings\n",
      "  warnings.warn(\n",
      "C:\\Users\\USER\\anaconda3\\lib\\site-packages\\urllib3\\connectionpool.py:1043: InsecureRequestWarning: Unverified HTTPS request is being made to host 'apis.data.go.kr'. Adding certificate verification is strongly advised. See: https://urllib3.readthedocs.io/en/1.26.x/advanced-usage.html#ssl-warnings\n",
      "  warnings.warn(\n"
     ]
    },
    {
     "name": "stdout",
     "output_type": "stream",
     "text": [
      "<?xml version=\"1.0\" encoding=\"utf-8\"?>\n",
      "<response><header><resultCode>00</resultCode><resultMsg>NORMAL SERVICE.</resultMsg></header><body><item><appnar>150000</appnar><appnrsn>괴시교 붕괴우려 및 유수의 지장초래로 농경지, 주택 침수 위험</appnrsn><areaname>괴시지구</areaname><areanm>경상북도 영덕군 영해면  </areanm><designatedate>20060228  </designatedate><dstrskargradcd>2</dstrskargradcd><fcltymgcnm>영덕군청</fcltymgcnm><fcltymgctelno>054-730-6521</fcltymgctelno><fcltynm>송천</fcltynm><managementno>477702006002   </managementno><pushahead>4                             </pushahead><relisrsn>자연재해위험개선지구 정비사업 완료(교량 180m)</relisrsn><riskfctrcn>2002년 태풍\"루사\"로 인해 괴시교가 일부붕괴되어 붕괴우려가 있고, 유수의 지장을 초래하고 있어 농경지,주거지역(덕천리)의 침수 및 유실위험</riskfctrcn><sigun>4777036000</sigun><type>005                           </type><updtdttm>2015-11-05T11:46:56+09:00</updtdttm><wrssmnm>null</wrssmnm></item></body></response>\n",
      "경상북도영덕군영해면\n",
      "\n",
      "<?xml version=\"1.0\" encoding=\"utf-8\"?>\n",
      "<response><header><resultCode>00</resultCode><resultMsg>NORMAL SERVICE.</resultMsg></header><body><item><appnar>500000</appnar><appnrsn>집중호우 및 태풍래습시 유수소통에 장애로 인한 침수 및 유실위험</appnrsn><areaname>각리 지구</areaname><areanm>경상북도 영덕군 병곡면  </areanm><designatedate>20141024  </designatedate><dstrskargradcd>2</dstrskargradcd><fcltymgcnm>영덕군청</fcltymgcnm><fcltymgctelno>054-730-6521</fcltymgctelno><fcltynm>각리천</fcltynm><managementno>477702006001   </managementno><pushahead>2                             </pushahead><riskfctrcn>집중호우 및 태풍래습시 교량폭 협소로 인해 수해위험교량(5개소)으로 유수의 소통에 장애를 주어 제방붕괴유실, 하천범람으로 인한 주변지역의 농경지, 가옥등의 침수 및 유실 피해위험지</riskfctrcn><sigun>4777037000</sigun><type>005                           </type><updtdttm>2017-02-27T13:13:22+09:00</updtdttm><wrssmnm>기타</wrssmnm></item></body></response>\n",
      "경상북도영덕군병곡면\n",
      "\n"
     ]
    },
    {
     "name": "stderr",
     "output_type": "stream",
     "text": [
      "C:\\Users\\USER\\anaconda3\\lib\\site-packages\\urllib3\\connectionpool.py:1043: InsecureRequestWarning: Unverified HTTPS request is being made to host 'apis.data.go.kr'. Adding certificate verification is strongly advised. See: https://urllib3.readthedocs.io/en/1.26.x/advanced-usage.html#ssl-warnings\n",
      "  warnings.warn(\n",
      "C:\\Users\\USER\\anaconda3\\lib\\site-packages\\urllib3\\connectionpool.py:1043: InsecureRequestWarning: Unverified HTTPS request is being made to host 'apis.data.go.kr'. Adding certificate verification is strongly advised. See: https://urllib3.readthedocs.io/en/1.26.x/advanced-usage.html#ssl-warnings\n",
      "  warnings.warn(\n"
     ]
    },
    {
     "name": "stdout",
     "output_type": "stream",
     "text": [
      "<?xml version=\"1.0\" encoding=\"utf-8\"?>\n",
      "<response><header><resultCode>00</resultCode><resultMsg>NORMAL SERVICE.</resultMsg></header><body><item><appnar>20000</appnar><appnrsn>교량이 하천폭보다 짧고 상부구조가 낮아 통수단면부족</appnrsn><areaname>인천1지구</areaname><areanm>경상북도 영덕군 창수면  </areanm><designatedate>20060228  </designatedate><dstrskargradcd>2</dstrskargradcd><fcltymgcnm>영덕군청</fcltymgcnm><fcltymgctelno>054-730-6521</fcltymgctelno><fcltynm>송천</fcltynm><managementno>477702006003   </managementno><pushahead>4                             </pushahead><relisde>20110511</relisde><relisrsn>자연재해위험개선지구 정비사업 완료(교량개체 48m)</relisrsn><riskfctrcn>집중호우 및 태풍 래습시 하천폭보다 교장이 짧고 상부구조가 낮아 통수단면부족 및 통수에 지장을 초래하여 제방붕괴, 유실로 인한 농경지, 가옥등의 유실 피해우려</riskfctrcn><sigun>4777038000</sigun><type>005                           </type><updtdttm>2015-11-05T17:29:58+09:00</updtdttm><wrssmnm>null</wrssmnm></item></body></response>\n",
      "경상북도영덕군창수면\n",
      "\n",
      "<?xml version=\"1.0\" encoding=\"utf-8\"?>\n",
      "<response><header><resultCode>00</resultCode><resultMsg>NORMAL SERVICE.</resultMsg></header><body><item><appnar>196630</appnar><appnrsn>소라교의 여유고 부족으로 인한 상습 침수 지역</appnrsn><areaname>소라지구</areaname><areanm>경상북도 청도군 화양읍  </areanm><designatedate>20100510  </designatedate><dstrskargradcd>2</dstrskargradcd><fcltymgcnm>청도군청</fcltymgcnm><fcltymgctelno>054-370-2337</fcltymgctelno><fcltynm>청도천</fcltynm><managementno>478202011004   </managementno><pushahead>3                             </pushahead><riskfctrcn>유실</riskfctrcn><sigun>4782025000</sigun><type>005                           </type><updtdttm>2015-11-04T15:48:17+09:00</updtdttm><wrssmnm>낙동강</wrssmnm></item></body></response>\n",
      "경상북도청도군화양읍\n",
      "\n"
     ]
    },
    {
     "name": "stderr",
     "output_type": "stream",
     "text": [
      "C:\\Users\\USER\\anaconda3\\lib\\site-packages\\urllib3\\connectionpool.py:1043: InsecureRequestWarning: Unverified HTTPS request is being made to host 'apis.data.go.kr'. Adding certificate verification is strongly advised. See: https://urllib3.readthedocs.io/en/1.26.x/advanced-usage.html#ssl-warnings\n",
      "  warnings.warn(\n",
      "C:\\Users\\USER\\anaconda3\\lib\\site-packages\\urllib3\\connectionpool.py:1043: InsecureRequestWarning: Unverified HTTPS request is being made to host 'apis.data.go.kr'. Adding certificate verification is strongly advised. See: https://urllib3.readthedocs.io/en/1.26.x/advanced-usage.html#ssl-warnings\n",
      "  warnings.warn(\n"
     ]
    },
    {
     "name": "stdout",
     "output_type": "stream",
     "text": [
      "<?xml version=\"1.0\" encoding=\"utf-8\"?>\n",
      "<response><header><resultCode>00</resultCode><resultMsg>NORMAL SERVICE.</resultMsg></header><body><item><appnar>1550</appnar><appnrsn>2</appnrsn><areaname>물한지구</areaname><areanm>경상북도 고령군 운수면  </areanm><designatedate>20160408  </designatedate><detailtp>붕괴및유실</detailtp><dstrskargradcd>2</dstrskargradcd><fcltynm>물한지구</fcltynm><managementno>478302015006   </managementno><pushahead>1                             </pushahead><riskfctrcn> 급경사지 위쪽에 민가가 위치하여 인명 및 건축물 붕괴 위험</riskfctrcn><sigun>4783032000</sigun><sigungu>(신간리 242)</sigungu><type>005                           </type><updtdttm>2015-11-11T19:55:19+09:00</updtdttm><wrssmnm>기타</wrssmnm></item></body></response>\n",
      "경상북도고령군운수면\n",
      "붕괴및유실\n",
      "<?xml version=\"1.0\" encoding=\"utf-8\"?>\n",
      "<response><header><resultCode>00</resultCode><resultMsg>NORMAL SERVICE.</resultMsg></header><body><item><appnar>36000</appnar><appnrsn>유실위험교량</appnrsn><areaname>대봉</areaname><areanm>경상북도 성주군 용암면  </areanm><designatedate>20150410  </designatedate><dstrskargradcd>1</dstrskargradcd><fcltymgcnm>성주군청</fcltymgcnm><fcltymgctelno>054-930-6693</fcltymgctelno><fcltynm>대봉교</fcltynm><managementno>478402015010   </managementno><pushahead>1                             </pushahead><riskfctrcn>계획홍수위보다 낮게 설치된 교량으로 재해위험이 상존함.</riskfctrcn><sigun>4784032000</sigun><type>005                           </type><updtdttm>2016-03-14T14:05:32+09:00</updtdttm><wrssmnm>낙동강</wrssmnm></item></body></response>\n",
      "경상북도성주군용암면\n",
      "\n"
     ]
    },
    {
     "name": "stderr",
     "output_type": "stream",
     "text": [
      "C:\\Users\\USER\\anaconda3\\lib\\site-packages\\urllib3\\connectionpool.py:1043: InsecureRequestWarning: Unverified HTTPS request is being made to host 'apis.data.go.kr'. Adding certificate verification is strongly advised. See: https://urllib3.readthedocs.io/en/1.26.x/advanced-usage.html#ssl-warnings\n",
      "  warnings.warn(\n"
     ]
    },
    {
     "name": "stdout",
     "output_type": "stream",
     "text": [
      "<?xml version=\"1.0\" encoding=\"utf-8\"?>\n",
      "<response><header><resultCode>00</resultCode><resultMsg>NORMAL SERVICE.</resultMsg></header><body><item><appnar>64000</appnar><appnrsn>유실위험 교량</appnrsn><areaname>창천</areaname><areanm>경상북도 성주군 가천면  </areanm><designatedate>20150410  </designatedate><dstrskargradcd>2</dstrskargradcd><fcltymgcnm>성주군청</fcltymgcnm><fcltymgctelno>054-930-6693</fcltymgctelno><fcltynm>개곡잠수교</fcltynm><managementno>478402015008   </managementno><pushahead>2                             </pushahead><riskfctrcn>계획홍수위보다 낮게 설치된 교량으로 재해위험이 상존함.</riskfctrcn><sigun>4784034000</sigun><type>005                           </type><updtdttm>2016-03-14T10:39:23+09:00</updtdttm><wrssmnm>낙동강</wrssmnm></item></body></response>\n",
      "경상북도성주군가천면\n",
      "\n",
      "<?xml version=\"1.0\" encoding=\"utf-8\"?>\n",
      "<response><header><resultCode>00</resultCode><resultMsg>NORMAL SERVICE.</resultMsg></header><body><item><appnar>49000</appnar><appnrsn>유실위험지구</appnrsn><areaname>수촌</areaname><areanm>경상북도 성주군 벽진면  </areanm><designatedate>20120411  </designatedate><dstrskargradcd>2</dstrskargradcd><fcltymgcnm>성주군</fcltymgcnm><fcltymgctelno>054-930-7873</fcltymgctelno><fcltynm>장기교</fcltynm><managementno>478402013005   </managementno><pushahead>3                             </pushahead><riskfctrcn>홍수량 증가 교량 유실</riskfctrcn><sigun>4784037000</sigun><type>005                           </type><updtdttm>2016-02-16T17:33:41+09:00</updtdttm><wrssmnm>낙동강</wrssmnm></item></body></response>\n",
      "경상북도성주군벽진면\n",
      "\n"
     ]
    },
    {
     "name": "stderr",
     "output_type": "stream",
     "text": [
      "C:\\Users\\USER\\anaconda3\\lib\\site-packages\\urllib3\\connectionpool.py:1043: InsecureRequestWarning: Unverified HTTPS request is being made to host 'apis.data.go.kr'. Adding certificate verification is strongly advised. See: https://urllib3.readthedocs.io/en/1.26.x/advanced-usage.html#ssl-warnings\n",
      "  warnings.warn(\n",
      "C:\\Users\\USER\\anaconda3\\lib\\site-packages\\urllib3\\connectionpool.py:1043: InsecureRequestWarning: Unverified HTTPS request is being made to host 'apis.data.go.kr'. Adding certificate verification is strongly advised. See: https://urllib3.readthedocs.io/en/1.26.x/advanced-usage.html#ssl-warnings\n",
      "  warnings.warn(\n"
     ]
    },
    {
     "name": "stdout",
     "output_type": "stream",
     "text": [
      "<?xml version=\"1.0\" encoding=\"utf-8\"?>\n",
      "<response><header><resultCode>00</resultCode><resultMsg>NORMAL SERVICE.</resultMsg></header><body><item><appnar>27000</appnar><appnrsn>유실위험교량</appnrsn><areaname>봉정</areaname><areanm>경상북도 성주군 초전면  </areanm><designatedate>20150410  </designatedate><dstrskargradcd>1</dstrskargradcd><fcltymgcnm>성주군청</fcltymgcnm><fcltymgctelno>054-930-6693</fcltymgctelno><fcltynm>풍심이교</fcltynm><managementno>478402015009   </managementno><pushahead>1                             </pushahead><riskfctrcn>백천의 계힉홍수위보다 낮게설치된 교량으로 재해위험이 상존함</riskfctrcn><sigun>4784038000</sigun><type>005                           </type><updtdttm>2017-03-29T09:01:36+09:00</updtdttm><wrssmnm>낙동강</wrssmnm></item></body></response>\n",
      "경상북도성주군초전면\n",
      "\n"
     ]
    },
    {
     "name": "stderr",
     "output_type": "stream",
     "text": [
      "C:\\Users\\USER\\anaconda3\\lib\\site-packages\\urllib3\\connectionpool.py:1043: InsecureRequestWarning: Unverified HTTPS request is being made to host 'apis.data.go.kr'. Adding certificate verification is strongly advised. See: https://urllib3.readthedocs.io/en/1.26.x/advanced-usage.html#ssl-warnings\n",
      "  warnings.warn(\n",
      "C:\\Users\\USER\\anaconda3\\lib\\site-packages\\urllib3\\connectionpool.py:1043: InsecureRequestWarning: Unverified HTTPS request is being made to host 'apis.data.go.kr'. Adding certificate verification is strongly advised. See: https://urllib3.readthedocs.io/en/1.26.x/advanced-usage.html#ssl-warnings\n",
      "  warnings.warn(\n"
     ]
    },
    {
     "name": "stdout",
     "output_type": "stream",
     "text": [
      "<?xml version=\"1.0\" encoding=\"utf-8\"?>\n",
      "<response><header><resultCode>00</resultCode><resultMsg>NORMAL SERVICE.</resultMsg></header><body><item><appnar>34000</appnar><appnrsn>인명및 재산 피해예상됨</appnrsn><areaname>대산지구</areaname><areanm>경상북도 성주군 월항면  </areanm><designatedate>20131118  </designatedate><dstrskargradcd>2</dstrskargradcd><fcltymgcnm>성주군</fcltymgcnm><fcltymgctelno>054-930-6693</fcltymgctelno><fcltynm>삼봉잠수교</fcltynm><managementno>478402014007   </managementno><pushahead>3                             </pushahead><riskfctrcn>지방하천(백천) 계획홍수위보다 낮게 설치된 교량으로 인근주택및 농경지 침수피해 예상됨</riskfctrcn><sigun>4784039000</sigun><sigungu>삼봉잠수교</sigungu><type>005                           </type><updtdttm>2016-02-16T17:33:52+09:00</updtdttm><wrssmnm>null</wrssmnm></item></body></response>\n",
      "경상북도성주군월항면\n",
      "\n",
      "<?xml version=\"1.0\" encoding=\"utf-8\"?>\n",
      "<response><header><resultCode>00</resultCode><resultMsg>NORMAL SERVICE.</resultMsg></header><body><item><appnar>15085</appnar><appnrsn>유실위험</appnrsn><areaname>보손</areaname><areanm>경상북도 칠곡군 북삼읍  </areanm><designatedate>20140117  </designatedate><dstrskargradcd>1</dstrskargradcd><fcltymgcnm>칠곡군</fcltymgcnm><fcltymgctelno>054-979-6793</fcltymgctelno><fcltynm>하천</fcltynm><managementno>478502014002   </managementno><pushahead>2                             </pushahead><riskfctrcn>보손1,보손2잠수교의 통수단면 부족으로 유수소통 장애</riskfctrcn><sigun>4785025300</sigun><type>005                           </type><updtdttm>2016-03-11T15:30:03+09:00</updtdttm><wrssmnm>낙동강</wrssmnm></item></body></response>\n",
      "경상북도칠곡군북삼읍\n",
      "\n"
     ]
    },
    {
     "name": "stderr",
     "output_type": "stream",
     "text": [
      "C:\\Users\\USER\\anaconda3\\lib\\site-packages\\urllib3\\connectionpool.py:1043: InsecureRequestWarning: Unverified HTTPS request is being made to host 'apis.data.go.kr'. Adding certificate verification is strongly advised. See: https://urllib3.readthedocs.io/en/1.26.x/advanced-usage.html#ssl-warnings\n",
      "  warnings.warn(\n"
     ]
    },
    {
     "name": "stdout",
     "output_type": "stream",
     "text": [
      "<?xml version=\"1.0\" encoding=\"utf-8\"?>\n",
      "<response><header><resultCode>00</resultCode><resultMsg>NORMAL SERVICE.</resultMsg></header><body><item><appnar>38000</appnar><appnrsn>재해위헙지구 지정관리</appnrsn><areaname>금계지구</areaname><areanm>경상북도 영주시    </areanm><designatedate>20150325  </designatedate><dstrskargradcd>1</dstrskargradcd><fcltymgcnm>안전재난과</fcltymgcnm><fcltymgctelno>054-639-5973</fcltymgctelno><fcltynm>금계지구</fcltynm><managementno>472102015010   </managementno><pushahead>2                             </pushahead><riskfctrcn>유실위험</riskfctrcn><sigun>4721000000</sigun><sigungu>경상북도 영주시 풍기읍 교촌리 164-1</sigungu><type>005                           </type><updtdttm>2017-03-09T18:26:34+09:00</updtdttm><wrssmnm>낙동강</wrssmnm></item></body></response>\n",
      "경상북도영주시\n",
      "\n",
      "<?xml version=\"1.0\" encoding=\"utf-8\"?>\n",
      "<response><header><resultCode>00</resultCode><resultMsg>NORMAL SERVICE.</resultMsg></header><body><item><appnar>107000</appnar><appnrsn>재해위헙지구 지정관리</appnrsn><areaname>우곡지구</areaname><areanm>경상북도 영주시 안정면  </areanm><designatedate>20150325  </designatedate><dstrskargradcd>1</dstrskargradcd><fcltymgcnm>영주시</fcltymgcnm><fcltymgctelno>054-639-5973</fcltymgctelno><fcltynm>우곡지구</fcltynm><managementno>472102015011   </managementno><pushahead>1                             </pushahead><riskfctrcn>유실위험</riskfctrcn><sigun>4721035000</sigun><sigungu>경상북도 영주시 안정면 여륵리 266</sigungu><type>005                           </type><updtdttm>2017-02-20T17:34:36+09:00</updtdttm><wrssmnm>낙동강</wrssmnm></item></body></response>\n"
     ]
    },
    {
     "name": "stderr",
     "output_type": "stream",
     "text": [
      "C:\\Users\\USER\\anaconda3\\lib\\site-packages\\urllib3\\connectionpool.py:1043: InsecureRequestWarning: Unverified HTTPS request is being made to host 'apis.data.go.kr'. Adding certificate verification is strongly advised. See: https://urllib3.readthedocs.io/en/1.26.x/advanced-usage.html#ssl-warnings\n",
      "  warnings.warn(\n",
      "C:\\Users\\USER\\anaconda3\\lib\\site-packages\\urllib3\\connectionpool.py:1043: InsecureRequestWarning: Unverified HTTPS request is being made to host 'apis.data.go.kr'. Adding certificate verification is strongly advised. See: https://urllib3.readthedocs.io/en/1.26.x/advanced-usage.html#ssl-warnings\n",
      "  warnings.warn(\n"
     ]
    },
    {
     "name": "stdout",
     "output_type": "stream",
     "text": [
      "경상북도영주시안정면\n",
      "\n",
      "<?xml version=\"1.0\" encoding=\"utf-8\"?>\n",
      "<response><header><resultCode>00</resultCode><resultMsg>NORMAL SERVICE.</resultMsg></header><body><item><appnar>434000</appnar><appnrsn>교량통수단면부족으로 상습침수피해</appnrsn><areaname>신대지구(잠수교)</areaname><areanm>경상북도 영천시 금호읍  </areanm><designatedate>20121030  </designatedate><dstrskargradcd>1</dstrskargradcd><fcltymgcnm>안전재난하천과</fcltymgcnm><fcltymgctelno>054-330-6375</fcltymgctelno><fcltynm>잠수교</fcltynm><managementno>472302013007   </managementno><pushahead>2                             </pushahead><riskfctrcn>홍수시 잠수교 단면부족으로 월류 우려</riskfctrcn><sigun>4723025000</sigun><type>005                           </type><updtdttm>2016-07-18T18:24:41+09:00</updtdttm><wrssmnm>null</wrssmnm></item></body></response>\n",
      "경상북도영천시금호읍\n",
      "\n"
     ]
    },
    {
     "name": "stderr",
     "output_type": "stream",
     "text": [
      "C:\\Users\\USER\\anaconda3\\lib\\site-packages\\urllib3\\connectionpool.py:1043: InsecureRequestWarning: Unverified HTTPS request is being made to host 'apis.data.go.kr'. Adding certificate verification is strongly advised. See: https://urllib3.readthedocs.io/en/1.26.x/advanced-usage.html#ssl-warnings\n",
      "  warnings.warn(\n",
      "C:\\Users\\USER\\anaconda3\\lib\\site-packages\\urllib3\\connectionpool.py:1043: InsecureRequestWarning: Unverified HTTPS request is being made to host 'apis.data.go.kr'. Adding certificate verification is strongly advised. See: https://urllib3.readthedocs.io/en/1.26.x/advanced-usage.html#ssl-warnings\n",
      "  warnings.warn(\n"
     ]
    },
    {
     "name": "stdout",
     "output_type": "stream",
     "text": [
      "<?xml version=\"1.0\" encoding=\"utf-8\"?>\n",
      "<response><header><resultCode>00</resultCode><resultMsg>NORMAL SERVICE.</resultMsg></header><body><item><appnar>20000</appnar><appnrsn>통수단면 부족으로 인한 유실위험</appnrsn><areaname>거산지구</areaname><areanm>경상북도 문경시    </areanm><designatedate>20100526  </designatedate><dstrskargradcd>3</dstrskargradcd><fcltymgcnm>안전재난과</fcltymgcnm><fcltymgctelno>054-550-6332</fcltymgctelno><fcltynm>거산소교</fcltynm><managementno>472802012020   </managementno><pushahead>2                             </pushahead><riskfctrcn>통수단면 부족으로 인한 유실위험</riskfctrcn><sigun>4728000000</sigun><type>005                           </type><updtdttm>2017-02-16T17:47:41+09:00</updtdttm><wrssmnm>null</wrssmnm></item></body></response>\n",
      "경상북도문경시\n",
      "\n",
      "<?xml version=\"1.0\" encoding=\"utf-8\"?>\n",
      "<response><header><resultCode>00</resultCode><resultMsg>NORMAL SERVICE.</resultMsg></header><body><item><appnar>10000</appnar><appnrsn>통수단면 부족으로 인한 유실위험</appnrsn><areaname>고요지구</areaname><areanm>경상북도 문경시 문경읍  </areanm><designatedate>20100526  </designatedate><dstrskargradcd>3</dstrskargradcd><fcltymgcnm>안전재난과</fcltymgcnm><fcltymgctelno>054-550-6332</fcltymgctelno><fcltynm>구고요교</fcltynm><managementno>472802012018   </managementno><pushahead>4                             </pushahead><relisde>20160809</relisde><riskfctrcn>통수단면 부족으로 인한 유실위험</riskfctrcn><sigun>4728025000</sigun><type>005                           </type><updtdttm>2017-03-06T17:25:48+09:00</updtdttm><wrssmnm>null</wrssmnm></item></body></response>\n",
      "경상북도문경시문경읍\n",
      "\n"
     ]
    },
    {
     "name": "stderr",
     "output_type": "stream",
     "text": [
      "C:\\Users\\USER\\anaconda3\\lib\\site-packages\\urllib3\\connectionpool.py:1043: InsecureRequestWarning: Unverified HTTPS request is being made to host 'apis.data.go.kr'. Adding certificate verification is strongly advised. See: https://urllib3.readthedocs.io/en/1.26.x/advanced-usage.html#ssl-warnings\n",
      "  warnings.warn(\n"
     ]
    },
    {
     "name": "stdout",
     "output_type": "stream",
     "text": [
      "<?xml version=\"1.0\" encoding=\"utf-8\"?>\n",
      "<response><header><resultCode>00</resultCode><resultMsg>NORMAL SERVICE.</resultMsg></header><body><item><appnar>420000</appnar><appnrsn>유실 위험</appnrsn><areaname>전곡1</areaname><areanm>경상북도 문경시 가은읍  </areanm><designatedate>20070420  </designatedate><dstrskargradcd>3</dstrskargradcd><fcltymgcnm>문경시 새마을체육과</fcltymgcnm><fcltymgctelno>054-550-6094</fcltymgctelno><fcltynm>전곡1세월교</fcltynm><managementno>472802007005   </managementno><pushahead>4                             </pushahead><relisde>20130814</relisde><relisrsn>정비사업완료로 인한 위험요인해소</relisrsn><riskfctrcn>교량 유실 위험</riskfctrcn><sigun>4728025300</sigun><type>005                           </type><updtdttm>2015-11-05T10:15:33+09:00</updtdttm><wrssmnm>null</wrssmnm></item></body></response>\n",
      "경상북도문경시가은읍\n",
      "\n",
      "<?xml version=\"1.0\" encoding=\"utf-8\"?>\n",
      "<response><header><resultCode>00</resultCode><resultMsg>NORMAL SERVICE.</resultMsg></header><body><item><appnar>270000</appnar><appnrsn>유실 위험</appnrsn><areaname>전곡2</areaname><areanm>경상북도 문경시 가은읍  </areanm><designatedate>20070420  </designatedate><dstrskargradcd>3</dstrskargradcd><fcltymgcnm>문경시 새마을체육과</fcltymgcnm><fcltymgctelno>054-550-6094</fcltymgctelno><fcltynm>전곡2세월교</fcltynm><managementno>472802007006   </managementno><pushahead>4                             </pushahead><relisde>20130814</relisde><relisrsn>정비사업완료로 인한 위험요인해소</relisrsn><riskfctrcn>교량 유실 위험</riskfctrcn><sigun>4728025300</sigun><type>005                           </type><updtdttm>2015-11-05T10:15:52+09:00</updtdttm><wrssmnm>null</wrssmnm></item></body></response>\n"
     ]
    },
    {
     "name": "stderr",
     "output_type": "stream",
     "text": [
      "C:\\Users\\USER\\anaconda3\\lib\\site-packages\\urllib3\\connectionpool.py:1043: InsecureRequestWarning: Unverified HTTPS request is being made to host 'apis.data.go.kr'. Adding certificate verification is strongly advised. See: https://urllib3.readthedocs.io/en/1.26.x/advanced-usage.html#ssl-warnings\n",
      "  warnings.warn(\n"
     ]
    },
    {
     "name": "stdout",
     "output_type": "stream",
     "text": [
      "경상북도문경시가은읍\n",
      "\n"
     ]
    },
    {
     "name": "stderr",
     "output_type": "stream",
     "text": [
      "C:\\Users\\USER\\anaconda3\\lib\\site-packages\\urllib3\\connectionpool.py:1043: InsecureRequestWarning: Unverified HTTPS request is being made to host 'apis.data.go.kr'. Adding certificate verification is strongly advised. See: https://urllib3.readthedocs.io/en/1.26.x/advanced-usage.html#ssl-warnings\n",
      "  warnings.warn(\n"
     ]
    },
    {
     "name": "stdout",
     "output_type": "stream",
     "text": [
      "<?xml version=\"1.0\" encoding=\"utf-8\"?>\n",
      "<response><header><resultCode>00</resultCode><resultMsg>NORMAL SERVICE.</resultMsg></header><body><item><appnar>30000</appnar><appnrsn>통수단면 부족으로 인한 유실위험</appnrsn><areaname>전곡지구</areaname><areanm>경상북도 문경시 가은읍  </areanm><designatedate>20100526  </designatedate><dstrskargradcd>2</dstrskargradcd><fcltymgcnm>안전재난과</fcltymgcnm><fcltymgctelno>054-550-6332</fcltymgctelno><fcltynm>전곡3교</fcltynm><managementno>472802012015   </managementno><pushahead>4                             </pushahead><relisde>20150406</relisde><relisrsn>사업 완료로 인한 위험요인 해소</relisrsn><riskfctrcn>통수단면 부족으로 인한 유실위험</riskfctrcn><sigun>4728025300</sigun><type>005                           </type><updtdttm>2015-11-05T10:18:20+09:00</updtdttm><wrssmnm>null</wrssmnm></item></body></response>\n",
      "경상북도문경시가은읍\n",
      "\n"
     ]
    },
    {
     "name": "stderr",
     "output_type": "stream",
     "text": [
      "C:\\Users\\USER\\anaconda3\\lib\\site-packages\\urllib3\\connectionpool.py:1043: InsecureRequestWarning: Unverified HTTPS request is being made to host 'apis.data.go.kr'. Adding certificate verification is strongly advised. See: https://urllib3.readthedocs.io/en/1.26.x/advanced-usage.html#ssl-warnings\n",
      "  warnings.warn(\n"
     ]
    },
    {
     "name": "stdout",
     "output_type": "stream",
     "text": [
      "<?xml version=\"1.0\" encoding=\"utf-8\"?>\n",
      "<response><header><resultCode>00</resultCode><resultMsg>NORMAL SERVICE.</resultMsg></header><body><item><appnar>30000</appnar><appnrsn>통수단면 부족으로 인한 유실위험</appnrsn><areaname>현리지구</areaname><areanm>경상북도 문경시 산양면  </areanm><designatedate>20100526  </designatedate><dstrskargradcd>2</dstrskargradcd><fcltymgcnm>안전재난과</fcltymgcnm><fcltymgctelno>054-550-6332</fcltymgctelno><fcltynm>현리교</fcltynm><managementno>472802012024   </managementno><pushahead>4                             </pushahead><riskfctrcn>통수단면 부족으로 인한 유실위험</riskfctrcn><sigun>4728032000</sigun><type>005                           </type><updtdttm>2017-03-06T17:26:10+09:00</updtdttm><wrssmnm>null</wrssmnm></item></body></response>\n",
      "경상북도문경시산양면\n",
      "\n",
      "<?xml version=\"1.0\" encoding=\"utf-8\"?>\n",
      "<response><header><resultCode>00</resultCode><resultMsg>NORMAL SERVICE.</resultMsg></header><body><item><appnar>34000</appnar><appnrsn>통수단면 부족으로 인한 유실위험</appnrsn><areaname>별암지구</areaname><areanm>경상북도 문경시 호계면  </areanm><designatedate>20100526  </designatedate><dstrskargradcd>2</dstrskargradcd><fcltymgcnm>안전재난과</fcltymgcnm><fcltymgctelno>054-550-6332</fcltymgctelno><fcltynm>별암교</fcltynm><managementno>472802012023   </managementno><pushahead>1                             </pushahead><riskfctrcn>통수단면 부족으로 인한 유실위험</riskfctrcn><sigun>4728033000</sigun><type>005                           </type><updtdttm>2016-03-16T14:23:12+09:00</updtdttm><wrssmnm>null</wrssmnm></item></body></response>\n",
      "경상북도문경시호계면\n",
      "\n"
     ]
    },
    {
     "name": "stderr",
     "output_type": "stream",
     "text": [
      "C:\\Users\\USER\\anaconda3\\lib\\site-packages\\urllib3\\connectionpool.py:1043: InsecureRequestWarning: Unverified HTTPS request is being made to host 'apis.data.go.kr'. Adding certificate verification is strongly advised. See: https://urllib3.readthedocs.io/en/1.26.x/advanced-usage.html#ssl-warnings\n",
      "  warnings.warn(\n",
      "C:\\Users\\USER\\anaconda3\\lib\\site-packages\\urllib3\\connectionpool.py:1043: InsecureRequestWarning: Unverified HTTPS request is being made to host 'apis.data.go.kr'. Adding certificate verification is strongly advised. See: https://urllib3.readthedocs.io/en/1.26.x/advanced-usage.html#ssl-warnings\n",
      "  warnings.warn(\n"
     ]
    },
    {
     "name": "stdout",
     "output_type": "stream",
     "text": [
      "<?xml version=\"1.0\" encoding=\"utf-8\"?>\n",
      "<response><header><resultCode>00</resultCode><resultMsg>NORMAL SERVICE.</resultMsg></header><body><item><appnar>0</appnar><appnrsn>통수단면 부족으로 인한 유실위험</appnrsn><areaname>막곡지구</areaname><areanm>경상북도 문경시 호계면  </areanm><designatedate>20100526  </designatedate><dstrskargradcd>2</dstrskargradcd><fcltymgcnm>안전재난과</fcltymgcnm><fcltymgctelno>054-550-6332</fcltymgctelno><fcltynm>협동교</fcltynm><managementno>472802012014   </managementno><pushahead>4                             </pushahead><relisde>20150406</relisde><relisrsn>사업 완료로 인한 위험요인 해소</relisrsn><riskfctrcn>통수단면 부족으로 인한 유실위험</riskfctrcn><sigun>4728033000</sigun><type>005                           </type><updtdttm>2015-11-05T10:17:51+09:00</updtdttm><wrssmnm>null</wrssmnm></item></body></response>\n",
      "경상북도문경시호계면\n",
      "\n",
      "<?xml version=\"1.0\" encoding=\"utf-8\"?>\n",
      "<response><header><resultCode>00</resultCode><resultMsg>NORMAL SERVICE.</resultMsg></header><body><item><appnar>20000</appnar><appnrsn>통수단면 부족으로 인한 유실위험</appnrsn><areaname>가도지구</areaname><areanm>경상북도 문경시 호계면  </areanm><designatedate>20100526  </designatedate><dstrskargradcd>3</dstrskargradcd><fcltymgcnm>안전재난과</fcltymgcnm><fcltymgctelno>054-550-6332</fcltymgctelno><fcltynm>가도3교</fcltynm><managementno>472802012019   </managementno><pushahead>1                             </pushahead><riskfctrcn>통수단면 부족으로 인한 유실위험</riskfctrcn><sigun>4728033000</sigun><type>005                           </type><updtdttm>2016-03-16T14:00:08+09:00</updtdttm><wrssmnm>null</wrssmnm></item></body></response>\n",
      "경상북도문경시호계면\n",
      "\n"
     ]
    },
    {
     "name": "stderr",
     "output_type": "stream",
     "text": [
      "C:\\Users\\USER\\anaconda3\\lib\\site-packages\\urllib3\\connectionpool.py:1043: InsecureRequestWarning: Unverified HTTPS request is being made to host 'apis.data.go.kr'. Adding certificate verification is strongly advised. See: https://urllib3.readthedocs.io/en/1.26.x/advanced-usage.html#ssl-warnings\n",
      "  warnings.warn(\n",
      "C:\\Users\\USER\\anaconda3\\lib\\site-packages\\urllib3\\connectionpool.py:1043: InsecureRequestWarning: Unverified HTTPS request is being made to host 'apis.data.go.kr'. Adding certificate verification is strongly advised. See: https://urllib3.readthedocs.io/en/1.26.x/advanced-usage.html#ssl-warnings\n",
      "  warnings.warn(\n"
     ]
    },
    {
     "name": "stdout",
     "output_type": "stream",
     "text": [
      "<?xml version=\"1.0\" encoding=\"utf-8\"?>\n",
      "<response><header><resultCode>00</resultCode><resultMsg>NORMAL SERVICE.</resultMsg></header><body><item><appnar>30000</appnar><appnrsn>통수단면 부족으로 인한 유실위험</appnrsn><areaname>내화지구</areaname><areanm>경상북도 문경시 산북면  </areanm><designatedate>20100526  </designatedate><dstrskargradcd>2</dstrskargradcd><fcltymgcnm>안전재난과</fcltymgcnm><fcltymgctelno>054-550-6332</fcltymgctelno><fcltynm>내화1교</fcltynm><managementno>472802012016   </managementno><pushahead>4                             </pushahead><riskfctrcn>통수단면 부족으로 인한 유실위험</riskfctrcn><sigun>4728034000</sigun><type>005                           </type><updtdttm>2017-03-06T17:26:29+09:00</updtdttm><wrssmnm>null</wrssmnm></item></body></response>\n",
      "경상북도문경시산북면\n",
      "\n",
      "<?xml version=\"1.0\" encoding=\"utf-8\"?>\n",
      "<response><header><resultCode>00</resultCode><resultMsg>NORMAL SERVICE.</resultMsg></header><body><item><appnar>10000</appnar><appnrsn>통수단면 부족으로 인한 유실위험</appnrsn><areaname>마광지구</areaname><areanm>경상북도 문경시 동로면  </areanm><designatedate>20100526  </designatedate><dstrskargradcd>2</dstrskargradcd><fcltymgcnm>안전재난과</fcltymgcnm><fcltymgctelno>054-550-6332</fcltymgctelno><fcltynm>마광교</fcltynm><managementno>472802012021   </managementno><pushahead>2                             </pushahead><riskfctrcn>통수단면 부족으로 인한 유실위험</riskfctrcn><sigun>4728035000</sigun><type>005                           </type><updtdttm>2016-03-16T14:09:41+09:00</updtdttm><wrssmnm>null</wrssmnm></item></body></response>\n",
      "경상북도문경시동로면\n",
      "\n"
     ]
    },
    {
     "name": "stderr",
     "output_type": "stream",
     "text": [
      "C:\\Users\\USER\\anaconda3\\lib\\site-packages\\urllib3\\connectionpool.py:1043: InsecureRequestWarning: Unverified HTTPS request is being made to host 'apis.data.go.kr'. Adding certificate verification is strongly advised. See: https://urllib3.readthedocs.io/en/1.26.x/advanced-usage.html#ssl-warnings\n",
      "  warnings.warn(\n",
      "C:\\Users\\USER\\anaconda3\\lib\\site-packages\\urllib3\\connectionpool.py:1043: InsecureRequestWarning: Unverified HTTPS request is being made to host 'apis.data.go.kr'. Adding certificate verification is strongly advised. See: https://urllib3.readthedocs.io/en/1.26.x/advanced-usage.html#ssl-warnings\n",
      "  warnings.warn(\n"
     ]
    },
    {
     "name": "stdout",
     "output_type": "stream",
     "text": [
      "<?xml version=\"1.0\" encoding=\"utf-8\"?>\n",
      "<response><header><resultCode>00</resultCode><resultMsg>NORMAL SERVICE.</resultMsg></header><body><item><appnar>10000</appnar><appnrsn>통수단면 부족으로 인한 유실위험</appnrsn><areaname>농암지구</areaname><areanm>경상북도 문경시 농암면  </areanm><designatedate>20100526  </designatedate><dstrskargradcd>2</dstrskargradcd><fcltymgcnm>안전재난과</fcltymgcnm><fcltymgctelno>054-550-6332</fcltymgctelno><fcltynm>괴정교</fcltynm><managementno>472802012017   </managementno><pushahead>1                             </pushahead><riskfctrcn>통수단면 부족으로 인한 유실위험</riskfctrcn><sigun>4728037000</sigun><type>005                           </type><updtdttm>2016-03-16T13:46:18+09:00</updtdttm><wrssmnm>null</wrssmnm></item></body></response>\n",
      "경상북도문경시농암면\n",
      "\n",
      "<?xml version=\"1.0\" encoding=\"utf-8\"?>\n",
      "<response><header><resultCode>00</resultCode><resultMsg>NORMAL SERVICE.</resultMsg></header><body><item><appnar>18000</appnar><appnrsn>통수단면 부족으로 인한 유실위험</appnrsn><areaname>내서지구</areaname><areanm>경상북도 문경시 농암면  </areanm><designatedate>20100526  </designatedate><dstrskargradcd>3</dstrskargradcd><fcltymgcnm>안전재난과</fcltymgcnm><fcltymgctelno>054-550-6332</fcltymgctelno><fcltynm>내서잠수교</fcltynm><managementno>472802012022   </managementno><pushahead>1                             </pushahead><riskfctrcn>통수단면 부족으로 인한 유실위험</riskfctrcn><sigun>4728037000</sigun><type>005                           </type><updtdttm>2016-03-16T14:13:00+09:00</updtdttm><wrssmnm>null</wrssmnm></item></body></response>\n",
      "경상북도문경시농암면\n",
      "\n"
     ]
    },
    {
     "name": "stderr",
     "output_type": "stream",
     "text": [
      "C:\\Users\\USER\\anaconda3\\lib\\site-packages\\urllib3\\connectionpool.py:1043: InsecureRequestWarning: Unverified HTTPS request is being made to host 'apis.data.go.kr'. Adding certificate verification is strongly advised. See: https://urllib3.readthedocs.io/en/1.26.x/advanced-usage.html#ssl-warnings\n",
      "  warnings.warn(\n",
      "C:\\Users\\USER\\anaconda3\\lib\\site-packages\\urllib3\\connectionpool.py:1043: InsecureRequestWarning: Unverified HTTPS request is being made to host 'apis.data.go.kr'. Adding certificate verification is strongly advised. See: https://urllib3.readthedocs.io/en/1.26.x/advanced-usage.html#ssl-warnings\n",
      "  warnings.warn(\n"
     ]
    },
    {
     "name": "stdout",
     "output_type": "stream",
     "text": [
      "<?xml version=\"1.0\" encoding=\"utf-8\"?>\n",
      "<response><header><resultCode>00</resultCode><resultMsg>NORMAL SERVICE.</resultMsg></header><body><item><appnar>0</appnar><appnrsn>남하잠수교 유실 위험</appnrsn><areaname>남하지구</areaname><areanm>경상북도 경산시 하양읍  </areanm><designatedate>20100223  </designatedate><detailtp>유실위험</detailtp><dstrskargradcd>2</dstrskargradcd><fcltymgcnm>경산시</fcltymgcnm><fcltymgctelno>053-810-5586</fcltymgctelno><fcltynm>남하잠수교</fcltynm><managementno>472902011010   </managementno><pushahead>4                             </pushahead><relisde>20150730</relisde><relisrsn>사업완료에 따른 해제 고시(제2015-98호)</relisrsn><riskfctrcn>금호강 수위 상승에 따른 남하 잠수교 유실 위험</riskfctrcn><sigun>4729025000</sigun><type>005                           </type><updtdttm>2015-11-02T13:37:45+09:00</updtdttm><wrssmnm>null</wrssmnm></item></body></response>\n",
      "경상북도경산시하양읍\n",
      "유실위험\n",
      "<?xml version=\"1.0\" encoding=\"utf-8\"?>\n",
      "<response><header><resultCode>00</resultCode><resultMsg>NORMAL SERVICE.</resultMsg></header><body><item><appnar>35000</appnar><appnrsn>교량 연장, 경간장 및 형하여유고 부족</appnrsn><areaname>내량지구</areaname><areanm>경상북도 군위군 군위읍  </areanm><designatedate>20131120  </designatedate><dstrskargradcd>2</dstrskargradcd><fcltymgcnm>안전건설과</fcltymgcnm><fcltymgctelno>054-380-6152</fcltymgctelno><fcltynm>위천</fcltynm><managementno>477202013016   </managementno><pushahead>3                             </pushahead><riskfctrcn> 범람 발생 우려</riskfctrcn><sigun>4772025000</sigun><type>005                           </type><updtdttm>2016-07-20T16:24:19+09:00</updtdttm><wrssmnm>낙동강</wrssmnm></item></body></response>\n",
      "경상북도군위군군위읍\n",
      "\n"
     ]
    },
    {
     "name": "stderr",
     "output_type": "stream",
     "text": [
      "C:\\Users\\USER\\anaconda3\\lib\\site-packages\\urllib3\\connectionpool.py:1043: InsecureRequestWarning: Unverified HTTPS request is being made to host 'apis.data.go.kr'. Adding certificate verification is strongly advised. See: https://urllib3.readthedocs.io/en/1.26.x/advanced-usage.html#ssl-warnings\n",
      "  warnings.warn(\n",
      "C:\\Users\\USER\\anaconda3\\lib\\site-packages\\urllib3\\connectionpool.py:1043: InsecureRequestWarning: Unverified HTTPS request is being made to host 'apis.data.go.kr'. Adding certificate verification is strongly advised. See: https://urllib3.readthedocs.io/en/1.26.x/advanced-usage.html#ssl-warnings\n",
      "  warnings.warn(\n"
     ]
    },
    {
     "name": "stdout",
     "output_type": "stream",
     "text": [
      "<?xml version=\"1.0\" encoding=\"utf-8\"?>\n",
      "<response><header><resultCode>00</resultCode><resultMsg>NORMAL SERVICE.</resultMsg></header><body><item><appnar>73000</appnar><appnrsn>낮은교량</appnrsn><areaname>못골지구</areaname><areanm>경상북도 군위군 군위읍  </areanm><designatedate>20100511  </designatedate><dstrskargradcd>3</dstrskargradcd><fcltymgcnm>안전건설과</fcltymgcnm><fcltymgctelno>380-6157</fcltymgctelno><fcltynm>위천</fcltynm><managementno>477202010006   </managementno><pushahead>4                             </pushahead><riskfctrcn>홍수위보다 낮은교량</riskfctrcn><sigun>4772025000</sigun><type>005                           </type><updtdttm>2016-07-20T16:26:57+09:00</updtdttm><wrssmnm>낙동강</wrssmnm></item></body></response>\n",
      "경상북도군위군군위읍\n",
      "\n",
      "<?xml version=\"1.0\" encoding=\"utf-8\"?>\n",
      "<response><header><resultCode>00</resultCode><resultMsg>NORMAL SERVICE.</resultMsg></header><body><item><appnar>133000</appnar><appnrsn>홍수위보다 낮은 교량</appnrsn><areaname>춘산지구</areaname><areanm>경상북도 군위군 부계면  </areanm><designatedate>20100511  </designatedate><dstrskargradcd>3</dstrskargradcd><fcltymgcnm>안전건설과</fcltymgcnm><fcltymgctelno>054-380-6157</fcltymgctelno><fcltynm>남천</fcltynm><managementno>477202010007   </managementno><pushahead>1                             </pushahead><riskfctrcn>홍수위보다 낮은 교량</riskfctrcn><sigun>4772033000</sigun><type>005                           </type><updtdttm>2016-07-20T16:27:24+09:00</updtdttm><wrssmnm>null</wrssmnm></item></body></response>\n"
     ]
    },
    {
     "name": "stderr",
     "output_type": "stream",
     "text": [
      "C:\\Users\\USER\\anaconda3\\lib\\site-packages\\urllib3\\connectionpool.py:1043: InsecureRequestWarning: Unverified HTTPS request is being made to host 'apis.data.go.kr'. Adding certificate verification is strongly advised. See: https://urllib3.readthedocs.io/en/1.26.x/advanced-usage.html#ssl-warnings\n",
      "  warnings.warn(\n",
      "C:\\Users\\USER\\anaconda3\\lib\\site-packages\\urllib3\\connectionpool.py:1043: InsecureRequestWarning: Unverified HTTPS request is being made to host 'apis.data.go.kr'. Adding certificate verification is strongly advised. See: https://urllib3.readthedocs.io/en/1.26.x/advanced-usage.html#ssl-warnings\n",
      "  warnings.warn(\n"
     ]
    },
    {
     "name": "stdout",
     "output_type": "stream",
     "text": [
      "경상북도군위군부계면\n",
      "\n",
      "<?xml version=\"1.0\" encoding=\"utf-8\"?>\n",
      "<response><header><resultCode>00</resultCode><resultMsg>NORMAL SERVICE.</resultMsg></header><body><item><appnar>95000</appnar><appnrsn>홍수위보다 낮은 교량</appnrsn><areaname>이화지구</areaname><areanm>경상북도 군위군 우보면  </areanm><designatedate>20100511  </designatedate><dstrskargradcd>3</dstrskargradcd><fcltymgcnm>안전건설과</fcltymgcnm><fcltymgctelno>054-380-6157</fcltymgctelno><fcltynm>위천</fcltynm><managementno>477202010008   </managementno><pushahead>4                             </pushahead><riskfctrcn>홍수위보다 낮은 교량</riskfctrcn><sigun>4772034000</sigun><type>005                           </type><updtdttm>2016-07-20T16:26:22+09:00</updtdttm><wrssmnm>null</wrssmnm></item></body></response>\n",
      "경상북도군위군우보면\n",
      "\n"
     ]
    },
    {
     "name": "stderr",
     "output_type": "stream",
     "text": [
      "C:\\Users\\USER\\anaconda3\\lib\\site-packages\\urllib3\\connectionpool.py:1043: InsecureRequestWarning: Unverified HTTPS request is being made to host 'apis.data.go.kr'. Adding certificate verification is strongly advised. See: https://urllib3.readthedocs.io/en/1.26.x/advanced-usage.html#ssl-warnings\n",
      "  warnings.warn(\n",
      "C:\\Users\\USER\\anaconda3\\lib\\site-packages\\urllib3\\connectionpool.py:1043: InsecureRequestWarning: Unverified HTTPS request is being made to host 'apis.data.go.kr'. Adding certificate verification is strongly advised. See: https://urllib3.readthedocs.io/en/1.26.x/advanced-usage.html#ssl-warnings\n",
      "  warnings.warn(\n"
     ]
    },
    {
     "name": "stdout",
     "output_type": "stream",
     "text": [
      "<?xml version=\"1.0\" encoding=\"utf-8\"?>\n",
      "<response><header><resultCode>00</resultCode><resultMsg>NORMAL SERVICE.</resultMsg></header><body><item><appnar>72000</appnar><appnrsn>교량이 홍수위보다 낮음</appnrsn><areaname>미성지구</areaname><areanm>경상북도 군위군 우보면  </areanm><designatedate>20100511  </designatedate><dstrskargradcd>3</dstrskargradcd><fcltymgcnm>안전건설과</fcltymgcnm><fcltymgctelno>380-6157</fcltymgctelno><fcltynm>구천</fcltynm><managementno>477202010005   </managementno><pushahead>4                             </pushahead><riskfctrcn>홍수위보다 낮은 교량</riskfctrcn><sigun>4772034000</sigun><type>005                           </type><updtdttm>2016-07-20T16:27:17+09:00</updtdttm><wrssmnm>낙동강</wrssmnm></item></body></response>\n",
      "경상북도군위군우보면\n",
      "\n",
      "<?xml version=\"1.0\" encoding=\"utf-8\"?>\n",
      "<response><header><resultCode>00</resultCode><resultMsg>NORMAL SERVICE.</resultMsg></header><body><item><appnar>162000</appnar><appnrsn>하천 외수범람 및 내수배제 불량</appnrsn><areaname>운산지구</areaname><areanm>경상북도 군위군 산성면  </areanm><designatedate>20100511  </designatedate><detailtp>유실</detailtp><dstrskargradcd>3</dstrskargradcd><fcltymgcnm>안전건설과</fcltymgcnm><fcltymgctelno>380-6157</fcltymgctelno><fcltynm>구천</fcltynm><managementno>477202010004   </managementno><pushahead>4                             </pushahead><riskfctrcn>하천을 횡단하는 교량이 하천정비 기본계획보다 짧음</riskfctrcn><sigun>4772036000</sigun><type>005                           </type><updtdttm>2016-07-20T16:27:46+09:00</updtdttm><wrssmnm>null</wrssmnm></item></body></response>\n",
      "경상북도군위군산성면\n",
      "유실\n"
     ]
    },
    {
     "name": "stderr",
     "output_type": "stream",
     "text": [
      "C:\\Users\\USER\\anaconda3\\lib\\site-packages\\urllib3\\connectionpool.py:1043: InsecureRequestWarning: Unverified HTTPS request is being made to host 'apis.data.go.kr'. Adding certificate verification is strongly advised. See: https://urllib3.readthedocs.io/en/1.26.x/advanced-usage.html#ssl-warnings\n",
      "  warnings.warn(\n",
      "C:\\Users\\USER\\anaconda3\\lib\\site-packages\\urllib3\\connectionpool.py:1043: InsecureRequestWarning: Unverified HTTPS request is being made to host 'apis.data.go.kr'. Adding certificate verification is strongly advised. See: https://urllib3.readthedocs.io/en/1.26.x/advanced-usage.html#ssl-warnings\n",
      "  warnings.warn(\n"
     ]
    },
    {
     "name": "stdout",
     "output_type": "stream",
     "text": [
      "<?xml version=\"1.0\" encoding=\"utf-8\"?>\n",
      "<response><header><resultCode>00</resultCode><resultMsg>NORMAL SERVICE.</resultMsg></header><body><item><appnar>113400</appnar><appnrsn>외수위 상승으로 주변 농경지 유실및침수 우려</appnrsn><areaname>장척지구</areaname><areanm>경상북도 의성군 춘산면  </areanm><designatedate>20100513  </designatedate><dstrskargradcd>1</dstrskargradcd><fcltymgcnm>의성군청 안전과</fcltymgcnm><fcltymgctelno>054-830-6598</fcltymgctelno><fcltynm>장척제방</fcltynm><managementno>477302010010   </managementno><pushahead>1                             </pushahead><riskfctrcn>외수위상승에 따른 제방 여유고 부족</riskfctrcn><sigun>4773035000</sigun><type>005                           </type><updtdttm>2017-03-26T15:07:28+09:00</updtdttm><wrssmnm>낙동강</wrssmnm></item></body></response>\n",
      "경상북도의성군춘산면\n",
      "\n",
      "<?xml version=\"1.0\" encoding=\"utf-8\"?>\n",
      "<response><header><resultCode>00</resultCode><resultMsg>NORMAL SERVICE.</resultMsg></header><body><item><appnar>87400</appnar><appnrsn>하폭 및 통수단면 부족으로 인한 침수우려</appnrsn><areaname>덕천지구</areaname><areanm>경상북도 의성군 가음면  </areanm><designatedate>20100513  </designatedate><dstrskargradcd>1</dstrskargradcd><fcltymgcnm>의성군청 안전과</fcltymgcnm><fcltymgctelno>054-830-6598</fcltymgctelno><fcltynm>덕천제방</fcltynm><managementno>477302010012   </managementno><pushahead>1                             </pushahead><riskfctrcn>하폭 및 통수단면 부족</riskfctrcn><sigun>4773036000</sigun><type>005                           </type><updtdttm>2017-03-26T15:04:53+09:00</updtdttm><wrssmnm>낙동강</wrssmnm></item></body></response>\n",
      "경상북도의성군가음면\n",
      "\n"
     ]
    },
    {
     "name": "stderr",
     "output_type": "stream",
     "text": [
      "C:\\Users\\USER\\anaconda3\\lib\\site-packages\\urllib3\\connectionpool.py:1043: InsecureRequestWarning: Unverified HTTPS request is being made to host 'apis.data.go.kr'. Adding certificate verification is strongly advised. See: https://urllib3.readthedocs.io/en/1.26.x/advanced-usage.html#ssl-warnings\n",
      "  warnings.warn(\n"
     ]
    },
    {
     "name": "stdout",
     "output_type": "stream",
     "text": [
      "<?xml version=\"1.0\" encoding=\"utf-8\"?>\n",
      "<response><header><resultCode>00</resultCode><resultMsg>NORMAL SERVICE.</resultMsg></header><body><item><appnar>8000</appnar><appnrsn>교량 형하고 및 하천 통수단면 부족으로 인한 유실 우려</appnrsn><areaname>교안지구</areaname><areanm>경상북도 의성군 신평면  </areanm><designatedate>20100513  </designatedate><dstrskargradcd>1</dstrskargradcd><fcltymgcnm>의성군청 안전과</fcltymgcnm><fcltymgctelno>054-830-6598</fcltymgctelno><fcltynm>교안제방</fcltynm><managementno>477302010015   </managementno><pushahead>1                             </pushahead><riskfctrcn>교량 형하고 및 하천 통수단면 부족</riskfctrcn><sigun>4773045000</sigun><type>005                           </type><updtdttm>2017-03-26T15:03:09+09:00</updtdttm><wrssmnm>낙동강</wrssmnm></item></body></response>\n",
      "경상북도의성군신평면\n",
      "\n",
      "<?xml version=\"1.0\" encoding=\"utf-8\"?>\n",
      "<response><header><resultCode>00</resultCode><resultMsg>NORMAL SERVICE.</resultMsg></header><body><item><appnar>0</appnar><appnrsn>긴급정밀점검결과 D등급 판정</appnrsn><areaname>불갑면 방마제</areaname><areanm>전라남도 영광군 불갑면  </areanm><designatedate>20131015  </designatedate><dstrskargradcd>1</dstrskargradcd><fcltymgcnm>영광군청</fcltymgcnm><fcltynm>박산저수지</fcltynm><managementno>468702015020   </managementno><pushahead>3                             </pushahead><riskfctrcn>유실위험</riskfctrcn><sigun>4687033000</sigun><type>005                           </type><updtdttm>2015-11-03T09:35:55+09:00</updtdttm><wrssmnm>null</wrssmnm></item></body></response>\n",
      "전라남도영광군불갑면\n",
      "\n"
     ]
    },
    {
     "name": "stderr",
     "output_type": "stream",
     "text": [
      "C:\\Users\\USER\\anaconda3\\lib\\site-packages\\urllib3\\connectionpool.py:1043: InsecureRequestWarning: Unverified HTTPS request is being made to host 'apis.data.go.kr'. Adding certificate verification is strongly advised. See: https://urllib3.readthedocs.io/en/1.26.x/advanced-usage.html#ssl-warnings\n",
      "  warnings.warn(\n",
      "C:\\Users\\USER\\anaconda3\\lib\\site-packages\\urllib3\\connectionpool.py:1043: InsecureRequestWarning: Unverified HTTPS request is being made to host 'apis.data.go.kr'. Adding certificate verification is strongly advised. See: https://urllib3.readthedocs.io/en/1.26.x/advanced-usage.html#ssl-warnings\n",
      "  warnings.warn(\n"
     ]
    },
    {
     "name": "stdout",
     "output_type": "stream",
     "text": [
      "<?xml version=\"1.0\" encoding=\"utf-8\"?>\n",
      "<response><header><resultCode>00</resultCode><resultMsg>NORMAL SERVICE.</resultMsg></header><body><item><appnar>0</appnar><appnrsn>긴급정밀점검결과 D등급 판정</appnrsn><areaname>불갑면 응봉제</areaname><areanm>전라남도 영광군 불갑면  </areanm><designatedate>20131015  </designatedate><dstrskargradcd>1</dstrskargradcd><fcltymgcnm>영광군청</fcltymgcnm><fcltynm>응봉저수지</fcltynm><managementno>468702015021   </managementno><pushahead>4                             </pushahead><riskfctrcn>유실위험</riskfctrcn><sigun>4687033000</sigun><type>005                           </type><updtdttm>2015-11-03T09:36:12+09:00</updtdttm><wrssmnm>null</wrssmnm></item></body></response>\n",
      "전라남도영광군불갑면\n",
      "\n"
     ]
    },
    {
     "name": "stderr",
     "output_type": "stream",
     "text": [
      "C:\\Users\\USER\\anaconda3\\lib\\site-packages\\urllib3\\connectionpool.py:1043: InsecureRequestWarning: Unverified HTTPS request is being made to host 'apis.data.go.kr'. Adding certificate verification is strongly advised. See: https://urllib3.readthedocs.io/en/1.26.x/advanced-usage.html#ssl-warnings\n",
      "  warnings.warn(\n"
     ]
    },
    {
     "name": "stdout",
     "output_type": "stream",
     "text": [
      "<?xml version=\"1.0\" encoding=\"utf-8\"?>\n",
      "<response><header><resultCode>00</resultCode><resultMsg>NORMAL SERVICE.</resultMsg></header><body><item><appnar>0</appnar><appnrsn>붕괴위험</appnrsn><areaname>순용지구</areaname><areanm>전라남도 영광군 불갑면  </areanm><designatedate>20100430  </designatedate><dstrskargradcd>1</dstrskargradcd><fcltymgcnm>영광군청</fcltymgcnm><fcltynm>도장교</fcltynm><managementno>468702010011   </managementno><pushahead>1                             </pushahead><riskfctrcn>우천으로 인한 하천수위상승 시 붕괴위험, 차량진입통제 등 주민불편 증가</riskfctrcn><sigun>4687033000</sigun><type>005                           </type><updtdttm>2016-04-02T15:03:19+09:00</updtdttm><wrssmnm>null</wrssmnm></item></body></response>\n",
      "전라남도영광군불갑면\n",
      "\n",
      "<?xml version=\"1.0\" encoding=\"utf-8\"?>\n",
      "<response><header><resultCode>00</resultCode><resultMsg>NORMAL SERVICE.</resultMsg></header><body><item><appnar>0</appnar><appnrsn>긴급정밀점검결과 D등급 판정</appnrsn><areaname>군남면 갈마제</areaname><areanm>전라남도 영광군 군남면  </areanm><designatedate>20131015  </designatedate><dstrskargradcd>1</dstrskargradcd><fcltymgcnm>영광군청</fcltymgcnm><fcltymgctelno>061-350-5284</fcltymgctelno><fcltynm>갈마저수지</fcltynm><managementno>468702015019   </managementno><pushahead>3                             </pushahead><riskfctrcn>유실위험</riskfctrcn><sigun>4687035000</sigun><type>005                           </type><updtdttm>2015-11-02T13:10:07+09:00</updtdttm><wrssmnm>null</wrssmnm></item></body></response>\n",
      "전라남도영광군군남면\n",
      "\n"
     ]
    },
    {
     "name": "stderr",
     "output_type": "stream",
     "text": [
      "C:\\Users\\USER\\anaconda3\\lib\\site-packages\\urllib3\\connectionpool.py:1043: InsecureRequestWarning: Unverified HTTPS request is being made to host 'apis.data.go.kr'. Adding certificate verification is strongly advised. See: https://urllib3.readthedocs.io/en/1.26.x/advanced-usage.html#ssl-warnings\n",
      "  warnings.warn(\n",
      "C:\\Users\\USER\\anaconda3\\lib\\site-packages\\urllib3\\connectionpool.py:1043: InsecureRequestWarning: Unverified HTTPS request is being made to host 'apis.data.go.kr'. Adding certificate verification is strongly advised. See: https://urllib3.readthedocs.io/en/1.26.x/advanced-usage.html#ssl-warnings\n",
      "  warnings.warn(\n"
     ]
    },
    {
     "name": "stdout",
     "output_type": "stream",
     "text": [
      "<?xml version=\"1.0\" encoding=\"utf-8\"?>\n",
      " ·기존 교량 및 호안 노후로 집중호우시 제방의 유실 위험</riskfctrcn><sigun>4688036000</sigun><type>005                           </type><updtdttm>2016-07-13T13:14:20+09:00</updtdttm><wrssmnm>영산강</wrssmnm></item></body></response>><designatedate>20100517  </designatedate><dstrskargradcd>3</dstrskargradcd><fcltymgctelno>061-390-7778</fcltymgctelno><fcltynm>필암2교</fcltynm><managementno>468802011005   </managementno><pushahead>3                             </pushahead><riskfctrcn> ·통수단면이 부족한 기존교량 철거 및 신설\n",
      "전라남도장성군황룡면\n",
      "\n"
     ]
    },
    {
     "name": "stderr",
     "output_type": "stream",
     "text": [
      "C:\\Users\\USER\\anaconda3\\lib\\site-packages\\urllib3\\connectionpool.py:1043: InsecureRequestWarning: Unverified HTTPS request is being made to host 'apis.data.go.kr'. Adding certificate verification is strongly advised. See: https://urllib3.readthedocs.io/en/1.26.x/advanced-usage.html#ssl-warnings\n",
      "  warnings.warn(\n"
     ]
    },
    {
     "name": "stdout",
     "output_type": "stream",
     "text": [
      "<?xml version=\"1.0\" encoding=\"utf-8\"?>\n",
      "<response><header><resultCode>00</resultCode><resultMsg>NORMAL SERVICE.</resultMsg></header><body><item><appnar>0</appnar><appnrsn>유수소통에 장애</appnrsn><areaname>약수지구</areaname><areanm>전라남도 장성군 북하면  </areanm><designatedate>20100517  </designatedate><dstrskargradcd>3</dstrskargradcd><fcltymgctelno>061-390-7778</fcltymgctelno><fcltynm>북두교</fcltynm><managementno>468802011004   </managementno><pushahead>4                             </pushahead><riskfctrcn> ·통수단면이 부족한 기존교량 철거 및 신설\n",
      " ·기존 교량 및 호안 노후로 집중호우시 제방의 유실 위험\n",
      " </riskfctrcn><sigun>4688040000</sigun><type>005                           </type><updtdttm>2016-07-13T11:56:54+09:00</updtdttm><wrssmnm>영산강</wrssmnm></item></body></response>\n",
      "전라남도장성군북하면\n",
      "\n"
     ]
    },
    {
     "name": "stderr",
     "output_type": "stream",
     "text": [
      "C:\\Users\\USER\\anaconda3\\lib\\site-packages\\urllib3\\connectionpool.py:1043: InsecureRequestWarning: Unverified HTTPS request is being made to host 'apis.data.go.kr'. Adding certificate verification is strongly advised. See: https://urllib3.readthedocs.io/en/1.26.x/advanced-usage.html#ssl-warnings\n",
      "  warnings.warn(\n",
      "C:\\Users\\USER\\anaconda3\\lib\\site-packages\\urllib3\\connectionpool.py:1043: InsecureRequestWarning: Unverified HTTPS request is being made to host 'apis.data.go.kr'. Adding certificate verification is strongly advised. See: https://urllib3.readthedocs.io/en/1.26.x/advanced-usage.html#ssl-warnings\n",
      "  warnings.warn(\n"
     ]
    },
    {
     "name": "stdout",
     "output_type": "stream",
     "text": [
      "<?xml version=\"1.0\" encoding=\"utf-8\"?>\n",
      " 해안선이 방조제가 구축되지 않음</riskfctrcn><sigun>4691025000</sigun><type>005                           </type><updtdttm>2015-12-03T08:54:52+09:00</updtdttm><wrssmnm>기타</wrssmnm></item></body></response>군 지도읍  </areanm><designatedate>20090205  </designatedate><dstrskargradcd>2</dstrskargradcd><fcltymgcnm>신안군</fcltymgcnm><fcltymgctelno>061-240-8696</fcltymgctelno><fcltynm>지도읍내지구</fcltynm><managementno>469102009002   </managementno><pushahead>4                             </pushahead><riskfctrcn>주거지역이 해안보다 낮음\n",
      "전라남도신안군지도읍\n",
      "\n",
      "<?xml version=\"1.0\" encoding=\"utf-8\"?>\n",
      "<response><header><resultCode>00</resultCode><resultMsg>NORMAL SERVICE.</resultMsg></header><body><item><appnar>0</appnar><appnrsn>주택 및 농경지 침식우려</appnrsn><areaname>수치지구</areaname><areanm>전라남도 신안군 비금면  </areanm><designatedate>20090205  </designatedate><dstrskargradcd>3</dstrskargradcd><fcltymgcnm>신안군</fcltymgcnm><fcltymgctelno>061-240-8696</fcltymgctelno><fcltynm>비금수치지구</fcltynm><managementno>469102009004   </managementno><pushahead>1                             </pushahead><riskfctrcn>해안 방조제 시설이 없음</riskfctrcn><sigun>4691034000</sigun><type>005                           </type><updtdttm>2015-12-03T08:57:59+09:00</updtdttm><wrssmnm>null</wrssmnm></item></body></response>\n",
      "전라남도신안군비금면\n",
      "\n"
     ]
    },
    {
     "name": "stderr",
     "output_type": "stream",
     "text": [
      "C:\\Users\\USER\\anaconda3\\lib\\site-packages\\urllib3\\connectionpool.py:1043: InsecureRequestWarning: Unverified HTTPS request is being made to host 'apis.data.go.kr'. Adding certificate verification is strongly advised. See: https://urllib3.readthedocs.io/en/1.26.x/advanced-usage.html#ssl-warnings\n",
      "  warnings.warn(\n",
      "C:\\Users\\USER\\anaconda3\\lib\\site-packages\\urllib3\\connectionpool.py:1043: InsecureRequestWarning: Unverified HTTPS request is being made to host 'apis.data.go.kr'. Adding certificate verification is strongly advised. See: https://urllib3.readthedocs.io/en/1.26.x/advanced-usage.html#ssl-warnings\n",
      "  warnings.warn(\n"
     ]
    },
    {
     "name": "stdout",
     "output_type": "stream",
     "text": [
      "<?xml version=\"1.0\" encoding=\"utf-8\"?>\n",
      "<response><header><resultCode>00</resultCode><resultMsg>NORMAL SERVICE.</resultMsg></header><body><item><appnar>0</appnar><appnrsn>주택 침수 및 해안 유실</appnrsn><areaname>매실지구</areaname><areanm>전라남도 신안군 도초면  </areanm><designatedate>20090205  </designatedate><dstrskargradcd>2</dstrskargradcd><fcltymgcnm>신안군</fcltymgcnm><fcltymgctelno>061-240-8696</fcltymgctelno><fcltynm>매실선착장</fcltynm><managementno>469102009007   </managementno><pushahead>1                             </pushahead><riskfctrcn>해안가에 방조제 시설이 없음</riskfctrcn><sigun>4691035000</sigun><type>005                           </type><updtdttm>2015-12-03T09:07:42+09:00</updtdttm><wrssmnm>기타</wrssmnm></item></body></response>\n",
      "전라남도신안군도초면\n",
      "\n",
      "<?xml version=\"1.0\" encoding=\"utf-8\"?>\n",
      "<response><header><resultCode>00</resultCode><resultMsg>NORMAL SERVICE.</resultMsg></header><body><item><appnar>0</appnar><appnrsn>제방뚝 유실시 농경지 및 주택 침수 우려가 있음</appnrsn><areaname>안좌한운지구</areaname><areanm>전라남도 신안군 안좌면  </areanm><designatedate>20061002  </designatedate><dstrskargradcd>3</dstrskargradcd><fcltymgcnm>신안군</fcltymgcnm><fcltymgctelno>240-8696</fcltymgctelno><fcltynm>안좌한운지구</fcltynm><managementno>469102006001   </managementno><pushahead>4                             </pushahead><relisde>20090525</relisde><riskfctrcn>태풍,해일,집중호우시 자연제방 유실 및 침식현상 발생시 농경지 등에 침수 피해</riskfctrcn><sigun>4691040000</sigun><type>005                           </type><updtdttm>2015-12-03T08:52:42+09:00</updtdttm><wrssmnm>기타</wrssmnm></item></body></response>\n",
      "전라남도신안군안좌면\n",
      "\n",
      "<?xml version=\"1.0\" encoding=\"utf-8\"?>\n",
      "<response><header><resultCode>00</resultCode><resultMsg>NORMAL SERVICE.</resultMsg></header><body><item><appnar>0</appnar><appnrsn>농경지 침수</appnrsn><areaname>고산지구</areaname><areanm>전라남도 신안군 팔금면  </areanm><designatedate>20060228  </designatedate><dstrskargradcd>3</dstrskargradcd><fcltymgctelno>061-240-8696</fcltymgctelno><fcltynm>팔금고산지구</fcltynm><managementno>469102009014   </managementno><pushahead>4                             </pushahead><relisde>20070529</relisde><relisrsn>조사후 위험성 없음</relisrsn><riskfctrcn>농경지 침수</riskfctrcn><sigun>4691041000</sigun><type>005                           </type><updtdttm>2015-12-03T09:16:47+09:00</updtdttm><wrssmnm>기타</wrssmnm></item></body></response>\n",
      "전라남도신안군팔금면\n",
      "\n"
     ]
    },
    {
     "name": "stderr",
     "output_type": "stream",
     "text": [
      "C:\\Users\\USER\\anaconda3\\lib\\site-packages\\urllib3\\connectionpool.py:1043: InsecureRequestWarning: Unverified HTTPS request is being made to host 'apis.data.go.kr'. Adding certificate verification is strongly advised. See: https://urllib3.readthedocs.io/en/1.26.x/advanced-usage.html#ssl-warnings\n",
      "  warnings.warn(\n"
     ]
    },
    {
     "name": "stdout",
     "output_type": "stream",
     "text": [
      "<?xml version=\"1.0\" encoding=\"utf-8\"?>\n",
      "<response><header><resultCode>00</resultCode><resultMsg>NORMAL SERVICE.</resultMsg></header><body><item><appnar>400</appnar><appnrsn>하천기본계획 경간장 검토 → 경간장 부족발생</appnrsn><areaname>냉천2지구</areaname><areanm>경상북도 포항시 남구 오천읍  </areanm><designatedate>20131118  </designatedate><dstrskargradcd>2</dstrskargradcd><fcltymgcnm>안전관리과</fcltymgcnm><fcltymgctelno>054-270-3536</fcltymgctelno><fcltynm>냉천2지구</fcltynm><managementno>471112014007   </managementno><pushahead>4                             </pushahead><riskfctrcn>하천 범람으로 인한 인접지 주택 및 농경지 유실</riskfctrcn><sigun>4711125600</sigun><type>005                           </type><updtdttm>2017-01-31T11:59:29+09:00</updtdttm><wrssmnm>기타</wrssmnm></item></body></response>\n",
      "경상북도포항시남구오천읍\n",
      "\n",
      "['2016.12.22.(1일강우량56.5mm)공암자수료를통행하던차량이급류에휩쓸려인명(사망1명)및재산(차량침수)피해발생함', '유실위험지구', '장기적인침수로인한시설물피해', '교량유실위험지구', '협소교량,계획홍수위보다교량고가낮음', '경전선이계획홍수위아래위치,일우량200mm이상과홍수발령시상습침수', '노후교량으로교량여유고및경간장부족등(재난위험시설D긍급)', '경작을위한주민이동이빈번하며,노후교량으로인명피해우려', '삼달교의형하여유고부족', '수곡교의경간장및통수단면부족', '평전교(잠수교)의형하여유고부족', '급류로돌발성인명피해우려', '유실우려', '유실재해위험지구', '하폭부족으로인한유실위험', '하폭부족으로인한침수위험', '하폭부족으로인한침수위험', '호안노후화및파손으로유실위험', '유실위험지구', '미개수하천으로일우량180mm이상시상습침수지역임.', '하천폭및여유고부족', '하천폭및여유고부족', '하천폭및여유고부족,세월교등으로재해위험상존', '하천유실로인한주택및농경지피해우려', '미개수하천으로일우량200mm이상시상습침수지역임.', '미개수하천으로하천폭이부족하고교량여유고부족', '하천폭및여유고부족', '하천폭및여유고부족으로재해위험상존', '하천범람으로인한하천유실', '재해발생위험', '하천통수단면부족', '하천통수단면부족', '나진교통수능부족', '하천범람', '하천범람', '집중호우시유실위험', '우수범람', '집중호우시유실위험', '하천범람', '우수범람', '하천통수단면부족으로하천수범람', '집중호우시도로및교량침수', '집중호우시유실위험', '하천범람으로유실위험지구', '하천범람에의한교량유실위험', '하천범람및시설물파손', '', '하폭협소및교량협소로인한재해시유실위험', '하폭협소및교량협소로인한재해시유실위험', '교량통수단면부족으로상류농경지침수위험', '하천내통수단면저해구조물정비', '제방미정비로농경지유실위험', '하천기본계획보다교량길이와교량고가낮아침수', '유실위험', '미개수하천으로집중호우시재해위험', '유실위험', '하폭이좁고기존교량이낮아주변지역이월류', '유실위험', '미개수하천', '호우시유실및침수', '노전천의잦은범람및제방유실로인한농경지상습침수', '개화천의잦은범람으로제방유실로인한주택및농경지상습침수', '제방단면부족및구조물노후화', '제방단면부족및구조물노후화', '제방단면부족및구조물노후화', '제방단면부족및구조물노후화', '유실위험', '유실위험/다등급', '유실위험', '유실위험', '유실위험', '유실위험', '저지대위치로하천범람으로주택및농경지침수', '미정비하천으로집중호우시농경지침수및주택침수', '계획홍수위이하의교량으로인한통수능장애발생', '하천미개수로제방유실우려,제외농경지하상보다낮아내수침수', '하천미개수로제방유실우려,제외농경지하상보다낮아내수침수', '하천의미개수로제방유실우려가있으며제외지의농경지가하상보다', '미새수소하천으로인근지유실위험', '유실위험', '미개수하천', '하천의미개수로농경지가하상보다낮아내수침수발생', '하천의미개수로농경지가하상보다낮아내수침수발생', '주택및농경지침수', '집중호우시제방및교량유실', '홍수로인한유실피해우려', '여양교의부등침하및단면부족', '우천시붕괴위험', '교량붕괴위험', '홍수위보다낮은교량', '홍수위보다낮은교량', '홍수위보다낮은교량', '홍수위보다낮은교량', '홍수위보다낮은교량', '홍수위보다낮은교량', '통수단면부족에의한제방유실위험', '통수단면부족에의한제방유실위험', '통수단면부족에의한제방유실위험', '홍수위보다낮은교량으로침수위험', '유실위험', '농경지유실및가옥침수', '호우시하천이범람하여피해발생', '하천범람으로침수피해상존', '호우시하천이범람하여피해발생', '하천범람으로침수피해상존', '매년홍수시제방범람으로농경지침관수및인근주택침수', '하천범람으로침수피해상존', '전소천우수유입량증가로홍수시주변유실우려', '노후된교량경간장및여유고부족', '노후교량경간장및여유고부족', '하천의하폭과여유고부족으로호우시호안유실로인명피해우려', '교량상부구조가낮아통수단면부족', '괴시교붕괴우려및유수의지장초래로농경지,주택침수위험', '집중호우및태풍래습시유수소통에장애로인한침수및유실위험', '교량이하천폭보다짧고상부구조가낮아통수단면부족', '소라교의여유고부족으로인한상습침수지역', '2', '유실위험교량', '유실위험교량', '유실위험지구', '유실위험교량', '인명및재산피해예상됨', '유실위험', '재해위헙지구지정관리', '재해위헙지구지정관리', '교량통수단면부족으로상습침수피해', '통수단면부족으로인한유실위험', '통수단면부족으로인한유실위험', '유실위험', '유실위험', '통수단면부족으로인한유실위험', '통수단면부족으로인한유실위험', '통수단면부족으로인한유실위험', '통수단면부족으로인한유실위험', '통수단면부족으로인한유실위험', '통수단면부족으로인한유실위험', '통수단면부족으로인한유실위험', '통수단면부족으로인한유실위험', '통수단면부족으로인한유실위험', '남하잠수교유실위험', '교량연장,경간장및형하여유고부족', '낮은교량', '홍수위보다낮은교량', '홍수위보다낮은교량', '교량이홍수위보다낮음', '하천외수범람및내수배제불량', '외수위상승으로주변농경지유실및침수우려', '하폭및통수단면부족으로인한침수우려', '교량형하고및하천통수단면부족으로인한유실우려', '긴급정밀점검결과D등급판정', '긴급정밀점검결과D등급판정', '붕괴위험', '긴급정밀점검결과D등급판정', '유수소통에장애등', '유수소통에장애', '주택및해안유실', '주택및농경지침식우려', '주택침수및해안유실', '제방뚝유실시농경지및주택침수우려가있음', '농경지침수', '하천기본계획경간장검토→경간장부족발생']\n",
      "['경상남도양산시', '경상남도의령군', '경상남도의령군의령읍', '경상남도의령군부림면', '경상남도함안군', '경상남도함안군가야읍', '경상북도울진군', '경상북도울진군', '경상북도울진군평해읍', '경상북도울진군근남면', '경상북도울진군온정면', '전라북도남원시운봉읍', '전라북도완주군운주면', '전라북도완주군화산면', '전라북도진안군', '전라북도진안군성수면', '전라북도진안군마령면', '전라북도장수군장수읍', '전라북도장수군계남면', '전라북도임실군', '전라북도임실군', '전라북도임실군임실읍', '전라북도임실군성수면', '전라북도임실군성수면', '전라북도임실군신덕면', '전라북도임실군신덕면', '전라북도임실군삼계면', '전라북도임실군관촌면', '전라북도임실군관촌면', '전라북도순창군동계면', '충청남도예산군삽교읍', '충청남도예산군대흥면', '경기도김포시김포1동', '경기도여주시', '경기도여주시', '경기도여주시', '경기도여주시', '경기도여주시', '경기도여주시', '경기도여주시', '강원도태백시황지동', '강원도홍천군서석면', '강원도횡성군공근면', '울산광역시울주군범서읍', '울산광역시울주군삼동면', '충청북도보은군', '충청남도당진시', '충청남도금산군남일면', '충청남도금산군복수면', '충청북도보은군마로면', '충청북도보은군탄부면', '충청북도보은군내북면', '충청북도옥천군군서면', '충청북도영동군', '충청북도괴산군', '충청북도괴산군괴산읍', '충청북도괴산군청천면', '충청북도괴산군청천면', '충청북도괴산군청안면', '충청북도음성군', '충청남도보령시웅천읍', '충청남도보령시성주면', '강원도양구군양구읍', '강원도양구군양구읍', '강원도양구군양구읍', '강원도양구군양구읍', '강원도고성군간성읍', '강원도고성군간성읍', '강원도고성군죽왕면', '강원도고성군죽왕면', '강원도고성군토성면', '충청남도천안시수신면', '충청남도천안시부성동', '충청남도당진군합덕읍', '경기도광주시실촌읍', '경기도여주군여주읍', '경기도여주군여주읍', '경기도여주군여주읍', '경기도여주군점동면', '경기도여주군점동면', '경기도여주군대신면', '경기도여주군북내면', '경기도여주군북내면', '전라남도신안군압해면', '강원도평창군도암면', '강원도정선군동면', '경상북도울진군원남면', '전라남도영광군영광읍', '전라남도영광군영광읍', '전라남도담양군봉산면', '전라남도담양군고서면', '전라남도담양군고서면', '전라남도담양군고서면', '전라남도담양군무정면', '전라남도담양군금성면', '전라남도담양군용면', '전라남도담양군용면', '전라남도담양군월산면', '전라남도담양군봉산면', '전라남도고흥군포두면', '전라남도화순군남면', '전라남도장흥군관산읍', '전라남도장흥군관산읍', '전라남도장흥군대덕읍', '전라남도장흥군대덕읍', '전라남도장흥군장동면', '전라남도장흥군유치면', '인천광역시중구영종동', '경상북도경주시내남면', '경상북도경주시내남면', '경상북도김천시', '경상북도영덕군남정면', '경상북도영덕군영해면', '경상북도영덕군병곡면', '경상북도영덕군창수면', '경상북도청도군화양읍', '경상북도고령군운수면', '경상북도성주군용암면', '경상북도성주군가천면', '경상북도성주군벽진면', '경상북도성주군초전면', '경상북도성주군월항면', '경상북도칠곡군북삼읍', '경상북도영주시', '경상북도영주시안정면', '경상북도영천시금호읍', '경상북도문경시', '경상북도문경시문경읍', '경상북도문경시가은읍', '경상북도문경시가은읍', '경상북도문경시가은읍', '경상북도문경시산양면', '경상북도문경시호계면', '경상북도문경시호계면', '경상북도문경시호계면', '경상북도문경시산북면', '경상북도문경시동로면', '경상북도문경시농암면', '경상북도문경시농암면', '경상북도경산시하양읍', '경상북도군위군군위읍', '경상북도군위군군위읍', '경상북도군위군부계면', '경상북도군위군우보면', '경상북도군위군우보면', '경상북도군위군산성면', '경상북도의성군춘산면', '경상북도의성군가음면', '경상북도의성군신평면', '전라남도영광군불갑면', '전라남도영광군불갑면', '전라남도영광군불갑면', '전라남도영광군군남면', '전라남도장성군황룡면', '전라남도장성군북하면', '전라남도신안군지도읍', '전라남도신안군비금면', '전라남도신안군도초면', '전라남도신안군안좌면', '전라남도신안군팔금면', '경상북도포항시남구오천읍']\n",
      "['잠수교', '', '', '교량유실', '유실위험시설', '외수', '침수및유실', '침수및유실', '', '', '', '', '', '', '유실위험', '유실위험', '유실위험', '하천', '', '유실위험', '지방하천', '지방하천', '지방하천', '지방하천', '지방하천', '소하천', '소하천', '지방하천', '', '', '지방2급하천', '', '교량유실', '', '', '', '', '', '', '', '유실', '', '유실위험', '유실위험지구', '유실위험지구', '제방유실', '', '', '', '방재시설', '농경지유실', '제방유실', '유실', '나등급', '', '', '', '', '', '', '유실위험', '유실위험', '', '', '', '', '', '', '', '', '', '', '', '외수', '', '', '', '', '', '', '', '', '', '', '', '', '', '', '', '', '', '', '', '', '', '', '', '', '', '', '취락지구', '', '', '', '', '외수', '', '유실위험지구', '', '', '', '유실위험', '', '', '', '', '붕괴및유실', '', '', '', '', '', '', '', '', '', '', '', '', '', '', '', '', '', '', '', '', '', '', '유실위험', '', '', '', '', '', '유실', '', '', '', '', '', '', '', '', '', '', '', '', '', '', '']\n"
     ]
    },
    {
     "name": "stderr",
     "output_type": "stream",
     "text": [
      "C:\\Users\\USER\\anaconda3\\lib\\site-packages\\urllib3\\connectionpool.py:1043: InsecureRequestWarning: Unverified HTTPS request is being made to host 'apis.data.go.kr'. Adding certificate verification is strongly advised. See: https://urllib3.readthedocs.io/en/1.26.x/advanced-usage.html#ssl-warnings\n",
      "  warnings.warn(\n"
     ]
    }
   ],
   "source": [
    "url2='https://apis.data.go.kr/1750000/disasterDistrictService/LocalGovStructureDisasterDistrictItemCrntSt?stat=01&pageNo=1&numOfRows=10&serviceKey=HJ68D5bz%2FqRPlhL9cllA0ZxfYcX1FOlGM4Z7rKvTLbTy2BgxEkibizeIrqVRx1yq4FopjvseaR151d%2FJWf6a9A%3D%3D&mgmtNo='\n",
    "mgmtNo=''\n",
    "\n",
    "# appnrsn\n",
    "# areanm\n",
    "# detailtp\n",
    "\n",
    "appnrsn_list=[]\n",
    "areanm_list=[]\n",
    "detailtp_list=[]\n",
    "\n",
    "for v in range(0,len(value_list)):\n",
    "    mgmtNo=value_list[v]\n",
    "    acc_url=url2+mgmtNo\n",
    "    \n",
    "    response2=requests.get(acc_url, verify=False)\n",
    "    content=response2.text\n",
    "    xml_obj=bs4.BeautifulSoup(content,'lxml-xml')\n",
    "    print(xml_obj)\n",
    "    \n",
    "    if(len(xml_obj.findAll('areanm'))==0):\n",
    "        area=\"\"\n",
    "    else:\n",
    "        area=xml_obj.findAll('areanm')[0].text.replace(\" \",\"\")\n",
    "    if(len(xml_obj.findAll('detailtp'))==0):\n",
    "        detail=\"\"\n",
    "    else:\n",
    "        detail=xml_obj.findAll('detailtp')[0].text.replace(\" \",\"\")\n",
    "    if(len(xml_obj.findAll('appnrsn'))==0):\n",
    "        app=\"\"\n",
    "    else:\n",
    "        app=xml_obj.findAll('appnrsn')[0].text.replace(\" \",\"\")\n",
    "    \n",
    "    print(area)\n",
    "    print(detail)\n",
    "    \n",
    "    appnrsn_list.append(app)\n",
    "    areanm_list.append(area)\n",
    "    detailtp_list.append(detail)\n",
    "\n",
    "print(appnrsn_list)\n",
    "print(areanm_list)\n",
    "print(detailtp_list)"
   ]
  },
  {
   "cell_type": "code",
   "execution_count": 37,
   "id": "db9c567a-8beb-4f0f-b13d-d513244fd6fd",
   "metadata": {
    "collapsed": true,
    "jupyter": {
     "outputs_hidden": true
    },
    "tags": []
   },
   "outputs": [
    {
     "data": {
      "text/html": [
       "<div>\n",
       "<style scoped>\n",
       "    .dataframe tbody tr th:only-of-type {\n",
       "        vertical-align: middle;\n",
       "    }\n",
       "\n",
       "    .dataframe tbody tr th {\n",
       "        vertical-align: top;\n",
       "    }\n",
       "\n",
       "    .dataframe thead th {\n",
       "        text-align: right;\n",
       "    }\n",
       "</style>\n",
       "<table border=\"1\" class=\"dataframe\">\n",
       "  <thead>\n",
       "    <tr style=\"text-align: right;\">\n",
       "      <th></th>\n",
       "      <th>appnrsn</th>\n",
       "      <th>areanm</th>\n",
       "      <th>detailtp</th>\n",
       "    </tr>\n",
       "  </thead>\n",
       "  <tbody>\n",
       "    <tr>\n",
       "      <th>0</th>\n",
       "      <td>2016.12.22.(1일강우량56.5mm)공암자수료를통행하던차량이급류에휩쓸려인명(...</td>\n",
       "      <td>경상남도양산시</td>\n",
       "      <td>잠수교</td>\n",
       "    </tr>\n",
       "    <tr>\n",
       "      <th>1</th>\n",
       "      <td>유실위험지구</td>\n",
       "      <td>경상남도의령군</td>\n",
       "      <td></td>\n",
       "    </tr>\n",
       "    <tr>\n",
       "      <th>2</th>\n",
       "      <td>장기적인침수로인한시설물피해</td>\n",
       "      <td>경상남도의령군의령읍</td>\n",
       "      <td></td>\n",
       "    </tr>\n",
       "    <tr>\n",
       "      <th>3</th>\n",
       "      <td>교량유실위험지구</td>\n",
       "      <td>경상남도의령군부림면</td>\n",
       "      <td>교량유실</td>\n",
       "    </tr>\n",
       "    <tr>\n",
       "      <th>4</th>\n",
       "      <td>협소교량,계획홍수위보다교량고가낮음</td>\n",
       "      <td>경상남도함안군</td>\n",
       "      <td>유실위험시설</td>\n",
       "    </tr>\n",
       "    <tr>\n",
       "      <th>...</th>\n",
       "      <td>...</td>\n",
       "      <td>...</td>\n",
       "      <td>...</td>\n",
       "    </tr>\n",
       "    <tr>\n",
       "      <th>156</th>\n",
       "      <td>주택및농경지침식우려</td>\n",
       "      <td>전라남도신안군비금면</td>\n",
       "      <td></td>\n",
       "    </tr>\n",
       "    <tr>\n",
       "      <th>157</th>\n",
       "      <td>주택침수및해안유실</td>\n",
       "      <td>전라남도신안군도초면</td>\n",
       "      <td></td>\n",
       "    </tr>\n",
       "    <tr>\n",
       "      <th>158</th>\n",
       "      <td>제방뚝유실시농경지및주택침수우려가있음</td>\n",
       "      <td>전라남도신안군안좌면</td>\n",
       "      <td></td>\n",
       "    </tr>\n",
       "    <tr>\n",
       "      <th>159</th>\n",
       "      <td>농경지침수</td>\n",
       "      <td>전라남도신안군팔금면</td>\n",
       "      <td></td>\n",
       "    </tr>\n",
       "    <tr>\n",
       "      <th>160</th>\n",
       "      <td>하천기본계획경간장검토→경간장부족발생</td>\n",
       "      <td>경상북도포항시남구오천읍</td>\n",
       "      <td></td>\n",
       "    </tr>\n",
       "  </tbody>\n",
       "</table>\n",
       "<p>161 rows × 3 columns</p>\n",
       "</div>"
      ],
      "text/plain": [
       "                                               appnrsn        areanm detailtp\n",
       "0    2016.12.22.(1일강우량56.5mm)공암자수료를통행하던차량이급류에휩쓸려인명(...       경상남도양산시      잠수교\n",
       "1                                               유실위험지구       경상남도의령군         \n",
       "2                                       장기적인침수로인한시설물피해    경상남도의령군의령읍         \n",
       "3                                             교량유실위험지구    경상남도의령군부림면     교량유실\n",
       "4                                   협소교량,계획홍수위보다교량고가낮음       경상남도함안군   유실위험시설\n",
       "..                                                 ...           ...      ...\n",
       "156                                         주택및농경지침식우려    전라남도신안군비금면         \n",
       "157                                          주택침수및해안유실    전라남도신안군도초면         \n",
       "158                                제방뚝유실시농경지및주택침수우려가있음    전라남도신안군안좌면         \n",
       "159                                              농경지침수    전라남도신안군팔금면         \n",
       "160                                하천기본계획경간장검토→경간장부족발생  경상북도포항시남구오천읍         \n",
       "\n",
       "[161 rows x 3 columns]"
      ]
     },
     "execution_count": 37,
     "metadata": {},
     "output_type": "execute_result"
    }
   ],
   "source": [
    "df = pd.DataFrame(data = list(zip(appnrsn_list, areanm_list,detailtp_list)), columns = ['appnrsn', 'areanm', 'detailtp'])\n",
    "df"
   ]
  },
  {
   "cell_type": "code",
   "execution_count": 39,
   "id": "2921baa2-2b35-4314-9fc9-2ace61676d4a",
   "metadata": {
    "tags": []
   },
   "outputs": [],
   "source": [
    "df.style.set_properties(**{'text-align': 'left'})\n",
    "df.to_csv('data/전국침수정보.csv', encoding='utf-8')"
   ]
  }
 ],
 "metadata": {
  "kernelspec": {
   "display_name": "Python 3 (ipykernel)",
   "language": "python",
   "name": "python3"
  },
  "language_info": {
   "codemirror_mode": {
    "name": "ipython",
    "version": 3
   },
   "file_extension": ".py",
   "mimetype": "text/x-python",
   "name": "python",
   "nbconvert_exporter": "python",
   "pygments_lexer": "ipython3",
   "version": "3.9.12"
  }
 },
 "nbformat": 4,
 "nbformat_minor": 5
}
