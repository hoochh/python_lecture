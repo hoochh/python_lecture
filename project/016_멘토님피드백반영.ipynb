{
 "cells": [
  {
   "cell_type": "code",
   "execution_count": null,
   "id": "e17a79f8-a15f-4b70-8922-cff60bb98353",
   "metadata": {},
   "outputs": [],
   "source": [
    "import pandas as pd\n",
    "import seaborn as sns\n",
    "import matplotlib.pyplot as plt\n",
    "from tabulate import tabulate\n",
    "\n",
    "# 윈도우인 경우\n",
    "from matplotlib import font_manager, rc\n",
    "\n",
    "font_name = font_manager.FontProperties(fname='c:/Windows/Fonts/malgun.ttf').get_name()\n",
    "rc('font',family=font_name)\n",
    "plt.rcParams['axes.unicode_minus']=False\n",
    "\n",
    "sns.set(rc = {'figure.figsize':(15,8)})"
   ]
  },
  {
   "cell_type": "code",
   "execution_count": null,
   "id": "fac6a48c-26c2-464d-b6d7-f8072b2a7ec8",
   "metadata": {},
   "outputs": [
    {
     "data": {
      "text/html": [
       "<div>\n",
       "<style scoped>\n",
       "    .dataframe tbody tr th:only-of-type {\n",
       "        vertical-align: middle;\n",
       "    }\n",
       "\n",
       "    .dataframe tbody tr th {\n",
       "        vertical-align: top;\n",
       "    }\n",
       "\n",
       "    .dataframe thead th {\n",
       "        text-align: right;\n",
       "    }\n",
       "</style>\n",
       "<table border=\"1\" class=\"dataframe\">\n",
       "  <thead>\n",
       "    <tr style=\"text-align: right;\">\n",
       "      <th></th>\n",
       "      <th></th>\n",
       "      <th>count</th>\n",
       "    </tr>\n",
       "    <tr>\n",
       "      <th>date</th>\n",
       "      <th>region_id</th>\n",
       "      <th></th>\n",
       "    </tr>\n",
       "  </thead>\n",
       "  <tbody>\n",
       "    <tr>\n",
       "      <th rowspan=\"5\" valign=\"top\">2021-08-11</th>\n",
       "      <th>2301058</th>\n",
       "      <td>1</td>\n",
       "    </tr>\n",
       "    <tr>\n",
       "      <th>2304054</th>\n",
       "      <td>1</td>\n",
       "    </tr>\n",
       "    <tr>\n",
       "      <th>2304055</th>\n",
       "      <td>1</td>\n",
       "    </tr>\n",
       "    <tr>\n",
       "      <th>2304057</th>\n",
       "      <td>1</td>\n",
       "    </tr>\n",
       "    <tr>\n",
       "      <th>2304058</th>\n",
       "      <td>3</td>\n",
       "    </tr>\n",
       "    <tr>\n",
       "      <th>...</th>\n",
       "      <th>...</th>\n",
       "      <td>...</td>\n",
       "    </tr>\n",
       "    <tr>\n",
       "      <th rowspan=\"5\" valign=\"top\">2021-10-26</th>\n",
       "      <th>2305067</th>\n",
       "      <td>2</td>\n",
       "    </tr>\n",
       "    <tr>\n",
       "      <th>2305072</th>\n",
       "      <td>1</td>\n",
       "    </tr>\n",
       "    <tr>\n",
       "      <th>2305074</th>\n",
       "      <td>1</td>\n",
       "    </tr>\n",
       "    <tr>\n",
       "      <th>2308051</th>\n",
       "      <td>1</td>\n",
       "    </tr>\n",
       "    <tr>\n",
       "      <th>2308078</th>\n",
       "      <td>1</td>\n",
       "    </tr>\n",
       "  </tbody>\n",
       "</table>\n",
       "<p>622 rows × 1 columns</p>\n",
       "</div>"
      ],
      "text/plain": [
       "                      count\n",
       "date       region_id       \n",
       "2021-08-11 2301058        1\n",
       "           2304054        1\n",
       "           2304055        1\n",
       "           2304057        1\n",
       "           2304058        3\n",
       "...                     ...\n",
       "2021-10-26 2305067        2\n",
       "           2305072        1\n",
       "           2305074        1\n",
       "           2308051        1\n",
       "           2308078        1\n",
       "\n",
       "[622 rows x 1 columns]"
      ]
     },
     "execution_count": 2,
     "metadata": {},
     "output_type": "execute_result"
    }
   ],
   "source": [
    "pothole_df = pd.read_csv('data/인천/인천포트홀_0704.csv')\n",
    "\n",
    "hum_df = pd.read_csv('데이터원소화/전체날씨데이터/일일_습도_평균_최대_최소_표준.csv')\n",
    "_hum_df = pd.read_csv('데이터원소화/전체날씨데이터/어제_습도_평균_최대_최소_표준.csv')\n",
    "\n",
    "temp_df = pd.read_csv('데이터원소화/전체날씨데이터/일일_기온_평균_최대_최소_표준.csv')\n",
    "_temp_df = pd.read_csv('데이터원소화/전체날씨데이터/어제_기온_평균_최대_최소_표준.csv')\n",
    "\n",
    "wind_df = pd.read_csv('데이터원소화/전체날씨데이터/일일_풍속_평균_최대_최소_표준.csv')\n",
    "_wind_df = pd.read_csv('데이터원소화/전체날씨데이터/어제_풍속_평균_최대_최소_표준.csv')\n",
    "\n",
    "aqua_df = pd.read_csv('데이터원소화/전체날씨데이터/일일_강수량_평균_최대_최소_표준.csv')\n",
    "_aqua_df = pd.read_csv('데이터원소화/전체날씨데이터/어제_강수량_평균_최대_최소_표준.csv')\n",
    "\n",
    "pothole_df['count']=1\n",
    "pothole_df = pothole_df.groupby(['date','region_id'])[['count']].count()\n",
    "pothole_df"
   ]
  },
  {
   "cell_type": "markdown",
   "id": "3753c95e-2b63-42ff-90e7-ebe28bce3b38",
   "metadata": {},
   "source": [
    " # (1) 포트홀과 강수량 "
   ]
  },
  {
   "cell_type": "code",
   "execution_count": null,
   "id": "2e9c1734-3ccb-452b-970f-88f119c05948",
   "metadata": {
    "tags": []
   },
   "outputs": [],
   "source": [
    "aqua_days_df = pd.read_csv('데이터원소화/전체날씨데이터/2일_5일간_강수량_평균_최대_최소_표준.csv')\n",
    "aqua_days_df = aqua_days_df.set_index(['date','region_id'])\n",
    "\n",
    "merge_ad = pd.merge(pothole_df, aqua_days_df, how='inner', left_index=True, right_index=True)\n",
    "# merge_ad = merge_ad.reset_index()\n",
    "merge_ad['count'] = merge_ad['count'].fillna(0)\n",
    "merge_ad.to_csv('data/인천포트홀강수량.csv')"
   ]
  },
  {
   "cell_type": "code",
   "execution_count": null,
   "id": "c331417b-2439-4963-ad88-b526e0800c5c",
   "metadata": {},
   "outputs": [],
   "source": [
    "merge_ad_5d = merge_ad.groupby(['aqua_14d'],as_index=False).agg({'count':'count', 'aqua_14d_idx':'mean'})\n",
    "# merge_ad_5d['count_idx']= merge_ad_5d['count'].apply(lambda x: x%15)\n",
    "sns.relplot(x='count', y='aqua_14d',hue='aqua_14d_idx',data=merge_ad_5d)\n",
    "sns.catplot(x='count', y='aqua_14d',data=merge_ad_5d, kind='swarm').fig.set_size_inches(10,5)\n",
    "\n",
    "\n",
    "merge_ad_5d[merge_ad_5d['count']==100]"
   ]
  },
  {
   "cell_type": "code",
   "execution_count": null,
   "id": "028f385f-49fd-49be-8244-91a090e8fe87",
   "metadata": {},
   "outputs": [],
   "source": [
    "merge_ad_d = merge_ad.groupby(['aqua_sum'],as_index=False).agg({'count':'count', 'aqua_sum_idx':'max'})\n",
    "sns.relplot(x='count', y='aqua_sum',hue='aqua_sum_idx',data=merge_ad_d)"
   ]
  },
  {
   "cell_type": "markdown",
   "id": "612bb8dc-3c37-4951-8df3-043a6ad82347",
   "metadata": {},
   "source": [
    "###"
   ]
  },
  {
   "cell_type": "markdown",
   "id": "5e37f9c8-68c7-4771-9b0e-2516014429d9",
   "metadata": {},
   "source": [
    "# (2) 포트홀과 기온 변화량"
   ]
  },
  {
   "cell_type": "code",
   "execution_count": null,
   "id": "c52d3b7d-eb9a-450c-96c7-7887e48c2c72",
   "metadata": {
    "tags": []
   },
   "outputs": [],
   "source": [
    "temp_days_df = pd.read_csv('데이터원소화/전체날씨데이터/5일간_기온_평균최대_평균최소_최대일교차_최대기온_최소기온.csv')\n",
    "\n",
    "temp_days_df = temp_days_df.set_index(['date','region_id'])\n",
    "\n",
    "merge_td = pd.merge(pothole_df, temp_days_df, how='inner', left_index=True, right_index=True)\n",
    "\n",
    "merge_td = merge_td.reset_index()\n",
    "\n",
    "merge_td"
   ]
  },
  {
   "cell_type": "code",
   "execution_count": null,
   "id": "d9281f72-c483-4fb3-bcf8-bb8c75ba4a2e",
   "metadata": {},
   "outputs": [],
   "source": [
    "merge_td_tmax = merge_td.groupby('temp_max_5d',as_index=False).agg({'count':'count', 'temp_max_5d_idx':'mean'})\n",
    "sns.relplot(x='count', y='temp_max_5d',hue='temp_max_5d_idx',data=merge_td_tmax)"
   ]
  },
  {
   "cell_type": "code",
   "execution_count": null,
   "id": "211a6383-4d9e-430b-a8ac-2a79a504d40a",
   "metadata": {},
   "outputs": [],
   "source": [
    "merge_td_tmin = merge_td.groupby('temp_min_5d',as_index=False).agg({'count':'count', 'temp_min_5d_idx':'mean'})\n",
    "sns.relplot(x='count', y='temp_min_5d',hue='temp_min_5d_idx',data=merge_td_tmin)"
   ]
  },
  {
   "cell_type": "code",
   "execution_count": null,
   "id": "b6d09274-d312-4345-9218-0aee6fb58338",
   "metadata": {},
   "outputs": [],
   "source": [
    "merge_td_chg = merge_td.groupby('temp_chg_max_5d',as_index=False).agg({'count':'count', 'temp_chg_max_5d_idx':'mean'})\n",
    "\n",
    "\n",
    "sns.relplot(x='count', y='temp_chg_max_5d',hue='temp_chg_max_5d_idx',data=merge_td_chg)"
   ]
  }
 ],
 "metadata": {
  "kernelspec": {
   "display_name": "Python 3 (ipykernel)",
   "language": "python",
   "name": "python3"
  },
  "language_info": {
   "codemirror_mode": {
    "name": "ipython",
    "version": 3
   },
   "file_extension": ".py",
   "mimetype": "text/x-python",
   "name": "python",
   "nbconvert_exporter": "python",
   "pygments_lexer": "ipython3",
   "version": "3.9.12"
  }
 },
 "nbformat": 4,
 "nbformat_minor": 5
}
