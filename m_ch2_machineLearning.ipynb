{
 "cells": [
  {
   "cell_type": "markdown",
   "id": "c2eee88a-afd3-493b-8850-246bbb34bcd4",
   "metadata": {
    "tags": []
   },
   "source": [
    "# 머신러닝 분석 개요\n",
    "### 머신러닝 수학"
   ]
  },
  {
   "cell_type": "markdown",
   "id": "d1f5c059-1167-468a-92d9-1530d3e9da6d",
   "metadata": {},
   "source": [
    "- 수치미분"
   ]
  },
  {
   "cell_type": "code",
   "execution_count": 4,
   "id": "790a6688-1852-4569-a9fe-3b5a2f9a828b",
   "metadata": {},
   "outputs": [],
   "source": [
    "def my_func1(x):\n",
    "    return x**2+x+1"
   ]
  },
  {
   "cell_type": "code",
   "execution_count": 2,
   "id": "123e0050-d299-469d-8306-b211430430c4",
   "metadata": {},
   "outputs": [],
   "source": [
    "def numerical_derivative(f,x):\n",
    "    delta_x=1e-4 #0.0001으로 변화량의 크기(델타) (극한 대신 아주 작은 수로 대체)\n",
    "    return (f(x+delta_x)-f(x-delta_x))/(2*delta_x)"
   ]
  },
  {
   "cell_type": "code",
   "execution_count": 5,
   "id": "152bacf6-5d3d-44b6-a82c-d2124d8d5c20",
   "metadata": {},
   "outputs": [
    {
     "name": "stdout",
     "output_type": "stream",
     "text": [
      "7.000000000010331\n"
     ]
    }
   ],
   "source": [
    "result=numerical_derivative(my_func1,3)\n",
    "print(result)"
   ]
  },
  {
   "cell_type": "code",
   "execution_count": 7,
   "id": "8f581f89-be3d-4b5e-bfd2-f32a338567fe",
   "metadata": {},
   "outputs": [],
   "source": [
    "import numpy as np\n",
    "\n",
    "def my_func2(x):\n",
    "    return 3*x*(np.exp(x))"
   ]
  },
  {
   "cell_type": "code",
   "execution_count": 8,
   "id": "6b1e2130-1320-4224-8ad1-9ab1c08e4814",
   "metadata": {},
   "outputs": [],
   "source": [
    "def numerical_derivative(f,x):\n",
    "    delta_x=1e-4 #0.0001\n",
    "    return (f(x+delta_x)-f(x-delta_x))/(2*delta_x)"
   ]
  },
  {
   "cell_type": "code",
   "execution_count": 9,
   "id": "28ca22ca-7ddf-4258-bbb3-7c0845bebb2d",
   "metadata": {},
   "outputs": [
    {
     "name": "stdout",
     "output_type": "stream",
     "text": [
      "66.50150507518049\n"
     ]
    }
   ],
   "source": [
    "result=numerical_derivative(my_func2,2)\n",
    "print(result)"
   ]
  },
  {
   "cell_type": "markdown",
   "id": "ed4a1b7e-a49f-4b4c-b494-db5d5fad2525",
   "metadata": {},
   "source": [
    "- 수치미분 - 다변수"
   ]
  },
  {
   "cell_type": "code",
   "execution_count": 25,
   "id": "61654d1d-c418-4c62-b4a5-2a9ad26ea446",
   "metadata": {},
   "outputs": [],
   "source": [
    "# while 문으로 모든 x값을 수식에 대입\n",
    "# 모든 변수를 포함하고 있는 numpy 객체(배열, 행렬)\n",
    "\n",
    "def numerical_derivative(f,x):\n",
    "    delta_x= 1e-4\n",
    "    grad=np.zeros_like(x) \n",
    "    # 수치미분 결과를 grad에 저장\n",
    "    # x와 똑같은 shape을 가진 배열(혹은 행렬) 생성 (요소값은 0임)\n",
    "    \n",
    "    print(\"debug 1. initial input variable =\", x)\n",
    "    print(\"debug 2. initial grad =\", grad)\n",
    "    print(\"========================================\")\n",
    "    \n",
    "    it=np.nditer(x,flags=['multi_index'],op_flags=['readwrite'])\n",
    "    #모든 입력변수에 대해 편미분하기 위해 iterator 획득\n",
    "    # iterator 하나 생성. 플래그는 멀티 인덱스 설정\n",
    "    # 멀티 인덱스를 설정하면 다차원 배열이라도 \n",
    "    # 순차적으로 interator 생성 후 값을 꺼낼 수 있음\n",
    "    \n",
    "    while not it.finished:\n",
    "        idx=it.multi_index\n",
    "        \n",
    "        print(\"debug 3. idx = \", idx, \", x[idx] =\", x[idx])\n",
    "        \n",
    "        tmp_val=x[idx] \n",
    "        # 임시 변수로 x[idx] 의 원값을 저장\n",
    "        # numpy 타입은 mutable 이므로 원래 값 보관\n",
    "        \n",
    "        x[idx]=float(tmp_val)+delta_x # 전향 차분\n",
    "        fx1=f(x) #f(x+delta_x) # 첫번째 인자로 들어온 함수를 대입\n",
    "        \n",
    "        x[idx]=tmp_val-delta_x # 후향 차분\n",
    "        fx2=f(x) #f(x-delta_x) # 첫번째 인자로 들어온 함수를 다시 대입\n",
    "        \n",
    "        grad[idx]=(fx1-fx2)/(2*delta_x) # 미분 결과를 grad에...\n",
    "        \n",
    "        print(\"debug 4. grad[idx] =\", grad[idx])\n",
    "        print(\"debug 5. grad =\", grad)\n",
    "        \n",
    "        x[idx]=tmp_val\n",
    "        it.iternext()\n",
    "        \n",
    "    return grad"
   ]
  },
  {
   "cell_type": "code",
   "execution_count": 19,
   "id": "bf3ce561-1978-4301-a1a1-ffe04b9d206e",
   "metadata": {},
   "outputs": [
    {
     "name": "stdout",
     "output_type": "stream",
     "text": [
      "debug 1. initial input variable = [3.]\n",
      "debug 2. initial grad = [0.]\n",
      "========================================\n",
      "debug 3. idx =  (0,) , x[idx] = 3.0\n",
      "debug 4. grad[idx] = 6.000000000012662\n",
      "debug 5. grad = [6.]\n"
     ]
    },
    {
     "data": {
      "text/plain": [
       "array([6.])"
      ]
     },
     "execution_count": 19,
     "metadata": {},
     "output_type": "execute_result"
    }
   ],
   "source": [
    "# 입력 변수 1 개인 함수 f(x)=x**2\n",
    "def func1(input_obj):\n",
    "    x=input_obj[0]\n",
    "    return x**2\n",
    "\n",
    "# x=3.0 에서의 편미분 값\n",
    "numerical_derivative(func1, np.array([3.0]))"
   ]
  },
  {
   "cell_type": "code",
   "execution_count": 24,
   "id": "d458ba73-ff5f-4a1e-ac5d-e63cb1f636b8",
   "metadata": {},
   "outputs": [
    {
     "name": "stdout",
     "output_type": "stream",
     "text": [
      "debug 1. initial input variable = [1. 2.]\n",
      "debug 2. initial grad = [0. 0.]\n",
      "========================================\n",
      "debug 3. idx =  (0,) , x[idx] = 1.0\n",
      "debug 4. grad[idx] = 7.999999999990237\n",
      "debug 5. grad = [8. 0.]\n",
      "debug 3. idx =  (1,) , x[idx] = 2.0\n",
      "debug 4. grad[idx] = 15.000000010019221\n",
      "debug 5. grad = [ 8.         15.00000001]\n"
     ]
    },
    {
     "data": {
      "text/plain": [
       "array([ 8.        , 15.00000001])"
      ]
     },
     "execution_count": 24,
     "metadata": {},
     "output_type": "execute_result"
    }
   ],
   "source": [
    "# 입력 변수 2 개인 함수 f(x,y)=2x+3xy+y^3\n",
    "def func1(input_obj):\n",
    "    x=input_obj[0]\n",
    "    y=input_obj[1]\n",
    "    \n",
    "    return (2*x + 3*x*y + np.power(y,3))\n",
    "\n",
    "# (x,y)=(1.0,2.0) 에서의 편미분 값\n",
    "input = np.array([1.0,2.0])\n",
    "\n",
    "numerical_derivative(func1, input)"
   ]
  },
  {
   "cell_type": "code",
   "execution_count": 28,
   "id": "b77992af-2cb2-4a86-866a-745738776c63",
   "metadata": {},
   "outputs": [
    {
     "name": "stdout",
     "output_type": "stream",
     "text": [
      "debug 1. initial input variable = [[1. 2.]\n",
      " [3. 4.]]\n",
      "debug 2. initial grad = [[0. 0.]\n",
      " [0. 0.]]\n",
      "========================================\n",
      "debug 3. idx =  (0, 0) , x[idx] = 1.0\n",
      "debug 4. grad[idx] = 5.000000000023874\n",
      "debug 5. grad = [[5. 0.]\n",
      " [0. 0.]]\n",
      "debug 3. idx =  (0, 1) , x[idx] = 2.0\n",
      "debug 4. grad[idx] = 13.00000000000523\n",
      "debug 5. grad = [[ 5. 13.]\n",
      " [ 0.  0.]]\n",
      "debug 3. idx =  (1, 0) , x[idx] = 3.0\n",
      "debug 4. grad[idx] = 32.00000000006753\n",
      "debug 5. grad = [[ 5. 13.]\n",
      " [32.  0.]]\n",
      "debug 3. idx =  (1, 1) , x[idx] = 4.0\n",
      "debug 4. grad[idx] = 15.000000000000568\n",
      "debug 5. grad = [[ 5. 13.]\n",
      " [32. 15.]]\n"
     ]
    },
    {
     "data": {
      "text/plain": [
       "array([[ 5., 13.],\n",
       "       [32., 15.]])"
      ]
     },
     "execution_count": 28,
     "metadata": {},
     "output_type": "execute_result"
    }
   ],
   "source": [
    "# 입력 변수 4 개인 함수\n",
    "# f(w,x,y,z)=wx+wyz+3w+zy^2\n",
    "# input_obj는 행렬\n",
    "\n",
    "def func1(input_obj):\n",
    "    \n",
    "    w=input_obj[0,0]\n",
    "    x=input_obj[0,1]\n",
    "    y=input_obj[1,0]\n",
    "    z=input_obj[1,1]\n",
    "    \n",
    "    return (w*x + x*y*z + 3*w + z*np.power(y,2))\n",
    "\n",
    "# 입력을 2X2 행렬로 구성함\n",
    "input = np.array([[1.0, 2.0],[3.0, 4.0]])\n",
    "\n",
    "numerical_derivative(func1, input)"
   ]
  }
 ],
 "metadata": {
  "kernelspec": {
   "display_name": "Python 3 (ipykernel)",
   "language": "python",
   "name": "python3"
  },
  "language_info": {
   "codemirror_mode": {
    "name": "ipython",
    "version": 3
   },
   "file_extension": ".py",
   "mimetype": "text/x-python",
   "name": "python",
   "nbconvert_exporter": "python",
   "pygments_lexer": "ipython3",
   "version": "3.9.12"
  }
 },
 "nbformat": 4,
 "nbformat_minor": 5
}
