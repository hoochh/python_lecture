{
 "cells": [
  {
   "cell_type": "code",
   "execution_count": 25,
   "id": "d2514a98-2ae3-4f33-ad60-dc10540a7589",
   "metadata": {},
   "outputs": [],
   "source": [
    "from selenium import webdriver\n",
    "from selenium.webdriver.common.keys import Keys\n",
    "from selenium.webdriver.common.by import By\n",
    "import time"
   ]
  },
  {
   "cell_type": "code",
   "execution_count": 29,
   "id": "e5798d89-47e9-4fd7-8a00-72cb79c319d4",
   "metadata": {},
   "outputs": [],
   "source": [
    "url=\"http://www.yes24.com/Product/Goods/30666296\"\n",
    "driver=webdriver.Chrome('chromedriver')\n",
    "driver.get(url)\n",
    "time.sleep(2)"
   ]
  },
  {
   "cell_type": "code",
   "execution_count": null,
   "id": "5cd44d11-247f-4f7a-a6cb-e661f0182486",
   "metadata": {
    "tags": []
   },
   "outputs": [],
   "source": [
    "temp_list=[]\n",
    "\n",
    "stopFlag=False\n",
    "\n",
    "while stopFlag:\n",
    "    for n in range(4,13):\n",
    "        linkurl='#infoset_reviewContentList > div.review_sort.sortBot > div.review_sortLft > div > a:nth-child('+str(n)+')'\n",
    "        linkNum=driver.find_element(By.CSS_SELECTOR,'#infoset_reviewContentList > div.review_sort.sortBot > div.review_sortLft > div > a:nth-child('+str(n)+')')\n",
    "        linkNum.click()\n",
    "        time.sleep(1)\n",
    "    \n",
    "        readlinks=driver.find_elements(By.CSS_SELECTOR,\n",
    "              '#infoset_reviewContentList div.reviewInfoBot.crop > a')\n",
    "        for readlink in readlinks:\n",
    "            readlink.click()\n",
    "            time.sleep(1)\n",
    "\n",
    "        review_list=driver.find_elements(By.CSS_SELECTOR,\n",
    "                    '#infoset_reviewContentList div.reviewInfoBot.origin > div.review_cont')\n",
    "\n",
    "        for review in review_list:\n",
    "            temp_list.append(review.text)\n",
    "\n",
    "        if len(review_list)<5:\n",
    "            stopFlag=True\n",
    "            break\n",
    "            \n",
    "    if stopFlag==True:\n",
    "            break # while 문을 빠져나감"
   ]
  },
  {
   "cell_type": "code",
   "execution_count": null,
   "id": "c6c39de0-b89e-4040-ac98-b6c04cfb1306",
   "metadata": {},
   "outputs": [],
   "source": []
  }
 ],
 "metadata": {
  "kernelspec": {
   "display_name": "Python 3 (ipykernel)",
   "language": "python",
   "name": "python3"
  },
  "language_info": {
   "codemirror_mode": {
    "name": "ipython",
    "version": 3
   },
   "file_extension": ".py",
   "mimetype": "text/x-python",
   "name": "python",
   "nbconvert_exporter": "python",
   "pygments_lexer": "ipython3",
   "version": "3.9.12"
  }
 },
 "nbformat": 4,
 "nbformat_minor": 5
}
