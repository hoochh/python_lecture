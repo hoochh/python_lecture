{
 "cells": [
  {
   "cell_type": "code",
   "execution_count": 5,
   "id": "d2514a98-2ae3-4f33-ad60-dc10540a7589",
   "metadata": {},
   "outputs": [],
   "source": [
    "from selenium import webdriver\n",
    "from selenium.webdriver.common.keys import Keys\n",
    "from selenium.webdriver.common.by import By\n",
    "import time"
   ]
  },
  {
   "cell_type": "code",
   "execution_count": 9,
   "id": "e5798d89-47e9-4fd7-8a00-72cb79c319d4",
   "metadata": {},
   "outputs": [],
   "source": [
    "url=\"http://www.yes24.com/Product/Goods/30666296\"\n",
    "driver=webdriver.Chrome('chromedriver')\n",
    "driver.get(url)\n",
    "time.sleep(2)"
   ]
  },
  {
   "cell_type": "code",
   "execution_count": 11,
   "id": "5cd44d11-247f-4f7a-a6cb-e661f0182486",
   "metadata": {
    "tags": []
   },
   "outputs": [
    {
     "ename": "ElementNotInteractableException",
     "evalue": "Message: element not interactable\n  (Session info: chrome=102.0.5005.63)\nStacktrace:\nBacktrace:\n\tOrdinal0 [0x0067D953+2414931]\n\tOrdinal0 [0x0060F5E1+1963489]\n\tOrdinal0 [0x004FC580+836992]\n\tOrdinal0 [0x0052A4F3+1025267]\n\tOrdinal0 [0x00520293+983699]\n\tOrdinal0 [0x0054449C+1131676]\n\tOrdinal0 [0x0051FC74+982132]\n\tOrdinal0 [0x005446B4+1132212]\n\tOrdinal0 [0x00554812+1198098]\n\tOrdinal0 [0x005442B6+1131190]\n\tOrdinal0 [0x0051E860+976992]\n\tOrdinal0 [0x0051F756+980822]\n\tGetHandleVerifier [0x008ECC62+2510274]\n\tGetHandleVerifier [0x008DF760+2455744]\n\tGetHandleVerifier [0x0070EABA+551962]\n\tGetHandleVerifier [0x0070D916+547446]\n\tOrdinal0 [0x00615F3B+1990459]\n\tOrdinal0 [0x0061A898+2009240]\n\tOrdinal0 [0x0061A985+2009477]\n\tOrdinal0 [0x00623AD1+2046673]\n\tBaseThreadInitThunk [0x7714FA29+25]\n\tRtlGetAppContainerNamedObjectPath [0x77CE7A7E+286]\n\tRtlGetAppContainerNamedObjectPath [0x77CE7A4E+238]\n",
     "output_type": "error",
     "traceback": [
      "\u001b[1;31m---------------------------------------------------------------------------\u001b[0m",
      "\u001b[1;31mElementNotInteractableException\u001b[0m           Traceback (most recent call last)",
      "Input \u001b[1;32mIn [11]\u001b[0m, in \u001b[0;36m<cell line: 4>\u001b[1;34m()\u001b[0m\n\u001b[0;32m      2\u001b[0m readlinks\u001b[38;5;241m=\u001b[39mdriver\u001b[38;5;241m.\u001b[39mfind_elements(By\u001b[38;5;241m.\u001b[39mCSS_SELECTOR,\n\u001b[0;32m      3\u001b[0m           \u001b[38;5;124m'\u001b[39m\u001b[38;5;124m#infoset_reviewContentList div.reviewInfoBot.crop > a\u001b[39m\u001b[38;5;124m'\u001b[39m)\n\u001b[0;32m      4\u001b[0m \u001b[38;5;28;01mfor\u001b[39;00m readlink \u001b[38;5;129;01min\u001b[39;00m readlinks:\n\u001b[1;32m----> 5\u001b[0m     \u001b[43mreadlink\u001b[49m\u001b[38;5;241;43m.\u001b[39;49m\u001b[43mclick\u001b[49m\u001b[43m(\u001b[49m\u001b[43m)\u001b[49m\n\u001b[0;32m      6\u001b[0m     time\u001b[38;5;241m.\u001b[39msleep(\u001b[38;5;241m1\u001b[39m)\n\u001b[0;32m      8\u001b[0m review_list\u001b[38;5;241m=\u001b[39mdriver\u001b[38;5;241m.\u001b[39mfind_elements(By\u001b[38;5;241m.\u001b[39mCSS_SELECTOR,\n\u001b[0;32m      9\u001b[0m             \u001b[38;5;124m'\u001b[39m\u001b[38;5;124m#infoset_reviewContentList div.reviewInfoBot.origin > div.review_cont\u001b[39m\u001b[38;5;124m'\u001b[39m)\n",
      "File \u001b[1;32m~\\anaconda3\\lib\\site-packages\\selenium\\webdriver\\remote\\webelement.py:89\u001b[0m, in \u001b[0;36mWebElement.click\u001b[1;34m(self)\u001b[0m\n\u001b[0;32m     87\u001b[0m \u001b[38;5;28;01mdef\u001b[39;00m \u001b[38;5;21mclick\u001b[39m(\u001b[38;5;28mself\u001b[39m) \u001b[38;5;241m-\u001b[39m\u001b[38;5;241m>\u001b[39m \u001b[38;5;28;01mNone\u001b[39;00m:\n\u001b[0;32m     88\u001b[0m     \u001b[38;5;124;03m\"\"\"Clicks the element.\"\"\"\u001b[39;00m\n\u001b[1;32m---> 89\u001b[0m     \u001b[38;5;28;43mself\u001b[39;49m\u001b[38;5;241;43m.\u001b[39;49m\u001b[43m_execute\u001b[49m\u001b[43m(\u001b[49m\u001b[43mCommand\u001b[49m\u001b[38;5;241;43m.\u001b[39;49m\u001b[43mCLICK_ELEMENT\u001b[49m\u001b[43m)\u001b[49m\n",
      "File \u001b[1;32m~\\anaconda3\\lib\\site-packages\\selenium\\webdriver\\remote\\webelement.py:773\u001b[0m, in \u001b[0;36mWebElement._execute\u001b[1;34m(self, command, params)\u001b[0m\n\u001b[0;32m    771\u001b[0m     params \u001b[38;5;241m=\u001b[39m {}\n\u001b[0;32m    772\u001b[0m params[\u001b[38;5;124m'\u001b[39m\u001b[38;5;124mid\u001b[39m\u001b[38;5;124m'\u001b[39m] \u001b[38;5;241m=\u001b[39m \u001b[38;5;28mself\u001b[39m\u001b[38;5;241m.\u001b[39m_id\n\u001b[1;32m--> 773\u001b[0m \u001b[38;5;28;01mreturn\u001b[39;00m \u001b[38;5;28;43mself\u001b[39;49m\u001b[38;5;241;43m.\u001b[39;49m\u001b[43m_parent\u001b[49m\u001b[38;5;241;43m.\u001b[39;49m\u001b[43mexecute\u001b[49m\u001b[43m(\u001b[49m\u001b[43mcommand\u001b[49m\u001b[43m,\u001b[49m\u001b[43m \u001b[49m\u001b[43mparams\u001b[49m\u001b[43m)\u001b[49m\n",
      "File \u001b[1;32m~\\anaconda3\\lib\\site-packages\\selenium\\webdriver\\remote\\webdriver.py:430\u001b[0m, in \u001b[0;36mWebDriver.execute\u001b[1;34m(self, driver_command, params)\u001b[0m\n\u001b[0;32m    428\u001b[0m response \u001b[38;5;241m=\u001b[39m \u001b[38;5;28mself\u001b[39m\u001b[38;5;241m.\u001b[39mcommand_executor\u001b[38;5;241m.\u001b[39mexecute(driver_command, params)\n\u001b[0;32m    429\u001b[0m \u001b[38;5;28;01mif\u001b[39;00m response:\n\u001b[1;32m--> 430\u001b[0m     \u001b[38;5;28;43mself\u001b[39;49m\u001b[38;5;241;43m.\u001b[39;49m\u001b[43merror_handler\u001b[49m\u001b[38;5;241;43m.\u001b[39;49m\u001b[43mcheck_response\u001b[49m\u001b[43m(\u001b[49m\u001b[43mresponse\u001b[49m\u001b[43m)\u001b[49m\n\u001b[0;32m    431\u001b[0m     response[\u001b[38;5;124m'\u001b[39m\u001b[38;5;124mvalue\u001b[39m\u001b[38;5;124m'\u001b[39m] \u001b[38;5;241m=\u001b[39m \u001b[38;5;28mself\u001b[39m\u001b[38;5;241m.\u001b[39m_unwrap_value(\n\u001b[0;32m    432\u001b[0m         response\u001b[38;5;241m.\u001b[39mget(\u001b[38;5;124m'\u001b[39m\u001b[38;5;124mvalue\u001b[39m\u001b[38;5;124m'\u001b[39m, \u001b[38;5;28;01mNone\u001b[39;00m))\n\u001b[0;32m    433\u001b[0m     \u001b[38;5;28;01mreturn\u001b[39;00m response\n",
      "File \u001b[1;32m~\\anaconda3\\lib\\site-packages\\selenium\\webdriver\\remote\\errorhandler.py:247\u001b[0m, in \u001b[0;36mErrorHandler.check_response\u001b[1;34m(self, response)\u001b[0m\n\u001b[0;32m    245\u001b[0m         alert_text \u001b[38;5;241m=\u001b[39m value[\u001b[38;5;124m'\u001b[39m\u001b[38;5;124malert\u001b[39m\u001b[38;5;124m'\u001b[39m]\u001b[38;5;241m.\u001b[39mget(\u001b[38;5;124m'\u001b[39m\u001b[38;5;124mtext\u001b[39m\u001b[38;5;124m'\u001b[39m)\n\u001b[0;32m    246\u001b[0m     \u001b[38;5;28;01mraise\u001b[39;00m exception_class(message, screen, stacktrace, alert_text)  \u001b[38;5;66;03m# type: ignore[call-arg]  # mypy is not smart enough here\u001b[39;00m\n\u001b[1;32m--> 247\u001b[0m \u001b[38;5;28;01mraise\u001b[39;00m exception_class(message, screen, stacktrace)\n",
      "\u001b[1;31mElementNotInteractableException\u001b[0m: Message: element not interactable\n  (Session info: chrome=102.0.5005.63)\nStacktrace:\nBacktrace:\n\tOrdinal0 [0x0067D953+2414931]\n\tOrdinal0 [0x0060F5E1+1963489]\n\tOrdinal0 [0x004FC580+836992]\n\tOrdinal0 [0x0052A4F3+1025267]\n\tOrdinal0 [0x00520293+983699]\n\tOrdinal0 [0x0054449C+1131676]\n\tOrdinal0 [0x0051FC74+982132]\n\tOrdinal0 [0x005446B4+1132212]\n\tOrdinal0 [0x00554812+1198098]\n\tOrdinal0 [0x005442B6+1131190]\n\tOrdinal0 [0x0051E860+976992]\n\tOrdinal0 [0x0051F756+980822]\n\tGetHandleVerifier [0x008ECC62+2510274]\n\tGetHandleVerifier [0x008DF760+2455744]\n\tGetHandleVerifier [0x0070EABA+551962]\n\tGetHandleVerifier [0x0070D916+547446]\n\tOrdinal0 [0x00615F3B+1990459]\n\tOrdinal0 [0x0061A898+2009240]\n\tOrdinal0 [0x0061A985+2009477]\n\tOrdinal0 [0x00623AD1+2046673]\n\tBaseThreadInitThunk [0x7714FA29+25]\n\tRtlGetAppContainerNamedObjectPath [0x77CE7A7E+286]\n\tRtlGetAppContainerNamedObjectPath [0x77CE7A4E+238]\n"
     ]
    }
   ],
   "source": [
    "temp_list=[]\n",
    "readlinks=driver.find_elements(By.CSS_SELECTOR,\n",
    "          '#infoset_reviewContentList div.reviewInfoBot.crop > a')\n",
    "for readlink in readlinks:\n",
    "    readlink.click()\n",
    "    time.sleep(1)\n",
    "    \n",
    "review_list=driver.find_elements(By.CSS_SELECTOR,\n",
    "            '#infoset_reviewContentList div.reviewInfoBot.origin > div.review_cont')\n",
    "\n",
    "for review in review_list:\n",
    "    temp_list.append(review.text)\n",
    "#temp_list\n",
    "\n",
    "while True:\n",
    "    for n in range(4,13):\n",
    "        linkurl=\"#infoset_reviewContentList > div.review_sort.sortTop > div.review_sortLft > div > a:nth-child(%d)\"%n\n",
    "        linkNum=driver.find.element(By.CSS_CELECTOR,linkurl)\n",
    "        linkNum.click()"
   ]
  },
  {
   "cell_type": "code",
   "execution_count": null,
   "id": "c6c39de0-b89e-4040-ac98-b6c04cfb1306",
   "metadata": {},
   "outputs": [],
   "source": []
  }
 ],
 "metadata": {
  "kernelspec": {
   "display_name": "Python 3 (ipykernel)",
   "language": "python",
   "name": "python3"
  },
  "language_info": {
   "codemirror_mode": {
    "name": "ipython",
    "version": 3
   },
   "file_extension": ".py",
   "mimetype": "text/x-python",
   "name": "python",
   "nbconvert_exporter": "python",
   "pygments_lexer": "ipython3",
   "version": "3.9.12"
  }
 },
 "nbformat": 4,
 "nbformat_minor": 5
}
