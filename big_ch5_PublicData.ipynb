{
 "cells": [
  {
   "cell_type": "markdown",
   "id": "1973d4af-433f-4152-adab-5a6b93fb02bf",
   "metadata": {},
   "source": [
    "# 공공데이터 활용\n",
    "- 서울특별시 버스노선정보조회 서비스\n",
    "- 서울특별시 버스위치정보조회 서비스"
   ]
  },
  {
   "cell_type": "code",
   "execution_count": 1,
   "id": "71df6fdb-c698-4a05-9299-fb45ba7ae5de",
   "metadata": {},
   "outputs": [],
   "source": [
    "from bs4 import BeautifulSoup as bs\n",
    "import urllib.request as req\n",
    "\n",
    "key=\"bz6p9J0zjOTIbSrGsm6BH3B4i9IEW29rnGC6LNchn750ZVUpKW3HKr211MoqBZhOy02OyMRxsN60JqwPc0KpXQ%3D%3D\""
   ]
  },
  {
   "cell_type": "code",
   "execution_count": 9,
   "id": "cae800dc-b0a3-4d99-9734-cd906e01f5b3",
   "metadata": {},
   "outputs": [
    {
     "data": {
      "text/plain": [
       "('data/businfo.xml', <http.client.HTTPMessage at 0x1ea772b55b0>)"
      ]
     },
     "execution_count": 9,
     "metadata": {},
     "output_type": "execute_result"
    }
   ],
   "source": [
    "busNum=360\n",
    "# getBusRouteList의 서비스 URL을 가져온다\n",
    "url='http://ws.bus.go.kr/api/rest/busRouteInfo/getBusRouteList?serviceKey=%s&strSrch=%s'%(key, busNum)\n",
    "savename='data/businfo.xml'\n",
    "req.urlretrieve(url,savename)"
   ]
  },
  {
   "cell_type": "code",
   "execution_count": 21,
   "id": "d6fa3782-5d28-4c72-9ef4-24d009299aa5",
   "metadata": {},
   "outputs": [
    {
     "name": "stdout",
     "output_type": "stream",
     "text": [
      "100100057 360\n",
      "236000190 3600포천\n",
      "207000103 360의정부\n",
      "100100057\n"
     ]
    }
   ],
   "source": [
    "xml=open(savename,'r',encoding='utf-8').read()\n",
    "soup=bs(xml,'xml')\n",
    "item_list=soup.find_all('itemList')\n",
    "#print(item_list)\n",
    "\n",
    "busRoute_id=''\n",
    "\n",
    "for item in item_list:\n",
    "    busRouteId=item.find('busRouteId').string\n",
    "    busRouteNm=item.find('busRouteNm').string #.string 소문자로 작성!\n",
    "    print(busRouteId,busRouteNm)\n",
    "    if busRouteNm==str(busNum):\n",
    "        busRoute_id=busRouteId\n",
    "print(busRoute_id)"
   ]
  },
  {
   "cell_type": "code",
   "execution_count": 25,
   "id": "0473bbdf-44a2-4090-9dd8-1b2c01d6a15e",
   "metadata": {},
   "outputs": [
    {
     "data": {
      "text/plain": [
       "('data/buspos.xml', <http.client.HTTPMessage at 0x1ea73f2a700>)"
      ]
     },
     "execution_count": 25,
     "metadata": {},
     "output_type": "execute_result"
    }
   ],
   "source": [
    "# 버스 위치 정보 조회\n",
    "url='http://ws.bus.go.kr/api/rest/buspos/getBusPosByRtid?serviceKey=%s&busRouteId=%s'%(key, busRoute_id)\n",
    "savename='data/buspos.xml'\n",
    "req.urlretrieve(url,savename)"
   ]
  },
  {
   "cell_type": "code",
   "execution_count": 28,
   "id": "ff381a11-22fa-48e4-aa8e-7e3f4ec21b39",
   "metadata": {
    "tags": []
   },
   "outputs": [
    {
     "name": "stdout",
     "output_type": "stream",
     "text": [
      "[('127.12759', '37.46993'), ('127.124748', '37.482125'), ('127.117161', '37.494382'), ('127.108944', '37.503408'), ('127.097946', '37.512899'), ('127.079692', '37.512009'), ('127.068581', '37.51023'), ('127.061982', '37.508527'), ('127.050714', '37.50502'), ('127.035079', '37.500442'), ('127.029839', '37.498829'), ('127.026863', '37.499438'), ('127.023728', '37.506367'), ('126.995826', '37.503415'), ('126.976653', '37.503189'), ('126.950962', '37.512734'), ('126.94429', '37.513799'), ('126.919513', '37.514083'), ('126.914839', '37.519966'), ('126.921603', '37.52419'), ('126.912354', '37.518368'), ('126.920035', '37.513641'), ('126.931948', '37.513236'), ('126.952627', '37.512646'), ('126.965045', '37.507498'), ('126.975548', '37.503928'), ('126.984109', '37.500197'), ('127.000609', '37.504686'), ('127.008952', '37.507395'), ('127.019417', '37.510466'), ('127.029148', '37.498136'), ('127.036927', '37.500807'), ('127.03379', '37.499572'), ('127.03379', '37.499572'), ('127.038444', '37.501261'), ('127.038444', '37.501261'), ('127.044401', '37.503089'), ('127.047147', '37.503949'), ('127.056604', '37.506842'), ('127.073652', '37.510974'), ('127.084495', '37.511407'), ('127.098196', '37.512412'), ('127.107373', '37.504681'), ('127.126929', '37.475233')]\n"
     ]
    }
   ],
   "source": [
    "xml=open(savename,'r',encoding='utf-8').read()\n",
    "soup=bs(xml,'xml')\n",
    "busPos=[]\n",
    "item_list=soup.find_all('itemList')\n",
    "\n",
    "for item in item_list:\n",
    "    gpsX=item.find('gpsX').string\n",
    "    gpsY=item.find('gpsY').string\n",
    "    busPos.append((gpsX, gpsY))\n",
    "    \n",
    "print(busPos)"
   ]
  },
  {
   "cell_type": "code",
   "execution_count": 29,
   "id": "cbc97f0c-84e0-4044-b479-1ac34814756f",
   "metadata": {},
   "outputs": [
    {
     "name": "stdout",
     "output_type": "stream",
     "text": [
      "b'<?xml version=\"1.0\" encoding=\"UTF-8\" standalone=\"yes\"?><ServiceResult><comMsgHeader/><msgHeader><headerCd>7</headerCd><headerMsg>Key\\xec\\x9d\\xb8\\xec\\xa6\\x9d\\xec\\x8b\\xa4\\xed\\x8c\\xa8: SERVICE KEY IS NOT REGISTERED ERROR.[\\xec\\x9d\\xb8\\xec\\xa6\\x9d\\xeb\\xaa\\xa8\\xeb\\x93\\x88 \\xec\\x97\\x90\\xeb\\x9f\\xac\\xec\\xbd\\x94\\xeb\\x93\\x9c(30)]</headerMsg><itemCount>0</itemCount></msgHeader><msgBody/></ServiceResult>'\n"
     ]
    }
   ],
   "source": [
    "import requests\n",
    "\n",
    "url='http://ws.bus.go.kr/api/rest/buspos/getBusPosByRtid'\n",
    "params ={'serviceKey':key,'busRouteId':busRoute_id}\n",
    "\n",
    "response=requests.get(url,params=params)\n",
    "print(response.content)"
   ]
  }
 ],
 "metadata": {
  "kernelspec": {
   "display_name": "Python 3 (ipykernel)",
   "language": "python",
   "name": "python3"
  },
  "language_info": {
   "codemirror_mode": {
    "name": "ipython",
    "version": 3
   },
   "file_extension": ".py",
   "mimetype": "text/x-python",
   "name": "python",
   "nbconvert_exporter": "python",
   "pygments_lexer": "ipython3",
   "version": "3.9.12"
  }
 },
 "nbformat": 4,
 "nbformat_minor": 5
}
