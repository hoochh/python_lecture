{
 "cells": [
  {
   "cell_type": "code",
   "execution_count": 1,
   "id": "09c6f157-5257-49c6-9d97-cdc29b59ef11",
   "metadata": {},
   "outputs": [
    {
     "name": "stdout",
     "output_type": "stream",
     "text": [
      "0.12.1.post1\n"
     ]
    }
   ],
   "source": [
    "import numpy as np\n",
    "import folium\n",
    "from folium import plugins\n",
    "print(folium.__version__)"
   ]
  },
  {
   "cell_type": "code",
   "execution_count": 2,
   "id": "e44e0ab6-ea14-45ec-80da-c6fe08e753bd",
   "metadata": {},
   "outputs": [
    {
     "data": {
      "text/html": [
       "<div style=\"width:100%;\"><div style=\"position:relative;width:100%;height:0;padding-bottom:60%;\"><span style=\"color:#565656\">Make this Notebook Trusted to load map: File -> Trust Notebook</span><iframe srcdoc=\"&lt;!DOCTYPE html&gt;\n",
       "&lt;head&gt;    \n",
       "    &lt;meta http-equiv=&quot;content-type&quot; content=&quot;text/html; charset=UTF-8&quot; /&gt;\n",
       "    \n",
       "        &lt;script&gt;\n",
       "            L_NO_TOUCH = false;\n",
       "            L_DISABLE_3D = false;\n",
       "        &lt;/script&gt;\n",
       "    \n",
       "    &lt;style&gt;html, body {width: 100%;height: 100%;margin: 0;padding: 0;}&lt;/style&gt;\n",
       "    &lt;style&gt;#map {position:absolute;top:0;bottom:0;right:0;left:0;}&lt;/style&gt;\n",
       "    &lt;script src=&quot;https://cdn.jsdelivr.net/npm/leaflet@1.6.0/dist/leaflet.js&quot;&gt;&lt;/script&gt;\n",
       "    &lt;script src=&quot;https://code.jquery.com/jquery-1.12.4.min.js&quot;&gt;&lt;/script&gt;\n",
       "    &lt;script src=&quot;https://maxcdn.bootstrapcdn.com/bootstrap/3.2.0/js/bootstrap.min.js&quot;&gt;&lt;/script&gt;\n",
       "    &lt;script src=&quot;https://cdnjs.cloudflare.com/ajax/libs/Leaflet.awesome-markers/2.0.2/leaflet.awesome-markers.js&quot;&gt;&lt;/script&gt;\n",
       "    &lt;link rel=&quot;stylesheet&quot; href=&quot;https://cdn.jsdelivr.net/npm/leaflet@1.6.0/dist/leaflet.css&quot;/&gt;\n",
       "    &lt;link rel=&quot;stylesheet&quot; href=&quot;https://maxcdn.bootstrapcdn.com/bootstrap/3.2.0/css/bootstrap.min.css&quot;/&gt;\n",
       "    &lt;link rel=&quot;stylesheet&quot; href=&quot;https://maxcdn.bootstrapcdn.com/bootstrap/3.2.0/css/bootstrap-theme.min.css&quot;/&gt;\n",
       "    &lt;link rel=&quot;stylesheet&quot; href=&quot;https://maxcdn.bootstrapcdn.com/font-awesome/4.6.3/css/font-awesome.min.css&quot;/&gt;\n",
       "    &lt;link rel=&quot;stylesheet&quot; href=&quot;https://cdnjs.cloudflare.com/ajax/libs/Leaflet.awesome-markers/2.0.2/leaflet.awesome-markers.css&quot;/&gt;\n",
       "    &lt;link rel=&quot;stylesheet&quot; href=&quot;https://cdn.jsdelivr.net/gh/python-visualization/folium/folium/templates/leaflet.awesome.rotate.min.css&quot;/&gt;\n",
       "    \n",
       "            &lt;meta name=&quot;viewport&quot; content=&quot;width=device-width,\n",
       "                initial-scale=1.0, maximum-scale=1.0, user-scalable=no&quot; /&gt;\n",
       "            &lt;style&gt;\n",
       "                #map_8802e533c1ca3323074a8455ec9e4129 {\n",
       "                    position: relative;\n",
       "                    width: 100.0%;\n",
       "                    height: 100.0%;\n",
       "                    left: 0.0%;\n",
       "                    top: 0.0%;\n",
       "                }\n",
       "            &lt;/style&gt;\n",
       "        \n",
       "&lt;/head&gt;\n",
       "&lt;body&gt;    \n",
       "    \n",
       "            &lt;div class=&quot;folium-map&quot; id=&quot;map_8802e533c1ca3323074a8455ec9e4129&quot; &gt;&lt;/div&gt;\n",
       "        \n",
       "&lt;/body&gt;\n",
       "&lt;script&gt;    \n",
       "    \n",
       "            var map_8802e533c1ca3323074a8455ec9e4129 = L.map(\n",
       "                &quot;map_8802e533c1ca3323074a8455ec9e4129&quot;,\n",
       "                {\n",
       "                    center: [37.45414345870855, 126.63399643354994],\n",
       "                    crs: L.CRS.EPSG3857,\n",
       "                    zoom: 10,\n",
       "                    zoomControl: true,\n",
       "                    preferCanvas: false,\n",
       "                }\n",
       "            );\n",
       "\n",
       "            \n",
       "\n",
       "        \n",
       "    \n",
       "            var tile_layer_634c826981a42087982a9e76d9a110ce = L.tileLayer(\n",
       "                &quot;https://{s}.tile.openstreetmap.org/{z}/{x}/{y}.png&quot;,\n",
       "                {&quot;attribution&quot;: &quot;Data by \\u0026copy; \\u003ca href=\\&quot;http://openstreetmap.org\\&quot;\\u003eOpenStreetMap\\u003c/a\\u003e, under \\u003ca href=\\&quot;http://www.openstreetmap.org/copyright\\&quot;\\u003eODbL\\u003c/a\\u003e.&quot;, &quot;detectRetina&quot;: false, &quot;maxNativeZoom&quot;: 18, &quot;maxZoom&quot;: 18, &quot;minZoom&quot;: 0, &quot;noWrap&quot;: false, &quot;opacity&quot;: 1, &quot;subdomains&quot;: &quot;abc&quot;, &quot;tms&quot;: false}\n",
       "            ).addTo(map_8802e533c1ca3323074a8455ec9e4129);\n",
       "        \n",
       "&lt;/script&gt;\" style=\"position:absolute;width:100%;height:100%;left:0;top:0;border:none !important;\" allowfullscreen webkitallowfullscreen mozallowfullscreen></iframe></div></div>"
      ],
      "text/plain": [
       "<folium.folium.Map at 0x1ec015b23d0>"
      ]
     },
     "execution_count": 2,
     "metadata": {},
     "output_type": "execute_result"
    }
   ],
   "source": [
    "m = folium.Map(location=[37.45414345870855,126.63399643354994])\n",
    "m"
   ]
  },
  {
   "cell_type": "code",
   "execution_count": 3,
   "id": "6861e6ba-40b8-463d-9eac-e2923eee9a04",
   "metadata": {},
   "outputs": [],
   "source": [
    "m.save('data/index_map.html')"
   ]
  },
  {
   "cell_type": "code",
   "execution_count": 4,
   "id": "f67b4d03-a801-4433-9950-451cb5e30e74",
   "metadata": {},
   "outputs": [
    {
     "data": {
      "text/html": [
       "<div style=\"width:100%;\"><div style=\"position:relative;width:100%;height:0;padding-bottom:60%;\"><span style=\"color:#565656\">Make this Notebook Trusted to load map: File -> Trust Notebook</span><iframe srcdoc=\"&lt;!DOCTYPE html&gt;\n",
       "&lt;head&gt;    \n",
       "    &lt;meta http-equiv=&quot;content-type&quot; content=&quot;text/html; charset=UTF-8&quot; /&gt;\n",
       "    \n",
       "        &lt;script&gt;\n",
       "            L_NO_TOUCH = false;\n",
       "            L_DISABLE_3D = false;\n",
       "        &lt;/script&gt;\n",
       "    \n",
       "    &lt;style&gt;html, body {width: 100%;height: 100%;margin: 0;padding: 0;}&lt;/style&gt;\n",
       "    &lt;style&gt;#map {position:absolute;top:0;bottom:0;right:0;left:0;}&lt;/style&gt;\n",
       "    &lt;script src=&quot;https://cdn.jsdelivr.net/npm/leaflet@1.6.0/dist/leaflet.js&quot;&gt;&lt;/script&gt;\n",
       "    &lt;script src=&quot;https://code.jquery.com/jquery-1.12.4.min.js&quot;&gt;&lt;/script&gt;\n",
       "    &lt;script src=&quot;https://maxcdn.bootstrapcdn.com/bootstrap/3.2.0/js/bootstrap.min.js&quot;&gt;&lt;/script&gt;\n",
       "    &lt;script src=&quot;https://cdnjs.cloudflare.com/ajax/libs/Leaflet.awesome-markers/2.0.2/leaflet.awesome-markers.js&quot;&gt;&lt;/script&gt;\n",
       "    &lt;link rel=&quot;stylesheet&quot; href=&quot;https://cdn.jsdelivr.net/npm/leaflet@1.6.0/dist/leaflet.css&quot;/&gt;\n",
       "    &lt;link rel=&quot;stylesheet&quot; href=&quot;https://maxcdn.bootstrapcdn.com/bootstrap/3.2.0/css/bootstrap.min.css&quot;/&gt;\n",
       "    &lt;link rel=&quot;stylesheet&quot; href=&quot;https://maxcdn.bootstrapcdn.com/bootstrap/3.2.0/css/bootstrap-theme.min.css&quot;/&gt;\n",
       "    &lt;link rel=&quot;stylesheet&quot; href=&quot;https://maxcdn.bootstrapcdn.com/font-awesome/4.6.3/css/font-awesome.min.css&quot;/&gt;\n",
       "    &lt;link rel=&quot;stylesheet&quot; href=&quot;https://cdnjs.cloudflare.com/ajax/libs/Leaflet.awesome-markers/2.0.2/leaflet.awesome-markers.css&quot;/&gt;\n",
       "    &lt;link rel=&quot;stylesheet&quot; href=&quot;https://cdn.jsdelivr.net/gh/python-visualization/folium/folium/templates/leaflet.awesome.rotate.min.css&quot;/&gt;\n",
       "    \n",
       "            &lt;meta name=&quot;viewport&quot; content=&quot;width=device-width,\n",
       "                initial-scale=1.0, maximum-scale=1.0, user-scalable=no&quot; /&gt;\n",
       "            &lt;style&gt;\n",
       "                #map_f4b606195075ee953a9e16abd127e71a {\n",
       "                    position: relative;\n",
       "                    width: 100.0%;\n",
       "                    height: 100.0%;\n",
       "                    left: 0.0%;\n",
       "                    top: 0.0%;\n",
       "                }\n",
       "            &lt;/style&gt;\n",
       "        \n",
       "&lt;/head&gt;\n",
       "&lt;body&gt;    \n",
       "    \n",
       "            &lt;div class=&quot;folium-map&quot; id=&quot;map_f4b606195075ee953a9e16abd127e71a&quot; &gt;&lt;/div&gt;\n",
       "        \n",
       "&lt;/body&gt;\n",
       "&lt;script&gt;    \n",
       "    \n",
       "            var map_f4b606195075ee953a9e16abd127e71a = L.map(\n",
       "                &quot;map_f4b606195075ee953a9e16abd127e71a&quot;,\n",
       "                {\n",
       "                    center: [35.179792, 129.074958],\n",
       "                    crs: L.CRS.EPSG3857,\n",
       "                    zoom: 15,\n",
       "                    zoomControl: true,\n",
       "                    preferCanvas: false,\n",
       "                }\n",
       "            );\n",
       "\n",
       "            \n",
       "\n",
       "        \n",
       "    \n",
       "            var tile_layer_e8638f633562cc3d90d0d888e61116c4 = L.tileLayer(\n",
       "                &quot;https://{s}.tile.openstreetmap.org/{z}/{x}/{y}.png&quot;,\n",
       "                {&quot;attribution&quot;: &quot;Data by \\u0026copy; \\u003ca href=\\&quot;http://openstreetmap.org\\&quot;\\u003eOpenStreetMap\\u003c/a\\u003e, under \\u003ca href=\\&quot;http://www.openstreetmap.org/copyright\\&quot;\\u003eODbL\\u003c/a\\u003e.&quot;, &quot;detectRetina&quot;: false, &quot;maxNativeZoom&quot;: 18, &quot;maxZoom&quot;: 18, &quot;minZoom&quot;: 0, &quot;noWrap&quot;: false, &quot;opacity&quot;: 1, &quot;subdomains&quot;: &quot;abc&quot;, &quot;tms&quot;: false}\n",
       "            ).addTo(map_f4b606195075ee953a9e16abd127e71a);\n",
       "        \n",
       "&lt;/script&gt;\" style=\"position:absolute;width:100%;height:100%;left:0;top:0;border:none !important;\" allowfullscreen webkitallowfullscreen mozallowfullscreen></iframe></div></div>"
      ],
      "text/plain": [
       "<folium.folium.Map at 0x1ec030fe5e0>"
      ]
     },
     "execution_count": 4,
     "metadata": {},
     "output_type": "execute_result"
    }
   ],
   "source": [
    "m=folium.Map(location=[35.179792,129.074958],zoom_start=15)\n",
    "m"
   ]
  },
  {
   "cell_type": "code",
   "execution_count": 5,
   "id": "67d09e98-d451-4397-af00-daf95721c568",
   "metadata": {},
   "outputs": [
    {
     "data": {
      "text/html": [
       "<div style=\"width:100%;\"><div style=\"position:relative;width:100%;height:0;padding-bottom:60%;\"><span style=\"color:#565656\">Make this Notebook Trusted to load map: File -> Trust Notebook</span><iframe srcdoc=\"&lt;!DOCTYPE html&gt;\n",
       "&lt;head&gt;    \n",
       "    &lt;meta http-equiv=&quot;content-type&quot; content=&quot;text/html; charset=UTF-8&quot; /&gt;\n",
       "    \n",
       "        &lt;script&gt;\n",
       "            L_NO_TOUCH = false;\n",
       "            L_DISABLE_3D = false;\n",
       "        &lt;/script&gt;\n",
       "    \n",
       "    &lt;style&gt;html, body {width: 100%;height: 100%;margin: 0;padding: 0;}&lt;/style&gt;\n",
       "    &lt;style&gt;#map {position:absolute;top:0;bottom:0;right:0;left:0;}&lt;/style&gt;\n",
       "    &lt;script src=&quot;https://cdn.jsdelivr.net/npm/leaflet@1.6.0/dist/leaflet.js&quot;&gt;&lt;/script&gt;\n",
       "    &lt;script src=&quot;https://code.jquery.com/jquery-1.12.4.min.js&quot;&gt;&lt;/script&gt;\n",
       "    &lt;script src=&quot;https://maxcdn.bootstrapcdn.com/bootstrap/3.2.0/js/bootstrap.min.js&quot;&gt;&lt;/script&gt;\n",
       "    &lt;script src=&quot;https://cdnjs.cloudflare.com/ajax/libs/Leaflet.awesome-markers/2.0.2/leaflet.awesome-markers.js&quot;&gt;&lt;/script&gt;\n",
       "    &lt;link rel=&quot;stylesheet&quot; href=&quot;https://cdn.jsdelivr.net/npm/leaflet@1.6.0/dist/leaflet.css&quot;/&gt;\n",
       "    &lt;link rel=&quot;stylesheet&quot; href=&quot;https://maxcdn.bootstrapcdn.com/bootstrap/3.2.0/css/bootstrap.min.css&quot;/&gt;\n",
       "    &lt;link rel=&quot;stylesheet&quot; href=&quot;https://maxcdn.bootstrapcdn.com/bootstrap/3.2.0/css/bootstrap-theme.min.css&quot;/&gt;\n",
       "    &lt;link rel=&quot;stylesheet&quot; href=&quot;https://maxcdn.bootstrapcdn.com/font-awesome/4.6.3/css/font-awesome.min.css&quot;/&gt;\n",
       "    &lt;link rel=&quot;stylesheet&quot; href=&quot;https://cdnjs.cloudflare.com/ajax/libs/Leaflet.awesome-markers/2.0.2/leaflet.awesome-markers.css&quot;/&gt;\n",
       "    &lt;link rel=&quot;stylesheet&quot; href=&quot;https://cdn.jsdelivr.net/gh/python-visualization/folium/folium/templates/leaflet.awesome.rotate.min.css&quot;/&gt;\n",
       "    \n",
       "            &lt;meta name=&quot;viewport&quot; content=&quot;width=device-width,\n",
       "                initial-scale=1.0, maximum-scale=1.0, user-scalable=no&quot; /&gt;\n",
       "            &lt;style&gt;\n",
       "                #map_68f47e13208de736eb05aa2bdbcd44d4 {\n",
       "                    position: relative;\n",
       "                    width: 100.0%;\n",
       "                    height: 100.0%;\n",
       "                    left: 0.0%;\n",
       "                    top: 0.0%;\n",
       "                }\n",
       "            &lt;/style&gt;\n",
       "        \n",
       "&lt;/head&gt;\n",
       "&lt;body&gt;    \n",
       "    \n",
       "            &lt;div class=&quot;folium-map&quot; id=&quot;map_68f47e13208de736eb05aa2bdbcd44d4&quot; &gt;&lt;/div&gt;\n",
       "        \n",
       "&lt;/body&gt;\n",
       "&lt;script&gt;    \n",
       "    \n",
       "            var map_68f47e13208de736eb05aa2bdbcd44d4 = L.map(\n",
       "                &quot;map_68f47e13208de736eb05aa2bdbcd44d4&quot;,\n",
       "                {\n",
       "                    center: [35.179792, 129.074958],\n",
       "                    crs: L.CRS.EPSG3857,\n",
       "                    zoom: 15,\n",
       "                    zoomControl: true,\n",
       "                    preferCanvas: false,\n",
       "                }\n",
       "            );\n",
       "\n",
       "            \n",
       "\n",
       "        \n",
       "    \n",
       "            var tile_layer_2e180271ef3f49728cb73ce60de4454c = L.tileLayer(\n",
       "                &quot;https://{s}.tile.openstreetmap.org/{z}/{x}/{y}.png&quot;,\n",
       "                {&quot;attribution&quot;: &quot;Data by \\u0026copy; \\u003ca href=\\&quot;http://openstreetmap.org\\&quot;\\u003eOpenStreetMap\\u003c/a\\u003e, under \\u003ca href=\\&quot;http://www.openstreetmap.org/copyright\\&quot;\\u003eODbL\\u003c/a\\u003e.&quot;, &quot;detectRetina&quot;: false, &quot;maxNativeZoom&quot;: 18, &quot;maxZoom&quot;: 18, &quot;minZoom&quot;: 0, &quot;noWrap&quot;: false, &quot;opacity&quot;: 1, &quot;subdomains&quot;: &quot;abc&quot;, &quot;tms&quot;: false}\n",
       "            ).addTo(map_68f47e13208de736eb05aa2bdbcd44d4);\n",
       "        \n",
       "&lt;/script&gt;\" style=\"position:absolute;width:100%;height:100%;left:0;top:0;border:none !important;\" allowfullscreen webkitallowfullscreen mozallowfullscreen></iframe></div></div>"
      ],
      "text/plain": [
       "<folium.folium.Map at 0x1ec0313be50>"
      ]
     },
     "execution_count": 5,
     "metadata": {},
     "output_type": "execute_result"
    }
   ],
   "source": [
    "m=folium.Map(location=[35.179792,129.074958],zoom_start=15, tiles='OpenStreetMap')\n",
    "m"
   ]
  },
  {
   "cell_type": "code",
   "execution_count": 6,
   "id": "a961079f-8cb2-4b5f-b6de-790bdc94bc69",
   "metadata": {},
   "outputs": [
    {
     "data": {
      "text/html": [
       "<div style=\"width:100%;\"><div style=\"position:relative;width:100%;height:0;padding-bottom:60%;\"><span style=\"color:#565656\">Make this Notebook Trusted to load map: File -> Trust Notebook</span><iframe srcdoc=\"&lt;!DOCTYPE html&gt;\n",
       "&lt;head&gt;    \n",
       "    &lt;meta http-equiv=&quot;content-type&quot; content=&quot;text/html; charset=UTF-8&quot; /&gt;\n",
       "    \n",
       "        &lt;script&gt;\n",
       "            L_NO_TOUCH = false;\n",
       "            L_DISABLE_3D = false;\n",
       "        &lt;/script&gt;\n",
       "    \n",
       "    &lt;style&gt;html, body {width: 100%;height: 100%;margin: 0;padding: 0;}&lt;/style&gt;\n",
       "    &lt;style&gt;#map {position:absolute;top:0;bottom:0;right:0;left:0;}&lt;/style&gt;\n",
       "    &lt;script src=&quot;https://cdn.jsdelivr.net/npm/leaflet@1.6.0/dist/leaflet.js&quot;&gt;&lt;/script&gt;\n",
       "    &lt;script src=&quot;https://code.jquery.com/jquery-1.12.4.min.js&quot;&gt;&lt;/script&gt;\n",
       "    &lt;script src=&quot;https://maxcdn.bootstrapcdn.com/bootstrap/3.2.0/js/bootstrap.min.js&quot;&gt;&lt;/script&gt;\n",
       "    &lt;script src=&quot;https://cdnjs.cloudflare.com/ajax/libs/Leaflet.awesome-markers/2.0.2/leaflet.awesome-markers.js&quot;&gt;&lt;/script&gt;\n",
       "    &lt;link rel=&quot;stylesheet&quot; href=&quot;https://cdn.jsdelivr.net/npm/leaflet@1.6.0/dist/leaflet.css&quot;/&gt;\n",
       "    &lt;link rel=&quot;stylesheet&quot; href=&quot;https://maxcdn.bootstrapcdn.com/bootstrap/3.2.0/css/bootstrap.min.css&quot;/&gt;\n",
       "    &lt;link rel=&quot;stylesheet&quot; href=&quot;https://maxcdn.bootstrapcdn.com/bootstrap/3.2.0/css/bootstrap-theme.min.css&quot;/&gt;\n",
       "    &lt;link rel=&quot;stylesheet&quot; href=&quot;https://maxcdn.bootstrapcdn.com/font-awesome/4.6.3/css/font-awesome.min.css&quot;/&gt;\n",
       "    &lt;link rel=&quot;stylesheet&quot; href=&quot;https://cdnjs.cloudflare.com/ajax/libs/Leaflet.awesome-markers/2.0.2/leaflet.awesome-markers.css&quot;/&gt;\n",
       "    &lt;link rel=&quot;stylesheet&quot; href=&quot;https://cdn.jsdelivr.net/gh/python-visualization/folium/folium/templates/leaflet.awesome.rotate.min.css&quot;/&gt;\n",
       "    \n",
       "            &lt;meta name=&quot;viewport&quot; content=&quot;width=device-width,\n",
       "                initial-scale=1.0, maximum-scale=1.0, user-scalable=no&quot; /&gt;\n",
       "            &lt;style&gt;\n",
       "                #map_68f47e13208de736eb05aa2bdbcd44d4 {\n",
       "                    position: relative;\n",
       "                    width: 100.0%;\n",
       "                    height: 100.0%;\n",
       "                    left: 0.0%;\n",
       "                    top: 0.0%;\n",
       "                }\n",
       "            &lt;/style&gt;\n",
       "        \n",
       "&lt;/head&gt;\n",
       "&lt;body&gt;    \n",
       "    \n",
       "            &lt;div class=&quot;folium-map&quot; id=&quot;map_68f47e13208de736eb05aa2bdbcd44d4&quot; &gt;&lt;/div&gt;\n",
       "        \n",
       "&lt;/body&gt;\n",
       "&lt;script&gt;    \n",
       "    \n",
       "            var map_68f47e13208de736eb05aa2bdbcd44d4 = L.map(\n",
       "                &quot;map_68f47e13208de736eb05aa2bdbcd44d4&quot;,\n",
       "                {\n",
       "                    center: [35.179792, 129.074958],\n",
       "                    crs: L.CRS.EPSG3857,\n",
       "                    zoom: 15,\n",
       "                    zoomControl: true,\n",
       "                    preferCanvas: false,\n",
       "                }\n",
       "            );\n",
       "\n",
       "            \n",
       "\n",
       "        \n",
       "    \n",
       "            var tile_layer_2e180271ef3f49728cb73ce60de4454c = L.tileLayer(\n",
       "                &quot;https://{s}.tile.openstreetmap.org/{z}/{x}/{y}.png&quot;,\n",
       "                {&quot;attribution&quot;: &quot;Data by \\u0026copy; \\u003ca href=\\&quot;http://openstreetmap.org\\&quot;\\u003eOpenStreetMap\\u003c/a\\u003e, under \\u003ca href=\\&quot;http://www.openstreetmap.org/copyright\\&quot;\\u003eODbL\\u003c/a\\u003e.&quot;, &quot;detectRetina&quot;: false, &quot;maxNativeZoom&quot;: 18, &quot;maxZoom&quot;: 18, &quot;minZoom&quot;: 0, &quot;noWrap&quot;: false, &quot;opacity&quot;: 1, &quot;subdomains&quot;: &quot;abc&quot;, &quot;tms&quot;: false}\n",
       "            ).addTo(map_68f47e13208de736eb05aa2bdbcd44d4);\n",
       "        \n",
       "&lt;/script&gt;\" style=\"position:absolute;width:100%;height:100%;left:0;top:0;border:none !important;\" allowfullscreen webkitallowfullscreen mozallowfullscreen></iframe></div></div>"
      ],
      "text/plain": [
       "<folium.folium.Map at 0x1ec0313be50>"
      ]
     },
     "execution_count": 6,
     "metadata": {},
     "output_type": "execute_result"
    }
   ],
   "source": [
    "map_osm=folium.Map(location=[35.179792,129.074958],zoom_start=15, tiles='Stamen Terrain')\n",
    "m"
   ]
  },
  {
   "cell_type": "code",
   "execution_count": 7,
   "id": "4402d7d5-23e3-4a2a-aa3d-d9a5837f844b",
   "metadata": {},
   "outputs": [
    {
     "data": {
      "text/html": [
       "<div style=\"width:100%;\"><div style=\"position:relative;width:100%;height:0;padding-bottom:60%;\"><span style=\"color:#565656\">Make this Notebook Trusted to load map: File -> Trust Notebook</span><iframe srcdoc=\"&lt;!DOCTYPE html&gt;\n",
       "&lt;head&gt;    \n",
       "    &lt;meta http-equiv=&quot;content-type&quot; content=&quot;text/html; charset=UTF-8&quot; /&gt;\n",
       "    \n",
       "        &lt;script&gt;\n",
       "            L_NO_TOUCH = false;\n",
       "            L_DISABLE_3D = false;\n",
       "        &lt;/script&gt;\n",
       "    \n",
       "    &lt;style&gt;html, body {width: 100%;height: 100%;margin: 0;padding: 0;}&lt;/style&gt;\n",
       "    &lt;style&gt;#map {position:absolute;top:0;bottom:0;right:0;left:0;}&lt;/style&gt;\n",
       "    &lt;script src=&quot;https://cdn.jsdelivr.net/npm/leaflet@1.6.0/dist/leaflet.js&quot;&gt;&lt;/script&gt;\n",
       "    &lt;script src=&quot;https://code.jquery.com/jquery-1.12.4.min.js&quot;&gt;&lt;/script&gt;\n",
       "    &lt;script src=&quot;https://maxcdn.bootstrapcdn.com/bootstrap/3.2.0/js/bootstrap.min.js&quot;&gt;&lt;/script&gt;\n",
       "    &lt;script src=&quot;https://cdnjs.cloudflare.com/ajax/libs/Leaflet.awesome-markers/2.0.2/leaflet.awesome-markers.js&quot;&gt;&lt;/script&gt;\n",
       "    &lt;link rel=&quot;stylesheet&quot; href=&quot;https://cdn.jsdelivr.net/npm/leaflet@1.6.0/dist/leaflet.css&quot;/&gt;\n",
       "    &lt;link rel=&quot;stylesheet&quot; href=&quot;https://maxcdn.bootstrapcdn.com/bootstrap/3.2.0/css/bootstrap.min.css&quot;/&gt;\n",
       "    &lt;link rel=&quot;stylesheet&quot; href=&quot;https://maxcdn.bootstrapcdn.com/bootstrap/3.2.0/css/bootstrap-theme.min.css&quot;/&gt;\n",
       "    &lt;link rel=&quot;stylesheet&quot; href=&quot;https://maxcdn.bootstrapcdn.com/font-awesome/4.6.3/css/font-awesome.min.css&quot;/&gt;\n",
       "    &lt;link rel=&quot;stylesheet&quot; href=&quot;https://cdnjs.cloudflare.com/ajax/libs/Leaflet.awesome-markers/2.0.2/leaflet.awesome-markers.css&quot;/&gt;\n",
       "    &lt;link rel=&quot;stylesheet&quot; href=&quot;https://cdn.jsdelivr.net/gh/python-visualization/folium/folium/templates/leaflet.awesome.rotate.min.css&quot;/&gt;\n",
       "    \n",
       "            &lt;meta name=&quot;viewport&quot; content=&quot;width=device-width,\n",
       "                initial-scale=1.0, maximum-scale=1.0, user-scalable=no&quot; /&gt;\n",
       "            &lt;style&gt;\n",
       "                #map_68f47e13208de736eb05aa2bdbcd44d4 {\n",
       "                    position: relative;\n",
       "                    width: 100.0%;\n",
       "                    height: 100.0%;\n",
       "                    left: 0.0%;\n",
       "                    top: 0.0%;\n",
       "                }\n",
       "            &lt;/style&gt;\n",
       "        \n",
       "&lt;/head&gt;\n",
       "&lt;body&gt;    \n",
       "    \n",
       "            &lt;div class=&quot;folium-map&quot; id=&quot;map_68f47e13208de736eb05aa2bdbcd44d4&quot; &gt;&lt;/div&gt;\n",
       "        \n",
       "&lt;/body&gt;\n",
       "&lt;script&gt;    \n",
       "    \n",
       "            var map_68f47e13208de736eb05aa2bdbcd44d4 = L.map(\n",
       "                &quot;map_68f47e13208de736eb05aa2bdbcd44d4&quot;,\n",
       "                {\n",
       "                    center: [35.179792, 129.074958],\n",
       "                    crs: L.CRS.EPSG3857,\n",
       "                    zoom: 15,\n",
       "                    zoomControl: true,\n",
       "                    preferCanvas: false,\n",
       "                }\n",
       "            );\n",
       "\n",
       "            \n",
       "\n",
       "        \n",
       "    \n",
       "            var tile_layer_2e180271ef3f49728cb73ce60de4454c = L.tileLayer(\n",
       "                &quot;https://{s}.tile.openstreetmap.org/{z}/{x}/{y}.png&quot;,\n",
       "                {&quot;attribution&quot;: &quot;Data by \\u0026copy; \\u003ca href=\\&quot;http://openstreetmap.org\\&quot;\\u003eOpenStreetMap\\u003c/a\\u003e, under \\u003ca href=\\&quot;http://www.openstreetmap.org/copyright\\&quot;\\u003eODbL\\u003c/a\\u003e.&quot;, &quot;detectRetina&quot;: false, &quot;maxNativeZoom&quot;: 18, &quot;maxZoom&quot;: 18, &quot;minZoom&quot;: 0, &quot;noWrap&quot;: false, &quot;opacity&quot;: 1, &quot;subdomains&quot;: &quot;abc&quot;, &quot;tms&quot;: false}\n",
       "            ).addTo(map_68f47e13208de736eb05aa2bdbcd44d4);\n",
       "        \n",
       "&lt;/script&gt;\" style=\"position:absolute;width:100%;height:100%;left:0;top:0;border:none !important;\" allowfullscreen webkitallowfullscreen mozallowfullscreen></iframe></div></div>"
      ],
      "text/plain": [
       "<folium.folium.Map at 0x1ec0313be50>"
      ]
     },
     "execution_count": 7,
     "metadata": {},
     "output_type": "execute_result"
    }
   ],
   "source": [
    "map_osm=folium.Map(location=[35.179792,129.074958],zoom_start=15, tiles='Stamen Toner')\n",
    "m"
   ]
  },
  {
   "cell_type": "code",
   "execution_count": 8,
   "id": "fb893e44-e885-410b-81e7-dfe761061114",
   "metadata": {},
   "outputs": [
    {
     "ename": "ValueError",
     "evalue": "Built-in templates for Mapbox and Cloudmade have been removed. You can still use these providers by passing a URL to the `tiles` argument. See the documentation of the `TileLayer` class.",
     "output_type": "error",
     "traceback": [
      "\u001b[1;31m---------------------------------------------------------------------------\u001b[0m",
      "\u001b[1;31mValueError\u001b[0m                                Traceback (most recent call last)",
      "Input \u001b[1;32mIn [8]\u001b[0m, in \u001b[0;36m<cell line: 1>\u001b[1;34m()\u001b[0m\n\u001b[1;32m----> 1\u001b[0m map_osm\u001b[38;5;241m=\u001b[39m\u001b[43mfolium\u001b[49m\u001b[38;5;241;43m.\u001b[39;49m\u001b[43mMap\u001b[49m\u001b[43m(\u001b[49m\u001b[43mlocation\u001b[49m\u001b[38;5;241;43m=\u001b[39;49m\u001b[43m[\u001b[49m\u001b[38;5;241;43m35.179792\u001b[39;49m\u001b[43m,\u001b[49m\u001b[38;5;241;43m129.074958\u001b[39;49m\u001b[43m]\u001b[49m\u001b[43m,\u001b[49m\u001b[43mzoom_start\u001b[49m\u001b[38;5;241;43m=\u001b[39;49m\u001b[38;5;241;43m15\u001b[39;49m\u001b[43m,\u001b[49m\u001b[43m \u001b[49m\u001b[43mtiles\u001b[49m\u001b[38;5;241;43m=\u001b[39;49m\u001b[38;5;124;43m'\u001b[39;49m\u001b[38;5;124;43mMapbox\u001b[39;49m\u001b[38;5;124;43m'\u001b[39;49m\u001b[43m,\u001b[49m\u001b[43m \u001b[49m\u001b[43mAPI_key\u001b[49m\u001b[38;5;241;43m=\u001b[39;49m\u001b[38;5;124;43m'\u001b[39;49m\u001b[38;5;124;43m'\u001b[39;49m\u001b[43m)\u001b[49m\n\u001b[0;32m      2\u001b[0m m\n",
      "File \u001b[1;32m~\\anaconda3\\lib\\site-packages\\folium\\folium.py:288\u001b[0m, in \u001b[0;36mMap.__init__\u001b[1;34m(self, location, width, height, left, top, position, tiles, attr, min_zoom, max_zoom, zoom_start, min_lat, max_lat, min_lon, max_lon, max_bounds, crs, control_scale, prefer_canvas, no_touch, disable_3d, png_enabled, zoom_control, **kwargs)\u001b[0m\n\u001b[0;32m    285\u001b[0m \u001b[38;5;28mself\u001b[39m\u001b[38;5;241m.\u001b[39mobjects_to_stay_in_front \u001b[38;5;241m=\u001b[39m []\n\u001b[0;32m    287\u001b[0m \u001b[38;5;28;01mif\u001b[39;00m tiles:\n\u001b[1;32m--> 288\u001b[0m     tile_layer \u001b[38;5;241m=\u001b[39m \u001b[43mTileLayer\u001b[49m\u001b[43m(\u001b[49m\u001b[43mtiles\u001b[49m\u001b[38;5;241;43m=\u001b[39;49m\u001b[43mtiles\u001b[49m\u001b[43m,\u001b[49m\u001b[43m \u001b[49m\u001b[43mattr\u001b[49m\u001b[38;5;241;43m=\u001b[39;49m\u001b[43mattr\u001b[49m\u001b[43m,\u001b[49m\n\u001b[0;32m    289\u001b[0m \u001b[43m                           \u001b[49m\u001b[43mmin_zoom\u001b[49m\u001b[38;5;241;43m=\u001b[39;49m\u001b[43mmin_zoom\u001b[49m\u001b[43m,\u001b[49m\u001b[43m \u001b[49m\u001b[43mmax_zoom\u001b[49m\u001b[38;5;241;43m=\u001b[39;49m\u001b[43mmax_zoom\u001b[49m\u001b[43m)\u001b[49m\n\u001b[0;32m    290\u001b[0m     \u001b[38;5;28mself\u001b[39m\u001b[38;5;241m.\u001b[39madd_child(tile_layer, name\u001b[38;5;241m=\u001b[39mtile_layer\u001b[38;5;241m.\u001b[39mtile_name)\n",
      "File \u001b[1;32m~\\anaconda3\\lib\\site-packages\\folium\\raster_layers.py:95\u001b[0m, in \u001b[0;36mTileLayer.__init__\u001b[1;34m(self, tiles, min_zoom, max_zoom, max_native_zoom, attr, detect_retina, name, overlay, control, show, no_wrap, subdomains, tms, opacity, **kwargs)\u001b[0m\n\u001b[0;32m     92\u001b[0m tiles_flat \u001b[38;5;241m=\u001b[39m \u001b[38;5;124m'\u001b[39m\u001b[38;5;124m'\u001b[39m\u001b[38;5;241m.\u001b[39mjoin(tiles\u001b[38;5;241m.\u001b[39mlower()\u001b[38;5;241m.\u001b[39mstrip()\u001b[38;5;241m.\u001b[39msplit())\n\u001b[0;32m     93\u001b[0m \u001b[38;5;28;01mif\u001b[39;00m tiles_flat \u001b[38;5;129;01min\u001b[39;00m {\u001b[38;5;124m'\u001b[39m\u001b[38;5;124mcloudmade\u001b[39m\u001b[38;5;124m'\u001b[39m, \u001b[38;5;124m'\u001b[39m\u001b[38;5;124mmapbox\u001b[39m\u001b[38;5;124m'\u001b[39m, \u001b[38;5;124m'\u001b[39m\u001b[38;5;124mmapboxbright\u001b[39m\u001b[38;5;124m'\u001b[39m, \u001b[38;5;124m'\u001b[39m\u001b[38;5;124mmapboxcontrolroom\u001b[39m\u001b[38;5;124m'\u001b[39m}:\n\u001b[0;32m     94\u001b[0m     \u001b[38;5;66;03m# added in May 2020 after v0.11.0, remove in a future release\u001b[39;00m\n\u001b[1;32m---> 95\u001b[0m     \u001b[38;5;28;01mraise\u001b[39;00m \u001b[38;5;167;01mValueError\u001b[39;00m(\n\u001b[0;32m     96\u001b[0m         \u001b[38;5;124m'\u001b[39m\u001b[38;5;124mBuilt-in templates for Mapbox and Cloudmade have been removed. \u001b[39m\u001b[38;5;124m'\u001b[39m\n\u001b[0;32m     97\u001b[0m         \u001b[38;5;124m'\u001b[39m\u001b[38;5;124mYou can still use these providers by passing a URL to the `tiles` \u001b[39m\u001b[38;5;124m'\u001b[39m\n\u001b[0;32m     98\u001b[0m         \u001b[38;5;124m'\u001b[39m\u001b[38;5;124margument. See the documentation of the `TileLayer` class.\u001b[39m\u001b[38;5;124m'\u001b[39m\n\u001b[0;32m     99\u001b[0m     )\n\u001b[0;32m    100\u001b[0m templates \u001b[38;5;241m=\u001b[39m \u001b[38;5;28mlist\u001b[39m(\u001b[38;5;28mself\u001b[39m\u001b[38;5;241m.\u001b[39m_env\u001b[38;5;241m.\u001b[39mlist_templates(\n\u001b[0;32m    101\u001b[0m     filter_func\u001b[38;5;241m=\u001b[39m\u001b[38;5;28;01mlambda\u001b[39;00m x: x\u001b[38;5;241m.\u001b[39mstartswith(\u001b[38;5;124m'\u001b[39m\u001b[38;5;124mtiles/\u001b[39m\u001b[38;5;124m'\u001b[39m)))\n\u001b[0;32m    102\u001b[0m tile_template \u001b[38;5;241m=\u001b[39m \u001b[38;5;124m'\u001b[39m\u001b[38;5;124mtiles/\u001b[39m\u001b[38;5;124m'\u001b[39m \u001b[38;5;241m+\u001b[39m tiles_flat \u001b[38;5;241m+\u001b[39m \u001b[38;5;124m'\u001b[39m\u001b[38;5;124m/tiles.txt\u001b[39m\u001b[38;5;124m'\u001b[39m\n",
      "\u001b[1;31mValueError\u001b[0m: Built-in templates for Mapbox and Cloudmade have been removed. You can still use these providers by passing a URL to the `tiles` argument. See the documentation of the `TileLayer` class."
     ]
    }
   ],
   "source": [
    "map_osm=folium.Map(location=[35.179792,129.074958],zoom_start=15, tiles='Mapbox', API_key='')\n",
    "m"
   ]
  },
  {
   "cell_type": "code",
   "execution_count": null,
   "id": "63be0574-5399-481e-8068-988a73713caa",
   "metadata": {},
   "outputs": [],
   "source": [
    "tooltip=\"클릭해주세요\"\n",
    "map_osm=folium.Map(location=[37.45414345870855,126.63399643354994],zoom_start=15, tiles='Stamen Toner')\n",
    "folium.Marker([37.45414345870855,126.63399643354994],popup='<i>부산시청 위</i>',tooltip=tooltip).add_to(map_osm)\n",
    "folium.Marker([37.45285270239673,126.63654764895686],popup='<i>부산시청 옆</i>',tooltip=tooltip, icon=folium.Icon(color='red',icon='info-sign')).add_to(map_osm)\n",
    "folium.CircleMarker([35.179792,129.074958],popup='<i>부산시청</i>',tooltip=tooltip,radius=100,color='#3186cc',fill_color='#3186cc').add_to(map_osm)\n",
    "map_osm.save('data/map5.html')\n",
    "map_osm"
   ]
  },
  {
   "cell_type": "code",
   "execution_count": null,
   "id": "bd094290-bb92-45b5-96b7-41408520dc28",
   "metadata": {},
   "outputs": [],
   "source": [
    "tooltip=\"클릭해주세요\"\n",
    "map_osm=folium.Map(location=[35.179792,129.074958],zoom_start=15, tiles='Stamen Toner')\n",
    "folium.Marker([35.180792,129.074958],popup='<i>부산시청 위</i>',tooltip=tooltip, icon=folium.Icon(icon='glass')).add_to(map_osm)\n",
    "folium.Marker([35.179792,129.075958],popup='<i>부산시청 옆</i>',tooltip=tooltip, icon=folium.Icon(icon='home', color='green')).add_to(map_osm)\n",
    "folium.Marker([35.178792,129.074958],popup='<i>부산시청 아래</i>',tooltip=tooltip, icon=folium.Icon(icon='flag', color='red')).add_to(map_osm)\n",
    "folium.CircleMarker([35.179792,129.074958],popup='<i>부산시청</i>',tooltip=tooltip,radius=100,color='#3186cc',fill_color='#3186cc').add_to(map_osm)\n",
    "folium.Circle([35.179792,129.074958],popup='<i>부산시청</i>',tooltip=tooltip,radius=100,color='#ABF200',fill_color='#ABF200',fill=True).add_to(map_osm)\n",
    "folium.Circle([35.179792,129.073958],popup='<i>부산시청</i>',tooltip=tooltip,radius=200,color='#FF00DD',fill_color='#FF00DD',fill=True).add_to(map_osm)\n",
    "\n",
    "map_osm"
   ]
  },
  {
   "cell_type": "code",
   "execution_count": null,
   "id": "4dc537a6-e849-41bf-9454-2d17b3b50858",
   "metadata": {},
   "outputs": [],
   "source": [
    "# 클릭으로 마커 추가\n",
    "m.add_child(folium.ClickForMarker(popup=\"warning\"))\n",
    "# m.add_child(folium.ClickForMarker()) # popup을 작성하지 않으면 위도 경도가 뜸\n",
    "m"
   ]
  },
  {
   "cell_type": "code",
   "execution_count": null,
   "id": "56a9a636-fe61-46cc-89a1-de42303c7224",
   "metadata": {},
   "outputs": [],
   "source": [
    "# 클릭시 위도경도 나타내기\n",
    "tooltip=\"클릭하세요\"\n",
    "m=folium.Map(location=[35.179792,129.074958],zoom_start=15, tiles='Stamen Toner')\n",
    "folium.Marker([35.180792,129.074958],popup='<i>부산시청 위</i>',tooltip=tooltip, \n",
    "              icon=folium.Icon(icon='glass')).add_to(m)\n",
    "folium.Marker([35.179792,129.075958],popup='<i>부산시청 옆</i>',tooltip=tooltip, \n",
    "              icon=folium.Icon(icon='home', color='green')).add_to(m)\n",
    "folium.Marker([35.178792,129.074958],popup='<i>부산시청 아래</i>',tooltip=tooltip, \n",
    "              icon=folium.Icon(icon='flag', color='red')).add_to(m)\n",
    "# folium.CircleMarker([35.179792,129.074958],popup='<i>부산시청</i>',tooltip=tooltip,radius=100,color='#3186cc',fill_color='#3186cc').add_to(m)\n",
    "folium.Circle([35.179792,129.074958],popup='<i>부산시청</i>',tooltip=tooltip,radius=100,color='#ABF200',fill_color='#ABF200',fill=True).add_to(m)\n",
    "folium.Circle([35.179792,129.073958],popup='<i>부산시청</i>',tooltip=tooltip,radius=200,color='#FF00DD',fill_color='#FF00DD',fill=True).add_to(m)\n",
    "\n",
    "m.add_child(folium.ClickForMarker(popup=\"warning\"))\n",
    "m.add_child(folium.LatLngPopup())\n",
    "m"
   ]
  },
  {
   "cell_type": "code",
   "execution_count": null,
   "id": "ba5403ae-1773-4e05-95dd-3e93aa253928",
   "metadata": {},
   "outputs": [],
   "source": [
    "m.add_child(folium.ClickForMarker(popup=\"warning\"))\n",
    "m.add_child(folium.LatLngPopup())\n",
    "m"
   ]
  },
  {
   "cell_type": "code",
   "execution_count": null,
   "id": "87e6f6c1-a81c-4877-8c23-beed1dfde92b",
   "metadata": {},
   "outputs": [],
   "source": [
    "# \n",
    "m.add_child(folium.ClickForMarker(popup=str(m.add_child(folium.LatLngPopup()))))\n",
    "m"
   ]
  },
  {
   "cell_type": "code",
   "execution_count": null,
   "id": "ef346c39-d929-4b51-a31a-809028d57994",
   "metadata": {
    "tags": []
   },
   "outputs": [],
   "source": [
    "help(folium.Icon)"
   ]
  },
  {
   "cell_type": "code",
   "execution_count": null,
   "id": "a642b8cb-24c7-42a1-bab2-afcaf6894ae0",
   "metadata": {},
   "outputs": [],
   "source": [
    "# 클러스터링 하기\n",
    "\n",
    "from folium import plugins\n",
    "import os\n",
    "N=100\n",
    "data=np.array(\n",
    "    [\n",
    "        np.random.uniform(low=35,high=38,size=N), #Random latitudes\n",
    "        np.random.uniform(low=126,high=129,size=N), #Random longitudes\n",
    "    ]).T\n",
    "popups=[str(i) for i in range(N)] #Popups texts are simple numbers\n",
    "m=folium.Map([37.566345, 126.977893], zoom_start=8)\n",
    "plugins.MarkerCluster(data, popups=popups).add_to(m)\n",
    "m.save(os.path.join('data','Plugins_1.html'))\n",
    "m\n"
   ]
  },
  {
   "cell_type": "markdown",
   "id": "380be063-d285-4a26-9861-6222a9da0328",
   "metadata": {},
   "source": [
    "# 커피 매장 데이터 분석"
   ]
  },
  {
   "cell_type": "markdown",
   "id": "ddb4d197-1cf0-43ab-b3db-e55486e7d462",
   "metadata": {
    "tags": []
   },
   "source": [
    "## 1. 데이터 준비 및 탐색\n",
    "\n",
    "- 시/도 행정구역 이름 정규화"
   ]
  },
  {
   "cell_type": "code",
   "execution_count": null,
   "id": "3af2b178-d336-4b92-8a03-b6d32303efb2",
   "metadata": {},
   "outputs": [],
   "source": [
    "import pandas as pd\n",
    "CB = pd.read_csv('data/CoffeeBean.csv ', encoding = 'CP949', index_col = 0, header = 0,\n",
    "engine = 'python')\n",
    "CB.head() #작업 내용 확인용 출력"
   ]
  },
  {
   "cell_type": "code",
   "execution_count": null,
   "id": "54833da2-7865-4c36-be53-96e6086ce214",
   "metadata": {
    "tags": []
   },
   "outputs": [],
   "source": [
    "addr=[]\n",
    "for address in CB.address:\n",
    "    addr.append(str(address).split())\n",
    "    \n",
    "#작업 내용 확인용 출력\n",
    "print('데이터 개수: %d' %len(addr))\n",
    "addr"
   ]
  },
  {
   "cell_type": "code",
   "execution_count": null,
   "id": "678fa92a-8702-4cd5-b9c4-c5be1434ad49",
   "metadata": {
    "tags": []
   },
   "outputs": [],
   "source": [
    "addr_list=[]\n",
    "\n",
    "for i in range(len(addr)):\n",
    "    if addr[i][0] == \"서울\": addr[i][0]=\"서울특별시\"\n",
    "    elif addr[i][0] == \"서울시\": addr[i][0]=\"서울특별시\"\n",
    "    elif addr[i][0] == \"부산시\": addr[i][0]=\"부산광역시\"\n",
    "    elif addr[i][0] == \"인천\": addr[i][0]=\"인천광역시\"\n",
    "    elif addr[i][0] == \"광주\": addr[i][0]=\"광주광역시\"\n",
    "    elif addr[i][0] == \"대전\": addr[i][0]=\"대전광역시\"\n",
    "    elif addr[i][0] == \"울산\": addr[i][0]=\"울산광역시\"\n",
    "    elif addr[i][0] == \"세종시\": addr[i][0]=\"세종특별자치시\"\n",
    "    elif addr[i][0] == \"경기\": addr[i][0]=\"경기도\"\n",
    "    elif addr[i][0] == \"충북\": addr[i][0]=\"충청북도\"\n",
    "    elif addr[i][0] == \"충남\": addr[i][0]=\"충청남도\"\n",
    "    elif addr[i][0] == \"전북\": addr[i][0]=\"전라북도\"\n",
    "    elif addr[i][0] == \"전남\": addr[i][0]=\"전라남도\"\n",
    "    elif addr[i][0] == \"경북\": addr[i][0]=\"경상북도\"\n",
    "    elif addr[i][0] == \"경남\": addr[i][0]=\"경상남도\"\n",
    "    elif addr[i][0] == \"제주\": addr[i][0]=\"제주특별자치도\"\n",
    "    elif addr[i][0] == \"제주도\": addr[i][0]=\"제주특별자치도\"\n",
    "    elif addr[i][0] == \"제주시\": addr[i][0]=\"제주특별자치도\"\n",
    "    \n",
    "    addr_list.append(' '.join(addr[i]))\n",
    "    \n",
    "addr_list"
   ]
  },
  {
   "cell_type": "code",
   "execution_count": null,
   "id": "0f5bc6d2-48a9-49b5-99ac-28f1999893c9",
   "metadata": {},
   "outputs": [],
   "source": [
    "addr2=pd.DataFrame(addr_list, columns=['address2'])\n",
    "\n",
    "addr2"
   ]
  },
  {
   "cell_type": "code",
   "execution_count": null,
   "id": "2da00a27-2058-4178-813d-752c04b246b1",
   "metadata": {},
   "outputs": [],
   "source": [
    "CB2=pd.concat([CB,addr2], axis=1)\n",
    "CB2['addr3']=addr_list\n",
    "\n",
    "CB2.head()"
   ]
  },
  {
   "cell_type": "code",
   "execution_count": null,
   "id": "9fd84395-76a6-4ea0-977e-8a34952a303d",
   "metadata": {},
   "outputs": [],
   "source": [
    "CB2.to_csv('data/CoffeeBean_2.csv', encoding='CP949', index=False)"
   ]
  },
  {
   "cell_type": "code",
   "execution_count": null,
   "id": "1f472050-232c-4c49-a623-52c10c3aac5d",
   "metadata": {},
   "outputs": [],
   "source": [
    "CB2.info()"
   ]
  },
  {
   "cell_type": "markdown",
   "id": "86a685ea-2a42-4fc4-9a94-1743e5345b4e",
   "metadata": {},
   "source": [
    "### 2) 정리해둔 CoffeeBean_2.csv 파일 로드"
   ]
  },
  {
   "cell_type": "code",
   "execution_count": null,
   "id": "c4f14763-b4db-4e76-813c-4ef90ab44290",
   "metadata": {},
   "outputs": [],
   "source": [
    "# Geocoder_xr은 100개 이상 작업시 느려짐 > 100개씩 분리해서 작업\n",
    "CB_2_1=CB2[:100]\n",
    "CB_2_2=CB2[100:200]\n",
    "CB_2_3=CB2[200:]\n",
    "CB_2_1.to_csv('data/cb2_1.csv', encoding='CP949', index=False)\n",
    "CB_2_2.to_csv('data/cb2_2.csv', encoding='CP949', index=False)\n",
    "CB_2_3.to_csv('data/cb2_3.csv', encoding='CP949', index=False)"
   ]
  },
  {
   "cell_type": "code",
   "execution_count": null,
   "id": "65b8171d-f5ca-4304-b2d4-7198814c3ff1",
   "metadata": {
    "tags": []
   },
   "outputs": [],
   "source": [
    "cb_df1=pd.read_csv('data/cb_geocode1.shp.csv', encoding='CP949')\n",
    "cb_df1=cb_df1.iloc[:,1:]\n",
    "cb_df1"
   ]
  },
  {
   "cell_type": "code",
   "execution_count": null,
   "id": "7f437671-954d-4a80-ae1d-07260011252d",
   "metadata": {
    "tags": []
   },
   "outputs": [],
   "source": [
    "cb_df2=pd.read_csv('data/cb_geocode2.shp.csv', encoding='CP949')\n",
    "cb_df2=cb_df2.iloc[:,1:]\n",
    "cb_df2"
   ]
  },
  {
   "cell_type": "code",
   "execution_count": null,
   "id": "3f9b9931-5c92-401a-b29b-fd9a4b68d46f",
   "metadata": {
    "tags": []
   },
   "outputs": [],
   "source": [
    "cb_df3=pd.read_csv('data/cb_geocode3.shp.csv', encoding='CP949')\n",
    "cb_df3=cb_df3.iloc[:,1:]\n",
    "cb_df3"
   ]
  },
  {
   "cell_type": "code",
   "execution_count": null,
   "id": "76dbfef3-8fae-4f15-8520-0e08d1595c43",
   "metadata": {
    "tags": []
   },
   "outputs": [],
   "source": [
    "cb_df=pd.concat([cb_df1,cb_df2])\n",
    "cb_df"
   ]
  },
  {
   "cell_type": "code",
   "execution_count": null,
   "id": "2cd67194-7d46-4e51-b2e8-45ef93344048",
   "metadata": {
    "tags": []
   },
   "outputs": [],
   "source": [
    "cb_df=pd.concat([cb_df,cb_df3])\n",
    "cb_df"
   ]
  },
  {
   "cell_type": "code",
   "execution_count": null,
   "id": "6bdd8265-7ce3-4679-926e-d03051dffff8",
   "metadata": {},
   "outputs": [],
   "source": [
    "cb_df.info()"
   ]
  },
  {
   "cell_type": "markdown",
   "id": "8ce37db3-92cc-448d-afe1-d0cadf6a93db",
   "metadata": {},
   "source": [
    "# 3. 데이터 모델링\n",
    "- 지도 정보 시각화 라이브러리 설치 및 임포트하기\n",
    "- 주소 좌표 변환 툴 설치 : http://www.gisdeveloper.co.kr/?p=4784\n",
    "    - 설치시 '모든 사람' 체크"
   ]
  },
  {
   "cell_type": "code",
   "execution_count": null,
   "id": "add3b8b0-d8a9-4f36-b69b-8cf33d24ac0d",
   "metadata": {},
   "outputs": [],
   "source": [
    "#pip install folium"
   ]
  },
  {
   "cell_type": "code",
   "execution_count": null,
   "id": "4b1fed55-69af-466d-ba5c-5981baeb1417",
   "metadata": {},
   "outputs": [],
   "source": [
    "import folium"
   ]
  },
  {
   "cell_type": "markdown",
   "id": "dd9e492d-ff1a-4d3c-9217-89f473a55eb5",
   "metadata": {},
   "source": [
    "### 1) 카페 좌표를 사용하여 지도 객체 테스트하기"
   ]
  },
  {
   "cell_type": "code",
   "execution_count": null,
   "id": "84324a0c-041f-4be1-8fd1-50a769e48b6b",
   "metadata": {},
   "outputs": [],
   "source": [
    "map_osm=folium.Map(location=[37.524887,126.927297], zoom_start=16)"
   ]
  },
  {
   "cell_type": "code",
   "execution_count": null,
   "id": "4d3b03d8-b788-4fcb-97da-2513ffbd2662",
   "metadata": {
    "tags": []
   },
   "outputs": [],
   "source": [
    "map_osm.save('data/map.html')\n",
    "map_osm"
   ]
  },
  {
   "cell_type": "code",
   "execution_count": null,
   "id": "6cec2db4-a0b3-4b19-829d-6f38461c7fb0",
   "metadata": {
    "tags": []
   },
   "outputs": [],
   "source": [
    "cb_df"
   ]
  },
  {
   "cell_type": "code",
   "execution_count": null,
   "id": "764b33f8-10e2-486a-91ce-667e705ca524",
   "metadata": {},
   "outputs": [],
   "source": [
    "for i, store in cb_df.iterrows():\n",
    "    folium.Marker(location=[store['위도'],store['경도']],\n",
    "                  popup=store['store'],icon=folium.Icon(color='red',icon='star')).add_to(map_osm)\n",
    "    \n",
    "map_osm.save('data/map_cb.html')\n",
    "map_osm"
   ]
  },
  {
   "cell_type": "code",
   "execution_count": null,
   "id": "90ad35b1-b4ab-4b5b-98c0-0b57af72a0b1",
   "metadata": {},
   "outputs": [],
   "source": [
    "import webbrowser"
   ]
  },
  {
   "cell_type": "code",
   "execution_count": null,
   "id": "458b98c7-6200-4f3f-b84e-7d768b954706",
   "metadata": {
    "tags": []
   },
   "outputs": [],
   "source": [
    "webbrowser.open('C:/LYK/work/python/data/map_cb.html') # 웹 브라우저 오픈시 절대경로로"
   ]
  },
  {
   "cell_type": "markdown",
   "id": "9c244c18-3950-44cb-b095-0ecbe338b0d9",
   "metadata": {},
   "source": [
    "# 클러스터링 하기"
   ]
  },
  {
   "cell_type": "code",
   "execution_count": null,
   "id": "87e6c018-ef71-4f42-924d-d98d20443dca",
   "metadata": {},
   "outputs": [],
   "source": [
    "# 클러스터링 하기\n",
    "\n",
    "from folium import plugins\n",
    "import os\n",
    "\n",
    "map_osm=folium.Map(location=[37.524887,126.927297], zoom_start=10)\n",
    "location=[]\n",
    "popup=[]\n",
    "\n",
    "for i, store in cb_df.iterrows():\n",
    "    location.append([store['위도'],store['경도']])\n",
    "    popup.append(store['store'])\n",
    "\n",
    "plugins.MarkerCluster(location, popup).add_to(map_osm)\n",
    "\n",
    "map_osm.save('data/map_cb_clustering.html')\n",
    "map_osm"
   ]
  },
  {
   "cell_type": "markdown",
   "id": "7202556a-3734-4e46-999d-ee1bad77f206",
   "metadata": {},
   "source": [
    "# 블록맵\n",
    "- 구역의 경계선을 단순화한 뒤 블록 형태로 그려서 지도를 나타내는 시각화 기법\n",
    "- 행정구역별 데이터 크기를 시각화할 때 많이 사용"
   ]
  }
 ],
 "metadata": {
  "kernelspec": {
   "display_name": "Python 3 (ipykernel)",
   "language": "python",
   "name": "python3"
  },
  "language_info": {
   "codemirror_mode": {
    "name": "ipython",
    "version": 3
   },
   "file_extension": ".py",
   "mimetype": "text/x-python",
   "name": "python",
   "nbconvert_exporter": "python",
   "pygments_lexer": "ipython3",
   "version": "3.9.12"
  }
 },
 "nbformat": 4,
 "nbformat_minor": 5
}
