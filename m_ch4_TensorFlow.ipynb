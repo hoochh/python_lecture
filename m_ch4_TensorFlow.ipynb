{
 "cells": [
  {
   "cell_type": "code",
   "execution_count": 1,
   "id": "823ae5a3-8556-4521-b45d-fde992889094",
   "metadata": {},
   "outputs": [
    {
     "data": {
      "text/plain": [
       "'2.9.1'"
      ]
     },
     "execution_count": 1,
     "metadata": {},
     "output_type": "execute_result"
    }
   ],
   "source": [
    "import tensorflow as tf\n",
    "tf.__version__"
   ]
  },
  {
   "cell_type": "code",
   "execution_count": 2,
   "id": "f0427658-9c4b-4fae-bf0c-b300a54034a8",
   "metadata": {},
   "outputs": [
    {
     "name": "stdout",
     "output_type": "stream",
     "text": [
      "WARNING:tensorflow:From C:\\Users\\admin\\anaconda3\\lib\\site-packages\\tensorflow\\python\\compat\\v2_compat.py:107: disable_resource_variables (from tensorflow.python.ops.variable_scope) is deprecated and will be removed in a future version.\n",
      "Instructions for updating:\n",
      "non-resource variables are not supported in the long term\n"
     ]
    }
   ],
   "source": [
    "import tensorflow.compat.v1 as tf\n",
    "tf.disable_v2_behavior()\n",
    "# tensor flow2를 설치했지만 1처럼 사용"
   ]
  },
  {
   "cell_type": "code",
   "execution_count": 3,
   "id": "bf4ad5b0-7100-47b2-867f-fa62fa162cf2",
   "metadata": {},
   "outputs": [
    {
     "name": "stdout",
     "output_type": "stream",
     "text": [
      "b'hello, TensorFlow'\n"
     ]
    }
   ],
   "source": [
    "# 테스트\n",
    "# Tensor Flow1은 세션 생성 후 node 추가\n",
    "\n",
    "hello=tf.constant(\"hello, TensorFlow\")\n",
    "sess=tf.Session()\n",
    "print(sess.run(hello))"
   ]
  },
  {
   "cell_type": "code",
   "execution_count": 4,
   "id": "45a83096-af77-4148-a059-f25427806d40",
   "metadata": {},
   "outputs": [
    {
     "name": "stdout",
     "output_type": "stream",
     "text": [
      "node1=  Tensor(\"Const_1:0\", shape=(), dtype=float32) , node2=  Tensor(\"Const_2:0\", shape=(), dtype=float32) , node3=  Tensor(\"Add:0\", shape=(), dtype=float32)\n"
     ]
    }
   ],
   "source": [
    "# node1, node2 생성\n",
    "node1=tf.constant(3.0, tf.float32)\n",
    "node2=tf.constant(4.0) #명시하지 않았지만 float형\n",
    "node3=tf.add(node1, node2)\n",
    "print(\"node1= \", node1, \", node2= \", node2, \", node3= \", node3)\n",
    "# node3 의 결과값은 나오지 않음"
   ]
  },
  {
   "cell_type": "code",
   "execution_count": 5,
   "id": "c0680776-7e80-4299-893e-1bd8edac3e4d",
   "metadata": {},
   "outputs": [
    {
     "name": "stdout",
     "output_type": "stream",
     "text": [
      "sess.run(node1, node2): [3.0, 4.0]\n",
      "sess.run(node3): 7.0\n"
     ]
    }
   ],
   "source": [
    "# session 생성 후 node test\n",
    "sess=tf.Session()\n",
    "print(\"sess.run(node1, node2):\", sess.run([node1, node2]))\n",
    "print(\"sess.run(node3):\", sess.run(node3))"
   ]
  },
  {
   "cell_type": "markdown",
   "id": "920dde90-29a2-4e30-988a-a54db2a9bff2",
   "metadata": {},
   "source": [
    "### placeholder\n",
    "- 데이터를 나중에 줄 수 있음(dictionary 형태로)"
   ]
  },
  {
   "cell_type": "code",
   "execution_count": 6,
   "id": "fcd8d6d5-dee6-428d-a018-2f4132852442",
   "metadata": {},
   "outputs": [
    {
     "name": "stdout",
     "output_type": "stream",
     "text": [
      "7.5\n",
      "[3. 7.]\n"
     ]
    }
   ],
   "source": [
    "a = tf.placeholder(tf.float32) \n",
    "b = tf.placeholder(tf.float32)\n",
    "adder_node = a + b  # + provides a shortcut for tf.add(a, b) \n",
    "\n",
    "print(sess.run(adder_node, feed_dict={a: 3, b: 4.5}))\n",
    "print(sess.run(adder_node, feed_dict={a: [1,3], b: [2, 4]}))"
   ]
  },
  {
   "cell_type": "code",
   "execution_count": 7,
   "id": "2e8a6664-e2de-4613-8b65-d21cd0ff5211",
   "metadata": {},
   "outputs": [
    {
     "name": "stdout",
     "output_type": "stream",
     "text": [
      "22.5\n"
     ]
    }
   ],
   "source": [
    "add_and_triple = adder_node * 3.\n",
    "print(sess.run(add_and_triple, feed_dict={a: 3, b:4.5}))"
   ]
  },
  {
   "cell_type": "markdown",
   "id": "dfc0d824-2abe-4eb6-a55c-f9d1b0ec7036",
   "metadata": {},
   "source": [
    "### Tensor\n",
    "- everything is Tensor"
   ]
  },
  {
   "cell_type": "code",
   "execution_count": 11,
   "id": "c5c0898d-8e64-4f9d-87a9-8b40eb7eb0cd",
   "metadata": {},
   "outputs": [
    {
     "data": {
      "text/plain": [
       "[[[1.0, 2.0, 3.0]], [[7.0, 8.0, 9.0]]]"
      ]
     },
     "execution_count": 11,
     "metadata": {},
     "output_type": "execute_result"
    }
   ],
   "source": [
    "3  # a rank 0 tensor; this is a scalar with shape []\n",
    "[1. ,2., 3.] # a rank 1 tensor; this is a vector with shape [3]\n",
    "[[1., 2., 3.], [4., 5., 6.]] # a rank 2 tensor; a matrix with shape [2, 3] \n",
    "[[[1., 2., 3.]], [[7., 8., 9.]]] # a rank 3 tensor with shape [2, 1, 3]"
   ]
  },
  {
   "cell_type": "markdown",
   "id": "166adf1a-286a-4fdd-a564-a89904be2e00",
   "metadata": {},
   "source": [
    "# Tensor Flow\n",
    "### regression"
   ]
  },
  {
   "cell_type": "code",
   "execution_count": 26,
   "id": "a3fc09ef-bb18-41f5-8d65-6982a7059975",
   "metadata": {
    "tags": []
   },
   "outputs": [
    {
     "name": "stdout",
     "output_type": "stream",
     "text": [
      "0 1.2410918 [1.3372769] [0.2770358]\n",
      "200 0.0006397092 [0.970695] [0.06661715]\n",
      "400 0.00024426967 [0.9818914] [0.04116517]\n",
      "600 9.3273266e-05 [0.98880994] [0.02543753]\n",
      "800 3.5617097e-05 [0.99308527] [0.01571889]\n",
      "1000 1.3600129e-05 [0.9957271] [0.00971329]\n",
      "1200 5.193264e-06 [0.99735963] [0.00600222]\n",
      "1400 1.9830484e-06 [0.9983684] [0.00370904]\n",
      "1600 7.572789e-07 [0.99899167] [0.00229212]\n",
      "1800 2.8934042e-07 [0.9993767] [0.00141665]\n",
      "2000 1.10547965e-07 [0.9996148] [0.00087578]\n",
      "2200 4.2288963e-08 [0.99976176] [0.00054169]\n",
      "2400 1.6215107e-08 [0.9998523] [0.00033533]\n",
      "2600 6.2163092e-09 [0.9999087] [0.00020774]\n",
      "2800 2.3912083e-09 [0.9999433] [0.00012866]\n",
      "3000 9.134558e-10 [0.9999649] [7.968238e-05]\n",
      "3200 3.6306105e-10 [0.999978] [5.0113184e-05]\n",
      "3400 1.3283732e-10 [0.99998665] [3.036927e-05]\n",
      "3600 5.2295973e-11 [0.99999154] [1.903568e-05]\n",
      "3800 2.3133223e-11 [0.99999434] [1.2563761e-05]\n",
      "4000 1.1869082e-11 [0.9999959] [8.886857e-06]\n",
      "4200 6.8102212e-12 [0.9999968] [6.7851092e-06]\n",
      "4400 4.8251346e-12 [0.99999726] [5.6084073e-06]\n",
      "4600 3.8196577e-12 [0.9999976] [4.9383843e-06]\n",
      "4800 3.2527247e-12 [0.99999774] [4.585694e-06]\n",
      "5000 3.2432362e-12 [0.99999774] [4.4918966e-06]\n",
      "5200 3.2432327e-12 [0.99999774] [4.4902467e-06]\n",
      "5400 3.2432327e-12 [0.99999774] [4.4902276e-06]\n",
      "5600 3.2432327e-12 [0.99999774] [4.4902276e-06]\n",
      "5800 3.2432327e-12 [0.99999774] [4.4902276e-06]\n",
      "6000 3.2432327e-12 [0.99999774] [4.4902276e-06]\n",
      "6200 3.2432327e-12 [0.99999774] [4.4902276e-06]\n",
      "6400 3.2432327e-12 [0.99999774] [4.4902276e-06]\n",
      "6600 3.2432327e-12 [0.99999774] [4.4902276e-06]\n",
      "6800 3.2432327e-12 [0.99999774] [4.4902276e-06]\n",
      "7000 3.2432327e-12 [0.99999774] [4.4902276e-06]\n",
      "7200 3.2432327e-12 [0.99999774] [4.4902276e-06]\n",
      "7400 3.2432327e-12 [0.99999774] [4.4902276e-06]\n",
      "7600 3.2432327e-12 [0.99999774] [4.4902276e-06]\n",
      "7800 3.2432327e-12 [0.99999774] [4.4902276e-06]\n",
      "8000 3.2432327e-12 [0.99999774] [4.4902276e-06]\n"
     ]
    }
   ],
   "source": [
    "#lab 2 Linear Regression\n",
    "import tensorflow.compat.v1 as tf\n",
    "tf.disable_v2_behavior()\n",
    "\n",
    "#import tensorflow as tf\n",
    "tf.set_random_seed(777) # for reproducibility\n",
    "\n",
    "# X and Y data\n",
    "x_train=[1,2,3]\n",
    "y_train=[1,2,3]\n",
    "\n",
    "# Try to find values for W and b to compute y_data = x_data * W + b\n",
    "# We konw that W should be 1 and b should be 0\n",
    "# But let TensorLow figure it out\n",
    "\n",
    "W=tf.Variable(tf.random_normal([1]), name='weight')\n",
    "b=tf.Variable(tf.random_normal([1]), name='bias')\n",
    "\n",
    "# Our hypothesis XW+b\n",
    "hypothesis = x_train * W + b\n",
    "\n",
    "# cost/loss function\n",
    "cost=tf.reduce_mean(tf.square(hypothesis - y_train)) # reduce_mean() : 증감 합의 평균, square() : 제곱\n",
    "\n",
    "# optimizer\n",
    "train=tf.train.GradientDescentOptimizer(learning_rate=0.01).minimize(cost) # 학습율\n",
    "\n",
    "#Launch the graph in a session\n",
    "with tf.Session() as sess:\n",
    "    #Initializes global variables in the graph\n",
    "    sess.run(tf.global_variables_initializer()) # global_variables_initializer() : global 변수 초기화\n",
    "    \n",
    "    # Fit the line\n",
    "    for step in range(8001):\n",
    "        _, cost_val, W_val, b_val = sess.run([train,cost,W,b])\n",
    "        \n",
    "        if step % 200 == 0:\n",
    "            print(step, cost_val, W_val, b_val) # W는 1로 수렴, b는 0으로 수렴"
   ]
  }
 ],
 "metadata": {
  "kernelspec": {
   "display_name": "Python 3 (ipykernel)",
   "language": "python",
   "name": "python3"
  },
  "language_info": {
   "codemirror_mode": {
    "name": "ipython",
    "version": 3
   },
   "file_extension": ".py",
   "mimetype": "text/x-python",
   "name": "python",
   "nbconvert_exporter": "python",
   "pygments_lexer": "ipython3",
   "version": "3.9.12"
  }
 },
 "nbformat": 4,
 "nbformat_minor": 5
}
