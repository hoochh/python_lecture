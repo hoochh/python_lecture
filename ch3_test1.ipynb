{
 "cells": [
  {
   "cell_type": "code",
   "execution_count": 4,
   "id": "2062ce62-dd9f-4da7-863f-6656c1d215fe",
   "metadata": {},
   "outputs": [
    {
     "name": "stdout",
     "output_type": "stream",
     "text": [
      "9\n",
      "3\n"
     ]
    }
   ],
   "source": [
    "# 함수\n",
    "# 값에 의한 호출\n",
    "\n",
    "def f(x):\n",
    "    y=x\n",
    "    x=5\n",
    "    return y*y\n",
    "\n",
    "x=3\n",
    "\n",
    "print(f(x))\n",
    "print(x)"
   ]
  },
  {
   "cell_type": "code",
   "execution_count": 8,
   "id": "e7e2b99f-af67-44a4-bd13-ce2f8ab0f7d4",
   "metadata": {},
   "outputs": [
    {
     "name": "stdout",
     "output_type": "stream",
     "text": [
      "[0, 1, 2, 3, 4]\n"
     ]
    }
   ],
   "source": [
    "# 참조 호출\n",
    "def spam(eggs):\n",
    "    eggs.append(2)\n",
    "    eggs.extend([3,4])\n",
    "    \n",
    "ham=[0,1]\n",
    "spam(ham)\n",
    "\n",
    "print(ham)"
   ]
  },
  {
   "cell_type": "code",
   "execution_count": 30,
   "id": "aea285e7-65f6-42df-8fb6-6903d799f37d",
   "metadata": {},
   "outputs": [
    {
     "name": "stdout",
     "output_type": "stream",
     "text": [
      "In Function x: 10\n",
      "In Function y: 20\n",
      "In Function t: 30\n",
      "Function test2: 30\n",
      "In main x: 10\n",
      "In main y: 30\n"
     ]
    }
   ],
   "source": [
    "# 변수의 사용 범위\n",
    "def test(t):\n",
    "    print(\"In Function x:\",x)\n",
    "    global y # 전역변수인 y 사용\n",
    "    t=20\n",
    "    y=30\n",
    "    print(\"In Function y:\",t)\n",
    "    print(\"In Function t:\",y)\n",
    "    \n",
    "def test2():\n",
    "    print(\"Function test2:\",y)\n",
    "    \n",
    "x=10\n",
    "#y=15\n",
    "test(x)\n",
    "test2()\n",
    "print(\"In main x:\",x)\n",
    "print(\"In main y:\",y)\n",
    "#print(\"In main:\",t) 출력 안 됨"
   ]
  },
  {
   "cell_type": "code",
   "execution_count": 34,
   "id": "dc48fd60-f11a-48bf-941a-289c188f3e40",
   "metadata": {},
   "outputs": [
    {
     "name": "stdin",
     "output_type": "stream",
     "text": [
      "Input Number for Factorial Calculation:  5\n"
     ]
    },
    {
     "name": "stdout",
     "output_type": "stream",
     "text": [
      "120\n"
     ]
    }
   ],
   "source": [
    "# 재귀함수 : 팩토리얼 계산\n",
    "def factorial(n):\n",
    "    if n == 1:\n",
    "        return 1\n",
    "    else:\n",
    "        return n * factorial(n-1)\n",
    "    \n",
    "print(factorial(int(input(\"Input Number for Factorial Calculation: \"))))"
   ]
  },
  {
   "cell_type": "code",
   "execution_count": 22,
   "id": "f89cd427-40d9-40e8-b796-1650a4e76b17",
   "metadata": {},
   "outputs": [],
   "source": [
    "# 함수의 인수- 키워드 인수\n",
    "def func1(x,y):\n",
    "    print(\"x:\",x, \"y:\",y)\n",
    "    print(\"x={0}, y={1}\".format(x,y))\n",
    "    print(\"x=%d, y=%d\"%(x,y))"
   ]
  },
  {
   "cell_type": "code",
   "execution_count": 23,
   "id": "d27b7128-5f56-4dc7-9d11-9094dac03f4c",
   "metadata": {},
   "outputs": [
    {
     "name": "stdout",
     "output_type": "stream",
     "text": [
      "x: 1 y: 2\n",
      "x=1, y=2\n",
      "x=1, y=2\n",
      "x: 1 y: 2\n",
      "x=1, y=2\n",
      "x=1, y=2\n"
     ]
    }
   ],
   "source": [
    "func1(1,2)\n",
    "func1(y=2, x=1)"
   ]
  },
  {
   "cell_type": "code",
   "execution_count": 24,
   "id": "6939c30f-612d-43d9-a4ec-74ec06611ba3",
   "metadata": {},
   "outputs": [],
   "source": [
    "# 가변 인수\n",
    "def func2(a,b,*c):\n",
    "    print(a,b,*c)\n",
    "    print(\"a={0}, b={1}, c={2}\".format(a,b,c))"
   ]
  },
  {
   "cell_type": "code",
   "execution_count": 25,
   "id": "27427f3e-377e-4b5b-83ba-cfac22e5aaf5",
   "metadata": {},
   "outputs": [
    {
     "name": "stdout",
     "output_type": "stream",
     "text": [
      "1 2 3\n",
      "a=1, b=2, c=(3,)\n",
      "1 2 3 4 5\n",
      "a=1, b=2, c=(3, 4, 5)\n"
     ]
    }
   ],
   "source": [
    "func2(1,2,3)\n",
    "func2(1,2,3,4,5)"
   ]
  },
  {
   "cell_type": "code",
   "execution_count": 28,
   "id": "cd954fe2-d835-4a8a-a058-4ae03d2c7a3c",
   "metadata": {},
   "outputs": [],
   "source": [
    "# 키워드 가변 인수\n",
    "def func3(**karg):\n",
    "    print(karg)\n",
    "    print(\"a={a}, b={b}, c={c}\".format(**karg))"
   ]
  },
  {
   "cell_type": "code",
   "execution_count": 29,
   "id": "68d1ca17-5cb5-4819-979c-a836c23e6d33",
   "metadata": {},
   "outputs": [
    {
     "name": "stdout",
     "output_type": "stream",
     "text": [
      "{'a': 1, 'b': 2, 'c': 3}\n",
      "a=1, b=2, c=3\n"
     ]
    }
   ],
   "source": [
    "func3(a=1, b=2, c=3) # json 형태 = 딕셔너리 형태"
   ]
  },
  {
   "cell_type": "code",
   "execution_count": 37,
   "id": "a47ab24f-d4b5-4e36-a8b5-0f1ac35d5fbc",
   "metadata": {},
   "outputs": [],
   "source": [
    "# 디폴트 인수 -마지막 인수부터 디폴트값을 주어야 함 (a, b=10, c)는 안 됨\n",
    "def func4(a,b=10):\n",
    "    print(a,b)"
   ]
  },
  {
   "cell_type": "code",
   "execution_count": 38,
   "id": "c9734d4f-74da-4067-9cbe-ac5e34097704",
   "metadata": {},
   "outputs": [
    {
     "name": "stdout",
     "output_type": "stream",
     "text": [
      "5 10\n",
      "20 30\n"
     ]
    }
   ],
   "source": [
    "func4(5)\n",
    "func4(20,30)"
   ]
  },
  {
   "cell_type": "code",
   "execution_count": 39,
   "id": "f41593f9-2353-4f12-abd8-4e9e75600675",
   "metadata": {},
   "outputs": [],
   "source": [
    "def kwargs_test(one, two, *args, **kwargs):\n",
    "    print(one + two + sum(args))\n",
    "    print(kwargs)"
   ]
  },
  {
   "cell_type": "code",
   "execution_count": 40,
   "id": "0029d88a-dd85-4975-8f32-b52522ea6289",
   "metadata": {},
   "outputs": [
    {
     "name": "stdout",
     "output_type": "stream",
     "text": [
      "42\n",
      "{'first': 3, 'second': 4, 'third': 5}\n"
     ]
    }
   ],
   "source": [
    "kwargs_test(3,4,5,6,7,8,9,first=3, second=4, third=5)"
   ]
  },
  {
   "cell_type": "code",
   "execution_count": 45,
   "id": "46414e8f-508a-4dfe-abe8-15cb0b1c8600",
   "metadata": {},
   "outputs": [
    {
     "name": "stdout",
     "output_type": "stream",
     "text": [
      "a\n",
      "ab\n",
      "ace\n",
      "edcba\n",
      "abcd\n"
     ]
    }
   ],
   "source": [
    "a=\"abcde\"\n",
    "print(a[0])\n",
    "print(a[0:2])\n",
    "print(a[::2]) # step 2로 출력\n",
    "print(a[::-1]) # 역순 정렬\n",
    "print(a[-5:-1])"
   ]
  },
  {
   "cell_type": "code",
   "execution_count": 50,
   "id": "da74c0d8-809f-4f1d-9b6b-74430b7f9cef",
   "metadata": {},
   "outputs": [
    {
     "name": "stdout",
     "output_type": "stream",
     "text": [
      "pythonbigdata\n",
      "pythonpythonpythonpythonpython\n",
      "True\n",
      "python3.9\n"
     ]
    }
   ],
   "source": [
    "a='python'\n",
    "b='bigdata'\n",
    "\n",
    "print(a+b)\n",
    "print(a*5)\n",
    "print('o' in a)\n",
    "# print(a+3.9) 연산 불가능\n",
    "print(a+str(3.9))"
   ]
  },
  {
   "cell_type": "code",
   "execution_count": 57,
   "id": "650569ba-a822-4044-857d-28f26a27b148",
   "metadata": {},
   "outputs": [
    {
     "name": "stdout",
     "output_type": "stream",
     "text": [
      "TEAMLAB X INFLEARN\n",
      "teamlab x inflearn\n",
      "Teamlab X Inflearn\n",
      "Teamlab x inflearn\n",
      "1\n",
      "3\n",
      "False\n",
      "True\n",
      "True\n"
     ]
    }
   ],
   "source": [
    "str1=\"TEAMLAB X inflearn\"\n",
    "print(str1.upper())\n",
    "print(str1.lower())\n",
    "print(str1.title()) # 단어의 첫글자만 대문자로\n",
    "print(str1.capitalize()) # 문장의 첫글자만 대문자로\n",
    "print(str1.count('a')) # 문자 a의 개수\n",
    "print(str1.lower().count('a')) # 문자열 소문자로 변경 후 문자 a의 개수\n",
    "print(str1.isdigit())\n",
    "print(str1.startswith('TEAM'))\n",
    "print(str1.endswith('arn'))"
   ]
  },
  {
   "cell_type": "code",
   "execution_count": 58,
   "id": "a715b35e-b26f-4324-8112-7402b71805a3",
   "metadata": {},
   "outputs": [
    {
     "name": "stdout",
     "output_type": "stream",
     "text": [
      "\n",
      "여러줄의 \n",
      "문장을 \n",
      "작성할 수\n",
      "있습니다\n",
      "\n"
     ]
    }
   ],
   "source": [
    "str2=\"\"\"\n",
    "여러줄의 \n",
    "문장을 \n",
    "작성할 수\n",
    "있습니다\n",
    "\"\"\"\n",
    "\n",
    "print(str2)"
   ]
  },
  {
   "cell_type": "code",
   "execution_count": 60,
   "id": "b2fb6c9f-4ac4-4287-bb2c-5b74dbd1643d",
   "metadata": {},
   "outputs": [
    {
     "data": {
      "text/plain": [
       "['Yesterday all my troubles\\n',\n",
       " 'seemed so far away.\\n',\n",
       " 'Now it looks\\n',\n",
       " \"as though they're here to stay.\\n\",\n",
       " 'Oh, I believe in yesterday.\\n',\n",
       " '\\n',\n",
       " \"Suddenly I'm not half\\n\",\n",
       " 'the man I used to be.\\n',\n",
       " \"There's a shadow hanging over me.\\n\",\n",
       " 'Oh, yesterday came suddenly.\\n',\n",
       " '\\n',\n",
       " 'Why she had to go,\\n',\n",
       " \"I don't know,\\n\",\n",
       " \"she wouldn't say.\\n\",\n",
       " 'I said something wrong,\\n',\n",
       " 'now I long for yesterday.\\n',\n",
       " '\\n',\n",
       " 'Yesterday love was\\n',\n",
       " 'such an easy game to play.\\n',\n",
       " 'Now I need a place to hide away.\\n',\n",
       " 'Oh, I believe in yesterday.\\n',\n",
       " '\\n',\n",
       " 'Why she had to go,\\n',\n",
       " \"I don't know,\\n\",\n",
       " \"she wouldn't say.\\n\",\n",
       " 'I said something wrong,\\n',\n",
       " 'now I long for yesterday.\\n',\n",
       " '\\n',\n",
       " 'Yesterday love was\\n',\n",
       " 'such an easy game to play.\\n',\n",
       " 'Now I need a place to hide away.\\n',\n",
       " 'Oh, I believe in yesterday.\\n',\n",
       " '\\n',\n",
       " 'Mm mm mm mm mm mm mm\\n']"
      ]
     },
     "execution_count": 60,
     "metadata": {},
     "output_type": "execute_result"
    }
   ],
   "source": [
    "f=open('data/yesterday.txt','r') # r은 읽기모드로 오픈\n",
    "yesterday_lines=f.readlines()\n",
    "f.close()\n",
    "yesterday_lines"
   ]
  },
  {
   "cell_type": "code",
   "execution_count": 66,
   "id": "7bc66eba-b112-491a-ab82-7d9d23fdd9b1",
   "metadata": {},
   "outputs": [
    {
     "name": "stdout",
     "output_type": "stream",
     "text": [
      "Number of a word yesterday :  9\n"
     ]
    }
   ],
   "source": [
    "contents=\"\"\n",
    "for line in yesterday_lines:\n",
    "    contents+=line.strip().replace('.',' ').lower()\n",
    "contents\n",
    "\n",
    "number=contents.count('yesterday')\n",
    "print('Number of a word yesterday : ',number)"
   ]
  },
  {
   "cell_type": "code",
   "execution_count": 69,
   "id": "a92272a3-b6f8-4967-8118-821f45c58fa7",
   "metadata": {},
   "outputs": [
    {
     "name": "stdout",
     "output_type": "stream",
     "text": [
      "10,python,3.500000\n"
     ]
    }
   ],
   "source": [
    "a=\"%d,%s,%f\"%(10, 'python',3.5)\n",
    "print(a)"
   ]
  },
  {
   "cell_type": "code",
   "execution_count": 71,
   "id": "2a3901f0-e18d-44c6-8821-566844d3ca39",
   "metadata": {},
   "outputs": [
    {
     "name": "stdout",
     "output_type": "stream",
     "text": [
      "10,python,3.5\n"
     ]
    }
   ],
   "source": [
    "b=\"{},{},{}\".format(10,'python',3.5)\n",
    "print(b)"
   ]
  },
  {
   "cell_type": "code",
   "execution_count": 75,
   "id": "cbad1ff0-3d0b-4e3a-bfa9-5c9a8dfe4acf",
   "metadata": {},
   "outputs": [
    {
     "name": "stdout",
     "output_type": "stream",
     "text": [
      "내 이름은 홍길동이고, 나이는 20살 입니다.\n",
      "내 이름은 홍길동이고, 나이는 20살 입니다.\n"
     ]
    }
   ],
   "source": [
    "name='홍길동'\n",
    "age=20\n",
    "height=175.45\n",
    "s1=\"내 이름은 %s이고, 나이는 %d살 입니다.\"%(name,age)\n",
    "s2=\"내 이름은 {}이고, 나이는 {}살 입니다.\".format(name,age)\n",
    "print(s1)\n",
    "print(s2)"
   ]
  },
  {
   "cell_type": "code",
   "execution_count": 77,
   "id": "87ad1611-409c-460f-8bde-8c5e48a6b65a",
   "metadata": {},
   "outputs": [
    {
     "name": "stdout",
     "output_type": "stream",
     "text": [
      "홍길동       \n",
      "20        \n",
      "175.45    \n"
     ]
    }
   ],
   "source": [
    "name='홍길동'\n",
    "age=20\n",
    "height=175.45\n",
    "print(\"%-10s\"%name)\n",
    "print(\"%-10d\"%age)\n",
    "print(\"%-10.2f\"%height)"
   ]
  },
  {
   "cell_type": "code",
   "execution_count": 82,
   "id": "757f6b82-52fd-4789-b5d2-3c40aa3c02a1",
   "metadata": {},
   "outputs": [
    {
     "name": "stdout",
     "output_type": "stream",
     "text": [
      "홍길동       \n",
      "20        \n",
      "   175.450\n"
     ]
    }
   ],
   "source": [
    "print(\"{0:10s}\".format(name)) # 문자는 디폴트가 왼쪽정렬\n",
    "print(\"{:<10d}\".format(age)) # 왼쪽정렬\n",
    "print(\"{:10.3f}\".format(height)) # 숫자는 디폴트가 오른쪽정렬 .3f는 서식"
   ]
  },
  {
   "cell_type": "code",
   "execution_count": 93,
   "id": "9fc24b68-6868-4036-b434-32c42744f293",
   "metadata": {},
   "outputs": [
    {
     "name": "stdout",
     "output_type": "stream",
     "text": [
      "홍길동       , 20,   175.450\n",
      "       홍길동, 20,   175.450\n"
     ]
    }
   ],
   "source": [
    "print(\"{name:10s},{age:3d},{height:10.3f}\".format(name='홍길동',age=20,height=175.45))\n",
    "print(\"%(name)10s,%(age)3d,%(height)10.3f\"%({'name':'홍길동','age':20,'height':175.45}))"
   ]
  }
 ],
 "metadata": {
  "kernelspec": {
   "display_name": "Python 3 (ipykernel)",
   "language": "python",
   "name": "python3"
  },
  "language_info": {
   "codemirror_mode": {
    "name": "ipython",
    "version": 3
   },
   "file_extension": ".py",
   "mimetype": "text/x-python",
   "name": "python",
   "nbconvert_exporter": "python",
   "pygments_lexer": "ipython3",
   "version": "3.9.12"
  }
 },
 "nbformat": 4,
 "nbformat_minor": 5
}
