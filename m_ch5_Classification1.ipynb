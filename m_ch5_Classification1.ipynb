{
 "cells": [
  {
   "cell_type": "code",
   "execution_count": 1,
   "id": "8bb70308-1cb3-462c-8a94-86e3df48d79e",
   "metadata": {},
   "outputs": [
    {
     "name": "stdout",
     "output_type": "stream",
     "text": [
      "x_data.shape =  (10, 1) , t_data.shape =  (10, 1)\n"
     ]
    }
   ],
   "source": [
    "import numpy as np\n",
    "\n",
    "x_data=np.array([2,4,6,8,10,12,14,16,18,20]).reshape(10,1)\n",
    "t_data=np.array([0,0,0,0,0,0,1,1,1,1,]).reshape(10,1)\n",
    "\n",
    "print(\"x_data.shape = \", x_data.shape, \", t_data.shape = \", t_data.shape)"
   ]
  },
  {
   "cell_type": "code",
   "execution_count": 2,
   "id": "ccc1ef63-243d-4c17-8c82-60e4aff7ba62",
   "metadata": {},
   "outputs": [
    {
     "name": "stdout",
     "output_type": "stream",
     "text": [
      "W =  [[0.10762703]] , W.shape =  (1, 1) b =  [0.2878086] , b.shape =  (1,)\n"
     ]
    }
   ],
   "source": [
    "W=np.random.rand(1,1)\n",
    "b=np.random.rand(1)\n",
    "print(\"W = \", W, \", W.shape = \", W.shape, \"b = \", b, \", b.shape = \", b.shape,)"
   ]
  },
  {
   "cell_type": "code",
   "execution_count": 3,
   "id": "8c3439de-4f43-4a4c-ab26-f7ff6e9b2ee2",
   "metadata": {},
   "outputs": [],
   "source": [
    "# 최종출력은 y=sigmoid(Wx+b) 이며, 손실함수는 cross-entropy 로 나타냄\n",
    "\n",
    "def sigmoid(x):\n",
    "    return 1/(1+np.exp(-x))"
   ]
  },
  {
   "cell_type": "code",
   "execution_count": 4,
   "id": "76d3db69-d072-4f75-a1e3-c84d8abe428c",
   "metadata": {},
   "outputs": [],
   "source": [
    "def loss_func(x,t):\n",
    "    delta=1e-7 # log 무한대 발산 방지\n",
    "    \n",
    "    z=np.dot(x,W)+b\n",
    "    y=sigmoid(z)\n",
    "    \n",
    "    # cross-entropy\n",
    "    return -np.sum(t*np.log(y+delta) + (1-t)*np.log((1-y)+delta))"
   ]
  },
  {
   "cell_type": "code",
   "execution_count": 5,
   "id": "8b8de0d9-3be9-4616-b5df-1ddbbe6e6a4e",
   "metadata": {},
   "outputs": [],
   "source": [
    "def numerical_derivative(f,x):\n",
    "    delta_x= 1e-4\n",
    "    grad=np.zeros_like(x) \n",
    "    # 수치미분 결과를 grad에 저장\n",
    "    # x와 똑같은 shape을 가진 배열(혹은 행렬) 생성 (요소값은 0임)\n",
    "    \n",
    "    it=np.nditer(x,flags=['multi_index'],op_flags=['readwrite'])\n",
    "    #모든 입력변수에 대해 편미분하기 위해 iterator 획득\n",
    "    # iterator 하나 생성. 플래그는 멀티 인덱스 설정\n",
    "    # 멀티 인덱스를 설정하면 다차원 배열이라도 \n",
    "    # 순차적으로 interator 생성 후 값을 꺼낼 수 있음\n",
    "    \n",
    "    while not it.finished:\n",
    "        idx=it.multi_index\n",
    "        \n",
    "        tmp_val=x[idx] \n",
    "        # 임시 변수로 x[idx] 의 원값을 저장\n",
    "        # numpy 타입은 mutable 이므로 원래 값 보관\n",
    "        \n",
    "        x[idx]=float(tmp_val)+delta_x # 전향 차분\n",
    "        fx1=f(x) #f(x+delta_x) # 첫번째 인자로 들어온 함수를 대입\n",
    "        \n",
    "        x[idx]=tmp_val-delta_x # 후향 차분\n",
    "        fx2=f(x) #f(x-delta_x) # 첫번째 인자로 들어온 함수를 다시 대입\n",
    "        \n",
    "        grad[idx]=(fx1-fx2)/(2*delta_x) # 미분 결과를 grad에...\n",
    "        \n",
    "        x[idx]=tmp_val\n",
    "        it.iternext()\n",
    "        \n",
    "    return grad"
   ]
  },
  {
   "cell_type": "code",
   "execution_count": 6,
   "id": "a63c383a-e95f-4356-a0cc-66a75e34ff13",
   "metadata": {},
   "outputs": [],
   "source": [
    "def error_val(x,t):\n",
    "    delta=1e-7 # log 무한대 발산 방지\n",
    "    \n",
    "    z=np.dot(x,W)+b\n",
    "    y=sigmoid(z)\n",
    "    \n",
    "    return -np.sum(t*np.log(y+delta) + (1-t)*np.log((1-y)+delta))"
   ]
  },
  {
   "cell_type": "code",
   "execution_count": 7,
   "id": "2841a0dd-432e-47a7-a5c5-414af84b46d8",
   "metadata": {},
   "outputs": [],
   "source": [
    "def predict(x):\n",
    "    \n",
    "    z=np.dot(x,W)+b\n",
    "    y=sigmoid(z)\n",
    "    \n",
    "    if y>=0.5:\n",
    "        result=1 #True\n",
    "    else:\n",
    "        result=0 #False\n",
    "    return y, result"
   ]
  },
  {
   "cell_type": "code",
   "execution_count": 8,
   "id": "5283c11a-5412-4b90-aa0a-9799a0bc2a6f",
   "metadata": {},
   "outputs": [
    {
     "name": "stdout",
     "output_type": "stream",
     "text": [
      "Initial error value =  8.604865620619433 Initial W =  [[0.10762703]] \n",
      " ,b= [0.2878086]\n",
      "step =  0 error value =  11.524139638707236 W =  [[-0.14223057]] ,b =  [0.30310087]\n",
      "step =  400 error value =  2.6956262366308006 W =  [[0.29001918]] ,b =  [-4.21208802]\n",
      "step =  800 error value =  1.7664503844483672 W =  [[0.45776647]] ,b =  [-5.69978424]\n",
      "step =  1200 error value =  1.5079540201781607 W =  [[0.53405854]] ,b =  [-6.7155086]\n",
      "step =  1600 error value =  1.3457040783241603 W =  [[0.59472265]] ,b =  [-7.52098492]\n",
      "step =  2000 error value =  1.2310058603937537 W =  [[0.64585227]] ,b =  [-8.19839719]\n",
      "step =  2400 error value =  1.1439390285152264 W =  [[0.69048014]] ,b =  [-8.78862882]\n",
      "step =  2800 error value =  1.0746403341282422 W =  [[0.73035162]] ,b =  [-9.31518688]\n",
      "step =  3200 error value =  1.0175897720937837 W =  [[0.7665706]] ,b =  [-9.79292342]\n",
      "step =  3600 error value =  0.9694214712730984 W =  [[0.79988338]] ,b =  [-10.2318677]\n",
      "step =  4000 error value =  0.9279484112271119 W =  [[0.8308201]] ,b =  [-10.63913641]\n",
      "step =  4400 error value =  0.8916781115061111 W =  [[0.85977211]] ,b =  [-11.01997722]\n",
      "step =  4800 error value =  0.8595515243036349 W =  [[0.88703727]] ,b =  [-11.37838003]\n",
      "step =  5200 error value =  0.8307928681880818 W =  [[0.912848]] ,b =  [-11.71745533]\n",
      "step =  5600 error value =  0.8048186376458875 W =  [[0.93738951]] ,b =  [-12.03967909]\n",
      "step =  6000 error value =  0.7811800408576488 W =  [[0.96081196]] ,b =  [-12.34705721]\n",
      "step =  6400 error value =  0.759525241833452 W =  [[0.98323895]] ,b =  [-12.64123951]\n",
      "step =  6800 error value =  0.7395738166164681 W =  [[1.00477357]] ,b =  [-12.92360077]\n",
      "step =  7200 error value =  0.7210990059229705 W =  [[1.02550278]] ,b =  [-13.19529982]\n",
      "step =  7600 error value =  0.7039150948127914 W =  [[1.04550065]] ,b =  [-13.45732329]\n",
      "step =  8000 error value =  0.6878682529358227 W =  [[1.06483088]] ,b =  [-13.71051886]\n",
      "step =  8400 error value =  0.6728297648564543 W =  [[1.08354867]] ,b =  [-13.95562065]\n",
      "step =  8800 error value =  0.6586909451814051 W =  [[1.10170218]] ,b =  [-14.19326906]\n",
      "step =  9200 error value =  0.6453592632471347 W =  [[1.11933374]] ,b =  [-14.42402641]\n",
      "step =  9600 error value =  0.6327553505945007 W =  [[1.13648076]] ,b =  [-14.6483894]\n",
      "step =  10000 error value =  0.6208106624103256 W =  [[1.15317647]] ,b =  [-14.86679918]\n"
     ]
    }
   ],
   "source": [
    "learning_rate=1e-2 # 발산할 때 1e-3~1e-6 값 바꿔 시도\n",
    "\n",
    "f=lambda x: loss_func(x_data,t_data)\n",
    "print(\"Initial error value = \", error_val(x_data,t_data), \"Initial W = \", W, \"\\n\", \",b=\",b)\n",
    "\n",
    "for step in range(10001):\n",
    "    W -= learning_rate * numerical_derivative(f,W)\n",
    "    b -= learning_rate * numerical_derivative(f,b)\n",
    "    \n",
    "    if(step % 400 == 0):\n",
    "        print(\"step = \", step, \"error value = \", error_val(x_data, t_data), \"W = \", W, \",b = \", b)"
   ]
  },
  {
   "cell_type": "code",
   "execution_count": 9,
   "id": "ab828c0a-c190-46af-bae0-ef33b0fd49d7",
   "metadata": {},
   "outputs": [
    {
     "name": "stdout",
     "output_type": "stream",
     "text": [
      "[[1.11142679e-05]] 0\n"
     ]
    }
   ],
   "source": [
    "(real_val, logical_val)=predict(3)\n",
    "print(real_val,logical_val)"
   ]
  },
  {
   "cell_type": "code",
   "execution_count": 10,
   "id": "d3df1187-2d0e-4d24-a7e7-88a3b982b494",
   "metadata": {},
   "outputs": [
    {
     "name": "stdout",
     "output_type": "stream",
     "text": [
      "[[0.99131298]] 1\n"
     ]
    }
   ],
   "source": [
    "(real_val, logical_val)=predict(17)\n",
    "print(real_val,logical_val)"
   ]
  }
 ],
 "metadata": {
  "kernelspec": {
   "display_name": "Python 3 (ipykernel)",
   "language": "python",
   "name": "python3"
  },
  "language_info": {
   "codemirror_mode": {
    "name": "ipython",
    "version": 3
   },
   "file_extension": ".py",
   "mimetype": "text/x-python",
   "name": "python",
   "nbconvert_exporter": "python",
   "pygments_lexer": "ipython3",
   "version": "3.9.12"
  }
 },
 "nbformat": 4,
 "nbformat_minor": 5
}
