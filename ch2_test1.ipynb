{
 "cells": [
  {
   "cell_type": "code",
   "execution_count": null,
   "id": "ccb13a53-0c14-4dc0-81e0-4ed0d23455f3",
   "metadata": {},
   "outputs": [],
   "source": [
    "a=1\n",
    "b=2\n",
    "print(a,b,10)"
   ]
  },
  {
   "cell_type": "code",
   "execution_count": null,
   "id": "d266586a-ad57-4fe5-820f-96468c11b4be",
   "metadata": {},
   "outputs": [],
   "source": [
    "a=1.5\n",
    "b=3.5\n",
    "print(a,b,12.5)"
   ]
  },
  {
   "cell_type": "code",
   "execution_count": null,
   "id": "0a970d59-7bea-4004-b043-b12eb371aa68",
   "metadata": {},
   "outputs": [],
   "source": [
    "s1=\"홍길동\"\n",
    "s2='학생'\n",
    "print(s1,s2)"
   ]
  },
  {
   "cell_type": "code",
   "execution_count": null,
   "id": "98f86a7d-b847-40dd-a4c8-83bcd5e1558d",
   "metadata": {},
   "outputs": [],
   "source": [
    "b1=True\n",
    "b2=False\n",
    "print(b1,b2)\n",
    "print(s1==b2)\n",
    "print(s1*10)\n",
    "print(s1+s2)\n",
    "print(s1+str(10)) #숫자 + 문자열 불가능 > 숫자를 문자열로 변환하여 결합"
   ]
  },
  {
   "cell_type": "code",
   "execution_count": null,
   "id": "d2afa2bf-4665-4963-9c4e-40d3961d27ca",
   "metadata": {},
   "outputs": [],
   "source": [
    "a=10\n",
    "b=3\n",
    "print(a+b)\n",
    "print(a-b)\n",
    "print(a*b)\n",
    "print(a/b)\n",
    "print(a**b)\n",
    "print(a//b)\n",
    "print(a%b)"
   ]
  },
  {
   "cell_type": "code",
   "execution_count": null,
   "id": "bd0dac9d-9270-47e1-afc9-ed5ce537ab30",
   "metadata": {},
   "outputs": [],
   "source": [
    "# 증감연산 불가, 대입연산 가능\n",
    "a=10\n",
    "b=5\n",
    "print(a>b)\n",
    "print(a<b)\n",
    "print(a>=b)\n",
    "print(a<=b)\n",
    "print(a==b)\n",
    "print(a!=b)"
   ]
  },
  {
   "cell_type": "code",
   "execution_count": null,
   "id": "a200d076-5cc6-461c-a9b4-c662d3c4d25f",
   "metadata": {},
   "outputs": [],
   "source": [
    "#비트연산자\n",
    "print(a<<1) #a=1010, b=0101\n",
    "print(a>>1)\n",
    "print(a&b) #0000\n",
    "print(a|b) #1111\n",
    "print(a^b) #1111\n",
    "print(~a) #\n",
    "print(~b)"
   ]
  },
  {
   "cell_type": "code",
   "execution_count": null,
   "id": "ffe18fa7-3f43-4828-9a23-636a854b3757",
   "metadata": {},
   "outputs": [],
   "source": [
    "# 논리연산자\n",
    "print(a>5 and b>5)\n",
    "print(a>5 or b>5)\n",
    "print(not(a>5))"
   ]
  },
  {
   "cell_type": "code",
   "execution_count": null,
   "id": "c49db04f-b935-4ae4-b2e9-646614414271",
   "metadata": {},
   "outputs": [],
   "source": [
    "# 형변환\n",
    "a=3.5\n",
    "b=int(a)\n",
    "print(int(a))\n",
    "c=float(b)\n",
    "print(c)\n",
    "print(\"python\" + str(c))\n",
    "print(10/3)\n",
    "print(1==True)\n",
    "print(0==False)"
   ]
  },
  {
   "cell_type": "code",
   "execution_count": null,
   "id": "02223039-0fd3-43e6-be4d-714e25f57be4",
   "metadata": {},
   "outputs": [],
   "source": [
    "# 자료형 확인하기\n",
    "a=10\n",
    "b=3.5\n",
    "c='python'\n",
    "print(type(a))\n",
    "print(type(b))\n",
    "print(type(c))"
   ]
  },
  {
   "cell_type": "code",
   "execution_count": null,
   "id": "80867625-fdd5-4716-bb3f-e9fc88266dfe",
   "metadata": {},
   "outputs": [],
   "source": [
    "# 입출력 함수\n",
    "name=\"홍길동\"\n",
    "age=10\n",
    "height=180.4\n",
    "weight=70.6\n",
    "print(\"내 이름은\",name,\"이고, 나이는\",age,\"입니다\")\n",
    "print(\"내 이름은 \"+name+\"이고, 나이는 \"+str(age)+\"입니다\")\n",
    "print(\"내 이름은 %s이고, 나이는 %d입니다\"%(name,age))\n",
    "print(\"내 이름은 %s이고, 키는 %f, 몸무게는 %f입니다\"%(name,height,weight))\n",
    "print(\"내 이름은 %s이고, 키는 %.1f, 몸무게는 %.1f입니다\"%(name,height,weight))"
   ]
  },
  {
   "cell_type": "code",
   "execution_count": null,
   "id": "173f30f6-676b-46b7-b1c3-c9a638dfda24",
   "metadata": {},
   "outputs": [],
   "source": [
    "# 입력함수\n",
    "print('이름을 입력하세요')\n",
    "name=input()\n",
    "print(name)"
   ]
  },
  {
   "cell_type": "code",
   "execution_count": null,
   "id": "35ce1ca1-d40e-4d95-ac4e-3cc2f5ffe92b",
   "metadata": {},
   "outputs": [],
   "source": [
    "name=input('이름을 입력하세요')\n",
    "print(name)"
   ]
  },
  {
   "cell_type": "code",
   "execution_count": null,
   "id": "9cd4ef49-06ed-40c9-b707-993d14f13ba4",
   "metadata": {},
   "outputs": [],
   "source": [
    "score=input('점수 입력') # int(input('점수입력'))으로 작성하면 숫자로 취급\n",
    "print(score*2) # 입력한 내용은 문자열로 취급"
   ]
  },
  {
   "cell_type": "code",
   "execution_count": null,
   "id": "60f3c995-9509-4815-9bfc-076cd147c4c6",
   "metadata": {},
   "outputs": [],
   "source": [
    "score1=float(input('점수1 입력'))\n",
    "score2=float(input('점수2 입력'))\n",
    "score3=float(input('점수3 입력'))\n",
    "print(name, end=\" : \")\n",
    "avg=(score1+score2+score3)/3\n",
    "print(score1, score2, score3, avg)"
   ]
  },
  {
   "cell_type": "code",
   "execution_count": null,
   "id": "4803574d-48f1-4644-92be-253f2628a210",
   "metadata": {},
   "outputs": [],
   "source": [
    "print('본 프로그램은 섭씨온도를 화씨온도로 변환하는 프로그램입니다.')\n",
    "print('변환하고 싶은 섭씨온도를 입력하세요.')\n",
    "\n",
    "cel=input()\n",
    "fire=(float(cel)*1.8)+32\n",
    "\n",
    "print(\"섭씨온도: \",cel)\n",
    "print(\"화씨온도: \",fire)"
   ]
  },
  {
   "cell_type": "code",
   "execution_count": null,
   "id": "3374b43c-b295-44f8-9442-bee5f27b0256",
   "metadata": {},
   "outputs": [],
   "source": [
    "a=[1,2,3,4,5]\n",
    "print(a[0],a[2])"
   ]
  },
  {
   "cell_type": "code",
   "execution_count": null,
   "id": "91f8a8a9-36c5-4387-b0cb-f6c8ebbcc8a8",
   "metadata": {},
   "outputs": [],
   "source": [
    "cities=['서울','부산','인천','대구','대전','광주','울산','수원']"
   ]
  },
  {
   "cell_type": "code",
   "execution_count": null,
   "id": "b46ac0fa-043d-4a7f-9340-99f5ebafb732",
   "metadata": {},
   "outputs": [],
   "source": [
    "print(cities)\n",
    "print(len(cities))"
   ]
  },
  {
   "cell_type": "code",
   "execution_count": null,
   "id": "5584750f-f78a-4815-bb74-5b54fd23233a",
   "metadata": {},
   "outputs": [],
   "source": [
    "#슬라이싱 변수명[시작 인덱스:마지막 인덱스]\n",
    "print(cities[0:3])\n",
    "print(cities[:3])\n",
    "print(cities[4:])\n",
    "print(cities[:])\n",
    "print(cities[::2])\n",
    "print(cities[::-1]) # step이 -1이면 역순\n",
    "print(cities[-4:-1]) # -1부터 -4 바로 앞까지\n",
    "print(cities[:-1])\n",
    "cities1=cities[:-1]\n",
    "cities2=cities[-1]\n",
    "print(cities1)\n",
    "print(cities2)"
   ]
  },
  {
   "cell_type": "code",
   "execution_count": null,
   "id": "41ec45f9-3a20-4bee-af30-9fed7b6f6dc9",
   "metadata": {},
   "outputs": [],
   "source": [
    "# 중복값이 있는 경우 - 중복되는 요소도 모두 포함\n",
    "color1=['red','blue','green']\n",
    "color2=['red','black','white']\n",
    "colors=color1+color2\n",
    "print(colors)\n",
    "print(color1*2) # 두 번 반복\n",
    "print('blue' in color1) # '~' 요소가 리스트 내에 존재하는지 여부\n",
    "print('blue' in color2)"
   ]
  },
  {
   "cell_type": "code",
   "execution_count": null,
   "id": "469cf48f-0c34-482d-a178-2022e65ea1ec",
   "metadata": {},
   "outputs": [],
   "source": [
    "# 요소를 하나씩 추가\n",
    "color1.append('purple')\n",
    "print(color1)\n",
    "# 리스트를 추가\n",
    "color1.extend(['pink','white'])\n",
    "print(color1)"
   ]
  },
  {
   "cell_type": "code",
   "execution_count": null,
   "id": "949e8f84-ce0a-4a36-9562-1cabac1f8b9f",
   "metadata": {},
   "outputs": [],
   "source": [
    "# 위치를 지정하여 추가\n",
    "color1.insert(1,'pink')\n",
    "color1"
   ]
  },
  {
   "cell_type": "code",
   "execution_count": null,
   "id": "14d9a5aa-8b30-4b43-a2da-b17a98d23bcb",
   "metadata": {},
   "outputs": [],
   "source": [
    "# 지우고 싶은 오브젝트 명을 작성\n",
    "color1.remove('red')\n",
    "color1"
   ]
  },
  {
   "cell_type": "code",
   "execution_count": null,
   "id": "f0e570d3-89be-4334-8ea3-6ccf18239e0e",
   "metadata": {},
   "outputs": [],
   "source": [
    "# 인덱스로 지우기\n",
    "del color1[0]\n",
    "color1"
   ]
  },
  {
   "cell_type": "code",
   "execution_count": null,
   "id": "918ede1c-bb03-443d-a7b1-30a1b043cc4a",
   "metadata": {},
   "outputs": [],
   "source": [
    "# 특정 인덱스 위치의 값을 바꾸기\n",
    "color1[0]='red'\n",
    "print(color1)"
   ]
  },
  {
   "cell_type": "code",
   "execution_count": null,
   "id": "9b7b7609-90a0-400c-bcfe-38b885c9be9e",
   "metadata": {},
   "outputs": [],
   "source": [
    "# 언패킹 : 리스트의 각 요소를 뽑아 다른 변수에 할당하는 것\n",
    "t=[1,2,3]\n",
    "a,b,c=t\n",
    "print(a,b,c)"
   ]
  },
  {
   "cell_type": "code",
   "execution_count": null,
   "id": "ca4730cb-0e86-4faa-b5f6-2878a8f293a0",
   "metadata": {},
   "outputs": [],
   "source": [
    "a,*b=t # 리스트의 값이 변수 개수보다 많을 때 *b와 같이 나머지를 리스트로 전달\n",
    "print(a,b)\n",
    "print(a,*b) # *b로 출력하여 언패킹\n",
    "print(t)\n",
    "print(*t)"
   ]
  },
  {
   "cell_type": "code",
   "execution_count": null,
   "id": "74ee7ed0-b97a-4803-b8da-d7d37d528ef5",
   "metadata": {},
   "outputs": [],
   "source": [
    "a=[1,'python',[10,20]]\n",
    "print(a)\n",
    "print(*a)\n",
    "print(*a[2])\n",
    "k1,k2,k3=a\n",
    "print(k1,k2,k3)"
   ]
  },
  {
   "cell_type": "code",
   "execution_count": null,
   "id": "4b293a6f-0459-43a2-b7d2-2d0f908c4625",
   "metadata": {},
   "outputs": [],
   "source": [
    "# 이차원 리스트: 1차원 리스트를 생성 > 1차원 리스트를 요소로 가지는 새 리스트 생성\n",
    "kor=[49,79,20,100,82]\n",
    "math=[43,59,85,30,90]\n",
    "eng=[49,79,48,60,100]\n",
    "scores=[kor,math,eng]\n",
    "print(scores)\n",
    "print(scores[0][1])\n",
    "scores[1][0]=100 # 지정 위치의 요소 값 변경\n",
    "print(scores)"
   ]
  },
  {
   "cell_type": "code",
   "execution_count": null,
   "id": "3f55174e-5596-4dd3-9926-2dd86abfb3c7",
   "metadata": {},
   "outputs": [],
   "source": [
    "# 1~256사이의 값은 상수풀에 저장되므로 같은 숫자를 변수에 할당한 경우\n",
    "# 같은 ref를 가지고 있음\n",
    "a=1\n",
    "b=1\n",
    "print(a is b)\n",
    "print(a==b)\n",
    "\n",
    "c=300\n",
    "d=300\n",
    "print(c is d)\n",
    "print(c==d)"
   ]
  },
  {
   "cell_type": "code",
   "execution_count": null,
   "id": "bb70d31c-d16c-4b43-840a-f45c6219b9d2",
   "metadata": {},
   "outputs": [],
   "source": [
    "a=[5,4,3,2,1]\n",
    "b=a\n",
    "b.sort() # 오름차순 정렬\n",
    "print(a)"
   ]
  },
  {
   "cell_type": "code",
   "execution_count": null,
   "id": "64d2ae8c-270e-4603-9113-32817bc69c95",
   "metadata": {},
   "outputs": [],
   "source": [
    "print(\"Tell me your age?\")\n",
    "myage=int(input())\n",
    "if myage < 30:\n",
    "    print(\"Welcome to the Club.\")\n",
    "else:\n",
    "    print(\"Oh! No. You are not accepted.\")"
   ]
  },
  {
   "cell_type": "code",
   "execution_count": null,
   "id": "f0e5942f-8340-41ab-abcd-af6facc23543",
   "metadata": {},
   "outputs": [],
   "source": [
    "# 비교연산자(참 /거짓)\n",
    "print((1>10)<20) # 1>10 => false = 0 (0)<20 => true =>> true"
   ]
  },
  {
   "cell_type": "code",
   "execution_count": null,
   "id": "da4a1888-805b-4cef-8db2-4d9886c4c63d",
   "metadata": {},
   "outputs": [],
   "source": [
    "# if - else if - else문\n",
    "score=int(input('점수입력'))\n",
    "\n",
    "if score>=90:\n",
    "    print('A')\n",
    "elif score>=80:\n",
    "    print('B')\n",
    "elif score>=70:\n",
    "    print('C')\n",
    "else:\n",
    "    print('F')"
   ]
  },
  {
   "cell_type": "code",
   "execution_count": null,
   "id": "4b706a59-eae0-49e5-b77d-d5673c9294f9",
   "metadata": {},
   "outputs": [],
   "source": [
    "year=int(input('당신이 태어난 연도를 입력하세요.'))\n",
    "age = 2022 - year + 1\n",
    "\n",
    "if 26<age or 8>age:\n",
    "    print(age,'학생이 아닙니다')\n",
    "elif age<=13:\n",
    "    print(age,'초등학생')\n",
    "elif age<=16:\n",
    "    print(age,'중학생')\n",
    "elif age<=19:\n",
    "    print(age,'고등학생')\n",
    "else:\n",
    "    print(age,'대학생')"
   ]
  },
  {
   "cell_type": "code",
   "execution_count": null,
   "id": "f3ad40a8-548c-4164-867f-ad69d17f6fb6",
   "metadata": {},
   "outputs": [],
   "source": [
    "a=[1,2,3,4,5]\n",
    "\n",
    "# 1. in 을 이용하여 collection의 값을 꺼내는 방식\n",
    "for i in a:\n",
    "    print(i, end=\" \")"
   ]
  },
  {
   "cell_type": "code",
   "execution_count": null,
   "id": "3258782f-a538-4d1d-9877-3296f2c4aff4",
   "metadata": {},
   "outputs": [],
   "source": [
    "# 2. in 0부터 10 바로 앞까지 step 1로 꺼냄\n",
    "for i in range(0,10,1):\n",
    "    print(i, end=\" \")"
   ]
  },
  {
   "cell_type": "code",
   "execution_count": null,
   "id": "00d0c8af-a1e7-4aeb-b94a-0d2defccdb00",
   "metadata": {},
   "outputs": [],
   "source": [
    "# 2-1. (0,10,1) -> (10)으로 생략 가능\n",
    "for i in range(10):\n",
    "    print(i, end=\" \")"
   ]
  },
  {
   "cell_type": "code",
   "execution_count": null,
   "id": "8e0e68b4-3d7b-40e8-a8ae-e4880da79205",
   "metadata": {},
   "outputs": [],
   "source": [
    "for i in range(0,100,10):\n",
    "    print(i, end=\" \")"
   ]
  },
  {
   "cell_type": "code",
   "execution_count": null,
   "id": "6b2426b9-bf6a-4f7d-be71-c1054afc2904",
   "metadata": {},
   "outputs": [],
   "source": [
    "s=\"python\"\n",
    "for i in s:\n",
    "    print(i, end=\" \")"
   ]
  },
  {
   "cell_type": "code",
   "execution_count": null,
   "id": "075a5cb4-5231-44a8-bcd6-40c8c1b37db2",
   "metadata": {},
   "outputs": [],
   "source": [
    "str=['python','java','c#']\n",
    "for i in str:\n",
    "    for j in i:\n",
    "        print(j, end=\" \")\n",
    "    print()"
   ]
  },
  {
   "cell_type": "code",
   "execution_count": null,
   "id": "2eba09e9-f152-40c5-982c-a4c41b3698fe",
   "metadata": {},
   "outputs": [],
   "source": [
    "# 역순으로 출력\n",
    "for i in range(10,0,-2):\n",
    "    print(i)"
   ]
  },
  {
   "cell_type": "code",
   "execution_count": null,
   "id": "e69823e3-5679-49cf-b565-629675a79cea",
   "metadata": {},
   "outputs": [],
   "source": [
    "# while문\n",
    "i=1\n",
    "sum=0\n",
    "\n",
    "while i<10:\n",
    "    sum+=i\n",
    "    print(i, sum)\n",
    "    i+=1"
   ]
  },
  {
   "cell_type": "code",
   "execution_count": null,
   "id": "0314ef6c-d09d-46ce-b9fd-05b13688fecc",
   "metadata": {},
   "outputs": [],
   "source": [
    "# break\n",
    "for i in range(10):\n",
    "    if i==5:\n",
    "        break\n",
    "    print(i)\n",
    "print(\"End of progress\")"
   ]
  },
  {
   "cell_type": "code",
   "execution_count": null,
   "id": "8e8e69ed-25ad-4fea-9ee8-5cb038914e22",
   "metadata": {},
   "outputs": [],
   "source": [
    "i=1\n",
    "sum=0\n",
    "\n",
    "while i<100:\n",
    "    sum+=i\n",
    "    print(i, sum)\n",
    "    i+=1\n",
    "    if(sum>50):\n",
    "        break"
   ]
  },
  {
   "cell_type": "code",
   "execution_count": null,
   "id": "4e054ff9-16c5-4ed0-a3f5-aa4bd2904980",
   "metadata": {},
   "outputs": [],
   "source": [
    "for i in range(50):\n",
    "    if(i%3==0):continue\n",
    "    print(i)"
   ]
  },
  {
   "cell_type": "code",
   "execution_count": null,
   "id": "83a22505-ac39-40f6-8428-74b51fd80af9",
   "metadata": {},
   "outputs": [],
   "source": [
    "str=\"I love you\"\n",
    "revstr=''\n",
    "\n",
    "for i in str:\n",
    "    revstr=i+revstr\n",
    "print(revstr)\n",
    "\n",
    "revstr=str[::-1]\n",
    "print(revstr)"
   ]
  },
  {
   "cell_type": "code",
   "execution_count": null,
   "id": "4bc9014b-ad24-48cd-9c99-977e39ad49a3",
   "metadata": {},
   "outputs": [],
   "source": [
    "decimal = 10\n",
    "result=''\n",
    "while(decimal>0):\n",
    "    remainder=decimal%2\n",
    "    decimal=decimal//2\n",
    "    result=str(remainder)+result\n",
    "print(result)"
   ]
  },
  {
   "cell_type": "code",
   "execution_count": null,
   "id": "bf0ac4bc-db7c-49d9-a594-92b5e42b886f",
   "metadata": {},
   "outputs": [],
   "source": [
    "kor=[49,80,20,100,80]\n",
    "math=[43,60,85,30,90]\n",
    "eng=[49,82,48,50,100]\n",
    "\n",
    "scores=[kor,math,eng]\n",
    "\n",
    "avg=[0.0,0.0,0.0,0.0,0.0]\n",
    "\n",
    "for i in range(len(scores)):\n",
    "    for j in range(len(scores[i])):\n",
    "        avg[j]+=scores[i][j]\n",
    "    \n",
    "a,b,c,d,e=avg\n",
    "avg=[a/3,b/3,c/3,d/3,e/3]\n",
    "print(avg)"
   ]
  }
 ],
 "metadata": {
  "kernelspec": {
   "display_name": "Python 3 (ipykernel)",
   "language": "python",
   "name": "python3"
  },
  "language_info": {
   "codemirror_mode": {
    "name": "ipython",
    "version": 3
   },
   "file_extension": ".py",
   "mimetype": "text/x-python",
   "name": "python",
   "nbconvert_exporter": "python",
   "pygments_lexer": "ipython3",
   "version": "3.9.12"
  }
 },
 "nbformat": 4,
 "nbformat_minor": 5
}
