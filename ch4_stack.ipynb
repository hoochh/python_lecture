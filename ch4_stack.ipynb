{
 "cells": [
  {
   "cell_type": "code",
   "execution_count": null,
   "id": "811673ea-7e5c-46e6-9c55-ff14b64fecd8",
   "metadata": {},
   "outputs": [],
   "source": [
    "a=[1,2,3,4,5]\n",
    "a.append(10)\n",
    "a.append(20)\n",
    "a"
   ]
  },
  {
   "cell_type": "code",
   "execution_count": null,
   "id": "ea95666a-8b6e-4835-96db-a3bbb36f1a1e",
   "metadata": {},
   "outputs": [],
   "source": [
    "a.pop(0)"
   ]
  },
  {
   "cell_type": "code",
   "execution_count": null,
   "id": "66ff85dd-ced3-4539-9570-3e539ca05442",
   "metadata": {},
   "outputs": [],
   "source": [
    "print(a)"
   ]
  },
  {
   "cell_type": "code",
   "execution_count": null,
   "id": "bd76f012-7174-4c50-b944-2dcf6a42f225",
   "metadata": {},
   "outputs": [],
   "source": [
    "word = input(\"Input a word: \")\n",
    "word_list = list(word)\n",
    "print(word_list)\n",
    "\n",
    "result=[]\n",
    "for _ in range(len(word_list)):\n",
    "    result.append(word_list.pop())\n",
    "    \n",
    "print(result)\n",
    "print(word[::-1])"
   ]
  },
  {
   "cell_type": "code",
   "execution_count": null,
   "id": "d880d285-2473-4cfb-855a-daa5b636e10b",
   "metadata": {},
   "outputs": [],
   "source": [
    "t=(1,2,3)\n",
    "#t.append(4) append(수정) 불가\n",
    "print(t[0])\n",
    "#t[0]=10 값 수정 불가\n",
    "print(t+t)\n",
    "print(t*3)"
   ]
  },
  {
   "cell_type": "code",
   "execution_count": null,
   "id": "8ae987f7-b7c1-4aec-a6d3-1f658462e92e",
   "metadata": {},
   "outputs": [],
   "source": [
    "list1=[]\n",
    "list2=list(\"abcd\")\n",
    "print(list1, list2)"
   ]
  },
  {
   "cell_type": "code",
   "execution_count": null,
   "id": "d834ddc6-f64f-40c6-aa83-08b40bba461f",
   "metadata": {},
   "outputs": [],
   "source": [
    "t1=()\n",
    "t2=tuple([1,2,3,4]) # tuple을 선언하고 만들 경우 반드시 한 덩어리로 넣어줘야 함\n",
    "print(t1, t2)"
   ]
  },
  {
   "cell_type": "code",
   "execution_count": null,
   "id": "b4b1b36b-849b-4e96-ba2d-4fed5ec1bc3c",
   "metadata": {},
   "outputs": [],
   "source": [
    "print(t2[::-1]) # 역순으로 출력"
   ]
  },
  {
   "cell_type": "code",
   "execution_count": null,
   "id": "674b3207-4462-4701-969d-35b51fe32034",
   "metadata": {},
   "outputs": [],
   "source": [
    "s1={1,2,3}\n",
    "s2=set([10,20,30])\n",
    "print(s1,s2)"
   ]
  },
  {
   "cell_type": "code",
   "execution_count": null,
   "id": "831b1be9-6c4a-44ea-8332-f0670b45e08c",
   "metadata": {},
   "outputs": [],
   "source": [
    "s1.add(10)\n",
    "print(s1)"
   ]
  },
  {
   "cell_type": "code",
   "execution_count": null,
   "id": "88f05dd4-22da-4b09-b35b-b0dac07a6242",
   "metadata": {},
   "outputs": [],
   "source": [
    "s1.remove(10)\n",
    "print(s1)"
   ]
  },
  {
   "cell_type": "code",
   "execution_count": null,
   "id": "482c56f2-937b-4b4d-9611-5141e8aba031",
   "metadata": {},
   "outputs": [],
   "source": [
    "s1.update([10,20,30])\n",
    "print(s1)"
   ]
  },
  {
   "cell_type": "code",
   "execution_count": null,
   "id": "4d01627c-5066-4181-b098-869fbe5a1403",
   "metadata": {},
   "outputs": [],
   "source": [
    "s1.discard(20)\n",
    "print(s1)"
   ]
  },
  {
   "cell_type": "code",
   "execution_count": null,
   "id": "45e44c30-9632-4665-82cb-0a45a9bfd796",
   "metadata": {},
   "outputs": [],
   "source": [
    "s1.clear()"
   ]
  },
  {
   "cell_type": "code",
   "execution_count": null,
   "id": "f00b34d7-670a-4fbb-ad2b-99c0f8f9bba9",
   "metadata": {},
   "outputs": [],
   "source": [
    "print(s1)"
   ]
  },
  {
   "cell_type": "code",
   "execution_count": null,
   "id": "b1b5644e-c472-477e-8967-a3b77b11d128",
   "metadata": {},
   "outputs": [],
   "source": [
    "a=[1,3,4,5]\n",
    "print(a)"
   ]
  },
  {
   "cell_type": "code",
   "execution_count": null,
   "id": "cd814db1-9431-4ee6-8fd7-bcd4fababe47",
   "metadata": {},
   "outputs": [],
   "source": [
    "a.clear()\n",
    "print(a)"
   ]
  },
  {
   "cell_type": "code",
   "execution_count": null,
   "id": "eccf293c-d107-495f-b2ea-36fd077feb92",
   "metadata": {},
   "outputs": [],
   "source": [
    "s1=set([1,2,3,4,5])\n",
    "s2=set([3,4,5,6,7])\n",
    "\n",
    "print(s1.union(s2)) # 합집합\n",
    "print(s1|s2) # set([1,2,3,4,5,6,7])\n",
    "print(s1.intersection(s2)) # 교집합\n",
    "print(s1&s2) # set([3,4,5])\n",
    "print(s1.difference(s2)) # 차집합\n",
    "print(s1-s2) # set([1,2])"
   ]
  },
  {
   "cell_type": "code",
   "execution_count": null,
   "id": "72cedaeb-a0b4-459f-adae-5cca870f5a21",
   "metadata": {},
   "outputs": [],
   "source": [
    "student_scores={'홍길동':80, '김승현':75, '박정현':70, '우소윤':90}\n",
    "print(student_scores)"
   ]
  },
  {
   "cell_type": "code",
   "execution_count": null,
   "id": "387440e0-cb48-4ff1-8098-4bbd1b696dbe",
   "metadata": {},
   "outputs": [],
   "source": [
    "print(student_scores['홍길동'])"
   ]
  },
  {
   "cell_type": "code",
   "execution_count": null,
   "id": "683e1a3d-1e47-4bfc-9906-f8de26aa7260",
   "metadata": {},
   "outputs": [],
   "source": [
    "student_scores['홍길동']=90 # 데이터 수정 및 추가는 같은 형태\n",
    "print(student_scores)"
   ]
  },
  {
   "cell_type": "code",
   "execution_count": null,
   "id": "0c469d97-c126-4289-aedf-a4b32cb4fd7b",
   "metadata": {},
   "outputs": [],
   "source": []
  },
  {
   "cell_type": "code",
   "execution_count": null,
   "id": "89ecd47f-85bd-4cc6-b4bc-d0959d995de3",
   "metadata": {},
   "outputs": [],
   "source": [
    "print(student_scores.keys()) # key와 value가 리스트 형태로 출력\n",
    "print(student_scores.values())\n",
    "print(student_scores.items()) # key와 value 한 쌍을 뽑아냅"
   ]
  },
  {
   "cell_type": "code",
   "execution_count": null,
   "id": "01a1934a-ac5c-4136-b514-980bfba296e9",
   "metadata": {},
   "outputs": [],
   "source": [
    "for key, value in student_scores.items():\n",
    "    print(key,value)"
   ]
  },
  {
   "cell_type": "code",
   "execution_count": null,
   "id": "f7cc51b2-ccfc-4199-89da-26e9bfc52434",
   "metadata": {},
   "outputs": [],
   "source": [
    "student_scores['이윤경']=95\n",
    "student_scores['김은진']=100\n",
    "print(student_scores)"
   ]
  },
  {
   "cell_type": "code",
   "execution_count": null,
   "id": "b3eb74c0-f9f7-4328-91c5-745aa0d7b21a",
   "metadata": {},
   "outputs": [],
   "source": [
    "print('우소윤' in student_scores.keys()) # 해당 값이 key와 value에 존재하는지\n",
    "print(100 in student_scores.values())"
   ]
  },
  {
   "cell_type": "code",
   "execution_count": null,
   "id": "48719d62-5665-4a93-9711-0446cec73ac7",
   "metadata": {},
   "outputs": [],
   "source": [
    "from collections import deque\n",
    "\n",
    "deque_list=deque()\n",
    "\n",
    "for i in range(5):\n",
    "    deque_list.append(i)\n",
    "    \n",
    "print(deque_list)"
   ]
  },
  {
   "cell_type": "code",
   "execution_count": null,
   "id": "35934105-310a-45b8-a48e-34f45004f612",
   "metadata": {},
   "outputs": [],
   "source": [
    "# stack\n",
    "print(deque_list.pop())\n",
    "print(deque_list)"
   ]
  },
  {
   "cell_type": "code",
   "execution_count": null,
   "id": "4ee3bdcb-6531-46b5-95d1-a1ba47ef85cb",
   "metadata": {},
   "outputs": [],
   "source": [
    "deque_list2=deque()\n",
    "for i in range(5):\n",
    "    deque_list2.appendleft(i)\n",
    "    \n",
    "print(deque_list2)"
   ]
  },
  {
   "cell_type": "code",
   "execution_count": null,
   "id": "654f6869-df2d-4254-af8f-a87969ed7d78",
   "metadata": {},
   "outputs": [],
   "source": [
    "deque_list2.rotate(1)\n",
    "print(deque_list2)"
   ]
  },
  {
   "cell_type": "code",
   "execution_count": null,
   "id": "c9bbe6f4-1e5f-4066-9d8a-c3737ba8ccdd",
   "metadata": {},
   "outputs": [],
   "source": [
    "# queue\n",
    "print(deque_list2.pop())\n",
    "print(deque_list2)"
   ]
  },
  {
   "cell_type": "code",
   "execution_count": null,
   "id": "272e7359-868c-4749-98fc-4b6d45992b19",
   "metadata": {},
   "outputs": [],
   "source": [
    "print(student_scores)"
   ]
  },
  {
   "cell_type": "code",
   "execution_count": null,
   "id": "e7e73496-bfe9-4648-867b-3b4a297a4f7b",
   "metadata": {},
   "outputs": [],
   "source": [
    "from collections import OrderedDict\n",
    "\n",
    "def sort_by_key(t):\n",
    "    return t[1] # t[0]은 key, t[1]은 value 값을 대상으로 정렬\n",
    "\n",
    "for k, v in OrderedDict(sorted(student_scores.items(), key=sort_by_key)).items():\n",
    "    print(k,v)"
   ]
  },
  {
   "cell_type": "code",
   "execution_count": null,
   "id": "14927981-a684-4b89-a516-2b3a56031e8d",
   "metadata": {},
   "outputs": [],
   "source": [
    "from collections import defaultdict\n",
    "\n",
    "d=defaultdict(lambda:0)\n",
    "print(d[\"one\"])"
   ]
  },
  {
   "cell_type": "code",
   "execution_count": null,
   "id": "a57da3c7-b467-41e3-8c20-0935dfbbbd1e",
   "metadata": {},
   "outputs": [],
   "source": [
    "from collections import Counter\n",
    "\n",
    "s1=list('from collections import') # 한 자 한 자가 리스트에 들어감\n",
    "c=Counter(s1)\n",
    "print(c) # 리스트 내에서 각 리스트 요소의 개수를 셈"
   ]
  },
  {
   "cell_type": "code",
   "execution_count": null,
   "id": "ff8878cc-e8a9-4d8d-a116-6991d336e0c4",
   "metadata": {},
   "outputs": [],
   "source": [
    "s2='''\n",
    "A huge new subterranean railway whisked fare-paying passengers deep beneath the streets of London for the first time on Tuesday as the UK capital opened a $25 billion new metro line that will transform travel across the city.\n",
    "Large crowds of rail enthusiasts, commuters and excited locals turned out to catch the first of the new trains of the Elizabeth line as they departed from Paddington Station shortly after 6.30 a.m. Many had been lining up for hours.\n",
    "The line, known as Crossrail before being renamed in honor of the British Queen -- who visited it last week -- will drastically reduce journey times across London. It's the largest increase in the often traffic-snarled city's rail capacity for half a century.\n",
    "'''\n",
    "\n",
    "s2=s2.split()\n",
    "c=Counter(s2)\n",
    "print(c)"
   ]
  },
  {
   "cell_type": "code",
   "execution_count": null,
   "id": "8b7a89d2-3e66-4861-8867-8b4619eeb325",
   "metadata": {},
   "outputs": [],
   "source": [
    "c=Counter({'red':4,'blue':3,'green':2}) # counter로 지정한 값대로 리스트 생성 가능\n",
    "print(list(c.elements()))"
   ]
  },
  {
   "cell_type": "code",
   "execution_count": 17,
   "id": "534bfd1b-6ce5-49b9-9e36-31af47243405",
   "metadata": {},
   "outputs": [
    {
     "name": "stdout",
     "output_type": "stream",
     "text": [
      "Counter({'i': 12, 'yesterday': 9, 'to': 8, 'mm': 7, 'now': 5, 'oh': 4, 'she': 4, 'away': 3, 'believe': 3, 'in': 3, 'a': 3, 'suddenly': 2, 'why': 2, 'had': 2, 'go': 2, \"don't\": 2, 'know': 2, \"wouldn't\": 2, 'say': 2, 'said': 2, 'something': 2, 'wrong': 2, 'long': 2, 'for': 2, 'love': 2, 'wassuch': 2, 'an': 2, 'easy': 2, 'game': 2, 'play': 2, 'need': 2, 'place': 2, 'hide': 2, 'all': 1, 'my': 1, 'troublesseemed': 1, 'so': 1, 'far': 1, 'it': 1, 'looksas': 1, 'though': 1, \"they're\": 1, 'here': 1, 'stay': 1, \"i'm\": 1, 'not': 1, 'halfthe': 1, 'man': 1, 'used': 1, 'be': 1, \"there's\": 1, 'shadow': 1, 'hanging': 1, 'over': 1, 'me': 1, 'came': 1})\n"
     ]
    }
   ],
   "source": [
    "from collections import Counter\n",
    "\n",
    "f=open('data/yesterday.txt','r') # r은 읽기모드로 오픈\n",
    "yesterday_lines=f.readlines()\n",
    "f.close()\n",
    "contents=\"\"\n",
    "for line in yesterday_lines:\n",
    "    contents+=line.strip().replace(\".\",\" \").replace(\",\",\" \").lower()\n",
    "\n",
    "list1=contents.split()\n",
    "c=Counter(list1)\n",
    "print(c)"
   ]
  },
  {
   "cell_type": "code",
   "execution_count": 27,
   "id": "34feed9b-2daa-416d-b801-21e836caaac4",
   "metadata": {},
   "outputs": [
    {
     "data": {
      "text/plain": [
       "\"Yesterday all my troubles seemed so far away Now it looks as though they're here to stay Oh, I believe in yesterday  Suddenly I'm not half the man I used to be There's a shadow hanging over me Oh, yesterday came suddenly  Why she had to go, I don't know, she wouldn't say I said something wrong, now I long for yesterday  Yesterday love was such an easy game to play Now I need a place to hide away Oh, I believe in yesterday  Why she had to go, I don't know, she wouldn't say I said something wrong, now I long for yesterday  Yesterday love was such an easy game to play Now I need a place to hide away Oh, I believe in yesterday  Mm mm mm mm mm mm mm\""
      ]
     },
     "execution_count": 27,
     "metadata": {},
     "output_type": "execute_result"
    }
   ],
   "source": [
    "from collections import Counter\n",
    "\n",
    "f=open('data/yesterday.txt','r') # r은 읽기모드로 오픈\n",
    "yesterday_lines=f.readlines()\n",
    "f.close()\n",
    "contents=\" \".join(yesterday_lines)\n",
    "contents=contents.replace(\"\\n\",\"\").replace(\".\",\"\")\n",
    "\n",
    "contents"
   ]
  }
 ],
 "metadata": {
  "kernelspec": {
   "display_name": "Python 3 (ipykernel)",
   "language": "python",
   "name": "python3"
  },
  "language_info": {
   "codemirror_mode": {
    "name": "ipython",
    "version": 3
   },
   "file_extension": ".py",
   "mimetype": "text/x-python",
   "name": "python",
   "nbconvert_exporter": "python",
   "pygments_lexer": "ipython3",
   "version": "3.9.12"
  }
 },
 "nbformat": 4,
 "nbformat_minor": 5
}
