{
 "cells": [
  {
   "cell_type": "code",
   "execution_count": 9,
   "id": "c7552426-87b2-4608-9109-739210d8f097",
   "metadata": {},
   "outputs": [],
   "source": [
    "import numpy as np\n",
    "import tensorflow as tf\n",
    "from tensorflow.keras.datasets import fashion_mnist\n",
    "from tensorflow.keras.models import Sequential\n",
    "from tensorflow.keras.layers import Conv2D, MaxPool2D, Flatten, Dense, Dropout # Dropout:임의의 노드 제거\n",
    "#from IPython.display import Image"
   ]
  },
  {
   "cell_type": "code",
   "execution_count": 8,
   "id": "de3d0baa-87aa-414d-8538-5a70389ae333",
   "metadata": {},
   "outputs": [
    {
     "name": "stdout",
     "output_type": "stream",
     "text": [
      "(60000, 28, 28, 1) (10000, 28, 28, 1)\n",
      "(60000,) (10000,)\n"
     ]
    }
   ],
   "source": [
    "(x_train, y_train), (x_test, y_test)=fashion_mnist.load_data()\n",
    "\n",
    "x_train=x_train.reshape(-1,28,28,1) #(데이터 수, 행, 열, 색상 종류), 데이터 수가 -1이면 원래 데이터 개수 그대로 가져옴\n",
    "x_test=x_test.reshape(-1,28,28,1)\n",
    "\n",
    "print(x_train.shape, x_test.shape)\n",
    "print(y_train.shape, y_test.shape)\n",
    "\n",
    "x_train=x_train.astype(np.float32) /255.0 #0~1 정규화\n",
    "x_test=x_test.astype(np.float32) /255.0"
   ]
  },
  {
   "cell_type": "code",
   "execution_count": 16,
   "id": "3f84f38c-5a6b-495b-93f3-4af944b13ced",
   "metadata": {},
   "outputs": [],
   "source": [
    "cnn=Sequential()\n",
    "\n",
    "cnn.add(Conv2D(input_shape=(28,28,1), kernel_size=(3,3), filters=32, activation='relu'))  # kernel_size=filter size\n",
    "cnn.add(Conv2D(kernel_size=(3,3), filters=64, activation='relu'))\n",
    "cnn.add(MaxPool2D(pool_size=(2,2)))\n",
    "cnn.add(Dropout(0.25))\n",
    "\n",
    "cnn.add(Flatten())\n",
    "\n",
    "cnn.add(Dense(128, activation='relu'))\n",
    "cnn.add(Dropout(0.5))\n",
    "cnn.add(Dense(10, activation='softmax'))"
   ]
  },
  {
   "cell_type": "markdown",
   "id": "cd663535-2454-488f-88cd-66a2add93778",
   "metadata": {},
   "source": [
    "# Optimizers : SGD, Adam, RMSprop\n",
    "- Optimizer는 딥러닝에서 Network가 빠르고 정확하게 학습하는 것을 목표로 함(optimizer:손실함수가 최소인 값을 찾는 것)\n",
    "- 주로 Gradient Descent Algorithm을 기반으로 한 SGD에서 변형된 여러 종류의 Optimizer가 사용되고 있다\n",
    "https://onevision.tistory.com/category/Algorithm/Deep%20Learning"
   ]
  },
  {
   "cell_type": "code",
   "execution_count": 22,
   "id": "2c4ea469-a037-4b78-9d8d-6a842bf4f198",
   "metadata": {},
   "outputs": [
    {
     "name": "stdout",
     "output_type": "stream",
     "text": [
      "Model: \"sequential\"\n",
      "_________________________________________________________________\n",
      " Layer (type)                Output Shape              Param #   \n",
      "=================================================================\n",
      " conv2d (Conv2D)             (None, 26, 26, 32)        320       \n",
      "                                                                 \n",
      " conv2d_1 (Conv2D)           (None, 24, 24, 64)        18496     \n",
      "                                                                 \n",
      " max_pooling2d (MaxPooling2D  (None, 12, 12, 64)       0         \n",
      " )                                                               \n",
      "                                                                 \n",
      " dropout (Dropout)           (None, 12, 12, 64)        0         \n",
      "                                                                 \n",
      " flatten (Flatten)           (None, 9216)              0         \n",
      "                                                                 \n",
      " dense (Dense)               (None, 128)               1179776   \n",
      "                                                                 \n",
      " dropout_1 (Dropout)         (None, 128)               0         \n",
      "                                                                 \n",
      " dense_1 (Dense)             (None, 10)                1290      \n",
      "                                                                 \n",
      "=================================================================\n",
      "Total params: 1,199,882\n",
      "Trainable params: 1,199,882\n",
      "Non-trainable params: 0\n",
      "_________________________________________________________________\n"
     ]
    }
   ],
   "source": [
    "cnn.compile(loss='sparse_categorical_crossentropy', optimizer=tf.keras.optimizers.Adam(), metrics=['accuracy'])\n",
    "cnn.summary()"
   ]
  },
  {
   "cell_type": "code",
   "execution_count": 23,
   "id": "1013fd6a-8fa1-4603-b028-faaa952d3ef1",
   "metadata": {
    "tags": []
   },
   "outputs": [
    {
     "name": "stdout",
     "output_type": "stream",
     "text": [
      "Epoch 1/30\n",
      "469/469 [==============================] - 54s 113ms/step - loss: 0.5277 - accuracy: 0.8146 - val_loss: 0.3362 - val_accuracy: 0.8821\n",
      "Epoch 2/30\n",
      "469/469 [==============================] - 53s 112ms/step - loss: 0.3406 - accuracy: 0.8784 - val_loss: 0.2832 - val_accuracy: 0.8952\n",
      "Epoch 3/30\n",
      "469/469 [==============================] - 52s 111ms/step - loss: 0.2890 - accuracy: 0.8959 - val_loss: 0.2603 - val_accuracy: 0.9022\n",
      "Epoch 4/30\n",
      "469/469 [==============================] - 51s 108ms/step - loss: 0.2584 - accuracy: 0.9072 - val_loss: 0.2390 - val_accuracy: 0.9120\n",
      "Epoch 5/30\n",
      "469/469 [==============================] - 52s 110ms/step - loss: 0.2316 - accuracy: 0.9152 - val_loss: 0.2295 - val_accuracy: 0.9163\n",
      "Epoch 6/30\n",
      "469/469 [==============================] - 52s 110ms/step - loss: 0.2157 - accuracy: 0.9200 - val_loss: 0.2260 - val_accuracy: 0.9189\n",
      "Epoch 7/30\n",
      "469/469 [==============================] - 54s 114ms/step - loss: 0.2002 - accuracy: 0.9260 - val_loss: 0.2168 - val_accuracy: 0.9224\n",
      "Epoch 8/30\n",
      "469/469 [==============================] - 53s 114ms/step - loss: 0.1806 - accuracy: 0.9334 - val_loss: 0.2185 - val_accuracy: 0.9219\n",
      "Epoch 9/30\n",
      "469/469 [==============================] - 54s 114ms/step - loss: 0.1708 - accuracy: 0.9360 - val_loss: 0.2142 - val_accuracy: 0.9256\n",
      "Epoch 10/30\n",
      "469/469 [==============================] - 54s 116ms/step - loss: 0.1586 - accuracy: 0.9409 - val_loss: 0.2203 - val_accuracy: 0.9235\n",
      "Epoch 11/30\n",
      "469/469 [==============================] - 53s 113ms/step - loss: 0.1495 - accuracy: 0.9436 - val_loss: 0.2074 - val_accuracy: 0.9295\n",
      "Epoch 12/30\n",
      "469/469 [==============================] - 50s 107ms/step - loss: 0.1387 - accuracy: 0.9477 - val_loss: 0.2157 - val_accuracy: 0.9256\n",
      "Epoch 13/30\n",
      "469/469 [==============================] - 50s 107ms/step - loss: 0.1319 - accuracy: 0.9505 - val_loss: 0.2138 - val_accuracy: 0.9292\n",
      "Epoch 14/30\n",
      "469/469 [==============================] - 52s 112ms/step - loss: 0.1253 - accuracy: 0.9531 - val_loss: 0.2143 - val_accuracy: 0.9303\n",
      "Epoch 15/30\n",
      "469/469 [==============================] - 52s 111ms/step - loss: 0.1185 - accuracy: 0.9546 - val_loss: 0.2348 - val_accuracy: 0.9225\n",
      "Epoch 16/30\n",
      "469/469 [==============================] - 50s 106ms/step - loss: 0.1144 - accuracy: 0.9561 - val_loss: 0.2235 - val_accuracy: 0.9302\n",
      "Epoch 17/30\n",
      "469/469 [==============================] - 50s 107ms/step - loss: 0.1064 - accuracy: 0.9591 - val_loss: 0.2399 - val_accuracy: 0.9300\n",
      "Epoch 18/30\n",
      "469/469 [==============================] - 51s 109ms/step - loss: 0.1005 - accuracy: 0.9607 - val_loss: 0.2443 - val_accuracy: 0.9296\n",
      "Epoch 19/30\n",
      "469/469 [==============================] - 52s 111ms/step - loss: 0.0977 - accuracy: 0.9619 - val_loss: 0.2387 - val_accuracy: 0.9312\n",
      "Epoch 20/30\n",
      "469/469 [==============================] - 53s 112ms/step - loss: 0.0929 - accuracy: 0.9647 - val_loss: 0.2416 - val_accuracy: 0.9302\n",
      "Epoch 21/30\n",
      "469/469 [==============================] - 52s 112ms/step - loss: 0.0908 - accuracy: 0.9657 - val_loss: 0.2505 - val_accuracy: 0.9299\n",
      "Epoch 22/30\n",
      "469/469 [==============================] - 53s 112ms/step - loss: 0.0861 - accuracy: 0.9659 - val_loss: 0.2480 - val_accuracy: 0.9320\n",
      "Epoch 23/30\n",
      "469/469 [==============================] - 53s 114ms/step - loss: 0.0812 - accuracy: 0.9682 - val_loss: 0.2653 - val_accuracy: 0.9290\n",
      "Epoch 24/30\n",
      "469/469 [==============================] - 51s 110ms/step - loss: 0.0863 - accuracy: 0.9670 - val_loss: 0.2493 - val_accuracy: 0.9303\n",
      "Epoch 25/30\n",
      "469/469 [==============================] - 52s 110ms/step - loss: 0.0797 - accuracy: 0.9688 - val_loss: 0.2725 - val_accuracy: 0.9321\n",
      "Epoch 26/30\n",
      "469/469 [==============================] - 52s 110ms/step - loss: 0.0758 - accuracy: 0.9708 - val_loss: 0.2747 - val_accuracy: 0.9290\n",
      "Epoch 27/30\n",
      "469/469 [==============================] - 51s 109ms/step - loss: 0.0721 - accuracy: 0.9724 - val_loss: 0.3039 - val_accuracy: 0.9286\n",
      "Epoch 28/30\n",
      "469/469 [==============================] - 51s 109ms/step - loss: 0.0742 - accuracy: 0.9715 - val_loss: 0.2830 - val_accuracy: 0.9317\n",
      "Epoch 29/30\n",
      "469/469 [==============================] - 51s 109ms/step - loss: 0.0733 - accuracy: 0.9712 - val_loss: 0.2844 - val_accuracy: 0.9311\n",
      "Epoch 30/30\n",
      "469/469 [==============================] - 52s 111ms/step - loss: 0.0699 - accuracy: 0.9727 - val_loss: 0.2852 - val_accuracy: 0.9296\n"
     ]
    }
   ],
   "source": [
    "hist=cnn.fit(x_train, y_train, batch_size=128, epochs=30, validation_data=(x_test, y_test))\n",
    "# 468.75=60000/128, batch_size:전체 데이터를 batch_size 만큼 나누어 그 결과만큼 진행한 후, w,b 업데이트"
   ]
  },
  {
   "cell_type": "code",
   "execution_count": 24,
   "id": "018b1df8-0b63-4021-adb9-96671dccd193",
   "metadata": {
    "tags": []
   },
   "outputs": [
    {
     "name": "stdout",
     "output_type": "stream",
     "text": [
      "313/313 [==============================] - 2s 8ms/step - loss: 0.2852 - accuracy: 0.9296\n"
     ]
    },
    {
     "data": {
      "text/plain": [
       "[0.28518643975257874, 0.9296000003814697]"
      ]
     },
     "execution_count": 24,
     "metadata": {},
     "output_type": "execute_result"
    }
   ],
   "source": [
    "cnn.evaluate(x_test, y_test)"
   ]
  },
  {
   "cell_type": "code",
   "execution_count": 26,
   "id": "edec2859-871e-408f-9d57-81b334115ae9",
   "metadata": {},
   "outputs": [
    {
     "data": {
      "image/png": "[encoded data removed]",
      "text/plain": [
       "<Figure size 432x288 with 1 Axes>"
      ]
     },
     "metadata": {
      "needs_background": "light"
     },
     "output_type": "display_data"
    }
   ],
   "source": [
    "import matplotlib.pyplot as plt\n",
    "\n",
    "plt.plot(hist.history['accuracy'])\n",
    "plt.plot(hist.history['val_accuracy'])\n",
    "plt.title('Accuraty Trend')\n",
    "plt.ylabel('accuracy')\n",
    "plt.xlabel('epoch')\n",
    "plt.legend(['train','validation'],loc='best')\n",
    "plt.grid()\n",
    "plt.show()"
   ]
  },
  {
   "cell_type": "code",
   "execution_count": 27,
   "id": "360e7f09-aa4a-4bb5-ae3b-b9f71490166b",
   "metadata": {},
   "outputs": [
    {
     "data": {
      "image/png": "[encoded data removed]",
      "text/plain": [
       "<Figure size 432x288 with 1 Axes>"
      ]
     },
     "metadata": {
      "needs_background": "light"
     },
     "output_type": "display_data"
    }
   ],
   "source": [
    "plt.plot(hist.history['loss'])\n",
    "plt.plot(hist.history['val_loss'])\n",
    "plt.title('Accuraty Trend')\n",
    "plt.ylabel('loss')\n",
    "plt.xlabel('epoch')\n",
    "plt.legend(['train','validation'],loc='best')\n",
    "plt.grid()\n",
    "plt.show()"
   ]
  }
 ],
 "metadata": {
  "kernelspec": {
   "display_name": "Python 3 (ipykernel)",
   "language": "python",
   "name": "python3"
  },
  "language_info": {
   "codemirror_mode": {
    "name": "ipython",
    "version": 3
   },
   "file_extension": ".py",
   "mimetype": "text/x-python",
   "name": "python",
   "nbconvert_exporter": "python",
   "pygments_lexer": "ipython3",
   "version": "3.9.12"
  }
 },
 "nbformat": 4,
 "nbformat_minor": 5
}
