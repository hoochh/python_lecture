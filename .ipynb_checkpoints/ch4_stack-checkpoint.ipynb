{
 "cells": [
  {
   "cell_type": "code",
   "execution_count": 3,
   "id": "811673ea-7e5c-46e6-9c55-ff14b64fecd8",
   "metadata": {},
   "outputs": [
    {
     "data": {
      "text/plain": [
       "[1, 2, 3, 4, 5, 10, 20]"
      ]
     },
     "execution_count": 3,
     "metadata": {},
     "output_type": "execute_result"
    }
   ],
   "source": [
    "a=[1,2,3,4,5]\n",
    "a.append(10)\n",
    "a.append(20)\n",
    "a"
   ]
  },
  {
   "cell_type": "code",
   "execution_count": 8,
   "id": "ea95666a-8b6e-4835-96db-a3bbb36f1a1e",
   "metadata": {},
   "outputs": [
    {
     "data": {
      "text/plain": [
       "1"
      ]
     },
     "execution_count": 8,
     "metadata": {},
     "output_type": "execute_result"
    }
   ],
   "source": [
    "a.pop(0)"
   ]
  },
  {
   "cell_type": "code",
   "execution_count": 9,
   "id": "66ff85dd-ced3-4539-9570-3e539ca05442",
   "metadata": {},
   "outputs": [
    {
     "name": "stdout",
     "output_type": "stream",
     "text": [
      "[2, 3, 4, 5]\n"
     ]
    }
   ],
   "source": [
    "print(a)"
   ]
  },
  {
   "cell_type": "code",
   "execution_count": 19,
   "id": "bd76f012-7174-4c50-b944-2dcf6a42f225",
   "metadata": {},
   "outputs": [
    {
     "name": "stdin",
     "output_type": "stream",
     "text": [
      "Input a word:  hello world!\n"
     ]
    },
    {
     "name": "stdout",
     "output_type": "stream",
     "text": [
      "['h', 'e', 'l', 'l', 'o', ' ', 'w', 'o', 'r', 'l', 'd', '!']\n",
      "['!', 'd', 'l', 'r', 'o', 'w', ' ', 'o', 'l', 'l', 'e', 'h']\n",
      "!dlrow olleh\n"
     ]
    }
   ],
   "source": [
    "word = input(\"Input a word: \")\n",
    "word_list = list(word)\n",
    "print(word_list)\n",
    "\n",
    "result=[]\n",
    "for _ in range(len(word_list)):\n",
    "    result.append(word_list.pop())\n",
    "    \n",
    "print(result)\n",
    "print(word[::-1])"
   ]
  },
  {
   "cell_type": "code",
   "execution_count": 15,
   "id": "d880d285-2473-4cfb-855a-daa5b636e10b",
   "metadata": {},
   "outputs": [
    {
     "name": "stdout",
     "output_type": "stream",
     "text": [
      "1\n",
      "(1, 2, 3, 1, 2, 3)\n",
      "(1, 2, 3, 1, 2, 3, 1, 2, 3)\n"
     ]
    }
   ],
   "source": [
    "t=(1,2,3)\n",
    "#t.append(4) append(수정) 불가\n",
    "print(t[0])\n",
    "#t[0]=10 값 수정 불가\n",
    "print(t+t)\n",
    "print(t*3)"
   ]
  },
  {
   "cell_type": "code",
   "execution_count": 17,
   "id": "8ae987f7-b7c1-4aec-a6d3-1f658462e92e",
   "metadata": {},
   "outputs": [
    {
     "name": "stdout",
     "output_type": "stream",
     "text": [
      "[] ['a', 'b', 'c', 'd']\n"
     ]
    }
   ],
   "source": [
    "list1=[]\n",
    "list2=list(\"abcd\")\n",
    "print(list1, list2)"
   ]
  },
  {
   "cell_type": "code",
   "execution_count": 20,
   "id": "d834ddc6-f64f-40c6-aa83-08b40bba461f",
   "metadata": {},
   "outputs": [
    {
     "name": "stdout",
     "output_type": "stream",
     "text": [
      "() (1, 2, 3, 4)\n"
     ]
    }
   ],
   "source": [
    "t1=()\n",
    "t2=tuple([1,2,3,4]) # tuple을 선언하고 만들 경우 반드시 한 덩어리로 넣어줘야 함\n",
    "print(t1, t2)"
   ]
  },
  {
   "cell_type": "code",
   "execution_count": 35,
   "id": "b4b1b36b-849b-4e96-ba2d-4fed5ec1bc3c",
   "metadata": {},
   "outputs": [
    {
     "name": "stdout",
     "output_type": "stream",
     "text": [
      "(4, 3, 2, 1)\n"
     ]
    }
   ],
   "source": [
    "print(t2[::-1]) # 역순으로 출력"
   ]
  },
  {
   "cell_type": "code",
   "execution_count": 23,
   "id": "674b3207-4462-4701-969d-35b51fe32034",
   "metadata": {},
   "outputs": [
    {
     "name": "stdout",
     "output_type": "stream",
     "text": [
      "{1, 2, 3} {10, 20, 30}\n"
     ]
    }
   ],
   "source": [
    "s1={1,2,3}\n",
    "s2=set([10,20,30])\n",
    "print(s1,s2)"
   ]
  },
  {
   "cell_type": "code",
   "execution_count": 27,
   "id": "831b1be9-6c4a-44ea-8332-f0670b45e08c",
   "metadata": {},
   "outputs": [
    {
     "name": "stdout",
     "output_type": "stream",
     "text": [
      "{1, 2, 3, 10}\n"
     ]
    }
   ],
   "source": [
    "s1.add(10)\n",
    "print(s1)"
   ]
  },
  {
   "cell_type": "code",
   "execution_count": 28,
   "id": "88f05dd4-22da-4b09-b35b-b0dac07a6242",
   "metadata": {},
   "outputs": [
    {
     "name": "stdout",
     "output_type": "stream",
     "text": [
      "{1, 2, 3}\n"
     ]
    }
   ],
   "source": [
    "s1.remove(10)\n",
    "print(s1)"
   ]
  },
  {
   "cell_type": "code",
   "execution_count": 29,
   "id": "482c56f2-937b-4b4d-9611-5141e8aba031",
   "metadata": {},
   "outputs": [
    {
     "name": "stdout",
     "output_type": "stream",
     "text": [
      "{1, 2, 3, 10, 20, 30}\n"
     ]
    }
   ],
   "source": [
    "s1.update([10,20,30])\n",
    "print(s1)"
   ]
  },
  {
   "cell_type": "code",
   "execution_count": 30,
   "id": "4d01627c-5066-4181-b098-869fbe5a1403",
   "metadata": {},
   "outputs": [
    {
     "name": "stdout",
     "output_type": "stream",
     "text": [
      "{1, 2, 3, 10, 30}\n"
     ]
    }
   ],
   "source": [
    "s1.discard(20)\n",
    "print(s1)"
   ]
  },
  {
   "cell_type": "code",
   "execution_count": 31,
   "id": "45e44c30-9632-4665-82cb-0a45a9bfd796",
   "metadata": {},
   "outputs": [],
   "source": [
    "s1.clear()"
   ]
  },
  {
   "cell_type": "code",
   "execution_count": 32,
   "id": "f00b34d7-670a-4fbb-ad2b-99c0f8f9bba9",
   "metadata": {},
   "outputs": [
    {
     "name": "stdout",
     "output_type": "stream",
     "text": [
      "set()\n"
     ]
    }
   ],
   "source": [
    "print(s1)"
   ]
  },
  {
   "cell_type": "code",
   "execution_count": 33,
   "id": "b1b5644e-c472-477e-8967-a3b77b11d128",
   "metadata": {},
   "outputs": [
    {
     "name": "stdout",
     "output_type": "stream",
     "text": [
      "[1, 3, 4, 5]\n"
     ]
    }
   ],
   "source": [
    "a=[1,3,4,5]\n",
    "print(a)"
   ]
  },
  {
   "cell_type": "code",
   "execution_count": 34,
   "id": "cd814db1-9431-4ee6-8fd7-bcd4fababe47",
   "metadata": {},
   "outputs": [
    {
     "name": "stdout",
     "output_type": "stream",
     "text": [
      "[]\n"
     ]
    }
   ],
   "source": [
    "a.clear()\n",
    "print(a)"
   ]
  },
  {
   "cell_type": "code",
   "execution_count": 41,
   "id": "eccf293c-d107-495f-b2ea-36fd077feb92",
   "metadata": {},
   "outputs": [
    {
     "name": "stdout",
     "output_type": "stream",
     "text": [
      "{1, 2, 3, 4, 5, 6, 7}\n",
      "{1, 2, 3, 4, 5, 6, 7}\n",
      "{3, 4, 5}\n",
      "{3, 4, 5}\n",
      "{1, 2}\n",
      "{1, 2}\n"
     ]
    }
   ],
   "source": [
    "s1=set([1,2,3,4,5])\n",
    "s2=set([3,4,5,6,7])\n",
    "\n",
    "print(s1.union(s2)) # 합집합\n",
    "print(s1|s2) # set([1,2,3,4,5,6,7])\n",
    "print(s1.intersection(s2)) # 교집합\n",
    "print(s1&s2) # set([3,4,5])\n",
    "print(s1.difference(s2)) # 차집합\n",
    "print(s1-s2) # set([1,2])"
   ]
  },
  {
   "cell_type": "code",
   "execution_count": 42,
   "id": "72cedaeb-a0b4-459f-adae-5cca870f5a21",
   "metadata": {},
   "outputs": [
    {
     "name": "stdout",
     "output_type": "stream",
     "text": [
      "{'홍길동': 80, '김승현': 75, '박정현': 70, '우소윤': 90}\n"
     ]
    }
   ],
   "source": [
    "student_scores={'홍길동':80, '김승현':75, '박정현':70, '우소윤':90}\n",
    "print(student_scores)"
   ]
  },
  {
   "cell_type": "code",
   "execution_count": 43,
   "id": "387440e0-cb48-4ff1-8098-4bbd1b696dbe",
   "metadata": {},
   "outputs": [
    {
     "name": "stdout",
     "output_type": "stream",
     "text": [
      "80\n"
     ]
    }
   ],
   "source": [
    "print(student_scores['홍길동'])"
   ]
  },
  {
   "cell_type": "code",
   "execution_count": 57,
   "id": "683e1a3d-1e47-4bfc-9906-f8de26aa7260",
   "metadata": {},
   "outputs": [
    {
     "name": "stdout",
     "output_type": "stream",
     "text": [
      "{'홍길동': 90, '김승현': 75, '박정현': 70, '우소윤': 90, '이윤경': 95, '김은진': 100}\n"
     ]
    }
   ],
   "source": [
    "student_scores['홍길동']=90 # 데이터 수정 및 추가는 같은 형태\n",
    "print(student_scores)"
   ]
  },
  {
   "cell_type": "code",
   "execution_count": null,
   "id": "0c469d97-c126-4289-aedf-a4b32cb4fd7b",
   "metadata": {},
   "outputs": [],
   "source": []
  },
  {
   "cell_type": "code",
   "execution_count": 50,
   "id": "89ecd47f-85bd-4cc6-b4bc-d0959d995de3",
   "metadata": {},
   "outputs": [
    {
     "name": "stdout",
     "output_type": "stream",
     "text": [
      "dict_keys(['홍길동', '김승현', '박정현', '우소윤'])\n",
      "dict_values([90, 75, 70, 90])\n",
      "dict_items([('홍길동', 90), ('김승현', 75), ('박정현', 70), ('우소윤', 90)])\n"
     ]
    }
   ],
   "source": [
    "print(student_scores.keys()) # key와 value가 리스트 형태로 출력\n",
    "print(student_scores.values())\n",
    "print(student_scores.items()) # key와 value 한 쌍을 뽑아냅"
   ]
  },
  {
   "cell_type": "code",
   "execution_count": 51,
   "id": "01a1934a-ac5c-4136-b514-980bfba296e9",
   "metadata": {},
   "outputs": [
    {
     "name": "stdout",
     "output_type": "stream",
     "text": [
      "홍길동 90\n",
      "김승현 75\n",
      "박정현 70\n",
      "우소윤 90\n"
     ]
    }
   ],
   "source": [
    "for key, value in student_scores.items():\n",
    "    print(key,value)"
   ]
  },
  {
   "cell_type": "code",
   "execution_count": 53,
   "id": "f7cc51b2-ccfc-4199-89da-26e9bfc52434",
   "metadata": {},
   "outputs": [
    {
     "name": "stdout",
     "output_type": "stream",
     "text": [
      "{'홍길동': 90, '김승현': 75, '박정현': 70, '우소윤': 90, '이윤경': 95, '김은진': 100}\n"
     ]
    }
   ],
   "source": [
    "student_scores['이윤경']=95\n",
    "student_scores['김은진']=100\n",
    "print(student_scores)"
   ]
  },
  {
   "cell_type": "code",
   "execution_count": 58,
   "id": "b3eb74c0-f9f7-4328-91c5-745aa0d7b21a",
   "metadata": {},
   "outputs": [
    {
     "name": "stdout",
     "output_type": "stream",
     "text": [
      "True\n",
      "True\n"
     ]
    }
   ],
   "source": [
    "print('우소윤' in student_scores.keys()) # 해당 값이 key와 value에 존재하는지\n",
    "print(100 in student_scores.values())"
   ]
  },
  {
   "cell_type": "code",
   "execution_count": 59,
   "id": "48719d62-5665-4a93-9711-0446cec73ac7",
   "metadata": {},
   "outputs": [
    {
     "name": "stdout",
     "output_type": "stream",
     "text": [
      "deque([0, 1, 2, 3, 4])\n"
     ]
    }
   ],
   "source": [
    "from collections import deque\n",
    "\n",
    "deque_list=deque()\n",
    "\n",
    "for i in range(5):\n",
    "    deque_list.append(i)\n",
    "    \n",
    "print(deque_list)"
   ]
  },
  {
   "cell_type": "code",
   "execution_count": 61,
   "id": "35934105-310a-45b8-a48e-34f45004f612",
   "metadata": {},
   "outputs": [
    {
     "name": "stdout",
     "output_type": "stream",
     "text": [
      "3\n",
      "deque([0, 1, 2])\n"
     ]
    }
   ],
   "source": [
    "# stack\n",
    "print(deque_list.pop())\n",
    "print(deque_list)"
   ]
  },
  {
   "cell_type": "code",
   "execution_count": 62,
   "id": "4ee3bdcb-6531-46b5-95d1-a1ba47ef85cb",
   "metadata": {},
   "outputs": [
    {
     "ename": "AttributeError",
     "evalue": "'tuple' object has no attribute 'appendleft'",
     "output_type": "error",
     "traceback": [
      "\u001b[1;31m---------------------------------------------------------------------------\u001b[0m",
      "\u001b[1;31mAttributeError\u001b[0m                            Traceback (most recent call last)",
      "Input \u001b[1;32mIn [62]\u001b[0m, in \u001b[0;36m<cell line: 2>\u001b[1;34m()\u001b[0m\n\u001b[0;32m      1\u001b[0m deque_list2\u001b[38;5;241m=\u001b[39m()\n\u001b[0;32m      2\u001b[0m \u001b[38;5;28;01mfor\u001b[39;00m i \u001b[38;5;129;01min\u001b[39;00m \u001b[38;5;28mrange\u001b[39m(\u001b[38;5;241m5\u001b[39m):\n\u001b[1;32m----> 3\u001b[0m     \u001b[43mdeque_list2\u001b[49m\u001b[38;5;241;43m.\u001b[39;49m\u001b[43mappendleft\u001b[49m(i)\n\u001b[0;32m      5\u001b[0m \u001b[38;5;28mprint\u001b[39m(deque_list2)\n",
      "\u001b[1;31mAttributeError\u001b[0m: 'tuple' object has no attribute 'appendleft'"
     ]
    }
   ],
   "source": [
    "deque_list2=deque()\n",
    "for i in range(5):\n",
    "    deque_list2.appendleft(i)\n",
    "    \n",
    "print(deque_list2)"
   ]
  }
 ],
 "metadata": {
  "kernelspec": {
   "display_name": "Python 3 (ipykernel)",
   "language": "python",
   "name": "python3"
  },
  "language_info": {
   "codemirror_mode": {
    "name": "ipython",
    "version": 3
   },
   "file_extension": ".py",
   "mimetype": "text/x-python",
   "name": "python",
   "nbconvert_exporter": "python",
   "pygments_lexer": "ipython3",
   "version": "3.9.12"
  }
 },
 "nbformat": 4,
 "nbformat_minor": 5
}
