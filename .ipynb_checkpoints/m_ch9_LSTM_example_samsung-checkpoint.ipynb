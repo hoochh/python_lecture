{
 "cells": [
  {
   "cell_type": "markdown",
   "id": "a5804125-c835-4e57-af60-bd9e8fcf3ee4",
   "metadata": {},
   "source": [
    "# LSTM 기반의 삼성전자 주가 예측 예제"
   ]
  },
  {
   "cell_type": "code",
   "execution_count": 1,
   "id": "246501bc-4465-406c-a763-b7072d470eb7",
   "metadata": {},
   "outputs": [],
   "source": [
    "import tensorflow as tf\n",
    "import numpy as np\n",
    "import pandas as pd\n",
    "import matplotlib.pyplot as plt\n",
    "from tensorflow.keras.models import Sequential\n",
    "from tensorflow.keras.layers import LSTM, Dense, Dropout"
   ]
  },
  {
   "cell_type": "markdown",
   "id": "ef902ad4-b278-4304-9409-53d9186b83c6",
   "metadata": {},
   "source": [
    "### 0. 데이터 불러오기"
   ]
  },
  {
   "cell_type": "code",
   "execution_count": 3,
   "id": "0f2d46c7-ff41-4c81-a2fc-7cb456ac0338",
   "metadata": {},
   "outputs": [
    {
     "data": {
      "text/html": [
       "<div>\n",
       "<style scoped>\n",
       "    .dataframe tbody tr th:only-of-type {\n",
       "        vertical-align: middle;\n",
       "    }\n",
       "\n",
       "    .dataframe tbody tr th {\n",
       "        vertical-align: top;\n",
       "    }\n",
       "\n",
       "    .dataframe thead th {\n",
       "        text-align: right;\n",
       "    }\n",
       "</style>\n",
       "<table border=\"1\" class=\"dataframe\">\n",
       "  <thead>\n",
       "    <tr style=\"text-align: right;\">\n",
       "      <th></th>\n",
       "      <th>Date</th>\n",
       "      <th>Open</th>\n",
       "      <th>High</th>\n",
       "      <th>Low</th>\n",
       "      <th>Close</th>\n",
       "      <th>Adj Close</th>\n",
       "      <th>Volume</th>\n",
       "      <th>3M</th>\n",
       "      <th>5M</th>\n",
       "    </tr>\n",
       "  </thead>\n",
       "  <tbody>\n",
       "    <tr>\n",
       "      <th>0</th>\n",
       "      <td>2000-01-04</td>\n",
       "      <td>6000</td>\n",
       "      <td>6110</td>\n",
       "      <td>5660</td>\n",
       "      <td>6110</td>\n",
       "      <td>4651.738281</td>\n",
       "      <td>74195000</td>\n",
       "      <td>NaN</td>\n",
       "      <td>NaN</td>\n",
       "    </tr>\n",
       "    <tr>\n",
       "      <th>1</th>\n",
       "      <td>2000-01-05</td>\n",
       "      <td>5800</td>\n",
       "      <td>6060</td>\n",
       "      <td>5520</td>\n",
       "      <td>5580</td>\n",
       "      <td>4248.231934</td>\n",
       "      <td>74680000</td>\n",
       "      <td>NaN</td>\n",
       "      <td>NaN</td>\n",
       "    </tr>\n",
       "    <tr>\n",
       "      <th>2</th>\n",
       "      <td>2000-01-06</td>\n",
       "      <td>5750</td>\n",
       "      <td>5780</td>\n",
       "      <td>5580</td>\n",
       "      <td>5620</td>\n",
       "      <td>4278.685547</td>\n",
       "      <td>54390000</td>\n",
       "      <td>4392.885254</td>\n",
       "      <td>NaN</td>\n",
       "    </tr>\n",
       "    <tr>\n",
       "      <th>3</th>\n",
       "      <td>2000-01-07</td>\n",
       "      <td>5560</td>\n",
       "      <td>5670</td>\n",
       "      <td>5360</td>\n",
       "      <td>5540</td>\n",
       "      <td>4217.779297</td>\n",
       "      <td>40305000</td>\n",
       "      <td>4248.232259</td>\n",
       "      <td>NaN</td>\n",
       "    </tr>\n",
       "    <tr>\n",
       "      <th>4</th>\n",
       "      <td>2000-01-10</td>\n",
       "      <td>5600</td>\n",
       "      <td>5770</td>\n",
       "      <td>5580</td>\n",
       "      <td>5770</td>\n",
       "      <td>4392.884277</td>\n",
       "      <td>46880000</td>\n",
       "      <td>4296.449707</td>\n",
       "      <td>4357.863867</td>\n",
       "    </tr>\n",
       "  </tbody>\n",
       "</table>\n",
       "</div>"
      ],
      "text/plain": [
       "         Date  Open  High   Low  Close    Adj Close    Volume           3M  \\\n",
       "0  2000-01-04  6000  6110  5660   6110  4651.738281  74195000          NaN   \n",
       "1  2000-01-05  5800  6060  5520   5580  4248.231934  74680000          NaN   \n",
       "2  2000-01-06  5750  5780  5580   5620  4278.685547  54390000  4392.885254   \n",
       "3  2000-01-07  5560  5670  5360   5540  4217.779297  40305000  4248.232259   \n",
       "4  2000-01-10  5600  5770  5580   5770  4392.884277  46880000  4296.449707   \n",
       "\n",
       "            5M  \n",
       "0          NaN  \n",
       "1          NaN  \n",
       "2          NaN  \n",
       "3          NaN  \n",
       "4  4357.863867  "
      ]
     },
     "execution_count": 3,
     "metadata": {},
     "output_type": "execute_result"
    }
   ],
   "source": [
    "raw_df=pd.read_csv('data/005930.KS.csv') # yahoo finance로부터 데이터 다운로드\n",
    "\n",
    "raw_df.head()"
   ]
  },
  {
   "cell_type": "code",
   "execution_count": 4,
   "id": "abf3d2e1-4fd7-41a4-a355-6e1490b085f6",
   "metadata": {},
   "outputs": [
    {
     "data": {
      "image/png": "[encoded data removed]",
      "text/plain": [
       "<Figure size 432x288 with 1 Axes>"
      ]
     },
     "metadata": {
      "needs_background": "light"
     },
     "output_type": "display_data"
    }
   ],
   "source": [
    "plt.title('SAMSUNG ELECTRONICS STOCK PRICE')\n",
    "plt.ylabel('price')\n",
    "plt.xlabel('period')\n",
    "plt.grid()\n",
    "\n",
    "plt.plot(raw_df['Adj Close'], label='Adj Close')\n",
    "plt.show()"
   ]
  },
  {
   "cell_type": "markdown",
   "id": "529b0c45-2b9a-4297-9972-7c75f71a9d12",
   "metadata": {},
   "source": [
    "### 1. 데이터 전처리(Missing Data 처리, 정규화 등)"
   ]
  },
  {
   "cell_type": "code",
   "execution_count": 5,
   "id": "c2c2f51b-3366-460e-bd85-026b65e5cc27",
   "metadata": {},
   "outputs": [
    {
     "data": {
      "text/html": [
       "<div>\n",
       "<style scoped>\n",
       "    .dataframe tbody tr th:only-of-type {\n",
       "        vertical-align: middle;\n",
       "    }\n",
       "\n",
       "    .dataframe tbody tr th {\n",
       "        vertical-align: top;\n",
       "    }\n",
       "\n",
       "    .dataframe thead th {\n",
       "        text-align: right;\n",
       "    }\n",
       "</style>\n",
       "<table border=\"1\" class=\"dataframe\">\n",
       "  <thead>\n",
       "    <tr style=\"text-align: right;\">\n",
       "      <th></th>\n",
       "      <th>Open</th>\n",
       "      <th>High</th>\n",
       "      <th>Low</th>\n",
       "      <th>Close</th>\n",
       "      <th>Adj Close</th>\n",
       "      <th>Volume</th>\n",
       "      <th>3M</th>\n",
       "      <th>5M</th>\n",
       "    </tr>\n",
       "  </thead>\n",
       "  <tbody>\n",
       "    <tr>\n",
       "      <th>count</th>\n",
       "      <td>5645.000000</td>\n",
       "      <td>5645.000000</td>\n",
       "      <td>5645.000000</td>\n",
       "      <td>5645.000000</td>\n",
       "      <td>5645.000000</td>\n",
       "      <td>5.645000e+03</td>\n",
       "      <td>5643.000000</td>\n",
       "      <td>5641.000000</td>\n",
       "    </tr>\n",
       "    <tr>\n",
       "      <th>mean</th>\n",
       "      <td>25046.563330</td>\n",
       "      <td>25298.256864</td>\n",
       "      <td>24788.434012</td>\n",
       "      <td>25040.931798</td>\n",
       "      <td>21904.105700</td>\n",
       "      <td>2.175597e+07</td>\n",
       "      <td>21900.613050</td>\n",
       "      <td>21897.261358</td>\n",
       "    </tr>\n",
       "    <tr>\n",
       "      <th>std</th>\n",
       "      <td>20220.023828</td>\n",
       "      <td>20385.326290</td>\n",
       "      <td>20045.348191</td>\n",
       "      <td>20204.057591</td>\n",
       "      <td>19880.218096</td>\n",
       "      <td>1.542621e+07</td>\n",
       "      <td>19873.709132</td>\n",
       "      <td>19867.803384</td>\n",
       "    </tr>\n",
       "    <tr>\n",
       "      <th>min</th>\n",
       "      <td>2540.000000</td>\n",
       "      <td>2760.000000</td>\n",
       "      <td>2420.000000</td>\n",
       "      <td>2730.000000</td>\n",
       "      <td>2078.436768</td>\n",
       "      <td>0.000000e+00</td>\n",
       "      <td>2124.116374</td>\n",
       "      <td>2139.342773</td>\n",
       "    </tr>\n",
       "    <tr>\n",
       "      <th>25%</th>\n",
       "      <td>10200.000000</td>\n",
       "      <td>10340.000000</td>\n",
       "      <td>10040.000000</td>\n",
       "      <td>10200.000000</td>\n",
       "      <td>7852.013184</td>\n",
       "      <td>1.180825e+07</td>\n",
       "      <td>7823.954183</td>\n",
       "      <td>7832.583008</td>\n",
       "    </tr>\n",
       "    <tr>\n",
       "      <th>50%</th>\n",
       "      <td>16700.000000</td>\n",
       "      <td>16920.000000</td>\n",
       "      <td>16500.000000</td>\n",
       "      <td>16700.000000</td>\n",
       "      <td>13410.835940</td>\n",
       "      <td>1.774472e+07</td>\n",
       "      <td>13365.140950</td>\n",
       "      <td>13392.576760</td>\n",
       "    </tr>\n",
       "    <tr>\n",
       "      <th>75%</th>\n",
       "      <td>31700.000000</td>\n",
       "      <td>32260.000000</td>\n",
       "      <td>31440.000000</td>\n",
       "      <td>31840.000000</td>\n",
       "      <td>27068.365230</td>\n",
       "      <td>2.720500e+07</td>\n",
       "      <td>27122.211915</td>\n",
       "      <td>27064.972270</td>\n",
       "    </tr>\n",
       "    <tr>\n",
       "      <th>max</th>\n",
       "      <td>90300.000000</td>\n",
       "      <td>96800.000000</td>\n",
       "      <td>89500.000000</td>\n",
       "      <td>91000.000000</td>\n",
       "      <td>88908.179690</td>\n",
       "      <td>1.642150e+08</td>\n",
       "      <td>88354.536460</td>\n",
       "      <td>87892.084380</td>\n",
       "    </tr>\n",
       "  </tbody>\n",
       "</table>\n",
       "</div>"
      ],
      "text/plain": [
       "               Open          High           Low         Close     Adj Close  \\\n",
       "count   5645.000000   5645.000000   5645.000000   5645.000000   5645.000000   \n",
       "mean   25046.563330  25298.256864  24788.434012  25040.931798  21904.105700   \n",
       "std    20220.023828  20385.326290  20045.348191  20204.057591  19880.218096   \n",
       "min     2540.000000   2760.000000   2420.000000   2730.000000   2078.436768   \n",
       "25%    10200.000000  10340.000000  10040.000000  10200.000000   7852.013184   \n",
       "50%    16700.000000  16920.000000  16500.000000  16700.000000  13410.835940   \n",
       "75%    31700.000000  32260.000000  31440.000000  31840.000000  27068.365230   \n",
       "max    90300.000000  96800.000000  89500.000000  91000.000000  88908.179690   \n",
       "\n",
       "             Volume            3M            5M  \n",
       "count  5.645000e+03   5643.000000   5641.000000  \n",
       "mean   2.175597e+07  21900.613050  21897.261358  \n",
       "std    1.542621e+07  19873.709132  19867.803384  \n",
       "min    0.000000e+00   2124.116374   2139.342773  \n",
       "25%    1.180825e+07   7823.954183   7832.583008  \n",
       "50%    1.774472e+07  13365.140950  13392.576760  \n",
       "75%    2.720500e+07  27122.211915  27064.972270  \n",
       "max    1.642150e+08  88354.536460  87892.084380  "
      ]
     },
     "execution_count": 5,
     "metadata": {},
     "output_type": "execute_result"
    }
   ],
   "source": [
    "# 통계정보 확인\n",
    "raw_df.describe()"
   ]
  },
  {
   "cell_type": "code",
   "execution_count": 8,
   "id": "d52417aa-30a0-42c8-9e23-fe2a09135154",
   "metadata": {},
   "outputs": [
    {
     "data": {
      "text/plain": [
       "Date         0\n",
       "Open         0\n",
       "High         0\n",
       "Low          0\n",
       "Close        0\n",
       "Adj Close    0\n",
       "Volume       0\n",
       "3M           2\n",
       "5M           4\n",
       "dtype: int64"
      ]
     },
     "execution_count": 8,
     "metadata": {},
     "output_type": "execute_result"
    }
   ],
   "source": [
    "# Missing Data 확인\n",
    "raw_df.isnull().sum()"
   ]
  },
  {
   "cell_type": "code",
   "execution_count": 9,
   "id": "1edf0235-e9af-45bd-996d-aa0bd09853c0",
   "metadata": {},
   "outputs": [
    {
     "name": "stdout",
     "output_type": "stream",
     "text": [
      "Volume <class 'str'>\n"
     ]
    }
   ],
   "source": [
    "# 최소값이 0인 column 체크\n",
    "\n",
    "for col in raw_df.columns:\n",
    "    if raw_df[col].min()==0:\n",
    "        col_name=col\n",
    "        print(col_name, type(col_name))"
   ]
  },
  {
   "cell_type": "code",
   "execution_count": 12,
   "id": "1165a996-f2de-4de1-9690-0a26df3d70f8",
   "metadata": {},
   "outputs": [
    {
     "data": {
      "text/html": [
       "<div>\n",
       "<style scoped>\n",
       "    .dataframe tbody tr th:only-of-type {\n",
       "        vertical-align: middle;\n",
       "    }\n",
       "\n",
       "    .dataframe tbody tr th {\n",
       "        vertical-align: top;\n",
       "    }\n",
       "\n",
       "    .dataframe thead th {\n",
       "        text-align: right;\n",
       "    }\n",
       "</style>\n",
       "<table border=\"1\" class=\"dataframe\">\n",
       "  <thead>\n",
       "    <tr style=\"text-align: right;\">\n",
       "      <th></th>\n",
       "      <th>Date</th>\n",
       "      <th>Open</th>\n",
       "      <th>High</th>\n",
       "      <th>Low</th>\n",
       "      <th>Close</th>\n",
       "      <th>Adj Close</th>\n",
       "      <th>Volume</th>\n",
       "      <th>3M</th>\n",
       "      <th>5M</th>\n",
       "    </tr>\n",
       "  </thead>\n",
       "  <tbody>\n",
       "    <tr>\n",
       "      <th>23</th>\n",
       "      <td>2000-02-04</td>\n",
       "      <td>5130</td>\n",
       "      <td>5130</td>\n",
       "      <td>5130</td>\n",
       "      <td>5130</td>\n",
       "      <td>3905.633789</td>\n",
       "      <td>0</td>\n",
       "      <td>3936.086833</td>\n",
       "      <td>4021.355811</td>\n",
       "    </tr>\n",
       "    <tr>\n",
       "      <th>41</th>\n",
       "      <td>2000-03-01</td>\n",
       "      <td>5120</td>\n",
       "      <td>5120</td>\n",
       "      <td>5120</td>\n",
       "      <td>5120</td>\n",
       "      <td>3898.019043</td>\n",
       "      <td>0</td>\n",
       "      <td>3816.810710</td>\n",
       "      <td>3841.680811</td>\n",
       "    </tr>\n",
       "    <tr>\n",
       "      <th>66</th>\n",
       "      <td>2000-04-05</td>\n",
       "      <td>6800</td>\n",
       "      <td>6800</td>\n",
       "      <td>6800</td>\n",
       "      <td>6800</td>\n",
       "      <td>5177.057617</td>\n",
       "      <td>0</td>\n",
       "      <td>5253.190430</td>\n",
       "      <td>5245.577051</td>\n",
       "    </tr>\n",
       "    <tr>\n",
       "      <th>72</th>\n",
       "      <td>2000-04-13</td>\n",
       "      <td>6910</td>\n",
       "      <td>6910</td>\n",
       "      <td>6910</td>\n",
       "      <td>6910</td>\n",
       "      <td>5260.803223</td>\n",
       "      <td>0</td>\n",
       "      <td>5309.020834</td>\n",
       "      <td>5393.275293</td>\n",
       "    </tr>\n",
       "    <tr>\n",
       "      <th>84</th>\n",
       "      <td>2000-05-01</td>\n",
       "      <td>6000</td>\n",
       "      <td>6000</td>\n",
       "      <td>6000</td>\n",
       "      <td>6000</td>\n",
       "      <td>4567.991211</td>\n",
       "      <td>0</td>\n",
       "      <td>4415.724772</td>\n",
       "      <td>4360.908692</td>\n",
       "    </tr>\n",
       "    <tr>\n",
       "      <th>...</th>\n",
       "      <td>...</td>\n",
       "      <td>...</td>\n",
       "      <td>...</td>\n",
       "      <td>...</td>\n",
       "      <td>...</td>\n",
       "      <td>...</td>\n",
       "      <td>...</td>\n",
       "      <td>...</td>\n",
       "      <td>...</td>\n",
       "    </tr>\n",
       "    <tr>\n",
       "      <th>5564</th>\n",
       "      <td>2022-02-28</td>\n",
       "      <td>71900</td>\n",
       "      <td>71900</td>\n",
       "      <td>71900</td>\n",
       "      <td>71900</td>\n",
       "      <td>71530.257810</td>\n",
       "      <td>0</td>\n",
       "      <td>71397.609380</td>\n",
       "      <td>72405.731250</td>\n",
       "    </tr>\n",
       "    <tr>\n",
       "      <th>5567</th>\n",
       "      <td>2022-03-04</td>\n",
       "      <td>72900</td>\n",
       "      <td>72900</td>\n",
       "      <td>72900</td>\n",
       "      <td>72900</td>\n",
       "      <td>72525.117190</td>\n",
       "      <td>0</td>\n",
       "      <td>72127.174480</td>\n",
       "      <td>71888.407810</td>\n",
       "    </tr>\n",
       "    <tr>\n",
       "      <th>5570</th>\n",
       "      <td>2022-03-10</td>\n",
       "      <td>69500</td>\n",
       "      <td>69500</td>\n",
       "      <td>69500</td>\n",
       "      <td>69500</td>\n",
       "      <td>69142.601560</td>\n",
       "      <td>0</td>\n",
       "      <td>69341.572920</td>\n",
       "      <td>70614.990630</td>\n",
       "    </tr>\n",
       "    <tr>\n",
       "      <th>5573</th>\n",
       "      <td>2022-03-15</td>\n",
       "      <td>70200</td>\n",
       "      <td>70200</td>\n",
       "      <td>70200</td>\n",
       "      <td>70200</td>\n",
       "      <td>69839.000000</td>\n",
       "      <td>0</td>\n",
       "      <td>69772.677080</td>\n",
       "      <td>69520.646880</td>\n",
       "    </tr>\n",
       "    <tr>\n",
       "      <th>5575</th>\n",
       "      <td>2022-03-17</td>\n",
       "      <td>70400</td>\n",
       "      <td>70400</td>\n",
       "      <td>70400</td>\n",
       "      <td>70400</td>\n",
       "      <td>70037.968750</td>\n",
       "      <td>0</td>\n",
       "      <td>69971.645830</td>\n",
       "      <td>69878.793750</td>\n",
       "    </tr>\n",
       "  </tbody>\n",
       "</table>\n",
       "<p>127 rows × 9 columns</p>\n",
       "</div>"
      ],
      "text/plain": [
       "            Date   Open   High    Low  Close     Adj Close  Volume  \\\n",
       "23    2000-02-04   5130   5130   5130   5130   3905.633789       0   \n",
       "41    2000-03-01   5120   5120   5120   5120   3898.019043       0   \n",
       "66    2000-04-05   6800   6800   6800   6800   5177.057617       0   \n",
       "72    2000-04-13   6910   6910   6910   6910   5260.803223       0   \n",
       "84    2000-05-01   6000   6000   6000   6000   4567.991211       0   \n",
       "...          ...    ...    ...    ...    ...           ...     ...   \n",
       "5564  2022-02-28  71900  71900  71900  71900  71530.257810       0   \n",
       "5567  2022-03-04  72900  72900  72900  72900  72525.117190       0   \n",
       "5570  2022-03-10  69500  69500  69500  69500  69142.601560       0   \n",
       "5573  2022-03-15  70200  70200  70200  70200  69839.000000       0   \n",
       "5575  2022-03-17  70400  70400  70400  70400  70037.968750       0   \n",
       "\n",
       "                3M            5M  \n",
       "23     3936.086833   4021.355811  \n",
       "41     3816.810710   3841.680811  \n",
       "66     5253.190430   5245.577051  \n",
       "72     5309.020834   5393.275293  \n",
       "84     4415.724772   4360.908692  \n",
       "...            ...           ...  \n",
       "5564  71397.609380  72405.731250  \n",
       "5567  72127.174480  71888.407810  \n",
       "5570  69341.572920  70614.990630  \n",
       "5573  69772.677080  69520.646880  \n",
       "5575  69971.645830  69878.793750  \n",
       "\n",
       "[127 rows x 9 columns]"
      ]
     },
     "execution_count": 12,
     "metadata": {},
     "output_type": "execute_result"
    }
   ],
   "source": [
    "raw_df.loc[raw_df['Volume']==0]"
   ]
  },
  {
   "cell_type": "code",
   "execution_count": 13,
   "id": "faf01262-c2bb-4531-9b63-03ef8bff2b49",
   "metadata": {},
   "outputs": [
    {
     "name": "stdout",
     "output_type": "stream",
     "text": [
      "Date:0\n",
      "Open:0\n",
      "High:0\n",
      "Low:0\n",
      "Close:0\n",
      "Adj Close:0\n",
      "Volume:127\n",
      "3M:0\n",
      "5M:0\n"
     ]
    }
   ],
   "source": [
    "# 각 column에 0이 몇개인지 확인\n",
    "\n",
    "for col in raw_df.columns:\n",
    "    missing_rows = raw_df.loc[raw_df[col]==0].shape[0]\n",
    "    print(col+':'+str(missing_rows))"
   ]
  },
  {
   "cell_type": "code",
   "execution_count": 14,
   "id": "7298c8d6-10d1-41cc-a0ee-9bc1e07bd9c9",
   "metadata": {},
   "outputs": [
    {
     "name": "stdout",
     "output_type": "stream",
     "text": [
      "Date:0\n",
      "Open:0\n",
      "High:0\n",
      "Low:0\n",
      "Close:0\n",
      "Adj Close:0\n",
      "Volume:0\n",
      "3M:0\n",
      "5M:0\n"
     ]
    }
   ],
   "source": [
    "# 먼저 0을 NaN으로 바꾼 후, Missing Date 처리\n",
    "\n",
    "raw_df['Volume']=raw_df['Volume'].replace(0,np.nan)\n",
    "\n",
    "# 각 column에 0이 몇개인지 확인\n",
    "for col in raw_df.columns:\n",
    "    missing_rows=raw_df.loc[raw_df[col]==0].shape[0]\n",
    "    print(col+':'+str(missing_rows))"
   ]
  },
  {
   "cell_type": "code",
   "execution_count": 16,
   "id": "720075ea-4a68-4eb9-bd2d-caf219a2a25d",
   "metadata": {},
   "outputs": [
    {
     "data": {
      "text/plain": [
       "Date           0\n",
       "Open           0\n",
       "High           0\n",
       "Low            0\n",
       "Close          0\n",
       "Adj Close      0\n",
       "Volume       127\n",
       "3M             2\n",
       "5M             4\n",
       "dtype: int64"
      ]
     },
     "execution_count": 16,
     "metadata": {},
     "output_type": "execute_result"
    }
   ],
   "source": [
    "# missing data 확인\n",
    "raw_df.isnull().sum()"
   ]
  },
  {
   "cell_type": "code",
   "execution_count": 17,
   "id": "44400d2b-8d08-48ad-b136-e2af676f4515",
   "metadata": {},
   "outputs": [
    {
     "data": {
      "text/plain": [
       "Date         False\n",
       "Open         False\n",
       "High         False\n",
       "Low          False\n",
       "Close        False\n",
       "Adj Close    False\n",
       "Volume        True\n",
       "3M            True\n",
       "5M            True\n",
       "dtype: bool"
      ]
     },
     "execution_count": 17,
     "metadata": {},
     "output_type": "execute_result"
    }
   ],
   "source": [
    "raw_df.isnull().any()"
   ]
  },
  {
   "cell_type": "code",
   "execution_count": 19,
   "id": "2d469e12-2d33-44f0-b19f-7b3c4a34ed49",
   "metadata": {},
   "outputs": [
    {
     "data": {
      "text/html": [
       "<div>\n",
       "<style scoped>\n",
       "    .dataframe tbody tr th:only-of-type {\n",
       "        vertical-align: middle;\n",
       "    }\n",
       "\n",
       "    .dataframe tbody tr th {\n",
       "        vertical-align: top;\n",
       "    }\n",
       "\n",
       "    .dataframe thead th {\n",
       "        text-align: right;\n",
       "    }\n",
       "</style>\n",
       "<table border=\"1\" class=\"dataframe\">\n",
       "  <thead>\n",
       "    <tr style=\"text-align: right;\">\n",
       "      <th></th>\n",
       "      <th>Date</th>\n",
       "      <th>Open</th>\n",
       "      <th>High</th>\n",
       "      <th>Low</th>\n",
       "      <th>Close</th>\n",
       "      <th>Adj Close</th>\n",
       "      <th>Volume</th>\n",
       "      <th>3M</th>\n",
       "      <th>5M</th>\n",
       "    </tr>\n",
       "  </thead>\n",
       "  <tbody>\n",
       "  </tbody>\n",
       "</table>\n",
       "</div>"
      ],
      "text/plain": [
       "Empty DataFrame\n",
       "Columns: [Date, Open, High, Low, Close, Adj Close, Volume, 3M, 5M]\n",
       "Index: []"
      ]
     },
     "execution_count": 19,
     "metadata": {},
     "output_type": "execute_result"
    }
   ],
   "source": [
    "raw_df.loc[raw_df['Open'].isna()]"
   ]
  },
  {
   "cell_type": "code",
   "execution_count": 20,
   "id": "a52ca524-492f-4913-a8e2-47cb52f88bc1",
   "metadata": {},
   "outputs": [
    {
     "data": {
      "text/plain": [
       "Date         0\n",
       "Open         0\n",
       "High         0\n",
       "Low          0\n",
       "Close        0\n",
       "Adj Close    0\n",
       "Volume       0\n",
       "3M           0\n",
       "5M           0\n",
       "dtype: int64"
      ]
     },
     "execution_count": 20,
     "metadata": {},
     "output_type": "execute_result"
    }
   ],
   "source": [
    "# missing data 처리\n",
    "\n",
    "raw_df=raw_df.dropna()\n",
    "\n",
    "raw_df.isnull().sum()"
   ]
  },
  {
   "cell_type": "code",
   "execution_count": 23,
   "id": "897bd4be-ad51-4c09-8697-91c52cef5e99",
   "metadata": {},
   "outputs": [
    {
     "name": "stdout",
     "output_type": "stream",
     "text": [
      "          Open      High       Low     Close  Adj Close        3M        5M  \\\n",
      "0     0.034868  0.032008  0.036288  0.034440   0.026655  0.025192  0.025698   \n",
      "1     0.037375  0.035517  0.038470  0.034440   0.026655  0.025634  0.025094   \n",
      "2     0.034982  0.031689  0.036518  0.033873   0.026217  0.026163  0.025343   \n",
      "3     0.034868  0.031689  0.036059  0.033760   0.026129  0.025987  0.025503   \n",
      "4     0.036235  0.033177  0.037437  0.035120   0.027181  0.026163  0.026018   \n",
      "...        ...       ...       ...       ...        ...       ...       ...   \n",
      "5509  0.643345  0.599107  0.633670  0.621615   0.639430  0.651076  0.664183   \n",
      "5510  0.628532  0.587410  0.624483  0.619350   0.637127  0.646051  0.656019   \n",
      "5511  0.630811  0.599107  0.634819  0.630679   0.648644  0.645664  0.652753   \n",
      "5512  0.643345  0.607614  0.641709  0.635210   0.653250  0.650303  0.652986   \n",
      "5513  0.645624  0.603360  0.649747  0.638609   0.656705  0.656874  0.654386   \n",
      "\n",
      "        Volume  \n",
      "0     0.285359  \n",
      "1     0.363715  \n",
      "2     0.177799  \n",
      "3     0.250704  \n",
      "4     0.300555  \n",
      "...        ...  \n",
      "5509  0.141954  \n",
      "5510  0.172431  \n",
      "5511  0.141475  \n",
      "5512  0.110207  \n",
      "5513  0.015411  \n",
      "\n",
      "[5514 rows x 8 columns]\n"
     ]
    }
   ],
   "source": [
    "# 정규화 (Data 제외한 모든 수치부분 정규화)\n",
    "\n",
    "from sklearn.preprocessing import MinMaxScaler\n",
    "\n",
    "scaler=MinMaxScaler()\n",
    "\n",
    "scale_cols=['Open', 'High', 'Low', 'Close', 'Adj Close', '3M', '5M', 'Volume']\n",
    "\n",
    "scaled_df=scaler.fit_transform(raw_df[scale_cols])\n",
    "\n",
    "scaled_df=pd.DataFrame(scaled_df, columns=scale_cols)\n",
    "\n",
    "print(scaled_df)"
   ]
  },
  {
   "cell_type": "markdown",
   "id": "164c1c02-0523-4129-9aff-7c6928a27ac1",
   "metadata": {},
   "source": [
    "#### 주가 예측을 위해 3M, 5M Adj Close 항목을 feature 선정\n",
    "- 정답은 Ajd Close\n",
    "- 시계열 데이터를 위한 window_size=40 설정"
   ]
  },
  {
   "cell_type": "code",
   "execution_count": 25,
   "id": "2ff6c630-4e84-4f01-ac4a-88af9393739f",
   "metadata": {},
   "outputs": [],
   "source": [
    "# 입력 파라미터 feature, label => numpy type\n",
    "\n",
    "def make_sequene_dataset(feature, label, window_size):\n",
    "    feature_list=[]\n",
    "    label_list=[]\n",
    "    \n",
    "    for i in range(len(feature)-window_size):\n",
    "        feature_list.append(feature[i:i+window_size])\n",
    "        label_list.append(label[i+window_size])\n",
    "        \n",
    "    return np.array(feature_list), np.array(label_list)"
   ]
  },
  {
   "cell_type": "code",
   "execution_count": 27,
   "id": "88144cd5-8157-4d02-aac2-2559b744ca1c",
   "metadata": {},
   "outputs": [],
   "source": [
    "# feature_df, label_df 생성\n",
    "\n",
    "feature_cols=['3M','5M','Adj Close']\n",
    "label_cols=['Adj Close']\n",
    "\n",
    "feature_df=pd.DataFrame(scaled_df, columns=feature_cols)\n",
    "label_df=pd.DataFrame(scaled_df, columns=label_cols)"
   ]
  },
  {
   "cell_type": "code",
   "execution_count": 29,
   "id": "51084f32-7511-4eff-85e7-7a7bb16560a0",
   "metadata": {},
   "outputs": [
    {
     "data": {
      "text/html": [
       "<div>\n",
       "<style scoped>\n",
       "    .dataframe tbody tr th:only-of-type {\n",
       "        vertical-align: middle;\n",
       "    }\n",
       "\n",
       "    .dataframe tbody tr th {\n",
       "        vertical-align: top;\n",
       "    }\n",
       "\n",
       "    .dataframe thead th {\n",
       "        text-align: right;\n",
       "    }\n",
       "</style>\n",
       "<table border=\"1\" class=\"dataframe\">\n",
       "  <thead>\n",
       "    <tr style=\"text-align: right;\">\n",
       "      <th></th>\n",
       "      <th>3M</th>\n",
       "      <th>5M</th>\n",
       "      <th>Adj Close</th>\n",
       "    </tr>\n",
       "  </thead>\n",
       "  <tbody>\n",
       "    <tr>\n",
       "      <th>0</th>\n",
       "      <td>0.025192</td>\n",
       "      <td>0.025698</td>\n",
       "      <td>0.026655</td>\n",
       "    </tr>\n",
       "    <tr>\n",
       "      <th>1</th>\n",
       "      <td>0.025634</td>\n",
       "      <td>0.025094</td>\n",
       "      <td>0.026655</td>\n",
       "    </tr>\n",
       "    <tr>\n",
       "      <th>2</th>\n",
       "      <td>0.026163</td>\n",
       "      <td>0.025343</td>\n",
       "      <td>0.026217</td>\n",
       "    </tr>\n",
       "    <tr>\n",
       "      <th>3</th>\n",
       "      <td>0.025987</td>\n",
       "      <td>0.025503</td>\n",
       "      <td>0.026129</td>\n",
       "    </tr>\n",
       "    <tr>\n",
       "      <th>4</th>\n",
       "      <td>0.026163</td>\n",
       "      <td>0.026018</td>\n",
       "      <td>0.027181</td>\n",
       "    </tr>\n",
       "  </tbody>\n",
       "</table>\n",
       "</div>"
      ],
      "text/plain": [
       "         3M        5M  Adj Close\n",
       "0  0.025192  0.025698   0.026655\n",
       "1  0.025634  0.025094   0.026655\n",
       "2  0.026163  0.025343   0.026217\n",
       "3  0.025987  0.025503   0.026129\n",
       "4  0.026163  0.026018   0.027181"
      ]
     },
     "execution_count": 29,
     "metadata": {},
     "output_type": "execute_result"
    }
   ],
   "source": [
    "feature_df.head()"
   ]
  },
  {
   "cell_type": "code",
   "execution_count": 30,
   "id": "9e1784c8-4cee-4705-a8d5-31409c62c82e",
   "metadata": {},
   "outputs": [
    {
     "data": {
      "text/html": [
       "<div>\n",
       "<style scoped>\n",
       "    .dataframe tbody tr th:only-of-type {\n",
       "        vertical-align: middle;\n",
       "    }\n",
       "\n",
       "    .dataframe tbody tr th {\n",
       "        vertical-align: top;\n",
       "    }\n",
       "\n",
       "    .dataframe thead th {\n",
       "        text-align: right;\n",
       "    }\n",
       "</style>\n",
       "<table border=\"1\" class=\"dataframe\">\n",
       "  <thead>\n",
       "    <tr style=\"text-align: right;\">\n",
       "      <th></th>\n",
       "      <th>Adj Close</th>\n",
       "    </tr>\n",
       "  </thead>\n",
       "  <tbody>\n",
       "    <tr>\n",
       "      <th>0</th>\n",
       "      <td>0.026655</td>\n",
       "    </tr>\n",
       "    <tr>\n",
       "      <th>1</th>\n",
       "      <td>0.026655</td>\n",
       "    </tr>\n",
       "    <tr>\n",
       "      <th>2</th>\n",
       "      <td>0.026217</td>\n",
       "    </tr>\n",
       "    <tr>\n",
       "      <th>3</th>\n",
       "      <td>0.026129</td>\n",
       "    </tr>\n",
       "    <tr>\n",
       "      <th>4</th>\n",
       "      <td>0.027181</td>\n",
       "    </tr>\n",
       "  </tbody>\n",
       "</table>\n",
       "</div>"
      ],
      "text/plain": [
       "   Adj Close\n",
       "0   0.026655\n",
       "1   0.026655\n",
       "2   0.026217\n",
       "3   0.026129\n",
       "4   0.027181"
      ]
     },
     "execution_count": 30,
     "metadata": {},
     "output_type": "execute_result"
    }
   ],
   "source": [
    "label_df.head()"
   ]
  },
  {
   "cell_type": "code",
   "execution_count": 31,
   "id": "0d7b7fe8-bdc6-4246-99c5-ef2e3820d9a7",
   "metadata": {},
   "outputs": [],
   "source": [
    "# DataFrame => Numpy 변환\n",
    "\n",
    "feature_np=feature_df.to_numpy()\n",
    "label_np=label_df.to_numpy()"
   ]
  },
  {
   "cell_type": "code",
   "execution_count": 36,
   "id": "d5cf5e6c-29c1-4a46-bfe4-5754d1454d70",
   "metadata": {},
   "outputs": [
    {
     "name": "stdout",
     "output_type": "stream",
     "text": [
      "(5474, 40, 3) (5474, 1)\n"
     ]
    }
   ],
   "source": [
    "window_size=40\n",
    "\n",
    "X,Y=make_sequene_dataset(feature_np,label_np,window_size)\n",
    "\n",
    "print(X.shape, Y.shape)"
   ]
  },
  {
   "cell_type": "markdown",
   "id": "1f6ce988-5791-41d6-9523-c2e017a81f32",
   "metadata": {},
   "source": [
    "#### 학습 데이터 테스트 데이터 생성"
   ]
  },
  {
   "cell_type": "code",
   "execution_count": 38,
   "id": "855aea51-221b-411f-ba09-b2f8dd72e130",
   "metadata": {},
   "outputs": [
    {
     "name": "stdout",
     "output_type": "stream",
     "text": [
      "(5274, 40, 3) (5274, 1)\n",
      "(200, 40, 3) (200, 1)\n"
     ]
    }
   ],
   "source": [
    "# train, test 분리\n",
    "\n",
    "#split= int(len(X)*0.95)\n",
    "split =-200\n",
    "\n",
    "x_train=X[0:split]\n",
    "y_train=Y[0:split]\n",
    "\n",
    "x_test=X[split:]\n",
    "y_test=Y[split:]\n",
    "\n",
    "print(x_train.shape, y_train.shape)\n",
    "print(x_test.shape, y_test.shape)"
   ]
  },
  {
   "cell_type": "markdown",
   "id": "8bb95881-6021-4a3e-aa15-3103d27b6984",
   "metadata": {},
   "source": [
    "#### 모델 구축 및 컴파일"
   ]
  },
  {
   "cell_type": "code",
   "execution_count": 46,
   "id": "8b4467dd-a6f4-4b04-9fc7-3226e3782bf6",
   "metadata": {},
   "outputs": [],
   "source": [
    "# model 생성\n",
    "\n",
    "model=Sequential()\n",
    "\n",
    "model.add(LSTM(128, activation='tanh', input_shape=x_train[0].shape))\n",
    "\n",
    "model.add(Dense(1, activation='linear'))"
   ]
  },
  {
   "cell_type": "code",
   "execution_count": 47,
   "id": "12df334f-db92-4958-94af-462d5b71f405",
   "metadata": {},
   "outputs": [
    {
     "name": "stdout",
     "output_type": "stream",
     "text": [
      "Model: \"sequential_3\"\n",
      "_________________________________________________________________\n",
      " Layer (type)                Output Shape              Param #   \n",
      "=================================================================\n",
      " lstm_2 (LSTM)               (None, 128)               67584     \n",
      "                                                                 \n",
      " dense_2 (Dense)             (None, 1)                 129       \n",
      "                                                                 \n",
      "=================================================================\n",
      "Total params: 67,713\n",
      "Trainable params: 67,713\n",
      "Non-trainable params: 0\n",
      "_________________________________________________________________\n"
     ]
    }
   ],
   "source": [
    "model.compile(loss='mse', optimizer='adam', metrics=['mae'])\n",
    "\n",
    "model.summary()"
   ]
  },
  {
   "cell_type": "markdown",
   "id": "1ce74452-4b3a-4451-98d8-44c728e99445",
   "metadata": {},
   "source": [
    "#### 모델학습 (EarlyStopping 적용)"
   ]
  },
  {
   "cell_type": "code",
   "execution_count": 55,
   "id": "f0958d58-03e5-4eea-9420-add18cfe255a",
   "metadata": {},
   "outputs": [
    {
     "name": "stdout",
     "output_type": "stream",
     "text": [
      "Epoch 1/300\n",
      "330/330 [==============================] - 5s 15ms/step - loss: 3.1025e-05 - mae: 0.0035 - val_loss: 1.7573e-04 - val_mae: 0.0106\n",
      "Epoch 2/300\n",
      "330/330 [==============================] - 5s 15ms/step - loss: 3.3738e-05 - mae: 0.0038 - val_loss: 1.9536e-04 - val_mae: 0.0110\n",
      "Epoch 3/300\n",
      "330/330 [==============================] - 5s 14ms/step - loss: 3.2698e-05 - mae: 0.0037 - val_loss: 1.4008e-04 - val_mae: 0.0090\n",
      "Epoch 4/300\n",
      "330/330 [==============================] - 5s 14ms/step - loss: 3.4291e-05 - mae: 0.0038 - val_loss: 1.3106e-04 - val_mae: 0.0085\n",
      "Epoch 5/300\n",
      "330/330 [==============================] - 5s 14ms/step - loss: 3.2515e-05 - mae: 0.0037 - val_loss: 1.2831e-04 - val_mae: 0.0084\n",
      "Epoch 6/300\n",
      "330/330 [==============================] - 5s 14ms/step - loss: 3.3831e-05 - mae: 0.0038 - val_loss: 1.3886e-04 - val_mae: 0.0089\n",
      "Epoch 7/300\n",
      "330/330 [==============================] - 5s 14ms/step - loss: 3.3672e-05 - mae: 0.0037 - val_loss: 1.2988e-04 - val_mae: 0.0085\n",
      "Epoch 8/300\n",
      "330/330 [==============================] - 5s 14ms/step - loss: 3.0887e-05 - mae: 0.0036 - val_loss: 1.4604e-04 - val_mae: 0.0093\n",
      "Epoch 9/300\n",
      "330/330 [==============================] - 5s 14ms/step - loss: 3.4147e-05 - mae: 0.0039 - val_loss: 1.3270e-04 - val_mae: 0.0087\n",
      "Epoch 10/300\n",
      "330/330 [==============================] - 5s 14ms/step - loss: 3.3095e-05 - mae: 0.0036 - val_loss: 1.2674e-04 - val_mae: 0.0084\n",
      "Epoch 11/300\n",
      "330/330 [==============================] - 5s 14ms/step - loss: 3.1573e-05 - mae: 0.0036 - val_loss: 1.3347e-04 - val_mae: 0.0086\n",
      "Epoch 12/300\n",
      "330/330 [==============================] - 5s 14ms/step - loss: 3.2726e-05 - mae: 0.0037 - val_loss: 3.5902e-04 - val_mae: 0.0166\n",
      "Epoch 13/300\n",
      "330/330 [==============================] - 5s 14ms/step - loss: 3.3438e-05 - mae: 0.0037 - val_loss: 1.2261e-04 - val_mae: 0.0082\n",
      "Epoch 14/300\n",
      "330/330 [==============================] - 5s 15ms/step - loss: 3.4137e-05 - mae: 0.0037 - val_loss: 1.2358e-04 - val_mae: 0.0082\n",
      "Epoch 15/300\n",
      "330/330 [==============================] - 5s 15ms/step - loss: 3.2591e-05 - mae: 0.0037 - val_loss: 1.2636e-04 - val_mae: 0.0084\n",
      "Epoch 16/300\n",
      "330/330 [==============================] - 5s 15ms/step - loss: 3.3661e-05 - mae: 0.0037 - val_loss: 1.2722e-04 - val_mae: 0.0084\n",
      "Epoch 17/300\n",
      "330/330 [==============================] - 5s 15ms/step - loss: 3.0980e-05 - mae: 0.0035 - val_loss: 1.7467e-04 - val_mae: 0.0105\n",
      "Epoch 18/300\n",
      "330/330 [==============================] - 5s 15ms/step - loss: 3.3219e-05 - mae: 0.0037 - val_loss: 1.3743e-04 - val_mae: 0.0089\n",
      "Epoch 19/300\n",
      "330/330 [==============================] - 5s 15ms/step - loss: 3.3310e-05 - mae: 0.0037 - val_loss: 1.2749e-04 - val_mae: 0.0084\n",
      "Epoch 20/300\n",
      "330/330 [==============================] - 5s 15ms/step - loss: 3.3872e-05 - mae: 0.0037 - val_loss: 1.2542e-04 - val_mae: 0.0083\n",
      "Epoch 21/300\n",
      "330/330 [==============================] - 5s 14ms/step - loss: 3.1684e-05 - mae: 0.0037 - val_loss: 1.6708e-04 - val_mae: 0.0100\n",
      "Epoch 22/300\n",
      "330/330 [==============================] - 5s 14ms/step - loss: 3.3604e-05 - mae: 0.0038 - val_loss: 1.2625e-04 - val_mae: 0.0083\n",
      "Epoch 23/300\n",
      "330/330 [==============================] - 5s 14ms/step - loss: 3.2163e-05 - mae: 0.0036 - val_loss: 1.6386e-04 - val_mae: 0.0099\n"
     ]
    },
    {
     "data": {
      "text/plain": [
       "<keras.callbacks.History at 0x2c073cfd2b0>"
      ]
     },
     "execution_count": 55,
     "metadata": {},
     "output_type": "execute_result"
    }
   ],
   "source": [
    "from tensorflow.keras.callbacks import EarlyStopping\n",
    "\n",
    "early_stop=EarlyStopping(monitor='val_loss', patience=10)\n",
    "\n",
    "model.fit(x_train, y_train,\n",
    "         validation_data=(x_test,y_test),\n",
    "         epochs=300, batch_size=16,\n",
    "         callbacks=[early_stop]\n",
    "         )"
   ]
  },
  {
   "cell_type": "code",
   "execution_count": 54,
   "id": "71576c79-a58c-4f00-b288-a796082f100d",
   "metadata": {},
   "outputs": [
    {
     "name": "stdout",
     "output_type": "stream",
     "text": [
      "7/7 [==============================] - 0s 9ms/step\n",
      "[0.8452554] [0.82065864]\n"
     ]
    }
   ],
   "source": [
    "pred=model.predict(x_test)\n",
    "print(pred[0], y_test[0])"
   ]
  },
  {
   "cell_type": "markdown",
   "id": "a405dc2c-4e12-4659-9f33-3690de275e01",
   "metadata": {},
   "source": [
    "#### 예측을 총한 정답과의 비교(오차계산 MAPE 사용, 평균절대값백분율오차)"
   ]
  },
  {
   "cell_type": "code",
   "execution_count": 56,
   "id": "dc703a68-08fa-4560-aaa0-a137ad1d0d9c",
   "metadata": {},
   "outputs": [
    {
     "data": {
      "image/png": "[encoded data removed]",
      "text/plain": [
       "<Figure size 864x432 with 1 Axes>"
      ]
     },
     "metadata": {
      "needs_background": "light"
     },
     "output_type": "display_data"
    }
   ],
   "source": [
    "plt.figure(figsize=(12,6))\n",
    "plt.title('3M + 5M + Adj Close, window size=40')\n",
    "plt.ylabel('adj close')\n",
    "plt.xlabel('period')\n",
    "plt.plot(y_test, label='actual')\n",
    "plt.plot(pred, label='prediction')\n",
    "plt.grid()\n",
    "plt.legend(loc='best')\n",
    "\n",
    "plt.show()"
   ]
  },
  {
   "cell_type": "code",
   "execution_count": 57,
   "id": "e0286f9a-1c44-4660-bbd7-98ac16df9a03",
   "metadata": {},
   "outputs": [
    {
     "name": "stdout",
     "output_type": "stream",
     "text": [
      "0.010730034481648823\n"
     ]
    }
   ],
   "source": [
    "# 평균절대값백분율오차계산(MAPE)\n",
    "\n",
    "print(np.sum(abs(y_test-pred)/y_test)/len(x_test))"
   ]
  }
 ],
 "metadata": {
  "kernelspec": {
   "display_name": "Python 3 (ipykernel)",
   "language": "python",
   "name": "python3"
  },
  "language_info": {
   "codemirror_mode": {
    "name": "ipython",
    "version": 3
   },
   "file_extension": ".py",
   "mimetype": "text/x-python",
   "name": "python",
   "nbconvert_exporter": "python",
   "pygments_lexer": "ipython3",
   "version": "3.9.12"
  }
 },
 "nbformat": 4,
 "nbformat_minor": 5
}
