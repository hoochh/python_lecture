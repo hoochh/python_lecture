{
 "cells": [
  {
   "cell_type": "code",
   "execution_count": 1,
   "id": "6a6bb1c3-71b0-434d-b1be-fbed8db71b6d",
   "metadata": {},
   "outputs": [],
   "source": [
    "# page 요청 모듈\n",
    "import urllib.request as req1\n",
    "import requests as req2\n",
    "\n",
    "from bs4 import BeautifulSoup"
   ]
  },
  {
   "cell_type": "code",
   "execution_count": 2,
   "id": "764f36bc-d585-4436-99ea-ad03ad2783c9",
   "metadata": {},
   "outputs": [
    {
     "data": {
      "text/plain": [
       "'그대가 조국'"
      ]
     },
     "execution_count": 2,
     "metadata": {},
     "output_type": "execute_result"
    }
   ],
   "source": [
    "url=\"https://movie.naver.com/movie/point/af/list.naver\"\n",
    "\n",
    "# urllib 사용\n",
    "html=req1.urlopen(url) # BeatifulSoup을 사용하기 때문에 .read() 여부에 상관 없이 출력됨\n",
    "\n",
    "# requests 사용\n",
    "#html=requests.get(url).text # response 결과의 text를 가져올 수 있다\n",
    "#html=requests.request('GET',url) # 위와 같음\n",
    "\n",
    "bs=BeautifulSoup(html,'html.parser')\n",
    "bs\n",
    "\n",
    "# 태그를 사용해서 내용을 가져오는 것은 비추\n",
    "td=bs.table.td.next_sibling.next_sibling #table 태그 안의 td 태그, 그 다음 td 태그...\n",
    "title=td.a.text # td 태그 내의 a태그의 text 결과를 가져온다\n",
    "title"
   ]
  },
  {
   "cell_type": "code",
   "execution_count": 8,
   "id": "b09e73fb-edc9-44ca-add3-c4c96dac7e78",
   "metadata": {},
   "outputs": [
    {
     "name": "stdout",
     "output_type": "stream",
     "text": [
      "그대가 조국\n",
      "범죄도시2\n",
      "그대가 조국\n",
      "그대가 조국\n",
      "그대가 조국\n",
      "범죄도시2\n",
      "닥터 스트레인지: 대혼돈의 멀티버스\n",
      "그대가 조국\n",
      "괴테스쿨의 사고뭉치들\n",
      "삼진그룹 영어토익반\n"
     ]
    }
   ],
   "source": [
    "# 클래스명으로 찾기\n",
    "#title=bs.find(class_='title')\n",
    "#title=title.find('a').text #하나의 title만\n",
    "\n",
    "titles=bs.find_all(class_='title') # 모든 title이 리스트로 출력\n",
    "for i in titles:\n",
    "    title=i.find('a').text # 리스트의 title 태그 내의 a 태그의 text를 출력\n",
    "    print(title)"
   ]
  },
  {
   "cell_type": "code",
   "execution_count": null,
   "id": "1906d7af-f3ec-4f02-af7f-051649dabf56",
   "metadata": {},
   "outputs": [],
   "source": [
    "# find_all()\n",
    "# 한꺼번에 여러 태그를 찾을 때는 find_all(['태그','태그'])와 같이 리스트로...\n",
    "# find_all(id=re.compile(\"para$\")) 정규 표현식. id 중에서 para로 끝나는 것\n",
    "# re.compile(\"^test\") test로 시작하는 것\n",
    "\n",
    "# find() : 위와 같으나 하나의 요소만을 가져온다\n",
    "\n",
    "# selet() \n",
    "# 개발자 도구에서 selector 요소 선택하여 경로 찾기 \n",
    "# -> css 선택자 사용해 원하는 요소를 찾을 수 있다"
   ]
  },
  {
   "cell_type": "code",
   "execution_count": 10,
   "id": "d703ffda-5ff0-4589-b225-81eba6fae109",
   "metadata": {},
   "outputs": [
    {
     "name": "stdout",
     "output_type": "stream",
     "text": [
      "<h1 id=\"title\">Hello python</h1>\n",
      "Hello python\n",
      "<p id=\"body\">웹 페이지 분석</p>\n",
      "웹 페이지 분석\n",
      "데이터 수집1\n"
     ]
    }
   ],
   "source": [
    "# find_all()실습\n",
    "from urllib.request import urlopen\n",
    "from bs4 import BeautifulSoup\n",
    "html=\"\"\"\n",
    "<html>\n",
    "<body>\n",
    "<h1 id=\"title\">Hello python</h1>\n",
    "<p id=\"body\">웹 페이지 분석</p>\n",
    "<p>웹 스크래핑</p>\n",
    "<span>데이터 수집1</span>\n",
    "<span>데이터 수집2</span>\n",
    "</body>\n",
    "</html>\n",
    "\"\"\"\n",
    "\n",
    "soup=BeautifulSoup(html,'html.parser')\n",
    "title=soup.find(id='title')\n",
    "body=soup.find(id='body')\n",
    "span=soup.find('span')\n",
    "\n",
    "print(title)\n",
    "print(title.string)\n",
    "print(body)\n",
    "print(body.string)\n",
    "print(span.string)"
   ]
  },
  {
   "cell_type": "code",
   "execution_count": null,
   "id": "ddb5d029-4ded-4fec-9186-4b07ae4b0720",
   "metadata": {},
   "outputs": [],
   "source": [
    "html_doc=\"\"\"\n",
    "<!DOCTYPE html>\n",
    "<html>\n",
    "    <head>\n",
    "        <meta charset='utf-8'>\n",
    "        <title>Test BeautifulSoup</title>\n",
    "    </head>\n",
    "    <body>\n",
    "        <p align=\"center\"> text contents </p> \n",
    "        <p align=\"right\">  text contents 2 </p> \n",
    "        <p align=\"left\">   text contents 3 </p>\n",
    "        <img src=\"http://unico2013.dothome.co.kr/image/flower.jpg\" width=\"500\"> \n",
    "        <div>\n",
    "            <p>text contents 4</p> \n",
    "        </div>\n",
    "    </body> \n",
    "</html> \"\"\""
   ]
  }
 ],
 "metadata": {
  "kernelspec": {
   "display_name": "Python 3 (ipykernel)",
   "language": "python",
   "name": "python3"
  },
  "language_info": {
   "codemirror_mode": {
    "name": "ipython",
    "version": 3
   },
   "file_extension": ".py",
   "mimetype": "text/x-python",
   "name": "python",
   "nbconvert_exporter": "python",
   "pygments_lexer": "ipython3",
   "version": "3.9.12"
  }
 },
 "nbformat": 4,
 "nbformat_minor": 5
}
