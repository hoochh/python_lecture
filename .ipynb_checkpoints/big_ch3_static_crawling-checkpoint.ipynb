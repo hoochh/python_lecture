{
 "cells": [
  {
   "cell_type": "code",
   "execution_count": 1,
   "id": "291f81e9-9da0-4c1c-aee4-5d985c8c745c",
   "metadata": {},
   "outputs": [],
   "source": [
    "# 정적 컨텐츠를 가져오는 정적 크롤링\n",
    "# parse를 이용해 원하는 데이터만 가져오기가 가능함\n",
    "# BeautifulSoup 라이브러리 이용\n",
    "\n",
    "from bs4 import BeautifulSoup"
   ]
  },
  {
   "cell_type": "code",
   "execution_count": 15,
   "id": "b74fd079-69bc-4e80-9f74-b57d57fb6b0c",
   "metadata": {},
   "outputs": [],
   "source": [
    "html_doc = \"\"\" \n",
    "<!DOCTYPE html> \n",
    "<html>\n",
    "    <head>\n",
    "        <meta charset=\"utf-8\">\n",
    "        <title>Test BeautifulSoup</title> \n",
    "    </head>\n",
    "    <body>\n",
    "        <h1>테스트</h1>\n",
    "        <ul>\n",
    "            <li>사과</li>\n",
    "            <li>배</li>\n",
    "            <li>포도</li>\n",
    "        </ul>\n",
    "        <a href=\"http://www.naver.com\" class=\"link\">네이버</a>\n",
    "    </body>\n",
    "</html> \"\"\""
   ]
  },
  {
   "cell_type": "code",
   "execution_count": 11,
   "id": "db236467-6cb8-4c42-b046-fb970d1e34de",
   "metadata": {},
   "outputs": [
    {
     "name": "stdout",
     "output_type": "stream",
     "text": [
      "<class 'bs4.BeautifulSoup'>\n",
      "\n",
      "<!DOCTYPE html>\n",
      "\n",
      "<html>\n",
      "<head>\n",
      "<meta charset=\"utf-8\"/>\n",
      "<title>Test BeautifulSoup</title>\n",
      "</head>\n",
      "<body>\n",
      "<h1>테스트</h1>\n",
      "<a class=\"link\" href=\"http://www.naver.com\">네이버</a>\n",
      "</body>\n",
      "</html> \n"
     ]
    }
   ],
   "source": [
    "from bs4 import BeautifulSoup\n",
    "bs = BeautifulSoup(html_doc, 'html.parser')\n",
    "print(type(bs))\n",
    "print(bs)"
   ]
  },
  {
   "cell_type": "code",
   "execution_count": 4,
   "id": "2ab79257-a54f-4e67-8ae3-8fec759466cb",
   "metadata": {},
   "outputs": [
    {
     "name": "stdout",
     "output_type": "stream",
     "text": [
      "<!DOCTYPE html>\n",
      "<html>\n",
      "<head>\n",
      "<meta charset=\"utf-8\"/>\n",
      "<title>Test BeautifulSoup</title>\n",
      "</head>\n",
      "<body>\n",
      "<h1>테스트</h1>\n",
      "</body>\n",
      "</html> \n"
     ]
    }
   ],
   "source": [
    "bs1=BeautifulSoup(html_doc, 'lxml')\n",
    "print(bs1)"
   ]
  },
  {
   "cell_type": "code",
   "execution_count": 5,
   "id": "27ad2ec6-c942-469f-a7ec-3d3819587555",
   "metadata": {},
   "outputs": [
    {
     "name": "stdout",
     "output_type": "stream",
     "text": [
      "<?xml version=\"1.0\" encoding=\"utf-8\"?>\n",
      "<!DOCTYPE html>\n",
      "<html>\n",
      "<head>\n",
      "<meta charset=\"utf-8\">\n",
      "<title>Test BeautifulSoup</title>\n",
      "</meta>\n",
      "<body>\n",
      "<h1>테스트</h1>\n",
      "</body>\n",
      "</head></html>\n"
     ]
    }
   ],
   "source": [
    "bs2=BeautifulSoup(html_doc, 'lxml-xml') \n",
    "print(bs2)"
   ]
  },
  {
   "cell_type": "code",
   "execution_count": 6,
   "id": "9ba957d7-5950-414a-90f9-1678401485f7",
   "metadata": {},
   "outputs": [
    {
     "name": "stdout",
     "output_type": "stream",
     "text": [
      "<!DOCTYPE html>\n",
      "<html><head>\n",
      "        <meta charset=\"utf-8\"/>\n",
      "        <title>Test BeautifulSoup</title> \n",
      "    </head>\n",
      "    <body>\n",
      "        <h1>테스트</h1> \n",
      "    \n",
      " </body></html>\n"
     ]
    }
   ],
   "source": [
    "bs3=BeautifulSoup(html_doc, 'html5lib') # 콘솔에서 설치 필요 pip install html5lib\n",
    "print(bs3)\n",
    "# tab을 지켜서 실행됨"
   ]
  },
  {
   "cell_type": "code",
   "execution_count": 16,
   "id": "1955b967-c69b-4318-9fff-0f1ecb6f8c7e",
   "metadata": {},
   "outputs": [],
   "source": [
    "html_doc = \"\"\" \n",
    "<!DOCTYPE html> \n",
    "<html>\n",
    "    <head>\n",
    "        <meta charset=\"utf-8\">\n",
    "        <title>Test BeautifulSoup</title> \n",
    "    </head>\n",
    "    <body>\n",
    "        <h1>테스트</h1>\n",
    "        <ul>\n",
    "            <li>사과</li>\n",
    "            <li>배</li>\n",
    "            <li>포도</li>\n",
    "        </ul>\n",
    "        <a href=\"http://www.naver.com\" class=\"link\">네이버</a>\n",
    "    </body>\n",
    "</html> \"\"\""
   ]
  },
  {
   "cell_type": "code",
   "execution_count": 17,
   "id": "3485fc67-a113-45b4-8295-26b7bb94fccc",
   "metadata": {},
   "outputs": [
    {
     "name": "stdout",
     "output_type": "stream",
     "text": [
      "<class 'bs4.BeautifulSoup'>\n",
      "\n",
      "<!DOCTYPE html>\n",
      "\n",
      "<html>\n",
      "<head>\n",
      "<meta charset=\"utf-8\"/>\n",
      "<title>Test BeautifulSoup</title>\n",
      "</head>\n",
      "<body>\n",
      "<h1>테스트</h1>\n",
      "<ul>\n",
      "<li>사과</li>\n",
      "<li>배</li>\n",
      "<li>포도</li>\n",
      "</ul>\n",
      "<a class=\"link\" href=\"http://www.naver.com\">네이버</a>\n",
      "</body>\n",
      "</html> \n"
     ]
    }
   ],
   "source": [
    "from bs4 import BeautifulSoup\n",
    "bs = BeautifulSoup(html_doc, 'html.parser')\n",
    "print(type(bs))\n",
    "print(bs)"
   ]
  },
  {
   "cell_type": "code",
   "execution_count": 9,
   "id": "cdf83f32-745d-4743-963e-b2cebbf435c3",
   "metadata": {
    "tags": []
   },
   "outputs": [
    {
     "name": "stdout",
     "output_type": "stream",
     "text": [
      "<h1>테스트</h1>\n",
      "<h1>테스트</h1>\n",
      "<h1>테스트</h1>\n"
     ]
    }
   ],
   "source": [
    "# BeautifulSoup 태그 접근 방법\n",
    "print(bs.html.body.h1) # 아래와 동일\n",
    "print(bs.body.h1)\n",
    "print(bs.h1)"
   ]
  },
  {
   "cell_type": "code",
   "execution_count": 18,
   "id": "7f38f130-c9f8-4aa3-bc79-fec1c9d8cbcd",
   "metadata": {},
   "outputs": [
    {
     "name": "stdout",
     "output_type": "stream",
     "text": [
      "a\n",
      "http://www.naver.com\n",
      "{'href': 'http://www.naver.com', 'class': ['link']}\n"
     ]
    }
   ],
   "source": [
    "print(bs.a.name)\n",
    "print(bs.a['href'])\n",
    "print(bs.a.attrs)"
   ]
  },
  {
   "cell_type": "code",
   "execution_count": 22,
   "id": "e5cc9531-0342-429b-91f0-bc51d3892511",
   "metadata": {},
   "outputs": [
    {
     "name": "stdout",
     "output_type": "stream",
     "text": [
      "테스트\n",
      "테스트\n",
      "['테스트']\n",
      "<generator object Tag._all_strings at 0x00000247176C3F20>\n",
      "테스트\n"
     ]
    }
   ],
   "source": [
    "print(bs.h1.string)\n",
    "print(bs.h1.text)\n",
    "print(bs.h1.contents)\n",
    "print(bs.h1.strings)\n",
    "print(bs.h1.get_text())"
   ]
  },
  {
   "cell_type": "code",
   "execution_count": 24,
   "id": "83ddb4a2-0e59-4367-93cd-709416889e92",
   "metadata": {},
   "outputs": [
    {
     "name": "stdout",
     "output_type": "stream",
     "text": [
      "None\n",
      "\n",
      "사과\n",
      "배\n",
      "포도\n",
      "\n",
      "['\\n', <li>사과</li>, '\\n', <li>배</li>, '\\n', <li>포도</li>, '\\n']\n",
      "<generator object Tag._all_strings at 0x0000024717C9E6D0>\n",
      "\n",
      "사과\n",
      "배\n",
      "포도\n",
      "\n"
     ]
    }
   ],
   "source": [
    "print(bs.ul.string) # string은 ul의 텍스트\n",
    "print(bs.ul.text) # ul 내부의 모든 텍스트\n",
    "print(bs.ul.contents) # ul 내부의 모든 컨텐츠\n",
    "print(bs.ul.strings) # 태그 내의 strings\n",
    "print(bs.ul.get_text()) # text와 같은 결과"
   ]
  },
  {
   "cell_type": "code",
   "execution_count": 39,
   "id": "87511ed7-4a1d-43e5-9bdb-f1c99d09828b",
   "metadata": {},
   "outputs": [
    {
     "name": "stdout",
     "output_type": "stream",
     "text": [
      "<li>사과</li>\n",
      "<ul>\n",
      "<li>사과</li>\n",
      "<li>배</li>\n",
      "<li>포도</li>\n",
      "</ul>\n",
      "<list_iterator object at 0x0000024717A1CF70>\n",
      "\n",
      " <li>사과</li> \n",
      " <li>배</li> \n",
      " <li>포도</li> \n",
      " ========================\n",
      "<li>배</li>\n"
     ]
    }
   ],
   "source": [
    "print(bs.li)\n",
    "print(bs.li.parent)\n",
    "print(bs.ul.children)\n",
    "for i in bs.ul.children:\n",
    "    print(i, end=\" \")\n",
    "\n",
    "print(\"========================\")\n",
    "li1=bs.li\n",
    "li2=li1.next_sibling.next_sibling # next_sibling을 두 번 작성해주어야 함\n",
    "print(li2)"
   ]
  },
  {
   "cell_type": "code",
   "execution_count": 40,
   "id": "c164d28f-3fcb-412d-8de6-1a991ef3f01b",
   "metadata": {},
   "outputs": [],
   "source": [
    "html_doc = \"\"\" <!DOCTYPE html> <html>\n",
    "<head>\n",
    "<meta charset='utf-8'>\n",
    "<title>Test BeautifulSoup</title> </head>\n",
    "<body>\n",
    "<p align=\"center\">P태그의 컨텐트</p> <ul>\n",
    "<li>테스트1<strong>강조</strong></li> <li>테스트2</li>\n",
    "<li>테스트3</li> </ul>\n",
    "</body> </html> \"\"\""
   ]
  },
  {
   "cell_type": "code",
   "execution_count": 42,
   "id": "54ce472c-d2a3-4414-84df-afa8b453e740",
   "metadata": {},
   "outputs": [
    {
     "name": "stdout",
     "output_type": "stream",
     "text": [
      "[ string 속성  ]\n",
      "<class 'bs4.element.NavigableString'> : P태그의 컨텐트\n",
      "<class 'NoneType'> : None\n",
      "<class 'NoneType'> : None\n",
      "<class 'bs4.element.NavigableString'> : 강조\n"
     ]
    }
   ],
   "source": [
    "from bs4 import BeautifulSoup\n",
    "bs = BeautifulSoup(html_doc, 'html.parser')\n",
    "print(\"[ string 속성  ]\")\n",
    "print(type(bs.p.string), ':', bs.p.string)\n",
    "print(type(bs.ul.string), ':', bs.ul.string)\n",
    "print(type(bs.ul.li.string), ':', bs.ul.li.string)\n",
    "print(type(bs.ul.li.strong.string), ':', bs.ul.li.strong.string)"
   ]
  },
  {
   "cell_type": "code",
   "execution_count": 43,
   "id": "7fd04ec8-79da-40e5-8616-0a10ddf31a85",
   "metadata": {},
   "outputs": [
    {
     "name": "stdout",
     "output_type": "stream",
     "text": [
      "[ text 속성  ]\n",
      "<class 'str'> : P태그의 컨텐트\n",
      "<class 'str'> : \n",
      "테스트1강조 테스트2\n",
      "테스트3 \n",
      "<class 'str'> : 테스트1강조\n",
      "<class 'str'> : 강조\n"
     ]
    }
   ],
   "source": [
    "print(\"[ text 속성  ]\")\n",
    "print(type(bs.p.text), ':', bs.p.text)\n",
    "print(type(bs.ul.text), ':', bs.ul.text)\n",
    "print(type(bs.ul.li.text), ':', bs.ul.li.text)\n",
    "print(type(bs.ul.li.strong.text), ':', bs.ul.li.strong.text)"
   ]
  },
  {
   "cell_type": "code",
   "execution_count": 44,
   "id": "a2368722-beed-4a57-a04a-3c7b6e5bf833",
   "metadata": {},
   "outputs": [
    {
     "name": "stdout",
     "output_type": "stream",
     "text": [
      "[ contents 속성  ]\n",
      "<class 'list'> : ['P태그의 컨텐트']\n",
      "<class 'list'> : None\n",
      "<class 'list'> : ['테스트1', <strong>강조</strong>]\n",
      "<class 'list'> : ['강조']\n"
     ]
    }
   ],
   "source": [
    "print(\"[ contents 속성  ]\")\n",
    "print(type(bs.p.contents), ':', bs.p.contents)\n",
    "print(type(bs.ul.contents), ':', bs.ul.string)\n",
    "print(type(bs.ul.li.contents), ':', bs.ul.li.contents)\n",
    "print(type(bs.ul.li.strong.contents), ':', bs.ul.li.strong.contents)"
   ]
  },
  {
   "cell_type": "code",
   "execution_count": null,
   "id": "228bb090-360d-4983-9b11-7022d8cb4c89",
   "metadata": {},
   "outputs": [],
   "source": [
    "print(\"[ getText() 속성  ]\")\n",
    "print(type(bs.p.get_text()), ':', bs.p.get_text())\n",
    "print(type(bs.ul.get_text), ':', bs.ul.get_text())\n",
    "print(type(bs.ul.li.getText), ':', bs.ul.li.getText())\n",
    "print(type(bs.ul.li.strong.getText), ':', bs.ul.li.strong.getText())"
   ]
  }
 ],
 "metadata": {
  "kernelspec": {
   "display_name": "Python 3 (ipykernel)",
   "language": "python",
   "name": "python3"
  },
  "language_info": {
   "codemirror_mode": {
    "name": "ipython",
    "version": 3
   },
   "file_extension": ".py",
   "mimetype": "text/x-python",
   "name": "python",
   "nbconvert_exporter": "python",
   "pygments_lexer": "ipython3",
   "version": "3.9.12"
  }
 },
 "nbformat": 4,
 "nbformat_minor": 5
}
