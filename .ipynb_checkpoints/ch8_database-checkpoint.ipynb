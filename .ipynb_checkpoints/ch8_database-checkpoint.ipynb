{
 "cells": [
  {
   "cell_type": "code",
   "execution_count": null,
   "id": "fc4bfd15-0a3e-4424-9ad8-306610618e42",
   "metadata": {},
   "outputs": [],
   "source": [
    "import sqlite3"
   ]
  },
  {
   "cell_type": "code",
   "execution_count": null,
   "id": "bf760326-8712-4521-8e6d-83a17e9e50fc",
   "metadata": {},
   "outputs": [],
   "source": [
    "def create_table():\n",
    "    conn=sqlite3.connect('my_book.db')\n",
    "    cursor=conn.cursor() # db를 제어하기 위한 객체\n",
    "    sql=\"\"\"create table if not exists books(\n",
    "    title text,\n",
    "    publisher text,\n",
    "    pages integer,\n",
    "    recommend integer)\"\"\"\n",
    "    cursor.execute(sql)\n",
    "    conn.commit() # db의 내용이 바뀌었을 때 반드시 커밋 \n",
    "    conn.close()"
   ]
  },
  {
   "cell_type": "code",
   "execution_count": null,
   "id": "78c074cc-271b-4b82-8043-9883cf2a298a",
   "metadata": {},
   "outputs": [],
   "source": [
    "create_table()"
   ]
  },
  {
   "cell_type": "code",
   "execution_count": null,
   "id": "b2cdacba-8424-4b2b-8228-aee37af149da",
   "metadata": {},
   "outputs": [],
   "source": [
    "def insert_books(book):\n",
    "    conn=sqlite3.connect('my_book.db')\n",
    "    cursor=conn.cursor()\n",
    "    #sql=\"insert into books values('java','길벗',500,1)\"\n",
    "    sql=\"insert into books values(?,?,?,?)\"\n",
    "    cursor.execute(sql,book)\n",
    "    conn.commit()\n",
    "    conn.close()"
   ]
  },
  {
   "cell_type": "code",
   "execution_count": null,
   "id": "394b5258-e671-430c-8d40-7d69b2f122c8",
   "metadata": {},
   "outputs": [],
   "source": [
    "book=('mongodb','한빛',650,1)\n",
    "insert_books(book)"
   ]
  },
  {
   "cell_type": "code",
   "execution_count": null,
   "id": "881b99f5-03c3-476c-a3d9-5593bf8578f0",
   "metadata": {},
   "outputs": [],
   "source": [
    "def insert_many_books(books):\n",
    "    conn=sqlite3.connect('my_book.db')\n",
    "    cursor=conn.cursor()\n",
    "    #sql=\"insert into books values('java','길벗',500,1)\"\n",
    "    sql=\"insert into books values(?,?,?,?)\"\n",
    "    cursor.executemany(sql,books)\n",
    "    conn.commit()\n",
    "    conn.close()"
   ]
  },
  {
   "cell_type": "code",
   "execution_count": null,
   "id": "d4d9e24b-24be-41d1-a5d5-4b8c43db6e02",
   "metadata": {},
   "outputs": [],
   "source": [
    "books=[('빅데이터','영진',600,2),\n",
    "       ('안드로이드','이지스퍼블리싱',500,3), \n",
    "       ('스프링','생능',650,1)]\n",
    "insert_many_books(books)"
   ]
  },
  {
   "cell_type": "code",
   "execution_count": null,
   "id": "d19e1823-8da0-4954-962a-9a3964daac93",
   "metadata": {},
   "outputs": [],
   "source": [
    "def all_books():\n",
    "    conn=sqlite3.connect('my_book.db')\n",
    "    cursor=conn.cursor()\n",
    "    sql=\"select * from books\"\n",
    "    cursor.execute(sql)\n",
    "    books=cursor.fetchall() # db에서 모든 결과를 가져옴(레코드를 배열 형식으로 저장)\n",
    "    print(books)\n",
    "    print(len(books))\n",
    "    \n",
    "    for book in books:\n",
    "        print(book)\n",
    "    conn.close()"
   ]
  },
  {
   "cell_type": "code",
   "execution_count": null,
   "id": "e33b6436-ef41-46ea-9a34-69ad0ffa66ba",
   "metadata": {},
   "outputs": [],
   "source": [
    "all_books()"
   ]
  },
  {
   "cell_type": "code",
   "execution_count": null,
   "id": "819e3951-515c-4a9e-93a4-f60f456b6f63",
   "metadata": {},
   "outputs": [],
   "source": [
    "def some_books(number):\n",
    "    conn=sqlite3.connect('my_book.db')\n",
    "    cursor=conn.cursor()\n",
    "    sql=\"select * from books\"\n",
    "    cursor.execute(sql)\n",
    "    books=cursor.fetchmany(number) # db에서 모든 결과를 가져옴(레코드를 배열 형식으로 저장)\n",
    "    print(books)\n",
    "    print(len(books))\n",
    "    \n",
    "    for book in books:\n",
    "        print(book)\n",
    "    conn.close()"
   ]
  },
  {
   "cell_type": "code",
   "execution_count": null,
   "id": "601de1ed-872f-4bb4-b031-30d87b89701d",
   "metadata": {},
   "outputs": [],
   "source": [
    "some_books(3)"
   ]
  },
  {
   "cell_type": "code",
   "execution_count": null,
   "id": "6ee01fbc-e32d-4ec3-b437-31451a0d3923",
   "metadata": {},
   "outputs": [],
   "source": [
    "def one_book():\n",
    "    conn=sqlite3.connect('my_book.db')\n",
    "    cursor=conn.cursor()\n",
    "    sql=\"select * from books\"\n",
    "    cursor.execute(sql)\n",
    "    books=cursor.fetchone() # db에서 모든 결과를 가져옴(레코드를 배열 형식으로 저장)\n",
    "    print(books)\n",
    "    print(len(books))\n",
    "    \n",
    "    for book in books:\n",
    "        print(book)\n",
    "    conn.close()"
   ]
  },
  {
   "cell_type": "code",
   "execution_count": null,
   "id": "d6145df4-595e-40b8-a3e2-f3ad16fdadab",
   "metadata": {},
   "outputs": [],
   "source": [
    "one_book()"
   ]
  },
  {
   "cell_type": "code",
   "execution_count": null,
   "id": "a45e9677-bf78-4df6-a2cc-f5166f0e6deb",
   "metadata": {},
   "outputs": [],
   "source": [
    "def update_books():\n",
    "    conn=sqlite3.connect('my_book.db')\n",
    "    cursor=conn.cursor()\n",
    "    sql='update books set recommend=? where title=?'\n",
    "    cursor.execute(sql,(200,'java'))\n",
    "    conn.commit()\n",
    "    conn.close()"
   ]
  },
  {
   "cell_type": "code",
   "execution_count": null,
   "id": "79948d96-5223-4268-8c77-7b50becf121a",
   "metadata": {},
   "outputs": [],
   "source": [
    "update_books()\n",
    "all_books()"
   ]
  },
  {
   "cell_type": "code",
   "execution_count": null,
   "id": "54a30994-089b-4d64-9140-9d151da6cb0f",
   "metadata": {},
   "outputs": [],
   "source": [
    "def delete_book():\n",
    "    conn=sqlite3.connect('my_book.db')\n",
    "    cursor=conn.cursor()\n",
    "    sql=\"delete from books where title=?\"\n",
    "    cursor.execute(sql,('java',)) # 'java', -> tuple 형식으로 인식하기 위해 , 입력\n",
    "    conn.commit()\n",
    "    conn.close()"
   ]
  },
  {
   "cell_type": "code",
   "execution_count": null,
   "id": "7d8b3714-b67d-4dd0-ab40-e6b6b0c1508a",
   "metadata": {},
   "outputs": [],
   "source": [
    "delete_book()"
   ]
  },
  {
   "cell_type": "code",
   "execution_count": 1,
   "id": "cf61e1e6-3c6b-4f61-acd4-5663cecfa390",
   "metadata": {},
   "outputs": [],
   "source": [
    "import cx_Oracle"
   ]
  },
  {
   "cell_type": "code",
   "execution_count": 2,
   "id": "a84e535d-cd5b-4ad0-9ec4-3ddc5e120cdd",
   "metadata": {},
   "outputs": [],
   "source": [
    "def all_product():\n",
    "    conn=cx_Oracle.connect(\"system/1234@localhost:1521/xe\")\n",
    "    cursor=conn.cursor()\n",
    "    sql=\"select * from product\";\n",
    "    cursor.execute(sql)\n",
    "    for row in cursor:\n",
    "        description=row[3].read()\n",
    "        data=list(row)\n",
    "        data[3]=description\n",
    "        print(data)\n",
    "    conn.close()"
   ]
  },
  {
   "cell_type": "code",
   "execution_count": 3,
   "id": "cf955341-5fc3-45e9-85ae-ff837094757b",
   "metadata": {},
   "outputs": [
    {
     "name": "stdout",
     "output_type": "stream",
     "text": [
      "[1, '레몬', 1500, '레몬에 포함된 구연산은 피로회복에 좋습니다.', 'lemon.jpg']\n",
      "[2, '딸기', 2000, '딸기는 비타민이 풍부합니다.', 'strawberry.jpg']\n",
      "[3, '오렌지', 3000, '비타민 C가 풍부하고 생과일 주스로 마시면 좋습니다.', 'orange.jpg']\n",
      "[4, '키위', 3500, '다이어트나 미용에 좋습니다.', 'kiwi.jpg']\n",
      "[5, '포도', 4000, '폴리페놀을 다량 함유하고 있어 항산화 작용을 합니다.', 'grape.jpg']\n",
      "[6, '귤', 7000, '시네피린을 함유하고 있어 감기 예방에 좋다고 합니다.', 'tangerine.jpg']\n"
     ]
    }
   ],
   "source": [
    "all_product()"
   ]
  },
  {
   "cell_type": "code",
   "execution_count": null,
   "id": "fff533af-529a-4ffc-a6ce-d8c0b2a6c744",
   "metadata": {},
   "outputs": [],
   "source": [
    "def insert_product():\n",
    "    conn=cx_Oracle.connect(\"system/1234@localhost:1521/xe\") \n",
    "    cursor=conn.cursor()\n",
    "    sql=\"insert into product values(:1,:2,:3,:4,:5)\"\n",
    "     \n",
    "    cursor.execute(sql,data) \n",
    "    conn.commit() \n",
    "    conn.close()"
   ]
  },
  {
   "cell_type": "code",
   "execution_count": null,
   "id": "d283c6d4-7f4b-41c2-a9a2-3247767421d2",
   "metadata": {
    "tags": []
   },
   "outputs": [],
   "source": [
    "data=(2, '딸기', 2000, '딸기는 비타민이 풍부합니다.', 'strawberry.jpg')\n",
    "insert_product(data)"
   ]
  },
  {
   "cell_type": "code",
   "execution_count": null,
   "id": "bd3e62f6-aa11-42bc-96aa-b79f571d4104",
   "metadata": {},
   "outputs": [],
   "source": [
    "def insert_many():\n",
    "    conn=cx_Oracle.connect(\"system/1234@localhost:1521/xe\") \n",
    "    cursor=conn.cursor()\n",
    "    items=[\n",
    "    (3, '오렌지', 3000, '비타민 C가 풍부하고 생과일 주스로 마시면 좋습니다.', 'orange.jpg'),\n",
    "    (4, '키위', 3500, '다이어트나 미용에 좋습니다.','kiwi.jpg'),\n",
    "    (5, '포도', 4000, '폴리페놀을 다량 함유하고 있어 항산화 작용을 합니다.', 'grape.jpg'),\n",
    "    (6, '귤', 7000, '시네피린을 함유하고 있어 감기 예방에 좋다고 합니다.', 'tangerine.jpg')\n",
    "    ]\n",
    "    sql=\"insert into product values(:1,:2,:3,:4,:5)\"\n",
    "    for row in items:\n",
    "        cursor.execute(sql,row)\n",
    "    # cursor.executemany(sql,items) # for문과 동일\n",
    "    conn.commit()\n",
    "    conn.close()"
   ]
  },
  {
   "cell_type": "code",
   "execution_count": null,
   "id": "bf0fe9ab-3847-4b16-b706-9c7a49015c67",
   "metadata": {},
   "outputs": [],
   "source": [
    "insert_many()"
   ]
  },
  {
   "cell_type": "code",
   "execution_count": null,
   "id": "f218da6a-960d-4f27-b953-bc477835bb75",
   "metadata": {},
   "outputs": [],
   "source": [
    "def new_select():\n",
    "    conn=cx_Oracle.connect(\"system/1234@localhost:1521/xe\")\n",
    "    cursor=conn.cursor()\n",
    "    sql=\"select * from product where product_name=:1\";\n",
    "    cursor.execute(sql,('포도',)) # , 를 꼭 붙여줄 것..\n",
    "    for row in cursor:\n",
    "        description=row[3].read()\n",
    "        data=list(row)\n",
    "        data[3]=description\n",
    "        print(data)\n",
    "    conn.close()"
   ]
  },
  {
   "cell_type": "code",
   "execution_count": null,
   "id": "60373b3f-21b5-4f81-afcb-29182e041d98",
   "metadata": {},
   "outputs": [],
   "source": [
    "new_select()"
   ]
  },
  {
   "cell_type": "code",
   "execution_count": 6,
   "id": "cbd9876a-292a-4d48-8669-a0c16b33f8e0",
   "metadata": {},
   "outputs": [],
   "source": [
    "def delete_product():\n",
    "    conn=cx_Oracle.connect(\"system/1234@localhost:1521/xe\")\n",
    "    cursor=conn.cursor()\n",
    "    sql=\"delete from product where product_id=:1\";\n",
    "    cursor.execute(sql,(1,))\n",
    "    conn.commit()\n",
    "    conn.close()"
   ]
  },
  {
   "cell_type": "code",
   "execution_count": 9,
   "id": "c3ac625e-8b5b-4451-b3ab-b91be2005733",
   "metadata": {},
   "outputs": [
    {
     "name": "stdout",
     "output_type": "stream",
     "text": [
      "[2, '딸기', 2000, '딸기는 비타민이 풍부합니다.', 'strawberry.jpg']\n",
      "[3, '오렌지', 3000, '비타민 C가 풍부하고 생과일 주스로 마시면 좋습니다.', 'orange.jpg']\n",
      "[4, '키위', 3500, '다이어트나 미용에 좋습니다.', 'kiwi.jpg']\n",
      "[5, '포도', 4000, '폴리페놀을 다량 함유하고 있어 항산화 작용을 합니다.', 'grape.jpg']\n",
      "[6, '귤', 7000, '시네피린을 함유하고 있어 감기 예방에 좋다고 합니다.', 'tangerine.jpg']\n"
     ]
    }
   ],
   "source": [
    "delete_product()\n",
    "all_product()"
   ]
  },
  {
   "cell_type": "code",
   "execution_count": 8,
   "id": "76915ffa-81b4-49df-b00f-facc205ce492",
   "metadata": {},
   "outputs": [],
   "source": [
    "def update_product():\n",
    "    conn=cx_Oracle.connect(\"system/1234@localhost:1521/xe\")\n",
    "    cursor=conn.cursor()\n",
    "    sql=\"update product set price=:1 where product_id=:2\";\n",
    "    cursor.execute(sql,(10000,2))\n",
    "    conn.commit()\n",
    "    conn.close()"
   ]
  },
  {
   "cell_type": "code",
   "execution_count": 10,
   "id": "6e397fe8-f941-4962-bd0b-aecb8d3e2f89",
   "metadata": {},
   "outputs": [
    {
     "name": "stdout",
     "output_type": "stream",
     "text": [
      "[2, '딸기', 10000, '딸기는 비타민이 풍부합니다.', 'strawberry.jpg']\n",
      "[3, '오렌지', 3000, '비타민 C가 풍부하고 생과일 주스로 마시면 좋습니다.', 'orange.jpg']\n",
      "[4, '키위', 3500, '다이어트나 미용에 좋습니다.', 'kiwi.jpg']\n",
      "[5, '포도', 4000, '폴리페놀을 다량 함유하고 있어 항산화 작용을 합니다.', 'grape.jpg']\n",
      "[6, '귤', 7000, '시네피린을 함유하고 있어 감기 예방에 좋다고 합니다.', 'tangerine.jpg']\n"
     ]
    }
   ],
   "source": [
    "update_product()\n",
    "all_product()"
   ]
  },
  {
   "cell_type": "code",
   "execution_count": 11,
   "id": "c6be6d15-494b-4b6c-acff-02d8ee0193d4",
   "metadata": {},
   "outputs": [],
   "source": [
    "# mysql\n",
    "import pymysql"
   ]
  },
  {
   "cell_type": "code",
   "execution_count": 16,
   "id": "0a8eb53d-0177-45ac-b936-2c63f7d928f5",
   "metadata": {},
   "outputs": [],
   "source": [
    "def select_all():\n",
    "    conn=pymysql.connect(\n",
    "        host='localhost',\n",
    "        user='lyk',\n",
    "        password='1234',\n",
    "        db='pydb',\n",
    "        charset='utf8')\n",
    "    cursor=conn.cursor()\n",
    "    sql='select*from book'\n",
    "    cursor.execute(sql)\n",
    "    for book in cursor:\n",
    "        print(book)\n",
    "    conn.close()"
   ]
  },
  {
   "cell_type": "code",
   "execution_count": 17,
   "id": "61d7d3fd-1abf-4559-847d-c3040cb235e0",
   "metadata": {},
   "outputs": [
    {
     "name": "stdout",
     "output_type": "stream",
     "text": [
      "(1, 'pymysql', 500, '이윤경', '한빛')\n"
     ]
    }
   ],
   "source": [
    "select_all()"
   ]
  },
  {
   "cell_type": "code",
   "execution_count": 23,
   "id": "dfea024e-2c24-499d-86f3-7bb13d8a186e",
   "metadata": {},
   "outputs": [],
   "source": [
    "def insert_book(book):\n",
    "    conn=pymysql.connect(\n",
    "        host='localhost',\n",
    "        user='lyk',\n",
    "        password='1234',\n",
    "        db='pydb',\n",
    "        charset='utf8')\n",
    "    cursor=conn.cursor()\n",
    "    sql='insert into book(title, pub, pages, author) values(%s,%s,%s,%s)'\n",
    "    cursor.execute(sql, book) # book은 tuple 형식\n",
    "    conn.commit()\n",
    "    conn.close()"
   ]
  },
  {
   "cell_type": "code",
   "execution_count": 24,
   "id": "61c90a83-ca4e-406e-a45b-917fb6f2265f",
   "metadata": {},
   "outputs": [],
   "source": [
    "book=('안드로이드','한밭',650,'홍길동')\n",
    "insert_book(book)"
   ]
  },
  {
   "cell_type": "code",
   "execution_count": 25,
   "id": "a64de384-989c-45bb-83ab-5a90af4883cc",
   "metadata": {},
   "outputs": [
    {
     "name": "stdout",
     "output_type": "stream",
     "text": [
      "(1, 'pymysql', 500, '이윤경', '한빛')\n",
      "(2, '안드로이드', 650, '홍길동', '한빛')\n",
      "(3, '안드로이드', 650, '홍길동', '한밭')\n"
     ]
    }
   ],
   "source": [
    "select_all()"
   ]
  },
  {
   "cell_type": "code",
   "execution_count": 26,
   "id": "0f4b4a9a-81b0-46de-96fe-3d2b1bb771e3",
   "metadata": {},
   "outputs": [],
   "source": [
    "def insert_many_book(book):\n",
    "    conn=pymysql.connect(\n",
    "        host='localhost',\n",
    "        user='lyk',\n",
    "        password='1234',\n",
    "        db='pydb',\n",
    "        charset='utf8')\n",
    "    cursor=conn.cursor()\n",
    "    sql='insert into book(title, pub, pages, author) values(%s,%s,%s,%s)'\n",
    "    cursor.executemany(sql, book) # book은 tuple 형식\n",
    "    conn.commit()\n",
    "    conn.close()"
   ]
  },
  {
   "cell_type": "code",
   "execution_count": 28,
   "id": "a5805f34-1c29-4d15-a9f3-b526f9832af8",
   "metadata": {},
   "outputs": [
    {
     "name": "stdout",
     "output_type": "stream",
     "text": [
      "(1, 'pymysql', 500, '이윤경', '한빛')\n",
      "(2, '안드로이드', 650, '홍길동', '한빛')\n",
      "(3, '안드로이드', 650, '홍길동', '한밭')\n",
      "(4, 'java', 650, '우소윤', '한빛')\n",
      "(5, 'Oracle DB', 650, '김은진', '한빛')\n",
      "(6, 'Spring', 600, '안영륜', '영진')\n"
     ]
    }
   ],
   "source": [
    "data=[('java','한빛',650,'우소윤'),\n",
    "     ('Oracle DB','한빛',650,'김은진'),\n",
    "     ('Spring', '영진', 600, '안영륜')]\n",
    "insert_many_book(data)\n",
    "select_all()"
   ]
  }
 ],
 "metadata": {
  "kernelspec": {
   "display_name": "Python 3 (ipykernel)",
   "language": "python",
   "name": "python3"
  },
  "language_info": {
   "codemirror_mode": {
    "name": "ipython",
    "version": 3
   },
   "file_extension": ".py",
   "mimetype": "text/x-python",
   "name": "python",
   "nbconvert_exporter": "python",
   "pygments_lexer": "ipython3",
   "version": "3.9.12"
  }
 },
 "nbformat": 4,
 "nbformat_minor": 5
}
