{
 "cells": [
  {
   "cell_type": "code",
   "execution_count": 1,
   "id": "97566d43-9196-4c35-96e9-d53a72b2fa5e",
   "metadata": {
    "tags": []
   },
   "outputs": [],
   "source": [
    "#라이브러리 임포트(한 곳에서 하는 것이 좋음)\n",
    "\n",
    "import numpy as np\n",
    "import pandas as pd\n",
    "import matplotlib"
   ]
  },
  {
   "cell_type": "code",
   "execution_count": 25,
   "id": "5c3768ba-3884-4834-8fab-ef69dc5840fa",
   "metadata": {},
   "outputs": [],
   "source": [
    "data=np.loadtxt(\"data/movies/ratings.dat\",delimiter=\"::\",dtype=np.int64) \n",
    "# int64 = 8byte 정수(long형)"
   ]
  },
  {
   "cell_type": "code",
   "execution_count": 10,
   "id": "894ca3af-410f-4134-a695-c69410190bb9",
   "metadata": {},
   "outputs": [
    {
     "data": {
      "text/plain": [
       "array([[        1,      1193,         5, 978300760],\n",
       "       [        1,       661,         3, 978302109],\n",
       "       [        1,       914,         3, 978301968],\n",
       "       [        1,      3408,         4, 978300275],\n",
       "       [        1,      2355,         5, 978824291]], dtype=int64)"
      ]
     },
     "execution_count": 10,
     "metadata": {},
     "output_type": "execute_result"
    }
   ],
   "source": [
    "data[:5,:] # 처음 5행의 데이터만 확인"
   ]
  },
  {
   "cell_type": "code",
   "execution_count": 11,
   "id": "f89e62bd-a0b0-4bb7-b174-4559cc873584",
   "metadata": {},
   "outputs": [
    {
     "data": {
      "text/plain": [
       "(1000209, 4)"
      ]
     },
     "execution_count": 11,
     "metadata": {},
     "output_type": "execute_result"
    }
   ],
   "source": [
    "data.shape # 데이터 형태 확인 (행,열)"
   ]
  },
  {
   "cell_type": "code",
   "execution_count": 12,
   "id": "979f3914-0dc0-42de-a440-463b11c5595d",
   "metadata": {},
   "outputs": [
    {
     "data": {
      "text/plain": [
       "3.581564453029317"
      ]
     },
     "execution_count": 12,
     "metadata": {},
     "output_type": "execute_result"
    }
   ],
   "source": [
    "mean_rating_total=data[:,2].mean()\n",
    "mean_rating_total"
   ]
  },
  {
   "cell_type": "code",
   "execution_count": 26,
   "id": "94407e22-12ee-418a-92fe-6f02f32e910d",
   "metadata": {},
   "outputs": [
    {
     "name": "stdout",
     "output_type": "stream",
     "text": [
      "[1 2 3 4 5]\n",
      "(6040,)\n"
     ]
    }
   ],
   "source": [
    "user_ids=np.unique(data[:,0]) \n",
    "# 모든 행의 1번째 값인 id 값(인덱스가 1인 경우 두 번째 값인 영화 제목 값을 얻을 수 있음)\n",
    "print(user_ids[:5])\n",
    "print(user_ids.shape) # 6040 개의 unique한 user_ids 찾음"
   ]
  },
  {
   "cell_type": "code",
   "execution_count": 15,
   "id": "7a05cd5f-7a82-4490-8edf-bd7e5a62c508",
   "metadata": {},
   "outputs": [],
   "source": [
    "mean_values=[]\n",
    "\n",
    "for user_id in user_ids:\n",
    "    data_for_user=data[data[:,0]==user_id,:] # 해당하는 user_id에 대한 값만 가져옴\n",
    "    # data[:,0]==user_id 전체 데이터에서 각 행의 1열인 user_id만 모두 골라줌\n",
    "    # : 열은 전체를 다 가져옴 -> 같은 user_id인 값 전체를 가져옴\n",
    "    value=data_for_user[:,2].mean() # 평점 정보의 평균\n",
    "    mean_values.append([user_id, value]) # 한 명의 user_id별 전체 평점 평균"
   ]
  },
  {
   "cell_type": "code",
   "execution_count": 16,
   "id": "b8cf11c1-0894-475e-b6ba-240fd6f72f10",
   "metadata": {},
   "outputs": [
    {
     "data": {
      "text/plain": [
       "[[1, 4.188679245283019],\n",
       " [2, 3.7131782945736433],\n",
       " [3, 3.9019607843137254],\n",
       " [4, 4.190476190476191],\n",
       " [5, 3.1464646464646466],\n",
       " [6, 3.9014084507042255],\n",
       " [7, 4.32258064516129],\n",
       " [8, 3.884892086330935],\n",
       " [9, 3.7358490566037736],\n",
       " [10, 4.114713216957606]]"
      ]
     },
     "execution_count": 16,
     "metadata": {},
     "output_type": "execute_result"
    }
   ],
   "source": [
    "mean_values[:10]"
   ]
  },
  {
   "cell_type": "code",
   "execution_count": 20,
   "id": "6a85a52e-7b09-4f1e-abb3-6f9eec9693a0",
   "metadata": {},
   "outputs": [
    {
     "name": "stdout",
     "output_type": "stream",
     "text": [
      "[[1.        4.188679 ]\n",
      " [2.        3.7131784]\n",
      " [3.        3.9019608]\n",
      " [4.        4.1904764]\n",
      " [5.        3.1464646]]\n",
      "(6040, 2)\n"
     ]
    }
   ],
   "source": [
    "mean_array=np.array(mean_values,dtype=np.float32)\n",
    "print(mean_array[:5])\n",
    "print(mean_array.shape) #행 6040, 열 2개인 배열 생성 완료"
   ]
  },
  {
   "cell_type": "code",
   "execution_count": 23,
   "id": "c0410b9d-4677-400a-91a4-ae3d144c7496",
   "metadata": {},
   "outputs": [],
   "source": [
    "np.savetxt(\"data/movies/userid_result.csv\",mean_array,fmt=\"%.2f\", delimiter=\",\")"
   ]
  },
  {
   "cell_type": "code",
   "execution_count": 34,
   "id": "43f98ab7-adc6-4b43-ae61-0cb9b579b89c",
   "metadata": {},
   "outputs": [
    {
     "name": "stdout",
     "output_type": "stream",
     "text": [
      "[[1, 4.146846413095811], [2, 3.20114122681883], [3, 3.01673640167364], [4, 2.7294117647058824], [5, 3.0067567567567566], [6, 3.8787234042553194], [7, 3.410480349344978], [8, 3.014705882352941], [9, 2.656862745098039], [10, 3.5405405405405403]]\n",
      "[[1.        4.1468463]\n",
      " [2.        3.201141 ]\n",
      " [3.        3.0167365]\n",
      " [4.        2.7294118]\n",
      " [5.        3.0067568]]\n",
      "(3706, 2)\n"
     ]
    }
   ],
   "source": [
    "movie_ids=np.unique(data[:,1])\n",
    "\n",
    "mean_values=[]\n",
    "\n",
    "for movie_id in movie_ids:\n",
    "    data_for_movie=data[data[:,1]==movie_id,:]\n",
    "    value=data_for_movie[:,2].mean()\n",
    "    mean_values.append([movie_id, value])\n",
    "    \n",
    "movie_mean_array=np.array(mean_values,dtype=np.float32)\n",
    "\n",
    "print(mean_values[:10])\n",
    "print(movie_mean_array[:5])\n",
    "print(movie_mean_array.shape)\n",
    "\n",
    "np.savetxt(\"data/movies/movieid_result.csv\",movie_mean_array,fmt=\"%.2f\",delimiter=\",\")"
   ]
  }
 ],
 "metadata": {
  "kernelspec": {
   "display_name": "Python 3 (ipykernel)",
   "language": "python",
   "name": "python3"
  },
  "language_info": {
   "codemirror_mode": {
    "name": "ipython",
    "version": 3
   },
   "file_extension": ".py",
   "mimetype": "text/x-python",
   "name": "python",
   "nbconvert_exporter": "python",
   "pygments_lexer": "ipython3",
   "version": "3.9.12"
  }
 },
 "nbformat": 4,
 "nbformat_minor": 5
}
