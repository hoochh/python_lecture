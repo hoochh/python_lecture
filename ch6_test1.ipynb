{
 "cells": [
  {
   "cell_type": "code",
   "execution_count": null,
   "id": "e03330ee-e7a3-4a88-b289-a8866a1f0e51",
   "metadata": {},
   "outputs": [],
   "source": [
    "# 객체 지향 프로그래밍\n",
    "# 클래스 생성\n",
    "class SoccerPlay(object):\n",
    "    \n",
    "    def __init__(self, name, position, back_number):\n",
    "        self.name=name\n",
    "        self.position=position\n",
    "        self.back_number=back_number\n",
    "    \n",
    "    def change_back_number(self, new_number):\n",
    "        print(\"선수의 등번호 변경 : From %d to %d\" %(self.back_number,new_number))\n",
    "        self.back_number=new_number\n",
    "    \n",
    "    def __str__(self):\n",
    "        return \"Hello, My name is %s, I play in %s, back number is %d\" %(self.name, self.position, self.back_number)"
   ]
  },
  {
   "cell_type": "code",
   "execution_count": null,
   "id": "eab79ef0-50d8-4241-b646-64c2d99100f7",
   "metadata": {},
   "outputs": [],
   "source": [
    "kim =SoccerPlay('홍길동','MF',10)\n",
    "print(kim)"
   ]
  },
  {
   "cell_type": "code",
   "execution_count": null,
   "id": "8900eecd-2bc1-4881-940f-1824bf84b1c8",
   "metadata": {},
   "outputs": [],
   "source": [
    "kim.change_back_number(11)\n",
    "print(kim)"
   ]
  },
  {
   "cell_type": "code",
   "execution_count": null,
   "id": "fee45076-bc2e-4f00-922a-9ce01928846f",
   "metadata": {},
   "outputs": [],
   "source": [
    "class Person(object):\n",
    "    def __init__(self, name, age):\n",
    "        self.name=name\n",
    "        self.age=age\n",
    "        \n",
    "    def __str__(self):\n",
    "        return \"%s, %d\"%(self.name, self.age)\n",
    "    \n",
    "    def display(self):\n",
    "        print(\"{}, {}\".format(self.name, self.age),end=\",\")"
   ]
  },
  {
   "cell_type": "code",
   "execution_count": null,
   "id": "0d2d8993-d55f-4132-a477-8d983efa73bc",
   "metadata": {},
   "outputs": [],
   "source": [
    "p1=Person('홍길동',20)\n",
    "print(p1)"
   ]
  },
  {
   "cell_type": "code",
   "execution_count": null,
   "id": "2e4d350d-942a-4dc2-875e-23719c200a97",
   "metadata": {},
   "outputs": [],
   "source": [
    "class Student(Person):\n",
    "    def __init__(self,name,age,sno,major):\n",
    "        super().__init__(name,age)\n",
    "        self.sno=sno\n",
    "        self.major=major\n",
    "        \n",
    "    def display(self):\n",
    "        super().display()\n",
    "        print(\" {}, {}\".format(self.sno, self.major))\n",
    "        \n",
    "    def __str__(self):\n",
    "        return \"%s, %s, %d, %s\"%(self.name, self.age, self.sno, self.major)"
   ]
  },
  {
   "cell_type": "code",
   "execution_count": null,
   "id": "41a48832-fdd2-444c-a3b5-6cff28b159c2",
   "metadata": {},
   "outputs": [],
   "source": [
    "s1=Student('홍길동',20,1,'컴공')\n",
    "s1.display()\n",
    "print(s1)"
   ]
  },
  {
   "cell_type": "code",
   "execution_count": 2,
   "id": "3429bb7b-bf68-45bf-88e7-d35fabccea19",
   "metadata": {},
   "outputs": [],
   "source": [
    "class Person(object):\n",
    "    # 클래스 생성자\n",
    "    def __init__(self, name, age, gender):\n",
    "        self.name=name\n",
    "        self.age=age\n",
    "        self.gender=gender\n",
    "    \n",
    "    def about_me(self):\n",
    "        #print(\"이름은\",self.name,\"이고요, 제 나이는\",self.age,\"살이고, 성별은\",self.gender,\"입니다.\")\n",
    "        print(\"이름은 %s 이고요, 제 나이는 %d 살이고, 성별은 %s 입니다.\"%(self.name, self.age, self.gender))\n",
    "        "
   ]
  },
  {
   "cell_type": "code",
   "execution_count": null,
   "id": "b054d4e7-213f-426c-b22b-bc43bb3cdc54",
   "metadata": {},
   "outputs": [],
   "source": [
    "p1=Person('홍길동',20,'남자')\n",
    "p1.about_me()"
   ]
  },
  {
   "cell_type": "code",
   "execution_count": 35,
   "id": "861f7234-cf97-4542-8a6d-54b3beff00b4",
   "metadata": {},
   "outputs": [],
   "source": [
    "class Employee(Person):\n",
    "    def __init__(self, name, age, gender, salary, hire_date):\n",
    "        super().__init__(name, age, gender)\n",
    "        self.__salary=salary\n",
    "        self.hire_date=hire_date\n",
    "        # __언더바 두 개로 private 설정 -> 멤버 변수에 직접 접근 불가\n",
    "        # @property 어노테이션을 붙인 함수를 만들면 () 없이 바로 사용 가능\n",
    "        \n",
    "    def change_salary(self, new_salary):\n",
    "        self.__salary=new_salary\n",
    "    \n",
    "    @property\n",
    "    def get_salary(self):\n",
    "        return self.__salary\n",
    "        \n",
    "    def do_work(self):\n",
    "        print(\"열심히 일한다\")\n",
    "        \n",
    "    def about_me(self):\n",
    "        super().about_me() # 부모 클래스의 함수 호출시 super().메소드()\n",
    "        print(\"제 급여는 %d 이고, 입사일은 %s입니다.\"%(self.__salary, self.hire_date))"
   ]
  },
  {
   "cell_type": "code",
   "execution_count": 36,
   "id": "b45ee326-aa67-43c4-a44e-e50355919b1a",
   "metadata": {},
   "outputs": [
    {
     "name": "stdout",
     "output_type": "stream",
     "text": [
      "열심히 일한다\n",
      "이름은 홍길동 이고요, 제 나이는 20 살이고, 성별은 남자 입니다.\n",
      "제 급여는 500 이고, 입사일은 2022-05-26입니다.\n"
     ]
    }
   ],
   "source": [
    "e1=Employee('홍길동', 20, '남자', 500, '2022-05-26')\n",
    "e1.do_work()\n",
    "e1.about_me()"
   ]
  },
  {
   "cell_type": "code",
   "execution_count": 39,
   "id": "35618025-4395-4f0e-87cc-83c6550a180f",
   "metadata": {},
   "outputs": [
    {
     "name": "stdout",
     "output_type": "stream",
     "text": [
      "이름은 홍길동 이고요, 제 나이는 20 살이고, 성별은 남자 입니다.\n",
      "제 급여는 600 이고, 입사일은 2022-05-26입니다.\n"
     ]
    }
   ],
   "source": [
    "e1.change_salary(600)\n",
    "#e1.__salary=700 # 새 변수를 선언하면서 값을 넣는 것(그래서 에러가 발생하지 않음)\n",
    "e1.about_me()\n",
    "\n",
    "# 원래는 __private 설정시 직접 호출 불가능, 오류 발생\n",
    "# 아무 것도 설정하지 않았을 때 클래스 외부에서도 멤버변수에 접근 가능(가시성)"
   ]
  },
  {
   "cell_type": "code",
   "execution_count": 40,
   "id": "82864a81-e038-45c4-98f8-a7c3207272fc",
   "metadata": {},
   "outputs": [
    {
     "data": {
      "text/plain": [
       "600"
      ]
     },
     "execution_count": 40,
     "metadata": {},
     "output_type": "execute_result"
    }
   ],
   "source": [
    "#e1.__salary # private 이므로 외부에서 멤버 직접 접근할 수 없음\n",
    "e1.get_salary # @property로 지정된 메서드로 private에 접근 가능"
   ]
  }
 ],
 "metadata": {
  "kernelspec": {
   "display_name": "Python 3 (ipykernel)",
   "language": "python",
   "name": "python3"
  },
  "language_info": {
   "codemirror_mode": {
    "name": "ipython",
    "version": 3
   },
   "file_extension": ".py",
   "mimetype": "text/x-python",
   "name": "python",
   "nbconvert_exporter": "python",
   "pygments_lexer": "ipython3",
   "version": "3.9.12"
  }
 },
 "nbformat": 4,
 "nbformat_minor": 5
}
