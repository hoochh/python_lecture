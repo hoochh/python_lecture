{
 "cells": [
  {
   "cell_type": "markdown",
   "id": "21852050-18c9-4df7-928a-25beb7786fb9",
   "metadata": {},
   "source": [
    "# 13. 비지도학습_텍스트 마이닝"
   ]
  },
  {
   "cell_type": "markdown",
   "id": "ac33599e-1dee-4fa2-ad53-8a5564af8e30",
   "metadata": {
    "tags": []
   },
   "source": [
    "## 01. [감성 분석 + 토픽 모델링] 영화 리뷰 데이터로 감성 예측하기\n",
    "- https://github.com/e9t/nsmc\n",
    "- ratings_test.txt 다운로드\n",
    "- label 컬럼은 감성 분류 클래스 값\n",
    "- 1에서 10점의 평점 중에서 중립적인 평점인 5에서 8점은 제외하고 1에서 4점을 부정 감성 0으로, 9에서 10점을 긍정 감성 1로 표시"
   ]
  },
  {
   "cell_type": "markdown",
   "id": "0d2d4c1b-23ba-4beb-a32d-a2040ffca2d2",
   "metadata": {},
   "source": [
    "## 1부"
   ]
  },
  {
   "cell_type": "code",
   "execution_count": 1,
   "id": "ec61e4e7-c924-41fa-aea9-6ffc90f8eb5b",
   "metadata": {},
   "outputs": [
    {
     "data": {
      "text/plain": [
       "'1.4.2'"
      ]
     },
     "execution_count": 1,
     "metadata": {},
     "output_type": "execute_result"
    }
   ],
   "source": [
    "import pandas as pd\n",
    "pd.__version__"
   ]
  },
  {
   "cell_type": "code",
   "execution_count": 2,
   "id": "d0ac4319-13fc-4be1-838a-1d3e1df42b7a",
   "metadata": {},
   "outputs": [],
   "source": [
    "# 한글 UnicodeEncodingError 방지를 위해 기본 인코딩을 utf-8로 설정\n",
    "import os\n",
    "os.environ['PYTHONIOENCODING']='utf-8'"
   ]
  },
  {
   "cell_type": "code",
   "execution_count": 3,
   "id": "1ee92664-3e1c-431c-b8df-8c5def84a29a",
   "metadata": {},
   "outputs": [],
   "source": [
    "# 경고 메시지 표시 안하게 설정하기\n",
    "import warnings\n",
    "warnings.filterwarnings(action='ignore')"
   ]
  },
  {
   "cell_type": "markdown",
   "id": "3da8fc7a-30f6-4715-89d7-c795a2a080e8",
   "metadata": {},
   "source": [
    "### 2-1) 평가용 데이터 준비\n",
    "#### (1) 훈련용 데이터 파일 로드"
   ]
  },
  {
   "cell_type": "code",
   "execution_count": 4,
   "id": "d9aabee1-f9c6-466b-930f-41c12f63d269",
   "metadata": {},
   "outputs": [
    {
     "data": {
      "text/html": [
       "<div>\n",
       "<style scoped>\n",
       "    .dataframe tbody tr th:only-of-type {\n",
       "        vertical-align: middle;\n",
       "    }\n",
       "\n",
       "    .dataframe tbody tr th {\n",
       "        vertical-align: top;\n",
       "    }\n",
       "\n",
       "    .dataframe thead th {\n",
       "        text-align: right;\n",
       "    }\n",
       "</style>\n",
       "<table border=\"1\" class=\"dataframe\">\n",
       "  <thead>\n",
       "    <tr style=\"text-align: right;\">\n",
       "      <th></th>\n",
       "      <th>id</th>\n",
       "      <th>document</th>\n",
       "      <th>label</th>\n",
       "    </tr>\n",
       "  </thead>\n",
       "  <tbody>\n",
       "    <tr>\n",
       "      <th>0</th>\n",
       "      <td>9976970</td>\n",
       "      <td>아 더빙.. 진짜 짜증나네요 목소리</td>\n",
       "      <td>0</td>\n",
       "    </tr>\n",
       "    <tr>\n",
       "      <th>1</th>\n",
       "      <td>3819312</td>\n",
       "      <td>흠...포스터보고 초딩영화줄....오버연기조차 가볍지 않구나</td>\n",
       "      <td>1</td>\n",
       "    </tr>\n",
       "    <tr>\n",
       "      <th>2</th>\n",
       "      <td>10265843</td>\n",
       "      <td>너무재밓었다그래서보는것을추천한다</td>\n",
       "      <td>0</td>\n",
       "    </tr>\n",
       "    <tr>\n",
       "      <th>3</th>\n",
       "      <td>9045019</td>\n",
       "      <td>교도소 이야기구먼 ..솔직히 재미는 없다..평점 조정</td>\n",
       "      <td>0</td>\n",
       "    </tr>\n",
       "    <tr>\n",
       "      <th>4</th>\n",
       "      <td>6483659</td>\n",
       "      <td>사이몬페그의 익살스런 연기가 돋보였던 영화!스파이더맨에서 늙어보이기만 했던 커스틴 ...</td>\n",
       "      <td>1</td>\n",
       "    </tr>\n",
       "  </tbody>\n",
       "</table>\n",
       "</div>"
      ],
      "text/plain": [
       "         id                                           document  label\n",
       "0   9976970                                아 더빙.. 진짜 짜증나네요 목소리      0\n",
       "1   3819312                  흠...포스터보고 초딩영화줄....오버연기조차 가볍지 않구나      1\n",
       "2  10265843                                  너무재밓었다그래서보는것을추천한다      0\n",
       "3   9045019                      교도소 이야기구먼 ..솔직히 재미는 없다..평점 조정      0\n",
       "4   6483659  사이몬페그의 익살스런 연기가 돋보였던 영화!스파이더맨에서 늙어보이기만 했던 커스틴 ...      1"
      ]
     },
     "execution_count": 4,
     "metadata": {},
     "output_type": "execute_result"
    }
   ],
   "source": [
    "nsmc_train_df=pd.read_csv('data/ratings_train.txt', encoding='utf-8', sep='\\t', engine='python')\n",
    "nsmc_train_df.head()"
   ]
  },
  {
   "cell_type": "markdown",
   "id": "50e4792d-a890-4331-a167-194490a32467",
   "metadata": {},
   "source": [
    "#### (2) 데이터 정보 확인"
   ]
  },
  {
   "cell_type": "code",
   "execution_count": 5,
   "id": "f2427aac-d3f6-4f3e-a75f-1b598a45c6eb",
   "metadata": {},
   "outputs": [
    {
     "name": "stdout",
     "output_type": "stream",
     "text": [
      "<class 'pandas.core.frame.DataFrame'>\n",
      "RangeIndex: 150000 entries, 0 to 149999\n",
      "Data columns (total 3 columns):\n",
      " #   Column    Non-Null Count   Dtype \n",
      "---  ------    --------------   ----- \n",
      " 0   id        150000 non-null  int64 \n",
      " 1   document  149995 non-null  object\n",
      " 2   label     150000 non-null  int64 \n",
      "dtypes: int64(2), object(1)\n",
      "memory usage: 3.4+ MB\n"
     ]
    }
   ],
   "source": [
    "nsmc_train_df.info()"
   ]
  },
  {
   "cell_type": "markdown",
   "id": "f02790e9-67d8-4bbe-a822-4a3db9baee99",
   "metadata": {},
   "source": [
    "#### (3) document 칼럼이 Null인 샘플 제거"
   ]
  },
  {
   "cell_type": "code",
   "execution_count": 6,
   "id": "512da864-f14f-4ac9-8b41-88ade419dd38",
   "metadata": {},
   "outputs": [],
   "source": [
    "nsmc_train_df = nsmc_train_df[nsmc_train_df['document'].notnull()]"
   ]
  },
  {
   "cell_type": "code",
   "execution_count": 7,
   "id": "7cbb7512-1c80-4250-81de-f03d69b0641d",
   "metadata": {},
   "outputs": [
    {
     "name": "stdout",
     "output_type": "stream",
     "text": [
      "<class 'pandas.core.frame.DataFrame'>\n",
      "Int64Index: 149995 entries, 0 to 149999\n",
      "Data columns (total 3 columns):\n",
      " #   Column    Non-Null Count   Dtype \n",
      "---  ------    --------------   ----- \n",
      " 0   id        149995 non-null  int64 \n",
      " 1   document  149995 non-null  object\n",
      " 2   label     149995 non-null  int64 \n",
      "dtypes: int64(2), object(1)\n",
      "memory usage: 4.6+ MB\n"
     ]
    }
   ],
   "source": [
    "nsmc_train_df.info()"
   ]
  },
  {
   "cell_type": "markdown",
   "id": "dfb095e5-78cc-40cd-889f-1bc2ab3ca579",
   "metadata": {},
   "source": [
    "#### (4) 타겟 컬럼 label 확인(0:부정감석, 1:긍정감성)"
   ]
  },
  {
   "cell_type": "code",
   "execution_count": 8,
   "id": "6ea260c1-4d9f-4175-858f-83606d7d7ceb",
   "metadata": {},
   "outputs": [
    {
     "data": {
      "text/plain": [
       "0    75170\n",
       "1    74825\n",
       "Name: label, dtype: int64"
      ]
     },
     "execution_count": 8,
     "metadata": {},
     "output_type": "execute_result"
    }
   ],
   "source": [
    "nsmc_train_df['label'].value_counts()"
   ]
  },
  {
   "cell_type": "markdown",
   "id": "83d59c85-b7ec-4760-84a9-89f04d077857",
   "metadata": {},
   "source": [
    "#### (5) 한글 이외의 문자(특수문자 등)는 공백으로 변환(정규표현식 이용)"
   ]
  },
  {
   "cell_type": "code",
   "execution_count": 9,
   "id": "d385fe8a-ce3a-4759-9b0d-2fc57256de13",
   "metadata": {},
   "outputs": [],
   "source": [
    "import re"
   ]
  },
  {
   "cell_type": "code",
   "execution_count": 10,
   "id": "d4998631-0030-4a09-80eb-bd654b0e6113",
   "metadata": {},
   "outputs": [
    {
     "data": {
      "text/html": [
       "<div>\n",
       "<style scoped>\n",
       "    .dataframe tbody tr th:only-of-type {\n",
       "        vertical-align: middle;\n",
       "    }\n",
       "\n",
       "    .dataframe tbody tr th {\n",
       "        vertical-align: top;\n",
       "    }\n",
       "\n",
       "    .dataframe thead th {\n",
       "        text-align: right;\n",
       "    }\n",
       "</style>\n",
       "<table border=\"1\" class=\"dataframe\">\n",
       "  <thead>\n",
       "    <tr style=\"text-align: right;\">\n",
       "      <th></th>\n",
       "      <th>id</th>\n",
       "      <th>document</th>\n",
       "      <th>label</th>\n",
       "    </tr>\n",
       "  </thead>\n",
       "  <tbody>\n",
       "    <tr>\n",
       "      <th>0</th>\n",
       "      <td>9976970</td>\n",
       "      <td>아 더빙  진짜 짜증나네요 목소리</td>\n",
       "      <td>0</td>\n",
       "    </tr>\n",
       "    <tr>\n",
       "      <th>1</th>\n",
       "      <td>3819312</td>\n",
       "      <td>흠 포스터보고 초딩영화줄 오버연기조차 가볍지 않구나</td>\n",
       "      <td>1</td>\n",
       "    </tr>\n",
       "    <tr>\n",
       "      <th>2</th>\n",
       "      <td>10265843</td>\n",
       "      <td>너무재밓었다그래서보는것을추천한다</td>\n",
       "      <td>0</td>\n",
       "    </tr>\n",
       "    <tr>\n",
       "      <th>3</th>\n",
       "      <td>9045019</td>\n",
       "      <td>교도소 이야기구먼  솔직히 재미는 없다 평점 조정</td>\n",
       "      <td>0</td>\n",
       "    </tr>\n",
       "    <tr>\n",
       "      <th>4</th>\n",
       "      <td>6483659</td>\n",
       "      <td>사이몬페그의 익살스런 연기가 돋보였던 영화 스파이더맨에서 늙어보이기만 했던 커스틴 ...</td>\n",
       "      <td>1</td>\n",
       "    </tr>\n",
       "  </tbody>\n",
       "</table>\n",
       "</div>"
      ],
      "text/plain": [
       "         id                                           document  label\n",
       "0   9976970                                 아 더빙  진짜 짜증나네요 목소리      0\n",
       "1   3819312                       흠 포스터보고 초딩영화줄 오버연기조차 가볍지 않구나      1\n",
       "2  10265843                                  너무재밓었다그래서보는것을추천한다      0\n",
       "3   9045019                        교도소 이야기구먼  솔직히 재미는 없다 평점 조정      0\n",
       "4   6483659  사이몬페그의 익살스런 연기가 돋보였던 영화 스파이더맨에서 늙어보이기만 했던 커스틴 ...      1"
      ]
     },
     "execution_count": 10,
     "metadata": {},
     "output_type": "execute_result"
    }
   ],
   "source": [
    "nsmc_train_df['document']=nsmc_train_df['document'].apply(lambda x:re.sub(r'[^ ㄱ-ㅣ가-힣]+', \" \", x))\n",
    "nsmc_train_df.head()"
   ]
  },
  {
   "cell_type": "markdown",
   "id": "ed481433-d467-4606-81da-67ecd3c6fcb3",
   "metadata": {},
   "source": [
    "### 2-2) 평가용 데이터 준비\n",
    "#### (1) 평가용 데이터 파일 로드"
   ]
  },
  {
   "cell_type": "code",
   "execution_count": 11,
   "id": "74c37cbc-0d1c-4fa0-a62f-13179d0198ab",
   "metadata": {},
   "outputs": [
    {
     "data": {
      "text/html": [
       "<div>\n",
       "<style scoped>\n",
       "    .dataframe tbody tr th:only-of-type {\n",
       "        vertical-align: middle;\n",
       "    }\n",
       "\n",
       "    .dataframe tbody tr th {\n",
       "        vertical-align: top;\n",
       "    }\n",
       "\n",
       "    .dataframe thead th {\n",
       "        text-align: right;\n",
       "    }\n",
       "</style>\n",
       "<table border=\"1\" class=\"dataframe\">\n",
       "  <thead>\n",
       "    <tr style=\"text-align: right;\">\n",
       "      <th></th>\n",
       "      <th>id</th>\n",
       "      <th>document</th>\n",
       "      <th>label</th>\n",
       "    </tr>\n",
       "  </thead>\n",
       "  <tbody>\n",
       "    <tr>\n",
       "      <th>0</th>\n",
       "      <td>6270596</td>\n",
       "      <td>굳 ㅋ</td>\n",
       "      <td>1</td>\n",
       "    </tr>\n",
       "    <tr>\n",
       "      <th>1</th>\n",
       "      <td>9274899</td>\n",
       "      <td>GDNTOPCLASSINTHECLUB</td>\n",
       "      <td>0</td>\n",
       "    </tr>\n",
       "    <tr>\n",
       "      <th>2</th>\n",
       "      <td>8544678</td>\n",
       "      <td>뭐야 이 평점들은.... 나쁘진 않지만 10점 짜리는 더더욱 아니잖아</td>\n",
       "      <td>0</td>\n",
       "    </tr>\n",
       "    <tr>\n",
       "      <th>3</th>\n",
       "      <td>6825595</td>\n",
       "      <td>지루하지는 않은데 완전 막장임... 돈주고 보기에는....</td>\n",
       "      <td>0</td>\n",
       "    </tr>\n",
       "    <tr>\n",
       "      <th>4</th>\n",
       "      <td>6723715</td>\n",
       "      <td>3D만 아니었어도 별 다섯 개 줬을텐데.. 왜 3D로 나와서 제 심기를 불편하게 하죠??</td>\n",
       "      <td>0</td>\n",
       "    </tr>\n",
       "  </tbody>\n",
       "</table>\n",
       "</div>"
      ],
      "text/plain": [
       "        id                                           document  label\n",
       "0  6270596                                                굳 ㅋ      1\n",
       "1  9274899                               GDNTOPCLASSINTHECLUB      0\n",
       "2  8544678             뭐야 이 평점들은.... 나쁘진 않지만 10점 짜리는 더더욱 아니잖아      0\n",
       "3  6825595                   지루하지는 않은데 완전 막장임... 돈주고 보기에는....      0\n",
       "4  6723715  3D만 아니었어도 별 다섯 개 줬을텐데.. 왜 3D로 나와서 제 심기를 불편하게 하죠??      0"
      ]
     },
     "execution_count": 11,
     "metadata": {},
     "output_type": "execute_result"
    }
   ],
   "source": [
    "nsmc_test_df= pd.read_csv('data/ratings_test.txt', encoding='utf-8', sep='\\t', engine='python')\n",
    "nsmc_test_df.head()"
   ]
  },
  {
   "cell_type": "markdown",
   "id": "803006e6-a8f7-44f1-b70f-3e95283117ac",
   "metadata": {},
   "source": [
    "#### (2) 데이터 정보 확인"
   ]
  },
  {
   "cell_type": "code",
   "execution_count": 12,
   "id": "615dcf7f-f14f-43eb-ad66-5a0c80b4fcd5",
   "metadata": {},
   "outputs": [
    {
     "name": "stdout",
     "output_type": "stream",
     "text": [
      "<class 'pandas.core.frame.DataFrame'>\n",
      "RangeIndex: 50000 entries, 0 to 49999\n",
      "Data columns (total 3 columns):\n",
      " #   Column    Non-Null Count  Dtype \n",
      "---  ------    --------------  ----- \n",
      " 0   id        50000 non-null  int64 \n",
      " 1   document  49997 non-null  object\n",
      " 2   label     50000 non-null  int64 \n",
      "dtypes: int64(2), object(1)\n",
      "memory usage: 1.1+ MB\n"
     ]
    }
   ],
   "source": [
    "nsmc_test_df.info()"
   ]
  },
  {
   "cell_type": "markdown",
   "id": "8b6afbf3-70c0-43b4-94cc-ccca31768d36",
   "metadata": {},
   "source": [
    "#### (3) document 칼럼이 Null인 샘플 제거"
   ]
  },
  {
   "cell_type": "code",
   "execution_count": 13,
   "id": "c0c130d2-6569-419d-9198-721889b0f538",
   "metadata": {},
   "outputs": [],
   "source": [
    "nsmc_test_df = nsmc_test_df[nsmc_test_df['document'].notnull()]"
   ]
  },
  {
   "cell_type": "markdown",
   "id": "154ed899-b41f-429d-8f0e-466397641a33",
   "metadata": {},
   "source": [
    "#### (4) 타겟 컬럼 label 확인(0:부정감석, 1:긍정감성)"
   ]
  },
  {
   "cell_type": "code",
   "execution_count": 14,
   "id": "9127852f-1eae-469a-996f-117a9968cac6",
   "metadata": {},
   "outputs": [
    {
     "data": {
      "text/plain": [
       "1    25171\n",
       "0    24826\n",
       "Name: label, dtype: int64"
      ]
     },
     "execution_count": 14,
     "metadata": {},
     "output_type": "execute_result"
    }
   ],
   "source": [
    "nsmc_test_df['label'].value_counts()"
   ]
  },
  {
   "cell_type": "markdown",
   "id": "4641cf9e-9d89-48f0-bcd1-2199a87beab3",
   "metadata": {},
   "source": [
    "#### (5) 한글 이외의 문자(특수문자 등)는 공백으로 변환(정규표현식 이용)"
   ]
  },
  {
   "cell_type": "code",
   "execution_count": 15,
   "id": "3d29dd1a-a2e8-4131-94c2-bbe41744e9ce",
   "metadata": {},
   "outputs": [
    {
     "data": {
      "text/html": [
       "<div>\n",
       "<style scoped>\n",
       "    .dataframe tbody tr th:only-of-type {\n",
       "        vertical-align: middle;\n",
       "    }\n",
       "\n",
       "    .dataframe tbody tr th {\n",
       "        vertical-align: top;\n",
       "    }\n",
       "\n",
       "    .dataframe thead th {\n",
       "        text-align: right;\n",
       "    }\n",
       "</style>\n",
       "<table border=\"1\" class=\"dataframe\">\n",
       "  <thead>\n",
       "    <tr style=\"text-align: right;\">\n",
       "      <th></th>\n",
       "      <th>id</th>\n",
       "      <th>document</th>\n",
       "      <th>label</th>\n",
       "    </tr>\n",
       "  </thead>\n",
       "  <tbody>\n",
       "    <tr>\n",
       "      <th>0</th>\n",
       "      <td>6270596</td>\n",
       "      <td>굳 ㅋ</td>\n",
       "      <td>1</td>\n",
       "    </tr>\n",
       "    <tr>\n",
       "      <th>1</th>\n",
       "      <td>9274899</td>\n",
       "      <td></td>\n",
       "      <td>0</td>\n",
       "    </tr>\n",
       "    <tr>\n",
       "      <th>2</th>\n",
       "      <td>8544678</td>\n",
       "      <td>뭐야 이 평점들은  나쁘진 않지만  점 짜리는 더더욱 아니잖아</td>\n",
       "      <td>0</td>\n",
       "    </tr>\n",
       "    <tr>\n",
       "      <th>3</th>\n",
       "      <td>6825595</td>\n",
       "      <td>지루하지는 않은데 완전 막장임  돈주고 보기에는</td>\n",
       "      <td>0</td>\n",
       "    </tr>\n",
       "    <tr>\n",
       "      <th>4</th>\n",
       "      <td>6723715</td>\n",
       "      <td>만 아니었어도 별 다섯 개 줬을텐데  왜  로 나와서 제 심기를 불편하게 하죠</td>\n",
       "      <td>0</td>\n",
       "    </tr>\n",
       "  </tbody>\n",
       "</table>\n",
       "</div>"
      ],
      "text/plain": [
       "        id                                       document  label\n",
       "0  6270596                                            굳 ㅋ      1\n",
       "1  9274899                                                     0\n",
       "2  8544678             뭐야 이 평점들은  나쁘진 않지만  점 짜리는 더더욱 아니잖아      0\n",
       "3  6825595                    지루하지는 않은데 완전 막장임  돈주고 보기에는       0\n",
       "4  6723715   만 아니었어도 별 다섯 개 줬을텐데  왜  로 나와서 제 심기를 불편하게 하죠       0"
      ]
     },
     "execution_count": 15,
     "metadata": {},
     "output_type": "execute_result"
    }
   ],
   "source": [
    "nsmc_test_df['document']=nsmc_test_df['document'].apply(lambda x:re.sub(r'[^ ㄱ-ㅣ가-힣]+', \" \", x))\n",
    "nsmc_test_df.head()"
   ]
  },
  {
   "cell_type": "markdown",
   "id": "1196aea2-9064-42d5-bac6-16c30905986d",
   "metadata": {},
   "source": [
    "## 3. 분석 모델 구축\n",
    "### 3-1) 피처 벡터화 : TF-IDF\n",
    "#### (1) 형태소를 분석하여 토큰화 : 한글 형태소 엔진으로 Okt 이용"
   ]
  },
  {
   "cell_type": "code",
   "execution_count": 16,
   "id": "80c15825-0a79-4c1f-a9f3-568b11d8bb49",
   "metadata": {
    "tags": []
   },
   "outputs": [
    {
     "name": "stdout",
     "output_type": "stream",
     "text": [
      "Requirement already satisfied: konlpy in c:\\users\\admin\\anaconda3\\lib\\site-packages (0.6.0)\n",
      "Requirement already satisfied: JPype1>=0.7.0 in c:\\users\\admin\\anaconda3\\lib\\site-packages (from konlpy) (1.4.0)\n",
      "Requirement already satisfied: numpy>=1.6 in c:\\users\\admin\\anaconda3\\lib\\site-packages (from konlpy) (1.21.5)\n",
      "Requirement already satisfied: lxml>=4.1.0 in c:\\users\\admin\\anaconda3\\lib\\site-packages (from konlpy) (4.8.0)\n"
     ]
    }
   ],
   "source": [
    "! pip install konlpy"
   ]
  },
  {
   "cell_type": "code",
   "execution_count": 17,
   "id": "3d397992-ee84-4175-8caa-a72a909e174d",
   "metadata": {},
   "outputs": [],
   "source": [
    "from konlpy.tag import Okt\n",
    "okt=Okt()"
   ]
  },
  {
   "cell_type": "code",
   "execution_count": 18,
   "id": "ff197b04-b173-4393-a1e1-9e2cdb82da78",
   "metadata": {},
   "outputs": [],
   "source": [
    "def okt_tokenizer(text):\n",
    "    tokens=okt.morphs(text)\n",
    "    return tokens"
   ]
  },
  {
   "cell_type": "markdown",
   "id": "ccd97fea-66a8-4cc3-92b0-765571642bf7",
   "metadata": {},
   "source": [
    "#### (2) TF-IDF 기반 피처 벡터 생성 : 실행시간 10분 정도 걸림"
   ]
  },
  {
   "cell_type": "code",
   "execution_count": 19,
   "id": "69f62f65-dcfc-4ae5-8499-71a67b022606",
   "metadata": {},
   "outputs": [],
   "source": [
    "from sklearn.feature_extraction.text import TfidfVectorizer"
   ]
  },
  {
   "cell_type": "code",
   "execution_count": null,
   "id": "bd881d31-bee2-484c-9d82-119742abf22e",
   "metadata": {},
   "outputs": [],
   "source": [
    "tfidf = TfidfVectorizer(tokenizer = okt_tokenizer, ngram_range = (1, 2), min_df = 3, max_df = 0.9)\n",
    "tfidf.fit(nsmc_train_df['document'])\n",
    "nsmc_train_tfidf = tfidf.transform(nsmc_train_df['document']) # tfidf 벡터 형태로 변환"
   ]
  },
  {
   "cell_type": "markdown",
   "id": "ec73df22-e2d8-49d1-939c-13d7b3b1ca0a",
   "metadata": {},
   "source": [
    "### 3-2) 감성 분류 모델 구축 : 로지스틱 회귀를 이용한 이진 분류\n",
    "### - Sentiment Analysis using Logistic Regression\n",
    "#### (1) 로지스틱 회귀 기반 분석모델 생성"
   ]
  },
  {
   "cell_type": "code",
   "execution_count": 20,
   "id": "58621e33-0af1-43d4-a700-82978db05665",
   "metadata": {},
   "outputs": [],
   "source": [
    "from sklearn.linear_model import LogisticRegression\n",
    "SA_lr=LogisticRegression(random_state=0)"
   ]
  },
  {
   "cell_type": "code",
   "execution_count": 21,
   "id": "b03a8ba6-3c40-4f25-a74c-9d1f9bf80abc",
   "metadata": {},
   "outputs": [
    {
     "data": {
      "text/plain": [
       "LogisticRegression(random_state=0)"
      ]
     },
     "execution_count": 21,
     "metadata": {},
     "output_type": "execute_result"
    }
   ],
   "source": [
    "SA_lr.fit(nsmc_train_tfidf, nsmc_train_df['label'])"
   ]
  },
  {
   "cell_type": "markdown",
   "id": "1ba7a16a-6405-43ee-8a46-0b9b93385056",
   "metadata": {},
   "source": [
    "#### (2) 로지스틱 회귀의 best 하이퍼파라미터 찾기"
   ]
  },
  {
   "cell_type": "code",
   "execution_count": 22,
   "id": "ea35697c-4d84-494b-8809-29ba4aacb12d",
   "metadata": {},
   "outputs": [],
   "source": [
    "from sklearn.model_selection import GridSearchCV\n",
    "\n",
    "params={'C':[1,3,3.5,4,4.5,5]}\n",
    "SA_lr_grid_cv=GridSearchCV(SA_lr, param_grid=params, cv=3, scoring='accuracy', verbose=1)"
   ]
  },
  {
   "cell_type": "markdown",
   "id": "f9f579a6-db42-40e8-b5f7-9ff66cc01f0e",
   "metadata": {},
   "source": [
    "#### (3) 최적 분석 모델 훈련"
   ]
  },
  {
   "cell_type": "code",
   "execution_count": 23,
   "id": "03ca7a6e-053a-40b1-b661-42f24428cfaf",
   "metadata": {},
   "outputs": [
    {
     "name": "stdout",
     "output_type": "stream",
     "text": [
      "Fitting 3 folds for each of 6 candidates, totalling 18 fits\n"
     ]
    },
    {
     "data": {
      "text/plain": [
       "GridSearchCV(cv=3, estimator=LogisticRegression(random_state=0),\n",
       "             param_grid={'C': [1, 3, 3.5, 4, 4.5, 5]}, scoring='accuracy',\n",
       "             verbose=1)"
      ]
     },
     "execution_count": 23,
     "metadata": {},
     "output_type": "execute_result"
    }
   ],
   "source": [
    "SA_lr_grid_cv.fit(nsmc_train_tfidf, nsmc_train_df['label'])"
   ]
  },
  {
   "cell_type": "code",
   "execution_count": 24,
   "id": "19f3bf89-f329-44ad-b0e1-542eae537187",
   "metadata": {},
   "outputs": [
    {
     "name": "stdout",
     "output_type": "stream",
     "text": [
      "{'C': 3} 0.8553\n"
     ]
    }
   ],
   "source": [
    "print(SA_lr_grid_cv.best_params_, round(SA_lr_grid_cv.best_score_,4)) # 하이퍼파라미터에 따라 정확도 표현"
   ]
  },
  {
   "cell_type": "code",
   "execution_count": 29,
   "id": "792401af-985c-4731-889e-292de59c28aa",
   "metadata": {},
   "outputs": [],
   "source": [
    "# 최적 파라미터의 best 모델 저장\n",
    "SA_lr_best=SA_lr_grid_cv.best_estimator_"
   ]
  },
  {
   "cell_type": "markdown",
   "id": "3365474c-39dd-42e1-827a-c58b9362a43f",
   "metadata": {},
   "source": [
    "## 4. 분석 모델 평가\n",
    "### 4-1) 평가용 데이터를 이용하여 감성 분석 모델 정확도"
   ]
  },
  {
   "cell_type": "code",
   "execution_count": 26,
   "id": "5e0009a5-92c0-4f8d-9ed5-d13b31386485",
   "metadata": {},
   "outputs": [],
   "source": [
    "# 평가용 데이터의 피처 벡터화\n",
    "nsmc_test_tfidf=tfidf.transform(nsmc_test_df['document'])"
   ]
  },
  {
   "cell_type": "code",
   "execution_count": 31,
   "id": "9642992c-3d57-405b-b56a-7a49a67d9b0a",
   "metadata": {},
   "outputs": [],
   "source": [
    "test_predict=SA_lr_best.predict(nsmc_test_tfidf)"
   ]
  },
  {
   "cell_type": "markdown",
   "id": "52e1577e-131f-4dec-b24d-0bb47db9c34b",
   "metadata": {},
   "source": [
    "### 4-2) 새로운 텍스트에 대한 감성 예측"
   ]
  },
  {
   "cell_type": "code",
   "execution_count": 34,
   "id": "4e2ed419-d70c-408d-8d9a-cf55a7790b33",
   "metadata": {},
   "outputs": [
    {
     "name": "stdin",
     "output_type": "stream",
     "text": [
      "감성 분석할 문장입력 >>  웃자 ^o^ 오늘은 좋은 날이 될 것 같은 예감100%! ^^*\n"
     ]
    }
   ],
   "source": [
    "st=input('감성 분석할 문장입력 >> ')"
   ]
  },
  {
   "cell_type": "code",
   "execution_count": 35,
   "id": "55bf589b-f5f5-44b4-a7c2-b8ff4e7bd043",
   "metadata": {},
   "outputs": [
    {
     "name": "stdout",
     "output_type": "stream",
     "text": [
      "['웃자', '오늘은', '좋은', '날이', '될', '것', '같은', '예감']\n",
      "['웃자 오늘은 좋은 날이 될 것 같은 예감']\n"
     ]
    }
   ],
   "source": [
    "# 0) 입력 텍스트에 대한 전처리 수행\n",
    "st = re.compile(r'[ㄱ-ㅣ가-힣]+').findall(st) ; print(st)\n",
    "st = [\" \".join(st)] ; print(st)"
   ]
  },
  {
   "cell_type": "code",
   "execution_count": 36,
   "id": "a22a39aa-a3a4-4e28-b699-28d1269d52e1",
   "metadata": {},
   "outputs": [],
   "source": [
    "#1) 입력 텍스트의 피처 벡터화 \n",
    "st_tfidf = tfidf.transform(st)\n",
    "#2) 최적 감성 분석 모델에 적용하여 감성 분석 평가 \n",
    "st_predict = SA_lr_best.predict(st_tfidf)"
   ]
  },
  {
   "cell_type": "code",
   "execution_count": 37,
   "id": "c1a27ae8-d424-4dfa-8adb-f452aa589231",
   "metadata": {},
   "outputs": [
    {
     "name": "stdout",
     "output_type": "stream",
     "text": [
      "['웃자 오늘은 좋은 날이 될 것 같은 예감'] ->> 긍정 감성\n"
     ]
    }
   ],
   "source": [
    "#3) 예측값 출력하기\n",
    "if(st_predict == 0): \n",
    "    print(st , \"->> 부정 감성\") \n",
    "else :\n",
    "    print(st , \"->> 긍정 감성\")"
   ]
  },
  {
   "cell_type": "markdown",
   "id": "1ef18150-26b5-4d3b-836b-41cf947587fa",
   "metadata": {},
   "source": [
    "## 2부..."
   ]
  }
 ],
 "metadata": {
  "kernelspec": {
   "display_name": "Python 3 (ipykernel)",
   "language": "python",
   "name": "python3"
  },
  "language_info": {
   "codemirror_mode": {
    "name": "ipython",
    "version": 3
   },
   "file_extension": ".py",
   "mimetype": "text/x-python",
   "name": "python",
   "nbconvert_exporter": "python",
   "pygments_lexer": "ipython3",
   "version": "3.9.12"
  }
 },
 "nbformat": 4,
 "nbformat_minor": 5
}
