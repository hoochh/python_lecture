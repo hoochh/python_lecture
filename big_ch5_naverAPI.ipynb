{
 "cells": [
  {
   "cell_type": "code",
   "execution_count": null,
   "id": "b9d5e059-a1e3-446d-b278-310354fe02c9",
   "metadata": {
    "tags": []
   },
   "outputs": [],
   "source": [
    "# 네이버 검색 API예제는 블로그를 비롯 전문자료까지 호출방법이 동일하므로 blog검색만 대표로 예제를 올렸습니다.\n",
    "# 네이버 검색 Open API 예제 - 블로그 검색\n",
    "import os\n",
    "import sys\n",
    "import urllib.request\n",
    "client_id = \"5jzCiWVGf6GeodQ9KwUV\"\n",
    "client_secret = \"ySMUelE3jF\"\n",
    "encText = urllib.parse.quote(\"마스크\")\n",
    "url = \"https://openapi.naver.com/v1/search/shop?query=\" + encText +\"&display=20\" # json 결과\n",
    "# url = \"https://openapi.naver.com/v1/search/blog.xml?query=\" + encText # xml 결과\n",
    "request = urllib.request.Request(url)\n",
    "request.add_header(\"X-Naver-Client-Id\",client_id)\n",
    "request.add_header(\"X-Naver-Client-Secret\",client_secret)\n",
    "response = urllib.request.urlopen(request)\n",
    "rescode = response.getcode()\n",
    "if(rescode==200): # 요청 성공\n",
    "    response_body = response.read()\n",
    "    print(response_body.decode('utf-8'))\n",
    "else:\n",
    "    print(\"Error Code:\" + rescode)"
   ]
  },
  {
   "cell_type": "code",
   "execution_count": null,
   "id": "c4414735-9518-4702-be14-9e8cb12263cb",
   "metadata": {},
   "outputs": [],
   "source": [
    "import urllib.request\n",
    "import datetime\n",
    "import time\n",
    "import json\n",
    "\n",
    "client_id = \"5jzCiWVGf6GeodQ9KwUV\"\n",
    "client_secret = \"ySMUelE3jF\""
   ]
  },
  {
   "cell_type": "code",
   "execution_count": null,
   "id": "064bb613-d872-45ff-8530-dac5cbe4806a",
   "metadata": {},
   "outputs": [],
   "source": [
    "def getRequestUrl(url):\n",
    "    req=urllib.request.Request(url)\n",
    "    req.add_header('X-Naver-Client-Id',client_id)\n",
    "    req.add_header('X-Naver-Client-Secret',client_secret)\n",
    "    \n",
    "    try:\n",
    "        response=urllib.request.urlopen(req)\n",
    "        if response.getcode()==200:\n",
    "            print(\"[%s] Url Request Success\"%datetime.datetime.now())\n",
    "            return response.read().decode('utf-8')\n",
    "    except Exception as e:\n",
    "        print(e)\n",
    "    print(\"[%s] Error for Url : %s\"%(datetime.datetime.now(),url))\n",
    "    return None # 1만 건 이상 요청할 시 error 발생"
   ]
  },
  {
   "cell_type": "code",
   "execution_count": null,
   "id": "072d0b62-b7ad-488e-a218-f393fb43ae3c",
   "metadata": {},
   "outputs": [],
   "source": [
    "def getNaverSearch(node, srcText, start, display):\n",
    "    base=\"https://openapi.naver.com/v1/search\"\n",
    "    node=\"/%s.json\"%node\n",
    "    parameters=\"?query=%s&start=%s&display=%s\"%(urllib.parse.quote(srcText),start,display)\n",
    "    url=base+node+parameters\n",
    "    responseDecode=getRequestUrl(url)\n",
    "    \n",
    "    if responseDecode==None:\n",
    "        return None\n",
    "    else:\n",
    "        return json.loads(responseDecode)"
   ]
  },
  {
   "cell_type": "code",
   "execution_count": null,
   "id": "30954c9e-437d-4130-b36f-3b99d8f5ffcf",
   "metadata": {},
   "outputs": [],
   "source": [
    "def getPostData(item, jsonResult, cnt):\n",
    "    title=item['title'].strip()\n",
    "    description=item['description'].strip()\n",
    "    org_link=item['originallink']\n",
    "    link=item['link']\n",
    "    \n",
    "    pDate=datetime.datetime.strptime(item['pubDate'],'%a, %d %b %Y %H:%M:%S +0900')\n",
    "    pDate=pDate.strftime('%Y-%m-%d %H:%M:%S')\n",
    "    \n",
    "    #뉴스 검색 결과를 jsonResult에\n",
    "    jsonResult.append({'cnt':cnt,'title':title,'description':description,\n",
    "                       'org_link':org_link,'link':link,'pDate':pDate})\n",
    "    \n",
    "    #dictionary가 아닌 tuple로 저장하면 DataFrame을 생성할 수 있다\n",
    "    return"
   ]
  },
  {
   "cell_type": "code",
   "execution_count": null,
   "id": "639a8cda-c1bd-4d01-92b5-3ab9bdce58be",
   "metadata": {},
   "outputs": [],
   "source": [
    "def main():\n",
    "    node='news'\n",
    "    srcText=input('검색어를 입력해주세요')\n",
    "    cnt=0;\n",
    "    jsonResult=[]\n",
    "    \n",
    "    jsonResponse=getNaverSearch(node, srcText, 1, 10)\n",
    "    total=jsonResponse['total']\n",
    "    #print(total)\n",
    "    #print(jsonResponse)\n",
    "    \n",
    "    while((jsonResponse != None) and (jsonResponse['display'] != 0)):\n",
    "        # 데이터 저장\n",
    "        for item in jsonResponse['items']:\n",
    "            cnt+=1\n",
    "            getPostData(item, jsonResult, cnt)\n",
    "\n",
    "        start=jsonResponse['start']+jsonResponse['display']\n",
    "        jsonResponse=getNaverSearch(node, srcText, start, 10)\n",
    "        \n",
    "        #print(jsonResult)\n",
    "        \n",
    "    with open('%s_naver_%s.json'%(srcText,node),'w',encoding='utf-8') as outfile:\n",
    "        jsonFile=json.dumps(jsonResult, indent=4, sort_keys=True, ensure_ascii=False)\n",
    "        outfile.write(jsonFile)\n",
    "        \n",
    "    print(\"전체 데이터 건수 %d건에서 가져온 데이터 %d건입니다\"%(total,cnt))\n",
    "    print('%s_naver_%s.json SAVE'%(srcText,node))"
   ]
  },
  {
   "cell_type": "code",
   "execution_count": null,
   "id": "181e4bce-11ec-40bb-8894-e4435ba299f9",
   "metadata": {
    "tags": []
   },
   "outputs": [],
   "source": [
    "main()"
   ]
  },
  {
   "cell_type": "code",
   "execution_count": null,
   "id": "d5d8e2c4-48a9-4952-a1d1-0afb7346cd59",
   "metadata": {},
   "outputs": [],
   "source": [
    "#상품정보 검색 결과로 변경해보기\n",
    "import os\n",
    "import sys\n",
    "import urllib.request\n",
    "import pandas as pd\n",
    "client_id = \"5jzCiWVGf6GeodQ9KwUV\"\n",
    "client_secret = \"ySMUelE3jF\"\n",
    "\n",
    "def getRequestUrl(url):\n",
    "    req=urllib.request.Request(url)\n",
    "    req.add_header('X-Naver-Client-Id',client_id)\n",
    "    req.add_header('X-Naver-Client-Secret',client_secret)\n",
    "    \n",
    "    try:\n",
    "        response=urllib.request.urlopen(req)\n",
    "        if response.getcode()==200:\n",
    "            print(\"[%s] Url Request Success\"%datetime.datetime.now())\n",
    "            return response.read().decode('utf-8')\n",
    "    except Exception as e:\n",
    "        print(e)\n",
    "    print(\"[%s] Error for Url : %s\"%(datetime.datetime.now(),url))\n",
    "    return None # 1만 건 이상 요청할 시 error 발생"
   ]
  },
  {
   "cell_type": "code",
   "execution_count": null,
   "id": "9a85afc2-2614-4e24-94bd-939b4c39233e",
   "metadata": {},
   "outputs": [],
   "source": [
    "def getNaverSearch(node, srcText, start, display):\n",
    "    base=\"https://openapi.naver.com/v1/search\"\n",
    "    node=\"/%s.json\"%node\n",
    "    parameters=\"?query=%s&start=%s&display=%s\"%(urllib.parse.quote(srcText),start,display)\n",
    "    url=base+node+parameters\n",
    "    responseDecode=getRequestUrl(url)\n",
    "    \n",
    "    if responseDecode==None:\n",
    "        return None\n",
    "    else:\n",
    "        return json.loads(responseDecode)"
   ]
  },
  {
   "cell_type": "code",
   "execution_count": null,
   "id": "96b379bf-ada2-4d8f-9cec-45ab15a251ef",
   "metadata": {},
   "outputs": [],
   "source": [
    "def getPostData(item, jsonResult, cnt):\n",
    "    productId=item['productId']\n",
    "    title=item['title'].strip()\n",
    "    brand=item['brand']\n",
    "    lprice=item['lprice']\n",
    "    link=item['link']\n",
    "    \n",
    "    #pDate=datetime.datetime.strptime(item['pubDate'],'%a, %d %b %Y %H:%M:%S +0900')\n",
    "    #pDate=pDate.strftime('%Y-%m-%d %H:%M:%S')\n",
    "    \n",
    "    #상품 검색 결과를 jsonResult에\n",
    "    #shop_list=(productId,title,brand,lprice,link)\n",
    "    jsonResult.append((productId,title,brand,lprice,link))\n",
    "    \n",
    "    #dictionary가 아닌 tuple로 저장하면 DataFrame을 생성할 수 있다\n",
    "    return"
   ]
  },
  {
   "cell_type": "code",
   "execution_count": null,
   "id": "9938bad7-6675-486d-a835-242d20b79695",
   "metadata": {},
   "outputs": [],
   "source": [
    "def main():\n",
    "    node='shop'\n",
    "    srcText=input('검색어를 입력해주세요')\n",
    "    cnt=0;\n",
    "    jsonResult=[]\n",
    "    \n",
    "    jsonResponse=getNaverSearch(node, srcText, 1, 10)\n",
    "    total=jsonResponse['total']\n",
    "    #print(total)\n",
    "    #print(jsonResponse)\n",
    "    \n",
    "    \n",
    "    while((jsonResponse != None) and (jsonResponse['display'] != 0)):\n",
    "        # 데이터 저장\n",
    "        shop_list=[]\n",
    "        for item in jsonResponse['items']:\n",
    "            cnt+=1\n",
    "            getPostData(item, jsonResult, cnt)\n",
    "\n",
    "        start=jsonResponse['start']+jsonResponse['display']\n",
    "        jsonResponse=getNaverSearch(node, srcText, start, 10)\n",
    "        \n",
    "        #print(jsonResult)\n",
    "        \n",
    "    with open('%s_naver_%s.json'%(srcText,node),'w',encoding='utf-8') as outfile:\n",
    "        jsonFile=json.dumps(jsonResult, indent=4, sort_keys=True, ensure_ascii=False)\n",
    "        outfile.write(jsonFile)\n",
    "        \n",
    "    print(\"전체 데이터 건수 %d건에서 가져온 데이터 %d건입니다\"%(total,cnt))\n",
    "    print('%s_naver_%s.json SAVE'%(srcText,node))\n",
    "    \n",
    "    df=pd.DataFrame(jsonResult,columns=['productId','title','brand','lprice','link'])\n",
    "    df.to_csv('data/naver_shop.csv', index=False)\n",
    "    df"
   ]
  },
  {
   "cell_type": "code",
   "execution_count": null,
   "id": "18adfa15-a772-4a41-a2f0-e153281551b0",
   "metadata": {
    "tags": []
   },
   "outputs": [],
   "source": [
    "main()"
   ]
  },
  {
   "cell_type": "markdown",
   "id": "8171801f-1213-418e-8ca8-d3a54b49b5aa",
   "metadata": {
    "tags": []
   },
   "source": [
    "# papago\n",
    "- 번역기"
   ]
  },
  {
   "cell_type": "code",
   "execution_count": 6,
   "id": "160d089a-4523-4919-bd43-b60aea48faa4",
   "metadata": {},
   "outputs": [
    {
     "name": "stdin",
     "output_type": "stream",
     "text": [
      "번역할 문장을 입력하세요 안녕\n"
     ]
    },
    {
     "name": "stdout",
     "output_type": "stream",
     "text": [
      "{'message': {'result': {'srcLangType': 'ko', 'tarLangType': 'ja', 'translatedText': 'こんにちは', 'engineType': 'PRETRANS', 'pivot': None, 'dict': None, 'tarDict': None}, '@type': 'response', '@service': 'naverservice.nmt.proxy', '@version': '1.0.0'}}\n",
      "こんにちは\n"
     ]
    }
   ],
   "source": [
    "import os\n",
    "import sys\n",
    "import urllib.request\n",
    "import json\n",
    "client_id = \"NOk_F9opvpvXdWmQNjmt\" # 개발자센터에서 발급받은 Client ID 값\n",
    "client_secret = \"E0JYpfzj17\" # 개발자센터에서 발급받은 Client Secret 값\n",
    "\n",
    "def papago_func(encText):\n",
    "    encText = urllib.parse.quote(encText)\n",
    "    data = \"source=ko&target=ja&text=\" + encText\n",
    "    url = \"https://openapi.naver.com/v1/papago/n2mt\"\n",
    "    request = urllib.request.Request(url)\n",
    "    request.add_header(\"X-Naver-Client-Id\",client_id)\n",
    "    request.add_header(\"X-Naver-Client-Secret\",client_secret)\n",
    "    response = urllib.request.urlopen(request, data=data.encode(\"utf-8\"))\n",
    "    rescode = response.getcode()\n",
    "    if(rescode==200):\n",
    "        response_body = response.read().decode('utf-8')\n",
    "\n",
    "        #json으로 저장\n",
    "        jsonData=json.loads(response_body)\n",
    "\n",
    "        #print(response_body.decode('utf-8'))\n",
    "        print(jsonData)\n",
    "        print(jsonData['message']['result']['translatedText'])\n",
    "    else:\n",
    "        print(\"Error Code:\" + rescode)\n",
    "\n",
    "encText=input(\"번역할 문장을 입력하세요\")\n",
    "papago_func(encText)\n"
   ]
  }
 ],
 "metadata": {
  "kernelspec": {
   "display_name": "Python 3 (ipykernel)",
   "language": "python",
   "name": "python3"
  },
  "language_info": {
   "codemirror_mode": {
    "name": "ipython",
    "version": 3
   },
   "file_extension": ".py",
   "mimetype": "text/x-python",
   "name": "python",
   "nbconvert_exporter": "python",
   "pygments_lexer": "ipython3",
   "version": "3.9.12"
  }
 },
 "nbformat": 4,
 "nbformat_minor": 5
}
