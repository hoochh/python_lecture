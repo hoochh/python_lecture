{
 "cells": [
  {
   "cell_type": "code",
   "execution_count": 1,
   "id": "8e9b6dae-4d8a-4c43-8216-edc056c67e3b",
   "metadata": {},
   "outputs": [],
   "source": [
    "import numpy as np\n",
    "import pandas as pd"
   ]
  },
  {
   "cell_type": "code",
   "execution_count": 76,
   "id": "369c36b3-8e19-415f-b690-f38bb876add4",
   "metadata": {},
   "outputs": [],
   "source": [
    "names=['kim','lee','park','choi','hong']\n",
    "scores=[70,80,90,75,65]\n",
    "majors=['컴공','컴멀','정통','컴멀','컴공']"
   ]
  },
  {
   "cell_type": "code",
   "execution_count": 77,
   "id": "1d7e2362-bc1e-4e03-b588-ca6ff5651277",
   "metadata": {},
   "outputs": [],
   "source": [
    "data={'names':names, 'scores':scores,'majors':majors}"
   ]
  },
  {
   "cell_type": "code",
   "execution_count": 78,
   "id": "9acd6936-9eca-43c8-b2b2-19f2099814e1",
   "metadata": {},
   "outputs": [
    {
     "data": {
      "text/html": [
       "<div>\n",
       "<style scoped>\n",
       "    .dataframe tbody tr th:only-of-type {\n",
       "        vertical-align: middle;\n",
       "    }\n",
       "\n",
       "    .dataframe tbody tr th {\n",
       "        vertical-align: top;\n",
       "    }\n",
       "\n",
       "    .dataframe thead th {\n",
       "        text-align: right;\n",
       "    }\n",
       "</style>\n",
       "<table border=\"1\" class=\"dataframe\">\n",
       "  <thead>\n",
       "    <tr style=\"text-align: right;\">\n",
       "      <th></th>\n",
       "      <th>names</th>\n",
       "      <th>scores</th>\n",
       "      <th>majors</th>\n",
       "    </tr>\n",
       "  </thead>\n",
       "  <tbody>\n",
       "    <tr>\n",
       "      <th>0</th>\n",
       "      <td>kim</td>\n",
       "      <td>70</td>\n",
       "      <td>컴공</td>\n",
       "    </tr>\n",
       "    <tr>\n",
       "      <th>1</th>\n",
       "      <td>lee</td>\n",
       "      <td>80</td>\n",
       "      <td>컴멀</td>\n",
       "    </tr>\n",
       "    <tr>\n",
       "      <th>2</th>\n",
       "      <td>park</td>\n",
       "      <td>90</td>\n",
       "      <td>정통</td>\n",
       "    </tr>\n",
       "    <tr>\n",
       "      <th>3</th>\n",
       "      <td>choi</td>\n",
       "      <td>75</td>\n",
       "      <td>컴멀</td>\n",
       "    </tr>\n",
       "    <tr>\n",
       "      <th>4</th>\n",
       "      <td>hong</td>\n",
       "      <td>65</td>\n",
       "      <td>컴공</td>\n",
       "    </tr>\n",
       "  </tbody>\n",
       "</table>\n",
       "</div>"
      ],
      "text/plain": [
       "  names  scores majors\n",
       "0   kim      70     컴공\n",
       "1   lee      80     컴멀\n",
       "2  park      90     정통\n",
       "3  choi      75     컴멀\n",
       "4  hong      65     컴공"
      ]
     },
     "execution_count": 78,
     "metadata": {},
     "output_type": "execute_result"
    }
   ],
   "source": [
    "df=pd.DataFrame(data)\n",
    "df"
   ]
  },
  {
   "cell_type": "code",
   "execution_count": 80,
   "id": "94555bc4-7961-4b96-81d0-0cfabcb40496",
   "metadata": {},
   "outputs": [
    {
     "data": {
      "text/html": [
       "<div>\n",
       "<style scoped>\n",
       "    .dataframe tbody tr th:only-of-type {\n",
       "        vertical-align: middle;\n",
       "    }\n",
       "\n",
       "    .dataframe tbody tr th {\n",
       "        vertical-align: top;\n",
       "    }\n",
       "\n",
       "    .dataframe thead th {\n",
       "        text-align: right;\n",
       "    }\n",
       "</style>\n",
       "<table border=\"1\" class=\"dataframe\">\n",
       "  <thead>\n",
       "    <tr style=\"text-align: right;\">\n",
       "      <th></th>\n",
       "      <th>scores</th>\n",
       "    </tr>\n",
       "    <tr>\n",
       "      <th>majors</th>\n",
       "      <th></th>\n",
       "    </tr>\n",
       "  </thead>\n",
       "  <tbody>\n",
       "    <tr>\n",
       "      <th>정통</th>\n",
       "      <td>90.0</td>\n",
       "    </tr>\n",
       "    <tr>\n",
       "      <th>컴공</th>\n",
       "      <td>67.5</td>\n",
       "    </tr>\n",
       "    <tr>\n",
       "      <th>컴멀</th>\n",
       "      <td>77.5</td>\n",
       "    </tr>\n",
       "  </tbody>\n",
       "</table>\n",
       "</div>"
      ],
      "text/plain": [
       "        scores\n",
       "majors        \n",
       "정통        90.0\n",
       "컴공        67.5\n",
       "컴멀        77.5"
      ]
     },
     "execution_count": 80,
     "metadata": {},
     "output_type": "execute_result"
    }
   ],
   "source": [
    "# groupby\n",
    "df.groupby('majors').sum()\n",
    "df.groupby('majors').mean()"
   ]
  },
  {
   "cell_type": "code",
   "execution_count": 82,
   "id": "e14a5d42-9f7c-48bb-b7f5-3eecf13dea7f",
   "metadata": {},
   "outputs": [
    {
     "data": {
      "text/html": [
       "<div>\n",
       "<style scoped>\n",
       "    .dataframe tbody tr th:only-of-type {\n",
       "        vertical-align: middle;\n",
       "    }\n",
       "\n",
       "    .dataframe tbody tr th {\n",
       "        vertical-align: top;\n",
       "    }\n",
       "\n",
       "    .dataframe thead th {\n",
       "        text-align: right;\n",
       "    }\n",
       "</style>\n",
       "<table border=\"1\" class=\"dataframe\">\n",
       "  <thead>\n",
       "    <tr style=\"text-align: right;\">\n",
       "      <th></th>\n",
       "      <th>names</th>\n",
       "      <th>scores</th>\n",
       "      <th>majors</th>\n",
       "    </tr>\n",
       "  </thead>\n",
       "  <tbody>\n",
       "    <tr>\n",
       "      <th>2</th>\n",
       "      <td>park</td>\n",
       "      <td>90</td>\n",
       "      <td>정통</td>\n",
       "    </tr>\n",
       "    <tr>\n",
       "      <th>1</th>\n",
       "      <td>lee</td>\n",
       "      <td>80</td>\n",
       "      <td>컴멀</td>\n",
       "    </tr>\n",
       "    <tr>\n",
       "      <th>0</th>\n",
       "      <td>kim</td>\n",
       "      <td>70</td>\n",
       "      <td>컴공</td>\n",
       "    </tr>\n",
       "    <tr>\n",
       "      <th>4</th>\n",
       "      <td>hong</td>\n",
       "      <td>65</td>\n",
       "      <td>컴공</td>\n",
       "    </tr>\n",
       "    <tr>\n",
       "      <th>3</th>\n",
       "      <td>choi</td>\n",
       "      <td>75</td>\n",
       "      <td>컴멀</td>\n",
       "    </tr>\n",
       "  </tbody>\n",
       "</table>\n",
       "</div>"
      ],
      "text/plain": [
       "  names  scores majors\n",
       "2  park      90     정통\n",
       "1   lee      80     컴멀\n",
       "0   kim      70     컴공\n",
       "4  hong      65     컴공\n",
       "3  choi      75     컴멀"
      ]
     },
     "execution_count": 82,
     "metadata": {},
     "output_type": "execute_result"
    }
   ],
   "source": [
    "# sort 정렬함수\n",
    "df.sort_values(by='names', ascending=False) # -> 내림차순으로 정렬"
   ]
  },
  {
   "cell_type": "code",
   "execution_count": 7,
   "id": "01bc373c-2930-446d-ab2a-c42127dd187d",
   "metadata": {},
   "outputs": [
    {
     "data": {
      "text/plain": [
       "[['kim', 'lee', 'park', 'choi', 'hong'],\n",
       " [70, 80, 90, 75, 65],\n",
       " ['컴공', '컴멀', '정통', '컴멀', '컴공']]"
      ]
     },
     "execution_count": 7,
     "metadata": {},
     "output_type": "execute_result"
    }
   ],
   "source": [
    "# 2차원 배열로 만들어진 데이터인 경우\n",
    "data1=[names, scores, majors]\n",
    "data1"
   ]
  },
  {
   "cell_type": "code",
   "execution_count": 9,
   "id": "c98311f3-93d3-4226-9c66-1d807e3cb532",
   "metadata": {},
   "outputs": [
    {
     "data": {
      "text/html": [
       "<div>\n",
       "<style scoped>\n",
       "    .dataframe tbody tr th:only-of-type {\n",
       "        vertical-align: middle;\n",
       "    }\n",
       "\n",
       "    .dataframe tbody tr th {\n",
       "        vertical-align: top;\n",
       "    }\n",
       "\n",
       "    .dataframe thead th {\n",
       "        text-align: right;\n",
       "    }\n",
       "</style>\n",
       "<table border=\"1\" class=\"dataframe\">\n",
       "  <thead>\n",
       "    <tr style=\"text-align: right;\">\n",
       "      <th></th>\n",
       "      <th>0</th>\n",
       "      <th>1</th>\n",
       "      <th>2</th>\n",
       "      <th>3</th>\n",
       "      <th>4</th>\n",
       "    </tr>\n",
       "  </thead>\n",
       "  <tbody>\n",
       "    <tr>\n",
       "      <th>0</th>\n",
       "      <td>kim</td>\n",
       "      <td>lee</td>\n",
       "      <td>park</td>\n",
       "      <td>choi</td>\n",
       "      <td>hong</td>\n",
       "    </tr>\n",
       "    <tr>\n",
       "      <th>1</th>\n",
       "      <td>70</td>\n",
       "      <td>80</td>\n",
       "      <td>90</td>\n",
       "      <td>75</td>\n",
       "      <td>65</td>\n",
       "    </tr>\n",
       "    <tr>\n",
       "      <th>2</th>\n",
       "      <td>컴공</td>\n",
       "      <td>컴멀</td>\n",
       "      <td>정통</td>\n",
       "      <td>컴멀</td>\n",
       "      <td>컴공</td>\n",
       "    </tr>\n",
       "  </tbody>\n",
       "</table>\n",
       "</div>"
      ],
      "text/plain": [
       "     0    1     2     3     4\n",
       "0  kim  lee  park  choi  hong\n",
       "1   70   80    90    75    65\n",
       "2   컴공   컴멀    정통    컴멀    컴공"
      ]
     },
     "execution_count": 9,
     "metadata": {},
     "output_type": "execute_result"
    }
   ],
   "source": [
    "df1=pd.DataFrame(data1)\n",
    "df1 # -> 원하는 형태로 출력되지 않는다. -> df1 생성 후 zip으로 변경 or transpose()"
   ]
  },
  {
   "cell_type": "code",
   "execution_count": 14,
   "id": "84c0704a-e90a-4eec-9013-1fc36f02c60d",
   "metadata": {},
   "outputs": [
    {
     "data": {
      "text/html": [
       "<div>\n",
       "<style scoped>\n",
       "    .dataframe tbody tr th:only-of-type {\n",
       "        vertical-align: middle;\n",
       "    }\n",
       "\n",
       "    .dataframe tbody tr th {\n",
       "        vertical-align: top;\n",
       "    }\n",
       "\n",
       "    .dataframe thead th {\n",
       "        text-align: right;\n",
       "    }\n",
       "</style>\n",
       "<table border=\"1\" class=\"dataframe\">\n",
       "  <thead>\n",
       "    <tr style=\"text-align: right;\">\n",
       "      <th></th>\n",
       "      <th>0</th>\n",
       "      <th>1</th>\n",
       "      <th>2</th>\n",
       "    </tr>\n",
       "  </thead>\n",
       "  <tbody>\n",
       "    <tr>\n",
       "      <th>0</th>\n",
       "      <td>kim</td>\n",
       "      <td>70</td>\n",
       "      <td>컴공</td>\n",
       "    </tr>\n",
       "    <tr>\n",
       "      <th>1</th>\n",
       "      <td>lee</td>\n",
       "      <td>80</td>\n",
       "      <td>컴멀</td>\n",
       "    </tr>\n",
       "    <tr>\n",
       "      <th>2</th>\n",
       "      <td>park</td>\n",
       "      <td>90</td>\n",
       "      <td>정통</td>\n",
       "    </tr>\n",
       "    <tr>\n",
       "      <th>3</th>\n",
       "      <td>choi</td>\n",
       "      <td>75</td>\n",
       "      <td>컴멀</td>\n",
       "    </tr>\n",
       "    <tr>\n",
       "      <th>4</th>\n",
       "      <td>hong</td>\n",
       "      <td>65</td>\n",
       "      <td>컴공</td>\n",
       "    </tr>\n",
       "  </tbody>\n",
       "</table>\n",
       "</div>"
      ],
      "text/plain": [
       "      0   1   2\n",
       "0   kim  70  컴공\n",
       "1   lee  80  컴멀\n",
       "2  park  90  정통\n",
       "3  choi  75  컴멀\n",
       "4  hong  65  컴공"
      ]
     },
     "execution_count": 14,
     "metadata": {},
     "output_type": "execute_result"
    }
   ],
   "source": [
    "df1=pd.DataFrame(data1).transpose() # -> trasnpose()로 행과 열을 교체\n",
    "df1"
   ]
  },
  {
   "cell_type": "code",
   "execution_count": 16,
   "id": "9c9920ed-372c-48a2-ab16-b72bf8f293eb",
   "metadata": {},
   "outputs": [
    {
     "data": {
      "text/html": [
       "<div>\n",
       "<style scoped>\n",
       "    .dataframe tbody tr th:only-of-type {\n",
       "        vertical-align: middle;\n",
       "    }\n",
       "\n",
       "    .dataframe tbody tr th {\n",
       "        vertical-align: top;\n",
       "    }\n",
       "\n",
       "    .dataframe thead th {\n",
       "        text-align: right;\n",
       "    }\n",
       "</style>\n",
       "<table border=\"1\" class=\"dataframe\">\n",
       "  <thead>\n",
       "    <tr style=\"text-align: right;\">\n",
       "      <th></th>\n",
       "      <th>names</th>\n",
       "      <th>scores</th>\n",
       "      <th>majors</th>\n",
       "    </tr>\n",
       "  </thead>\n",
       "  <tbody>\n",
       "    <tr>\n",
       "      <th>one</th>\n",
       "      <td>kim</td>\n",
       "      <td>70</td>\n",
       "      <td>컴공</td>\n",
       "    </tr>\n",
       "    <tr>\n",
       "      <th>two</th>\n",
       "      <td>lee</td>\n",
       "      <td>80</td>\n",
       "      <td>컴멀</td>\n",
       "    </tr>\n",
       "    <tr>\n",
       "      <th>three</th>\n",
       "      <td>park</td>\n",
       "      <td>90</td>\n",
       "      <td>정통</td>\n",
       "    </tr>\n",
       "    <tr>\n",
       "      <th>four</th>\n",
       "      <td>choi</td>\n",
       "      <td>75</td>\n",
       "      <td>컴멀</td>\n",
       "    </tr>\n",
       "    <tr>\n",
       "      <th>five</th>\n",
       "      <td>hong</td>\n",
       "      <td>65</td>\n",
       "      <td>컴공</td>\n",
       "    </tr>\n",
       "  </tbody>\n",
       "</table>\n",
       "</div>"
      ],
      "text/plain": [
       "      names  scores majors\n",
       "one     kim      70     컴공\n",
       "two     lee      80     컴멀\n",
       "three  park      90     정통\n",
       "four   choi      75     컴멀\n",
       "five   hong      65     컴공"
      ]
     },
     "execution_count": 16,
     "metadata": {},
     "output_type": "execute_result"
    }
   ],
   "source": [
    "data2=zip(data1[0],data1[1],data1[2]) # -> zip으로 data1 행과 열 변경\n",
    "df2=pd.DataFrame(data2, columns=['names','scores','majors'], \n",
    "                 index=['one','two','three','four','five'])\n",
    "df2"
   ]
  },
  {
   "cell_type": "code",
   "execution_count": 20,
   "id": "53a21514-585f-4425-88f9-59f37a677bba",
   "metadata": {},
   "outputs": [
    {
     "name": "stdout",
     "output_type": "stream",
     "text": [
      "one       kim\n",
      "two       lee\n",
      "three    park\n",
      "four     choi\n",
      "five     hong\n",
      "Name: names, dtype: object\n",
      "      names majors\n",
      "one     kim     컴공\n",
      "two     lee     컴멀\n",
      "three  park     정통\n",
      "four   choi     컴멀\n",
      "five   hong     컴공\n"
     ]
    }
   ],
   "source": [
    "# 데이터 검색\n",
    "print(df2.names) # -> 이미 만들어진 경우에만 검색 가능\n",
    "print(df2[['names','majors']]) \n",
    "# -> field 명은 순서가 없기 때문에 ['names' : 'scores'] 이런 식으로 검색 불가능"
   ]
  },
  {
   "cell_type": "code",
   "execution_count": 38,
   "id": "098a5e3c-f76f-42f2-a4ef-c621703a5ed1",
   "metadata": {},
   "outputs": [
    {
     "data": {
      "text/html": [
       "<div>\n",
       "<style scoped>\n",
       "    .dataframe tbody tr th:only-of-type {\n",
       "        vertical-align: middle;\n",
       "    }\n",
       "\n",
       "    .dataframe tbody tr th {\n",
       "        vertical-align: top;\n",
       "    }\n",
       "\n",
       "    .dataframe thead th {\n",
       "        text-align: right;\n",
       "    }\n",
       "</style>\n",
       "<table border=\"1\" class=\"dataframe\">\n",
       "  <thead>\n",
       "    <tr style=\"text-align: right;\">\n",
       "      <th></th>\n",
       "      <th>names</th>\n",
       "      <th>scores</th>\n",
       "      <th>majors</th>\n",
       "      <th>sno</th>\n",
       "    </tr>\n",
       "  </thead>\n",
       "  <tbody>\n",
       "    <tr>\n",
       "      <th>one</th>\n",
       "      <td>kim</td>\n",
       "      <td>70.0</td>\n",
       "      <td>컴공</td>\n",
       "      <td>2.0</td>\n",
       "    </tr>\n",
       "    <tr>\n",
       "      <th>two</th>\n",
       "      <td>lee</td>\n",
       "      <td>80.0</td>\n",
       "      <td>컴멀</td>\n",
       "      <td>5.0</td>\n",
       "    </tr>\n",
       "    <tr>\n",
       "      <th>three</th>\n",
       "      <td>park</td>\n",
       "      <td>90.0</td>\n",
       "      <td>정통</td>\n",
       "      <td>7.0</td>\n",
       "    </tr>\n",
       "    <tr>\n",
       "      <th>four</th>\n",
       "      <td>choi</td>\n",
       "      <td>75.0</td>\n",
       "      <td>컴멀</td>\n",
       "      <td>1.0</td>\n",
       "    </tr>\n",
       "    <tr>\n",
       "      <th>five</th>\n",
       "      <td>hong</td>\n",
       "      <td>65.0</td>\n",
       "      <td>컴공</td>\n",
       "      <td>3.0</td>\n",
       "    </tr>\n",
       "    <tr>\n",
       "      <th>six</th>\n",
       "      <td>jang</td>\n",
       "      <td>85.0</td>\n",
       "      <td>정통</td>\n",
       "      <td>4.0</td>\n",
       "    </tr>\n",
       "  </tbody>\n",
       "</table>\n",
       "</div>"
      ],
      "text/plain": [
       "      names  scores majors  sno\n",
       "one     kim    70.0     컴공  2.0\n",
       "two     lee    80.0     컴멀  5.0\n",
       "three  park    90.0     정통  7.0\n",
       "four   choi    75.0     컴멀  1.0\n",
       "five   hong    65.0     컴공  3.0\n",
       "six    jang    85.0     정통  4.0"
      ]
     },
     "execution_count": 38,
     "metadata": {},
     "output_type": "execute_result"
    }
   ],
   "source": [
    "#df2['sno']=[2,5,7,1,3] # -> 기존에 없는 column인 경우 새로 생성\n",
    "#df2['one':'three']\n",
    "#df2.loc['one'] # df2['one']은 검색 불가\n",
    "#df2.iloc[0] # 위와 같은 결과\n",
    "#df2.iloc[0,1]\n",
    "#df2.loc['one', 'scores']\n",
    "#df2.loc[:'three','scores']\n",
    "#df2.loc[::2,::2] # 행과 열에서 각각 step이 2\n",
    "#df2.loc[df2.scores>=80,:]\n",
    "\n",
    "# 새로운 행을 추가할 때\n",
    "df2.loc['six',:]=['jang',85,'정통',4]\n",
    "df2"
   ]
  },
  {
   "cell_type": "code",
   "execution_count": 41,
   "id": "685098e0-d7ea-4403-944d-8cfd8e31d838",
   "metadata": {},
   "outputs": [
    {
     "data": {
      "text/html": [
       "<div>\n",
       "<style scoped>\n",
       "    .dataframe tbody tr th:only-of-type {\n",
       "        vertical-align: middle;\n",
       "    }\n",
       "\n",
       "    .dataframe tbody tr th {\n",
       "        vertical-align: top;\n",
       "    }\n",
       "\n",
       "    .dataframe thead th {\n",
       "        text-align: right;\n",
       "    }\n",
       "</style>\n",
       "<table border=\"1\" class=\"dataframe\">\n",
       "  <thead>\n",
       "    <tr style=\"text-align: right;\">\n",
       "      <th></th>\n",
       "      <th>names</th>\n",
       "      <th>scores</th>\n",
       "      <th>majors</th>\n",
       "    </tr>\n",
       "  </thead>\n",
       "  <tbody>\n",
       "    <tr>\n",
       "      <th>one</th>\n",
       "      <td>kim</td>\n",
       "      <td>70.0</td>\n",
       "      <td>컴공</td>\n",
       "    </tr>\n",
       "    <tr>\n",
       "      <th>two</th>\n",
       "      <td>lee</td>\n",
       "      <td>80.0</td>\n",
       "      <td>컴멀</td>\n",
       "    </tr>\n",
       "    <tr>\n",
       "      <th>three</th>\n",
       "      <td>park</td>\n",
       "      <td>90.0</td>\n",
       "      <td>정통</td>\n",
       "    </tr>\n",
       "    <tr>\n",
       "      <th>four</th>\n",
       "      <td>choi</td>\n",
       "      <td>75.0</td>\n",
       "      <td>컴멀</td>\n",
       "    </tr>\n",
       "    <tr>\n",
       "      <th>five</th>\n",
       "      <td>hong</td>\n",
       "      <td>65.0</td>\n",
       "      <td>컴공</td>\n",
       "    </tr>\n",
       "    <tr>\n",
       "      <th>six</th>\n",
       "      <td>jang</td>\n",
       "      <td>85.0</td>\n",
       "      <td>정통</td>\n",
       "    </tr>\n",
       "  </tbody>\n",
       "</table>\n",
       "</div>"
      ],
      "text/plain": [
       "      names  scores majors\n",
       "one     kim    70.0     컴공\n",
       "two     lee    80.0     컴멀\n",
       "three  park    90.0     정통\n",
       "four   choi    75.0     컴멀\n",
       "five   hong    65.0     컴공\n",
       "six    jang    85.0     정통"
      ]
     },
     "execution_count": 41,
     "metadata": {},
     "output_type": "execute_result"
    }
   ],
   "source": [
    "# 데이터 삭제\n",
    "df3=df2.drop('one');df3 # 행 삭제\n",
    "df4=df2.drop('sno',axis=1);df4"
   ]
  },
  {
   "cell_type": "code",
   "execution_count": 43,
   "id": "42493a52-b117-47dc-8d6c-5fb26432a1f1",
   "metadata": {},
   "outputs": [],
   "source": [
    "kor=[70,80,75,70,75]\n",
    "math=[85,75,92,70,65]\n",
    "eng=[80,80,92,90,70]\n",
    "\n",
    "data=[names,kor,math,eng]"
   ]
  },
  {
   "cell_type": "code",
   "execution_count": 46,
   "id": "0aea490a-6e1f-45c4-8a00-ffcd5a2e8a03",
   "metadata": {},
   "outputs": [
    {
     "data": {
      "text/html": [
       "<div>\n",
       "<style scoped>\n",
       "    .dataframe tbody tr th:only-of-type {\n",
       "        vertical-align: middle;\n",
       "    }\n",
       "\n",
       "    .dataframe tbody tr th {\n",
       "        vertical-align: top;\n",
       "    }\n",
       "\n",
       "    .dataframe thead th {\n",
       "        text-align: right;\n",
       "    }\n",
       "</style>\n",
       "<table border=\"1\" class=\"dataframe\">\n",
       "  <thead>\n",
       "    <tr style=\"text-align: right;\">\n",
       "      <th></th>\n",
       "      <th>name</th>\n",
       "      <th>kor</th>\n",
       "      <th>math</th>\n",
       "      <th>eng</th>\n",
       "    </tr>\n",
       "  </thead>\n",
       "  <tbody>\n",
       "    <tr>\n",
       "      <th>one</th>\n",
       "      <td>kim</td>\n",
       "      <td>70</td>\n",
       "      <td>85</td>\n",
       "      <td>80</td>\n",
       "    </tr>\n",
       "    <tr>\n",
       "      <th>two</th>\n",
       "      <td>lee</td>\n",
       "      <td>80</td>\n",
       "      <td>75</td>\n",
       "      <td>80</td>\n",
       "    </tr>\n",
       "    <tr>\n",
       "      <th>three</th>\n",
       "      <td>park</td>\n",
       "      <td>75</td>\n",
       "      <td>92</td>\n",
       "      <td>92</td>\n",
       "    </tr>\n",
       "    <tr>\n",
       "      <th>four</th>\n",
       "      <td>choi</td>\n",
       "      <td>70</td>\n",
       "      <td>70</td>\n",
       "      <td>90</td>\n",
       "    </tr>\n",
       "    <tr>\n",
       "      <th>five</th>\n",
       "      <td>hong</td>\n",
       "      <td>75</td>\n",
       "      <td>65</td>\n",
       "      <td>70</td>\n",
       "    </tr>\n",
       "  </tbody>\n",
       "</table>\n",
       "</div>"
      ],
      "text/plain": [
       "       name kor math eng\n",
       "one     kim  70   85  80\n",
       "two     lee  80   75  80\n",
       "three  park  75   92  92\n",
       "four   choi  70   70  90\n",
       "five   hong  75   65  70"
      ]
     },
     "execution_count": 46,
     "metadata": {},
     "output_type": "execute_result"
    }
   ],
   "source": [
    "df=pd.DataFrame(data).transpose()\n",
    "df.columns=['name','kor','math','eng']\n",
    "df.index=['one','two','three','four','five']\n",
    "df"
   ]
  },
  {
   "cell_type": "code",
   "execution_count": 55,
   "id": "f24c9f69-6982-41bc-8967-f2c5d0927141",
   "metadata": {},
   "outputs": [
    {
     "data": {
      "text/plain": [
       "one      235.0\n",
       "two      235.0\n",
       "three    259.0\n",
       "four     230.0\n",
       "five     210.0\n",
       "dtype: float64"
      ]
     },
     "execution_count": 55,
     "metadata": {},
     "output_type": "execute_result"
    }
   ],
   "source": [
    "df.sum(axis=0) # 열 방향으로 모든 값이 더해짐\n",
    "df1=df.iloc[:,1:] # 두 번째 열부터 끝까지\n",
    "df1.sum(axis=1)"
   ]
  },
  {
   "cell_type": "code",
   "execution_count": 65,
   "id": "aaeaa0d4-5db9-423e-b24f-c110d9c8aa7d",
   "metadata": {},
   "outputs": [
    {
     "data": {
      "text/plain": [
       "one      78.333333\n",
       "two      78.333333\n",
       "three    86.333333\n",
       "four     76.666667\n",
       "five     70.000000\n",
       "dtype: float64"
      ]
     },
     "execution_count": 65,
     "metadata": {},
     "output_type": "execute_result"
    }
   ],
   "source": [
    "df1.mean(axis=1) # axis=0은 행, axis=1은 열 방향으로 동작한다"
   ]
  },
  {
   "cell_type": "code",
   "execution_count": 73,
   "id": "8c1e707f-0dd5-4881-a7c1-4bdfe39a70ec",
   "metadata": {},
   "outputs": [
    {
     "data": {
      "text/html": [
       "<div>\n",
       "<style scoped>\n",
       "    .dataframe tbody tr th:only-of-type {\n",
       "        vertical-align: middle;\n",
       "    }\n",
       "\n",
       "    .dataframe tbody tr th {\n",
       "        vertical-align: top;\n",
       "    }\n",
       "\n",
       "    .dataframe thead th {\n",
       "        text-align: right;\n",
       "    }\n",
       "</style>\n",
       "<table border=\"1\" class=\"dataframe\">\n",
       "  <thead>\n",
       "    <tr style=\"text-align: right;\">\n",
       "      <th></th>\n",
       "      <th>A</th>\n",
       "      <th>B</th>\n",
       "      <th>C</th>\n",
       "      <th>D</th>\n",
       "    </tr>\n",
       "  </thead>\n",
       "  <tbody>\n",
       "    <tr>\n",
       "      <th>2022-05-01</th>\n",
       "      <td>0.931715</td>\n",
       "      <td>0.051677</td>\n",
       "      <td>0.432944</td>\n",
       "      <td>0.930158</td>\n",
       "    </tr>\n",
       "    <tr>\n",
       "      <th>2022-05-02</th>\n",
       "      <td>0.419273</td>\n",
       "      <td>0.739346</td>\n",
       "      <td>0.399795</td>\n",
       "      <td>0.748746</td>\n",
       "    </tr>\n",
       "    <tr>\n",
       "      <th>2022-05-03</th>\n",
       "      <td>0.512477</td>\n",
       "      <td>0.973112</td>\n",
       "      <td>0.791416</td>\n",
       "      <td>0.914853</td>\n",
       "    </tr>\n",
       "    <tr>\n",
       "      <th>2022-05-04</th>\n",
       "      <td>0.388012</td>\n",
       "      <td>0.338207</td>\n",
       "      <td>0.414146</td>\n",
       "      <td>0.846120</td>\n",
       "    </tr>\n",
       "    <tr>\n",
       "      <th>2022-05-05</th>\n",
       "      <td>0.653913</td>\n",
       "      <td>0.598938</td>\n",
       "      <td>0.773613</td>\n",
       "      <td>0.878162</td>\n",
       "    </tr>\n",
       "    <tr>\n",
       "      <th>2022-05-06</th>\n",
       "      <td>0.403378</td>\n",
       "      <td>0.478601</td>\n",
       "      <td>0.575134</td>\n",
       "      <td>0.064201</td>\n",
       "    </tr>\n",
       "  </tbody>\n",
       "</table>\n",
       "</div>"
      ],
      "text/plain": [
       "                   A         B         C         D\n",
       "2022-05-01  0.931715  0.051677  0.432944  0.930158\n",
       "2022-05-02  0.419273  0.739346  0.399795  0.748746\n",
       "2022-05-03  0.512477  0.973112  0.791416  0.914853\n",
       "2022-05-04  0.388012  0.338207  0.414146  0.846120\n",
       "2022-05-05  0.653913  0.598938  0.773613  0.878162\n",
       "2022-05-06  0.403378  0.478601  0.575134  0.064201"
      ]
     },
     "execution_count": 73,
     "metadata": {},
     "output_type": "execute_result"
    }
   ],
   "source": [
    "# 상관관계\n",
    "\n",
    "df2=pd.DataFrame(np.random.rand(6,4), columns=['A','B','C','D'],\n",
    "                 index=pd.date_range('20220501',periods=6))\n",
    "df2"
   ]
  },
  {
   "cell_type": "code",
   "execution_count": 74,
   "id": "bd3b7a01-8e28-457e-80a7-65387e2d640a",
   "metadata": {},
   "outputs": [
    {
     "data": {
      "text/plain": [
       "-0.5348267733334925"
      ]
     },
     "execution_count": 74,
     "metadata": {},
     "output_type": "execute_result"
    }
   ],
   "source": [
    "df2.A.corr(df2.B)"
   ]
  },
  {
   "cell_type": "code",
   "execution_count": 94,
   "id": "41bdf4c4-95ac-4fae-b5af-46be0c4564b6",
   "metadata": {},
   "outputs": [
    {
     "data": {
      "text/html": [
       "<div>\n",
       "<style scoped>\n",
       "    .dataframe tbody tr th:only-of-type {\n",
       "        vertical-align: middle;\n",
       "    }\n",
       "\n",
       "    .dataframe tbody tr th {\n",
       "        vertical-align: top;\n",
       "    }\n",
       "\n",
       "    .dataframe thead th {\n",
       "        text-align: right;\n",
       "    }\n",
       "</style>\n",
       "<table border=\"1\" class=\"dataframe\">\n",
       "  <thead>\n",
       "    <tr style=\"text-align: right;\">\n",
       "      <th></th>\n",
       "      <th>b</th>\n",
       "      <th>d</th>\n",
       "      <th>e</th>\n",
       "    </tr>\n",
       "  </thead>\n",
       "  <tbody>\n",
       "    <tr>\n",
       "      <th>Seoul</th>\n",
       "      <td>1.677633</td>\n",
       "      <td>-0.267638</td>\n",
       "      <td>0.022957</td>\n",
       "    </tr>\n",
       "    <tr>\n",
       "      <th>Incheon</th>\n",
       "      <td>-0.171948</td>\n",
       "      <td>-2.559830</td>\n",
       "      <td>-1.936164</td>\n",
       "    </tr>\n",
       "    <tr>\n",
       "      <th>Busan</th>\n",
       "      <td>-0.027996</td>\n",
       "      <td>-0.793737</td>\n",
       "      <td>-0.673033</td>\n",
       "    </tr>\n",
       "    <tr>\n",
       "      <th>Daegu</th>\n",
       "      <td>0.776146</td>\n",
       "      <td>0.224824</td>\n",
       "      <td>0.510630</td>\n",
       "    </tr>\n",
       "  </tbody>\n",
       "</table>\n",
       "</div>"
      ],
      "text/plain": [
       "                b         d         e\n",
       "Seoul    1.677633 -0.267638  0.022957\n",
       "Incheon -0.171948 -2.559830 -1.936164\n",
       "Busan   -0.027996 -0.793737 -0.673033\n",
       "Daegu    0.776146  0.224824  0.510630"
      ]
     },
     "execution_count": 94,
     "metadata": {},
     "output_type": "execute_result"
    }
   ],
   "source": [
    "# 사용자 함수\n",
    "\n",
    "df1 = pd.DataFrame(np.random.randn(4,3), columns=['b','d','e'],\n",
    "                   index=['Seoul','Incheon','Busan', 'Daegu'])\n",
    "df1"
   ]
  },
  {
   "cell_type": "code",
   "execution_count": 95,
   "id": "383cea10-140e-4d04-a66a-aaf1ad656d7c",
   "metadata": {},
   "outputs": [
    {
     "data": {
      "text/plain": [
       "Seoul      1.945271\n",
       "Incheon    2.387882\n",
       "Busan      0.765741\n",
       "Daegu      0.551322\n",
       "dtype: float64"
      ]
     },
     "execution_count": 95,
     "metadata": {},
     "output_type": "execute_result"
    }
   ],
   "source": [
    "func = lambda x: x.max() - x.min()\n",
    "def func(x):\n",
    "    return x.max() - x.min()\n",
    "\n",
    "df1.apply(func,axis=0) #열방향\n",
    "df1.apply(func,axis=1) #헹방향"
   ]
  },
  {
   "cell_type": "code",
   "execution_count": 92,
   "id": "3c1165b7-c5b3-473f-991b-57f5950cc0eb",
   "metadata": {},
   "outputs": [
    {
     "name": "stdout",
     "output_type": "stream",
     "text": [
      "['Supplier Name', 'Invoice Number', 'Part Number', 'Cost', 'Purchase Date']\n",
      "['A', '001-1001', '2341', '\"$500', '000\"', '2014-01-20']\n",
      "['A', '001-1001', '5467', '500000', '2014-01-20']\n",
      "['A', '001-1001', '5407', '750000', '2014-01-20']\n",
      "['A', '001-1001', '2341', '750000', '2014-01-20']\n",
      "['B', '50-9501', '7009', '250000', '2018-01-30']\n",
      "['B', '50-9501', '7009', '250000', '2018-01-30']\n",
      "['B', '50-9505', '6650', '125000', '2017-02-03']\n",
      "['B', '50-9505', '6650', '125000', '2017-02-03']\n",
      "['C', '920-4803', '3321', '615000', '2017-02-03']\n",
      "['C', '920-4804', '3321', '615000', '2017-02-10']\n",
      "['C', '920-4805', '3321', '615000', '2017-02-17']\n",
      "['C', '920-4806', '3321', '615000', '2017-02-24']\n"
     ]
    }
   ],
   "source": [
    "# pandas 파일 처리 \n",
    "# 1. python 문법으로\n",
    "input_file=\"data/input.csv\" \n",
    "output_file=\"data/output1.csv\"\n",
    "\n",
    "with open(input_file,'r', newline='')as reader:\n",
    "    with open(output_file,'w',newline='')as writer:\n",
    "        header=reader.readline()\n",
    "        header=header.strip()\n",
    "        header_list=header.split(',')\n",
    "        print(header_list)\n",
    "        \n",
    "        writer.write(','.join(map(str,header_list))+'\\n') \n",
    "        for row in reader:\n",
    "            row=row.strip() \n",
    "            row_list=row.split(',') \n",
    "            print(row_list)\n",
    "            \n",
    "            writer.write(','.join(map(str,row_list))+'\\n')"
   ]
  },
  {
   "cell_type": "code",
   "execution_count": 90,
   "id": "e232bc1b-9a80-49ea-b92c-9bb3ec4b661a",
   "metadata": {},
   "outputs": [
    {
     "name": "stdout",
     "output_type": "stream",
     "text": [
      "   Supplier Name Invoice Number  Part Number      Cost Purchase Date\n",
      "0              A       001-1001         2341  $500,000    2014-01-20\n",
      "1              A       001-1001         5467    500000    2014-01-20\n",
      "2              A       001-1001         5407    750000    2014-01-20\n",
      "3              A       001-1001         2341    750000    2014-01-20\n",
      "4              B        50-9501         7009    250000    2018-01-30\n",
      "5              B        50-9501         7009    250000    2018-01-30\n",
      "6              B        50-9505         6650    125000    2017-02-03\n",
      "7              B        50-9505         6650    125000    2017-02-03\n",
      "8              C       920-4803         3321    615000    2017-02-03\n",
      "9              C       920-4804         3321    615000    2017-02-10\n",
      "10             C       920-4805         3321    615000    2017-02-17\n",
      "11             C       920-4806         3321    615000    2017-02-24\n"
     ]
    }
   ],
   "source": [
    "# 2. pandas로 사용 파일처리\n",
    "\n",
    "import sys\n",
    "input_file=\"data/input.csv\"\n",
    "output_file=\"data/output2.scv\"\n",
    "\n",
    "# csv 파일을 읽어서 데이터프레임 양식으로 저장\n",
    "data_frame=pd.read_csv(input_file)\n",
    "print(data_frame)\n",
    "\n",
    "# 데이터프레임 데이터를 csv로 저장\n",
    "data_frame.to_csv(output_file,index=False) # 저장시 인덱스는 사용하지 않아도 됨"
   ]
  },
  {
   "cell_type": "code",
   "execution_count": 108,
   "id": "ca8485f4-22fd-42f9-a6be-88cc9f2183d6",
   "metadata": {},
   "outputs": [
    {
     "name": "stdout",
     "output_type": "stream",
     "text": [
      "['Supplier Name', 'Invoice Number', 'Part Number', 'Cost', 'Purchase Date']\n",
      "['A', '001-1001', '2341', '$500,000', '2014-01-20']\n",
      "['A', '001-1001', '5467', '500000', '2014-01-20']\n",
      "['A', '001-1001', '5407', '750000', '2014-01-20']\n",
      "['A', '001-1001', '2341', '750000', '2014-01-20']\n",
      "['B', '50-9501', '7009', '250000', '2018-01-30']\n",
      "['B', '50-9501', '7009', '250000', '2018-01-30']\n",
      "['B', '50-9505', '6650', '125000', '2017-02-03']\n",
      "['B', '50-9505', '6650', '125000', '2017-02-03']\n",
      "['C', '920-4803', '3321', '615000', '2017-02-03']\n",
      "['C', '920-4804', '3321', '615000', '2017-02-10']\n",
      "['C', '920-4805', '3321', '615000', '2017-02-17']\n",
      "['C', '920-4806', '3321', '615000', '2017-02-24']\n"
     ]
    }
   ],
   "source": [
    "# 3. csv 내장 모듈로 파일 처리\n",
    "\n",
    "import csv \n",
    "import sys\n",
    "input_file=\"data/input.csv\" \n",
    "output_file=\"data/output3.csv\"\n",
    "with open(input_file,'r', newline='')as csv_in_file: \n",
    "    with open(output_file,'w',newline='')as csv_out_file:\n",
    "        #필드 구분자를 쉼표(,)로 설정\n",
    "        filereader=csv.reader(csv_in_file,delimiter=',') \n",
    "        filewriter=csv.writer(csv_out_file,delimiter=',')\n",
    "        for row_list in filereader: \n",
    "            print(row_list)\n",
    "            filewriter.writerow(row_list)"
   ]
  },
  {
   "cell_type": "code",
   "execution_count": 102,
   "id": "7914f971-8e68-46b3-a40c-355187218ee3",
   "metadata": {},
   "outputs": [
    {
     "name": "stdout",
     "output_type": "stream",
     "text": [
      "  Supplier Name Invoice Number  Part Number      Cost Purchase Date\n",
      "2             A       001-1001         5407  750000.0    2014-01-20\n",
      "3             A       001-1001         2341  750000.0    2014-01-20\n"
     ]
    }
   ],
   "source": [
    "# 추가: pandas로 파일 정제 및 전처리\n",
    "\n",
    "import sys\n",
    "input_file=\"data/input.csv\"\n",
    "output_file=\"data/output4.scv\"\n",
    "\n",
    "# csv 파일을 읽어서 데이터프레임 양식으로 저장\n",
    "df=pd.read_csv(input_file)\n",
    "df['Cost']=df['Cost'].str.strip('$').str.replace(',','').astype(float) \n",
    "# $ ,문자 잘라냄 -> 데이터타입을 float으로 변경\n",
    "\n",
    "result=df.loc[(df['Supplier Name']=='A') & (df['Cost']>600000),:]\n",
    "print(result)\n",
    "\n",
    "# 데이터프레임 데이터를 csv로 저장\n",
    "result.to_csv(output_file, index=False) # 저장시 인덱스는 사용하지 않아도 됨"
   ]
  },
  {
   "cell_type": "code",
   "execution_count": 105,
   "id": "ea32880b-96cb-483b-b321-0caf0093d763",
   "metadata": {},
   "outputs": [
    {
     "name": "stdout",
     "output_type": "stream",
     "text": [
      "   Supplier Name Invoice Number  Part Number      Cost Purchase Date\n",
      "0              A       001-1001         2341  500000.0    2014-01-20\n",
      "1              A       001-1001         5467  500000.0    2014-01-20\n",
      "8              C       920-4803         3321  615000.0    2017-02-03\n",
      "9              C       920-4804         3321  615000.0    2017-02-10\n",
      "10             C       920-4805         3321  615000.0    2017-02-17\n",
      "11             C       920-4806         3321  615000.0    2017-02-24\n"
     ]
    }
   ],
   "source": [
    "# Cost 500000이상, 700000 미만인 데이터는?\n",
    "\n",
    "result2=df.loc[(df['Cost']>=500000) & (df['Cost']<700000),:]\n",
    "print(result2)"
   ]
  }
 ],
 "metadata": {
  "kernelspec": {
   "display_name": "Python 3 (ipykernel)",
   "language": "python",
   "name": "python3"
  },
  "language_info": {
   "codemirror_mode": {
    "name": "ipython",
    "version": 3
   },
   "file_extension": ".py",
   "mimetype": "text/x-python",
   "name": "python",
   "nbconvert_exporter": "python",
   "pygments_lexer": "ipython3",
   "version": "3.9.12"
  }
 },
 "nbformat": 4,
 "nbformat_minor": 5
}
