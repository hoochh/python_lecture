{
 "cells": [
  {
   "cell_type": "code",
   "execution_count": 2,
   "id": "ad39900c-f8c8-4f49-ac13-fd2bdf41a784",
   "metadata": {},
   "outputs": [],
   "source": [
    "#라이브러리 임포트\n",
    "import numpy as np\n",
    "import pandas as pd"
   ]
  },
  {
   "cell_type": "code",
   "execution_count": 7,
   "id": "a28442c9-8c50-4d4d-a597-5ec33ec3e0a0",
   "metadata": {},
   "outputs": [
    {
     "name": "stdout",
     "output_type": "stream",
     "text": [
      "Index(['a', 'b', 'c', 'd', 'e'], dtype='object')\n",
      "[4 7 8 9 6]\n",
      "int64\n",
      "a    4\n",
      "b    7\n",
      "c    8\n",
      "d    9\n",
      "e    6\n",
      "dtype: int64\n"
     ]
    }
   ],
   "source": [
    "a=[4,7,8,9,6]\n",
    "x=pd.Series(a,index=['a','b','c','d','e'])\n",
    "print(x.index)\n",
    "print(x.values)\n",
    "print(x.dtype) # 기본적으로 int64형을 씀(long형)\n",
    "print(x)"
   ]
  },
  {
   "cell_type": "code",
   "execution_count": 14,
   "id": "fca1e255-f34b-4787-895d-6d1d1d9cd4ba",
   "metadata": {},
   "outputs": [
    {
     "name": "stdout",
     "output_type": "stream",
     "text": [
      "Index(['홍길동', '김승현', '박정현', 'lee'], dtype='object')\n",
      "[70 87 85 80]\n",
      "hong    70\n",
      "kim     87\n",
      "park    85\n",
      "lee     80\n",
      "dtype: int64\n"
     ]
    }
   ],
   "source": [
    "# 딕셔너리로 시리즈 생성\n",
    "b={'홍길동':70,'김승현':87,'박정현':85, 'lee':80}\n",
    "s1=pd.Series(b)\n",
    "print(s1.index)\n",
    "print(s1.values)\n",
    "s1.index=['hong','kim','park','lee']\n",
    "print(s1)"
   ]
  },
  {
   "cell_type": "code",
   "execution_count": 18,
   "id": "e6cf2cb0-4910-43d6-8f7c-27f85861c076",
   "metadata": {},
   "outputs": [
    {
     "name": "stdout",
     "output_type": "stream",
     "text": [
      "87\n",
      "kim     87\n",
      "park    85\n",
      "dtype: int64\n",
      "hong    70\n",
      "kim     87\n",
      "park    85\n",
      "dtype: int64\n"
     ]
    }
   ],
   "source": [
    "print(s1['kim'])\n",
    "print(s1[['kim','park']]) # s1['kim','park'] 으로 찾을 수 없음 하나의 리스트로 만들어줘야 함\n",
    "print(s1['hong':'park']) # 문자로 인덱스 되었을 때, 마지막 값도 가져옴"
   ]
  },
  {
   "cell_type": "code",
   "execution_count": 24,
   "id": "9c6ea65d-d20d-4f67-8b22-1f670a2bea85",
   "metadata": {},
   "outputs": [
    {
     "name": "stdout",
     "output_type": "stream",
     "text": [
      "0    1110\n",
      "1    1220\n",
      "2    1440\n",
      "3    1330\n",
      "4    1319\n",
      "dtype: int64\n"
     ]
    }
   ],
   "source": [
    "s1=pd.Series([10,20,40,30,29])\n",
    "s2=pd.Series([100,200,400,300,290])\n",
    "s3=s1+s2\n",
    "s3\n",
    "#s1[1:3] # 숫자로 인덱스 되었을 때, 마지막 값은 가져오지 않음\n",
    "print(s3+1000)\n"
   ]
  },
  {
   "cell_type": "code",
   "execution_count": 93,
   "id": "2e386963-5b99-4452-ae45-169f89a0fc57",
   "metadata": {
    "tags": []
   },
   "outputs": [
    {
     "data": {
      "text/html": [
       "<div>\n",
       "<style scoped>\n",
       "    .dataframe tbody tr th:only-of-type {\n",
       "        vertical-align: middle;\n",
       "    }\n",
       "\n",
       "    .dataframe tbody tr th {\n",
       "        vertical-align: top;\n",
       "    }\n",
       "\n",
       "    .dataframe thead th {\n",
       "        text-align: right;\n",
       "    }\n",
       "</style>\n",
       "<table border=\"1\" class=\"dataframe\">\n",
       "  <thead>\n",
       "    <tr style=\"text-align: right;\">\n",
       "      <th></th>\n",
       "      <th>names</th>\n",
       "      <th>years</th>\n",
       "      <th>points</th>\n",
       "    </tr>\n",
       "  </thead>\n",
       "  <tbody>\n",
       "    <tr>\n",
       "      <th>0</th>\n",
       "      <td>민준</td>\n",
       "      <td>2013</td>\n",
       "      <td>1.5</td>\n",
       "    </tr>\n",
       "    <tr>\n",
       "      <th>1</th>\n",
       "      <td>현우</td>\n",
       "      <td>2014</td>\n",
       "      <td>1.7</td>\n",
       "    </tr>\n",
       "    <tr>\n",
       "      <th>2</th>\n",
       "      <td>서연</td>\n",
       "      <td>2013</td>\n",
       "      <td>3.6</td>\n",
       "    </tr>\n",
       "    <tr>\n",
       "      <th>3</th>\n",
       "      <td>동현</td>\n",
       "      <td>2015</td>\n",
       "      <td>2.4</td>\n",
       "    </tr>\n",
       "    <tr>\n",
       "      <th>4</th>\n",
       "      <td>지현</td>\n",
       "      <td>2016</td>\n",
       "      <td>2.9</td>\n",
       "    </tr>\n",
       "  </tbody>\n",
       "</table>\n",
       "</div>"
      ],
      "text/plain": [
       "  names  years  points\n",
       "0    민준   2013     1.5\n",
       "1    현우   2014     1.7\n",
       "2    서연   2013     3.6\n",
       "3    동현   2015     2.4\n",
       "4    지현   2016     2.9"
      ]
     },
     "execution_count": 93,
     "metadata": {},
     "output_type": "execute_result"
    }
   ],
   "source": [
    "# DataFrame 정의하기 : 표형테로 데이터를 저장할 수 있음\n",
    "# names, years, points 는 각각 필드명이 된다\n",
    "names=['민준','현우','서연','동현','지현']\n",
    "years=[2013,2014,2013,2015,2016]\n",
    "points=[1.5,1.7,3.6,2.4,2.9]\n",
    "data={'names':names, 'years':years, 'points':points}\n",
    "df=pd.DataFrame(data)\n",
    "df"
   ]
  },
  {
   "cell_type": "code",
   "execution_count": 99,
   "id": "8c2c111e-46aa-465c-8645-a7c9615cc5ee",
   "metadata": {},
   "outputs": [],
   "source": [
    "# 행, 열 바꾸기 1\n",
    "data=[names,years,points] # 실제로는 2차원 배열\n",
    "data\n",
    "data1=zip(data[0],data[1],data[2])"
   ]
  },
  {
   "cell_type": "code",
   "execution_count": 100,
   "id": "7edc3a87-b48a-4bc1-a004-aa1028ebbda4",
   "metadata": {},
   "outputs": [
    {
     "data": {
      "text/html": [
       "<div>\n",
       "<style scoped>\n",
       "    .dataframe tbody tr th:only-of-type {\n",
       "        vertical-align: middle;\n",
       "    }\n",
       "\n",
       "    .dataframe tbody tr th {\n",
       "        vertical-align: top;\n",
       "    }\n",
       "\n",
       "    .dataframe thead th {\n",
       "        text-align: right;\n",
       "    }\n",
       "</style>\n",
       "<table border=\"1\" class=\"dataframe\">\n",
       "  <thead>\n",
       "    <tr style=\"text-align: right;\">\n",
       "      <th></th>\n",
       "      <th>names</th>\n",
       "      <th>years</th>\n",
       "      <th>points</th>\n",
       "    </tr>\n",
       "  </thead>\n",
       "  <tbody>\n",
       "    <tr>\n",
       "      <th>one</th>\n",
       "      <td>민준</td>\n",
       "      <td>2013</td>\n",
       "      <td>1.5</td>\n",
       "    </tr>\n",
       "    <tr>\n",
       "      <th>two</th>\n",
       "      <td>현우</td>\n",
       "      <td>2014</td>\n",
       "      <td>1.7</td>\n",
       "    </tr>\n",
       "    <tr>\n",
       "      <th>three</th>\n",
       "      <td>서연</td>\n",
       "      <td>2013</td>\n",
       "      <td>3.6</td>\n",
       "    </tr>\n",
       "    <tr>\n",
       "      <th>four</th>\n",
       "      <td>동현</td>\n",
       "      <td>2015</td>\n",
       "      <td>2.4</td>\n",
       "    </tr>\n",
       "    <tr>\n",
       "      <th>five</th>\n",
       "      <td>지현</td>\n",
       "      <td>2016</td>\n",
       "      <td>2.9</td>\n",
       "    </tr>\n",
       "  </tbody>\n",
       "</table>\n",
       "</div>"
      ],
      "text/plain": [
       "      names  years  points\n",
       "one      민준   2013     1.5\n",
       "two      현우   2014     1.7\n",
       "three    서연   2013     3.6\n",
       "four     동현   2015     2.4\n",
       "five     지현   2016     2.9"
      ]
     },
     "execution_count": 100,
     "metadata": {},
     "output_type": "execute_result"
    }
   ],
   "source": [
    "df3=pd.DataFrame(data1, columns=['names','years','points'],\n",
    "                 index=['one','two','three','four','five'])\n",
    "df3 # 인덱스 지정 가능"
   ]
  },
  {
   "cell_type": "code",
   "execution_count": 129,
   "id": "b48d6de9-4b48-4313-9ed5-a6092b3d8a42",
   "metadata": {},
   "outputs": [
    {
     "data": {
      "text/html": [
       "<div>\n",
       "<style scoped>\n",
       "    .dataframe tbody tr th:only-of-type {\n",
       "        vertical-align: middle;\n",
       "    }\n",
       "\n",
       "    .dataframe tbody tr th {\n",
       "        vertical-align: top;\n",
       "    }\n",
       "\n",
       "    .dataframe thead th {\n",
       "        text-align: right;\n",
       "    }\n",
       "</style>\n",
       "<table border=\"1\" class=\"dataframe\">\n",
       "  <thead>\n",
       "    <tr style=\"text-align: right;\">\n",
       "      <th>Column_name</th>\n",
       "      <th>years</th>\n",
       "      <th>points</th>\n",
       "      <th>penalty</th>\n",
       "    </tr>\n",
       "  </thead>\n",
       "  <tbody>\n",
       "    <tr>\n",
       "      <th>count</th>\n",
       "      <td>5.00000</td>\n",
       "      <td>5.000000</td>\n",
       "      <td>5.0</td>\n",
       "    </tr>\n",
       "    <tr>\n",
       "      <th>mean</th>\n",
       "      <td>2014.20000</td>\n",
       "      <td>2.420000</td>\n",
       "      <td>0.1</td>\n",
       "    </tr>\n",
       "    <tr>\n",
       "      <th>std</th>\n",
       "      <td>1.30384</td>\n",
       "      <td>0.864292</td>\n",
       "      <td>0.0</td>\n",
       "    </tr>\n",
       "    <tr>\n",
       "      <th>min</th>\n",
       "      <td>2013.00000</td>\n",
       "      <td>1.500000</td>\n",
       "      <td>0.1</td>\n",
       "    </tr>\n",
       "    <tr>\n",
       "      <th>25%</th>\n",
       "      <td>2013.00000</td>\n",
       "      <td>1.700000</td>\n",
       "      <td>0.1</td>\n",
       "    </tr>\n",
       "    <tr>\n",
       "      <th>50%</th>\n",
       "      <td>2014.00000</td>\n",
       "      <td>2.400000</td>\n",
       "      <td>0.1</td>\n",
       "    </tr>\n",
       "    <tr>\n",
       "      <th>75%</th>\n",
       "      <td>2015.00000</td>\n",
       "      <td>2.900000</td>\n",
       "      <td>0.1</td>\n",
       "    </tr>\n",
       "    <tr>\n",
       "      <th>max</th>\n",
       "      <td>2016.00000</td>\n",
       "      <td>3.600000</td>\n",
       "      <td>0.1</td>\n",
       "    </tr>\n",
       "  </tbody>\n",
       "</table>\n",
       "</div>"
      ],
      "text/plain": [
       "Column_name       years    points  penalty\n",
       "count           5.00000  5.000000      5.0\n",
       "mean         2014.20000  2.420000      0.1\n",
       "std             1.30384  0.864292      0.0\n",
       "min          2013.00000  1.500000      0.1\n",
       "25%          2013.00000  1.700000      0.1\n",
       "50%          2014.00000  2.400000      0.1\n",
       "75%          2015.00000  2.900000      0.1\n",
       "max          2016.00000  3.600000      0.1"
      ]
     },
     "execution_count": 129,
     "metadata": {},
     "output_type": "execute_result"
    }
   ],
   "source": [
    "df3.columns.name='Column_name'\n",
    "df3.index.name='index_name'\n",
    "df3.describe()"
   ]
  },
  {
   "cell_type": "code",
   "execution_count": 70,
   "id": "4b7e015f-2741-4560-87c6-3d3140ae7861",
   "metadata": {},
   "outputs": [
    {
     "name": "stdout",
     "output_type": "stream",
     "text": [
      "Empty DataFrame\n",
      "Columns: [names, years, points]\n",
      "Index: []\n",
      "      names years points\n",
      "one      민준  2013    1.5\n",
      "two      현우  2014    1.7\n",
      "three    서연  2013    3.6\n",
      "four     동현  2015    2.4\n",
      "five     지현  2016    2.9\n"
     ]
    },
    {
     "data": {
      "text/html": [
       "<div>\n",
       "<style scoped>\n",
       "    .dataframe tbody tr th:only-of-type {\n",
       "        vertical-align: middle;\n",
       "    }\n",
       "\n",
       "    .dataframe tbody tr th {\n",
       "        vertical-align: top;\n",
       "    }\n",
       "\n",
       "    .dataframe thead th {\n",
       "        text-align: right;\n",
       "    }\n",
       "</style>\n",
       "<table border=\"1\" class=\"dataframe\">\n",
       "  <thead>\n",
       "    <tr style=\"text-align: right;\">\n",
       "      <th></th>\n",
       "      <th>names</th>\n",
       "      <th>years</th>\n",
       "      <th>points</th>\n",
       "    </tr>\n",
       "  </thead>\n",
       "  <tbody>\n",
       "    <tr>\n",
       "      <th>count</th>\n",
       "      <td>5</td>\n",
       "      <td>5</td>\n",
       "      <td>5.0</td>\n",
       "    </tr>\n",
       "    <tr>\n",
       "      <th>unique</th>\n",
       "      <td>5</td>\n",
       "      <td>4</td>\n",
       "      <td>5.0</td>\n",
       "    </tr>\n",
       "    <tr>\n",
       "      <th>top</th>\n",
       "      <td>민준</td>\n",
       "      <td>2013</td>\n",
       "      <td>1.5</td>\n",
       "    </tr>\n",
       "    <tr>\n",
       "      <th>freq</th>\n",
       "      <td>1</td>\n",
       "      <td>2</td>\n",
       "      <td>1.0</td>\n",
       "    </tr>\n",
       "  </tbody>\n",
       "</table>\n",
       "</div>"
      ],
      "text/plain": [
       "       names  years  points\n",
       "count      5      5     5.0\n",
       "unique     5      4     5.0\n",
       "top       민준   2013     1.5\n",
       "freq       1      2     1.0"
      ]
     },
     "execution_count": 70,
     "metadata": {},
     "output_type": "execute_result"
    }
   ],
   "source": [
    "# 2차원 배열로 df 생성하기\n",
    "df1=pd.DataFrame(data1,columns=['names','years','points'])\n",
    "print(df1)\n",
    "\n",
    "# 행, 열 바꾸기 2\n",
    "df2=pd.DataFrame(data).transpose()\n",
    "df2.columns=['names','years','points']\n",
    "df2.index=['one','two','three','four','five']\n",
    "print(df2)\n",
    "df2.describe()"
   ]
  },
  {
   "cell_type": "code",
   "execution_count": 74,
   "id": "5caf2b61-226a-44c7-a41f-1382234fe6fa",
   "metadata": {},
   "outputs": [],
   "source": [
    "# df3=df2[['years','points']]\n",
    "# df3"
   ]
  },
  {
   "cell_type": "code",
   "execution_count": 82,
   "id": "2bee0feb-5171-476e-aed7-4dc35c2647ff",
   "metadata": {},
   "outputs": [
    {
     "name": "stdout",
     "output_type": "stream",
     "text": [
      "one      민준\n",
      "two      현우\n",
      "three    서연\n",
      "four     동현\n",
      "five     지현\n",
      "Name: names, dtype: object\n",
      "one      민준\n",
      "two      현우\n",
      "three    서연\n",
      "four     동현\n",
      "five     지현\n",
      "Name: names, dtype: object\n",
      "one      1.5\n",
      "two      1.7\n",
      "three    3.6\n",
      "four     2.4\n",
      "five     2.9\n",
      "Name: points, dtype: float64\n",
      "      names  points\n",
      "one      민준     1.5\n",
      "two      현우     1.7\n",
      "three    서연     3.6\n",
      "four     동현     2.4\n",
      "five     지현     2.9\n"
     ]
    }
   ],
   "source": [
    "# 필드 하나의 값을 가져올 때\n",
    "print(df3['names'])\n",
    "print(df3.names)\n",
    "print(df3.points)\n",
    "\n",
    "# 여러 필드의 값을 가져올 때\n",
    "print(df3[['names','points']])"
   ]
  },
  {
   "cell_type": "code",
   "execution_count": 130,
   "id": "a6034775-0569-4000-9d04-f6bda2a3e4ee",
   "metadata": {},
   "outputs": [],
   "source": [
    "#df3['penalty']=0.5\n",
    "#df3['penalty']=[0.5,0.1,.3,3.5,.4]\n",
    "#df3.penalty=0.1 # 필드가 있는 경우 .필드명으로 접근 가능\n",
    "#df3['abc']=0.1 # 필드가 존재하지 않는 경우 값 추가하는 방법\n",
    "#df3['abc']=np.arange(5)\n",
    "#df3.abc=np.arange(5) # 필드가 생성되었으므로 .필드명으로 접근 가능\n",
    "#df3.abc\n",
    "\n",
    "# 생성된 데이터 프레임의 필드 단위로 데이터를 읽을 때 df이름.필드명 / df이름['필드명']\n",
    "# 으로 데이터를 읽을 수 있다.\n",
    "# 존재하지 않는 필드일 경우 df이름['필드명']=value으로 필드를 생성한 후 조회 가능"
   ]
  },
  {
   "cell_type": "code",
   "execution_count": null,
   "id": "3aca5770-3de1-4b25-8efb-c63642cc04a1",
   "metadata": {},
   "outputs": [],
   "source": [
    "# 필드 삭제\n",
    "#del df3['abc'];df3\n",
    "# 한 줄에 명령어를 두 개 작성하는 경우 ;으로 구분\n",
    "df3"
   ]
  },
  {
   "cell_type": "code",
   "execution_count": 141,
   "id": "ecc0def1-815d-4aa9-91a9-0033bb76f294",
   "metadata": {},
   "outputs": [
    {
     "data": {
      "text/plain": [
       "index_name\n",
       "one      1.5\n",
       "two      1.7\n",
       "three    3.6\n",
       "four     2.4\n",
       "five     2.9\n",
       "Name: points, dtype: float64"
      ]
     },
     "execution_count": 141,
     "metadata": {},
     "output_type": "execute_result"
    }
   ],
   "source": [
    "# 행 선택\n",
    "df3[0:3]\n",
    "df3['one':'three']\n",
    "\n",
    "# df3[0] 혹은 df3['one'] 으로 행을 검색하는 것은 안 됨\n",
    "\n",
    "df3.loc['one'] # loc를 붙여주어야 원하는 행만 검색 가능\n",
    "df3.loc['one':'three','names':'years']\n",
    "df3.loc[:,'points']"
   ]
  },
  {
   "cell_type": "code",
   "execution_count": 151,
   "id": "4503254b-5da0-4dec-9972-958f439c2909",
   "metadata": {},
   "outputs": [
    {
     "name": "stdout",
     "output_type": "stream",
     "text": [
      "Column_name\n",
      "names        현우\n",
      "years      2014\n",
      "points      1.7\n",
      "penalty     0.1\n",
      "Name: two, dtype: object\n",
      "Column_name names  years  points  penalty\n",
      "index_name                               \n",
      "two            현우   2014     1.7      0.1\n",
      "three          서연   2013     3.6      0.1\n",
      "four           동현   2015     2.4      0.1\n",
      "index_name\n",
      "two      1.7\n",
      "three    3.6\n",
      "four     2.4\n",
      "Name: points, dtype: float64\n",
      "index_name\n",
      "one      2013\n",
      "two      2014\n",
      "three    2013\n",
      "four     2015\n",
      "five     2016\n",
      "Name: years, dtype: int64\n",
      "Column_name  years names\n",
      "index_name              \n",
      "one           2013    민준\n",
      "two           2014    현우\n",
      "three         2013    서연\n",
      "four          2015    동현\n",
      "five          2016    지현\n",
      "Column_name  years  points  penalty\n",
      "index_name                         \n",
      "three         2013     3.6      0.1\n",
      "four          2015     2.4      0.1\n",
      "five          2016     2.9      0.1\n"
     ]
    }
   ],
   "source": [
    "#DataFrame 행 선택 및 조작\n",
    "print(df3.loc['two'])\n",
    "print(df3.loc['two':'four'])\n",
    "print(df3.loc['two':'four','points'])\n",
    "print(df3.loc[:,'years'])# == df['year']\n",
    "print(df3.loc[:,['years','names']])\n",
    "print(df3.loc['three':'five','years':'penalty'])"
   ]
  },
  {
   "cell_type": "code",
   "execution_count": 148,
   "id": "bcd0f4bd-fecc-4af7-83de-c2780bcf1c0a",
   "metadata": {},
   "outputs": [
    {
     "data": {
      "text/plain": [
       "index_name\n",
       "two      현우\n",
       "three    서연\n",
       "four     동현\n",
       "Name: names, dtype: object"
      ]
     },
     "execution_count": 148,
     "metadata": {},
     "output_type": "execute_result"
    }
   ],
   "source": [
    "# 숫자로 행 찾기\n",
    "df3.iloc[1:4,0]"
   ]
  },
  {
   "cell_type": "code",
   "execution_count": 153,
   "id": "054cdb83-c08d-4866-88d2-4726142526c8",
   "metadata": {},
   "outputs": [
    {
     "data": {
      "text/html": [
       "<div>\n",
       "<style scoped>\n",
       "    .dataframe tbody tr th:only-of-type {\n",
       "        vertical-align: middle;\n",
       "    }\n",
       "\n",
       "    .dataframe tbody tr th {\n",
       "        vertical-align: top;\n",
       "    }\n",
       "\n",
       "    .dataframe thead th {\n",
       "        text-align: right;\n",
       "    }\n",
       "</style>\n",
       "<table border=\"1\" class=\"dataframe\">\n",
       "  <thead>\n",
       "    <tr style=\"text-align: right;\">\n",
       "      <th>Column_name</th>\n",
       "      <th>names</th>\n",
       "      <th>years</th>\n",
       "      <th>points</th>\n",
       "      <th>penalty</th>\n",
       "    </tr>\n",
       "    <tr>\n",
       "      <th>index_name</th>\n",
       "      <th></th>\n",
       "      <th></th>\n",
       "      <th></th>\n",
       "      <th></th>\n",
       "    </tr>\n",
       "  </thead>\n",
       "  <tbody>\n",
       "    <tr>\n",
       "      <th>one</th>\n",
       "      <td>민준</td>\n",
       "      <td>2013.0</td>\n",
       "      <td>1.5</td>\n",
       "      <td>0.1</td>\n",
       "    </tr>\n",
       "    <tr>\n",
       "      <th>two</th>\n",
       "      <td>현우</td>\n",
       "      <td>2014.0</td>\n",
       "      <td>1.7</td>\n",
       "      <td>0.1</td>\n",
       "    </tr>\n",
       "    <tr>\n",
       "      <th>three</th>\n",
       "      <td>서연</td>\n",
       "      <td>2013.0</td>\n",
       "      <td>3.6</td>\n",
       "      <td>0.1</td>\n",
       "    </tr>\n",
       "    <tr>\n",
       "      <th>four</th>\n",
       "      <td>동현</td>\n",
       "      <td>2015.0</td>\n",
       "      <td>2.4</td>\n",
       "      <td>0.1</td>\n",
       "    </tr>\n",
       "    <tr>\n",
       "      <th>five</th>\n",
       "      <td>지현</td>\n",
       "      <td>2016.0</td>\n",
       "      <td>2.9</td>\n",
       "      <td>0.1</td>\n",
       "    </tr>\n",
       "    <tr>\n",
       "      <th>six</th>\n",
       "      <td>소윤</td>\n",
       "      <td>2017.0</td>\n",
       "      <td>4.0</td>\n",
       "      <td>2.5</td>\n",
       "    </tr>\n",
       "  </tbody>\n",
       "</table>\n",
       "</div>"
      ],
      "text/plain": [
       "Column_name names   years  points  penalty\n",
       "index_name                                \n",
       "one            민준  2013.0     1.5      0.1\n",
       "two            현우  2014.0     1.7      0.1\n",
       "three          서연  2013.0     3.6      0.1\n",
       "four           동현  2015.0     2.4      0.1\n",
       "five           지현  2016.0     2.9      0.1\n",
       "six            소윤  2017.0     4.0      2.5"
      ]
     },
     "execution_count": 153,
     "metadata": {},
     "output_type": "execute_result"
    }
   ],
   "source": [
    "# 존재하지 않는 행에 새로운 데이터를 추가\n",
    "df3.loc['six',:]=['소윤',2017,4.0,2.5];df3"
   ]
  },
  {
   "cell_type": "code",
   "execution_count": 155,
   "id": "e103cd00-e6f3-4aa5-902b-c9c55ff121c4",
   "metadata": {},
   "outputs": [
    {
     "name": "stdout",
     "output_type": "stream",
     "text": [
      "Column_name\n",
      "names          동현\n",
      "years      2015.0\n",
      "points        2.4\n",
      "penalty       0.1\n",
      "Name: four, dtype: object\n",
      "Column_name names   years\n",
      "index_name               \n",
      "four           동현  2015.0\n",
      "five           지현  2016.0\n",
      "Column_name   years  points\n",
      "index_name                 \n",
      "one          2013.0     1.5\n",
      "two          2014.0     1.7\n",
      "four         2015.0     2.4\n",
      "Column_name   years  points  penalty\n",
      "index_name                          \n",
      "one          2013.0     1.5      0.1\n",
      "two          2014.0     1.7      0.1\n",
      "three        2013.0     3.6      0.1\n",
      "four         2015.0     2.4      0.1\n",
      "five         2016.0     2.9      0.1\n",
      "six          2017.0     4.0      2.5\n",
      "2014.0\n"
     ]
    }
   ],
   "source": [
    "# iloc로 행 찾기\n",
    "print(df3.iloc[3])\n",
    "print(df3.iloc[3:5,0:2])\n",
    "print(df3.iloc[[0,1,3],[1,2]])\n",
    "print(df3.iloc[:,1:4])\n",
    "print(df3.iloc[1,1])"
   ]
  },
  {
   "cell_type": "code",
   "execution_count": 157,
   "id": "e635ab85-3dc4-46ff-9b3f-f12bd54ed27c",
   "metadata": {},
   "outputs": [
    {
     "name": "stdout",
     "output_type": "stream",
     "text": [
      "index_name\n",
      "one      False\n",
      "two      False\n",
      "three    False\n",
      "four      True\n",
      "five      True\n",
      "six       True\n",
      "Name: years, dtype: bool\n"
     ]
    }
   ],
   "source": [
    "# 조건으로 행 검색\n",
    "print(df3['years']>2014)"
   ]
  },
  {
   "cell_type": "code",
   "execution_count": 172,
   "id": "b1c08cf2-316a-4304-b342-7cafaeb04330",
   "metadata": {},
   "outputs": [
    {
     "data": {
      "text/html": [
       "<div>\n",
       "<style scoped>\n",
       "    .dataframe tbody tr th:only-of-type {\n",
       "        vertical-align: middle;\n",
       "    }\n",
       "\n",
       "    .dataframe tbody tr th {\n",
       "        vertical-align: top;\n",
       "    }\n",
       "\n",
       "    .dataframe thead th {\n",
       "        text-align: right;\n",
       "    }\n",
       "</style>\n",
       "<table border=\"1\" class=\"dataframe\">\n",
       "  <thead>\n",
       "    <tr style=\"text-align: right;\">\n",
       "      <th>Column_name</th>\n",
       "      <th>names</th>\n",
       "      <th>years</th>\n",
       "      <th>points</th>\n",
       "      <th>penalty</th>\n",
       "    </tr>\n",
       "    <tr>\n",
       "      <th>index_name</th>\n",
       "      <th></th>\n",
       "      <th></th>\n",
       "      <th></th>\n",
       "      <th></th>\n",
       "    </tr>\n",
       "  </thead>\n",
       "  <tbody>\n",
       "    <tr>\n",
       "      <th>one</th>\n",
       "      <td>민준</td>\n",
       "      <td>2013.0</td>\n",
       "      <td>1.5</td>\n",
       "      <td>0.1</td>\n",
       "    </tr>\n",
       "    <tr>\n",
       "      <th>two</th>\n",
       "      <td>현우</td>\n",
       "      <td>2014.0</td>\n",
       "      <td>1.7</td>\n",
       "      <td>0.1</td>\n",
       "    </tr>\n",
       "    <tr>\n",
       "      <th>three</th>\n",
       "      <td>서연</td>\n",
       "      <td>2013.0</td>\n",
       "      <td>3.6</td>\n",
       "      <td>0.0</td>\n",
       "    </tr>\n",
       "    <tr>\n",
       "      <th>four</th>\n",
       "      <td>동현</td>\n",
       "      <td>2015.0</td>\n",
       "      <td>2.4</td>\n",
       "      <td>0.1</td>\n",
       "    </tr>\n",
       "    <tr>\n",
       "      <th>five</th>\n",
       "      <td>지현</td>\n",
       "      <td>2016.0</td>\n",
       "      <td>2.9</td>\n",
       "      <td>0.1</td>\n",
       "    </tr>\n",
       "    <tr>\n",
       "      <th>six</th>\n",
       "      <td>소윤</td>\n",
       "      <td>2017.0</td>\n",
       "      <td>4.0</td>\n",
       "      <td>0.0</td>\n",
       "    </tr>\n",
       "  </tbody>\n",
       "</table>\n",
       "</div>"
      ],
      "text/plain": [
       "Column_name names   years  points  penalty\n",
       "index_name                                \n",
       "one            민준  2013.0     1.5      0.1\n",
       "two            현우  2014.0     1.7      0.1\n",
       "three          서연  2013.0     3.6      0.0\n",
       "four           동현  2015.0     2.4      0.1\n",
       "five           지현  2016.0     2.9      0.1\n",
       "six            소윤  2017.0     4.0      0.0"
      ]
     },
     "execution_count": 172,
     "metadata": {},
     "output_type": "execute_result"
    }
   ],
   "source": [
    "df3.loc[df3['years']>2014,:]\n",
    "df3.loc[df3.years>2014,:]\n",
    "df3.loc[df3.names=='소윤',:]\n",
    "df3.loc[(df3.points>2) & (df3.points <3),:]\n",
    "\n",
    "# 새로운 값 넣기\n",
    "df3.loc[df3.points>3,'penalty']=0 # point가 3보다 큰 penalty 값에 0 대입\n",
    "df3"
   ]
  },
  {
   "cell_type": "code",
   "execution_count": 179,
   "id": "ca0d69f9-6ad3-4751-b4ca-bbdaebd9dc49",
   "metadata": {},
   "outputs": [
    {
     "data": {
      "text/html": [
       "<div>\n",
       "<style scoped>\n",
       "    .dataframe tbody tr th:only-of-type {\n",
       "        vertical-align: middle;\n",
       "    }\n",
       "\n",
       "    .dataframe tbody tr th {\n",
       "        vertical-align: top;\n",
       "    }\n",
       "\n",
       "    .dataframe thead th {\n",
       "        text-align: right;\n",
       "    }\n",
       "</style>\n",
       "<table border=\"1\" class=\"dataframe\">\n",
       "  <thead>\n",
       "    <tr style=\"text-align: right;\">\n",
       "      <th></th>\n",
       "      <th>A</th>\n",
       "      <th>B</th>\n",
       "      <th>C</th>\n",
       "      <th>D</th>\n",
       "      <th>F</th>\n",
       "    </tr>\n",
       "  </thead>\n",
       "  <tbody>\n",
       "    <tr>\n",
       "      <th>2022-05-01</th>\n",
       "      <td>0.590249</td>\n",
       "      <td>0.738803</td>\n",
       "      <td>0.220833</td>\n",
       "      <td>0.616861</td>\n",
       "      <td>1.0</td>\n",
       "    </tr>\n",
       "    <tr>\n",
       "      <th>2022-05-02</th>\n",
       "      <td>0.410413</td>\n",
       "      <td>0.677501</td>\n",
       "      <td>0.173513</td>\n",
       "      <td>0.134729</td>\n",
       "      <td>NaN</td>\n",
       "    </tr>\n",
       "    <tr>\n",
       "      <th>2022-05-03</th>\n",
       "      <td>0.261547</td>\n",
       "      <td>0.782241</td>\n",
       "      <td>0.613744</td>\n",
       "      <td>0.794049</td>\n",
       "      <td>3.5</td>\n",
       "    </tr>\n",
       "    <tr>\n",
       "      <th>2022-05-04</th>\n",
       "      <td>0.755676</td>\n",
       "      <td>0.163997</td>\n",
       "      <td>0.974746</td>\n",
       "      <td>0.516858</td>\n",
       "      <td>6.1</td>\n",
       "    </tr>\n",
       "    <tr>\n",
       "      <th>2022-05-05</th>\n",
       "      <td>0.653996</td>\n",
       "      <td>0.138302</td>\n",
       "      <td>0.687212</td>\n",
       "      <td>0.529972</td>\n",
       "      <td>NaN</td>\n",
       "    </tr>\n",
       "    <tr>\n",
       "      <th>2022-05-06</th>\n",
       "      <td>0.455344</td>\n",
       "      <td>0.557565</td>\n",
       "      <td>0.442821</td>\n",
       "      <td>0.246410</td>\n",
       "      <td>7.0</td>\n",
       "    </tr>\n",
       "  </tbody>\n",
       "</table>\n",
       "</div>"
      ],
      "text/plain": [
       "                   A         B         C         D    F\n",
       "2022-05-01  0.590249  0.738803  0.220833  0.616861  1.0\n",
       "2022-05-02  0.410413  0.677501  0.173513  0.134729  NaN\n",
       "2022-05-03  0.261547  0.782241  0.613744  0.794049  3.5\n",
       "2022-05-04  0.755676  0.163997  0.974746  0.516858  6.1\n",
       "2022-05-05  0.653996  0.138302  0.687212  0.529972  NaN\n",
       "2022-05-06  0.455344  0.557565  0.442821  0.246410  7.0"
      ]
     },
     "execution_count": 179,
     "metadata": {},
     "output_type": "execute_result"
    }
   ],
   "source": [
    "# DateTime 자료형 indexing\n",
    "df3=pd.DataFrame(np.random.rand(6,4));df3\n",
    "df3.columns=['A','B','C','D']\n",
    "df3.index=pd.date_range('20220501', periods=6)\n",
    "df3['F']=[1.0,np.nan,3.5,6.1,np.nan,7.0];df3"
   ]
  },
  {
   "cell_type": "code",
   "execution_count": 197,
   "id": "a3124ab0-d7be-47a9-95f3-da0f56deb351",
   "metadata": {},
   "outputs": [
    {
     "data": {
      "text/html": [
       "<div>\n",
       "<style scoped>\n",
       "    .dataframe tbody tr th:only-of-type {\n",
       "        vertical-align: middle;\n",
       "    }\n",
       "\n",
       "    .dataframe tbody tr th {\n",
       "        vertical-align: top;\n",
       "    }\n",
       "\n",
       "    .dataframe thead th {\n",
       "        text-align: right;\n",
       "    }\n",
       "</style>\n",
       "<table border=\"1\" class=\"dataframe\">\n",
       "  <thead>\n",
       "    <tr style=\"text-align: right;\">\n",
       "      <th></th>\n",
       "      <th>A</th>\n",
       "      <th>B</th>\n",
       "      <th>C</th>\n",
       "      <th>D</th>\n",
       "      <th>F</th>\n",
       "    </tr>\n",
       "  </thead>\n",
       "  <tbody>\n",
       "    <tr>\n",
       "      <th>2022-05-02</th>\n",
       "      <td>0.410413</td>\n",
       "      <td>0.677501</td>\n",
       "      <td>0.173513</td>\n",
       "      <td>0.134729</td>\n",
       "      <td>NaN</td>\n",
       "    </tr>\n",
       "    <tr>\n",
       "      <th>2022-05-05</th>\n",
       "      <td>0.653996</td>\n",
       "      <td>0.138302</td>\n",
       "      <td>0.687212</td>\n",
       "      <td>0.529972</td>\n",
       "      <td>NaN</td>\n",
       "    </tr>\n",
       "  </tbody>\n",
       "</table>\n",
       "</div>"
      ],
      "text/plain": [
       "                   A         B         C         D   F\n",
       "2022-05-02  0.410413  0.677501  0.173513  0.134729 NaN\n",
       "2022-05-05  0.653996  0.138302  0.687212  0.529972 NaN"
      ]
     },
     "execution_count": 197,
     "metadata": {},
     "output_type": "execute_result"
    }
   ],
   "source": [
    "# NaN 값이 있는 행 지우기\n",
    "df3.dropna(how='all');df3 \n",
    "# df에서는 원래 df에서 데이터 삭제 불가능\n",
    "# 데이터 값을 받는 새로운 df에서만 삭제 가능\n",
    "# 원본을 남겨둠\n",
    "df4=df3.dropna(how='any');df4\n",
    "\n",
    "# NaN 값이 있는 행에 데이터 추가\n",
    "df5=df3.fillna(value=0.5);df5\n",
    "\n",
    "# NaN 값이 있는지 체크\n",
    "df3.isnull()\n",
    "df3.loc[df3.isnull()['F'],:] # F에 null이 있는 행을 추출\n",
    "# null 값이 있는 경우 데이터 분석 결과가 null이 되는 경우가 있기 때문에\n",
    "# null 값이 있는 행을 삭제하고 연산하도록 한다"
   ]
  },
  {
   "cell_type": "code",
   "execution_count": 196,
   "id": "a2eaecbf-2ed5-44e7-babe-fac6bb0e5301",
   "metadata": {},
   "outputs": [
    {
     "data": {
      "text/plain": [
       "Timestamp('2022-01-01 05:22:33')"
      ]
     },
     "execution_count": 196,
     "metadata": {},
     "output_type": "execute_result"
    }
   ],
   "source": [
    "#timestamp\n",
    "pd.to_datetime('20220101052233')"
   ]
  },
  {
   "cell_type": "code",
   "execution_count": 195,
   "id": "1282e02f-1fd7-48a4-8500-4bc506e17af4",
   "metadata": {},
   "outputs": [
    {
     "data": {
      "text/html": [
       "<div>\n",
       "<style scoped>\n",
       "    .dataframe tbody tr th:only-of-type {\n",
       "        vertical-align: middle;\n",
       "    }\n",
       "\n",
       "    .dataframe tbody tr th {\n",
       "        vertical-align: top;\n",
       "    }\n",
       "\n",
       "    .dataframe thead th {\n",
       "        text-align: right;\n",
       "    }\n",
       "</style>\n",
       "<table border=\"1\" class=\"dataframe\">\n",
       "  <thead>\n",
       "    <tr style=\"text-align: right;\">\n",
       "      <th></th>\n",
       "      <th>A</th>\n",
       "      <th>B</th>\n",
       "      <th>C</th>\n",
       "      <th>D</th>\n",
       "      <th>F</th>\n",
       "    </tr>\n",
       "  </thead>\n",
       "  <tbody>\n",
       "    <tr>\n",
       "      <th>2022-05-01</th>\n",
       "      <td>0.590249</td>\n",
       "      <td>0.738803</td>\n",
       "      <td>0.220833</td>\n",
       "      <td>0.616861</td>\n",
       "      <td>1.0</td>\n",
       "    </tr>\n",
       "    <tr>\n",
       "      <th>2022-05-02</th>\n",
       "      <td>0.410413</td>\n",
       "      <td>0.677501</td>\n",
       "      <td>0.173513</td>\n",
       "      <td>0.134729</td>\n",
       "      <td>NaN</td>\n",
       "    </tr>\n",
       "    <tr>\n",
       "      <th>2022-05-05</th>\n",
       "      <td>0.653996</td>\n",
       "      <td>0.138302</td>\n",
       "      <td>0.687212</td>\n",
       "      <td>0.529972</td>\n",
       "      <td>NaN</td>\n",
       "    </tr>\n",
       "    <tr>\n",
       "      <th>2022-05-06</th>\n",
       "      <td>0.455344</td>\n",
       "      <td>0.557565</td>\n",
       "      <td>0.442821</td>\n",
       "      <td>0.246410</td>\n",
       "      <td>7.0</td>\n",
       "    </tr>\n",
       "  </tbody>\n",
       "</table>\n",
       "</div>"
      ],
      "text/plain": [
       "                   A         B         C         D    F\n",
       "2022-05-01  0.590249  0.738803  0.220833  0.616861  1.0\n",
       "2022-05-02  0.410413  0.677501  0.173513  0.134729  NaN\n",
       "2022-05-05  0.653996  0.138302  0.687212  0.529972  NaN\n",
       "2022-05-06  0.455344  0.557565  0.442821  0.246410  7.0"
      ]
     },
     "execution_count": 195,
     "metadata": {},
     "output_type": "execute_result"
    }
   ],
   "source": [
    "# 데이터 삭제(복수의 인덱스를 사용하여)\n",
    "df4=df3.drop([pd.to_datetime('20220503'),pd.to_datetime('20220504')]);df4"
   ]
  },
  {
   "cell_type": "code",
   "execution_count": 200,
   "id": "103404ae-2b2a-402b-900a-24b40249679a",
   "metadata": {},
   "outputs": [
    {
     "data": {
      "text/html": [
       "<div>\n",
       "<style scoped>\n",
       "    .dataframe tbody tr th:only-of-type {\n",
       "        vertical-align: middle;\n",
       "    }\n",
       "\n",
       "    .dataframe tbody tr th {\n",
       "        vertical-align: top;\n",
       "    }\n",
       "\n",
       "    .dataframe thead th {\n",
       "        text-align: right;\n",
       "    }\n",
       "</style>\n",
       "<table border=\"1\" class=\"dataframe\">\n",
       "  <thead>\n",
       "    <tr style=\"text-align: right;\">\n",
       "      <th></th>\n",
       "      <th>A</th>\n",
       "      <th>B</th>\n",
       "      <th>C</th>\n",
       "    </tr>\n",
       "  </thead>\n",
       "  <tbody>\n",
       "    <tr>\n",
       "      <th>2022-05-01</th>\n",
       "      <td>0.590249</td>\n",
       "      <td>0.738803</td>\n",
       "      <td>0.220833</td>\n",
       "    </tr>\n",
       "    <tr>\n",
       "      <th>2022-05-02</th>\n",
       "      <td>0.410413</td>\n",
       "      <td>0.677501</td>\n",
       "      <td>0.173513</td>\n",
       "    </tr>\n",
       "    <tr>\n",
       "      <th>2022-05-03</th>\n",
       "      <td>0.261547</td>\n",
       "      <td>0.782241</td>\n",
       "      <td>0.613744</td>\n",
       "    </tr>\n",
       "    <tr>\n",
       "      <th>2022-05-04</th>\n",
       "      <td>0.755676</td>\n",
       "      <td>0.163997</td>\n",
       "      <td>0.974746</td>\n",
       "    </tr>\n",
       "    <tr>\n",
       "      <th>2022-05-05</th>\n",
       "      <td>0.653996</td>\n",
       "      <td>0.138302</td>\n",
       "      <td>0.687212</td>\n",
       "    </tr>\n",
       "    <tr>\n",
       "      <th>2022-05-06</th>\n",
       "      <td>0.455344</td>\n",
       "      <td>0.557565</td>\n",
       "      <td>0.442821</td>\n",
       "    </tr>\n",
       "  </tbody>\n",
       "</table>\n",
       "</div>"
      ],
      "text/plain": [
       "                   A         B         C\n",
       "2022-05-01  0.590249  0.738803  0.220833\n",
       "2022-05-02  0.410413  0.677501  0.173513\n",
       "2022-05-03  0.261547  0.782241  0.613744\n",
       "2022-05-04  0.755676  0.163997  0.974746\n",
       "2022-05-05  0.653996  0.138302  0.687212\n",
       "2022-05-06  0.455344  0.557565  0.442821"
      ]
     },
     "execution_count": 200,
     "metadata": {},
     "output_type": "execute_result"
    }
   ],
   "source": [
    "df4=df3.drop(['D','F'],axis=1);df4 # 열을 삭제할 때는 축axis를 지정해야 한다"
   ]
  },
  {
   "cell_type": "code",
   "execution_count": 201,
   "id": "37571782-df67-4d04-b1d8-224d3f47c4b9",
   "metadata": {},
   "outputs": [
    {
     "ename": "KeyError",
     "evalue": "\"['one', 'three'] not found in axis\"",
     "output_type": "error",
     "traceback": [
      "\u001b[1;31m---------------------------------------------------------------------------\u001b[0m",
      "\u001b[1;31mKeyError\u001b[0m                                  Traceback (most recent call last)",
      "Input \u001b[1;32mIn [201]\u001b[0m, in \u001b[0;36m<cell line: 1>\u001b[1;34m()\u001b[0m\n\u001b[1;32m----> 1\u001b[0m df2\u001b[38;5;241m=\u001b[39m\u001b[43mdf3\u001b[49m\u001b[38;5;241;43m.\u001b[39;49m\u001b[43mdrop\u001b[49m\u001b[43m(\u001b[49m\u001b[43m[\u001b[49m\u001b[38;5;124;43m'\u001b[39;49m\u001b[38;5;124;43mone\u001b[39;49m\u001b[38;5;124;43m'\u001b[39;49m\u001b[43m,\u001b[49m\u001b[38;5;124;43m'\u001b[39;49m\u001b[38;5;124;43mthree\u001b[39;49m\u001b[38;5;124;43m'\u001b[39;49m\u001b[43m]\u001b[49m\u001b[43m)\u001b[49m;df2\n",
      "File \u001b[1;32m~\\anaconda3\\lib\\site-packages\\pandas\\util\\_decorators.py:311\u001b[0m, in \u001b[0;36mdeprecate_nonkeyword_arguments.<locals>.decorate.<locals>.wrapper\u001b[1;34m(*args, **kwargs)\u001b[0m\n\u001b[0;32m    305\u001b[0m \u001b[38;5;28;01mif\u001b[39;00m \u001b[38;5;28mlen\u001b[39m(args) \u001b[38;5;241m>\u001b[39m num_allow_args:\n\u001b[0;32m    306\u001b[0m     warnings\u001b[38;5;241m.\u001b[39mwarn(\n\u001b[0;32m    307\u001b[0m         msg\u001b[38;5;241m.\u001b[39mformat(arguments\u001b[38;5;241m=\u001b[39marguments),\n\u001b[0;32m    308\u001b[0m         \u001b[38;5;167;01mFutureWarning\u001b[39;00m,\n\u001b[0;32m    309\u001b[0m         stacklevel\u001b[38;5;241m=\u001b[39mstacklevel,\n\u001b[0;32m    310\u001b[0m     )\n\u001b[1;32m--> 311\u001b[0m \u001b[38;5;28;01mreturn\u001b[39;00m func(\u001b[38;5;241m*\u001b[39margs, \u001b[38;5;241m*\u001b[39m\u001b[38;5;241m*\u001b[39mkwargs)\n",
      "File \u001b[1;32m~\\anaconda3\\lib\\site-packages\\pandas\\core\\frame.py:4954\u001b[0m, in \u001b[0;36mDataFrame.drop\u001b[1;34m(self, labels, axis, index, columns, level, inplace, errors)\u001b[0m\n\u001b[0;32m   4806\u001b[0m \u001b[38;5;129m@deprecate_nonkeyword_arguments\u001b[39m(version\u001b[38;5;241m=\u001b[39m\u001b[38;5;28;01mNone\u001b[39;00m, allowed_args\u001b[38;5;241m=\u001b[39m[\u001b[38;5;124m\"\u001b[39m\u001b[38;5;124mself\u001b[39m\u001b[38;5;124m\"\u001b[39m, \u001b[38;5;124m\"\u001b[39m\u001b[38;5;124mlabels\u001b[39m\u001b[38;5;124m\"\u001b[39m])\n\u001b[0;32m   4807\u001b[0m \u001b[38;5;28;01mdef\u001b[39;00m \u001b[38;5;21mdrop\u001b[39m(\n\u001b[0;32m   4808\u001b[0m     \u001b[38;5;28mself\u001b[39m,\n\u001b[1;32m   (...)\u001b[0m\n\u001b[0;32m   4815\u001b[0m     errors: \u001b[38;5;28mstr\u001b[39m \u001b[38;5;241m=\u001b[39m \u001b[38;5;124m\"\u001b[39m\u001b[38;5;124mraise\u001b[39m\u001b[38;5;124m\"\u001b[39m,\n\u001b[0;32m   4816\u001b[0m ):\n\u001b[0;32m   4817\u001b[0m     \u001b[38;5;124;03m\"\"\"\u001b[39;00m\n\u001b[0;32m   4818\u001b[0m \u001b[38;5;124;03m    Drop specified labels from rows or columns.\u001b[39;00m\n\u001b[0;32m   4819\u001b[0m \n\u001b[1;32m   (...)\u001b[0m\n\u001b[0;32m   4952\u001b[0m \u001b[38;5;124;03m            weight  1.0     0.8\u001b[39;00m\n\u001b[0;32m   4953\u001b[0m \u001b[38;5;124;03m    \"\"\"\u001b[39;00m\n\u001b[1;32m-> 4954\u001b[0m     \u001b[38;5;28;01mreturn\u001b[39;00m \u001b[38;5;28;43msuper\u001b[39;49m\u001b[43m(\u001b[49m\u001b[43m)\u001b[49m\u001b[38;5;241;43m.\u001b[39;49m\u001b[43mdrop\u001b[49m\u001b[43m(\u001b[49m\n\u001b[0;32m   4955\u001b[0m \u001b[43m        \u001b[49m\u001b[43mlabels\u001b[49m\u001b[38;5;241;43m=\u001b[39;49m\u001b[43mlabels\u001b[49m\u001b[43m,\u001b[49m\n\u001b[0;32m   4956\u001b[0m \u001b[43m        \u001b[49m\u001b[43maxis\u001b[49m\u001b[38;5;241;43m=\u001b[39;49m\u001b[43maxis\u001b[49m\u001b[43m,\u001b[49m\n\u001b[0;32m   4957\u001b[0m \u001b[43m        \u001b[49m\u001b[43mindex\u001b[49m\u001b[38;5;241;43m=\u001b[39;49m\u001b[43mindex\u001b[49m\u001b[43m,\u001b[49m\n\u001b[0;32m   4958\u001b[0m \u001b[43m        \u001b[49m\u001b[43mcolumns\u001b[49m\u001b[38;5;241;43m=\u001b[39;49m\u001b[43mcolumns\u001b[49m\u001b[43m,\u001b[49m\n\u001b[0;32m   4959\u001b[0m \u001b[43m        \u001b[49m\u001b[43mlevel\u001b[49m\u001b[38;5;241;43m=\u001b[39;49m\u001b[43mlevel\u001b[49m\u001b[43m,\u001b[49m\n\u001b[0;32m   4960\u001b[0m \u001b[43m        \u001b[49m\u001b[43minplace\u001b[49m\u001b[38;5;241;43m=\u001b[39;49m\u001b[43minplace\u001b[49m\u001b[43m,\u001b[49m\n\u001b[0;32m   4961\u001b[0m \u001b[43m        \u001b[49m\u001b[43merrors\u001b[49m\u001b[38;5;241;43m=\u001b[39;49m\u001b[43merrors\u001b[49m\u001b[43m,\u001b[49m\n\u001b[0;32m   4962\u001b[0m \u001b[43m    \u001b[49m\u001b[43m)\u001b[49m\n",
      "File \u001b[1;32m~\\anaconda3\\lib\\site-packages\\pandas\\core\\generic.py:4267\u001b[0m, in \u001b[0;36mNDFrame.drop\u001b[1;34m(self, labels, axis, index, columns, level, inplace, errors)\u001b[0m\n\u001b[0;32m   4265\u001b[0m \u001b[38;5;28;01mfor\u001b[39;00m axis, labels \u001b[38;5;129;01min\u001b[39;00m axes\u001b[38;5;241m.\u001b[39mitems():\n\u001b[0;32m   4266\u001b[0m     \u001b[38;5;28;01mif\u001b[39;00m labels \u001b[38;5;129;01mis\u001b[39;00m \u001b[38;5;129;01mnot\u001b[39;00m \u001b[38;5;28;01mNone\u001b[39;00m:\n\u001b[1;32m-> 4267\u001b[0m         obj \u001b[38;5;241m=\u001b[39m \u001b[43mobj\u001b[49m\u001b[38;5;241;43m.\u001b[39;49m\u001b[43m_drop_axis\u001b[49m\u001b[43m(\u001b[49m\u001b[43mlabels\u001b[49m\u001b[43m,\u001b[49m\u001b[43m \u001b[49m\u001b[43maxis\u001b[49m\u001b[43m,\u001b[49m\u001b[43m \u001b[49m\u001b[43mlevel\u001b[49m\u001b[38;5;241;43m=\u001b[39;49m\u001b[43mlevel\u001b[49m\u001b[43m,\u001b[49m\u001b[43m \u001b[49m\u001b[43merrors\u001b[49m\u001b[38;5;241;43m=\u001b[39;49m\u001b[43merrors\u001b[49m\u001b[43m)\u001b[49m\n\u001b[0;32m   4269\u001b[0m \u001b[38;5;28;01mif\u001b[39;00m inplace:\n\u001b[0;32m   4270\u001b[0m     \u001b[38;5;28mself\u001b[39m\u001b[38;5;241m.\u001b[39m_update_inplace(obj)\n",
      "File \u001b[1;32m~\\anaconda3\\lib\\site-packages\\pandas\\core\\generic.py:4311\u001b[0m, in \u001b[0;36mNDFrame._drop_axis\u001b[1;34m(self, labels, axis, level, errors, consolidate, only_slice)\u001b[0m\n\u001b[0;32m   4309\u001b[0m         new_axis \u001b[38;5;241m=\u001b[39m axis\u001b[38;5;241m.\u001b[39mdrop(labels, level\u001b[38;5;241m=\u001b[39mlevel, errors\u001b[38;5;241m=\u001b[39merrors)\n\u001b[0;32m   4310\u001b[0m     \u001b[38;5;28;01melse\u001b[39;00m:\n\u001b[1;32m-> 4311\u001b[0m         new_axis \u001b[38;5;241m=\u001b[39m \u001b[43maxis\u001b[49m\u001b[38;5;241;43m.\u001b[39;49m\u001b[43mdrop\u001b[49m\u001b[43m(\u001b[49m\u001b[43mlabels\u001b[49m\u001b[43m,\u001b[49m\u001b[43m \u001b[49m\u001b[43merrors\u001b[49m\u001b[38;5;241;43m=\u001b[39;49m\u001b[43merrors\u001b[49m\u001b[43m)\u001b[49m\n\u001b[0;32m   4312\u001b[0m     indexer \u001b[38;5;241m=\u001b[39m axis\u001b[38;5;241m.\u001b[39mget_indexer(new_axis)\n\u001b[0;32m   4314\u001b[0m \u001b[38;5;66;03m# Case for non-unique axis\u001b[39;00m\n\u001b[0;32m   4315\u001b[0m \u001b[38;5;28;01melse\u001b[39;00m:\n",
      "File \u001b[1;32m~\\anaconda3\\lib\\site-packages\\pandas\\core\\indexes\\base.py:6644\u001b[0m, in \u001b[0;36mIndex.drop\u001b[1;34m(self, labels, errors)\u001b[0m\n\u001b[0;32m   6642\u001b[0m \u001b[38;5;28;01mif\u001b[39;00m mask\u001b[38;5;241m.\u001b[39many():\n\u001b[0;32m   6643\u001b[0m     \u001b[38;5;28;01mif\u001b[39;00m errors \u001b[38;5;241m!=\u001b[39m \u001b[38;5;124m\"\u001b[39m\u001b[38;5;124mignore\u001b[39m\u001b[38;5;124m\"\u001b[39m:\n\u001b[1;32m-> 6644\u001b[0m         \u001b[38;5;28;01mraise\u001b[39;00m \u001b[38;5;167;01mKeyError\u001b[39;00m(\u001b[38;5;124mf\u001b[39m\u001b[38;5;124m\"\u001b[39m\u001b[38;5;132;01m{\u001b[39;00m\u001b[38;5;28mlist\u001b[39m(labels[mask])\u001b[38;5;132;01m}\u001b[39;00m\u001b[38;5;124m not found in axis\u001b[39m\u001b[38;5;124m\"\u001b[39m)\n\u001b[0;32m   6645\u001b[0m     indexer \u001b[38;5;241m=\u001b[39m indexer[\u001b[38;5;241m~\u001b[39mmask]\n\u001b[0;32m   6646\u001b[0m \u001b[38;5;28;01mreturn\u001b[39;00m \u001b[38;5;28mself\u001b[39m\u001b[38;5;241m.\u001b[39mdelete(indexer)\n",
      "\u001b[1;31mKeyError\u001b[0m: \"['one', 'three'] not found in axis\""
     ]
    }
   ],
   "source": [
    "df2=df3.drop(['one','three']);df2 # 행 삭제시에는 축axis를 지정하지 않아도 됨"
   ]
  }
 ],
 "metadata": {
  "kernelspec": {
   "display_name": "Python 3 (ipykernel)",
   "language": "python",
   "name": "python3"
  },
  "language_info": {
   "codemirror_mode": {
    "name": "ipython",
    "version": 3
   },
   "file_extension": ".py",
   "mimetype": "text/x-python",
   "name": "python",
   "nbconvert_exporter": "python",
   "pygments_lexer": "ipython3",
   "version": "3.9.12"
  }
 },
 "nbformat": 4,
 "nbformat_minor": 5
}
