{
 "cells": [
  {
   "cell_type": "code",
   "execution_count": 1,
   "id": "d3ef680c-285d-4a87-ac7c-4285c27c8d50",
   "metadata": {},
   "outputs": [],
   "source": [
    "from urllib.request import urlopen\n",
    "from bs4 import BeautifulSoup\n",
    "html='''\n",
    "<html><body>\n",
    "<ul>\n",
    "    <li><a href=\"http://naver.com\">naver</a></li>\n",
    "    <li><a href=\"http://daum.net\">daum</a></li>\n",
    "    <li><a href=\"http://nate.com\">nate</a></li>\n",
    "    <li><a href=\"http://google.com\">google</a></li>\n",
    "    <li><a href=\"http://yahoo.com\">yahoo</a></li>\n",
    "</ul>\n",
    "</body></html>\n",
    "'''"
   ]
  },
  {
   "cell_type": "code",
   "execution_count": 39,
   "id": "80f1836b-c93b-426b-b638-4031bee72151",
   "metadata": {},
   "outputs": [
    {
     "name": "stdout",
     "output_type": "stream",
     "text": [
      "[<a href=\"http://naver.com\">naver</a>, <a href=\"http://daum.net\">daum</a>, <a href=\"http://nate.com\">nate</a>, <a href=\"http://google.com\">google</a>, <a href=\"http://yahoo.com\">yahoo</a>]\n"
     ]
    }
   ],
   "source": [
    "bs = BeautifulSoup(html, 'html.parser')\n",
    "a_list=bs.find_all('a')\n",
    "print(a_list)"
   ]
  }
 ],
 "metadata": {
  "kernelspec": {
   "display_name": "Python 3 (ipykernel)",
   "language": "python",
   "name": "python3"
  },
  "language_info": {
   "codemirror_mode": {
    "name": "ipython",
    "version": 3
   },
   "file_extension": ".py",
   "mimetype": "text/x-python",
   "name": "python",
   "nbconvert_exporter": "python",
   "pygments_lexer": "ipython3",
   "version": "3.9.12"
  }
 },
 "nbformat": 4,
 "nbformat_minor": 5
}
