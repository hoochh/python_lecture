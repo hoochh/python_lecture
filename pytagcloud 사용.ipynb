{
 "cells": [
  {
   "cell_type": "markdown",
   "id": "4cda0887",
   "metadata": {},
   "source": [
    "# 다빈도 명사추출 시각화"
   ]
  },
  {
   "cell_type": "markdown",
   "id": "6efc154e",
   "metadata": {},
   "source": [
    "# 사용 모듈\n",
    "\n",
    "- KoNLPy\n",
    "- matplotlib\n",
    "- PyTagCloud\n",
    "- WordCloud"
   ]
  },
  {
   "cell_type": "markdown",
   "id": "2041c597",
   "metadata": {},
   "source": [
    "# Pytagcloud 설치 순서\n",
    "\n",
    "- pip install pygame\n",
    "- pip install pytagcloud\n",
    "- pip install simplejson"
   ]
  },
  {
   "cell_type": "code",
   "execution_count": 1,
   "id": "eca131f7",
   "metadata": {},
   "outputs": [
    {
     "name": "stdout",
     "output_type": "stream",
     "text": [
      "pygame 2.1.2 (SDL 2.0.18, Python 3.9.12)\n",
      "Hello from the pygame community. https://www.pygame.org/contribute.html\n"
     ]
    }
   ],
   "source": [
    "from collections import Counter # 단어들을 집계하기 위해서 사용\n",
    "from konlpy.tag import Okt # 형태소 분석기\n",
    "import pytagcloud #pygame 패키지에 의존적, pygame 설치 요구"
   ]
  },
  {
   "cell_type": "code",
   "execution_count": 3,
   "id": "ab191314",
   "metadata": {},
   "outputs": [
    {
     "name": "stdout",
     "output_type": "stream",
     "text": [
      "골든스테이트가 2018년 이후 첫 플레이오프 파이널 우승에 1승만 남겨 놓았다. 보스턴과의 2022년 파이널 맞대결 시리즈 5차전에서 기분 좋은 재역전승을 거뒀다. 역대 파이널 5차전 승리 팀의 최종 우승 확률이 73%. 여기에 원정 6차전을 패배하더라도 7차전은 안방 일정으로 펼쳐진다. 황금 전사 군단은 플레이오프 홈 12경기 11승 1패 승률 91.7%, 평균 득실점 마진 +12.3점을 자랑 중이다. \n",
      "\n",
      "​\n",
      "\n",
      "더욱 고무적인 소식은 *¹간판스타 스테픈 커리가 16득점(FG 7/22, 3P 0/9, FT 2/3), 8어시스트(1실책) 부진에 시달렸음에도 불구하고 재역전극 연출에 성공했다는 점이다. 앤드류 위긴스, 드레이먼드 그린, 클레이 탐슨, 조던 풀, 개리 페이튼 2세 등 나머지 동료들이 멋진 활약을 선보였다. 특히 리그 8년차 포워드 위긴스가 스티브 커 골든스테이트 감독의 소방수로 거듭났다. *²2014년 드래프트 전체 1순위 지명(by MIN) 당시 받은 기대치를 오랜 기다림 끝에 충족시켰다는 평가다. 또한, '오리지널 골든스테이트' 커리, 탐슨, 그린은 커리어 파이널 무대에서 20승을 합작해냈다. 이는 최근 50년 기준 단독 1위다(SAS 팀 던컨+마누 지노빌리+토니 파커 19승 합작). 자체 생산 삼총사의 위엄을 잘 설명해준다. \n",
      "\n",
      "​\n",
      "\n",
      "보스턴은 플레이오프 첫 연패를 겪었다. 오늘 일정 전까지 패배 후 치른 7경기 성적은 전승, 평균 득실점 마진 +14.1점. *³패배에서 늘 값진 교훈을 얻었던 팀이다. 그러나 오늘 채이스센터 원정에서는 4쿼터에 닥친 고비를 넘지 못했다. 해당 쿼터 막판 가비지 타임이 시작되기 전에 고작 14득점(같은 구간 마진 –15점)을 기록하는 데 그쳤다. 그나마 에이스 제이슨 테이텀이 3점슛 5개 포함 27득점(FG 10/20, FT 2/6), 10리바운드, 4어시스트(4실책) 동반 더블-더블을 작성하며 분전해줬다. 올해 플레이오프 단일 경기 25+득점 15회는 역대 24세 이하 기준 3위다(1위 케빈 듀란트 2012년 17회). \n",
      "\n",
      "​\n",
      "\n",
      "*¹ 스테픈 커리는 플레이오프 파이널 첫 4경기 평균 34.3득점, 야투 성공률 50.0%, 3점슛 성공률 49.0%(3PM 6.3개)를 기록했었다. 2~3옵션 클레이 탐슨과 앤드류 위긴스가 합작한 33.8득점을 넘어선 수치였다. 반면 오늘 밤에는 커리가 16득점(FG 7/22), 탐슨과 위긴스는 47득점(FG 19/37)을 합작했다. \n",
      "\n",
      "*² 앤드류 위긴스는 2020년 2월 디안젤로 러셀 트레이드를 통해 골든스테이트 선수단에 합류했다(MIN-GSW). \n",
      "\n",
      "*³ 골든스테이트 역시 플레이오프 들어 현재 시점까지 단 한 번도 연패를 겪지 않았다. \n",
      "\n",
      "​\n",
      "\n",
      "최근 50년 기준 PO 파이널 최다승 합작 트리오 \n",
      "\n",
      "1위 스테픈 커리+클레이 탐슨+드레이먼드 그린(GSW) : 20승(현재진행형)\n",
      "\n",
      "2위 팀 던컨+마누 지노빌리+토니 파커(SAS) : 19승 \n",
      "\n",
      "3위 래리 버드+케빈 맥헤일+로버트 패리쉬(BOS) : 16승 \n",
      "\n",
      "*역대 파이널 최다승 합작 트리오는 '당연히' 1950~60년대 보스턴 왕조 구성원들이다. \n",
      "\n",
      "​\n",
      "\n",
      "보스턴 PO 패배 후 경기 결과 \n",
      "\n",
      "5/2 vs MIL 12점차 패배 -> 5/4 vs MIL 13점차 승리\n",
      "\n",
      "5/8 vs MIL 2점차 패배 -> 5/10 vs MIL 8점차 승리\n",
      "\n",
      "5/12 vs MIL 3점차 패배 -> 5/14 vs MIL 13점차 승리\n",
      "\n",
      "5/18 vs MIA 11점차 패배 -> 5/20 vs MIA 25점차 승리\n",
      "\n",
      "5/22 vs MIA 6점차 패배 -> 5/24 vs MIA 20점차 승리\n",
      "\n",
      "5/28 vs MIA 8점차 패배 -> 5/30 vs MIA 4점차 승리\n",
      "\n",
      "6/6 vs GSW 19점차 패배 -> 6/9 vs GSW 16점차 승리 \n",
      "\n",
      "6/11 vs GSW 10점차 패배 -> 6/14 vs GSW 10점차 패배 \n",
      "\n",
      "​\n",
      "\n",
      "홈팀이 시리즈 내내 재미 봤던 픽&롤 플레이가 오늘 밤에도 강한 위력을 발휘했다. 1쿼터 초중반 공세 과정을 복기해보자. *¹그린, 위긴스 등 프런트코트 자원들이 하이 또는 엘보우 지역 2:2 스크린 연계에 이은 림 직접 공략 움직임을 활기차게 가져갔다. 핸드오프와 페이크 핸드오프, 픽&슬립 등 상대 수비 노림수를 우회한 다채로운 변형 플레이(split action) 역시 높은 페인트존 득점력을 약속해줬다. *²커리 방면 견제에 사활을 걸었던 원정팀 수비가 무너진 배경. 1~4차전 평균 페인트존 32.5실점(상대 FG 51.2%), 전체 실점 대비 페인트존 실점 점유율(PITP%) 30.8%가 5차전 들어 50실점(상대 FG 69.4%), PITP% 48.1%까지 무너졌다. 여러 차례 언급했듯이 골든스테이트는 결코 중장거리 지역 점프슛에만 의존하는 팀이 아니다. \n",
      "\n",
      "​\n",
      "\n",
      "상대 페인트존 공략 선봉장은 위긴스가 맡았다. 특히 곡선을 그린 오프 볼 기동 또는 드리블 전진 기반 러닝 플로터가 시원하게 림 그물을 갈랐다. 실제로 제한구역 제외 페인트존에서 시도한 야투 11개 중 9개를 적중시켰다. *³이는 그가 딥 드라이브(deep drive)가 아닌, 절정에 도달한 손끝 감각으로 로버트 윌리엄스 3세 등 상대 림 보호 자원들의 수비를 무력화했다는 의미다. 간간이 섞은 아이솔레이션 플레이와 얼리 오펜스 가담도 꽤 날카로웠다. 출전시간 43분 동안 기록한 26득점이 팀 내 1위(2위 클레이 탐슨 21점), 플레이오프 단일 경기 25+득점은 두 번째 경험이다(5/23 vs DAL 27점). \n",
      "[출처] [오늘의 NBA] 앤드류 위긴스, 골든스테이트의 소방수|작성자 염용근\n"
     ]
    }
   ],
   "source": [
    "f=open(\"data/data.txt\",encoding='utf-8')\n",
    "data=f.read()\n",
    "print(data)"
   ]
  },
  {
   "cell_type": "code",
   "execution_count": 4,
   "id": "a87c04a0",
   "metadata": {
    "collapsed": true,
    "jupyter": {
     "outputs_hidden": true
    },
    "tags": []
   },
   "outputs": [
    {
     "name": "stdout",
     "output_type": "stream",
     "text": [
      "['골든', '스테이', '트', '이후', '첫', '플레이오프', '파이널', '우승', '승만', '보스턴', '파이널', '대결', '시리즈', '기분', '재', '역전승', '역대', '파이널', '승리', '팀', '최종', '우승', '확률', '여기', '원정', '안방', '일정', '황금', '전사', '군단', '플레이오프', '홈', '경기', '승', '패', '승률', '평균', '득실', '점', '마진', '점', '자랑', '중이', '더욱', '무적인', '소식', '간판', '스타', '스테픈', '커리', '득점', '어시스트', '실책', '부진', '불구', '재', '역전', '연출', '점', '앤드류', '위긴스', '드레이먼드', '그린', '클레이', '탐슨', '조던', '풀', '개리', '페이', '세', '등', '나머지', '동료', '활약', '리그', '포워드', '위긴스', '스티브', '골든', '스테이', '트', '감독', '소방수', '거듭', '드래프트', '전체', '순위', '지명', '당시', '대치', '기다림', '끝', '충족', '평가', '또한', '리지', '널', '골든', '스테이', '트', '커리', '탐슨', '그린', '커리어', '파이널', '무대', '승', '합작', '최근', '기준', '단독', '위', '팀', '던컨', '마누', '지노', '토니', '파커', '승', '합작', '자체', '생산', '삼총사', '위엄', '설명', '보스턴', '플레이오프', '첫', '연패', '오늘', '일정', '전', '패배', '후', '경기', '성적', '전승', '평균', '득실', '점', '마진', '점', '패배', '늘', '교훈', '팀', '오늘', '채', '이스', '센터', '원정', '쿼터', '고비', '해당', '쿼터', '막판', '가비지', '타임', '시작', '전', '고작', '득점', '구간', '마진', '점', '기록', '데', '에이스', '제이슨', '테이텀', '점슛', '개', '포함', '득점', '리바운드', '어시스트', '실책', '동반', '더블', '더블', '작성', '분전', '올해', '플레이오프', '단일', '경기', '득점', '역대', '세', '이하', '기준', '위', '위', '케빈', '듀란트', '스테픈', '커리', '플레이오프', '파이널', '첫', '경기', '평균', '득점', '투', '공률', '점슛', '공률', '개', '를', '기록', '옵션', '클레이', '탐슨', '앤드류', '위긴스', '합작', '득점', '수치', '반면', '오늘', '밤', '커리', '득점', '탐슨', '위긴스', '득점', '합작', '앤드류', '위긴스', '디안', '젤로', '러셀', '트레이드', '통해', '골든', '스테이', '트', '선수단', '합류', '골든', '스테이', '트', '역시', '플레이오프', '현재', '시점', '단', '번', '연패', '최근', '기준', '파이널', '최', '승', '합작', '트리오', '위', '스테픈', '커리', '클레이', '탐슨', '드레이먼드', '그린', '승', '현재', '진행형', '위', '팀', '던컨', '마누', '지노', '토니', '파커', '승', '위', '리', '버드', '케빈', '맥', '헤일', '로버트', '패리', '쉬', '승', '역대', '파이널', '최', '승', '합작', '트리오', '보스턴', '왕조', '구성원', '보스턴', '패배', '후', '경기', '결과', '점차', '패배', '점차', '승리', '점차', '패배', '점차', '승리', '점차', '패배', '점차', '승리', '점차', '패배', '점차', '승리', '점차', '패배', '점차', '승리', '점차', '패배', '점차', '승리', '점차', '패배', '점차', '승리', '점차', '패배', '점차', '패배', '홈팀', '시리즈', '내내', '재미', '픽', '롤', '플레이', '오늘', '밤', '위력', '발휘', '쿼터', '초', '중반', '공세', '과정', '복기', '그린', '위긴스', '등', '프런트', '코트', '자원', '하이', '엘', '보우', '지역', '스크린', '계', '은', '림', '직접', '공략', '움직임', '핸드오프', '페이크', '핸드오프', '픽', '슬립', '등', '상대', '수비', '우회', '채', '변형', '플레이', '역시', '페인트', '존', '득점', '약속', '커리', '방면', '견제', '사활', '원정', '팀', '수비', '배경', '평균', '페인트', '존', '실점', '상대', '전체', '실점', '대비', '페인트', '존', '실점', '점유', '율', '실점', '상대', '여러', '차례', '언급', '골든', '스테이', '결코', '중장', '거리', '지역', '점프', '슛', '의존', '팀', '상대', '페인트', '존', '공략', '선봉', '위긴스', '곡선', '그린', '오프', '볼', '기동', '드리블', '전진', '기반', '러닝', '플로터', '림', '그물', '실제', '제한', '구역', '제외', '페인트', '존', '시도', '투', '개', '중', '개', '적중', '그', '딥', '드라이브', '절정', '도달', '손끝', '감각', '로버트', '윌리엄스', '세', '등', '상대', '림', '보호', '자원', '수비', '무력', '의미', '간간이', '아이', '솔', '레이', '션', '플레이', '펜스', '가담', '꽤', '출전', '시간', '동안', '기록', '득점', '팀', '내', '위', '위', '클레이', '탐슨', '점', '플레이오프', '단일', '경기', '득점', '두', '경험', '점', '출처', '오늘', '앤드류', '위긴스', '골든', '스테이', '트', '소방수', '작성자', '염용']\n"
     ]
    }
   ],
   "source": [
    "npl=Okt()  # 형태소 분석기 Okt 생성,Kkma, Mecab-kr, HanNum 등\n",
    "nouns=npl.nouns(data) # 형태소 분석기로 단어 추출\n",
    "print(nouns)"
   ]
  },
  {
   "cell_type": "code",
   "execution_count": 5,
   "id": "6a878c5b",
   "metadata": {
    "collapsed": true,
    "jupyter": {
     "outputs_hidden": true
    },
    "tags": []
   },
   "outputs": [
    {
     "name": "stdout",
     "output_type": "stream",
     "text": [
      "Counter({'점차': 16, '패배': 12, '득점': 11, '승리': 8, '승': 8, '점': 8, '위긴스': 8, '위': 8, '골든': 7, '스테이': 7, '플레이오프': 7, '파이널': 7, '팀': 7, '트': 6, '경기': 6, '커리': 6, '탐슨': 6, '합작': 6, '그린': 5, '오늘': 5, '상대': 5, '페인트': 5, '존': 5, '보스턴': 4, '평균': 4, '앤드류': 4, '클레이': 4, '등': 4, '개': 4, '실점': 4, '첫': 3, '역대': 3, '원정': 3, '마진': 3, '스테픈': 3, '세': 3, '기준': 3, '쿼터': 3, '기록': 3, '플레이': 3, '림': 3, '수비': 3, '우승': 2, '시리즈': 2, '재': 2, '일정': 2, '득실': 2, '어시스트': 2, '실책': 2, '드레이먼드': 2, '소방수': 2, '전체': 2, '최근': 2, '던컨': 2, '마누': 2, '지노': 2, '토니': 2, '파커': 2, '연패': 2, '전': 2, '후': 2, '채': 2, '점슛': 2, '더블': 2, '단일': 2, '케빈': 2, '투': 2, '공률': 2, '밤': 2, '역시': 2, '현재': 2, '최': 2, '트리오': 2, '로버트': 2, '픽': 2, '자원': 2, '지역': 2, '공략': 2, '핸드오프': 2, '이후': 1, '승만': 1, '대결': 1, '기분': 1, '역전승': 1, '최종': 1, '확률': 1, '여기': 1, '안방': 1, '황금': 1, '전사': 1, '군단': 1, '홈': 1, '패': 1, '승률': 1, '자랑': 1, '중이': 1, '더욱': 1, '무적인': 1, '소식': 1, '간판': 1, '스타': 1, '부진': 1, '불구': 1, '역전': 1, '연출': 1, '조던': 1, '풀': 1, '개리': 1, '페이': 1, '나머지': 1, '동료': 1, '활약': 1, '리그': 1, '포워드': 1, '스티브': 1, '감독': 1, '거듭': 1, '드래프트': 1, '순위': 1, '지명': 1, '당시': 1, '대치': 1, '기다림': 1, '끝': 1, '충족': 1, '평가': 1, '또한': 1, '리지': 1, '널': 1, '커리어': 1, '무대': 1, '단독': 1, '자체': 1, '생산': 1, '삼총사': 1, '위엄': 1, '설명': 1, '성적': 1, '전승': 1, '늘': 1, '교훈': 1, '이스': 1, '센터': 1, '고비': 1, '해당': 1, '막판': 1, '가비지': 1, '타임': 1, '시작': 1, '고작': 1, '구간': 1, '데': 1, '에이스': 1, '제이슨': 1, '테이텀': 1, '포함': 1, '리바운드': 1, '동반': 1, '작성': 1, '분전': 1, '올해': 1, '이하': 1, '듀란트': 1, '를': 1, '옵션': 1, '수치': 1, '반면': 1, '디안': 1, '젤로': 1, '러셀': 1, '트레이드': 1, '통해': 1, '선수단': 1, '합류': 1, '시점': 1, '단': 1, '번': 1, '진행형': 1, '리': 1, '버드': 1, '맥': 1, '헤일': 1, '패리': 1, '쉬': 1, '왕조': 1, '구성원': 1, '결과': 1, '홈팀': 1, '내내': 1, '재미': 1, '롤': 1, '위력': 1, '발휘': 1, '초': 1, '중반': 1, '공세': 1, '과정': 1, '복기': 1, '프런트': 1, '코트': 1, '하이': 1, '엘': 1, '보우': 1, '스크린': 1, '계': 1, '은': 1, '직접': 1, '움직임': 1, '페이크': 1, '슬립': 1, '우회': 1, '변형': 1, '약속': 1, '방면': 1, '견제': 1, '사활': 1, '배경': 1, '대비': 1, '점유': 1, '율': 1, '여러': 1, '차례': 1, '언급': 1, '결코': 1, '중장': 1, '거리': 1, '점프': 1, '슛': 1, '의존': 1, '선봉': 1, '곡선': 1, '오프': 1, '볼': 1, '기동': 1, '드리블': 1, '전진': 1, '기반': 1, '러닝': 1, '플로터': 1, '그물': 1, '실제': 1, '제한': 1, '구역': 1, '제외': 1, '시도': 1, '중': 1, '적중': 1, '그': 1, '딥': 1, '드라이브': 1, '절정': 1, '도달': 1, '손끝': 1, '감각': 1, '윌리엄스': 1, '보호': 1, '무력': 1, '의미': 1, '간간이': 1, '아이': 1, '솔': 1, '레이': 1, '션': 1, '펜스': 1, '가담': 1, '꽤': 1, '출전': 1, '시간': 1, '동안': 1, '내': 1, '두': 1, '경험': 1, '출처': 1, '작성자': 1, '염용': 1})\n"
     ]
    }
   ],
   "source": [
    "count=Counter(nouns) # 단어 집계 \n",
    "print(count)"
   ]
  },
  {
   "cell_type": "code",
   "execution_count": 6,
   "id": "70367a19",
   "metadata": {},
   "outputs": [
    {
     "name": "stdout",
     "output_type": "stream",
     "text": [
      "[{'color': (14, 88, 14), 'size': 106, 'tag': '점차'}, {'color': (209, 153, 11), 'size': 85, 'tag': '패배'}, {'color': (211, 36, 190), 'size': 80, 'tag': '득점'}, {'color': (177, 159, 118), 'size': 62, 'tag': '승리'}, {'color': (192, 176, 177), 'size': 62, 'tag': '승'}, {'color': (75, 28, 72), 'size': 62, 'tag': '점'}, {'color': (57, 129, 95), 'size': 62, 'tag': '위긴스'}, {'color': (123, 10, 67), 'size': 62, 'tag': '위'}, {'color': (159, 90, 104), 'size': 56, 'tag': '골든'}, {'color': (200, 212, 128), 'size': 56, 'tag': '스테이'}, {'color': (30, 63, 104), 'size': 56, 'tag': '플레이오프'}, {'color': (58, 214, 101), 'size': 56, 'tag': '파이널'}, {'color': (60, 158, 219), 'size': 56, 'tag': '팀'}, {'color': (71, 38, 32), 'size': 50, 'tag': '트'}, {'color': (168, 52, 122), 'size': 50, 'tag': '경기'}, {'color': (196, 199, 167), 'size': 50, 'tag': '커리'}, {'color': (108, 102, 18), 'size': 50, 'tag': '탐슨'}, {'color': (111, 23, 13), 'size': 50, 'tag': '합작'}, {'color': (192, 75, 192), 'size': 43, 'tag': '그린'}, {'color': (97, 140, 185), 'size': 43, 'tag': '오늘'}]\n"
     ]
    }
   ],
   "source": [
    "tag2=count.most_common(20)  # 상위 20개만 추출\n",
    "taglist=pytagcloud.make_tags(tag2,maxsize=80)  # tag2데이터로 태그 생성\n",
    "print(taglist)\n",
    "f.close()"
   ]
  },
  {
   "cell_type": "markdown",
   "id": "3fb41511",
   "metadata": {},
   "source": [
    "# WordCloud 그리기-pytagcloud"
   ]
  },
  {
   "cell_type": "markdown",
   "id": "bc9a4925",
   "metadata": {},
   "source": [
    "# pytagcloud.create_tag_image() 메서드\n",
    "\n",
    "- 워드클라우드를 이미지로 출력\n",
    "- 매개 변수\n",
    "    - 태그목록\n",
    "    - 저장될 파일명\n",
    "    - size : 캔버스 사이즈. 다음과 같이 명시합니다. size=(640,480)\n",
    "    - fontname : 글꼴 종류. 기본적으로 지원하는 글꼴의 종류\n",
    "        - Nobile, Old Standard TT, Cantarell, Reenie Beanie, Cuprum, Molengo, Neucha, Philosopher, Yanone Kaffeesatz, Cardo, Neuton, Inconsolata, Crimson Text, Josefin Sans, Droid Sans, Lobster, IM Fell DW Pica, Vollkorn, Tangerine, Coustard, PT Sans Regular\n",
    "\n",
    "    - rectangular : 워드클라우드를 사각형박스 형태로 할 건지, 원형으로 출력할 건지 명!"
   ]
  },
  {
   "cell_type": "markdown",
   "id": "ea5f5046",
   "metadata": {},
   "source": [
    "# create_tag_image(taglist, 'wordcloud.jpg', size=(900, 600), fontname='Nobile', rectangular=False)"
   ]
  },
  {
   "cell_type": "code",
   "execution_count": 6,
   "id": "286a495c",
   "metadata": {},
   "outputs": [],
   "source": [
    "pytagcloud.create_tag_image(taglist, 'wordcloud.jpg', size=(900, 600), fontname='Nobile', rectangular=False)"
   ]
  },
  {
   "cell_type": "markdown",
   "id": "248f880c",
   "metadata": {},
   "source": [
    "이미지를 열어보면 한글이 출력되지 않음"
   ]
  },
  {
   "cell_type": "markdown",
   "id": "33d2afac",
   "metadata": {},
   "source": [
    "# 한글 글꼴 설정\n",
    "- C:/anaconda3/Lib/site-packages/pytagcloud/fonts/fonts.json 열어서 다음 내용을 추가\n",
    "- C:/anaconda3/Lib/site-packages/pytagcloud/fonts에 NanumBarunGothic.ttf 파일을 다운받아 넣어준다.  "
   ]
  },
  {
   "attachments": {
    "image.png": {
     "image/png": "[encoded data removed]"
    }
   },
   "cell_type": "markdown",
   "id": "f42ca17f",
   "metadata": {},
   "source": [
    "![image.png](attachment:image.png)"
   ]
  },
  {
   "cell_type": "markdown",
   "id": "8f1e8dde",
   "metadata": {},
   "source": [
    "- 위와 같이 설정 후 jupyter notebook 새로 실행\n",
    "- Kernel-> Restart\n",
    "- create_tag_image() 함수의 fontname=‘korean’으로 변경"
   ]
  },
  {
   "cell_type": "code",
   "execution_count": 7,
   "id": "a7efa9ad",
   "metadata": {},
   "outputs": [],
   "source": [
    "pytagcloud.create_tag_image(taglist, 'wordcloud.jpg', size=(900, 600), fontname='Korean', rectangular=False)"
   ]
  }
 ],
 "metadata": {
  "kernelspec": {
   "display_name": "Python 3 (ipykernel)",
   "language": "python",
   "name": "python3"
  },
  "language_info": {
   "codemirror_mode": {
    "name": "ipython",
    "version": 3
   },
   "file_extension": ".py",
   "mimetype": "text/x-python",
   "name": "python",
   "nbconvert_exporter": "python",
   "pygments_lexer": "ipython3",
   "version": "3.9.12"
  }
 },
 "nbformat": 4,
 "nbformat_minor": 5
}
