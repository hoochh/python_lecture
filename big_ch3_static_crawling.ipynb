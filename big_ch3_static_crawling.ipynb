{
 "cells": [
  {
   "cell_type": "code",
   "execution_count": 4,
   "id": "291f81e9-9da0-4c1c-aee4-5d985c8c745c",
   "metadata": {},
   "outputs": [],
   "source": [
    "# 정적 컨텐츠를 가져오는 정적 크롤링\n",
    "# parse를 이용해 원하는 데이터만 가져오기가 가능함\n",
    "# BeautifulSoup 라이브러리 이용\n",
    "\n",
    "from bs4 import BeautifulSoup"
   ]
  },
  {
   "cell_type": "code",
   "execution_count": 15,
   "id": "b74fd079-69bc-4e80-9f74-b57d57fb6b0c",
   "metadata": {},
   "outputs": [],
   "source": [
    "html_doc = \"\"\" \n",
    "<!DOCTYPE html> \n",
    "<html>\n",
    "    <head>\n",
    "        <meta charset=\"utf-8\">\n",
    "        <title>Test BeautifulSoup</title> \n",
    "    </head>\n",
    "    <body>\n",
    "        <h1>테스트</h1>\n",
    "        <ul>\n",
    "            <li>사과</li>\n",
    "            <li>배</li>\n",
    "            <li>포도</li>\n",
    "        </ul>\n",
    "        <a href=\"http://www.naver.com\" class=\"link\">네이버</a>\n",
    "    </body>\n",
    "</html> \"\"\""
   ]
  },
  {
   "cell_type": "code",
   "execution_count": 11,
   "id": "db236467-6cb8-4c42-b046-fb970d1e34de",
   "metadata": {},
   "outputs": [
    {
     "name": "stdout",
     "output_type": "stream",
     "text": [
      "<class 'bs4.BeautifulSoup'>\n",
      "\n",
      "<!DOCTYPE html>\n",
      "\n",
      "<html>\n",
      "<head>\n",
      "<meta charset=\"utf-8\"/>\n",
      "<title>Test BeautifulSoup</title>\n",
      "</head>\n",
      "<body>\n",
      "<h1>테스트</h1>\n",
      "<a class=\"link\" href=\"http://www.naver.com\">네이버</a>\n",
      "</body>\n",
      "</html> \n"
     ]
    }
   ],
   "source": [
    "from bs4 import BeautifulSoup\n",
    "bs = BeautifulSoup(html_doc, 'html.parser')\n",
    "print(type(bs))\n",
    "print(bs)"
   ]
  },
  {
   "cell_type": "code",
   "execution_count": 4,
   "id": "2ab79257-a54f-4e67-8ae3-8fec759466cb",
   "metadata": {},
   "outputs": [
    {
     "name": "stdout",
     "output_type": "stream",
     "text": [
      "<!DOCTYPE html>\n",
      "<html>\n",
      "<head>\n",
      "<meta charset=\"utf-8\"/>\n",
      "<title>Test BeautifulSoup</title>\n",
      "</head>\n",
      "<body>\n",
      "<h1>테스트</h1>\n",
      "</body>\n",
      "</html> \n"
     ]
    }
   ],
   "source": [
    "bs1=BeautifulSoup(html_doc, 'lxml')\n",
    "print(bs1)"
   ]
  },
  {
   "cell_type": "code",
   "execution_count": 5,
   "id": "27ad2ec6-c942-469f-a7ec-3d3819587555",
   "metadata": {},
   "outputs": [
    {
     "name": "stdout",
     "output_type": "stream",
     "text": [
      "<?xml version=\"1.0\" encoding=\"utf-8\"?>\n",
      "<!DOCTYPE html>\n",
      "<html>\n",
      "<head>\n",
      "<meta charset=\"utf-8\">\n",
      "<title>Test BeautifulSoup</title>\n",
      "</meta>\n",
      "<body>\n",
      "<h1>테스트</h1>\n",
      "</body>\n",
      "</head></html>\n"
     ]
    }
   ],
   "source": [
    "bs2=BeautifulSoup(html_doc, 'lxml-xml') \n",
    "print(bs2)"
   ]
  },
  {
   "cell_type": "code",
   "execution_count": 6,
   "id": "9ba957d7-5950-414a-90f9-1678401485f7",
   "metadata": {},
   "outputs": [
    {
     "name": "stdout",
     "output_type": "stream",
     "text": [
      "<!DOCTYPE html>\n",
      "<html><head>\n",
      "        <meta charset=\"utf-8\"/>\n",
      "        <title>Test BeautifulSoup</title> \n",
      "    </head>\n",
      "    <body>\n",
      "        <h1>테스트</h1> \n",
      "    \n",
      " </body></html>\n"
     ]
    }
   ],
   "source": [
    "bs3=BeautifulSoup(html_doc, 'html5lib') # 콘솔에서 설치 필요 pip install html5lib\n",
    "print(bs3)\n",
    "# tab을 지켜서 실행됨"
   ]
  },
  {
   "cell_type": "code",
   "execution_count": 47,
   "id": "1955b967-c69b-4318-9fff-0f1ecb6f8c7e",
   "metadata": {},
   "outputs": [],
   "source": [
    "html_doc = \"\"\" \n",
    "<!DOCTYPE html> \n",
    "<html>\n",
    "    <head>\n",
    "        <meta charset=\"utf-8\">\n",
    "        <title>Test BeautifulSoup</title> \n",
    "    </head>\n",
    "    <body>\n",
    "        <h1>테스트</h1>\n",
    "        <ul>\n",
    "            <li>사과</li>\n",
    "            <li>배</li>\n",
    "            <li>포도</li>\n",
    "        </ul>\n",
    "        <a href=\"http://www.naver.com\" class=\"link\">네이버</a>\n",
    "    </body>\n",
    "</html> \"\"\""
   ]
  },
  {
   "cell_type": "code",
   "execution_count": 48,
   "id": "3485fc67-a113-45b4-8295-26b7bb94fccc",
   "metadata": {},
   "outputs": [
    {
     "name": "stdout",
     "output_type": "stream",
     "text": [
      "<class 'bs4.BeautifulSoup'>\n",
      "\n",
      "<!DOCTYPE html>\n",
      "\n",
      "<html>\n",
      "<head>\n",
      "<meta charset=\"utf-8\"/>\n",
      "<title>Test BeautifulSoup</title>\n",
      "</head>\n",
      "<body>\n",
      "<h1>테스트</h1>\n",
      "<ul>\n",
      "<li>사과</li>\n",
      "<li>배</li>\n",
      "<li>포도</li>\n",
      "</ul>\n",
      "<a class=\"link\" href=\"http://www.naver.com\">네이버</a>\n",
      "</body>\n",
      "</html> \n"
     ]
    }
   ],
   "source": [
    "from bs4 import BeautifulSoup\n",
    "bs = BeautifulSoup(html_doc, 'html.parser')\n",
    "print(type(bs))\n",
    "print(bs)"
   ]
  },
  {
   "cell_type": "code",
   "execution_count": 9,
   "id": "cdf83f32-745d-4743-963e-b2cebbf435c3",
   "metadata": {
    "tags": []
   },
   "outputs": [
    {
     "name": "stdout",
     "output_type": "stream",
     "text": [
      "<h1>테스트</h1>\n",
      "<h1>테스트</h1>\n",
      "<h1>테스트</h1>\n"
     ]
    }
   ],
   "source": [
    "# BeautifulSoup 태그 접근 방법\n",
    "print(bs.html.body.h1) # 아래와 동일\n",
    "print(bs.body.h1)\n",
    "print(bs.h1)"
   ]
  },
  {
   "cell_type": "code",
   "execution_count": 18,
   "id": "7f38f130-c9f8-4aa3-bc79-fec1c9d8cbcd",
   "metadata": {},
   "outputs": [
    {
     "name": "stdout",
     "output_type": "stream",
     "text": [
      "a\n",
      "http://www.naver.com\n",
      "{'href': 'http://www.naver.com', 'class': ['link']}\n"
     ]
    }
   ],
   "source": [
    "print(bs.a.name)\n",
    "print(bs.a['href'])\n",
    "print(bs.a.attrs)"
   ]
  },
  {
   "cell_type": "code",
   "execution_count": 22,
   "id": "e5cc9531-0342-429b-91f0-bc51d3892511",
   "metadata": {},
   "outputs": [
    {
     "name": "stdout",
     "output_type": "stream",
     "text": [
      "테스트\n",
      "테스트\n",
      "['테스트']\n",
      "<generator object Tag._all_strings at 0x00000247176C3F20>\n",
      "테스트\n"
     ]
    }
   ],
   "source": [
    "print(bs.h1.string)\n",
    "print(bs.h1.text)\n",
    "print(bs.h1.contents)\n",
    "print(bs.h1.strings)\n",
    "print(bs.h1.get_text())"
   ]
  },
  {
   "cell_type": "code",
   "execution_count": 24,
   "id": "83ddb4a2-0e59-4367-93cd-709416889e92",
   "metadata": {},
   "outputs": [
    {
     "name": "stdout",
     "output_type": "stream",
     "text": [
      "None\n",
      "\n",
      "사과\n",
      "배\n",
      "포도\n",
      "\n",
      "['\\n', <li>사과</li>, '\\n', <li>배</li>, '\\n', <li>포도</li>, '\\n']\n",
      "<generator object Tag._all_strings at 0x0000024717C9E6D0>\n",
      "\n",
      "사과\n",
      "배\n",
      "포도\n",
      "\n"
     ]
    }
   ],
   "source": [
    "print(bs.ul.string) # string은 ul의 텍스트\n",
    "print(bs.ul.text) # ul 내부의 모든 텍스트\n",
    "print(bs.ul.contents) # ul 내부의 모든 컨텐츠\n",
    "print(bs.ul.strings) # 태그 내의 strings\n",
    "print(bs.ul.get_text()) # text와 같은 결과"
   ]
  },
  {
   "cell_type": "code",
   "execution_count": 39,
   "id": "87511ed7-4a1d-43e5-9bdb-f1c99d09828b",
   "metadata": {},
   "outputs": [
    {
     "name": "stdout",
     "output_type": "stream",
     "text": [
      "<li>사과</li>\n",
      "<ul>\n",
      "<li>사과</li>\n",
      "<li>배</li>\n",
      "<li>포도</li>\n",
      "</ul>\n",
      "<list_iterator object at 0x0000024717A1CF70>\n",
      "\n",
      " <li>사과</li> \n",
      " <li>배</li> \n",
      " <li>포도</li> \n",
      " ========================\n",
      "<li>배</li>\n"
     ]
    }
   ],
   "source": [
    "print(bs.li)\n",
    "print(bs.li.parent)\n",
    "print(bs.ul.children)\n",
    "for i in bs.ul.children:\n",
    "    print(i, end=\" \")\n",
    "\n",
    "print(\"========================\")\n",
    "li1=bs.li\n",
    "li2=li1.next_sibling.next_sibling # next_sibling을 두 번 작성해주어야 함\n",
    "print(li2)"
   ]
  },
  {
   "cell_type": "code",
   "execution_count": 40,
   "id": "c164d28f-3fcb-412d-8de6-1a991ef3f01b",
   "metadata": {},
   "outputs": [],
   "source": [
    "html_doc = \"\"\" <!DOCTYPE html> <html>\n",
    "<head>\n",
    "<meta charset='utf-8'>\n",
    "<title>Test BeautifulSoup</title> </head>\n",
    "<body>\n",
    "<p align=\"center\">P태그의 컨텐트</p> <ul>\n",
    "<li>테스트1<strong>강조</strong></li> <li>테스트2</li>\n",
    "<li>테스트3</li> </ul>\n",
    "</body> </html> \"\"\""
   ]
  },
  {
   "cell_type": "code",
   "execution_count": 42,
   "id": "54ce472c-d2a3-4414-84df-afa8b453e740",
   "metadata": {},
   "outputs": [
    {
     "name": "stdout",
     "output_type": "stream",
     "text": [
      "[ string 속성  ]\n",
      "<class 'bs4.element.NavigableString'> : P태그의 컨텐트\n",
      "<class 'NoneType'> : None\n",
      "<class 'NoneType'> : None\n",
      "<class 'bs4.element.NavigableString'> : 강조\n"
     ]
    }
   ],
   "source": [
    "from bs4 import BeautifulSoup\n",
    "bs = BeautifulSoup(html_doc, 'html.parser')\n",
    "print(\"[ string 속성  ]\")\n",
    "print(type(bs.p.string), ':', bs.p.string)\n",
    "print(type(bs.ul.string), ':', bs.ul.string)\n",
    "print(type(bs.ul.li.string), ':', bs.ul.li.string)\n",
    "print(type(bs.ul.li.strong.string), ':', bs.ul.li.strong.string)"
   ]
  },
  {
   "cell_type": "code",
   "execution_count": 43,
   "id": "7fd04ec8-79da-40e5-8616-0a10ddf31a85",
   "metadata": {},
   "outputs": [
    {
     "name": "stdout",
     "output_type": "stream",
     "text": [
      "[ text 속성  ]\n",
      "<class 'str'> : P태그의 컨텐트\n",
      "<class 'str'> : \n",
      "테스트1강조 테스트2\n",
      "테스트3 \n",
      "<class 'str'> : 테스트1강조\n",
      "<class 'str'> : 강조\n"
     ]
    }
   ],
   "source": [
    "print(\"[ text 속성  ]\")\n",
    "print(type(bs.p.text), ':', bs.p.text)\n",
    "print(type(bs.ul.text), ':', bs.ul.text)\n",
    "print(type(bs.ul.li.text), ':', bs.ul.li.text)\n",
    "print(type(bs.ul.li.strong.text), ':', bs.ul.li.strong.text)"
   ]
  },
  {
   "cell_type": "code",
   "execution_count": 44,
   "id": "a2368722-beed-4a57-a04a-3c7b6e5bf833",
   "metadata": {},
   "outputs": [
    {
     "name": "stdout",
     "output_type": "stream",
     "text": [
      "[ contents 속성  ]\n",
      "<class 'list'> : ['P태그의 컨텐트']\n",
      "<class 'list'> : None\n",
      "<class 'list'> : ['테스트1', <strong>강조</strong>]\n",
      "<class 'list'> : ['강조']\n"
     ]
    }
   ],
   "source": [
    "print(\"[ contents 속성  ]\")\n",
    "print(type(bs.p.contents), ':', bs.p.contents)\n",
    "print(type(bs.ul.contents), ':', bs.ul.string)\n",
    "print(type(bs.ul.li.contents), ':', bs.ul.li.contents)\n",
    "print(type(bs.ul.li.strong.contents), ':', bs.ul.li.strong.contents)"
   ]
  },
  {
   "cell_type": "code",
   "execution_count": 45,
   "id": "228bb090-360d-4983-9b11-7022d8cb4c89",
   "metadata": {},
   "outputs": [
    {
     "name": "stdout",
     "output_type": "stream",
     "text": [
      "[ getText() 속성  ]\n",
      "<class 'str'> : P태그의 컨텐트\n",
      "<class 'method'> : \n",
      "테스트1강조 테스트2\n",
      "테스트3 \n",
      "<class 'method'> : 테스트1강조\n",
      "<class 'method'> : 강조\n"
     ]
    }
   ],
   "source": [
    "print(\"[ getText() 속성  ]\")\n",
    "print(type(bs.p.get_text()), ':', bs.p.get_text())\n",
    "print(type(bs.ul.get_text), ':', bs.ul.get_text())\n",
    "print(type(bs.ul.li.getText), ':', bs.ul.li.getText())\n",
    "print(type(bs.ul.li.strong.getText), ':', bs.ul.li.strong.getText())"
   ]
  },
  {
   "cell_type": "code",
   "execution_count": 49,
   "id": "a562f8ed-22d2-43bb-aacd-7c9c1c3a1511",
   "metadata": {},
   "outputs": [
    {
     "name": "stdout",
     "output_type": "stream",
     "text": [
      "[<li>사과</li>, <li>배</li>, <li>포도</li>]\n"
     ]
    }
   ],
   "source": [
    "li_list=bs.find_all('li')\n",
    "print(li_list)"
   ]
  },
  {
   "cell_type": "code",
   "execution_count": 50,
   "id": "423c6a52-3c1b-4223-afc7-085ec686287b",
   "metadata": {},
   "outputs": [
    {
     "name": "stdout",
     "output_type": "stream",
     "text": [
      "<li>사과</li>\n"
     ]
    }
   ],
   "source": [
    "li=bs.find(\"li\")\n",
    "print(li)"
   ]
  },
  {
   "cell_type": "code",
   "execution_count": 2,
   "id": "7ca51fcc-3362-416c-88d9-b0333f3f08a3",
   "metadata": {},
   "outputs": [],
   "source": [
    "import urllib.request as req1\n",
    "import requests as req2"
   ]
  },
  {
   "cell_type": "code",
   "execution_count": 7,
   "id": "2185140e-cbd8-4e27-a8c9-e477598d4f60",
   "metadata": {},
   "outputs": [
    {
     "name": "stdout",
     "output_type": "stream",
     "text": [
      "아수라\n",
      "5\n",
      "허약한 각본, 피만 낭자 \n",
      "보스톤 교살자\n",
      "2\n",
      "그저 그런데 평점이 왜이래???  영화제 상도하나 없구만,, \n",
      "범죄도시2\n",
      "10\n",
      "너무 재미있게 봤습니다..ㅋㅋㅋㅋ 코믹 스릴 다 갖췄어요마동석 짱 \n",
      "범죄도시2\n",
      "9\n",
      "잔인한 장면이 꽤나 많아 보기 힘들었지만...마요미 동석님과 출연진들의 열연은 좋았습니다.시간 가는줄 모르고 재미있게 봤고요..근데...15세이상 관람가이기엔 폭력적인 장면이 넘 많은듯 하여 걱정이 됩니다. \n",
      "이상한 나라의 수학자\n",
      "1\n",
      "뻔한 결말에 수준이 낮은 단발성 영화인데 최민식 배우가 억지로 끌고가는 형국. 보통 단발성 영화는 한번 보고 나면 다시 보고싶지 않아 진다. 배우에 의지해서 이 한 편을 겨우 완주했다. 최민식 배우 자체로 Q.E.D. 다른 한 편으로 누군가에겐 정말 뼈가 되는 교훈이 들어 있긴 하다. \n",
      "닥터 스트레인지: 대혼돈의 멀티버스\n",
      "1\n",
      "배우들의 연기력이 아니었다면 보지 않았을...너무 기대를 했나봅니다 \n",
      "범죄도시2\n",
      "10\n",
      "손석구 연기는 최고였습니다. \n",
      "오마주\n",
      "7\n",
      "등장인물들 모두가 힘들다, 그래도 꿈이 있다면.. \n",
      "플레이그라운드\n",
      "8\n",
      "고군분투하는 아이들, 사과하지 않는 어른들 \n",
      "그대가 조국\n",
      "10\n",
      "정말 우리들은 조국장관님 가족에게 너무 큰 빚을 지었습니다...그의 가족들이 겪었을 그 무서운 상황을 누구라도 겪을수 있는 잔인무도한 세력이검찰이고, 그 검찰들이 지금 최고 권력을 마구 휘두르고 있는 지금 이 시간누구라도 제2, 제3의 조국이 될수 있다는 점을 알아야 합니다.내게 이런 시련이 왔을때 참고 이겨낼수 있을지..조국 장관님과 정경심 교수님..그리고 그의 아들, 딸가족 모두에게 죄송한 마음을 대신 전합니다.그리고 모든 국민들이 진실의 눈을 떴으면 좋겠습니다. \n"
     ]
    }
   ],
   "source": [
    "url=\"https://movie.naver.com/movie/point/af/list.naver\"\n",
    "\n",
    "res=req1.urlopen(url)\n",
    "bs=BeautifulSoup(res, 'html.parser')\n",
    "title_list=bs.find_all(class_='title')\n",
    "for i in title_list:\n",
    "    #print(i.text.replace(\"신고\",\"\").strip()) # title 아래의 text만 출력\n",
    "    title=i.find('a').text\n",
    "    point=i.find('em').text\n",
    "    review=(i.text)\n",
    "    #print(review)\n",
    "    str1=review.split(\"\\n\\n\")\n",
    "    review=str1[2].replace(\"\\t\",\"\").replace(\"신고\",\"\").replace(\"\\n\",\"\")\n",
    "    print(title)\n",
    "    print(point)\n",
    "    print(review)"
   ]
  }
 ],
 "metadata": {
  "kernelspec": {
   "display_name": "Python 3 (ipykernel)",
   "language": "python",
   "name": "python3"
  },
  "language_info": {
   "codemirror_mode": {
    "name": "ipython",
    "version": 3
   },
   "file_extension": ".py",
   "mimetype": "text/x-python",
   "name": "python",
   "nbconvert_exporter": "python",
   "pygments_lexer": "ipython3",
   "version": "3.9.12"
  }
 },
 "nbformat": 4,
 "nbformat_minor": 5
}
