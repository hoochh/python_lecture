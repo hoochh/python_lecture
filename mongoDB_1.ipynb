{
 "cells": [
  {
   "cell_type": "code",
   "execution_count": 10,
   "id": "318cece8-ad30-4289-b72b-e21e5f87be8d",
   "metadata": {},
   "outputs": [],
   "source": [
    "# pip install pymongo 로 설치한 pymongo 불러와 MongoClient 임포트\n",
    "from pymongo import MongoClient"
   ]
  },
  {
   "cell_type": "code",
   "execution_count": 9,
   "id": "34a27fff-63fc-4751-8a44-9b806a325f38",
   "metadata": {},
   "outputs": [],
   "source": [
    "# client 객체 할당\n",
    "client=MongoClient('localhost',27017)"
   ]
  },
  {
   "cell_type": "code",
   "execution_count": 6,
   "id": "bf048e6f-b840-453c-ad32-828c5a9592f1",
   "metadata": {},
   "outputs": [],
   "source": [
    "# db 연결\n",
    "db=client['test']"
   ]
  },
  {
   "cell_type": "code",
   "execution_count": 7,
   "id": "412afb72-9f1d-480e-8242-4f27eb7d6fc7",
   "metadata": {},
   "outputs": [],
   "source": [
    "# 연결된 db 내 collection 연결\n",
    "collection=db['employees']"
   ]
  },
  {
   "cell_type": "code",
   "execution_count": 8,
   "id": "5818f1f3-1af9-4450-92ea-15f02c48b906",
   "metadata": {
    "collapsed": true,
    "jupyter": {
     "outputs_hidden": true
    },
    "tags": []
   },
   "outputs": [
    {
     "name": "stdout",
     "output_type": "stream",
     "text": [
      "{'_id': ObjectId('62a19e184c2622b8ff419e18'), 'empno': 7369.0, 'ename': 'SMITH', 'job': 'CLERK', 'manager': 'FORD', 'hiredate': '17-12-1980', 'sal': 800.0, 'deptno': 20.0}\n",
      "{'_id': ObjectId('62a19e184c2622b8ff419e19'), 'empno': 7499.0, 'ename': 'ALLEN', 'job': 'SALESMAN', 'manager': 'BLAKE', 'hiredate': '20-02-1981', 'sal': 1600.0, 'comm': 300.0, 'deptno': 30.0}\n",
      "{'_id': ObjectId('62a19e184c2622b8ff419e1a'), 'empno': 7521.0, 'ename': 'WARD', 'job': 'SALESMAN', 'manager': 'BLAKE', 'hiredate': '22-02-1981', 'sal': 1250.0, 'comm': 500.0, 'deptno': 30.0}\n",
      "{'_id': ObjectId('62a19e184c2622b8ff419e1b'), 'empno': 7566.0, 'ename': 'JONES', 'job': 'MANAGER', 'manager': 'KING', 'hiredate': '02-04-1981', 'sal': 2975.0, 'deptno': 20.0}\n",
      "{'_id': ObjectId('62a19e184c2622b8ff419e1c'), 'empno': 7654.0, 'ename': 'MARTIN', 'job': 'SALESMAN', 'manager': 'BLAKE', 'hiredate': '28-09-1981', 'sal': 1250.0, 'comm': 1400.0, 'deptno': 30.0}\n",
      "{'_id': ObjectId('62a19e184c2622b8ff419e1d'), 'empno': 7698.0, 'ename': 'BLAKE', 'job': 'MANAGER', 'manager': 'KING', 'hiredate': '01-05-1981', 'sal': 2850.0, 'deptno': 30.0}\n",
      "{'_id': ObjectId('62a19e194c2622b8ff419e1e'), 'empno': 7782.0, 'ename': 'CLARK', 'job': 'MANAGER', 'manager': 'KING', 'hiredate': '09-06-1981', 'sal': 2450.0, 'deptno': 10.0}\n",
      "{'_id': ObjectId('62a19e194c2622b8ff419e1f'), 'empno': 7788.0, 'ename': 'SCOTT', 'job': 'ANALYST', 'manager': 'JONES', 'hiredate': '13-06-1987', 'sal': 3000.0, 'deptno': 20.0}\n",
      "{'_id': ObjectId('62a19e194c2622b8ff419e20'), 'empno': 7839.0, 'ename': 'KING', 'job': 'CEO', 'manager': '', 'hiredate': '17-11-1981', 'sal': 5000.0, 'deptno': 10.0}\n",
      "{'_id': ObjectId('62a19e194c2622b8ff419e21'), 'empno': 7844.0, 'ename': 'TURNER', 'job': 'SALESMAN', 'manager': 'BLAKE', 'hiredate': '08-09-1981', 'sal': 1500.0, 'deptno': 30.0}\n",
      "{'_id': ObjectId('62a19e194c2622b8ff419e22'), 'empno': 7876.0, 'ename': 'ADAMS', 'job': 'CLERK', 'manager': 'SCOTT', 'hiredate': '13-06-1987', 'sal': 1100.0, 'deptno': 20.0}\n",
      "{'_id': ObjectId('62a19e194c2622b8ff419e23'), 'empno': 7900.0, 'ename': 'JAMES', 'job': 'CLERK', 'manager': 'BLAKE', 'hiredate': '03-12-1981', 'sal': 950.0, 'deptno': 30.0}\n",
      "{'_id': ObjectId('62a19e194c2622b8ff419e24'), 'empno': 7902.0, 'ename': 'FORD', 'job': 'ANALYST', 'manager': 'JONES', 'hiredate': '03-12-1981', 'sal': 3000.0, 'deptno': 20.0}\n",
      "{'_id': ObjectId('62a19e1a4c2622b8ff419e25'), 'empno': 7934.0, 'ename': 'CLERK', 'job': 'CLERK', 'manager': 'KING', 'hiredate': '23-01-1982', 'sal': 1300.0, 'deptno': 10.0}\n"
     ]
    }
   ],
   "source": [
    "# collection 출력\n",
    "for employee in collection.find():\n",
    "    print(employee)"
   ]
  },
  {
   "cell_type": "code",
   "execution_count": 12,
   "id": "30585d1d-a2c1-453c-93cc-700f727bc166",
   "metadata": {},
   "outputs": [],
   "source": [
    "# 데이터 insert\n",
    "emp={'eno':30,'ename':'kkk'}"
   ]
  },
  {
   "cell_type": "code",
   "execution_count": 18,
   "id": "627a57b5-8f41-4257-bcf8-00d0306e7ae1",
   "metadata": {},
   "outputs": [],
   "source": [
    "emp_list=[{'eno':40,'ename':'gggg'},\n",
    "         {'eno':50,'ename':'oooo'},\n",
    "         {'eno':60,'ename':'pppp'}]"
   ]
  },
  {
   "cell_type": "code",
   "execution_count": 13,
   "id": "d983d8c3-61ec-4680-9302-4345e155e09e",
   "metadata": {},
   "outputs": [],
   "source": [
    "# db의 emp 컬렉션을 coll에 할당\n",
    "coll=db['emp']"
   ]
  },
  {
   "cell_type": "code",
   "execution_count": 19,
   "id": "9254ecd1-29a0-4528-b9e5-fc26d78ad752",
   "metadata": {},
   "outputs": [
    {
     "data": {
      "text/plain": [
       "<pymongo.results.InsertManyResult at 0x21824a43dc0>"
      ]
     },
     "execution_count": 19,
     "metadata": {},
     "output_type": "execute_result"
    }
   ],
   "source": [
    "#coll.insert(emp)는 함수 실행 안 됨\n",
    "#여러 개 넣을 때는 insert_many()를 사용\n",
    "#coll.insert_one(emp)\n",
    "coll.insert_many(emp_list)"
   ]
  },
  {
   "cell_type": "code",
   "execution_count": 20,
   "id": "d4bdfc5a-4540-4ca6-a394-5be3620b02c7",
   "metadata": {},
   "outputs": [
    {
     "name": "stdout",
     "output_type": "stream",
     "text": [
      "{'_id': ObjectId('629ec25364304d4abd20ea30'), 'eno': 1101.0, 'fname': 'JIMMY'}\n",
      "{'_id': ObjectId('629ec26964304d4abd20ea31'), 'eno': 1101.0, 'fname': 'ADAM', 'lname': 'KROLL'}\n",
      "{'_id': ObjectId('629ec28164304d4abd20ea32'), 'eno': 1101.0, 'fname': 'SMITH', 'job': 'CLERK'}\n",
      "{'_id': ObjectId('62a1441d33fd510d172255c3'), 'empno': '1111', 'ename': 'JMJOO', 'deptno': 10.0}\n",
      "{'_id': ObjectId('62a1441d33fd510d172255c4'), 'empno': '1112', 'ename': 'JMJOO', 'deptno': 20.0}\n",
      "{'_id': ObjectId('62a1441d33fd510d172255c5'), 'empno': '1113', 'ename': 'JMJOO', 'deptno': 30.0}\n",
      "{'_id': ObjectId('62a1441e33fd510d172255c6'), 'empno': '1114', 'ename': 'JMJOO', 'deptno': 40.0}\n",
      "{'_id': ObjectId('62a1446b33fd510d172255c7'), 'empno': 1111.0, 'ename': 'JMJOO', 'job': 'MANAGER', 'sal': 1200.0, 'hiredate': datetime.datetime(2022, 6, 9, 0, 52, 59, 136000), 'deptno': 10.0}\n",
      "{'_id': ObjectId('62a1446c33fd510d172255c8'), 'empno': 2222.0, 'ename': 'JMJ', 'job': 'MANAGER', 'sal': 1200.0, 'hiredate': datetime.datetime(2022, 6, 9, 0, 53, 0, 698000), 'deptno': 40.0}\n",
      "{'_id': ObjectId('62a1451833fd510d172255ca'), 'empno': '1111', 'ename': 'JMJOO', 'deptno': 10.0}\n",
      "{'_id': ObjectId('62a2b0a9063c984bef7c9a96'), 'eno': 30, 'ename': 'kkk'}\n",
      "{'_id': ObjectId('62a2b17e063c984bef7c9a97'), 'eno': 40, 'ename': 'gggg'}\n",
      "{'_id': ObjectId('62a2b17e063c984bef7c9a98'), 'eno': 50, 'ename': 'oooo'}\n",
      "{'_id': ObjectId('62a2b17e063c984bef7c9a99'), 'eno': 60, 'ename': 'pppp'}\n"
     ]
    }
   ],
   "source": [
    "for e in coll.find():\n",
    "    print(e)"
   ]
  }
 ],
 "metadata": {
  "kernelspec": {
   "display_name": "Python 3 (ipykernel)",
   "language": "python",
   "name": "python3"
  },
  "language_info": {
   "codemirror_mode": {
    "name": "ipython",
    "version": 3
   },
   "file_extension": ".py",
   "mimetype": "text/x-python",
   "name": "python",
   "nbconvert_exporter": "python",
   "pygments_lexer": "ipython3",
   "version": "3.9.12"
  }
 },
 "nbformat": 4,
 "nbformat_minor": 5
}
