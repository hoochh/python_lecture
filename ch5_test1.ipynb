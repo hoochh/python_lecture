{
 "cells": [
  {
   "cell_type": "code",
   "execution_count": 1,
   "id": "e6047ca0-ff56-428c-940e-c2964247fdc9",
   "metadata": {},
   "outputs": [
    {
     "data": {
      "text/plain": [
       "\"Yesterday all my troubles seemed so far away Now it looks as though they're here to stay Oh, I believe in yesterday  Suddenly I'm not half the man I used to be There's a shadow hanging over me Oh, yesterday came suddenly  Why she had to go, I don't know, she wouldn't say I said something wrong, now I long for yesterday  Yesterday love was such an easy game to play Now I need a place to hide away Oh, I believe in yesterday  Why she had to go, I don't know, she wouldn't say I said something wrong, now I long for yesterday  Yesterday love was such an easy game to play Now I need a place to hide away Oh, I believe in yesterday  Mm mm mm mm mm mm mm\""
      ]
     },
     "execution_count": 1,
     "metadata": {},
     "output_type": "execute_result"
    }
   ],
   "source": [
    "from collections import Counter\n",
    "\n",
    "f=open('data/yesterday.txt','r') # r은 읽기모드로 오픈\n",
    "yesterday_lines=f.readlines()\n",
    "f.close()\n",
    "contents=\" \".join(yesterday_lines)\n",
    "contents=contents.replace(\"\\n\",\"\").replace(\".\",\"\")\n",
    "\n",
    "contents"
   ]
  },
  {
   "cell_type": "code",
   "execution_count": 3,
   "id": "6eeefa6b-82d7-45a7-8df8-bb560b912d4b",
   "metadata": {},
   "outputs": [
    {
     "name": "stdout",
     "output_type": "stream",
     "text": [
      "[0, 1, 2, 3, 4, 5, 6, 7, 8, 9]\n"
     ]
    }
   ],
   "source": [
    "# 기존 for문을 이용한 list 생성법\n",
    "result=[]\n",
    "for i in range(10):\n",
    "    result.append(i)\n",
    "    \n",
    "print(result)"
   ]
  },
  {
   "cell_type": "code",
   "execution_count": 4,
   "id": "9ad79f97-4386-43e6-b131-a0bee0c2c349",
   "metadata": {},
   "outputs": [
    {
     "name": "stdout",
     "output_type": "stream",
     "text": [
      "[0, 1, 2, 3, 4, 5, 6, 7, 8, 9]\n"
     ]
    }
   ],
   "source": [
    "# list comprehension으로 list 생성\n",
    "result=[i for i in range(10)]\n",
    "print(result)"
   ]
  },
  {
   "cell_type": "code",
   "execution_count": 10,
   "id": "ed4b2234-07eb-483e-af75-cc8ddd2d3f4a",
   "metadata": {},
   "outputs": [
    {
     "name": "stdout",
     "output_type": "stream",
     "text": [
      "[0, 2, 4, 6, 8]\n"
     ]
    }
   ],
   "source": [
    "# list comprehension 필터링 - if문\n",
    "result2=[i for i in range(10) if i%2==0]\n",
    "print(result2)"
   ]
  },
  {
   "cell_type": "code",
   "execution_count": 11,
   "id": "214f2448-5e1f-4023-b847-c0104c7f081d",
   "metadata": {},
   "outputs": [
    {
     "name": "stdout",
     "output_type": "stream",
     "text": [
      "[0, 10, 2, 10, 4, 10, 6, 10, 8, 10]\n"
     ]
    }
   ],
   "source": [
    "# list comprehension 필터링 - if-else문\n",
    "result3=[i if i%2==0 else 10 for i in range(10)]\n",
    "print(result3)"
   ]
  },
  {
   "cell_type": "code",
   "execution_count": 14,
   "id": "1971ed78-f6f0-4ca4-95bf-85f21200887a",
   "metadata": {},
   "outputs": [
    {
     "name": "stdout",
     "output_type": "stream",
     "text": [
      "['HW', 'Ho', 'Hr', 'Hl', 'Hd', 'eW', 'eo', 'er', 'el', 'ed', 'lW', 'lo', 'lr', 'll', 'ld', 'lW', 'lo', 'lr', 'll', 'ld', 'oW', 'oo', 'or', 'ol', 'od']\n"
     ]
    }
   ],
   "source": [
    "# 기존 중첩 반복문\n",
    "result4=[]\n",
    "word_1=\"Hello\"\n",
    "word_2=\"World\"\n",
    "\n",
    "for i in word_1:\n",
    "    for j in word_2:\n",
    "        result4.append(i+j)\n",
    "\n",
    "print(result4)"
   ]
  },
  {
   "cell_type": "code",
   "execution_count": 15,
   "id": "7cc29ab5-12e6-4b85-94a5-1f3d48ad9db3",
   "metadata": {},
   "outputs": [
    {
     "name": "stdout",
     "output_type": "stream",
     "text": [
      "['HW', 'Ho', 'Hr', 'Hl', 'Hd', 'eW', 'eo', 'er', 'el', 'ed', 'lW', 'lo', 'lr', 'll', 'ld', 'lW', 'lo', 'lr', 'll', 'ld', 'oW', 'oo', 'or', 'ol', 'od']\n"
     ]
    }
   ],
   "source": [
    "# list comprehension 중첩 반복문\n",
    "result4=[i+j for i in word_1 for j in word_2]\n",
    "print(result4)"
   ]
  },
  {
   "cell_type": "code",
   "execution_count": 19,
   "id": "ebb0b179-4026-4b26-8548-1d0a1f2cfaa9",
   "metadata": {},
   "outputs": [
    {
     "name": "stdout",
     "output_type": "stream",
     "text": [
      "['HW', 'Ho', 'Hr', 'Hl', 'Hd', 'eW', 'eo', 'er', 'el', 'ed', 'lW', 'lo', 'lr', 'ld', 'lW', 'lo', 'lr', 'ld', 'oW', 'or', 'ol', 'od']\n"
     ]
    }
   ],
   "source": [
    "result4=[]\n",
    "word_1=\"Hello\"\n",
    "word_2=\"World\"\n",
    "\n",
    "for i in word_1:\n",
    "    for j in word_2:\n",
    "        if i!=j: # 혹은 not(i==j)\n",
    "            result4.append(i+j)\n",
    "\n",
    "print(result4)"
   ]
  },
  {
   "cell_type": "code",
   "execution_count": 18,
   "id": "1d1c25f1-5a62-4600-92bf-2c860595bc9d",
   "metadata": {},
   "outputs": [
    {
     "name": "stdout",
     "output_type": "stream",
     "text": [
      "['HW', 'Ho', 'Hr', 'Hl', 'Hd', 'eW', 'eo', 'er', 'el', 'ed', 'lW', 'lo', 'lr', 'ld', 'lW', 'lo', 'lr', 'ld', 'oW', 'or', 'ol', 'od']\n"
     ]
    }
   ],
   "source": [
    "result4=[i+j for i in word_1 for j in word_2 if i!=j]\n",
    "result4=[i+j for i in word_1 for j in word_2 if not(i==j)]\n",
    "print(result4)"
   ]
  },
  {
   "cell_type": "code",
   "execution_count": 21,
   "id": "e296ebb8-a8b2-4f02-869b-37c03a778f91",
   "metadata": {},
   "outputs": [
    {
     "name": "stdout",
     "output_type": "stream",
     "text": [
      "[['HW', 'hw'], ['HO', 'ho'], ['HR', 'hr'], ['HL', 'hl'], ['HD', 'hd'], ['EW', 'ew'], ['EO', 'eo'], ['ER', 'er'], ['EL', 'el'], ['ED', 'ed'], ['LW', 'lw'], ['LO', 'lo'], ['LR', 'lr'], ['LD', 'ld'], ['LW', 'lw'], ['LO', 'lo'], ['LR', 'lr'], ['LD', 'ld'], ['OW', 'ow'], ['OR', 'or'], ['OL', 'ol'], ['OD', 'od']]\n"
     ]
    }
   ],
   "source": [
    "result4=[[(i+j).upper(), (i+j).lower()] for i in word_1 for j in word_2 if not(i==j)]\n",
    "print(result4)"
   ]
  },
  {
   "cell_type": "code",
   "execution_count": 23,
   "id": "ef31d715-bbfd-4637-87c9-ba0577507186",
   "metadata": {},
   "outputs": [
    {
     "data": {
      "text/plain": [
       "[['THE', 'the', 3],\n",
       " ['TRUE', 'true', 4],\n",
       " ['CALL', 'call', 4],\n",
       " ['TO', 'to', 2],\n",
       " ['ACTION', 'action', 6],\n",
       " ['NOW', 'now', 3],\n",
       " ['IS', 'is', 2],\n",
       " ['FOR', 'for', 3],\n",
       " ['EVERY', 'every', 5],\n",
       " ['AMERICAN', 'american', 8],\n",
       " ['TO', 'to', 2],\n",
       " ['TAKE', 'take', 4],\n",
       " ['A', 'a', 1],\n",
       " ['LONGER', 'longer', 6],\n",
       " ['AND', 'and', 3],\n",
       " ['DEEPER', 'deeper', 6],\n",
       " ['LOOK', 'look', 4],\n",
       " ['IN', 'in', 2],\n",
       " ['THE', 'the', 3],\n",
       " ['MIRROR', 'mirror', 6]]"
      ]
     },
     "execution_count": 23,
     "metadata": {},
     "output_type": "execute_result"
    }
   ],
   "source": [
    "words=\"The true call to action now is for every American to take a longer and deeper look in the mirror\".split()\n",
    "result5=[[w.upper(), w.lower(), len(w)] for w in words]\n",
    "result5"
   ]
  },
  {
   "cell_type": "code",
   "execution_count": 28,
   "id": "ea53d67c-fd5e-45ba-8d78-92b138c50831",
   "metadata": {},
   "outputs": [
    {
     "name": "stdout",
     "output_type": "stream",
     "text": [
      "(1, 10)\n",
      "(2, 20)\n",
      "(3, 30)\n",
      "(4, 40)\n"
     ]
    }
   ],
   "source": [
    "a=[1,2,3,4]\n",
    "b=[10,20,30,40] # 두 리스트의 크기가 같아야 함, 다른 경우 초과하는 부분은 잘린다\n",
    "result=zip(a,b)\n",
    "result\n",
    "for i in result:\n",
    "    print(i)"
   ]
  },
  {
   "cell_type": "code",
   "execution_count": 30,
   "id": "fc2835fa-beaf-49ec-8c9a-bc6290aff28a",
   "metadata": {},
   "outputs": [
    {
     "data": {
      "text/plain": [
       "[(1, 10), (2, 20), (3, 30), (4, 40)]"
      ]
     },
     "execution_count": 30,
     "metadata": {},
     "output_type": "execute_result"
    }
   ],
   "source": [
    "result=[i for i in zip(a,b)]\n",
    "result"
   ]
  },
  {
   "cell_type": "code",
   "execution_count": 34,
   "id": "3154cf3f-bb61-4e1d-8fb3-2f2db78e903b",
   "metadata": {},
   "outputs": [
    {
     "name": "stdout",
     "output_type": "stream",
     "text": [
      "5\n"
     ]
    }
   ],
   "source": [
    "# 람다 함수\n",
    "f=lambda x,y:x+y\n",
    "print(f(2,3))"
   ]
  },
  {
   "cell_type": "code",
   "execution_count": 32,
   "id": "820d93f0-bfe7-47a4-9b8b-12ca4006bff7",
   "metadata": {},
   "outputs": [
    {
     "name": "stdout",
     "output_type": "stream",
     "text": [
      "6\n"
     ]
    }
   ],
   "source": [
    "f=lambda x:x+1\n",
    "print(f(5))"
   ]
  },
  {
   "cell_type": "code",
   "execution_count": 33,
   "id": "1048a859-c8f8-4253-9482-8c7776e770fc",
   "metadata": {},
   "outputs": [
    {
     "name": "stdout",
     "output_type": "stream",
     "text": [
      "10\n"
     ]
    }
   ],
   "source": [
    "print((lambda x:x*2)(5))"
   ]
  }
 ],
 "metadata": {
  "kernelspec": {
   "display_name": "Python 3 (ipykernel)",
   "language": "python",
   "name": "python3"
  },
  "language_info": {
   "codemirror_mode": {
    "name": "ipython",
    "version": 3
   },
   "file_extension": ".py",
   "mimetype": "text/x-python",
   "name": "python",
   "nbconvert_exporter": "python",
   "pygments_lexer": "ipython3",
   "version": "3.9.12"
  }
 },
 "nbformat": 4,
 "nbformat_minor": 5
}
